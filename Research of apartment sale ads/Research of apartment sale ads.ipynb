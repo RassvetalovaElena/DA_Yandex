{
  "cells": [
    {
      "cell_type": "markdown",
      "metadata": {
        "id": "NYTLCE23vUdM"
      },
      "source": [
        "# Исследование объявлений о продаже квартир\n",
        "\n",
        "В вашем распоряжении данные сервиса Яндекс.Недвижимость — архив объявлений о продаже квартир в Санкт-Петербурге и соседних населённых пунктов за несколько лет. Нужно научиться определять рыночную стоимость объектов недвижимости. Ваша задача — установить параметры. Это позволит построить автоматизированную систему: она отследит аномалии и мошенническую деятельность.\n",
        "\n",
        "По каждой квартире на продажу доступны два вида данных. Первые вписаны пользователем, вторые — получены автоматически на основе картографических данных. Например, расстояние до центра, аэропорта, ближайшего парка и водоёма."
      ]
    },
    {
      "cell_type": "markdown",
      "metadata": {
        "id": "7Ww7fvEsvUdN"
      },
      "source": [
        "### Откройте файл с данными и изучите общую информацию."
      ]
    },
    {
      "cell_type": "code",
      "execution_count": null,
      "metadata": {
        "id": "HYV_L5wRvUdP"
      },
      "outputs": [],
      "source": [
        "import pandas as pd\n",
        "#%matplotlib inline\n",
        "import matplotlib.pyplot as plt\n",
        "import seaborn as sns\n",
        "import numpy as np"
      ]
    },
    {
      "cell_type": "code",
      "execution_count": null,
      "metadata": {
        "id": "D_thEiiPvUdT"
      },
      "outputs": [],
      "source": [
        "import warnings\n",
        "warnings.filterwarnings(\"ignore\")"
      ]
    },
    {
      "cell_type": "code",
      "execution_count": null,
      "metadata": {
        "id": "BRgIw7GWvUdV"
      },
      "outputs": [],
      "source": [
        "try:\n",
        "  # смотрим есть ли локально файл\n",
        "  df = pd.read_csv('/datasets/real_estate_data.csv', sep='\\t')\n",
        "except:\n",
        "  # если же его нет\n",
        "  df = pd.read_csv('real_estate_data.csv', sep='\\t')"
      ]
    },
    {
      "cell_type": "code",
      "execution_count": null,
      "metadata": {
        "id": "FPM87FhLvUdX",
        "outputId": "4b1d17d8-2b01-488e-fbaa-bf3a08576598"
      },
      "outputs": [
        {
          "data": {
            "text/plain": [
              "(23699, 22)"
            ]
          },
          "execution_count": 4,
          "metadata": {},
          "output_type": "execute_result"
        }
      ],
      "source": [
        "# посмотрим размер таблицы\n",
        "df.shape"
      ]
    },
    {
      "cell_type": "code",
      "execution_count": null,
      "metadata": {
        "id": "Xcj_dRXxvUda",
        "outputId": "922dd1cf-6e88-4422-b1cd-658975cb07c0"
      },
      "outputs": [
        {
          "data": {
            "text/html": [
              "<div>\n",
              "<style scoped>\n",
              "    .dataframe tbody tr th:only-of-type {\n",
              "        vertical-align: middle;\n",
              "    }\n",
              "\n",
              "    .dataframe tbody tr th {\n",
              "        vertical-align: top;\n",
              "    }\n",
              "\n",
              "    .dataframe thead th {\n",
              "        text-align: right;\n",
              "    }\n",
              "</style>\n",
              "<table border=\"1\" class=\"dataframe\">\n",
              "  <thead>\n",
              "    <tr style=\"text-align: right;\">\n",
              "      <th></th>\n",
              "      <th>total_images</th>\n",
              "      <th>last_price</th>\n",
              "      <th>total_area</th>\n",
              "      <th>first_day_exposition</th>\n",
              "      <th>rooms</th>\n",
              "      <th>ceiling_height</th>\n",
              "      <th>floors_total</th>\n",
              "      <th>living_area</th>\n",
              "      <th>floor</th>\n",
              "      <th>is_apartment</th>\n",
              "      <th>studio</th>\n",
              "      <th>open_plan</th>\n",
              "      <th>kitchen_area</th>\n",
              "      <th>balcony</th>\n",
              "      <th>locality_name</th>\n",
              "      <th>airports_nearest</th>\n",
              "      <th>cityCenters_nearest</th>\n",
              "      <th>parks_around3000</th>\n",
              "      <th>parks_nearest</th>\n",
              "      <th>ponds_around3000</th>\n",
              "      <th>ponds_nearest</th>\n",
              "      <th>days_exposition</th>\n",
              "    </tr>\n",
              "  </thead>\n",
              "  <tbody>\n",
              "    <tr>\n",
              "      <th>0</th>\n",
              "      <td>20</td>\n",
              "      <td>13000000.0</td>\n",
              "      <td>108.0</td>\n",
              "      <td>2019-03-07T00:00:00</td>\n",
              "      <td>3</td>\n",
              "      <td>2.70</td>\n",
              "      <td>16.0</td>\n",
              "      <td>51.0</td>\n",
              "      <td>8</td>\n",
              "      <td>NaN</td>\n",
              "      <td>False</td>\n",
              "      <td>False</td>\n",
              "      <td>25.0</td>\n",
              "      <td>NaN</td>\n",
              "      <td>Санкт-Петербург</td>\n",
              "      <td>18863.0</td>\n",
              "      <td>16028.0</td>\n",
              "      <td>1.0</td>\n",
              "      <td>482.0</td>\n",
              "      <td>2.0</td>\n",
              "      <td>755.0</td>\n",
              "      <td>NaN</td>\n",
              "    </tr>\n",
              "    <tr>\n",
              "      <th>1</th>\n",
              "      <td>7</td>\n",
              "      <td>3350000.0</td>\n",
              "      <td>40.4</td>\n",
              "      <td>2018-12-04T00:00:00</td>\n",
              "      <td>1</td>\n",
              "      <td>NaN</td>\n",
              "      <td>11.0</td>\n",
              "      <td>18.6</td>\n",
              "      <td>1</td>\n",
              "      <td>NaN</td>\n",
              "      <td>False</td>\n",
              "      <td>False</td>\n",
              "      <td>11.0</td>\n",
              "      <td>2.0</td>\n",
              "      <td>посёлок Шушары</td>\n",
              "      <td>12817.0</td>\n",
              "      <td>18603.0</td>\n",
              "      <td>0.0</td>\n",
              "      <td>NaN</td>\n",
              "      <td>0.0</td>\n",
              "      <td>NaN</td>\n",
              "      <td>81.0</td>\n",
              "    </tr>\n",
              "    <tr>\n",
              "      <th>2</th>\n",
              "      <td>10</td>\n",
              "      <td>5196000.0</td>\n",
              "      <td>56.0</td>\n",
              "      <td>2015-08-20T00:00:00</td>\n",
              "      <td>2</td>\n",
              "      <td>NaN</td>\n",
              "      <td>5.0</td>\n",
              "      <td>34.3</td>\n",
              "      <td>4</td>\n",
              "      <td>NaN</td>\n",
              "      <td>False</td>\n",
              "      <td>False</td>\n",
              "      <td>8.3</td>\n",
              "      <td>0.0</td>\n",
              "      <td>Санкт-Петербург</td>\n",
              "      <td>21741.0</td>\n",
              "      <td>13933.0</td>\n",
              "      <td>1.0</td>\n",
              "      <td>90.0</td>\n",
              "      <td>2.0</td>\n",
              "      <td>574.0</td>\n",
              "      <td>558.0</td>\n",
              "    </tr>\n",
              "    <tr>\n",
              "      <th>3</th>\n",
              "      <td>0</td>\n",
              "      <td>64900000.0</td>\n",
              "      <td>159.0</td>\n",
              "      <td>2015-07-24T00:00:00</td>\n",
              "      <td>3</td>\n",
              "      <td>NaN</td>\n",
              "      <td>14.0</td>\n",
              "      <td>NaN</td>\n",
              "      <td>9</td>\n",
              "      <td>NaN</td>\n",
              "      <td>False</td>\n",
              "      <td>False</td>\n",
              "      <td>NaN</td>\n",
              "      <td>0.0</td>\n",
              "      <td>Санкт-Петербург</td>\n",
              "      <td>28098.0</td>\n",
              "      <td>6800.0</td>\n",
              "      <td>2.0</td>\n",
              "      <td>84.0</td>\n",
              "      <td>3.0</td>\n",
              "      <td>234.0</td>\n",
              "      <td>424.0</td>\n",
              "    </tr>\n",
              "    <tr>\n",
              "      <th>4</th>\n",
              "      <td>2</td>\n",
              "      <td>10000000.0</td>\n",
              "      <td>100.0</td>\n",
              "      <td>2018-06-19T00:00:00</td>\n",
              "      <td>2</td>\n",
              "      <td>3.03</td>\n",
              "      <td>14.0</td>\n",
              "      <td>32.0</td>\n",
              "      <td>13</td>\n",
              "      <td>NaN</td>\n",
              "      <td>False</td>\n",
              "      <td>False</td>\n",
              "      <td>41.0</td>\n",
              "      <td>NaN</td>\n",
              "      <td>Санкт-Петербург</td>\n",
              "      <td>31856.0</td>\n",
              "      <td>8098.0</td>\n",
              "      <td>2.0</td>\n",
              "      <td>112.0</td>\n",
              "      <td>1.0</td>\n",
              "      <td>48.0</td>\n",
              "      <td>121.0</td>\n",
              "    </tr>\n",
              "  </tbody>\n",
              "</table>\n",
              "</div>"
            ],
            "text/plain": [
              "   total_images  last_price  total_area first_day_exposition  rooms  \\\n",
              "0            20  13000000.0       108.0  2019-03-07T00:00:00      3   \n",
              "1             7   3350000.0        40.4  2018-12-04T00:00:00      1   \n",
              "2            10   5196000.0        56.0  2015-08-20T00:00:00      2   \n",
              "3             0  64900000.0       159.0  2015-07-24T00:00:00      3   \n",
              "4             2  10000000.0       100.0  2018-06-19T00:00:00      2   \n",
              "\n",
              "   ceiling_height  floors_total  living_area  floor is_apartment  studio  \\\n",
              "0            2.70          16.0         51.0      8          NaN   False   \n",
              "1             NaN          11.0         18.6      1          NaN   False   \n",
              "2             NaN           5.0         34.3      4          NaN   False   \n",
              "3             NaN          14.0          NaN      9          NaN   False   \n",
              "4            3.03          14.0         32.0     13          NaN   False   \n",
              "\n",
              "   open_plan  kitchen_area  balcony    locality_name  airports_nearest  \\\n",
              "0      False          25.0      NaN  Санкт-Петербург           18863.0   \n",
              "1      False          11.0      2.0   посёлок Шушары           12817.0   \n",
              "2      False           8.3      0.0  Санкт-Петербург           21741.0   \n",
              "3      False           NaN      0.0  Санкт-Петербург           28098.0   \n",
              "4      False          41.0      NaN  Санкт-Петербург           31856.0   \n",
              "\n",
              "   cityCenters_nearest  parks_around3000  parks_nearest  ponds_around3000  \\\n",
              "0              16028.0               1.0          482.0               2.0   \n",
              "1              18603.0               0.0            NaN               0.0   \n",
              "2              13933.0               1.0           90.0               2.0   \n",
              "3               6800.0               2.0           84.0               3.0   \n",
              "4               8098.0               2.0          112.0               1.0   \n",
              "\n",
              "   ponds_nearest  days_exposition  \n",
              "0          755.0              NaN  \n",
              "1            NaN             81.0  \n",
              "2          574.0            558.0  \n",
              "3          234.0            424.0  \n",
              "4           48.0            121.0  "
            ]
          },
          "execution_count": 5,
          "metadata": {},
          "output_type": "execute_result"
        }
      ],
      "source": [
        "# выведем первые 5 строк\n",
        "pd.set_option('display.max_columns', None)\n",
        "df.head()"
      ]
    },
    {
      "cell_type": "code",
      "execution_count": null,
      "metadata": {
        "scrolled": true,
        "id": "r-spFmWlvUdd",
        "outputId": "f186d992-528b-4077-de91-558b43437f95"
      },
      "outputs": [
        {
          "data": {
            "text/html": [
              "<div>\n",
              "<style scoped>\n",
              "    .dataframe tbody tr th:only-of-type {\n",
              "        vertical-align: middle;\n",
              "    }\n",
              "\n",
              "    .dataframe tbody tr th {\n",
              "        vertical-align: top;\n",
              "    }\n",
              "\n",
              "    .dataframe thead th {\n",
              "        text-align: right;\n",
              "    }\n",
              "</style>\n",
              "<table border=\"1\" class=\"dataframe\">\n",
              "  <thead>\n",
              "    <tr style=\"text-align: right;\">\n",
              "      <th></th>\n",
              "      <th>total_images</th>\n",
              "      <th>last_price</th>\n",
              "      <th>total_area</th>\n",
              "      <th>first_day_exposition</th>\n",
              "      <th>rooms</th>\n",
              "      <th>ceiling_height</th>\n",
              "      <th>floors_total</th>\n",
              "      <th>living_area</th>\n",
              "      <th>floor</th>\n",
              "      <th>is_apartment</th>\n",
              "      <th>studio</th>\n",
              "      <th>open_plan</th>\n",
              "      <th>kitchen_area</th>\n",
              "      <th>balcony</th>\n",
              "      <th>locality_name</th>\n",
              "      <th>airports_nearest</th>\n",
              "      <th>cityCenters_nearest</th>\n",
              "      <th>parks_around3000</th>\n",
              "      <th>parks_nearest</th>\n",
              "      <th>ponds_around3000</th>\n",
              "      <th>ponds_nearest</th>\n",
              "      <th>days_exposition</th>\n",
              "    </tr>\n",
              "  </thead>\n",
              "  <tbody>\n",
              "    <tr>\n",
              "      <th>23694</th>\n",
              "      <td>9</td>\n",
              "      <td>9700000.0</td>\n",
              "      <td>133.81</td>\n",
              "      <td>2017-03-21T00:00:00</td>\n",
              "      <td>3</td>\n",
              "      <td>3.7</td>\n",
              "      <td>5.0</td>\n",
              "      <td>73.3</td>\n",
              "      <td>3</td>\n",
              "      <td>NaN</td>\n",
              "      <td>False</td>\n",
              "      <td>False</td>\n",
              "      <td>13.83</td>\n",
              "      <td>NaN</td>\n",
              "      <td>Санкт-Петербург</td>\n",
              "      <td>24665.0</td>\n",
              "      <td>4232.0</td>\n",
              "      <td>1.0</td>\n",
              "      <td>796.0</td>\n",
              "      <td>3.0</td>\n",
              "      <td>381.0</td>\n",
              "      <td>NaN</td>\n",
              "    </tr>\n",
              "    <tr>\n",
              "      <th>23695</th>\n",
              "      <td>14</td>\n",
              "      <td>3100000.0</td>\n",
              "      <td>59.00</td>\n",
              "      <td>2018-01-15T00:00:00</td>\n",
              "      <td>3</td>\n",
              "      <td>NaN</td>\n",
              "      <td>5.0</td>\n",
              "      <td>38.0</td>\n",
              "      <td>4</td>\n",
              "      <td>NaN</td>\n",
              "      <td>False</td>\n",
              "      <td>False</td>\n",
              "      <td>8.50</td>\n",
              "      <td>NaN</td>\n",
              "      <td>Тосно</td>\n",
              "      <td>NaN</td>\n",
              "      <td>NaN</td>\n",
              "      <td>NaN</td>\n",
              "      <td>NaN</td>\n",
              "      <td>NaN</td>\n",
              "      <td>NaN</td>\n",
              "      <td>45.0</td>\n",
              "    </tr>\n",
              "    <tr>\n",
              "      <th>23696</th>\n",
              "      <td>18</td>\n",
              "      <td>2500000.0</td>\n",
              "      <td>56.70</td>\n",
              "      <td>2018-02-11T00:00:00</td>\n",
              "      <td>2</td>\n",
              "      <td>NaN</td>\n",
              "      <td>3.0</td>\n",
              "      <td>29.7</td>\n",
              "      <td>1</td>\n",
              "      <td>NaN</td>\n",
              "      <td>False</td>\n",
              "      <td>False</td>\n",
              "      <td>NaN</td>\n",
              "      <td>NaN</td>\n",
              "      <td>село Рождествено</td>\n",
              "      <td>NaN</td>\n",
              "      <td>NaN</td>\n",
              "      <td>NaN</td>\n",
              "      <td>NaN</td>\n",
              "      <td>NaN</td>\n",
              "      <td>NaN</td>\n",
              "      <td>NaN</td>\n",
              "    </tr>\n",
              "    <tr>\n",
              "      <th>23697</th>\n",
              "      <td>13</td>\n",
              "      <td>11475000.0</td>\n",
              "      <td>76.75</td>\n",
              "      <td>2017-03-28T00:00:00</td>\n",
              "      <td>2</td>\n",
              "      <td>3.0</td>\n",
              "      <td>17.0</td>\n",
              "      <td>NaN</td>\n",
              "      <td>12</td>\n",
              "      <td>NaN</td>\n",
              "      <td>False</td>\n",
              "      <td>False</td>\n",
              "      <td>23.30</td>\n",
              "      <td>2.0</td>\n",
              "      <td>Санкт-Петербург</td>\n",
              "      <td>39140.0</td>\n",
              "      <td>10364.0</td>\n",
              "      <td>2.0</td>\n",
              "      <td>173.0</td>\n",
              "      <td>3.0</td>\n",
              "      <td>196.0</td>\n",
              "      <td>602.0</td>\n",
              "    </tr>\n",
              "    <tr>\n",
              "      <th>23698</th>\n",
              "      <td>4</td>\n",
              "      <td>1350000.0</td>\n",
              "      <td>32.30</td>\n",
              "      <td>2017-07-21T00:00:00</td>\n",
              "      <td>1</td>\n",
              "      <td>2.5</td>\n",
              "      <td>5.0</td>\n",
              "      <td>12.3</td>\n",
              "      <td>1</td>\n",
              "      <td>NaN</td>\n",
              "      <td>False</td>\n",
              "      <td>False</td>\n",
              "      <td>9.00</td>\n",
              "      <td>NaN</td>\n",
              "      <td>поселок Новый Учхоз</td>\n",
              "      <td>NaN</td>\n",
              "      <td>NaN</td>\n",
              "      <td>NaN</td>\n",
              "      <td>NaN</td>\n",
              "      <td>NaN</td>\n",
              "      <td>NaN</td>\n",
              "      <td>NaN</td>\n",
              "    </tr>\n",
              "  </tbody>\n",
              "</table>\n",
              "</div>"
            ],
            "text/plain": [
              "       total_images  last_price  total_area first_day_exposition  rooms  \\\n",
              "23694             9   9700000.0      133.81  2017-03-21T00:00:00      3   \n",
              "23695            14   3100000.0       59.00  2018-01-15T00:00:00      3   \n",
              "23696            18   2500000.0       56.70  2018-02-11T00:00:00      2   \n",
              "23697            13  11475000.0       76.75  2017-03-28T00:00:00      2   \n",
              "23698             4   1350000.0       32.30  2017-07-21T00:00:00      1   \n",
              "\n",
              "       ceiling_height  floors_total  living_area  floor is_apartment  studio  \\\n",
              "23694             3.7           5.0         73.3      3          NaN   False   \n",
              "23695             NaN           5.0         38.0      4          NaN   False   \n",
              "23696             NaN           3.0         29.7      1          NaN   False   \n",
              "23697             3.0          17.0          NaN     12          NaN   False   \n",
              "23698             2.5           5.0         12.3      1          NaN   False   \n",
              "\n",
              "       open_plan  kitchen_area  balcony        locality_name  \\\n",
              "23694      False         13.83      NaN      Санкт-Петербург   \n",
              "23695      False          8.50      NaN                Тосно   \n",
              "23696      False           NaN      NaN     село Рождествено   \n",
              "23697      False         23.30      2.0      Санкт-Петербург   \n",
              "23698      False          9.00      NaN  поселок Новый Учхоз   \n",
              "\n",
              "       airports_nearest  cityCenters_nearest  parks_around3000  parks_nearest  \\\n",
              "23694           24665.0               4232.0               1.0          796.0   \n",
              "23695               NaN                  NaN               NaN            NaN   \n",
              "23696               NaN                  NaN               NaN            NaN   \n",
              "23697           39140.0              10364.0               2.0          173.0   \n",
              "23698               NaN                  NaN               NaN            NaN   \n",
              "\n",
              "       ponds_around3000  ponds_nearest  days_exposition  \n",
              "23694               3.0          381.0              NaN  \n",
              "23695               NaN            NaN             45.0  \n",
              "23696               NaN            NaN              NaN  \n",
              "23697               3.0          196.0            602.0  \n",
              "23698               NaN            NaN              NaN  "
            ]
          },
          "execution_count": 6,
          "metadata": {},
          "output_type": "execute_result"
        }
      ],
      "source": [
        "# выведем последние 5 строк\n",
        "pd.set_option('display.max_columns', None)\n",
        "df.tail()"
      ]
    },
    {
      "cell_type": "code",
      "execution_count": null,
      "metadata": {
        "id": "q_EPg8wuvUde",
        "outputId": "5787fc8f-699d-4096-857d-1a1926923264"
      },
      "outputs": [
        {
          "name": "stdout",
          "output_type": "stream",
          "text": [
            "<class 'pandas.core.frame.DataFrame'>\n",
            "RangeIndex: 23699 entries, 0 to 23698\n",
            "Data columns (total 22 columns):\n",
            " #   Column                Non-Null Count  Dtype  \n",
            "---  ------                --------------  -----  \n",
            " 0   total_images          23699 non-null  int64  \n",
            " 1   last_price            23699 non-null  float64\n",
            " 2   total_area            23699 non-null  float64\n",
            " 3   first_day_exposition  23699 non-null  object \n",
            " 4   rooms                 23699 non-null  int64  \n",
            " 5   ceiling_height        14504 non-null  float64\n",
            " 6   floors_total          23613 non-null  float64\n",
            " 7   living_area           21796 non-null  float64\n",
            " 8   floor                 23699 non-null  int64  \n",
            " 9   is_apartment          2775 non-null   object \n",
            " 10  studio                23699 non-null  bool   \n",
            " 11  open_plan             23699 non-null  bool   \n",
            " 12  kitchen_area          21421 non-null  float64\n",
            " 13  balcony               12180 non-null  float64\n",
            " 14  locality_name         23650 non-null  object \n",
            " 15  airports_nearest      18157 non-null  float64\n",
            " 16  cityCenters_nearest   18180 non-null  float64\n",
            " 17  parks_around3000      18181 non-null  float64\n",
            " 18  parks_nearest         8079 non-null   float64\n",
            " 19  ponds_around3000      18181 non-null  float64\n",
            " 20  ponds_nearest         9110 non-null   float64\n",
            " 21  days_exposition       20518 non-null  float64\n",
            "dtypes: bool(2), float64(14), int64(3), object(3)\n",
            "memory usage: 3.7+ MB\n"
          ]
        }
      ],
      "source": [
        "# посмотрим типы данных у столбцов\n",
        "df.info()"
      ]
    },
    {
      "cell_type": "code",
      "execution_count": null,
      "metadata": {
        "id": "rMEMD1U0vUdf",
        "outputId": "c1d02106-ac4c-4773-a058-40eb4a5405d7"
      },
      "outputs": [
        {
          "data": {
            "image/png": "[encoded data removed]",
            "text/plain": [
              "<Figure size 1080x1440 with 20 Axes>"
            ]
          },
          "metadata": {
            "needs_background": "light"
          },
          "output_type": "display_data"
        }
      ],
      "source": [
        "# построим общую гистограмму для всех числовых столбцов\n",
        "df.hist(figsize=(15,20));"
      ]
    },
    {
      "cell_type": "markdown",
      "metadata": {
        "id": "zX5R9eACvUdh"
      },
      "source": [
        "<div class=\"alert alert-info\">\n",
        "<b>Изучив общую информацию заметила, что в данных имеется большое количество пропусков, их следует оценить и по возможности заменить подходящими значениями. Для некоторых полей следует изменить типы данных. Поле  cityCenters_nearest лучше переименовать. Найим и избавиться от дубликатов и странных значений.\n",
        "</b>\n",
        "<br>\n",
        "</div>"
      ]
    },
    {
      "cell_type": "markdown",
      "metadata": {
        "id": "Z1pmJtjyvUdi"
      },
      "source": [
        "### Предобработка данных"
      ]
    },
    {
      "cell_type": "markdown",
      "metadata": {
        "id": "9fmmyNgcvUdj"
      },
      "source": [
        "#### Найдите и изучите пропущенные значения в столбцах:"
      ]
    },
    {
      "cell_type": "code",
      "execution_count": null,
      "metadata": {
        "id": "jIxFTZIgvUdj",
        "outputId": "2794a84f-ab5c-4bc5-f16d-672f2af822ba"
      },
      "outputs": [
        {
          "data": {
            "text/plain": [
              "is_apartment            20924\n",
              "parks_nearest           15620\n",
              "ponds_nearest           14589\n",
              "balcony                 11519\n",
              "ceiling_height           9195\n",
              "airports_nearest         5542\n",
              "cityCenters_nearest      5519\n",
              "ponds_around3000         5518\n",
              "parks_around3000         5518\n",
              "days_exposition          3181\n",
              "kitchen_area             2278\n",
              "living_area              1903\n",
              "floors_total               86\n",
              "locality_name              49\n",
              "total_images                0\n",
              "last_price                  0\n",
              "studio                      0\n",
              "floor                       0\n",
              "rooms                       0\n",
              "first_day_exposition        0\n",
              "total_area                  0\n",
              "open_plan                   0\n",
              "dtype: int64"
            ]
          },
          "execution_count": 9,
          "metadata": {},
          "output_type": "execute_result"
        }
      ],
      "source": [
        "# оценим суммарные пропуски\n",
        "df.isna().sum().sort_values(ascending=False)"
      ]
    },
    {
      "cell_type": "code",
      "execution_count": null,
      "metadata": {
        "id": "GYWO4FNfvUdl",
        "outputId": "581171d4-1c71-44c3-e639-69122fad0765"
      },
      "outputs": [
        {
          "data": {
            "text/plain": [
              "is_apartment            88.290645\n",
              "parks_nearest           65.909954\n",
              "ponds_nearest           61.559559\n",
              "balcony                 48.605426\n",
              "ceiling_height          38.799105\n",
              "airports_nearest        23.384953\n",
              "cityCenters_nearest     23.287902\n",
              "ponds_around3000        23.283683\n",
              "parks_around3000        23.283683\n",
              "days_exposition         13.422507\n",
              "kitchen_area             9.612220\n",
              "living_area              8.029875\n",
              "floors_total             0.362885\n",
              "locality_name            0.206760\n",
              "total_images             0.000000\n",
              "last_price               0.000000\n",
              "studio                   0.000000\n",
              "floor                    0.000000\n",
              "rooms                    0.000000\n",
              "first_day_exposition     0.000000\n",
              "total_area               0.000000\n",
              "open_plan                0.000000\n",
              "dtype: float64"
            ]
          },
          "execution_count": 10,
          "metadata": {},
          "output_type": "execute_result"
        }
      ],
      "source": [
        "# посмотрим процент пропуск в колонках\n",
        "df.isna().mean().sort_values(ascending=False) * 100"
      ]
    },
    {
      "cell_type": "markdown",
      "metadata": {
        "id": "6L3jWHakvUdn"
      },
      "source": [
        "Таблицы выше показывают большое количество пропусков в данных, делаю вывод, что данные, которые заполнял пользователь в основном заполнены,большинство пропусков в картографических данных и их очень много. Скорей всего проблема картографических материалов проявляется в том, что карта, как канал передачи информации обладает определенными ограничениями, в частности на объем передаваемой информации, точности даных. Возможно пользователи заводят информацию о местоположении не совсем точно, либо на картах нет таких обьектов, либо просто в городе например нет аэропорта, либо расстояние до него очень большое и скорей всего эти значения не будут существенными при определении цены на недвижимость.\n",
        "в следующих полях есть пропуски значений:\n",
        "\n",
        "- is_apartment - аппартаменты, поле нужно заменить на тип bool и пропуски заменить на False\n",
        "- parks_nearest, ponds_nearest, airports_nearest, cityCenters_nearest, ponds_around3000, parks_around3000    - расстояние до ближайшего парка, водоема, аэропорта, число водоемов и парков это картографические данные, возможно не верно получены  \n",
        "- balcony - количество балконов, можно заменить на 0, скорей всего балконов в квартирах нет\n",
        "- ceiling_height - высота потолков, можно заменить на среднее значение\n",
        "- kitchen_area, living_area - площад кухни и гостинной можно заменить на средние значения\n",
        "- locality_name, floors_total - поля где отсутсвует локация и количество этажей не много и их можно удалить\n",
        "- days_exposition - количество дней продажи квартиры можно можно заменить на 0"
      ]
    },
    {
      "cell_type": "code",
      "execution_count": null,
      "metadata": {
        "id": "fIS-60MBvUdp"
      },
      "outputs": [],
      "source": [
        "# Все пустые знаения можно заменить на False\n",
        "df['is_apartment'] = df['is_apartment'].fillna(False)"
      ]
    },
    {
      "cell_type": "code",
      "execution_count": null,
      "metadata": {
        "id": "QlEVWz4TvUdr"
      },
      "outputs": [],
      "source": [
        "# приводим в целочисленный тип количество балконов. Заменяем пропущенные значения на 0\n",
        "df['balcony'].value_counts()\n",
        "df['balcony'] = df['balcony'].fillna(0).astype('int')"
      ]
    },
    {
      "cell_type": "code",
      "execution_count": null,
      "metadata": {
        "id": "mNnc_DY2vUds",
        "outputId": "ca397cb6-152a-449d-c06f-1e1516f0c852"
      },
      "outputs": [
        {
          "name": "stdout",
          "output_type": "stream",
          "text": [
            "Медианная высота потолков: 2.65\n"
          ]
        }
      ],
      "source": [
        "# Пропущенные значения в поле ceiling_height предлагаю заполнить медианным значением\n",
        "print('Медианная высота потолков:',df.ceiling_height.median())\n",
        "df.ceiling_height = df.ceiling_height.fillna(2.65)"
      ]
    },
    {
      "cell_type": "code",
      "execution_count": null,
      "metadata": {
        "id": "U4GWZK7jvUdu"
      },
      "outputs": [],
      "source": [
        "# заменяем пустые значения жилой площади и площади кухни на средние\n",
        "living_ratio = df['living_area'].mean() / df['total_area'].mean()\n",
        "kitchen_ratio = df['kitchen_area'].mean() / df['total_area'].mean()\n",
        "df['living_area'].fillna(living_ratio * df['total_area'], inplace=True)\n",
        "df['kitchen_area'].fillna(kitchen_ratio * df['total_area'], inplace=True)"
      ]
    },
    {
      "cell_type": "code",
      "execution_count": null,
      "metadata": {
        "id": "q8KsFJsuvUdv"
      },
      "outputs": [],
      "source": [
        "# удаляем записи, где отсутствует локация и этажность\n",
        "df.dropna(subset=['locality_name'], inplace=True)\n",
        "df.dropna(subset=['floors_total'], inplace=True)"
      ]
    },
    {
      "cell_type": "markdown",
      "metadata": {
        "id": "tNQBV4mevUdw"
      },
      "source": [
        "#### Рассмотрите типы данных в каждом столбце:"
      ]
    },
    {
      "cell_type": "code",
      "execution_count": null,
      "metadata": {
        "id": "DIaev8tKvUeU",
        "outputId": "12ab69b2-8734-44e9-a921-53e296a0294b"
      },
      "outputs": [
        {
          "name": "stdout",
          "output_type": "stream",
          "text": [
            "<class 'pandas.core.frame.DataFrame'>\n",
            "Int64Index: 23565 entries, 0 to 23698\n",
            "Data columns (total 22 columns):\n",
            " #   Column                Non-Null Count  Dtype  \n",
            "---  ------                --------------  -----  \n",
            " 0   total_images          23565 non-null  int64  \n",
            " 1   last_price            23565 non-null  float64\n",
            " 2   total_area            23565 non-null  float64\n",
            " 3   first_day_exposition  23565 non-null  object \n",
            " 4   rooms                 23565 non-null  int64  \n",
            " 5   ceiling_height        23565 non-null  float64\n",
            " 6   floors_total          23565 non-null  float64\n",
            " 7   living_area           23565 non-null  float64\n",
            " 8   floor                 23565 non-null  int64  \n",
            " 9   is_apartment          23565 non-null  bool   \n",
            " 10  studio                23565 non-null  bool   \n",
            " 11  open_plan             23565 non-null  bool   \n",
            " 12  kitchen_area          23565 non-null  float64\n",
            " 13  balcony               23565 non-null  int64  \n",
            " 14  locality_name         23565 non-null  object \n",
            " 15  airports_nearest      18041 non-null  float64\n",
            " 16  cityCenters_nearest   18064 non-null  float64\n",
            " 17  parks_around3000      18065 non-null  float64\n",
            " 18  parks_nearest         8030 non-null   float64\n",
            " 19  ponds_around3000      18065 non-null  float64\n",
            " 20  ponds_nearest         9036 non-null   float64\n",
            " 21  days_exposition       20394 non-null  float64\n",
            "dtypes: bool(3), float64(13), int64(4), object(2)\n",
            "memory usage: 3.7+ MB\n"
          ]
        }
      ],
      "source": [
        "# посмотрим типы данных у столбцов\n",
        "df.info()"
      ]
    },
    {
      "cell_type": "code",
      "execution_count": null,
      "metadata": {
        "id": "T2W9zRF-vUeV"
      },
      "outputs": [],
      "source": [
        "# переведем is_apartment в формат bool.\n",
        "df['is_apartment'] = df['is_apartment'].astype('bool')"
      ]
    },
    {
      "cell_type": "markdown",
      "metadata": {
        "id": "S2H-_Z87vUeW"
      },
      "source": [
        "поле is_apartment имеет тип object, хотя данные там подразумеваются True и False типа bool"
      ]
    },
    {
      "cell_type": "code",
      "execution_count": null,
      "metadata": {
        "id": "IKufrWVMvUeX"
      },
      "outputs": [],
      "source": [
        "# переведем first_day_exposition в формат date. Время не указано, поэтому формат без времени:\n",
        "df['first_day_exposition'] = pd.to_datetime(df['first_day_exposition'], format='%Y-%m-%d')"
      ]
    },
    {
      "cell_type": "markdown",
      "metadata": {
        "id": "5BQ07jt1vUeY"
      },
      "source": [
        "в поле first_day_exposition имеет тип object, хотя там хранится дата публикации поэтому заменим на тип date"
      ]
    },
    {
      "cell_type": "code",
      "execution_count": null,
      "metadata": {
        "id": "UpYNYXUXvUeZ"
      },
      "outputs": [],
      "source": [
        "# приведем название поля cityCenters_nearest в правильный формат\n",
        "df.columns = df.columns.str.lower().str.replace(\" \", \"_\")"
      ]
    },
    {
      "cell_type": "markdown",
      "metadata": {
        "id": "HS3dJgmDvUeb"
      },
      "source": [
        "в названии поля cityCenters_nearest есть заглавные буквы, что лучше исправить"
      ]
    },
    {
      "cell_type": "code",
      "execution_count": null,
      "metadata": {
        "id": "FyHvILocvUec"
      },
      "outputs": [],
      "source": [
        "#изменим цену на тип int для удобства просмотра\n",
        "df['last_price'] = df['last_price'].astype('int')"
      ]
    },
    {
      "cell_type": "markdown",
      "metadata": {
        "id": "jNak2AnvvUed"
      },
      "source": [
        "last_price для удобства тоже лучше заменить на int"
      ]
    },
    {
      "cell_type": "code",
      "execution_count": null,
      "metadata": {
        "id": "Yb_wuY-xvUed"
      },
      "outputs": [],
      "source": [
        "# приводим в целочисленный тип количество парков. Заменяем пропущенные значения на 0\n",
        "df['parks_around3000'] = df['parks_around3000'].fillna(value=0).astype(int)\n",
        "# приводим в целочисленный тип количество прудов. Заменяем пропущенные значения на 0\n",
        "df['ponds_around3000'] = df['ponds_around3000'].fillna(value=0).astype(int)"
      ]
    },
    {
      "cell_type": "markdown",
      "metadata": {
        "id": "5tcII2n_vUee"
      },
      "source": [
        "Количество парков и водоемов тоже лучше перевести в целочисленный тип и для этого пропуски заменить на 0"
      ]
    },
    {
      "cell_type": "code",
      "execution_count": null,
      "metadata": {
        "id": "H2yujBMfvUee"
      },
      "outputs": [],
      "source": [
        "#заменим пропуски в days_exposition на 0 и заменим тип данных на int\n",
        "#df['days_exposition'] = df['days_exposition'].fillna(0).astype('int')"
      ]
    },
    {
      "cell_type": "code",
      "execution_count": null,
      "metadata": {
        "id": "JSRHzTSwvUeh"
      },
      "outputs": [],
      "source": [
        "# заменим тип данных на int\n",
        "df['days_exposition'] = np.floor(pd.to_numeric(df['days_exposition'], errors='coerce')).astype('Int64')"
      ]
    },
    {
      "cell_type": "markdown",
      "metadata": {
        "id": "11WXNZ_ovUei"
      },
      "source": [
        "Количество дней размещения тоже лучше преобразовать в тип int"
      ]
    },
    {
      "cell_type": "code",
      "execution_count": null,
      "metadata": {
        "id": "I7yo02ROvUei"
      },
      "outputs": [],
      "source": [
        "#изменим цену на тип int для удобства просмотра\n",
        "df['last_price'] = df['last_price'].astype('int')"
      ]
    },
    {
      "cell_type": "markdown",
      "metadata": {
        "id": "4oAeu9dBvUej"
      },
      "source": [
        "для удобства просмотра цену тоже лучше заменить на тип int"
      ]
    },
    {
      "cell_type": "code",
      "execution_count": null,
      "metadata": {
        "id": "7-TK7VltvUem",
        "outputId": "22e4ed2c-e516-4176-b761-dff27a24b745"
      },
      "outputs": [
        {
          "name": "stdout",
          "output_type": "stream",
          "text": [
            "<class 'pandas.core.frame.DataFrame'>\n",
            "Int64Index: 23565 entries, 0 to 23698\n",
            "Data columns (total 22 columns):\n",
            " #   Column                Non-Null Count  Dtype         \n",
            "---  ------                --------------  -----         \n",
            " 0   total_images          23565 non-null  int64         \n",
            " 1   last_price            23565 non-null  int64         \n",
            " 2   total_area            23565 non-null  float32       \n",
            " 3   first_day_exposition  23565 non-null  datetime64[ns]\n",
            " 4   rooms                 23565 non-null  int64         \n",
            " 5   ceiling_height        23565 non-null  float32       \n",
            " 6   floors_total          23565 non-null  float32       \n",
            " 7   living_area           23565 non-null  float32       \n",
            " 8   floor                 23565 non-null  int64         \n",
            " 9   is_apartment          23565 non-null  bool          \n",
            " 10  studio                23565 non-null  bool          \n",
            " 11  open_plan             23565 non-null  bool          \n",
            " 12  kitchen_area          23565 non-null  float32       \n",
            " 13  balcony               23565 non-null  int64         \n",
            " 14  locality_name         23565 non-null  object        \n",
            " 15  airports_nearest      23565 non-null  float32       \n",
            " 16  citycenters_nearest   23565 non-null  float32       \n",
            " 17  parks_around3000      23565 non-null  int64         \n",
            " 18  parks_nearest         23565 non-null  float32       \n",
            " 19  ponds_around3000      23565 non-null  int64         \n",
            " 20  ponds_nearest         23565 non-null  float32       \n",
            " 21  days_exposition       20394 non-null  Int64         \n",
            "dtypes: Int64(1), bool(3), datetime64[ns](1), float32(9), int64(7), object(1)\n",
            "memory usage: 2.9+ MB\n"
          ]
        }
      ],
      "source": [
        "# изменим float64 на float32 для экономии памяти\n",
        "df['total_area'] = df['total_area'].fillna(0).astype('float32')\n",
        "df['ceiling_height'] = df['ceiling_height'].fillna(0).astype('float32')\n",
        "df['floors_total'] = df['floors_total'].fillna(0).astype('float32')\n",
        "df['living_area'] = df['living_area'].fillna(0).astype('float32')\n",
        "df['kitchen_area'] = df['kitchen_area'].fillna(0).astype('float32')\n",
        "df['airports_nearest'] = df['airports_nearest'].fillna(0).astype('float32')\n",
        "df['citycenters_nearest'] = df['citycenters_nearest'].fillna(0).astype('float32')\n",
        "df['parks_nearest'] = df['parks_nearest'].fillna(0).astype('float32')\n",
        "df['ponds_nearest'] = df['ponds_nearest'].fillna(0).astype('float32')\n",
        "df.info()"
      ]
    },
    {
      "cell_type": "markdown",
      "metadata": {
        "id": "jWhsLMvFvUeo"
      },
      "source": [
        "#### Изучите уникальные значения в столбце с названиями и устраните неявные дубликаты"
      ]
    },
    {
      "cell_type": "code",
      "execution_count": null,
      "metadata": {
        "id": "I7C7iS1JvUep"
      },
      "outputs": [],
      "source": [
        "# Уникальные значения в алфавитном порядке\n",
        "df['locality_name'].unique()\n",
        "\n",
        "# Замним неявные дубликаты, устраним их... приведём значения к нижнему регистру для избавления от дубликатов\n",
        "df['locality_name'] = df['locality_name'].str.lower()\n",
        "\n",
        "# Выполним замену ошибки в написании 'поселок' вместо 'посёлок':\n",
        "df['locality_name'] = df['locality_name'].str.replace('поселок','посёлок')\n",
        "\n",
        "# Замена однотипный значений\n",
        "df['locality_name'] = df.locality_name.str.replace('поселок городского типа', 'поселок')\n",
        "df['locality_name'] = df.locality_name.str.replace('городской поселок', 'поселок')\n"
      ]
    },
    {
      "cell_type": "markdown",
      "metadata": {
        "id": "dCC1UobMvUeq"
      },
      "source": [
        "Заметили неявные дубликаты. например поселок Бугры и посёлок Бугры, поселок Тельмана и посёлок Тельмана, поселок городского типа Рябово и поселок Рябово"
      ]
    },
    {
      "cell_type": "markdown",
      "metadata": {
        "id": "e3028U2pvUet"
      },
      "source": [
        "#### Найдите и устраните редкие и выбивающиеся значения"
      ]
    },
    {
      "cell_type": "code",
      "execution_count": null,
      "metadata": {
        "id": "xdqbBN0ZvUet",
        "outputId": "dfda2180-0dfa-4eb7-dd7a-9827e9c602af"
      },
      "outputs": [
        {
          "data": {
            "text/plain": [
              "<AxesSubplot:ylabel='Frequency'>"
            ]
          },
          "execution_count": 27,
          "metadata": {},
          "output_type": "execute_result"
        },
        {
          "data": {
            "image/png": "[encoded data removed]",
            "text/plain": [
              "<Figure size 432x288 with 1 Axes>"
            ]
          },
          "metadata": {
            "needs_background": "light"
          },
          "output_type": "display_data"
        }
      ],
      "source": [
        "#отсортируем и выведем самые большие значения для ceiling_height\n",
        "df[df['ceiling_height'] > 4].sort_values('ceiling_height').tail(20)\n",
        "df['ceiling_height'].sort_values().plot(y = 'ceiling_height', kind = 'hist', bins = 30, range=(2,5))"
      ]
    },
    {
      "cell_type": "markdown",
      "metadata": {
        "id": "kr68wgIKvUeu"
      },
      "source": [
        "Для поля ceiling_height (высота потолков) видим очень большое максимальное значение (100м!) Хотя медиана от среднего отличается не сильно из-за этих выбросов во всей выборке, но все же нужно посмотреть это поле внимательней. Видим, что в некоторых полях высота потолков напрмер 32. Логично предположить что это вещественные значения 3.2 Исправим это."
      ]
    },
    {
      "cell_type": "markdown",
      "metadata": {
        "id": "ckpZQC3AvUew"
      },
      "source": [
        "По результату проведённой обработки данных, были достигнуты вышеизложенные цели: заполненны пропуски где это было возможно, и измененны типы данных, обработаны дубликаты. Довольно большая часть данных, которая может влиять на итоговую статистику, а так же на решение о прибретении квартир, потеряна при выгрузке таблицы либо отсутствует. Об этом обязательно необходимо сообщить  сотрудникам, ответственным за выгрузку данных."
      ]
    },
    {
      "cell_type": "code",
      "execution_count": null,
      "metadata": {
        "id": "lFHVk8a-vUey"
      },
      "outputs": [],
      "source": [
        "# ограничим высоту потолка 6 метрами (потеряем 29 записей)\n",
        "df_del = df.query('ceiling_height < 7').copy()\n",
        "# посмотрим поле количесво комнат, максимальное 19! есть 16, 15, 14...\n",
        "df.rooms.describe()\n",
        "df.rooms.sort_values().tail(20)\n",
        "# ограничим количество комнат до 9 (потеряем 8 записей)\n",
        "df_del = df.query('rooms < 10').copy()\n",
        "# посмотрим поле общая площадь есть квартиры 900 кв м\n",
        "df.total_area.describe()\n",
        "df.total_area.sort_values().tail(20)\n",
        "# ограничим площадь до 500 (потеряем 7 записей)\n",
        "df_del = df.query('total_area > 500').copy()\n",
        "# посмотрим поле цена\n",
        "df.last_price.describe()\n",
        "df.last_price.sort_values().tail(40)\n",
        "# ограничим цену до 100 миллионов (потеряем 37 записей)\n",
        "df_del = df.query('last_price < 100000000').copy()\n",
        "df_del.shape[0] / df.shape[0] * 100\n",
        "df = df_del"
      ]
    },
    {
      "cell_type": "markdown",
      "metadata": {
        "id": "hryintKcvUez"
      },
      "source": [
        "### Посчитайте и добавьте в таблицу новые столбцы"
      ]
    },
    {
      "cell_type": "code",
      "execution_count": null,
      "metadata": {
        "id": "MmqcpC__vUez"
      },
      "outputs": [],
      "source": [
        "# Добавляем столбец со стоимостью квадратного метра (sm_price) и приводим его в целочисленный тип\n",
        "df['sm_price'] = df['last_price'] / df['total_area']\n",
        "df['sm_price'] = df['sm_price'].astype(int)"
      ]
    },
    {
      "cell_type": "code",
      "execution_count": null,
      "metadata": {
        "id": "lU4Jj9DnvUe0"
      },
      "outputs": [],
      "source": [
        "# Добавляем столбцы дня недели, месяца и года\n",
        "df['weekday'] = df['first_day_exposition'].dt.weekday\n",
        "df['month'] = df['first_day_exposition'].dt.month\n",
        "df['year'] = df['first_day_exposition'].dt.year"
      ]
    },
    {
      "cell_type": "code",
      "execution_count": null,
      "metadata": {
        "id": "VuEoQJYfvUe1",
        "outputId": "bc2e60bf-fae6-4b4d-b145-b4e4c751782f"
      },
      "outputs": [
        {
          "data": {
            "text/plain": [
              "другой       17304\n",
              "последний     3316\n",
              "первый        2908\n",
              "Name: floor_group, dtype: int64"
            ]
          },
          "execution_count": 33,
          "metadata": {},
          "output_type": "execute_result"
        }
      ],
      "source": [
        "# Добавляем столбец - тип этажа квартиры\n",
        "# для этого напишем функцию и разделим все этажи на группы\n",
        "def floor(row):\n",
        "    if row['floor'] == 1:\n",
        "        return 'первый'\n",
        "    if row['floor'] == row['floors_total']:\n",
        "        return 'последний'\n",
        "    else:\n",
        "        return 'другой'\n",
        "df['floor_group'] = df.apply(floor, axis=1)\n",
        "df['floor_group'].value_counts()"
      ]
    },
    {
      "cell_type": "code",
      "execution_count": null,
      "metadata": {
        "id": "e9I-cjqrvUe2",
        "outputId": "62ec34b8-8ffa-4803-a7b0-d8be86e64b8f"
      },
      "outputs": [
        {
          "name": "stdout",
          "output_type": "stream",
          "text": [
            "Все готово!\n"
          ]
        }
      ],
      "source": [
        "# расстояние до центра города в км и округляем до целых значенией\n",
        "df['distance_citycenter_km'] = round(df['citycenters_nearest'] / 1000)\n",
        "try:\n",
        "    df['distance_citycenter_km'] =  round(df['distance_citycenter_km'], 2).astype('Int32')\n",
        "    print('Все готово!')\n",
        "except:\n",
        "    print('тип не int')"
      ]
    },
    {
      "cell_type": "markdown",
      "metadata": {
        "id": "bv-ejRvJvUe4"
      },
      "source": [
        "### Проведите исследовательский анализ данных"
      ]
    },
    {
      "cell_type": "markdown",
      "metadata": {
        "id": "X3vPiY6tvUe4"
      },
      "source": [
        "#### Изучите следующие параметры объектов"
      ]
    },
    {
      "cell_type": "code",
      "execution_count": null,
      "metadata": {
        "id": "ZeFBKW4PvUe5",
        "outputId": "bc4251f4-18d4-44fa-9702-66aef150ca15"
      },
      "outputs": [
        {
          "data": {
            "image/png": "[encoded data removed]",
            "text/plain": [
              "<Figure size 432x288 with 1 Axes>"
            ]
          },
          "metadata": {
            "needs_background": "light"
          },
          "output_type": "display_data"
        },
        {
          "name": "stdout",
          "output_type": "stream",
          "text": [
            "Наибольшие по площади варианты:\n",
            "5358     590.000000\n",
            "4237     517.000000\n",
            "8018     507.000000\n",
            "12401    495.000000\n",
            "9826     494.100006\n",
            "22494    491.000000\n",
            "6621     488.000000\n",
            "660      483.899994\n",
            "6221     470.299988\n",
            "20273    460.799988\n",
            "Name: total_area, dtype: float32\n"
          ]
        }
      ],
      "source": [
        "# Изучим общую площадь\n",
        "plt.hist(df['total_area'], bins=30, range=(10,200))\n",
        "plt.title('Площадь квартир')\n",
        "plt.xlabel('Квадратные метры')\n",
        "plt.ylabel('Количество квартир')\n",
        "plt.show()\n",
        "print('Наибольшие по площади варианты:')\n",
        "print(df['total_area'].sort_values(ascending=False).head(10))"
      ]
    },
    {
      "cell_type": "markdown",
      "metadata": {
        "id": "7bikAHxhvUe6"
      },
      "source": [
        "Основная часть квартир имеет площадь до 100 квадратных метров. Есть несколько больших квартир с площадью до 900 кв.м"
      ]
    },
    {
      "cell_type": "code",
      "execution_count": null,
      "metadata": {
        "id": "bi2pmMW_vUe7",
        "outputId": "c7e0f509-c16a-4dc2-bf5e-9010ed4a3463"
      },
      "outputs": [
        {
          "data": {
            "image/png": "[encoded data removed]",
            "text/plain": [
              "<Figure size 432x288 with 1 Axes>"
            ]
          },
          "metadata": {
            "needs_background": "light"
          },
          "output_type": "display_data"
        },
        {
          "name": "stdout",
          "output_type": "stream",
          "text": [
            "Наибольшие по площади варианты:\n",
            "5358     409.000000\n",
            "12401    347.500000\n",
            "4237     332.000000\n",
            "660      312.500000\n",
            "8018     301.500000\n",
            "14088    300.000000\n",
            "9826     282.121063\n",
            "20273    279.600006\n",
            "22494    274.000000\n",
            "14498    264.500000\n",
            "Name: living_area, dtype: float32\n"
          ]
        }
      ],
      "source": [
        "# Изучим жилую площадь\n",
        "plt.hist(df['living_area'], bins=30, range=(10,200))\n",
        "plt.title('Жилая площадь квартир')\n",
        "plt.xlabel('Квадратные метры')\n",
        "plt.ylabel('Количество квартир')\n",
        "plt.show()\n",
        "print('Наибольшие по площади варианты:')\n",
        "print(df['living_area'].sort_values(ascending=False).head(10))"
      ]
    },
    {
      "cell_type": "markdown",
      "metadata": {
        "id": "PKpqm5navUe7"
      },
      "source": [
        "Основная часть квартир имеет жилую площадь до 60 квадратных метров. Есть несколько больших квартир с жилой площадью до 200 кв.м"
      ]
    },
    {
      "cell_type": "code",
      "execution_count": null,
      "metadata": {
        "id": "TMGwQ7FAvUe8",
        "outputId": "4c6077b6-8e34-4b2f-cc47-25a0ac2f6655"
      },
      "outputs": [
        {
          "data": {
            "image/png": "[encoded data removed]",
            "text/plain": [
              "<Figure size 432x288 with 1 Axes>"
            ]
          },
          "metadata": {
            "needs_background": "light"
          },
          "output_type": "display_data"
        },
        {
          "name": "stdout",
          "output_type": "stream",
          "text": [
            "Наибольшие по площади кухни варианты:\n",
            "20215    107.000000\n",
            "2489     100.699997\n",
            "5358     100.000000\n",
            "16239     93.199997\n",
            "16797     93.000000\n",
            "10867     87.199997\n",
            "9826      86.539497\n",
            "4394      77.000000\n",
            "492       77.000000\n",
            "14644     75.000000\n",
            "Name: kitchen_area, dtype: float32\n"
          ]
        }
      ],
      "source": [
        "# Изучим  площадь кухни\n",
        "plt.hist(df['kitchen_area'], bins=30, range=(0,30))\n",
        "plt.title('Площадь кухни')\n",
        "plt.xlabel('Квадратные метры')\n",
        "plt.ylabel('Количество квартир')\n",
        "plt.show()\n",
        "print('Наибольшие по площади кухни варианты:')\n",
        "print(df['kitchen_area'].sort_values(ascending=False).head(10))"
      ]
    },
    {
      "cell_type": "markdown",
      "metadata": {
        "id": "aPRC3FWgvUe9"
      },
      "source": [
        "Самые распространённые кухни - от 5 до 15 метров."
      ]
    },
    {
      "cell_type": "code",
      "execution_count": null,
      "metadata": {
        "id": "neZwJp8cvUe9",
        "outputId": "0982def9-e56b-42ef-e4ba-91f3e0edfa37"
      },
      "outputs": [
        {
          "data": {
            "image/png": "[encoded data removed]",
            "text/plain": [
              "<Figure size 432x288 with 1 Axes>"
            ]
          },
          "metadata": {
            "needs_background": "light"
          },
          "output_type": "display_data"
        },
        {
          "name": "stdout",
          "output_type": "stream",
          "text": [
            "Наибольшие по цене варианты:\n",
            "5631     99000000\n",
            "6621     99000000\n",
            "16590    98000000\n",
            "155      96000000\n",
            "11329    95000000\n",
            "492      95000000\n",
            "12401    91500000\n",
            "22494    91075000\n",
            "509      90000000\n",
            "15151    88000000\n",
            "Name: last_price, dtype: int64\n"
          ]
        }
      ],
      "source": [
        "# Изучим цены объектов\n",
        "plt.hist(df['last_price'], bins=30, range=(0,20000000))\n",
        "plt.title('Цена квартир')\n",
        "plt.xlabel('Цена')\n",
        "plt.ylabel('Количество квартир')\n",
        "plt.show()\n",
        "print('Наибольшие по цене варианты:')\n",
        "print(df['last_price'].sort_values(ascending=False).head(10))"
      ]
    },
    {
      "cell_type": "code",
      "execution_count": null,
      "metadata": {
        "id": "X_pBoxa4vUfA",
        "outputId": "401c21c2-d533-4954-f263-c6bc18367357"
      },
      "outputs": [
        {
          "data": {
            "image/png": "[encoded data removed]",
            "text/plain": [
              "<Figure size 432x288 with 1 Axes>"
            ]
          },
          "metadata": {
            "needs_background": "light"
          },
          "output_type": "display_data"
        },
        {
          "name": "stdout",
          "output_type": "stream",
          "text": [
            "Наибольшие по цене варианты:\n",
            "5631     99.000\n",
            "6621     99.000\n",
            "16590    98.000\n",
            "155      96.000\n",
            "11329    95.000\n",
            "492      95.000\n",
            "12401    91.500\n",
            "22494    91.075\n",
            "509      90.000\n",
            "15151    88.000\n",
            "Name: last_price, dtype: float64\n"
          ]
        }
      ],
      "source": [
        "# разделим цену на миллион и будем считать что цена указана в миллионах\n",
        "df['last_price'] = df['last_price'].astype('float32')\n",
        "df['last_price'] = df['last_price'] / 1000000\n",
        "plt.hist(df['last_price'], bins=30, range=(0,10))\n",
        "plt.title('Цена квартир')\n",
        "plt.xlabel('Цена')\n",
        "plt.ylabel('Количество квартир')\n",
        "plt.show()\n",
        "print('Наибольшие по цене варианты:')\n",
        "print(df['last_price'].sort_values(ascending=False).head(10))"
      ]
    },
    {
      "cell_type": "markdown",
      "metadata": {
        "id": "rDCdVnn7vUfA"
      },
      "source": [
        "Больше всего квартир, стоимостью 5 миллионов, но есть и дорогие более 20 миллионов."
      ]
    },
    {
      "cell_type": "code",
      "execution_count": null,
      "metadata": {
        "id": "dI12joN1vUfB",
        "outputId": "8ed70867-585f-4220-8ab0-d0fe811e60e3"
      },
      "outputs": [
        {
          "data": {
            "image/png": "[encoded data removed]",
            "text/plain": [
              "<Figure size 432x288 with 1 Axes>"
            ]
          },
          "metadata": {
            "needs_background": "light"
          },
          "output_type": "display_data"
        },
        {
          "name": "stdout",
          "output_type": "stream",
          "text": [
            "Наибольшие по числу комнат варианты:\n",
            "14498    19\n",
            "18848    16\n",
            "5358     15\n",
            "866      14\n",
            "20829    14\n",
            "648      11\n",
            "9688     11\n",
            "4149     10\n",
            "18119    10\n",
            "18891    10\n",
            "Name: rooms, dtype: int64\n"
          ]
        }
      ],
      "source": [
        "# Количество комнат\n",
        "plt.hist(df['rooms'], bins=7, range=(1,7))\n",
        "plt.title('Комнаты')\n",
        "plt.xlabel('Количество комнат')\n",
        "plt.ylabel('Количество квартир')\n",
        "plt.show()\n",
        "print('Наибольшие по числу комнат варианты:')\n",
        "print(df['rooms'].sort_values(ascending=False).head(10))"
      ]
    },
    {
      "cell_type": "markdown",
      "metadata": {
        "id": "YJc_sg3CvUfC"
      },
      "source": [
        "Больше всего 1,2, 3 комнатных квартир, но есть и более 5 комнат."
      ]
    },
    {
      "cell_type": "code",
      "execution_count": null,
      "metadata": {
        "id": "11GE9FutvUfC",
        "outputId": "4ce9820b-d5e2-43ff-8c3c-59dd4f25c6fe"
      },
      "outputs": [
        {
          "data": {
            "image/png": "[encoded data removed]",
            "text/plain": [
              "<Figure size 432x288 with 1 Axes>"
            ]
          },
          "metadata": {
            "needs_background": "light"
          },
          "output_type": "display_data"
        },
        {
          "name": "stdout",
          "output_type": "stream",
          "text": [
            "Наибольшие по высоте потолков варианты:\n",
            "22869    100.0\n",
            "22336     32.0\n",
            "3148      32.0\n",
            "21377     27.5\n",
            "20478     27.0\n",
            "4876      27.0\n",
            "22938     27.0\n",
            "5807      27.0\n",
            "5246      27.0\n",
            "17857     27.0\n",
            "Name: ceiling_height, dtype: float32\n"
          ]
        },
        {
          "data": {
            "text/plain": [
              "count    23528.000000\n",
              "mean         2.723510\n",
              "std          0.990975\n",
              "min          1.000000\n",
              "25%          2.600000\n",
              "50%          2.650000\n",
              "75%          2.700000\n",
              "max        100.000000\n",
              "Name: ceiling_height, dtype: float64"
            ]
          },
          "execution_count": 41,
          "metadata": {},
          "output_type": "execute_result"
        }
      ],
      "source": [
        "# Высота потолков\n",
        "plt.hist(df.query('(ceiling_height > 2) & (ceiling_height < 4)')['ceiling_height'], bins=20)\n",
        "plt.title('Высота потолков')\n",
        "plt.xlabel('Метры')\n",
        "plt.ylabel('Количество квартир')\n",
        "plt.show()\n",
        "print('Наибольшие по высоте потолков варианты:')\n",
        "print(df['ceiling_height'].sort_values(ascending=False).head(10))\n",
        "df['ceiling_height'].describe()"
      ]
    },
    {
      "cell_type": "markdown",
      "metadata": {
        "id": "CUc7sKGyvUfD"
      },
      "source": [
        "Потолки в квартирах восновном от 2,5 до 2,75 метров, но есть выбросы до 100 м. Но их не много и на среднее значение они не сильно влияют."
      ]
    },
    {
      "cell_type": "code",
      "execution_count": null,
      "metadata": {
        "id": "WJGAHWQ9vUfD",
        "outputId": "710bbecb-22c9-497f-f63e-5e263be15b99"
      },
      "outputs": [
        {
          "data": {
            "image/png": "[encoded data removed]",
            "text/plain": [
              "<Figure size 432x288 with 1 Axes>"
            ]
          },
          "metadata": {
            "needs_background": "light"
          },
          "output_type": "display_data"
        },
        {
          "name": "stdout",
          "output_type": "stream",
          "text": [
            "Наибольшие по этажу варианты:\n",
            "14498    19\n",
            "18848    16\n",
            "5358     15\n",
            "866      14\n",
            "20829    14\n",
            "648      11\n",
            "9688     11\n",
            "4149     10\n",
            "18119    10\n",
            "18891    10\n",
            "Name: rooms, dtype: int64\n"
          ]
        }
      ],
      "source": [
        "# Этаж квартиры\n",
        "plt.hist(df['floor'], bins=7, range=(1,33))\n",
        "plt.title(\"Этаж\")\n",
        "plt.xlabel('Этаж')\n",
        "plt.ylabel('Количество квартир')\n",
        "plt.show()\n",
        "print('Наибольшие по этажу варианты:')\n",
        "print(df['rooms'].sort_values(ascending=False).head(10))"
      ]
    },
    {
      "cell_type": "markdown",
      "metadata": {
        "id": "YE0Hg-vdvUfE"
      },
      "source": [
        "Больше всего квартир продается на 2-10 этажи."
      ]
    },
    {
      "cell_type": "code",
      "execution_count": null,
      "metadata": {
        "id": "Lyr_QEMkvUfF",
        "outputId": "db652785-6a53-4eed-941b-0a8797d9efd4"
      },
      "outputs": [
        {
          "data": {
            "image/png": "[encoded data removed]",
            "text/plain": [
              "<Figure size 432x288 with 1 Axes>"
            ]
          },
          "metadata": {
            "needs_background": "light"
          },
          "output_type": "display_data"
        }
      ],
      "source": [
        "# Тип этажа квартиры\n",
        "plt.hist(df['floor_group'])\n",
        "plt.title(\"тип этажа\")\n",
        "plt.xlabel('тип этажа')\n",
        "plt.ylabel('Количество квартир')\n",
        "plt.show()"
      ]
    },
    {
      "cell_type": "markdown",
      "metadata": {
        "id": "29Bq5oskvUfG"
      },
      "source": [
        "Больше всего квартир на других этажах (не на первом и не на последнем). На последнем этаже в продаже чуть больше квартир, чем на первом."
      ]
    },
    {
      "cell_type": "code",
      "execution_count": null,
      "metadata": {
        "id": "Vl-JTv3YvUfG",
        "outputId": "cc2637a8-a003-4169-a08e-550d05941051"
      },
      "outputs": [
        {
          "data": {
            "image/png": "[encoded data removed]",
            "text/plain": [
              "<Figure size 432x288 with 1 Axes>"
            ]
          },
          "metadata": {
            "needs_background": "light"
          },
          "output_type": "display_data"
        },
        {
          "name": "stdout",
          "output_type": "stream",
          "text": [
            "Наибольшие по этажу варианты:\n",
            "2253     60.0\n",
            "16731    52.0\n",
            "16934    37.0\n",
            "5807     36.0\n",
            "397      36.0\n",
            "11079    36.0\n",
            "9186     35.0\n",
            "1060     35.0\n",
            "12888    35.0\n",
            "15982    35.0\n",
            "Name: floors_total, dtype: float32\n"
          ]
        }
      ],
      "source": [
        "# Общее количество этажей в доме\n",
        "plt.hist(df['floors_total'], bins=7, range=(1,33))\n",
        "plt.title(\"Этаж\")\n",
        "plt.xlabel('Этаж')\n",
        "plt.ylabel('Количество квартир')\n",
        "plt.show()\n",
        "print('Наибольшие по этажу варианты:')\n",
        "print(df['floors_total'].sort_values(ascending=False).head(10))"
      ]
    },
    {
      "cell_type": "markdown",
      "metadata": {
        "id": "q_o9C6kJvUfH"
      },
      "source": [
        "Судя по графику большая часть квартир продается в 5 этажных домах, на втором месте 10 этажные, меньше всего квартир в домах  в 20-25 этажей"
      ]
    },
    {
      "cell_type": "code",
      "execution_count": null,
      "metadata": {
        "id": "eLkNChfmvUfH",
        "outputId": "ab86db3b-b767-4a45-fda0-4ae2d3e507c3"
      },
      "outputs": [
        {
          "data": {
            "text/plain": [
              "Text(0, 0.5, 'Количество квартир')"
            ]
          },
          "execution_count": 45,
          "metadata": {},
          "output_type": "execute_result"
        },
        {
          "data": {
            "image/png": "[encoded data removed]",
            "text/plain": [
              "<Figure size 720x360 with 1 Axes>"
            ]
          },
          "metadata": {
            "needs_background": "light"
          },
          "output_type": "display_data"
        }
      ],
      "source": [
        "# Расстояние до центра города в метрах\n",
        "df.hist('citycenters_nearest', bins=100, figsize=(10,5))\n",
        "plt.title(\"Расстояние до центра\")\n",
        "plt.xlabel('Расстояние до центра\"')\n",
        "plt.ylabel('Количество квартир')"
      ]
    },
    {
      "cell_type": "code",
      "execution_count": null,
      "metadata": {
        "id": "Do1GqaKDvUfJ",
        "outputId": "2958f7a6-bdce-4ad8-b2c4-b266cdab4f41"
      },
      "outputs": [
        {
          "data": {
            "text/plain": [
              "Text(0, 0.5, 'Количество квартир')"
            ]
          },
          "execution_count": 46,
          "metadata": {},
          "output_type": "execute_result"
        },
        {
          "data": {
            "image/png": "[encoded data removed]",
            "text/plain": [
              "<Figure size 720x360 with 1 Axes>"
            ]
          },
          "metadata": {
            "needs_background": "light"
          },
          "output_type": "display_data"
        }
      ],
      "source": [
        "# расстояние до ближайшего аэропорта\n",
        "df.hist('airports_nearest', bins=100, figsize=(10,5))\n",
        "plt.title(\"Расстояние до аэропорта\")\n",
        "plt.xlabel('Расстояние до аэропорта\"')\n",
        "plt.ylabel('Количество квартир')"
      ]
    },
    {
      "cell_type": "code",
      "execution_count": null,
      "metadata": {
        "id": "-gCcxLrPvUfK",
        "outputId": "16014915-3cbe-4a5f-9b38-aaf5e214407f"
      },
      "outputs": [
        {
          "data": {
            "text/plain": [
              "Text(0, 0.5, 'Количество квартир')"
            ]
          },
          "execution_count": 47,
          "metadata": {},
          "output_type": "execute_result"
        },
        {
          "data": {
            "image/png": "[encoded data removed]",
            "text/plain": [
              "<Figure size 720x360 with 1 Axes>"
            ]
          },
          "metadata": {
            "needs_background": "light"
          },
          "output_type": "display_data"
        }
      ],
      "source": [
        "# расстояние до ближайшего парка\n",
        "df.hist('parks_nearest', bins=100, figsize=(10,5))\n",
        "plt.title(\"Расстояние до парка\")\n",
        "plt.xlabel('Расстояние до парка\"')\n",
        "plt.ylabel('Количество квартир')"
      ]
    },
    {
      "cell_type": "code",
      "execution_count": null,
      "metadata": {
        "id": "lH1JOItuvUfK",
        "outputId": "147e3092-a2aa-4ac1-c5e3-f7bf5f405182"
      },
      "outputs": [
        {
          "data": {
            "text/plain": [
              "Text(0, 0.5, 'Количество квартир')"
            ]
          },
          "execution_count": 48,
          "metadata": {},
          "output_type": "execute_result"
        },
        {
          "data": {
            "image/png": "[encoded data removed]",
            "text/plain": [
              "<Figure size 720x360 with 1 Axes>"
            ]
          },
          "metadata": {
            "needs_background": "light"
          },
          "output_type": "display_data"
        },
        {
          "data": {
            "image/png": "[encoded data removed]",
            "text/plain": [
              "<Figure size 720x360 with 1 Axes>"
            ]
          },
          "metadata": {
            "needs_background": "light"
          },
          "output_type": "display_data"
        }
      ],
      "source": [
        "# день и месяц публикации объявления\n",
        "df.hist('weekday', bins=50, figsize=(10,5));\n",
        "plt.title(\"Распределение по дням\")\n",
        "plt.xlabel('день\"')\n",
        "plt.ylabel('Количество квартир')\n",
        "df.hist('month', bins=50, figsize=(10,5));\n",
        "plt.title(\"Распределение по месяцам\")\n",
        "plt.xlabel('месяц\"')\n",
        "plt.ylabel('Количество квартир')"
      ]
    },
    {
      "cell_type": "markdown",
      "metadata": {
        "id": "LMYez5c6vUfL"
      },
      "source": [
        "Чаще всего продают квартиры с февраля (самый пик) по апрель и с сентября по ноябрь. А самые популярные дни для размещения объявлений - вторник и четверг."
      ]
    },
    {
      "cell_type": "markdown",
      "metadata": {
        "id": "zHrBCR45vUfO"
      },
      "source": [
        "#### Изучите, как быстро продавались квартиры (столбец days_exposition). Этот параметр показывает, сколько дней было размещено каждое объявление."
      ]
    },
    {
      "cell_type": "code",
      "execution_count": null,
      "metadata": {
        "id": "q4sIOMgYvUfa",
        "outputId": "b5427bb6-fd53-47d5-e2ab-fd23651e5a08"
      },
      "outputs": [
        {
          "data": {
            "text/plain": [
              "count    20362.000000\n",
              "mean       180.492535\n",
              "std        219.560918\n",
              "min          1.000000\n",
              "25%         45.000000\n",
              "50%         95.000000\n",
              "75%        231.000000\n",
              "max       1580.000000\n",
              "Name: days_exposition, dtype: float64"
            ]
          },
          "execution_count": 49,
          "metadata": {},
          "output_type": "execute_result"
        }
      ],
      "source": [
        "# изучим время продажи квартиры\n",
        "df.days_exposition.describe()"
      ]
    },
    {
      "cell_type": "markdown",
      "metadata": {
        "id": "MCBKUpFyvUfb"
      },
      "source": [
        "Здесь видим, что медиана 73 сильно ниже, чем среднее, значит в выборке есть выбросы. Посмотрим на графике"
      ]
    },
    {
      "cell_type": "code",
      "execution_count": null,
      "metadata": {
        "id": "gGEmSpmhvUfc",
        "outputId": "4cfeae40-2af5-44e9-8b30-887cc403224d"
      },
      "outputs": [
        {
          "name": "stdout",
          "output_type": "stream",
          "text": [
            "Время продаж\n"
          ]
        },
        {
          "data": {
            "image/png": "[encoded data removed]",
            "text/plain": [
              "<Figure size 720x360 with 1 Axes>"
            ]
          },
          "metadata": {
            "needs_background": "light"
          },
          "output_type": "display_data"
        }
      ],
      "source": [
        "print('Время продаж')\n",
        "df.boxplot('days_exposition', figsize=(10,5))\n",
        "plt.ylabel('Время продажи квартиры')\n",
        "plt.show()"
      ]
    },
    {
      "cell_type": "code",
      "execution_count": null,
      "metadata": {
        "id": "zjCHt3FtvUfe"
      },
      "outputs": [],
      "source": [
        "# уберем выбросы\n",
        "df = df.query('days_exposition < 250')"
      ]
    },
    {
      "cell_type": "code",
      "execution_count": null,
      "metadata": {
        "id": "3D9kUAJKvUfg",
        "outputId": "f39008e8-2d7c-419f-f3df-0e1fce8d4c0e"
      },
      "outputs": [
        {
          "name": "stdout",
          "output_type": "stream",
          "text": [
            "Время продаж\n"
          ]
        },
        {
          "data": {
            "image/png": "[encoded data removed]",
            "text/plain": [
              "<Figure size 576x360 with 1 Axes>"
            ]
          },
          "metadata": {
            "needs_background": "light"
          },
          "output_type": "display_data"
        }
      ],
      "source": [
        "print('Время продаж')\n",
        "df.boxplot('days_exposition', figsize=(8,5))\n",
        "plt.ylabel('Время продажи квартиры')\n",
        "plt.show()"
      ]
    },
    {
      "cell_type": "code",
      "execution_count": null,
      "metadata": {
        "id": "TxyOzH42vUfh",
        "outputId": "9788656f-7fd4-4ef6-c903-4dfa1cebb797"
      },
      "outputs": [
        {
          "data": {
            "image/png": "[encoded data removed]",
            "text/plain": [
              "<Figure size 720x360 with 1 Axes>"
            ]
          },
          "metadata": {
            "needs_background": "light"
          },
          "output_type": "display_data"
        },
        {
          "data": {
            "text/plain": [
              "count    15642.000000\n",
              "mean        83.089247\n",
              "std         63.470526\n",
              "min          1.000000\n",
              "25%         33.000000\n",
              "50%         63.000000\n",
              "75%        123.000000\n",
              "max        249.000000\n",
              "Name: days_exposition, dtype: float64"
            ]
          },
          "execution_count": 53,
          "metadata": {},
          "output_type": "execute_result"
        }
      ],
      "source": [
        "#Распределение количества продаж по времени\n",
        "df.plot(kind='hist',y='days_exposition',title='Распределение количества продаж по времени', bins=100, figsize=(10,5))\n",
        "plt.xlabel('Сколько дней было размещено объявление (от публикации до снятия)')\n",
        "plt.ylabel('Количество объявлений')\n",
        "plt.show()\n",
        "df.days_exposition.describe()"
      ]
    },
    {
      "cell_type": "markdown",
      "metadata": {
        "id": "DAu-0ANNvUfi"
      },
      "source": [
        "Выше из данных видим, что среднее время продажи составляет 83 дня, продажи более 123 дней с момента размещения можно считать долгими, а есть квартиры, которые продаются в первые дни публикации, такие продажи считаем быстрыми.  "
      ]
    },
    {
      "cell_type": "markdown",
      "metadata": {
        "id": "yXujAZKpvUfk"
      },
      "source": [
        "#### Какие факторы больше всего влияют на общую (полную) стоимость объекта?"
      ]
    },
    {
      "cell_type": "code",
      "execution_count": null,
      "metadata": {
        "id": "urSsohdDvUfl",
        "outputId": "4ebde68f-e4af-45f1-c0a3-9b7fb069d7ac"
      },
      "outputs": [
        {
          "data": {
            "image/png": "[encoded data removed]",
            "text/plain": [
              "<Figure size 360x360 with 1 Axes>"
            ]
          },
          "metadata": {
            "needs_background": "light"
          },
          "output_type": "display_data"
        },
        {
          "data": {
            "image/png": "[encoded data removed]",
            "text/plain": [
              "<Figure size 432x288 with 1 Axes>"
            ]
          },
          "metadata": {
            "needs_background": "light"
          },
          "output_type": "display_data"
        }
      ],
      "source": [
        "# изучим зависимость цены от общей площади, построим сводную таблицу и график\n",
        "df.pivot_table(index='last_price', values='total_area').plot(grid=True, style='o-', figsize=(5, 5))\n",
        "plt.title('Зависимость цены от общей площади')\n",
        "plt.xlabel('Цена')\n",
        "plt.ylabel('Общая площадь')\n",
        "plt.show()\n",
        "\n",
        "df.plot.scatter (x = 'last_price', y = 'total_area');\n",
        "plt.title('Зависимость цены от общей площади')\n",
        "plt.xlabel('Цена')\n",
        "plt.ylabel('Общая площадь')\n",
        "plt.show()"
      ]
    },
    {
      "cell_type": "markdown",
      "metadata": {
        "id": "6tpeCSJhvUfm"
      },
      "source": [
        "С увеличением площади стоимость квартир растет, но самые большие по площади квартиры не самые дорогие, скорей всего они далеко от центра."
      ]
    },
    {
      "cell_type": "code",
      "execution_count": null,
      "metadata": {
        "id": "2VtNeOd4vUfn",
        "outputId": "617ce6ff-c0bc-4093-a5ac-d14d3c748533"
      },
      "outputs": [
        {
          "data": {
            "image/png": "[encoded data removed]",
            "text/plain": [
              "<Figure size 360x360 with 1 Axes>"
            ]
          },
          "metadata": {
            "needs_background": "light"
          },
          "output_type": "display_data"
        },
        {
          "data": {
            "image/png": "[encoded data removed]",
            "text/plain": [
              "<Figure size 432x288 with 1 Axes>"
            ]
          },
          "metadata": {
            "needs_background": "light"
          },
          "output_type": "display_data"
        }
      ],
      "source": [
        "# изучим зависимость цены от жилой площади, построим сводную таблицу и график\n",
        "df.pivot_table(index='last_price', values='living_area').plot(grid=True, style='o-', figsize=(5, 5))\n",
        "plt.title('Зависимость цены от жилой площади')\n",
        "plt.xlabel('Цена')\n",
        "plt.ylabel('Общая площадь')\n",
        "plt.show()\n",
        "\n",
        "df.plot.scatter (x = 'last_price', y = 'living_area');\n",
        "plt.title('Зависимость цены от жилой площади')\n",
        "plt.xlabel('Цена')\n",
        "plt.ylabel('Общая площадь')\n",
        "plt.show()"
      ]
    },
    {
      "cell_type": "markdown",
      "metadata": {
        "id": "aBIWEv7lvUfq"
      },
      "source": [
        "Здесь видим туже зависимость что и для общей площади"
      ]
    },
    {
      "cell_type": "code",
      "execution_count": null,
      "metadata": {
        "id": "W1Wn1B-PvUfr",
        "outputId": "c186912e-03b5-4f00-b998-6f340c9bbc3d"
      },
      "outputs": [
        {
          "data": {
            "image/png": "[encoded data removed]",
            "text/plain": [
              "<Figure size 360x360 with 1 Axes>"
            ]
          },
          "metadata": {
            "needs_background": "light"
          },
          "output_type": "display_data"
        },
        {
          "data": {
            "image/png": "[encoded data removed]",
            "text/plain": [
              "<Figure size 432x288 with 1 Axes>"
            ]
          },
          "metadata": {
            "needs_background": "light"
          },
          "output_type": "display_data"
        }
      ],
      "source": [
        "# изучим зависимость цены от площади кухни, построим сводную таблицу и график\n",
        "df.pivot_table(index='last_price', values='kitchen_area').plot(grid=True, style='o-', figsize=(5, 5))\n",
        "plt.title('Зависимость цены от площади кухни')\n",
        "plt.xlabel('Цена')\n",
        "plt.ylabel('Общая площадь')\n",
        "plt.show()\n",
        "\n",
        "df.plot.scatter (x = 'last_price', y = 'kitchen_area');\n",
        "plt.title('Зависимость цены от площади кухни')\n",
        "plt.xlabel('Цена')\n",
        "plt.ylabel('Общая площадь')\n",
        "plt.show()"
      ]
    },
    {
      "cell_type": "markdown",
      "metadata": {
        "id": "0FxDK1XyvUfs"
      },
      "source": [
        "От площади кухни цена зависит так же как от общей площади и жилой."
      ]
    },
    {
      "cell_type": "code",
      "execution_count": null,
      "metadata": {
        "id": "S5L_U6tUvUft",
        "outputId": "01f78d4d-7103-4eb9-fa7e-3dea59d54bd6"
      },
      "outputs": [
        {
          "data": {
            "image/png": "[encoded data removed]",
            "text/plain": [
              "<Figure size 360x360 with 1 Axes>"
            ]
          },
          "metadata": {
            "needs_background": "light"
          },
          "output_type": "display_data"
        }
      ],
      "source": [
        "#изучим зависимость цены от дня размеения построим сводную таблицу и график\n",
        "df.pivot_table(index='weekday', values='last_price').plot(grid=True, style='o-', figsize=(5, 5))\n",
        "plt.title('Зависимость цены от дня недели')\n",
        "plt.xlabel('День недели')\n",
        "plt.ylabel('Цена')\n",
        "plt.show()"
      ]
    },
    {
      "cell_type": "markdown",
      "metadata": {
        "id": "mqvC-al4vUfv"
      },
      "source": [
        "В течении недели цены колеблются, явный рост видим только в субботу."
      ]
    },
    {
      "cell_type": "code",
      "execution_count": null,
      "metadata": {
        "id": "CHjrS6UjvUfw",
        "outputId": "6f75c61b-0c6e-42ab-f091-55673e4ff451"
      },
      "outputs": [
        {
          "data": {
            "image/png": "[encoded data removed]",
            "text/plain": [
              "<Figure size 720x360 with 1 Axes>"
            ]
          },
          "metadata": {
            "needs_background": "light"
          },
          "output_type": "display_data"
        }
      ],
      "source": [
        "#изучим зависимость цены от месяца размеения построим сводную таблицу и график\n",
        "df.pivot_table(index='month', values='last_price').plot(grid=True, style='o-', xlim=(1,12), figsize=(10, 5))\n",
        "plt.title('Зависимость цены от месяца')\n",
        "plt.xlabel('Месяц')\n",
        "plt.ylabel('Цена')\n",
        "plt.show()"
      ]
    },
    {
      "cell_type": "markdown",
      "metadata": {
        "id": "iO3Lss-yvUfw"
      },
      "source": [
        "Судя по графику наблюдается высокая зависимость стоимости квартиры от месяца, самые высокие цены в апреле и сентябре, а на лето цены падают."
      ]
    },
    {
      "cell_type": "code",
      "execution_count": null,
      "metadata": {
        "id": "5ovNKGtqvUfx",
        "outputId": "21fb667e-c1ef-4a53-9907-d10b54307dbc"
      },
      "outputs": [
        {
          "data": {
            "image/png": "[encoded data removed]",
            "text/plain": [
              "<Figure size 360x360 with 1 Axes>"
            ]
          },
          "metadata": {
            "needs_background": "light"
          },
          "output_type": "display_data"
        }
      ],
      "source": [
        "#изучим зависимость цены от года размещения построим сводную таблицу и график\n",
        "df.pivot_table(index='year', values='last_price').plot(kind='bar', grid=True, style='o-', figsize=(5, 5))\n",
        "plt.title('Зависимость цены от года')\n",
        "plt.xlabel('Год')\n",
        "plt.ylabel('Цена')\n",
        "plt.show()"
      ]
    },
    {
      "cell_type": "markdown",
      "metadata": {
        "id": "7j65zfZkvUfy"
      },
      "source": [
        "Здесь видим падение цен на квартиры с 2014 года, в 2019 намечается небольшой рост цен."
      ]
    },
    {
      "cell_type": "code",
      "execution_count": null,
      "metadata": {
        "id": "7VmSNWZEvUfy",
        "outputId": "880da4cd-9c6e-4608-bd6a-225c9f707dcf"
      },
      "outputs": [
        {
          "data": {
            "image/png": "[encoded data removed]",
            "text/plain": [
              "<Figure size 1080x360 with 1 Axes>"
            ]
          },
          "metadata": {
            "needs_background": "light"
          },
          "output_type": "display_data"
        }
      ],
      "source": [
        "# изучим зависимость цены от количества комнат, построим сводную таблицу и график\n",
        "df.pivot_table(index=['rooms'], values='last_price').plot(kind='bar', grid=True, linewidth=3, alpha=0.6,figsize=(15,5))\n",
        "plt.title('Зависимость цены от количества комнат')\n",
        "plt.xlabel('Количество комнат')\n",
        "plt.ylabel('Цена')\n",
        "plt.show()"
      ]
    },
    {
      "cell_type": "markdown",
      "metadata": {
        "id": "dPiTHGtqvUfz"
      },
      "source": [
        "Цена зависит от количества комнат, но у самых дорогих квартир не самое большое количество комнат."
      ]
    },
    {
      "cell_type": "code",
      "execution_count": null,
      "metadata": {
        "id": "w7KjDpKzvUf0",
        "outputId": "4c7adbb8-981f-4311-9884-e239e97cebfc"
      },
      "outputs": [
        {
          "data": {
            "image/png": "[encoded data removed]",
            "text/plain": [
              "<Figure size 360x360 with 1 Axes>"
            ]
          },
          "metadata": {
            "needs_background": "light"
          },
          "output_type": "display_data"
        }
      ],
      "source": [
        "# изучим зависимость цены от этажа, построим сводную таблицу и график\n",
        "df.pivot_table(index='floor_group', values='last_price').plot(grid=True, style='o-', figsize=(5, 5))\n",
        "plt.title('Зависимость цены от этажа')\n",
        "plt.xlabel('Этаж')\n",
        "plt.ylabel('Цена')\n",
        "plt.show()"
      ]
    },
    {
      "cell_type": "markdown",
      "metadata": {
        "id": "Oynsn2ubvUf2"
      },
      "source": [
        "На данном графике явно прослеживается зависимость от этажа, на котоором расположена квартира. Цена на первый этаж ниже всего, на средние этажи - самая высокая."
      ]
    },
    {
      "cell_type": "markdown",
      "metadata": {
        "id": "jgybyHjevUf4"
      },
      "source": [
        "#### Посчитайте среднюю цену одного квадратного метра в 10 населённых пунктах с наибольшим числом объявлений. Выделите населённые пункты с самой высокой и низкой стоимостью квадратного метра. Эти данные можно найти по имени в столбце locality_name."
      ]
    },
    {
      "cell_type": "code",
      "execution_count": null,
      "metadata": {
        "id": "fuGTgA19vUf5"
      },
      "outputs": [],
      "source": [
        "# создадим новый столбец - цена за квадратный метр\n",
        "df['price_sq'] = df['last_price']/df['total_area']"
      ]
    },
    {
      "cell_type": "code",
      "execution_count": null,
      "metadata": {
        "id": "Me-WkMD0vUf7",
        "outputId": "4e868d43-42e7-4072-b9ac-4ad1c7967848"
      },
      "outputs": [
        {
          "data": {
            "text/html": [
              "<div>\n",
              "<style scoped>\n",
              "    .dataframe tbody tr th:only-of-type {\n",
              "        vertical-align: middle;\n",
              "    }\n",
              "\n",
              "    .dataframe tbody tr th {\n",
              "        vertical-align: top;\n",
              "    }\n",
              "\n",
              "    .dataframe thead th {\n",
              "        text-align: right;\n",
              "    }\n",
              "</style>\n",
              "<table border=\"1\" class=\"dataframe\">\n",
              "  <thead>\n",
              "    <tr style=\"text-align: right;\">\n",
              "      <th></th>\n",
              "      <th>locality_name</th>\n",
              "      <th>first_day_exposition</th>\n",
              "      <th>meter_mean_10</th>\n",
              "    </tr>\n",
              "  </thead>\n",
              "  <tbody>\n",
              "    <tr>\n",
              "      <th>0</th>\n",
              "      <td>санкт-петербург</td>\n",
              "      <td>10391</td>\n",
              "      <td>0.110020</td>\n",
              "    </tr>\n",
              "    <tr>\n",
              "      <th>1</th>\n",
              "      <td>пушкин</td>\n",
              "      <td>219</td>\n",
              "      <td>0.100733</td>\n",
              "    </tr>\n",
              "    <tr>\n",
              "      <th>2</th>\n",
              "      <td>деревня кудрово</td>\n",
              "      <td>227</td>\n",
              "      <td>0.092912</td>\n",
              "    </tr>\n",
              "    <tr>\n",
              "      <th>3</th>\n",
              "      <td>посёлок парголово</td>\n",
              "      <td>241</td>\n",
              "      <td>0.088996</td>\n",
              "    </tr>\n",
              "    <tr>\n",
              "      <th>4</th>\n",
              "      <td>посёлок мурино</td>\n",
              "      <td>457</td>\n",
              "      <td>0.086223</td>\n",
              "    </tr>\n",
              "    <tr>\n",
              "      <th>5</th>\n",
              "      <td>посёлок шушары</td>\n",
              "      <td>332</td>\n",
              "      <td>0.078120</td>\n",
              "    </tr>\n",
              "    <tr>\n",
              "      <th>6</th>\n",
              "      <td>колпино</td>\n",
              "      <td>257</td>\n",
              "      <td>0.074897</td>\n",
              "    </tr>\n",
              "    <tr>\n",
              "      <th>7</th>\n",
              "      <td>всеволожск</td>\n",
              "      <td>248</td>\n",
              "      <td>0.069347</td>\n",
              "    </tr>\n",
              "    <tr>\n",
              "      <th>8</th>\n",
              "      <td>гатчина</td>\n",
              "      <td>199</td>\n",
              "      <td>0.068489</td>\n",
              "    </tr>\n",
              "    <tr>\n",
              "      <th>9</th>\n",
              "      <td>выборг</td>\n",
              "      <td>163</td>\n",
              "      <td>0.057382</td>\n",
              "    </tr>\n",
              "  </tbody>\n",
              "</table>\n",
              "</div>"
            ],
            "text/plain": [
              "       locality_name  first_day_exposition  meter_mean_10\n",
              "0    санкт-петербург                 10391       0.110020\n",
              "1             пушкин                   219       0.100733\n",
              "2    деревня кудрово                   227       0.092912\n",
              "3  посёлок парголово                   241       0.088996\n",
              "4     посёлок мурино                   457       0.086223\n",
              "5     посёлок шушары                   332       0.078120\n",
              "6            колпино                   257       0.074897\n",
              "7         всеволожск                   248       0.069347\n",
              "8            гатчина                   199       0.068489\n",
              "9             выборг                   163       0.057382"
            ]
          },
          "execution_count": 63,
          "metadata": {},
          "output_type": "execute_result"
        }
      ],
      "source": [
        "# Выберем топ 10 населенных пунктов и запишем в переменную\n",
        "locality_10 = df.pivot_table(index='locality_name', values='first_day_exposition', aggfunc='count').sort_values(by='first_day_exposition', ascending=False).head(10)\n",
        "# Посчитем СРЕДНЮЮ цену одного квадратного метра в 10 населённых пунктах с наибольшим числом объявлений\n",
        "locality_10['meter_mean_10'] = df.pivot_table(index='locality_name', values='price_sq', aggfunc='mean')\n",
        "# отсортируем список\n",
        "locality_10_mean = locality_10.sort_values(by='meter_mean_10', ascending=False).reset_index()\n",
        "locality_10_mean"
      ]
    },
    {
      "cell_type": "code",
      "execution_count": null,
      "metadata": {
        "id": "yWSzORW4vUf9",
        "outputId": "4d3b3672-0be1-42aa-9928-436eeb073d1e"
      },
      "outputs": [
        {
          "data": {
            "image/png": "[encoded data removed]",
            "text/plain": [
              "<Figure size 1800x216 with 1 Axes>"
            ]
          },
          "metadata": {
            "needs_background": "light"
          },
          "output_type": "display_data"
        }
      ],
      "source": [
        "plt.figure(figsize=(25, 3))\n",
        "\n",
        "sns.barplot(data=locality_10_mean, x=locality_10_mean['locality_name'], y=locality_10_mean['meter_mean_10'])\n",
        "plt.title('Средняя цена квадратного метра в топ 10')\n",
        "plt.ylabel('Средняя цена за метр')\n",
        "plt.xlabel('Населенный пункт')\n",
        "plt.grid(color='grey', axis='both', alpha=0.5)\n",
        "plt.show()"
      ]
    },
    {
      "cell_type": "markdown",
      "metadata": {
        "id": "viHet1kZvUf-"
      },
      "source": [
        "Самая высокая средняя цена квадратного метра в Санкт Петербурге. На втором месте Пушкин, далее идут пригороды, на последнем месте в десятке Выборг."
      ]
    },
    {
      "cell_type": "markdown",
      "metadata": {
        "id": "7Yo_err8vUgD"
      },
      "source": [
        "#### Ранее вы посчитали расстояние до центра в километрах. Теперь выделите квартиры в Санкт-Петербурге с помощью столбца locality_name и вычислите среднюю цену каждого километра. Опишите, как стоимость объектов зависит от расстояния до центра города."
      ]
    },
    {
      "cell_type": "code",
      "execution_count": null,
      "metadata": {
        "id": "GtohYH5vvUgD",
        "outputId": "a888a3b0-e7e1-4fd2-9755-7f70a8a6af18"
      },
      "outputs": [
        {
          "data": {
            "text/html": [
              "<div>\n",
              "<style scoped>\n",
              "    .dataframe tbody tr th:only-of-type {\n",
              "        vertical-align: middle;\n",
              "    }\n",
              "\n",
              "    .dataframe tbody tr th {\n",
              "        vertical-align: top;\n",
              "    }\n",
              "\n",
              "    .dataframe thead th {\n",
              "        text-align: right;\n",
              "    }\n",
              "</style>\n",
              "<table border=\"1\" class=\"dataframe\">\n",
              "  <thead>\n",
              "    <tr style=\"text-align: right;\">\n",
              "      <th></th>\n",
              "      <th>last_price</th>\n",
              "    </tr>\n",
              "    <tr>\n",
              "      <th>distance_citycenter_km</th>\n",
              "      <th></th>\n",
              "    </tr>\n",
              "  </thead>\n",
              "  <tbody>\n",
              "    <tr>\n",
              "      <th>0</th>\n",
              "      <td>13.473179</td>\n",
              "    </tr>\n",
              "    <tr>\n",
              "      <th>1</th>\n",
              "      <td>14.895806</td>\n",
              "    </tr>\n",
              "    <tr>\n",
              "      <th>2</th>\n",
              "      <td>13.168438</td>\n",
              "    </tr>\n",
              "    <tr>\n",
              "      <th>3</th>\n",
              "      <td>10.404362</td>\n",
              "    </tr>\n",
              "    <tr>\n",
              "      <th>4</th>\n",
              "      <td>10.000663</td>\n",
              "    </tr>\n",
              "    <tr>\n",
              "      <th>5</th>\n",
              "      <td>11.682810</td>\n",
              "    </tr>\n",
              "    <tr>\n",
              "      <th>6</th>\n",
              "      <td>12.015381</td>\n",
              "    </tr>\n",
              "    <tr>\n",
              "      <th>7</th>\n",
              "      <td>10.990200</td>\n",
              "    </tr>\n",
              "    <tr>\n",
              "      <th>8</th>\n",
              "      <td>8.159417</td>\n",
              "    </tr>\n",
              "    <tr>\n",
              "      <th>9</th>\n",
              "      <td>6.582404</td>\n",
              "    </tr>\n",
              "  </tbody>\n",
              "</table>\n",
              "</div>"
            ],
            "text/plain": [
              "                        last_price\n",
              "distance_citycenter_km            \n",
              "0                        13.473179\n",
              "1                        14.895806\n",
              "2                        13.168438\n",
              "3                        10.404362\n",
              "4                        10.000663\n",
              "5                        11.682810\n",
              "6                        12.015381\n",
              "7                        10.990200\n",
              "8                         8.159417\n",
              "9                         6.582404"
            ]
          },
          "execution_count": 65,
          "metadata": {},
          "output_type": "execute_result"
        }
      ],
      "source": [
        "# выберем санкт-петербург и посчитаем среднюю стоимость для каждого км\n",
        "df.query('locality_name == \"санкт-петербург\"').pivot_table(index='distance_citycenter_km', values='last_price').head(10)"
      ]
    },
    {
      "cell_type": "markdown",
      "metadata": {
        "id": "xWkZUGKuvUgE"
      },
      "source": [
        "Из таблицы видно, что с увеличением количества километров от цента, цена за квартиру падает."
      ]
    },
    {
      "cell_type": "code",
      "execution_count": null,
      "metadata": {
        "id": "BftVKknXvUgE",
        "outputId": "5455e2c0-dc01-4d33-da9c-416d28047a85"
      },
      "outputs": [
        {
          "data": {
            "image/png": "[encoded data removed]",
            "text/plain": [
              "<Figure size 720x360 with 1 Axes>"
            ]
          },
          "metadata": {
            "needs_background": "light"
          },
          "output_type": "display_data"
        }
      ],
      "source": [
        "# для наглядности построим график\n",
        "df.query('locality_name == \"санкт-петербург\"').pivot_table(index='distance_citycenter_km', values='last_price').plot(grid=True, style='o-', xlim=(0,15), figsize=(10, 5))\n",
        "plt.title('Зависимость от удаленности от центра')\n",
        "plt.xlabel('км')\n",
        "plt.ylabel('Цена')\n",
        "plt.show()"
      ]
    },
    {
      "cell_type": "markdown",
      "metadata": {
        "id": "nkOZkxizvUgF"
      },
      "source": [
        "На графике хорошо видно, что центр - это до 9 км и меньше. Дальше 9 км цена уже так сильно не зависит от удаленности от центра."
      ]
    },
    {
      "cell_type": "markdown",
      "metadata": {
        "id": "iEgYWGhqvUgF"
      },
      "source": [
        "### Общий вывод"
      ]
    },
    {
      "cell_type": "markdown",
      "metadata": {
        "id": "q6PIS8jsvUgG"
      },
      "source": [
        "В данном исследовании были проанализированы объявления о продаже квартир в Санкт-Петербурге и в его пригородах.\n",
        "При предобработке данных было выявлено большое количество пропусков, которые скорей всего были технические. По возможности данные были заполнены, но на будущее стоит предупредить сотрудников, отвечающих за выгрузку данных о возникших проблемах с данными. Кроме этого были устранены имеющиеся дубликаты. Такие ошибки в данных могут не повториться, если для заполения данных полей подключить справочник с названием населенного пункта. Пропуски в данных можно так же сократить, если на поля при заполнении поставить условие, что без данных вся карточка не будет сохраняться, тогда пользователь при отсутствии балкона например будет заполнять поле 0, поля аппаратменты, студия при таких условиях тоже будут заполнены.\n",
        "\n",
        "Далее в проекте были добавлены новые поля, такие как: цена одного квадратного метра, день недели публикации объявления (0 — понедельник, 1 — вторник и так далее), месяц публикации объявления, год публикации объявления, тип этажа квартиры (значения — «первый», «последний», «другой»), расстояние до центра города в километрах. Все они пригодились для дальнейшего анализа.\n",
        "В ходе исследования были изучена зависмость стоимости недвижимости от этажа, общей, жилой площадей, площади кухни, количества комнат и высоты потолков, наличия парков рядом и водоемов, удаленности от центра гора, аэропортов....\n",
        "\n",
        "Для большей наглядности при анализе использовались графики, из которых легко можно сделать вывод о том, что лидером по размещению объявлений о продаже недвижимости является \"Санкт-Петербург\" с средней ценой 110 тысяч за квадратный метр, на втором месте Пушкин скорей всего потому, что это красивый город с большим количеством парков.\n",
        " Тенденция рынка такова, что люди в основнм ищут предложения 1-2-3 комнатных квартир на любом этаже за исключением первого и последнего с средней площадью до 100 метров и кухней до 15 метров, с высотой потолков 2, 65 м. Самые высокие цены на квартиры были в 2014 году, но в 2019 цены снова начали подниматься.  Самые высокие цены на квартиры в центре, а центром как выяснили можно считать расстояние в 9 км от центра. Далее цены не сильно меняются."
      ]
    },
    {
      "cell_type": "markdown",
      "metadata": {
        "id": "4YOndZpmvUgG"
      },
      "source": [
        "<div class=\"alert alert-info\">\n",
        "<b>Спасибо большое за проверку. Постаралась исправить ошибки и устранить ззамечания. Исправляя ошибки и пожелания я многому научилась и буду использовать в будущем. Спасибо</b>\n",
        "<br>\n",
        "</div>"
      ]
    },
    {
      "cell_type": "markdown",
      "metadata": {
        "id": "YmoL-u-nvUgH"
      },
      "source": [
        "**Чек-лист готовности проекта**\n",
        "\n",
        "Поставьте 'x' в выполненных пунктах. Далее нажмите Shift+Enter."
      ]
    },
    {
      "cell_type": "markdown",
      "metadata": {
        "id": "OVZ-aka9vUgI"
      },
      "source": [
        "- [x]  открыт файл\n",
        "- [x]  файлы изучены (выведены первые строки, метод `info()`, гистограммы и т.д.)\n",
        "- [x]  определены пропущенные значения\n",
        "- [x]  заполнены пропущенные значения там, где это возможно\n",
        "- [x]  есть пояснение, какие пропущенные значения обнаружены\n",
        "- [x]  изменены типы данных\n",
        "- [x]  есть пояснение, в каких столбцах изменены типы и почему\n",
        "- [x]  устранены неявные дубликаты в названиях населённых пунктов\n",
        "- [x]  устранены редкие и выбивающиеся значения (аномалии) во всех столбцах\n",
        "- [x]  посчитано и добавлено в таблицу: цена одного квадратного метра\n",
        "- [x]  посчитано и добавлено в таблицу: день публикации объявления (0 - понедельник, 1 - вторник и т.д.)\n",
        "- [x]  посчитано и добавлено в таблицу: месяц публикации объявления\n",
        "- [x]  посчитано и добавлено в таблицу: год публикации объявления\n",
        "- [x]  посчитано и добавлено в таблицу: тип этажа квартиры (значения — «первый», «последний», «другой»)\n",
        "- [x]  посчитано и добавлено в таблицу: расстояние в км до центра города\n",
        "- [x]  изучены и описаны следующие параметры:\n",
        "        - общая площадь;\n",
        "        - жилая площадь;\n",
        "        - площадь кухни;\n",
        "        - цена объекта;\n",
        "        - количество комнат;\n",
        "        - высота потолков;\n",
        "        - этаж квартиры;\n",
        "        - тип этажа квартиры («первый», «последний», «другой»);\n",
        "        - общее количество этажей в доме;\n",
        "        - расстояние до центра города в метрах;\n",
        "        - расстояние до ближайшего аэропорта;\n",
        "        - расстояние до ближайшего парка;\n",
        "        - день и месяц публикации объявления\n",
        "- [x]  построены гистограммы для каждого параметра\n",
        "- [x]  выполнено задание: \"Изучите, как быстро продавались квартиры (столбец days_exposition). Этот параметр показывает, сколько дней «висело» каждое объявление.\n",
        "    - Постройте гистограмму.\n",
        "    - Посчитайте среднее и медиану.\n",
        "    - В ячейке типа markdown опишите, сколько обычно занимает продажа. Какие продажи можно считать быстрыми, а какие — необычно долгими?\"\n",
        "- [x]  выполнено задание: \"Какие факторы больше всего влияют на общую (полную) стоимость объекта? Постройте графики, которые покажут зависимость цены от указанных ниже параметров. Для подготовки данных перед визуализацией вы можете использовать сводные таблицы.\"\n",
        "        - общей площади;\n",
        "        - жилой площади;\n",
        "        - площади кухни;\n",
        "        - количество комнат;\n",
        "        - типа этажа, на котором расположена квартира (первый, последний, другой);\n",
        "        - даты размещения (день недели, месяц, год);\n",
        "- [x]  выполнено задание: \"Посчитайте среднюю цену одного квадратного метра в 10 населённых пунктах с наибольшим числом объявлений. Выделите населённые пункты с самой высокой и низкой стоимостью квадратного метра. Эти данные можно найти по имени в столбце `locality_name`.\"\n",
        "- [x]  выполнено задание: \"Ранее вы посчитали расстояние до центра в километрах. Теперь выделите квартиры в Санкт-Петербурге с помощью столбца `locality_name` и вычислите среднюю цену каждого километра. Опишите, как стоимость объектов зависит от расстояния до центра города.\"\n",
        "- [x]  в каждом этапе есть промежуточные выводы\n",
        "- [x]  есть общий вывод"
      ]
    }
  ],
  "metadata": {
    "ExecuteTimeLog": [
      {
        "duration": 732,
        "start_time": "2023-08-02T07:52:32.831Z"
      },
      {
        "duration": 88,
        "start_time": "2023-08-02T07:52:36.262Z"
      },
      {
        "duration": 107,
        "start_time": "2023-08-02T07:53:32.206Z"
      },
      {
        "duration": 110,
        "start_time": "2023-08-02T07:58:09.264Z"
      },
      {
        "duration": 96,
        "start_time": "2023-08-02T07:59:03.568Z"
      },
      {
        "duration": 141,
        "start_time": "2023-08-02T07:59:24.976Z"
      },
      {
        "duration": 2,
        "start_time": "2023-08-03T06:08:40.313Z"
      },
      {
        "duration": 87,
        "start_time": "2023-08-03T06:09:09.407Z"
      },
      {
        "duration": 88,
        "start_time": "2023-08-03T06:09:11.887Z"
      },
      {
        "duration": 3,
        "start_time": "2023-08-03T06:14:39.592Z"
      },
      {
        "duration": 151,
        "start_time": "2023-08-03T06:14:41.175Z"
      },
      {
        "duration": 4,
        "start_time": "2023-08-03T06:15:27.216Z"
      },
      {
        "duration": 26,
        "start_time": "2023-08-03T06:19:13.544Z"
      },
      {
        "duration": 29,
        "start_time": "2023-08-03T06:20:05.361Z"
      },
      {
        "duration": 15,
        "start_time": "2023-08-03T06:20:36.993Z"
      },
      {
        "duration": 17,
        "start_time": "2023-08-03T06:36:09.436Z"
      },
      {
        "duration": 4,
        "start_time": "2023-08-03T06:40:38.613Z"
      },
      {
        "duration": 14,
        "start_time": "2023-08-03T06:40:57.140Z"
      },
      {
        "duration": 1256,
        "start_time": "2023-08-03T06:57:26.495Z"
      },
      {
        "duration": 1170,
        "start_time": "2023-08-03T06:58:40.549Z"
      },
      {
        "duration": 8,
        "start_time": "2023-08-03T07:02:44.741Z"
      },
      {
        "duration": 14,
        "start_time": "2023-08-03T07:02:49.984Z"
      },
      {
        "duration": 5,
        "start_time": "2023-08-03T07:06:06.073Z"
      },
      {
        "duration": 13,
        "start_time": "2023-08-03T07:06:09.791Z"
      },
      {
        "duration": 10,
        "start_time": "2023-08-03T07:30:07.548Z"
      },
      {
        "duration": 11,
        "start_time": "2023-08-03T07:34:01.496Z"
      },
      {
        "duration": 80,
        "start_time": "2023-08-03T07:37:55.360Z"
      },
      {
        "duration": 16,
        "start_time": "2023-08-03T07:58:51.652Z"
      },
      {
        "duration": 13,
        "start_time": "2023-08-03T07:59:13.133Z"
      },
      {
        "duration": 14,
        "start_time": "2023-08-03T07:59:47.156Z"
      },
      {
        "duration": 8,
        "start_time": "2023-08-03T08:03:18.117Z"
      },
      {
        "duration": 6,
        "start_time": "2023-08-03T08:03:33.604Z"
      },
      {
        "duration": 53,
        "start_time": "2023-08-03T08:04:55.037Z"
      },
      {
        "duration": 13,
        "start_time": "2023-08-03T08:05:23.324Z"
      },
      {
        "duration": 10,
        "start_time": "2023-08-03T08:07:36.989Z"
      },
      {
        "duration": 7,
        "start_time": "2023-08-03T08:07:48.653Z"
      },
      {
        "duration": 5,
        "start_time": "2023-08-03T08:08:30.414Z"
      },
      {
        "duration": 6,
        "start_time": "2023-08-03T08:08:40.990Z"
      },
      {
        "duration": 6,
        "start_time": "2023-08-03T08:10:33.262Z"
      },
      {
        "duration": 5,
        "start_time": "2023-08-03T08:13:42.798Z"
      },
      {
        "duration": 5,
        "start_time": "2023-08-03T08:13:45.446Z"
      },
      {
        "duration": 5,
        "start_time": "2023-08-03T08:13:47.854Z"
      },
      {
        "duration": 5284,
        "start_time": "2023-08-03T08:16:02.279Z"
      },
      {
        "duration": 3721,
        "start_time": "2023-08-03T08:16:21.872Z"
      },
      {
        "duration": 5130,
        "start_time": "2023-08-03T08:16:42.295Z"
      },
      {
        "duration": 7,
        "start_time": "2023-08-03T08:17:46.047Z"
      },
      {
        "duration": 9,
        "start_time": "2023-08-03T08:22:10.425Z"
      },
      {
        "duration": 3,
        "start_time": "2023-08-03T08:22:22.545Z"
      },
      {
        "duration": 3,
        "start_time": "2023-08-03T08:24:31.928Z"
      },
      {
        "duration": 178,
        "start_time": "2023-08-03T08:24:33.945Z"
      },
      {
        "duration": 4,
        "start_time": "2023-08-03T08:24:36.096Z"
      },
      {
        "duration": 33,
        "start_time": "2023-08-03T08:24:40.658Z"
      },
      {
        "duration": 34,
        "start_time": "2023-08-03T08:24:43.369Z"
      },
      {
        "duration": 18,
        "start_time": "2023-08-03T08:24:46.666Z"
      },
      {
        "duration": 6,
        "start_time": "2023-08-03T08:24:53.865Z"
      },
      {
        "duration": 10,
        "start_time": "2023-08-03T08:24:55.838Z"
      },
      {
        "duration": 8,
        "start_time": "2023-08-03T08:24:59.851Z"
      },
      {
        "duration": 6,
        "start_time": "2023-08-03T08:25:04.532Z"
      },
      {
        "duration": 15,
        "start_time": "2023-08-03T08:25:10.432Z"
      },
      {
        "duration": 9,
        "start_time": "2023-08-03T08:27:32.932Z"
      },
      {
        "duration": 51,
        "start_time": "2023-08-03T08:27:48.633Z"
      },
      {
        "duration": 8,
        "start_time": "2023-08-03T08:41:22.162Z"
      },
      {
        "duration": 6,
        "start_time": "2023-08-03T08:47:31.132Z"
      },
      {
        "duration": 3682,
        "start_time": "2023-08-03T08:55:02.117Z"
      },
      {
        "duration": 2466,
        "start_time": "2023-08-03T08:55:20.398Z"
      },
      {
        "duration": 19,
        "start_time": "2023-08-03T08:55:49.464Z"
      },
      {
        "duration": 8,
        "start_time": "2023-08-03T08:56:22.969Z"
      },
      {
        "duration": 10,
        "start_time": "2023-08-03T08:56:32.094Z"
      },
      {
        "duration": 9,
        "start_time": "2023-08-03T08:56:43.847Z"
      },
      {
        "duration": 11,
        "start_time": "2023-08-03T08:57:05.343Z"
      },
      {
        "duration": 13,
        "start_time": "2023-08-03T08:57:15.102Z"
      },
      {
        "duration": 16,
        "start_time": "2023-08-03T08:57:22.863Z"
      },
      {
        "duration": 14,
        "start_time": "2023-08-03T08:57:29.839Z"
      },
      {
        "duration": 16,
        "start_time": "2023-08-03T08:58:47.055Z"
      },
      {
        "duration": 16,
        "start_time": "2023-08-03T08:59:02.551Z"
      },
      {
        "duration": 17,
        "start_time": "2023-08-03T08:59:10.279Z"
      },
      {
        "duration": 15,
        "start_time": "2023-08-03T09:01:38.552Z"
      },
      {
        "duration": 18,
        "start_time": "2023-08-03T09:01:56.312Z"
      },
      {
        "duration": 4,
        "start_time": "2023-08-03T09:03:44.386Z"
      },
      {
        "duration": 22,
        "start_time": "2023-08-03T09:03:53.273Z"
      },
      {
        "duration": 19,
        "start_time": "2023-08-03T09:05:19.952Z"
      },
      {
        "duration": 9,
        "start_time": "2023-08-03T09:06:50.783Z"
      },
      {
        "duration": 713,
        "start_time": "2023-08-03T09:06:56.305Z"
      },
      {
        "duration": 180,
        "start_time": "2023-08-03T09:07:36.484Z"
      },
      {
        "duration": 174,
        "start_time": "2023-08-03T09:07:42.945Z"
      },
      {
        "duration": 215,
        "start_time": "2023-08-03T09:08:44.440Z"
      },
      {
        "duration": 185,
        "start_time": "2023-08-03T09:11:18.044Z"
      },
      {
        "duration": 15,
        "start_time": "2023-08-03T09:12:52.578Z"
      },
      {
        "duration": 75,
        "start_time": "2023-08-03T09:18:39.650Z"
      },
      {
        "duration": 12,
        "start_time": "2023-08-03T09:19:36.747Z"
      },
      {
        "duration": 11,
        "start_time": "2023-08-03T09:20:02.644Z"
      },
      {
        "duration": 176,
        "start_time": "2023-08-03T11:12:50.396Z"
      },
      {
        "duration": 2310,
        "start_time": "2023-08-03T11:21:15.185Z"
      },
      {
        "duration": 41,
        "start_time": "2023-08-03T11:30:54.632Z"
      },
      {
        "duration": 555,
        "start_time": "2023-08-03T11:34:54.191Z"
      },
      {
        "duration": 147,
        "start_time": "2023-08-03T11:35:28.318Z"
      },
      {
        "duration": 278,
        "start_time": "2023-08-03T11:35:41.226Z"
      },
      {
        "duration": 213,
        "start_time": "2023-08-03T11:46:48.568Z"
      },
      {
        "duration": 40,
        "start_time": "2023-08-03T11:49:55.225Z"
      },
      {
        "duration": 9,
        "start_time": "2023-08-03T11:55:21.073Z"
      },
      {
        "duration": 9,
        "start_time": "2023-08-07T05:55:52.368Z"
      },
      {
        "duration": 8,
        "start_time": "2023-08-07T05:56:02.559Z"
      },
      {
        "duration": 11,
        "start_time": "2023-08-07T05:56:09.351Z"
      },
      {
        "duration": 10,
        "start_time": "2023-08-07T05:56:37.167Z"
      },
      {
        "duration": 63,
        "start_time": "2023-08-07T06:21:13.436Z"
      },
      {
        "duration": 62,
        "start_time": "2023-08-07T06:22:22.149Z"
      },
      {
        "duration": 167,
        "start_time": "2023-08-07T06:37:03.070Z"
      },
      {
        "duration": 6,
        "start_time": "2023-08-07T06:39:32.311Z"
      },
      {
        "duration": 39,
        "start_time": "2023-08-07T06:40:50.153Z"
      },
      {
        "duration": 14,
        "start_time": "2023-08-07T07:04:41.663Z"
      },
      {
        "duration": 8,
        "start_time": "2023-08-07T07:18:53.992Z"
      },
      {
        "duration": 8,
        "start_time": "2023-08-07T07:21:49.458Z"
      },
      {
        "duration": 9,
        "start_time": "2023-08-07T07:24:38.770Z"
      },
      {
        "duration": 11,
        "start_time": "2023-08-07T07:25:32.706Z"
      },
      {
        "duration": 5,
        "start_time": "2023-08-07T07:26:46.530Z"
      },
      {
        "duration": 16,
        "start_time": "2023-08-07T07:32:03.604Z"
      },
      {
        "duration": 17,
        "start_time": "2023-08-07T07:32:13.225Z"
      },
      {
        "duration": 9,
        "start_time": "2023-08-07T07:33:15.435Z"
      },
      {
        "duration": 9,
        "start_time": "2023-08-07T07:33:21.035Z"
      },
      {
        "duration": 6,
        "start_time": "2023-08-07T07:33:24.652Z"
      },
      {
        "duration": 14,
        "start_time": "2023-08-07T07:34:06.427Z"
      },
      {
        "duration": 336,
        "start_time": "2023-08-07T07:41:06.684Z"
      },
      {
        "duration": 433,
        "start_time": "2023-08-07T07:41:39.067Z"
      },
      {
        "duration": 329,
        "start_time": "2023-08-07T07:41:46.125Z"
      },
      {
        "duration": 2788,
        "start_time": "2023-08-07T07:44:25.637Z"
      },
      {
        "duration": 8,
        "start_time": "2023-08-07T07:45:33.686Z"
      },
      {
        "duration": 7,
        "start_time": "2023-08-07T07:45:42.285Z"
      },
      {
        "duration": 7,
        "start_time": "2023-08-07T07:47:35.453Z"
      },
      {
        "duration": 6,
        "start_time": "2023-08-07T07:48:08.967Z"
      },
      {
        "duration": 9,
        "start_time": "2023-08-07T07:51:05.238Z"
      },
      {
        "duration": 4,
        "start_time": "2023-08-07T07:51:15.431Z"
      },
      {
        "duration": 5,
        "start_time": "2023-08-07T07:51:26.182Z"
      },
      {
        "duration": 10,
        "start_time": "2023-08-07T07:52:58.798Z"
      },
      {
        "duration": 3,
        "start_time": "2023-08-07T07:53:48.590Z"
      },
      {
        "duration": 178,
        "start_time": "2023-08-07T07:53:55.943Z"
      },
      {
        "duration": 176,
        "start_time": "2023-08-07T07:55:04.607Z"
      },
      {
        "duration": 613,
        "start_time": "2023-08-07T07:55:51.432Z"
      },
      {
        "duration": 221,
        "start_time": "2023-08-07T07:55:57.263Z"
      },
      {
        "duration": 224,
        "start_time": "2023-08-07T07:56:00.999Z"
      },
      {
        "duration": 182,
        "start_time": "2023-08-07T07:58:06.728Z"
      },
      {
        "duration": 206,
        "start_time": "2023-08-07T07:58:43.913Z"
      },
      {
        "duration": 199,
        "start_time": "2023-08-07T07:59:29.976Z"
      },
      {
        "duration": 269,
        "start_time": "2023-08-07T08:00:08.769Z"
      },
      {
        "duration": 227,
        "start_time": "2023-08-07T08:00:46.760Z"
      },
      {
        "duration": 236,
        "start_time": "2023-08-07T08:03:59.604Z"
      },
      {
        "duration": 458,
        "start_time": "2023-08-07T08:07:57.841Z"
      },
      {
        "duration": 309,
        "start_time": "2023-08-07T08:08:27.865Z"
      },
      {
        "duration": 296,
        "start_time": "2023-08-07T08:08:43.073Z"
      },
      {
        "duration": 309,
        "start_time": "2023-08-07T08:09:27.418Z"
      },
      {
        "duration": 42,
        "start_time": "2023-08-07T08:15:59.098Z"
      },
      {
        "duration": 128,
        "start_time": "2023-08-07T08:17:25.506Z"
      },
      {
        "duration": 373,
        "start_time": "2023-08-07T08:20:18.723Z"
      },
      {
        "duration": 749,
        "start_time": "2023-08-07T08:20:52.028Z"
      },
      {
        "duration": 741,
        "start_time": "2023-08-07T08:22:06.898Z"
      },
      {
        "duration": 377,
        "start_time": "2023-08-07T08:23:09.995Z"
      },
      {
        "duration": 563,
        "start_time": "2023-08-07T09:01:08.604Z"
      },
      {
        "duration": 30,
        "start_time": "2023-08-07T09:02:11.564Z"
      },
      {
        "duration": 2614,
        "start_time": "2023-08-07T09:03:04.900Z"
      },
      {
        "duration": 30,
        "start_time": "2023-08-07T09:03:42.342Z"
      },
      {
        "duration": 30,
        "start_time": "2023-08-07T09:05:20.855Z"
      },
      {
        "duration": 6,
        "start_time": "2023-08-07T09:06:15.343Z"
      },
      {
        "duration": 29,
        "start_time": "2023-08-07T09:06:31.241Z"
      },
      {
        "duration": 23,
        "start_time": "2023-08-07T09:10:09.158Z"
      },
      {
        "duration": 27,
        "start_time": "2023-08-07T09:11:33.340Z"
      },
      {
        "duration": 20,
        "start_time": "2023-08-07T09:12:07.056Z"
      },
      {
        "duration": 13,
        "start_time": "2023-08-07T09:17:31.721Z"
      },
      {
        "duration": 6,
        "start_time": "2023-08-07T09:18:40.521Z"
      },
      {
        "duration": 357,
        "start_time": "2023-08-07T09:18:42.623Z"
      },
      {
        "duration": 4,
        "start_time": "2023-08-07T09:18:45.041Z"
      },
      {
        "duration": 16,
        "start_time": "2023-08-07T09:18:47.416Z"
      },
      {
        "duration": 16,
        "start_time": "2023-08-07T09:18:49.680Z"
      },
      {
        "duration": 14,
        "start_time": "2023-08-07T09:18:53.296Z"
      },
      {
        "duration": 10,
        "start_time": "2023-08-07T09:19:09.864Z"
      },
      {
        "duration": 10,
        "start_time": "2023-08-07T09:19:15.057Z"
      },
      {
        "duration": 4,
        "start_time": "2023-08-07T09:19:22.871Z"
      },
      {
        "duration": 11,
        "start_time": "2023-08-07T09:19:25.392Z"
      },
      {
        "duration": 6,
        "start_time": "2023-08-07T09:19:27.807Z"
      },
      {
        "duration": 8,
        "start_time": "2023-08-07T09:19:30.464Z"
      },
      {
        "duration": 7,
        "start_time": "2023-08-07T09:19:33.583Z"
      },
      {
        "duration": 8,
        "start_time": "2023-08-07T09:19:36.273Z"
      },
      {
        "duration": 5,
        "start_time": "2023-08-07T09:19:38.576Z"
      },
      {
        "duration": 4,
        "start_time": "2023-08-07T09:19:43.169Z"
      },
      {
        "duration": 8,
        "start_time": "2023-08-07T09:19:53.913Z"
      },
      {
        "duration": 31,
        "start_time": "2023-08-07T09:20:00.385Z"
      },
      {
        "duration": 64,
        "start_time": "2023-08-07T09:20:03.496Z"
      },
      {
        "duration": 199,
        "start_time": "2023-08-07T09:20:06.457Z"
      },
      {
        "duration": 10,
        "start_time": "2023-08-07T09:20:10.688Z"
      },
      {
        "duration": 6,
        "start_time": "2023-08-07T09:20:12.807Z"
      },
      {
        "duration": 11,
        "start_time": "2023-08-07T09:20:14.712Z"
      },
      {
        "duration": 57,
        "start_time": "2023-08-07T09:20:17.445Z"
      },
      {
        "duration": 14,
        "start_time": "2023-08-07T09:20:20.169Z"
      },
      {
        "duration": 14,
        "start_time": "2023-08-07T09:20:22.241Z"
      },
      {
        "duration": 5,
        "start_time": "2023-08-07T09:20:30.376Z"
      },
      {
        "duration": 12,
        "start_time": "2023-08-07T09:20:33.408Z"
      },
      {
        "duration": 474,
        "start_time": "2023-08-07T09:20:35.465Z"
      },
      {
        "duration": 7,
        "start_time": "2023-08-07T09:20:38.464Z"
      },
      {
        "duration": 6,
        "start_time": "2023-08-07T09:20:41.128Z"
      },
      {
        "duration": 6,
        "start_time": "2023-08-07T09:20:42.864Z"
      },
      {
        "duration": 4,
        "start_time": "2023-08-07T09:20:44.587Z"
      },
      {
        "duration": 210,
        "start_time": "2023-08-07T09:20:46.824Z"
      },
      {
        "duration": 229,
        "start_time": "2023-08-07T09:20:50.377Z"
      },
      {
        "duration": 193,
        "start_time": "2023-08-07T09:20:53.248Z"
      },
      {
        "duration": 201,
        "start_time": "2023-08-07T09:20:55.776Z"
      },
      {
        "duration": 202,
        "start_time": "2023-08-07T09:20:58.721Z"
      },
      {
        "duration": 266,
        "start_time": "2023-08-07T09:21:00.809Z"
      },
      {
        "duration": 223,
        "start_time": "2023-08-07T09:21:03.368Z"
      },
      {
        "duration": 304,
        "start_time": "2023-08-07T09:21:06.960Z"
      },
      {
        "duration": 129,
        "start_time": "2023-08-07T09:21:10.825Z"
      },
      {
        "duration": 860,
        "start_time": "2023-08-07T09:21:16.728Z"
      },
      {
        "duration": 377,
        "start_time": "2023-08-07T09:21:22.353Z"
      },
      {
        "duration": 520,
        "start_time": "2023-08-07T09:21:26.641Z"
      },
      {
        "duration": 29,
        "start_time": "2023-08-07T09:21:30.680Z"
      },
      {
        "duration": 12,
        "start_time": "2023-08-07T09:21:33.305Z"
      },
      {
        "duration": 27,
        "start_time": "2023-08-07T09:21:46.824Z"
      },
      {
        "duration": 5,
        "start_time": "2023-08-07T09:22:02.354Z"
      },
      {
        "duration": 162,
        "start_time": "2023-08-07T09:22:04.985Z"
      },
      {
        "duration": 15,
        "start_time": "2023-08-07T09:22:09.953Z"
      },
      {
        "duration": 9,
        "start_time": "2023-08-07T09:22:13.505Z"
      },
      {
        "duration": 12,
        "start_time": "2023-08-07T09:22:15.641Z"
      },
      {
        "duration": 4,
        "start_time": "2023-08-07T09:22:18.544Z"
      },
      {
        "duration": 8,
        "start_time": "2023-08-07T09:22:20.089Z"
      },
      {
        "duration": 5,
        "start_time": "2023-08-07T09:22:22.445Z"
      },
      {
        "duration": 8,
        "start_time": "2023-08-07T09:22:24.113Z"
      },
      {
        "duration": 7,
        "start_time": "2023-08-07T09:22:26.089Z"
      },
      {
        "duration": 8,
        "start_time": "2023-08-07T09:22:27.680Z"
      },
      {
        "duration": 5,
        "start_time": "2023-08-07T09:22:29.538Z"
      },
      {
        "duration": 7,
        "start_time": "2023-08-07T09:22:33.808Z"
      },
      {
        "duration": 29,
        "start_time": "2023-08-07T09:22:35.882Z"
      },
      {
        "duration": 64,
        "start_time": "2023-08-07T09:22:38.296Z"
      },
      {
        "duration": 205,
        "start_time": "2023-08-07T09:22:40.265Z"
      },
      {
        "duration": 6,
        "start_time": "2023-08-07T09:22:43.128Z"
      },
      {
        "duration": 11,
        "start_time": "2023-08-07T09:22:45.049Z"
      },
      {
        "duration": 65,
        "start_time": "2023-08-07T09:22:48.273Z"
      },
      {
        "duration": 15,
        "start_time": "2023-08-07T09:22:51.169Z"
      },
      {
        "duration": 15,
        "start_time": "2023-08-07T09:22:53.045Z"
      },
      {
        "duration": 28,
        "start_time": "2023-08-07T09:23:07.569Z"
      },
      {
        "duration": 28,
        "start_time": "2023-08-07T09:25:15.929Z"
      },
      {
        "duration": 7,
        "start_time": "2023-08-07T11:13:04.671Z"
      },
      {
        "duration": 9,
        "start_time": "2023-08-07T11:13:10.184Z"
      },
      {
        "duration": 26,
        "start_time": "2023-08-07T11:14:47.102Z"
      },
      {
        "duration": 13,
        "start_time": "2023-08-07T11:17:14.278Z"
      },
      {
        "duration": 13,
        "start_time": "2023-08-07T11:17:47.518Z"
      },
      {
        "duration": 6,
        "start_time": "2023-08-07T11:17:53.886Z"
      },
      {
        "duration": 25,
        "start_time": "2023-08-07T11:18:48.399Z"
      },
      {
        "duration": 252,
        "start_time": "2023-08-07T11:19:40.287Z"
      },
      {
        "duration": 8,
        "start_time": "2023-08-07T11:20:32.487Z"
      },
      {
        "duration": 17,
        "start_time": "2023-08-07T11:21:25.278Z"
      },
      {
        "duration": 353,
        "start_time": "2023-08-07T11:22:41.255Z"
      },
      {
        "duration": 19,
        "start_time": "2023-08-07T11:23:19.439Z"
      },
      {
        "duration": 21,
        "start_time": "2023-08-07T11:41:52.994Z"
      },
      {
        "duration": 17,
        "start_time": "2023-08-07T11:42:11.787Z"
      },
      {
        "duration": 14,
        "start_time": "2023-08-07T11:54:20.177Z"
      },
      {
        "duration": 16,
        "start_time": "2023-08-07T11:54:36.555Z"
      },
      {
        "duration": 18,
        "start_time": "2023-08-07T11:54:51.268Z"
      },
      {
        "duration": 22,
        "start_time": "2023-08-07T11:55:41.369Z"
      },
      {
        "duration": 21,
        "start_time": "2023-08-07T12:06:26.601Z"
      },
      {
        "duration": 33,
        "start_time": "2023-08-07T12:07:30.800Z"
      },
      {
        "duration": 207,
        "start_time": "2023-08-07T12:08:52.440Z"
      },
      {
        "duration": 42,
        "start_time": "2023-08-07T12:10:23.467Z"
      },
      {
        "duration": 564,
        "start_time": "2023-08-07T12:11:11.531Z"
      },
      {
        "duration": 799,
        "start_time": "2023-08-07T12:14:03.069Z"
      },
      {
        "duration": 216,
        "start_time": "2023-08-07T12:14:33.307Z"
      },
      {
        "duration": 232,
        "start_time": "2023-08-07T12:15:36.237Z"
      },
      {
        "duration": 4,
        "start_time": "2023-08-07T12:18:31.783Z"
      },
      {
        "duration": 15,
        "start_time": "2023-08-07T12:18:42.667Z"
      },
      {
        "duration": 329,
        "start_time": "2023-08-07T12:20:38.575Z"
      },
      {
        "duration": 15,
        "start_time": "2023-08-07T12:21:14.332Z"
      },
      {
        "duration": 328,
        "start_time": "2023-08-07T12:21:38.837Z"
      },
      {
        "duration": 18,
        "start_time": "2023-08-07T12:22:04.480Z"
      },
      {
        "duration": 222,
        "start_time": "2023-08-07T12:22:28.695Z"
      },
      {
        "duration": 12,
        "start_time": "2023-08-07T12:25:54.614Z"
      },
      {
        "duration": 5,
        "start_time": "2023-08-07T12:30:46.089Z"
      },
      {
        "duration": 15,
        "start_time": "2023-08-07T12:31:11.272Z"
      },
      {
        "duration": 196,
        "start_time": "2023-08-07T12:31:19.599Z"
      },
      {
        "duration": 14,
        "start_time": "2023-08-07T12:31:24.287Z"
      },
      {
        "duration": 14,
        "start_time": "2023-08-07T12:31:56.199Z"
      },
      {
        "duration": 16,
        "start_time": "2023-08-07T12:32:00.015Z"
      },
      {
        "duration": 19,
        "start_time": "2023-08-07T12:32:55.313Z"
      },
      {
        "duration": 5,
        "start_time": "2023-08-07T12:33:04.392Z"
      },
      {
        "duration": 130,
        "start_time": "2023-08-07T12:33:06.703Z"
      },
      {
        "duration": 4,
        "start_time": "2023-08-07T12:33:09.135Z"
      },
      {
        "duration": 16,
        "start_time": "2023-08-07T12:33:11.376Z"
      },
      {
        "duration": 15,
        "start_time": "2023-08-07T12:33:13.639Z"
      },
      {
        "duration": 17,
        "start_time": "2023-08-07T12:33:16.989Z"
      },
      {
        "duration": 10,
        "start_time": "2023-08-07T12:33:20.999Z"
      },
      {
        "duration": 13,
        "start_time": "2023-08-07T12:33:23.415Z"
      },
      {
        "duration": 4,
        "start_time": "2023-08-07T12:33:26.944Z"
      },
      {
        "duration": 8,
        "start_time": "2023-08-07T12:33:29.008Z"
      },
      {
        "duration": 6,
        "start_time": "2023-08-07T12:33:30.794Z"
      },
      {
        "duration": 6,
        "start_time": "2023-08-07T12:33:32.631Z"
      },
      {
        "duration": 7,
        "start_time": "2023-08-07T12:33:34.720Z"
      },
      {
        "duration": 7,
        "start_time": "2023-08-07T12:33:37.639Z"
      },
      {
        "duration": 5,
        "start_time": "2023-08-07T12:33:39.788Z"
      },
      {
        "duration": 7,
        "start_time": "2023-08-07T12:33:41.815Z"
      },
      {
        "duration": 34,
        "start_time": "2023-08-07T12:33:44.344Z"
      },
      {
        "duration": 68,
        "start_time": "2023-08-07T12:33:47.599Z"
      },
      {
        "duration": 215,
        "start_time": "2023-08-07T12:33:52.833Z"
      },
      {
        "duration": 13,
        "start_time": "2023-08-07T12:33:55.884Z"
      },
      {
        "duration": 7,
        "start_time": "2023-08-07T12:33:58.215Z"
      },
      {
        "duration": 13,
        "start_time": "2023-08-07T12:34:00.511Z"
      },
      {
        "duration": 58,
        "start_time": "2023-08-07T12:34:03.376Z"
      },
      {
        "duration": 14,
        "start_time": "2023-08-07T12:34:06.181Z"
      },
      {
        "duration": 20,
        "start_time": "2023-08-07T12:34:09.495Z"
      },
      {
        "duration": 5,
        "start_time": "2023-08-07T12:34:24.439Z"
      },
      {
        "duration": 13,
        "start_time": "2023-08-07T12:34:26.776Z"
      },
      {
        "duration": 466,
        "start_time": "2023-08-07T12:34:29.616Z"
      },
      {
        "duration": 9,
        "start_time": "2023-08-07T12:34:32.785Z"
      },
      {
        "duration": 7,
        "start_time": "2023-08-07T12:34:34.832Z"
      },
      {
        "duration": 7,
        "start_time": "2023-08-07T12:34:36.935Z"
      },
      {
        "duration": 4,
        "start_time": "2023-08-07T12:34:39.490Z"
      },
      {
        "duration": 214,
        "start_time": "2023-08-07T12:34:42.651Z"
      },
      {
        "duration": 225,
        "start_time": "2023-08-07T12:34:46.194Z"
      },
      {
        "duration": 184,
        "start_time": "2023-08-07T12:34:49.920Z"
      },
      {
        "duration": 199,
        "start_time": "2023-08-07T12:34:53.472Z"
      },
      {
        "duration": 201,
        "start_time": "2023-08-07T12:34:56.999Z"
      },
      {
        "duration": 276,
        "start_time": "2023-08-07T12:35:00.068Z"
      },
      {
        "duration": 231,
        "start_time": "2023-08-07T12:35:03.407Z"
      },
      {
        "duration": 305,
        "start_time": "2023-08-07T12:35:06.439Z"
      },
      {
        "duration": 125,
        "start_time": "2023-08-07T12:35:11.336Z"
      },
      {
        "duration": 911,
        "start_time": "2023-08-07T12:35:15.304Z"
      },
      {
        "duration": 542,
        "start_time": "2023-08-07T12:35:19.240Z"
      },
      {
        "duration": 29,
        "start_time": "2023-08-07T12:35:22.575Z"
      },
      {
        "duration": 202,
        "start_time": "2023-08-07T12:35:26.277Z"
      },
      {
        "duration": 599,
        "start_time": "2023-08-07T12:35:33.728Z"
      },
      {
        "duration": 15,
        "start_time": "2023-08-07T12:35:42.335Z"
      },
      {
        "duration": 357,
        "start_time": "2023-08-07T12:35:48.808Z"
      },
      {
        "duration": 397,
        "start_time": "2023-08-07T12:36:41.297Z"
      },
      {
        "duration": 352,
        "start_time": "2023-08-07T12:36:55.328Z"
      },
      {
        "duration": 639,
        "start_time": "2023-08-07T12:37:08.184Z"
      },
      {
        "duration": 545,
        "start_time": "2023-08-07T12:37:20.337Z"
      },
      {
        "duration": 15,
        "start_time": "2023-08-07T12:37:40.984Z"
      },
      {
        "duration": 530,
        "start_time": "2023-08-07T12:38:57.068Z"
      },
      {
        "duration": 3377,
        "start_time": "2023-08-08T06:27:16.771Z"
      },
      {
        "duration": 1197,
        "start_time": "2023-08-08T08:47:54.599Z"
      },
      {
        "duration": 156,
        "start_time": "2023-08-08T08:47:55.797Z"
      },
      {
        "duration": 102,
        "start_time": "2023-08-08T08:47:55.955Z"
      },
      {
        "duration": 0,
        "start_time": "2023-08-08T08:47:56.059Z"
      },
      {
        "duration": 0,
        "start_time": "2023-08-08T08:47:56.060Z"
      },
      {
        "duration": 0,
        "start_time": "2023-08-08T08:47:56.061Z"
      },
      {
        "duration": 0,
        "start_time": "2023-08-08T08:47:56.062Z"
      },
      {
        "duration": 0,
        "start_time": "2023-08-08T08:47:56.063Z"
      },
      {
        "duration": 0,
        "start_time": "2023-08-08T08:47:56.064Z"
      },
      {
        "duration": 0,
        "start_time": "2023-08-08T08:47:56.066Z"
      },
      {
        "duration": 0,
        "start_time": "2023-08-08T08:47:56.066Z"
      },
      {
        "duration": 0,
        "start_time": "2023-08-08T08:47:56.067Z"
      },
      {
        "duration": 0,
        "start_time": "2023-08-08T08:47:56.068Z"
      },
      {
        "duration": 0,
        "start_time": "2023-08-08T08:47:56.069Z"
      },
      {
        "duration": 1,
        "start_time": "2023-08-08T08:47:56.069Z"
      },
      {
        "duration": 0,
        "start_time": "2023-08-08T08:47:56.070Z"
      },
      {
        "duration": 0,
        "start_time": "2023-08-08T08:47:56.071Z"
      },
      {
        "duration": 0,
        "start_time": "2023-08-08T08:47:56.072Z"
      },
      {
        "duration": 0,
        "start_time": "2023-08-08T08:47:56.073Z"
      },
      {
        "duration": 0,
        "start_time": "2023-08-08T08:47:56.074Z"
      },
      {
        "duration": 0,
        "start_time": "2023-08-08T08:47:56.075Z"
      },
      {
        "duration": 0,
        "start_time": "2023-08-08T08:47:56.076Z"
      },
      {
        "duration": 0,
        "start_time": "2023-08-08T08:47:56.076Z"
      },
      {
        "duration": 0,
        "start_time": "2023-08-08T08:47:56.077Z"
      },
      {
        "duration": 0,
        "start_time": "2023-08-08T08:47:56.078Z"
      },
      {
        "duration": 0,
        "start_time": "2023-08-08T08:47:56.079Z"
      },
      {
        "duration": 0,
        "start_time": "2023-08-08T08:47:56.080Z"
      },
      {
        "duration": 0,
        "start_time": "2023-08-08T08:47:56.081Z"
      },
      {
        "duration": 0,
        "start_time": "2023-08-08T08:47:56.081Z"
      },
      {
        "duration": 0,
        "start_time": "2023-08-08T08:47:56.082Z"
      },
      {
        "duration": 0,
        "start_time": "2023-08-08T08:47:56.083Z"
      },
      {
        "duration": 0,
        "start_time": "2023-08-08T08:47:56.084Z"
      },
      {
        "duration": 0,
        "start_time": "2023-08-08T08:47:56.085Z"
      },
      {
        "duration": 0,
        "start_time": "2023-08-08T08:47:56.086Z"
      },
      {
        "duration": 0,
        "start_time": "2023-08-08T08:47:56.087Z"
      },
      {
        "duration": 0,
        "start_time": "2023-08-08T08:47:56.088Z"
      },
      {
        "duration": 0,
        "start_time": "2023-08-08T08:47:56.089Z"
      },
      {
        "duration": 0,
        "start_time": "2023-08-08T08:47:56.089Z"
      },
      {
        "duration": 0,
        "start_time": "2023-08-08T08:47:56.138Z"
      },
      {
        "duration": 0,
        "start_time": "2023-08-08T08:47:56.139Z"
      },
      {
        "duration": 0,
        "start_time": "2023-08-08T08:47:56.140Z"
      },
      {
        "duration": 0,
        "start_time": "2023-08-08T08:47:56.140Z"
      },
      {
        "duration": 0,
        "start_time": "2023-08-08T08:47:56.141Z"
      },
      {
        "duration": 0,
        "start_time": "2023-08-08T08:47:56.142Z"
      },
      {
        "duration": 0,
        "start_time": "2023-08-08T08:47:56.143Z"
      },
      {
        "duration": 0,
        "start_time": "2023-08-08T08:47:56.144Z"
      },
      {
        "duration": 0,
        "start_time": "2023-08-08T08:47:56.145Z"
      },
      {
        "duration": 0,
        "start_time": "2023-08-08T08:47:56.146Z"
      },
      {
        "duration": 0,
        "start_time": "2023-08-08T08:47:56.147Z"
      },
      {
        "duration": 0,
        "start_time": "2023-08-08T08:47:56.148Z"
      },
      {
        "duration": 0,
        "start_time": "2023-08-08T08:47:56.149Z"
      },
      {
        "duration": 51,
        "start_time": "2023-08-08T11:43:22.877Z"
      },
      {
        "duration": 8,
        "start_time": "2023-08-08T11:44:56.081Z"
      },
      {
        "duration": 11,
        "start_time": "2023-08-08T11:45:30.346Z"
      },
      {
        "duration": 1436,
        "start_time": "2023-08-08T11:46:33.907Z"
      },
      {
        "duration": 212,
        "start_time": "2023-08-08T11:46:36.193Z"
      },
      {
        "duration": 6,
        "start_time": "2023-08-08T11:46:39.945Z"
      },
      {
        "duration": 30,
        "start_time": "2023-08-08T11:46:44.918Z"
      },
      {
        "duration": 29,
        "start_time": "2023-08-08T11:46:47.841Z"
      },
      {
        "duration": 30,
        "start_time": "2023-08-08T11:46:50.850Z"
      },
      {
        "duration": 2585,
        "start_time": "2023-08-08T11:46:53.540Z"
      },
      {
        "duration": 11,
        "start_time": "2023-08-08T11:47:00.315Z"
      },
      {
        "duration": 12,
        "start_time": "2023-08-08T11:47:03.341Z"
      },
      {
        "duration": 5,
        "start_time": "2023-08-08T11:50:02.036Z"
      },
      {
        "duration": 174,
        "start_time": "2023-08-08T11:50:04.099Z"
      },
      {
        "duration": 4,
        "start_time": "2023-08-08T11:50:06.637Z"
      },
      {
        "duration": 26,
        "start_time": "2023-08-08T11:50:09.525Z"
      },
      {
        "duration": 29,
        "start_time": "2023-08-08T11:50:12.211Z"
      },
      {
        "duration": 16,
        "start_time": "2023-08-08T11:50:15.099Z"
      },
      {
        "duration": 10,
        "start_time": "2023-08-08T11:54:51.109Z"
      },
      {
        "duration": 11,
        "start_time": "2023-08-08T11:55:42.124Z"
      },
      {
        "duration": 7,
        "start_time": "2023-08-08T12:13:10.009Z"
      },
      {
        "duration": 7,
        "start_time": "2023-08-08T12:13:31.049Z"
      },
      {
        "duration": 6,
        "start_time": "2023-08-08T12:14:26.715Z"
      },
      {
        "duration": 74,
        "start_time": "2023-08-08T12:16:56.301Z"
      },
      {
        "duration": 11,
        "start_time": "2023-08-08T12:17:26.416Z"
      },
      {
        "duration": 18,
        "start_time": "2023-08-08T12:19:15.562Z"
      },
      {
        "duration": 20,
        "start_time": "2023-08-08T12:20:27.659Z"
      },
      {
        "duration": 5,
        "start_time": "2023-08-08T12:22:52.746Z"
      },
      {
        "duration": 3,
        "start_time": "2023-08-08T12:23:07.618Z"
      },
      {
        "duration": 5,
        "start_time": "2023-08-08T12:26:14.060Z"
      },
      {
        "duration": 9,
        "start_time": "2023-08-08T12:26:18.066Z"
      },
      {
        "duration": 4,
        "start_time": "2023-08-08T12:26:20.594Z"
      },
      {
        "duration": 5,
        "start_time": "2023-08-08T12:28:48.620Z"
      },
      {
        "duration": 4,
        "start_time": "2023-08-08T12:28:50.713Z"
      },
      {
        "duration": 4,
        "start_time": "2023-08-08T12:29:55.204Z"
      },
      {
        "duration": 6,
        "start_time": "2023-08-08T12:35:04.735Z"
      },
      {
        "duration": 4,
        "start_time": "2023-08-08T12:37:45.158Z"
      },
      {
        "duration": 5,
        "start_time": "2023-08-08T12:37:47.984Z"
      },
      {
        "duration": 79,
        "start_time": "2023-08-08T12:39:47.647Z"
      },
      {
        "duration": 115,
        "start_time": "2023-08-08T12:40:04.064Z"
      },
      {
        "duration": 64,
        "start_time": "2023-08-08T12:40:32.594Z"
      },
      {
        "duration": 66,
        "start_time": "2023-08-08T12:40:41.326Z"
      },
      {
        "duration": 221,
        "start_time": "2023-08-08T12:41:36.806Z"
      },
      {
        "duration": 52,
        "start_time": "2023-08-08T12:41:52.205Z"
      },
      {
        "duration": 231,
        "start_time": "2023-08-08T12:41:58.062Z"
      },
      {
        "duration": 14,
        "start_time": "2023-08-08T12:43:05.647Z"
      },
      {
        "duration": 6,
        "start_time": "2023-08-08T12:47:49.952Z"
      },
      {
        "duration": 7,
        "start_time": "2023-08-08T12:48:13.455Z"
      },
      {
        "duration": 13,
        "start_time": "2023-08-08T12:48:15.736Z"
      },
      {
        "duration": 414,
        "start_time": "2023-08-08T12:49:13.491Z"
      },
      {
        "duration": 8,
        "start_time": "2023-08-08T12:51:26.673Z"
      },
      {
        "duration": 208,
        "start_time": "2023-08-08T12:54:16.810Z"
      },
      {
        "duration": 299,
        "start_time": "2023-08-08T13:01:06.916Z"
      },
      {
        "duration": 195,
        "start_time": "2023-08-08T13:02:56.836Z"
      },
      {
        "duration": 236,
        "start_time": "2023-08-08T13:14:14.119Z"
      },
      {
        "duration": 208,
        "start_time": "2023-08-08T13:16:02.423Z"
      },
      {
        "duration": 231,
        "start_time": "2023-08-08T13:17:30.728Z"
      },
      {
        "duration": 197,
        "start_time": "2023-08-08T13:19:53.641Z"
      },
      {
        "duration": 205,
        "start_time": "2023-08-08T13:21:19.886Z"
      },
      {
        "duration": 156,
        "start_time": "2023-08-08T13:25:09.298Z"
      },
      {
        "duration": 164,
        "start_time": "2023-08-08T13:25:53.139Z"
      },
      {
        "duration": 165,
        "start_time": "2023-08-08T13:26:40.226Z"
      },
      {
        "duration": 170,
        "start_time": "2023-08-08T13:26:45.642Z"
      },
      {
        "duration": 216,
        "start_time": "2023-08-08T13:27:14.067Z"
      },
      {
        "duration": 169,
        "start_time": "2023-08-08T13:28:30.586Z"
      },
      {
        "duration": 327,
        "start_time": "2023-08-08T13:28:47.603Z"
      },
      {
        "duration": 188,
        "start_time": "2023-08-08T13:31:39.156Z"
      },
      {
        "duration": 157,
        "start_time": "2023-08-08T13:31:45.747Z"
      },
      {
        "duration": 206,
        "start_time": "2023-08-08T13:32:02.267Z"
      },
      {
        "duration": 156,
        "start_time": "2023-08-08T13:36:48.931Z"
      },
      {
        "duration": 154,
        "start_time": "2023-08-08T13:37:08.923Z"
      },
      {
        "duration": 153,
        "start_time": "2023-08-08T13:37:14.844Z"
      },
      {
        "duration": 160,
        "start_time": "2023-08-08T13:37:28.324Z"
      },
      {
        "duration": 154,
        "start_time": "2023-08-08T13:37:46.931Z"
      },
      {
        "duration": 171,
        "start_time": "2023-08-08T13:38:03.947Z"
      },
      {
        "duration": 176,
        "start_time": "2023-08-08T13:40:58.508Z"
      },
      {
        "duration": 196,
        "start_time": "2023-08-08T13:44:25.517Z"
      },
      {
        "duration": 171,
        "start_time": "2023-08-08T13:44:45.873Z"
      },
      {
        "duration": 305,
        "start_time": "2023-08-08T13:48:53.645Z"
      },
      {
        "duration": 477,
        "start_time": "2023-08-08T13:50:46.792Z"
      },
      {
        "duration": 364,
        "start_time": "2023-08-08T13:51:48.366Z"
      },
      {
        "duration": 302,
        "start_time": "2023-08-08T13:55:40.886Z"
      },
      {
        "duration": 335,
        "start_time": "2023-08-08T13:56:58.935Z"
      },
      {
        "duration": 20,
        "start_time": "2023-08-08T13:58:52.744Z"
      },
      {
        "duration": 14,
        "start_time": "2023-08-08T13:59:05.798Z"
      },
      {
        "duration": 499,
        "start_time": "2023-08-08T14:00:16.087Z"
      },
      {
        "duration": 491,
        "start_time": "2023-08-08T14:03:34.376Z"
      },
      {
        "duration": 337,
        "start_time": "2023-08-08T14:04:00.143Z"
      },
      {
        "duration": 560,
        "start_time": "2023-08-08T14:04:44.473Z"
      },
      {
        "duration": 10,
        "start_time": "2023-08-08T14:07:13.098Z"
      },
      {
        "duration": 159,
        "start_time": "2023-08-08T14:08:34.986Z"
      },
      {
        "duration": 12,
        "start_time": "2023-08-08T14:09:01.488Z"
      },
      {
        "duration": 105,
        "start_time": "2023-08-08T14:12:13.575Z"
      },
      {
        "duration": 336,
        "start_time": "2023-08-08T14:13:07.618Z"
      },
      {
        "duration": 12,
        "start_time": "2023-08-08T14:15:04.587Z"
      },
      {
        "duration": 369,
        "start_time": "2023-08-08T14:15:06.763Z"
      },
      {
        "duration": 553,
        "start_time": "2023-08-08T14:15:31.062Z"
      },
      {
        "duration": 134,
        "start_time": "2023-08-08T14:15:52.828Z"
      },
      {
        "duration": 373,
        "start_time": "2023-08-08T14:15:58.612Z"
      },
      {
        "duration": 4,
        "start_time": "2023-08-08T14:20:13.422Z"
      },
      {
        "duration": 5,
        "start_time": "2023-08-08T14:20:25.725Z"
      },
      {
        "duration": 139,
        "start_time": "2023-08-08T14:20:33.789Z"
      },
      {
        "duration": 350,
        "start_time": "2023-08-08T14:20:57.661Z"
      },
      {
        "duration": 12,
        "start_time": "2023-08-08T14:21:10.902Z"
      },
      {
        "duration": 11,
        "start_time": "2023-08-08T14:21:32.393Z"
      },
      {
        "duration": 5,
        "start_time": "2023-08-08T14:21:40.221Z"
      },
      {
        "duration": 183,
        "start_time": "2023-08-08T14:21:42.814Z"
      },
      {
        "duration": 6,
        "start_time": "2023-08-08T14:21:45.062Z"
      },
      {
        "duration": 37,
        "start_time": "2023-08-08T14:21:47.453Z"
      },
      {
        "duration": 28,
        "start_time": "2023-08-08T14:21:50.205Z"
      },
      {
        "duration": 15,
        "start_time": "2023-08-08T14:21:52.709Z"
      },
      {
        "duration": 10,
        "start_time": "2023-08-08T14:22:07.390Z"
      },
      {
        "duration": 22,
        "start_time": "2023-08-08T14:22:09.757Z"
      },
      {
        "duration": 7,
        "start_time": "2023-08-08T14:22:13.230Z"
      },
      {
        "duration": 7,
        "start_time": "2023-08-08T14:22:15.190Z"
      },
      {
        "duration": 7,
        "start_time": "2023-08-08T14:22:17.288Z"
      },
      {
        "duration": 8,
        "start_time": "2023-08-08T14:22:20.125Z"
      },
      {
        "duration": 14,
        "start_time": "2023-08-08T14:22:22.384Z"
      },
      {
        "duration": 15,
        "start_time": "2023-08-08T14:22:25.086Z"
      },
      {
        "duration": 4,
        "start_time": "2023-08-08T14:22:27.813Z"
      },
      {
        "duration": 9,
        "start_time": "2023-08-08T14:22:29.925Z"
      },
      {
        "duration": 4,
        "start_time": "2023-08-08T14:22:31.654Z"
      },
      {
        "duration": 5,
        "start_time": "2023-08-08T14:22:34.198Z"
      },
      {
        "duration": 8,
        "start_time": "2023-08-08T14:22:36.053Z"
      },
      {
        "duration": 6,
        "start_time": "2023-08-08T14:22:38.726Z"
      },
      {
        "duration": 4,
        "start_time": "2023-08-08T14:22:40.488Z"
      },
      {
        "duration": 72,
        "start_time": "2023-08-08T14:22:42.509Z"
      },
      {
        "duration": 214,
        "start_time": "2023-08-08T14:22:44.286Z"
      },
      {
        "duration": 13,
        "start_time": "2023-08-08T14:22:50.821Z"
      },
      {
        "duration": 6,
        "start_time": "2023-08-08T14:22:53.240Z"
      },
      {
        "duration": 14,
        "start_time": "2023-08-08T14:22:55.040Z"
      },
      {
        "duration": 357,
        "start_time": "2023-08-08T14:22:56.941Z"
      },
      {
        "duration": 9,
        "start_time": "2023-08-08T14:22:59.710Z"
      },
      {
        "duration": 205,
        "start_time": "2023-08-08T14:23:23.738Z"
      },
      {
        "duration": 186,
        "start_time": "2023-08-08T14:23:26.917Z"
      },
      {
        "duration": 229,
        "start_time": "2023-08-08T14:23:29.918Z"
      },
      {
        "duration": 402,
        "start_time": "2023-08-08T14:23:32.790Z"
      },
      {
        "duration": 180,
        "start_time": "2023-08-08T14:23:35.390Z"
      },
      {
        "duration": 196,
        "start_time": "2023-08-08T14:23:38.454Z"
      },
      {
        "duration": 159,
        "start_time": "2023-08-08T14:23:41.645Z"
      },
      {
        "duration": 163,
        "start_time": "2023-08-08T14:23:45.247Z"
      },
      {
        "duration": 173,
        "start_time": "2023-08-08T14:23:47.758Z"
      },
      {
        "duration": 386,
        "start_time": "2023-08-08T14:23:50.741Z"
      },
      {
        "duration": 355,
        "start_time": "2023-08-08T14:23:53.488Z"
      },
      {
        "duration": 389,
        "start_time": "2023-08-08T14:23:55.987Z"
      },
      {
        "duration": 549,
        "start_time": "2023-08-08T14:23:58.550Z"
      },
      {
        "duration": 9,
        "start_time": "2023-08-08T14:24:03.785Z"
      },
      {
        "duration": 354,
        "start_time": "2023-08-08T14:24:16.910Z"
      },
      {
        "duration": 10,
        "start_time": "2023-08-08T14:28:58.514Z"
      },
      {
        "duration": 9,
        "start_time": "2023-08-08T14:29:13.025Z"
      },
      {
        "duration": 175,
        "start_time": "2023-08-08T14:35:18.902Z"
      },
      {
        "duration": 11,
        "start_time": "2023-08-08T14:36:48.792Z"
      },
      {
        "duration": 164,
        "start_time": "2023-08-08T14:37:10.692Z"
      },
      {
        "duration": 351,
        "start_time": "2023-08-08T14:37:17.618Z"
      },
      {
        "duration": 17,
        "start_time": "2023-08-08T14:42:54.734Z"
      },
      {
        "duration": 14,
        "start_time": "2023-08-08T14:45:31.920Z"
      },
      {
        "duration": 17,
        "start_time": "2023-08-08T14:45:52.098Z"
      },
      {
        "duration": 14,
        "start_time": "2023-08-08T14:46:54.921Z"
      },
      {
        "duration": 19,
        "start_time": "2023-08-08T14:46:58.537Z"
      },
      {
        "duration": 15,
        "start_time": "2023-08-08T14:48:43.399Z"
      },
      {
        "duration": 12,
        "start_time": "2023-08-08T14:49:16.804Z"
      },
      {
        "duration": 14,
        "start_time": "2023-08-08T14:49:33.214Z"
      },
      {
        "duration": 13,
        "start_time": "2023-08-08T14:50:18.907Z"
      },
      {
        "duration": 13,
        "start_time": "2023-08-08T14:56:23.399Z"
      },
      {
        "duration": 16,
        "start_time": "2023-08-08T14:57:11.753Z"
      },
      {
        "duration": 16,
        "start_time": "2023-08-08T14:58:47.729Z"
      },
      {
        "duration": 25,
        "start_time": "2023-08-08T15:00:08.363Z"
      },
      {
        "duration": 5,
        "start_time": "2023-08-08T15:00:54.805Z"
      },
      {
        "duration": 215,
        "start_time": "2023-08-08T15:00:54.814Z"
      },
      {
        "duration": 8,
        "start_time": "2023-08-08T15:00:55.031Z"
      },
      {
        "duration": 49,
        "start_time": "2023-08-08T15:00:55.042Z"
      },
      {
        "duration": 39,
        "start_time": "2023-08-08T15:00:55.094Z"
      },
      {
        "duration": 36,
        "start_time": "2023-08-08T15:00:55.135Z"
      },
      {
        "duration": 3046,
        "start_time": "2023-08-08T15:00:55.172Z"
      },
      {
        "duration": 11,
        "start_time": "2023-08-08T15:00:58.220Z"
      },
      {
        "duration": 36,
        "start_time": "2023-08-08T15:00:58.233Z"
      },
      {
        "duration": 10,
        "start_time": "2023-08-08T15:00:58.271Z"
      },
      {
        "duration": 27,
        "start_time": "2023-08-08T15:00:58.283Z"
      },
      {
        "duration": 8,
        "start_time": "2023-08-08T15:00:58.312Z"
      },
      {
        "duration": 20,
        "start_time": "2023-08-08T15:00:58.322Z"
      },
      {
        "duration": 19,
        "start_time": "2023-08-08T15:00:58.346Z"
      },
      {
        "duration": 30,
        "start_time": "2023-08-08T15:00:58.371Z"
      },
      {
        "duration": 33,
        "start_time": "2023-08-08T15:00:58.403Z"
      },
      {
        "duration": 14,
        "start_time": "2023-08-08T15:00:58.438Z"
      },
      {
        "duration": 12,
        "start_time": "2023-08-08T15:00:58.453Z"
      },
      {
        "duration": 10,
        "start_time": "2023-08-08T15:00:58.474Z"
      },
      {
        "duration": 10,
        "start_time": "2023-08-08T15:00:58.486Z"
      },
      {
        "duration": 5,
        "start_time": "2023-08-08T15:00:58.498Z"
      },
      {
        "duration": 10,
        "start_time": "2023-08-08T15:00:58.508Z"
      },
      {
        "duration": 71,
        "start_time": "2023-08-08T15:00:58.520Z"
      },
      {
        "duration": 294,
        "start_time": "2023-08-08T15:00:58.593Z"
      },
      {
        "duration": 25,
        "start_time": "2023-08-08T15:00:58.889Z"
      },
      {
        "duration": 19,
        "start_time": "2023-08-08T15:00:58.918Z"
      },
      {
        "duration": 60,
        "start_time": "2023-08-08T15:00:58.938Z"
      },
      {
        "duration": 409,
        "start_time": "2023-08-08T15:00:59.000Z"
      },
      {
        "duration": 7,
        "start_time": "2023-08-08T15:00:59.411Z"
      },
      {
        "duration": 275,
        "start_time": "2023-08-08T15:00:59.420Z"
      },
      {
        "duration": 216,
        "start_time": "2023-08-08T15:00:59.697Z"
      },
      {
        "duration": 230,
        "start_time": "2023-08-08T15:00:59.915Z"
      },
      {
        "duration": 265,
        "start_time": "2023-08-08T15:01:00.148Z"
      },
      {
        "duration": 192,
        "start_time": "2023-08-08T15:01:00.416Z"
      },
      {
        "duration": 217,
        "start_time": "2023-08-08T15:01:00.610Z"
      },
      {
        "duration": 276,
        "start_time": "2023-08-08T15:01:00.829Z"
      },
      {
        "duration": 180,
        "start_time": "2023-08-08T15:01:01.107Z"
      },
      {
        "duration": 193,
        "start_time": "2023-08-08T15:01:01.289Z"
      },
      {
        "duration": 569,
        "start_time": "2023-08-08T15:01:01.486Z"
      },
      {
        "duration": 774,
        "start_time": "2023-08-08T15:01:02.057Z"
      },
      {
        "duration": 405,
        "start_time": "2023-08-08T15:01:02.836Z"
      },
      {
        "duration": 603,
        "start_time": "2023-08-08T15:01:03.243Z"
      },
      {
        "duration": 28,
        "start_time": "2023-08-08T15:01:03.848Z"
      },
      {
        "duration": 209,
        "start_time": "2023-08-08T15:01:03.878Z"
      },
      {
        "duration": 15,
        "start_time": "2023-08-08T15:01:04.096Z"
      },
      {
        "duration": 198,
        "start_time": "2023-08-08T15:01:04.113Z"
      },
      {
        "duration": 417,
        "start_time": "2023-08-08T15:01:04.315Z"
      },
      {
        "duration": 18,
        "start_time": "2023-08-08T15:01:04.736Z"
      },
      {
        "duration": 37,
        "start_time": "2023-08-08T15:01:04.766Z"
      },
      {
        "duration": 0,
        "start_time": "2023-08-08T15:01:04.805Z"
      },
      {
        "duration": 0,
        "start_time": "2023-08-08T15:01:04.807Z"
      },
      {
        "duration": 0,
        "start_time": "2023-08-08T15:01:04.808Z"
      },
      {
        "duration": 0,
        "start_time": "2023-08-08T15:01:04.809Z"
      },
      {
        "duration": 0,
        "start_time": "2023-08-08T15:01:04.810Z"
      },
      {
        "duration": 0,
        "start_time": "2023-08-08T15:01:04.814Z"
      },
      {
        "duration": 0,
        "start_time": "2023-08-08T15:01:04.818Z"
      },
      {
        "duration": 0,
        "start_time": "2023-08-08T15:01:04.820Z"
      },
      {
        "duration": 0,
        "start_time": "2023-08-08T15:01:04.821Z"
      },
      {
        "duration": 0,
        "start_time": "2023-08-08T15:01:04.822Z"
      },
      {
        "duration": 0,
        "start_time": "2023-08-08T15:01:04.823Z"
      },
      {
        "duration": 0,
        "start_time": "2023-08-08T15:01:04.825Z"
      },
      {
        "duration": 0,
        "start_time": "2023-08-08T15:01:04.827Z"
      },
      {
        "duration": 0,
        "start_time": "2023-08-08T15:01:04.828Z"
      },
      {
        "duration": 0,
        "start_time": "2023-08-08T15:01:04.830Z"
      },
      {
        "duration": 5,
        "start_time": "2023-08-08T15:01:11.803Z"
      },
      {
        "duration": 198,
        "start_time": "2023-08-08T15:01:13.763Z"
      },
      {
        "duration": 7,
        "start_time": "2023-08-08T15:01:15.861Z"
      },
      {
        "duration": 29,
        "start_time": "2023-08-08T15:01:18.026Z"
      },
      {
        "duration": 28,
        "start_time": "2023-08-08T15:01:21.200Z"
      },
      {
        "duration": 23,
        "start_time": "2023-08-08T15:01:23.909Z"
      },
      {
        "duration": 12,
        "start_time": "2023-08-08T15:01:27.808Z"
      },
      {
        "duration": 14,
        "start_time": "2023-08-08T15:01:30.506Z"
      },
      {
        "duration": 9,
        "start_time": "2023-08-08T15:01:34.216Z"
      },
      {
        "duration": 8,
        "start_time": "2023-08-08T15:01:36.011Z"
      },
      {
        "duration": 6,
        "start_time": "2023-08-08T15:01:37.913Z"
      },
      {
        "duration": 11,
        "start_time": "2023-08-08T15:01:40.106Z"
      },
      {
        "duration": 13,
        "start_time": "2023-08-08T15:01:42.002Z"
      },
      {
        "duration": 6,
        "start_time": "2023-08-08T15:01:44.397Z"
      },
      {
        "duration": 8,
        "start_time": "2023-08-08T15:01:46.139Z"
      },
      {
        "duration": 6,
        "start_time": "2023-08-08T15:01:47.963Z"
      },
      {
        "duration": 5,
        "start_time": "2023-08-08T15:01:49.606Z"
      },
      {
        "duration": 16,
        "start_time": "2023-08-08T15:01:51.270Z"
      },
      {
        "duration": 7,
        "start_time": "2023-08-08T15:01:54.219Z"
      },
      {
        "duration": 4,
        "start_time": "2023-08-08T15:01:56.703Z"
      },
      {
        "duration": 81,
        "start_time": "2023-08-08T15:01:58.705Z"
      },
      {
        "duration": 230,
        "start_time": "2023-08-08T15:02:00.592Z"
      },
      {
        "duration": 16,
        "start_time": "2023-08-08T15:02:02.946Z"
      },
      {
        "duration": 9,
        "start_time": "2023-08-08T15:02:05.210Z"
      },
      {
        "duration": 18,
        "start_time": "2023-08-08T15:02:06.914Z"
      },
      {
        "duration": 420,
        "start_time": "2023-08-08T15:02:08.606Z"
      },
      {
        "duration": 10,
        "start_time": "2023-08-08T15:02:10.650Z"
      },
      {
        "duration": 229,
        "start_time": "2023-08-08T15:02:12.914Z"
      },
      {
        "duration": 227,
        "start_time": "2023-08-08T15:02:15.302Z"
      },
      {
        "duration": 218,
        "start_time": "2023-08-08T15:02:18.007Z"
      },
      {
        "duration": 261,
        "start_time": "2023-08-08T15:02:20.362Z"
      },
      {
        "duration": 195,
        "start_time": "2023-08-08T15:02:22.858Z"
      },
      {
        "duration": 238,
        "start_time": "2023-08-08T15:02:25.722Z"
      },
      {
        "duration": 511,
        "start_time": "2023-08-08T15:02:28.704Z"
      },
      {
        "duration": 180,
        "start_time": "2023-08-08T15:02:32.643Z"
      },
      {
        "duration": 188,
        "start_time": "2023-08-08T15:02:34.890Z"
      },
      {
        "duration": 387,
        "start_time": "2023-08-08T15:02:37.602Z"
      },
      {
        "duration": 357,
        "start_time": "2023-08-08T15:02:40.302Z"
      },
      {
        "duration": 418,
        "start_time": "2023-08-08T15:02:42.745Z"
      },
      {
        "duration": 614,
        "start_time": "2023-08-08T15:02:45.306Z"
      },
      {
        "duration": 11,
        "start_time": "2023-08-08T15:02:48.903Z"
      },
      {
        "duration": 166,
        "start_time": "2023-08-08T15:02:51.714Z"
      },
      {
        "duration": 15,
        "start_time": "2023-08-08T15:02:54.018Z"
      },
      {
        "duration": 138,
        "start_time": "2023-08-08T15:02:56.205Z"
      },
      {
        "duration": 413,
        "start_time": "2023-08-08T15:02:58.840Z"
      },
      {
        "duration": 21,
        "start_time": "2023-08-08T15:03:01.954Z"
      },
      {
        "duration": 15,
        "start_time": "2023-08-08T15:03:04.730Z"
      },
      {
        "duration": 24,
        "start_time": "2023-08-08T15:03:08.458Z"
      },
      {
        "duration": 208,
        "start_time": "2023-08-08T15:05:25.097Z"
      },
      {
        "duration": 179,
        "start_time": "2023-08-08T15:06:15.140Z"
      },
      {
        "duration": 5,
        "start_time": "2023-08-08T15:06:18.824Z"
      },
      {
        "duration": 199,
        "start_time": "2023-08-08T15:06:18.831Z"
      },
      {
        "duration": 4,
        "start_time": "2023-08-08T15:06:19.032Z"
      },
      {
        "duration": 52,
        "start_time": "2023-08-08T15:06:19.039Z"
      },
      {
        "duration": 31,
        "start_time": "2023-08-08T15:06:19.099Z"
      },
      {
        "duration": 19,
        "start_time": "2023-08-08T15:06:19.132Z"
      },
      {
        "duration": 2962,
        "start_time": "2023-08-08T15:06:19.153Z"
      },
      {
        "duration": 12,
        "start_time": "2023-08-08T15:06:22.118Z"
      },
      {
        "duration": 12,
        "start_time": "2023-08-08T15:06:22.132Z"
      },
      {
        "duration": 31,
        "start_time": "2023-08-08T15:06:22.146Z"
      },
      {
        "duration": 13,
        "start_time": "2023-08-08T15:06:22.181Z"
      },
      {
        "duration": 17,
        "start_time": "2023-08-08T15:06:22.196Z"
      },
      {
        "duration": 10,
        "start_time": "2023-08-08T15:06:22.215Z"
      },
      {
        "duration": 17,
        "start_time": "2023-08-08T15:06:22.227Z"
      },
      {
        "duration": 28,
        "start_time": "2023-08-08T15:06:22.246Z"
      },
      {
        "duration": 11,
        "start_time": "2023-08-08T15:06:22.288Z"
      },
      {
        "duration": 19,
        "start_time": "2023-08-08T15:06:22.301Z"
      },
      {
        "duration": 8,
        "start_time": "2023-08-08T15:06:22.322Z"
      },
      {
        "duration": 7,
        "start_time": "2023-08-08T15:06:22.332Z"
      },
      {
        "duration": 8,
        "start_time": "2023-08-08T15:06:22.342Z"
      },
      {
        "duration": 32,
        "start_time": "2023-08-08T15:06:22.353Z"
      },
      {
        "duration": 6,
        "start_time": "2023-08-08T15:06:22.391Z"
      },
      {
        "duration": 74,
        "start_time": "2023-08-08T15:06:22.399Z"
      },
      {
        "duration": 223,
        "start_time": "2023-08-08T15:06:22.475Z"
      },
      {
        "duration": 11,
        "start_time": "2023-08-08T15:06:22.701Z"
      },
      {
        "duration": 10,
        "start_time": "2023-08-08T15:06:22.714Z"
      },
      {
        "duration": 15,
        "start_time": "2023-08-08T15:06:22.725Z"
      },
      {
        "duration": 432,
        "start_time": "2023-08-08T15:06:22.745Z"
      },
      {
        "duration": 12,
        "start_time": "2023-08-08T15:06:23.179Z"
      },
      {
        "duration": 287,
        "start_time": "2023-08-08T15:06:23.203Z"
      },
      {
        "duration": 200,
        "start_time": "2023-08-08T15:06:23.492Z"
      },
      {
        "duration": 215,
        "start_time": "2023-08-08T15:06:23.694Z"
      },
      {
        "duration": 245,
        "start_time": "2023-08-08T15:06:23.912Z"
      },
      {
        "duration": 220,
        "start_time": "2023-08-08T15:06:24.159Z"
      },
      {
        "duration": 204,
        "start_time": "2023-08-08T15:06:24.383Z"
      },
      {
        "duration": 179,
        "start_time": "2023-08-08T15:06:24.592Z"
      },
      {
        "duration": 162,
        "start_time": "2023-08-08T15:06:24.778Z"
      },
      {
        "duration": 197,
        "start_time": "2023-08-08T15:06:24.942Z"
      },
      {
        "duration": 677,
        "start_time": "2023-08-08T15:06:25.140Z"
      },
      {
        "duration": 366,
        "start_time": "2023-08-08T15:06:25.820Z"
      },
      {
        "duration": 353,
        "start_time": "2023-08-08T15:06:26.188Z"
      },
      {
        "duration": 585,
        "start_time": "2023-08-08T15:06:26.544Z"
      },
      {
        "duration": 11,
        "start_time": "2023-08-08T15:06:27.131Z"
      },
      {
        "duration": 195,
        "start_time": "2023-08-08T15:06:27.143Z"
      },
      {
        "duration": 13,
        "start_time": "2023-08-08T15:06:27.340Z"
      },
      {
        "duration": 169,
        "start_time": "2023-08-08T15:06:27.356Z"
      },
      {
        "duration": 420,
        "start_time": "2023-08-08T15:06:27.528Z"
      },
      {
        "duration": 209,
        "start_time": "2023-08-08T15:06:27.950Z"
      },
      {
        "duration": 15,
        "start_time": "2023-08-08T15:06:28.171Z"
      },
      {
        "duration": 22,
        "start_time": "2023-08-08T15:06:28.193Z"
      },
      {
        "duration": 0,
        "start_time": "2023-08-08T15:06:28.222Z"
      },
      {
        "duration": 0,
        "start_time": "2023-08-08T15:06:28.223Z"
      },
      {
        "duration": 0,
        "start_time": "2023-08-08T15:06:28.225Z"
      },
      {
        "duration": 0,
        "start_time": "2023-08-08T15:06:28.226Z"
      },
      {
        "duration": 0,
        "start_time": "2023-08-08T15:06:28.227Z"
      },
      {
        "duration": 0,
        "start_time": "2023-08-08T15:06:28.229Z"
      },
      {
        "duration": 0,
        "start_time": "2023-08-08T15:06:28.230Z"
      },
      {
        "duration": 0,
        "start_time": "2023-08-08T15:06:28.231Z"
      },
      {
        "duration": 0,
        "start_time": "2023-08-08T15:06:28.233Z"
      },
      {
        "duration": 0,
        "start_time": "2023-08-08T15:06:28.234Z"
      },
      {
        "duration": 0,
        "start_time": "2023-08-08T15:06:28.236Z"
      },
      {
        "duration": 0,
        "start_time": "2023-08-08T15:06:28.237Z"
      },
      {
        "duration": 0,
        "start_time": "2023-08-08T15:06:28.238Z"
      },
      {
        "duration": 0,
        "start_time": "2023-08-08T15:06:28.240Z"
      },
      {
        "duration": 226,
        "start_time": "2023-08-08T15:07:01.011Z"
      },
      {
        "duration": 215,
        "start_time": "2023-08-08T15:08:02.605Z"
      },
      {
        "duration": 13,
        "start_time": "2023-08-08T15:08:26.730Z"
      },
      {
        "duration": 12,
        "start_time": "2023-08-08T15:08:59.739Z"
      },
      {
        "duration": 14,
        "start_time": "2023-08-08T15:09:36.200Z"
      },
      {
        "duration": 10,
        "start_time": "2023-08-08T15:12:18.363Z"
      },
      {
        "duration": 168,
        "start_time": "2023-08-08T15:12:20.192Z"
      },
      {
        "duration": 5,
        "start_time": "2023-08-08T15:12:22.199Z"
      },
      {
        "duration": 38,
        "start_time": "2023-08-08T15:12:24.101Z"
      },
      {
        "duration": 15,
        "start_time": "2023-08-08T15:12:30.604Z"
      },
      {
        "duration": 15,
        "start_time": "2023-08-08T15:12:34.351Z"
      },
      {
        "duration": 10,
        "start_time": "2023-08-08T15:12:38.036Z"
      },
      {
        "duration": 7,
        "start_time": "2023-08-08T15:12:40.494Z"
      },
      {
        "duration": 9,
        "start_time": "2023-08-08T15:12:42.330Z"
      },
      {
        "duration": 6,
        "start_time": "2023-08-08T15:12:44.331Z"
      },
      {
        "duration": 8,
        "start_time": "2023-08-08T15:12:46.698Z"
      },
      {
        "duration": 15,
        "start_time": "2023-08-08T15:12:48.531Z"
      },
      {
        "duration": 15,
        "start_time": "2023-08-08T15:12:50.916Z"
      },
      {
        "duration": 4,
        "start_time": "2023-08-08T15:12:53.355Z"
      },
      {
        "duration": 8,
        "start_time": "2023-08-08T15:12:55.507Z"
      },
      {
        "duration": 5,
        "start_time": "2023-08-08T15:12:57.451Z"
      },
      {
        "duration": 6,
        "start_time": "2023-08-08T15:12:59.503Z"
      },
      {
        "duration": 7,
        "start_time": "2023-08-08T15:13:02.198Z"
      },
      {
        "duration": 8,
        "start_time": "2023-08-08T15:13:04.098Z"
      },
      {
        "duration": 5,
        "start_time": "2023-08-08T15:13:06.098Z"
      },
      {
        "duration": 72,
        "start_time": "2023-08-08T15:13:08.515Z"
      },
      {
        "duration": 217,
        "start_time": "2023-08-08T15:13:11.804Z"
      },
      {
        "duration": 21,
        "start_time": "2023-08-08T15:13:14.163Z"
      },
      {
        "duration": 6,
        "start_time": "2023-08-08T15:13:16.555Z"
      },
      {
        "duration": 427,
        "start_time": "2023-08-08T15:13:18.636Z"
      },
      {
        "duration": 196,
        "start_time": "2023-08-08T15:13:21.644Z"
      },
      {
        "duration": 208,
        "start_time": "2023-08-08T15:13:24.828Z"
      },
      {
        "duration": 250,
        "start_time": "2023-08-08T15:13:27.347Z"
      },
      {
        "duration": 223,
        "start_time": "2023-08-08T15:13:29.939Z"
      },
      {
        "duration": 192,
        "start_time": "2023-08-08T15:13:32.604Z"
      },
      {
        "duration": 209,
        "start_time": "2023-08-08T15:13:35.515Z"
      },
      {
        "duration": 171,
        "start_time": "2023-08-08T15:13:38.268Z"
      },
      {
        "duration": 157,
        "start_time": "2023-08-08T15:13:41.995Z"
      },
      {
        "duration": 542,
        "start_time": "2023-08-08T15:13:44.539Z"
      },
      {
        "duration": 398,
        "start_time": "2023-08-08T15:13:47.301Z"
      },
      {
        "duration": 365,
        "start_time": "2023-08-08T15:13:53.636Z"
      },
      {
        "duration": 375,
        "start_time": "2023-08-08T15:13:59.514Z"
      },
      {
        "duration": 24,
        "start_time": "2023-08-08T15:14:02.220Z"
      },
      {
        "duration": 6,
        "start_time": "2023-08-08T15:14:51.947Z"
      },
      {
        "duration": 177,
        "start_time": "2023-08-08T15:14:54.923Z"
      },
      {
        "duration": 4,
        "start_time": "2023-08-08T15:14:57.698Z"
      },
      {
        "duration": 30,
        "start_time": "2023-08-08T15:14:59.798Z"
      },
      {
        "duration": 29,
        "start_time": "2023-08-08T15:15:03.317Z"
      },
      {
        "duration": 18,
        "start_time": "2023-08-08T15:15:06.000Z"
      },
      {
        "duration": 2711,
        "start_time": "2023-08-08T15:15:10.734Z"
      },
      {
        "duration": 10,
        "start_time": "2023-08-08T15:15:13.812Z"
      },
      {
        "duration": 11,
        "start_time": "2023-08-08T15:15:17.317Z"
      },
      {
        "duration": 6,
        "start_time": "2023-08-08T15:15:20.298Z"
      },
      {
        "duration": 7,
        "start_time": "2023-08-08T15:15:22.400Z"
      },
      {
        "duration": 6,
        "start_time": "2023-08-08T15:15:24.702Z"
      },
      {
        "duration": 8,
        "start_time": "2023-08-08T15:15:26.932Z"
      },
      {
        "duration": 16,
        "start_time": "2023-08-08T15:15:28.908Z"
      },
      {
        "duration": 4,
        "start_time": "2023-08-08T15:15:32.105Z"
      },
      {
        "duration": 9,
        "start_time": "2023-08-08T15:15:34.245Z"
      },
      {
        "duration": 5,
        "start_time": "2023-08-08T15:15:36.533Z"
      },
      {
        "duration": 10,
        "start_time": "2023-08-08T15:15:38.765Z"
      },
      {
        "duration": 7,
        "start_time": "2023-08-08T15:15:42.200Z"
      },
      {
        "duration": 5,
        "start_time": "2023-08-08T15:15:44.829Z"
      },
      {
        "duration": 5,
        "start_time": "2023-08-08T15:15:47.253Z"
      },
      {
        "duration": 64,
        "start_time": "2023-08-08T15:15:49.716Z"
      },
      {
        "duration": 274,
        "start_time": "2023-08-08T15:15:52.244Z"
      },
      {
        "duration": 11,
        "start_time": "2023-08-08T15:15:54.925Z"
      },
      {
        "duration": 6,
        "start_time": "2023-08-08T15:15:57.400Z"
      },
      {
        "duration": 13,
        "start_time": "2023-08-08T15:16:00.214Z"
      },
      {
        "duration": 403,
        "start_time": "2023-08-08T15:16:02.106Z"
      },
      {
        "duration": 8,
        "start_time": "2023-08-08T15:16:04.356Z"
      },
      {
        "duration": 208,
        "start_time": "2023-08-08T15:16:07.253Z"
      },
      {
        "duration": 207,
        "start_time": "2023-08-08T15:16:10.133Z"
      },
      {
        "duration": 614,
        "start_time": "2023-08-08T15:16:12.899Z"
      },
      {
        "duration": 221,
        "start_time": "2023-08-08T15:16:16.132Z"
      },
      {
        "duration": 195,
        "start_time": "2023-08-08T15:16:19.525Z"
      },
      {
        "duration": 232,
        "start_time": "2023-08-08T15:16:23.045Z"
      },
      {
        "duration": 202,
        "start_time": "2023-08-08T15:16:26.597Z"
      },
      {
        "duration": 148,
        "start_time": "2023-08-08T15:16:29.806Z"
      },
      {
        "duration": 179,
        "start_time": "2023-08-08T15:16:32.757Z"
      },
      {
        "duration": 375,
        "start_time": "2023-08-08T15:16:36.104Z"
      },
      {
        "duration": 350,
        "start_time": "2023-08-08T15:16:41.497Z"
      },
      {
        "duration": 383,
        "start_time": "2023-08-08T15:16:45.237Z"
      },
      {
        "duration": 578,
        "start_time": "2023-08-08T15:16:49.126Z"
      },
      {
        "duration": 18,
        "start_time": "2023-08-08T15:16:53.062Z"
      },
      {
        "duration": 176,
        "start_time": "2023-08-08T15:16:56.134Z"
      },
      {
        "duration": 12,
        "start_time": "2023-08-08T15:16:58.949Z"
      },
      {
        "duration": 149,
        "start_time": "2023-08-08T15:17:01.430Z"
      },
      {
        "duration": 427,
        "start_time": "2023-08-08T15:17:04.006Z"
      },
      {
        "duration": 177,
        "start_time": "2023-08-08T15:17:07.262Z"
      },
      {
        "duration": 220,
        "start_time": "2023-08-08T15:17:10.000Z"
      },
      {
        "duration": 195,
        "start_time": "2023-08-08T15:17:13.135Z"
      },
      {
        "duration": 200,
        "start_time": "2023-08-08T15:17:18.334Z"
      },
      {
        "duration": 204,
        "start_time": "2023-08-08T15:17:21.407Z"
      },
      {
        "duration": 166,
        "start_time": "2023-08-08T15:17:24.310Z"
      },
      {
        "duration": 124,
        "start_time": "2023-08-08T15:27:39.099Z"
      },
      {
        "duration": 207,
        "start_time": "2023-08-08T15:28:49.494Z"
      },
      {
        "duration": 220,
        "start_time": "2023-08-08T15:30:02.293Z"
      },
      {
        "duration": 234,
        "start_time": "2023-08-08T15:30:34.110Z"
      },
      {
        "duration": 32,
        "start_time": "2023-08-08T15:31:47.972Z"
      },
      {
        "duration": 5,
        "start_time": "2023-08-08T15:33:35.332Z"
      },
      {
        "duration": 249,
        "start_time": "2023-08-08T15:33:35.339Z"
      },
      {
        "duration": 10,
        "start_time": "2023-08-08T15:33:35.590Z"
      },
      {
        "duration": 43,
        "start_time": "2023-08-08T15:33:35.604Z"
      },
      {
        "duration": 81,
        "start_time": "2023-08-08T15:33:35.649Z"
      },
      {
        "duration": 28,
        "start_time": "2023-08-08T15:33:35.732Z"
      },
      {
        "duration": 3360,
        "start_time": "2023-08-08T15:33:35.763Z"
      },
      {
        "duration": 16,
        "start_time": "2023-08-08T15:33:39.125Z"
      },
      {
        "duration": 50,
        "start_time": "2023-08-08T15:33:39.143Z"
      },
      {
        "duration": 9,
        "start_time": "2023-08-08T15:33:39.197Z"
      },
      {
        "duration": 25,
        "start_time": "2023-08-08T15:33:39.208Z"
      },
      {
        "duration": 17,
        "start_time": "2023-08-08T15:33:39.235Z"
      },
      {
        "duration": 8,
        "start_time": "2023-08-08T15:33:39.254Z"
      },
      {
        "duration": 20,
        "start_time": "2023-08-08T15:33:39.264Z"
      },
      {
        "duration": 23,
        "start_time": "2023-08-08T15:33:39.286Z"
      },
      {
        "duration": 5,
        "start_time": "2023-08-08T15:33:39.312Z"
      },
      {
        "duration": 24,
        "start_time": "2023-08-08T15:33:39.318Z"
      },
      {
        "duration": 6,
        "start_time": "2023-08-08T15:33:39.344Z"
      },
      {
        "duration": 18,
        "start_time": "2023-08-08T15:33:39.352Z"
      },
      {
        "duration": 14,
        "start_time": "2023-08-08T15:33:39.372Z"
      },
      {
        "duration": 18,
        "start_time": "2023-08-08T15:33:39.388Z"
      },
      {
        "duration": 7,
        "start_time": "2023-08-08T15:33:39.408Z"
      },
      {
        "duration": 74,
        "start_time": "2023-08-08T15:33:39.417Z"
      },
      {
        "duration": 234,
        "start_time": "2023-08-08T15:33:39.499Z"
      },
      {
        "duration": 11,
        "start_time": "2023-08-08T15:33:39.735Z"
      },
      {
        "duration": 35,
        "start_time": "2023-08-08T15:33:39.748Z"
      },
      {
        "duration": 25,
        "start_time": "2023-08-08T15:33:39.789Z"
      },
      {
        "duration": 390,
        "start_time": "2023-08-08T15:33:39.818Z"
      },
      {
        "duration": 8,
        "start_time": "2023-08-08T15:33:40.210Z"
      },
      {
        "duration": 241,
        "start_time": "2023-08-08T15:33:40.220Z"
      },
      {
        "duration": 224,
        "start_time": "2023-08-08T15:33:40.463Z"
      },
      {
        "duration": 236,
        "start_time": "2023-08-08T15:33:40.689Z"
      },
      {
        "duration": 217,
        "start_time": "2023-08-08T15:33:40.927Z"
      },
      {
        "duration": 198,
        "start_time": "2023-08-08T15:33:41.146Z"
      },
      {
        "duration": 243,
        "start_time": "2023-08-08T15:33:41.346Z"
      },
      {
        "duration": 230,
        "start_time": "2023-08-08T15:33:41.591Z"
      },
      {
        "duration": 217,
        "start_time": "2023-08-08T15:33:41.823Z"
      },
      {
        "duration": 193,
        "start_time": "2023-08-08T15:33:42.043Z"
      },
      {
        "duration": 438,
        "start_time": "2023-08-08T15:33:42.238Z"
      },
      {
        "duration": 385,
        "start_time": "2023-08-08T15:33:42.680Z"
      },
      {
        "duration": 438,
        "start_time": "2023-08-08T15:33:43.066Z"
      },
      {
        "duration": 651,
        "start_time": "2023-08-08T15:33:43.508Z"
      },
      {
        "duration": 32,
        "start_time": "2023-08-08T15:33:44.161Z"
      },
      {
        "duration": 315,
        "start_time": "2023-08-08T15:33:44.197Z"
      },
      {
        "duration": 12,
        "start_time": "2023-08-08T15:33:44.520Z"
      },
      {
        "duration": 156,
        "start_time": "2023-08-08T15:33:44.534Z"
      },
      {
        "duration": 409,
        "start_time": "2023-08-08T15:33:44.692Z"
      },
      {
        "duration": 200,
        "start_time": "2023-08-08T15:33:45.103Z"
      },
      {
        "duration": 212,
        "start_time": "2023-08-08T15:33:45.305Z"
      },
      {
        "duration": 245,
        "start_time": "2023-08-08T15:33:45.520Z"
      },
      {
        "duration": 193,
        "start_time": "2023-08-08T15:33:45.767Z"
      },
      {
        "duration": 784,
        "start_time": "2023-08-08T15:33:45.962Z"
      },
      {
        "duration": 239,
        "start_time": "2023-08-08T15:33:46.749Z"
      },
      {
        "duration": 288,
        "start_time": "2023-08-08T15:33:46.998Z"
      },
      {
        "duration": 43,
        "start_time": "2023-08-08T15:33:47.290Z"
      },
      {
        "duration": 0,
        "start_time": "2023-08-08T15:33:47.335Z"
      },
      {
        "duration": 0,
        "start_time": "2023-08-08T15:33:47.337Z"
      },
      {
        "duration": 0,
        "start_time": "2023-08-08T15:33:47.339Z"
      },
      {
        "duration": 0,
        "start_time": "2023-08-08T15:33:47.340Z"
      },
      {
        "duration": 0,
        "start_time": "2023-08-08T15:33:47.341Z"
      },
      {
        "duration": 1,
        "start_time": "2023-08-08T15:33:47.342Z"
      },
      {
        "duration": 0,
        "start_time": "2023-08-08T15:33:47.346Z"
      },
      {
        "duration": 0,
        "start_time": "2023-08-08T15:33:47.347Z"
      },
      {
        "duration": 0,
        "start_time": "2023-08-08T15:33:47.353Z"
      },
      {
        "duration": 0,
        "start_time": "2023-08-08T15:33:47.355Z"
      },
      {
        "duration": 0,
        "start_time": "2023-08-08T15:33:47.356Z"
      },
      {
        "duration": 0,
        "start_time": "2023-08-08T15:33:47.358Z"
      },
      {
        "duration": 34,
        "start_time": "2023-08-08T15:34:00.488Z"
      },
      {
        "duration": 193,
        "start_time": "2023-08-08T15:34:18.927Z"
      },
      {
        "duration": 22,
        "start_time": "2023-08-08T15:35:33.230Z"
      },
      {
        "duration": 25,
        "start_time": "2023-08-08T15:35:43.589Z"
      },
      {
        "duration": 21,
        "start_time": "2023-08-08T15:36:48.919Z"
      },
      {
        "duration": 22,
        "start_time": "2023-08-08T17:50:10.920Z"
      },
      {
        "duration": 30,
        "start_time": "2023-08-08T17:50:44.322Z"
      },
      {
        "duration": 126,
        "start_time": "2023-08-08T17:52:14.449Z"
      },
      {
        "duration": 123,
        "start_time": "2023-08-08T17:52:56.998Z"
      },
      {
        "duration": 14,
        "start_time": "2023-08-08T17:55:02.518Z"
      },
      {
        "duration": 15,
        "start_time": "2023-08-08T17:55:21.422Z"
      },
      {
        "duration": 199,
        "start_time": "2023-08-08T17:55:51.111Z"
      },
      {
        "duration": 236,
        "start_time": "2023-08-08T17:56:16.487Z"
      },
      {
        "duration": 190,
        "start_time": "2023-08-08T17:56:27.021Z"
      },
      {
        "duration": 256,
        "start_time": "2023-08-08T17:57:00.765Z"
      },
      {
        "duration": 3,
        "start_time": "2023-08-08T18:02:11.606Z"
      },
      {
        "duration": 3,
        "start_time": "2023-08-08T18:07:35.630Z"
      },
      {
        "duration": 3,
        "start_time": "2023-08-08T18:07:51.821Z"
      },
      {
        "duration": 3,
        "start_time": "2023-08-08T18:07:54.060Z"
      },
      {
        "duration": 218,
        "start_time": "2023-08-08T18:21:49.014Z"
      },
      {
        "duration": 178,
        "start_time": "2023-08-08T18:22:08.253Z"
      },
      {
        "duration": 192,
        "start_time": "2023-08-08T18:24:14.052Z"
      },
      {
        "duration": 160,
        "start_time": "2023-08-08T18:24:39.899Z"
      },
      {
        "duration": 176,
        "start_time": "2023-08-08T18:26:51.146Z"
      },
      {
        "duration": 11,
        "start_time": "2023-08-08T18:29:57.632Z"
      },
      {
        "duration": 329,
        "start_time": "2023-08-08T18:30:21.640Z"
      },
      {
        "duration": 285,
        "start_time": "2023-08-08T18:31:34.930Z"
      },
      {
        "duration": 273,
        "start_time": "2023-08-08T18:32:14.386Z"
      },
      {
        "duration": 263,
        "start_time": "2023-08-08T18:32:35.551Z"
      },
      {
        "duration": 287,
        "start_time": "2023-08-08T18:32:47.822Z"
      },
      {
        "duration": 163,
        "start_time": "2023-08-08T18:33:20.494Z"
      },
      {
        "duration": 208,
        "start_time": "2023-08-08T18:33:43.670Z"
      },
      {
        "duration": 172,
        "start_time": "2023-08-08T18:33:51.621Z"
      },
      {
        "duration": 204,
        "start_time": "2023-08-08T18:35:20.214Z"
      },
      {
        "duration": 178,
        "start_time": "2023-08-08T18:35:20.420Z"
      },
      {
        "duration": 219,
        "start_time": "2023-08-08T18:35:44.868Z"
      },
      {
        "duration": 432,
        "start_time": "2023-08-08T18:35:51.789Z"
      },
      {
        "duration": 41708,
        "start_time": "2023-08-08T18:36:14.068Z"
      },
      {
        "duration": 189,
        "start_time": "2023-08-08T18:36:59.947Z"
      },
      {
        "duration": 33,
        "start_time": "2023-08-08T18:49:36.584Z"
      },
      {
        "duration": 26,
        "start_time": "2023-08-08T18:50:13.169Z"
      },
      {
        "duration": 16,
        "start_time": "2023-08-08T18:50:17.068Z"
      },
      {
        "duration": 12,
        "start_time": "2023-08-08T18:50:25.649Z"
      },
      {
        "duration": 4,
        "start_time": "2023-08-08T19:07:15.111Z"
      },
      {
        "duration": 43,
        "start_time": "2023-08-08T19:11:26.732Z"
      },
      {
        "duration": 33,
        "start_time": "2023-08-08T19:11:40.012Z"
      },
      {
        "duration": 44,
        "start_time": "2023-08-08T19:12:13.048Z"
      },
      {
        "duration": 75,
        "start_time": "2023-08-08T19:14:39.827Z"
      },
      {
        "duration": 36,
        "start_time": "2023-08-08T19:15:03.114Z"
      },
      {
        "duration": 54,
        "start_time": "2023-08-08T19:15:12.192Z"
      },
      {
        "duration": 38,
        "start_time": "2023-08-08T19:17:17.769Z"
      },
      {
        "duration": 39,
        "start_time": "2023-08-08T19:17:21.480Z"
      },
      {
        "duration": 35,
        "start_time": "2023-08-08T19:17:29.183Z"
      },
      {
        "duration": 24,
        "start_time": "2023-08-08T19:18:41.934Z"
      },
      {
        "duration": 18,
        "start_time": "2023-08-08T19:21:52.076Z"
      },
      {
        "duration": 20,
        "start_time": "2023-08-08T19:22:04.652Z"
      },
      {
        "duration": 21,
        "start_time": "2023-08-08T19:27:01.728Z"
      },
      {
        "duration": 26,
        "start_time": "2023-08-08T19:27:13.504Z"
      },
      {
        "duration": 30,
        "start_time": "2023-08-08T19:27:23.760Z"
      },
      {
        "duration": 34,
        "start_time": "2023-08-08T19:29:28.768Z"
      },
      {
        "duration": 29,
        "start_time": "2023-08-08T19:30:25.591Z"
      },
      {
        "duration": 40,
        "start_time": "2023-08-08T19:31:27.061Z"
      },
      {
        "duration": 28,
        "start_time": "2023-08-08T19:44:05.565Z"
      },
      {
        "duration": 31,
        "start_time": "2023-08-08T19:46:18.011Z"
      },
      {
        "duration": 200,
        "start_time": "2023-08-08T19:48:33.084Z"
      },
      {
        "duration": 3,
        "start_time": "2023-08-08T20:21:43.041Z"
      },
      {
        "duration": 3,
        "start_time": "2023-08-08T20:21:50.161Z"
      },
      {
        "duration": 162,
        "start_time": "2023-08-08T20:21:52.330Z"
      },
      {
        "duration": 4,
        "start_time": "2023-08-08T20:21:54.498Z"
      },
      {
        "duration": 33,
        "start_time": "2023-08-08T20:21:56.296Z"
      },
      {
        "duration": 32,
        "start_time": "2023-08-08T20:22:01.834Z"
      },
      {
        "duration": 17,
        "start_time": "2023-08-08T20:22:04.338Z"
      },
      {
        "duration": 10,
        "start_time": "2023-08-08T20:22:13.798Z"
      },
      {
        "duration": 13,
        "start_time": "2023-08-08T20:22:17.073Z"
      },
      {
        "duration": 6,
        "start_time": "2023-08-08T20:22:43.115Z"
      },
      {
        "duration": 7,
        "start_time": "2023-08-08T20:22:45.025Z"
      },
      {
        "duration": 6,
        "start_time": "2023-08-08T20:22:46.905Z"
      },
      {
        "duration": 9,
        "start_time": "2023-08-08T20:22:50.089Z"
      },
      {
        "duration": 12,
        "start_time": "2023-08-08T20:22:52.489Z"
      },
      {
        "duration": 14,
        "start_time": "2023-08-08T20:22:55.394Z"
      },
      {
        "duration": 3,
        "start_time": "2023-08-08T20:23:00.921Z"
      },
      {
        "duration": 9,
        "start_time": "2023-08-08T20:23:09.361Z"
      },
      {
        "duration": 4,
        "start_time": "2023-08-08T20:23:18.425Z"
      },
      {
        "duration": 5,
        "start_time": "2023-08-08T20:23:30.657Z"
      },
      {
        "duration": 8,
        "start_time": "2023-08-08T20:23:36.856Z"
      },
      {
        "duration": 6,
        "start_time": "2023-08-08T20:23:45.196Z"
      },
      {
        "duration": 4,
        "start_time": "2023-08-08T20:24:04.600Z"
      },
      {
        "duration": 68,
        "start_time": "2023-08-08T20:24:32.064Z"
      },
      {
        "duration": 225,
        "start_time": "2023-08-08T20:24:41.398Z"
      },
      {
        "duration": 13,
        "start_time": "2023-08-08T20:24:47.297Z"
      },
      {
        "duration": 7,
        "start_time": "2023-08-08T20:24:56.239Z"
      },
      {
        "duration": 23,
        "start_time": "2023-08-08T20:24:58.863Z"
      },
      {
        "duration": 1282,
        "start_time": "2023-08-08T20:25:00.973Z"
      },
      {
        "duration": 7,
        "start_time": "2023-08-08T20:25:06.094Z"
      },
      {
        "duration": 7,
        "start_time": "2023-08-08T20:25:15.847Z"
      },
      {
        "duration": 233,
        "start_time": "2023-08-08T20:25:22.263Z"
      },
      {
        "duration": 191,
        "start_time": "2023-08-08T20:25:36.312Z"
      },
      {
        "duration": 221,
        "start_time": "2023-08-08T20:25:46.840Z"
      },
      {
        "duration": 186,
        "start_time": "2023-08-08T20:26:16.031Z"
      },
      {
        "duration": 169,
        "start_time": "2023-08-08T20:26:29.967Z"
      },
      {
        "duration": 144,
        "start_time": "2023-08-08T20:26:50.438Z"
      },
      {
        "duration": 180,
        "start_time": "2023-08-08T20:27:00.630Z"
      },
      {
        "duration": 354,
        "start_time": "2023-08-08T20:27:16.194Z"
      },
      {
        "duration": 341,
        "start_time": "2023-08-08T20:27:29.111Z"
      },
      {
        "duration": 354,
        "start_time": "2023-08-08T20:27:39.342Z"
      },
      {
        "duration": 541,
        "start_time": "2023-08-08T20:27:48.295Z"
      },
      {
        "duration": 12,
        "start_time": "2023-08-08T20:27:58.394Z"
      },
      {
        "duration": 157,
        "start_time": "2023-08-08T20:28:05.662Z"
      },
      {
        "duration": 10,
        "start_time": "2023-08-08T20:28:08.902Z"
      },
      {
        "duration": 137,
        "start_time": "2023-08-08T20:28:10.966Z"
      },
      {
        "duration": 358,
        "start_time": "2023-08-08T20:28:15.094Z"
      },
      {
        "duration": 358,
        "start_time": "2023-08-08T20:28:49.509Z"
      },
      {
        "duration": 384,
        "start_time": "2023-08-08T20:29:43.292Z"
      },
      {
        "duration": 351,
        "start_time": "2023-08-08T20:29:55.164Z"
      },
      {
        "duration": 354,
        "start_time": "2023-08-08T20:30:47.556Z"
      },
      {
        "duration": 201,
        "start_time": "2023-08-08T20:32:14.842Z"
      },
      {
        "duration": 212,
        "start_time": "2023-08-08T20:32:23.810Z"
      },
      {
        "duration": 200,
        "start_time": "2023-08-08T20:32:32.219Z"
      },
      {
        "duration": 173,
        "start_time": "2023-08-08T20:32:41.211Z"
      },
      {
        "duration": 192,
        "start_time": "2023-08-08T20:32:54.746Z"
      },
      {
        "duration": 193,
        "start_time": "2023-08-08T20:33:37.369Z"
      },
      {
        "duration": 187,
        "start_time": "2023-08-08T20:33:48.633Z"
      },
      {
        "duration": 246,
        "start_time": "2023-08-08T20:33:58.505Z"
      },
      {
        "duration": 146,
        "start_time": "2023-08-08T20:34:21.905Z"
      },
      {
        "duration": 6,
        "start_time": "2023-08-08T20:34:51.161Z"
      },
      {
        "duration": 32,
        "start_time": "2023-08-08T20:34:53.438Z"
      },
      {
        "duration": 13,
        "start_time": "2023-08-08T20:35:04.675Z"
      },
      {
        "duration": 9,
        "start_time": "2023-08-08T20:35:33.336Z"
      },
      {
        "duration": 25,
        "start_time": "2023-08-08T20:37:16.112Z"
      },
      {
        "duration": 225,
        "start_time": "2023-08-08T20:37:47.103Z"
      },
      {
        "duration": 46,
        "start_time": "2023-08-09T06:42:44.439Z"
      },
      {
        "duration": 7,
        "start_time": "2023-08-09T06:42:53.069Z"
      },
      {
        "duration": 7,
        "start_time": "2023-08-09T06:42:55.852Z"
      },
      {
        "duration": 1282,
        "start_time": "2023-08-09T06:43:03.699Z"
      },
      {
        "duration": 202,
        "start_time": "2023-08-09T06:43:05.557Z"
      },
      {
        "duration": 6,
        "start_time": "2023-08-09T06:43:07.429Z"
      },
      {
        "duration": 37,
        "start_time": "2023-08-09T06:43:10.170Z"
      },
      {
        "duration": 27,
        "start_time": "2023-08-09T06:43:12.552Z"
      },
      {
        "duration": 15,
        "start_time": "2023-08-09T06:43:15.076Z"
      },
      {
        "duration": 9,
        "start_time": "2023-08-09T06:43:18.795Z"
      },
      {
        "duration": 11,
        "start_time": "2023-08-09T06:43:21.171Z"
      },
      {
        "duration": 5,
        "start_time": "2023-08-09T06:43:23.715Z"
      },
      {
        "duration": 5,
        "start_time": "2023-08-09T06:43:25.731Z"
      },
      {
        "duration": 6,
        "start_time": "2023-08-09T06:43:27.163Z"
      },
      {
        "duration": 8,
        "start_time": "2023-08-09T06:43:27.794Z"
      },
      {
        "duration": 16,
        "start_time": "2023-08-09T06:43:28.514Z"
      },
      {
        "duration": 15,
        "start_time": "2023-08-09T06:43:31.365Z"
      },
      {
        "duration": 3,
        "start_time": "2023-08-09T06:43:32.995Z"
      },
      {
        "duration": 10,
        "start_time": "2023-08-09T06:43:34.825Z"
      },
      {
        "duration": 4,
        "start_time": "2023-08-09T06:43:36.530Z"
      },
      {
        "duration": 5,
        "start_time": "2023-08-09T06:43:37.938Z"
      },
      {
        "duration": 6,
        "start_time": "2023-08-09T06:43:39.571Z"
      },
      {
        "duration": 4,
        "start_time": "2023-08-09T06:43:41.290Z"
      },
      {
        "duration": 4,
        "start_time": "2023-08-09T06:43:42.898Z"
      },
      {
        "duration": 48,
        "start_time": "2023-08-09T06:43:45.526Z"
      },
      {
        "duration": 175,
        "start_time": "2023-08-09T06:43:48.511Z"
      },
      {
        "duration": 12,
        "start_time": "2023-08-09T06:43:51.978Z"
      },
      {
        "duration": 6,
        "start_time": "2023-08-09T06:43:54.106Z"
      },
      {
        "duration": 12,
        "start_time": "2023-08-09T06:43:54.825Z"
      },
      {
        "duration": 316,
        "start_time": "2023-08-09T06:43:55.763Z"
      },
      {
        "duration": 8,
        "start_time": "2023-08-09T06:43:57.251Z"
      },
      {
        "duration": 180,
        "start_time": "2023-08-09T06:44:00.285Z"
      },
      {
        "duration": 193,
        "start_time": "2023-08-09T06:44:02.083Z"
      },
      {
        "duration": 165,
        "start_time": "2023-08-09T06:44:04.851Z"
      },
      {
        "duration": 171,
        "start_time": "2023-08-09T06:44:06.779Z"
      },
      {
        "duration": 266,
        "start_time": "2023-08-09T06:44:08.830Z"
      },
      {
        "duration": 174,
        "start_time": "2023-08-09T06:44:11.594Z"
      },
      {
        "duration": 138,
        "start_time": "2023-08-09T06:44:14.691Z"
      },
      {
        "duration": 128,
        "start_time": "2023-08-09T06:44:19.098Z"
      },
      {
        "duration": 140,
        "start_time": "2023-08-09T06:44:22.747Z"
      },
      {
        "duration": 267,
        "start_time": "2023-08-09T06:44:35.458Z"
      },
      {
        "duration": 257,
        "start_time": "2023-08-09T06:44:42.212Z"
      },
      {
        "duration": 306,
        "start_time": "2023-08-09T06:44:44.779Z"
      },
      {
        "duration": 632,
        "start_time": "2023-08-09T06:44:48.451Z"
      },
      {
        "duration": 11,
        "start_time": "2023-08-09T06:45:07.363Z"
      },
      {
        "duration": 139,
        "start_time": "2023-08-09T06:45:26.579Z"
      },
      {
        "duration": 11,
        "start_time": "2023-08-09T06:45:29.028Z"
      },
      {
        "duration": 114,
        "start_time": "2023-08-09T06:45:30.427Z"
      },
      {
        "duration": 318,
        "start_time": "2023-08-09T06:45:39.891Z"
      },
      {
        "duration": 142,
        "start_time": "2023-08-09T06:45:56.755Z"
      },
      {
        "duration": 157,
        "start_time": "2023-08-09T06:46:06.308Z"
      },
      {
        "duration": 146,
        "start_time": "2023-08-09T06:46:16.851Z"
      },
      {
        "duration": 131,
        "start_time": "2023-08-09T06:46:24.467Z"
      },
      {
        "duration": 147,
        "start_time": "2023-08-09T06:46:30.995Z"
      },
      {
        "duration": 300,
        "start_time": "2023-08-09T06:46:51.140Z"
      },
      {
        "duration": 213,
        "start_time": "2023-08-09T06:47:33.436Z"
      },
      {
        "duration": 137,
        "start_time": "2023-08-09T06:48:15.748Z"
      },
      {
        "duration": 4,
        "start_time": "2023-08-09T06:48:27.899Z"
      },
      {
        "duration": 41,
        "start_time": "2023-08-09T06:48:29.027Z"
      },
      {
        "duration": 21,
        "start_time": "2023-08-09T06:48:39.325Z"
      },
      {
        "duration": 160,
        "start_time": "2023-08-09T06:48:55.926Z"
      },
      {
        "duration": 151,
        "start_time": "2023-08-09T06:50:26.484Z"
      },
      {
        "duration": 186,
        "start_time": "2023-08-09T06:50:44.132Z"
      },
      {
        "duration": 175,
        "start_time": "2023-08-09T06:50:59.836Z"
      },
      {
        "duration": 160,
        "start_time": "2023-08-09T06:51:33.900Z"
      },
      {
        "duration": 170,
        "start_time": "2023-08-09T06:52:00.156Z"
      },
      {
        "duration": 175,
        "start_time": "2023-08-09T06:52:29.140Z"
      },
      {
        "duration": 150,
        "start_time": "2023-08-09T06:53:03.492Z"
      },
      {
        "duration": 167,
        "start_time": "2023-08-09T06:53:15.612Z"
      },
      {
        "duration": 158,
        "start_time": "2023-08-09T06:53:28.548Z"
      },
      {
        "duration": 360,
        "start_time": "2023-08-09T06:54:51.028Z"
      },
      {
        "duration": 151,
        "start_time": "2023-08-09T06:55:28.156Z"
      },
      {
        "duration": 237,
        "start_time": "2023-08-09T06:56:01.539Z"
      },
      {
        "duration": 230,
        "start_time": "2023-08-09T06:56:06.731Z"
      },
      {
        "duration": 182,
        "start_time": "2023-08-09T06:59:34.667Z"
      },
      {
        "duration": 1026,
        "start_time": "2023-08-09T12:37:15.970Z"
      },
      {
        "duration": 366,
        "start_time": "2023-08-09T12:37:16.997Z"
      },
      {
        "duration": 6,
        "start_time": "2023-08-09T12:37:17.365Z"
      },
      {
        "duration": 25,
        "start_time": "2023-08-09T12:37:17.373Z"
      },
      {
        "duration": 21,
        "start_time": "2023-08-09T12:37:17.401Z"
      },
      {
        "duration": 43,
        "start_time": "2023-08-09T12:37:17.424Z"
      },
      {
        "duration": 135,
        "start_time": "2023-08-09T12:37:17.469Z"
      },
      {
        "duration": 0,
        "start_time": "2023-08-09T12:37:17.607Z"
      },
      {
        "duration": 0,
        "start_time": "2023-08-09T12:37:17.608Z"
      },
      {
        "duration": 0,
        "start_time": "2023-08-09T12:37:17.609Z"
      },
      {
        "duration": 0,
        "start_time": "2023-08-09T12:37:17.610Z"
      },
      {
        "duration": 0,
        "start_time": "2023-08-09T12:37:17.611Z"
      },
      {
        "duration": 0,
        "start_time": "2023-08-09T12:37:17.613Z"
      },
      {
        "duration": 0,
        "start_time": "2023-08-09T12:37:17.614Z"
      },
      {
        "duration": 0,
        "start_time": "2023-08-09T12:37:17.615Z"
      },
      {
        "duration": 0,
        "start_time": "2023-08-09T12:37:17.616Z"
      },
      {
        "duration": 0,
        "start_time": "2023-08-09T12:37:17.617Z"
      },
      {
        "duration": 0,
        "start_time": "2023-08-09T12:37:17.618Z"
      },
      {
        "duration": 0,
        "start_time": "2023-08-09T12:37:17.619Z"
      },
      {
        "duration": 0,
        "start_time": "2023-08-09T12:37:17.637Z"
      },
      {
        "duration": 0,
        "start_time": "2023-08-09T12:37:17.638Z"
      },
      {
        "duration": 0,
        "start_time": "2023-08-09T12:37:17.639Z"
      },
      {
        "duration": 0,
        "start_time": "2023-08-09T12:37:17.640Z"
      },
      {
        "duration": 0,
        "start_time": "2023-08-09T12:37:17.640Z"
      },
      {
        "duration": 0,
        "start_time": "2023-08-09T12:37:17.641Z"
      },
      {
        "duration": 0,
        "start_time": "2023-08-09T12:37:17.642Z"
      },
      {
        "duration": 0,
        "start_time": "2023-08-09T12:37:17.643Z"
      },
      {
        "duration": 0,
        "start_time": "2023-08-09T12:37:17.643Z"
      },
      {
        "duration": 0,
        "start_time": "2023-08-09T12:37:17.644Z"
      },
      {
        "duration": 0,
        "start_time": "2023-08-09T12:37:17.646Z"
      },
      {
        "duration": 0,
        "start_time": "2023-08-09T12:37:17.648Z"
      },
      {
        "duration": 0,
        "start_time": "2023-08-09T12:37:17.649Z"
      },
      {
        "duration": 0,
        "start_time": "2023-08-09T12:37:17.650Z"
      },
      {
        "duration": 0,
        "start_time": "2023-08-09T12:37:17.651Z"
      },
      {
        "duration": 0,
        "start_time": "2023-08-09T12:37:17.652Z"
      },
      {
        "duration": 0,
        "start_time": "2023-08-09T12:37:17.654Z"
      },
      {
        "duration": 0,
        "start_time": "2023-08-09T12:37:17.655Z"
      },
      {
        "duration": 0,
        "start_time": "2023-08-09T12:37:17.656Z"
      },
      {
        "duration": 0,
        "start_time": "2023-08-09T12:37:17.657Z"
      },
      {
        "duration": 0,
        "start_time": "2023-08-09T12:37:17.658Z"
      },
      {
        "duration": 0,
        "start_time": "2023-08-09T12:37:17.658Z"
      },
      {
        "duration": 0,
        "start_time": "2023-08-09T12:37:17.660Z"
      },
      {
        "duration": 0,
        "start_time": "2023-08-09T12:37:17.660Z"
      },
      {
        "duration": 0,
        "start_time": "2023-08-09T12:37:17.661Z"
      },
      {
        "duration": 0,
        "start_time": "2023-08-09T12:37:17.662Z"
      },
      {
        "duration": 0,
        "start_time": "2023-08-09T12:37:17.663Z"
      },
      {
        "duration": 0,
        "start_time": "2023-08-09T12:37:17.664Z"
      },
      {
        "duration": 1,
        "start_time": "2023-08-09T12:37:17.664Z"
      },
      {
        "duration": 0,
        "start_time": "2023-08-09T12:37:17.665Z"
      },
      {
        "duration": 0,
        "start_time": "2023-08-09T12:37:17.666Z"
      },
      {
        "duration": 0,
        "start_time": "2023-08-09T12:37:17.667Z"
      },
      {
        "duration": 0,
        "start_time": "2023-08-09T12:37:17.668Z"
      },
      {
        "duration": 0,
        "start_time": "2023-08-09T12:37:17.669Z"
      },
      {
        "duration": 0,
        "start_time": "2023-08-09T12:37:17.670Z"
      },
      {
        "duration": 0,
        "start_time": "2023-08-09T12:37:17.671Z"
      },
      {
        "duration": 0,
        "start_time": "2023-08-09T12:37:17.671Z"
      },
      {
        "duration": 0,
        "start_time": "2023-08-09T12:37:17.672Z"
      },
      {
        "duration": 0,
        "start_time": "2023-08-09T12:37:17.673Z"
      },
      {
        "duration": 0,
        "start_time": "2023-08-09T12:37:17.674Z"
      },
      {
        "duration": 1102,
        "start_time": "2023-08-09T12:37:37.152Z"
      },
      {
        "duration": 88,
        "start_time": "2023-08-09T12:37:38.256Z"
      },
      {
        "duration": 5,
        "start_time": "2023-08-09T12:37:38.345Z"
      },
      {
        "duration": 44,
        "start_time": "2023-08-09T12:37:38.353Z"
      },
      {
        "duration": 22,
        "start_time": "2023-08-09T12:37:38.400Z"
      },
      {
        "duration": 24,
        "start_time": "2023-08-09T12:37:38.424Z"
      },
      {
        "duration": 1845,
        "start_time": "2023-08-09T12:37:38.450Z"
      },
      {
        "duration": 10,
        "start_time": "2023-08-09T12:37:40.297Z"
      },
      {
        "duration": 32,
        "start_time": "2023-08-09T12:37:40.309Z"
      },
      {
        "duration": 11,
        "start_time": "2023-08-09T12:37:40.343Z"
      },
      {
        "duration": 23,
        "start_time": "2023-08-09T12:37:40.356Z"
      },
      {
        "duration": 22,
        "start_time": "2023-08-09T12:37:40.381Z"
      },
      {
        "duration": 30,
        "start_time": "2023-08-09T12:37:40.405Z"
      },
      {
        "duration": 18,
        "start_time": "2023-08-09T12:37:40.438Z"
      },
      {
        "duration": 26,
        "start_time": "2023-08-09T12:37:40.457Z"
      },
      {
        "duration": 10,
        "start_time": "2023-08-09T12:37:40.485Z"
      },
      {
        "duration": 27,
        "start_time": "2023-08-09T12:37:40.497Z"
      },
      {
        "duration": 20,
        "start_time": "2023-08-09T12:37:40.525Z"
      },
      {
        "duration": 15,
        "start_time": "2023-08-09T12:37:40.546Z"
      },
      {
        "duration": 28,
        "start_time": "2023-08-09T12:37:40.563Z"
      },
      {
        "duration": 25,
        "start_time": "2023-08-09T12:37:40.593Z"
      },
      {
        "duration": 16,
        "start_time": "2023-08-09T12:37:40.619Z"
      },
      {
        "duration": 73,
        "start_time": "2023-08-09T12:37:40.637Z"
      },
      {
        "duration": 143,
        "start_time": "2023-08-09T12:37:40.712Z"
      },
      {
        "duration": 9,
        "start_time": "2023-08-09T12:37:40.857Z"
      },
      {
        "duration": 31,
        "start_time": "2023-08-09T12:37:40.868Z"
      },
      {
        "duration": 27,
        "start_time": "2023-08-09T12:37:40.901Z"
      },
      {
        "duration": 365,
        "start_time": "2023-08-09T12:37:40.930Z"
      },
      {
        "duration": 8,
        "start_time": "2023-08-09T12:37:41.297Z"
      },
      {
        "duration": 166,
        "start_time": "2023-08-09T12:37:41.306Z"
      },
      {
        "duration": 150,
        "start_time": "2023-08-09T12:37:41.474Z"
      },
      {
        "duration": 143,
        "start_time": "2023-08-09T12:37:41.626Z"
      },
      {
        "duration": 191,
        "start_time": "2023-08-09T12:37:41.770Z"
      },
      {
        "duration": 143,
        "start_time": "2023-08-09T12:37:41.963Z"
      },
      {
        "duration": 157,
        "start_time": "2023-08-09T12:37:42.107Z"
      },
      {
        "duration": 209,
        "start_time": "2023-08-09T12:37:42.266Z"
      },
      {
        "duration": 115,
        "start_time": "2023-08-09T12:37:42.476Z"
      },
      {
        "duration": 127,
        "start_time": "2023-08-09T12:37:42.593Z"
      },
      {
        "duration": 247,
        "start_time": "2023-08-09T12:37:42.722Z"
      },
      {
        "duration": 228,
        "start_time": "2023-08-09T12:37:42.970Z"
      },
      {
        "duration": 219,
        "start_time": "2023-08-09T12:37:43.201Z"
      },
      {
        "duration": 362,
        "start_time": "2023-08-09T12:37:43.421Z"
      },
      {
        "duration": 8,
        "start_time": "2023-08-09T12:37:43.784Z"
      },
      {
        "duration": 221,
        "start_time": "2023-08-09T12:37:43.794Z"
      },
      {
        "duration": 9,
        "start_time": "2023-08-09T12:37:44.016Z"
      },
      {
        "duration": 114,
        "start_time": "2023-08-09T12:37:44.027Z"
      },
      {
        "duration": 276,
        "start_time": "2023-08-09T12:37:44.142Z"
      },
      {
        "duration": 184,
        "start_time": "2023-08-09T12:37:44.420Z"
      },
      {
        "duration": 199,
        "start_time": "2023-08-09T12:37:44.606Z"
      },
      {
        "duration": 159,
        "start_time": "2023-08-09T12:37:44.807Z"
      },
      {
        "duration": 135,
        "start_time": "2023-08-09T12:37:44.968Z"
      },
      {
        "duration": 157,
        "start_time": "2023-08-09T12:37:45.104Z"
      },
      {
        "duration": 140,
        "start_time": "2023-08-09T12:37:45.263Z"
      },
      {
        "duration": 211,
        "start_time": "2023-08-09T12:37:45.404Z"
      },
      {
        "duration": 126,
        "start_time": "2023-08-09T12:37:45.617Z"
      },
      {
        "duration": 4,
        "start_time": "2023-08-09T12:37:45.744Z"
      },
      {
        "duration": 38,
        "start_time": "2023-08-09T12:37:45.750Z"
      },
      {
        "duration": 19,
        "start_time": "2023-08-09T12:37:45.789Z"
      },
      {
        "duration": 162,
        "start_time": "2023-08-09T12:37:45.809Z"
      },
      {
        "duration": 7,
        "start_time": "2023-08-09T12:58:30.528Z"
      },
      {
        "duration": 81,
        "start_time": "2023-08-09T12:59:13.006Z"
      },
      {
        "duration": 55,
        "start_time": "2023-08-09T18:19:31.865Z"
      },
      {
        "duration": 7,
        "start_time": "2023-08-09T18:19:51.124Z"
      },
      {
        "duration": 1464,
        "start_time": "2023-08-09T18:20:00.652Z"
      },
      {
        "duration": 190,
        "start_time": "2023-08-09T18:20:02.748Z"
      },
      {
        "duration": 5,
        "start_time": "2023-08-09T18:20:04.886Z"
      },
      {
        "duration": 82,
        "start_time": "2023-08-09T18:20:06.651Z"
      },
      {
        "duration": 3,
        "start_time": "2023-08-09T18:20:16.037Z"
      },
      {
        "duration": 24,
        "start_time": "2023-08-09T18:20:54.532Z"
      },
      {
        "duration": 21,
        "start_time": "2023-08-09T18:22:12.394Z"
      },
      {
        "duration": 2083,
        "start_time": "2023-08-09T18:24:20.201Z"
      },
      {
        "duration": 2073,
        "start_time": "2023-08-09T18:24:32.610Z"
      },
      {
        "duration": 2334,
        "start_time": "2023-08-09T18:24:41.088Z"
      },
      {
        "duration": 4,
        "start_time": "2023-08-09T18:41:08.295Z"
      },
      {
        "duration": 95,
        "start_time": "2023-08-09T18:41:13.718Z"
      },
      {
        "duration": 3,
        "start_time": "2023-08-09T18:41:15.647Z"
      },
      {
        "duration": 25,
        "start_time": "2023-08-09T18:41:18.103Z"
      },
      {
        "duration": 23,
        "start_time": "2023-08-09T18:41:23.336Z"
      },
      {
        "duration": 16,
        "start_time": "2023-08-09T18:41:26.015Z"
      },
      {
        "duration": 10,
        "start_time": "2023-08-09T18:41:32.606Z"
      },
      {
        "duration": 12,
        "start_time": "2023-08-09T18:41:34.744Z"
      },
      {
        "duration": 11,
        "start_time": "2023-08-09T18:41:37.655Z"
      },
      {
        "duration": 6,
        "start_time": "2023-08-09T18:41:39.776Z"
      },
      {
        "duration": 13,
        "start_time": "2023-08-09T18:41:42.559Z"
      },
      {
        "duration": 8,
        "start_time": "2023-08-09T18:41:44.447Z"
      },
      {
        "duration": 13,
        "start_time": "2023-08-09T18:41:46.814Z"
      },
      {
        "duration": 17,
        "start_time": "2023-08-09T18:41:49.047Z"
      },
      {
        "duration": 4,
        "start_time": "2023-08-09T18:41:51.982Z"
      },
      {
        "duration": 10,
        "start_time": "2023-08-09T18:41:53.994Z"
      },
      {
        "duration": 3,
        "start_time": "2023-08-09T18:41:56.399Z"
      },
      {
        "duration": 5,
        "start_time": "2023-08-09T18:41:58.577Z"
      },
      {
        "duration": 6,
        "start_time": "2023-08-09T18:42:00.876Z"
      },
      {
        "duration": 1954,
        "start_time": "2023-08-09T18:45:04.229Z"
      },
      {
        "duration": 7,
        "start_time": "2023-08-09T18:45:37.778Z"
      },
      {
        "duration": 4,
        "start_time": "2023-08-09T18:45:46.486Z"
      },
      {
        "duration": 19,
        "start_time": "2023-08-09T18:46:37.452Z"
      },
      {
        "duration": 23,
        "start_time": "2023-08-09T18:57:26.708Z"
      },
      {
        "duration": 48,
        "start_time": "2023-08-09T18:57:38.047Z"
      },
      {
        "duration": 38,
        "start_time": "2023-08-09T18:58:26.639Z"
      },
      {
        "duration": 10,
        "start_time": "2023-08-09T19:03:06.188Z"
      },
      {
        "duration": 11,
        "start_time": "2023-08-09T19:03:28.539Z"
      },
      {
        "duration": 16,
        "start_time": "2023-08-09T19:03:56.909Z"
      },
      {
        "duration": 18,
        "start_time": "2023-08-09T19:04:17.635Z"
      },
      {
        "duration": 17,
        "start_time": "2023-08-09T19:04:46.926Z"
      },
      {
        "duration": 19,
        "start_time": "2023-08-09T19:04:54.497Z"
      },
      {
        "duration": 22,
        "start_time": "2023-08-09T19:05:10.852Z"
      },
      {
        "duration": 18,
        "start_time": "2023-08-09T19:06:26.393Z"
      },
      {
        "duration": 16,
        "start_time": "2023-08-09T19:07:28.807Z"
      },
      {
        "duration": 13,
        "start_time": "2023-08-09T19:09:34.016Z"
      },
      {
        "duration": 15,
        "start_time": "2023-08-09T19:11:10.275Z"
      },
      {
        "duration": 15,
        "start_time": "2023-08-09T19:13:19.709Z"
      },
      {
        "duration": 15,
        "start_time": "2023-08-09T19:13:26.478Z"
      },
      {
        "duration": 14,
        "start_time": "2023-08-09T19:13:36.001Z"
      },
      {
        "duration": 20,
        "start_time": "2023-08-09T19:13:48.877Z"
      },
      {
        "duration": 12,
        "start_time": "2023-08-09T19:13:57.141Z"
      },
      {
        "duration": 12,
        "start_time": "2023-08-09T19:15:10.407Z"
      },
      {
        "duration": 24,
        "start_time": "2023-08-09T19:17:19.978Z"
      },
      {
        "duration": 23,
        "start_time": "2023-08-09T19:19:22.497Z"
      },
      {
        "duration": 25,
        "start_time": "2023-08-09T19:20:02.633Z"
      },
      {
        "duration": 90,
        "start_time": "2023-08-09T19:21:38.936Z"
      },
      {
        "duration": 35,
        "start_time": "2023-08-09T19:21:49.877Z"
      },
      {
        "duration": 30,
        "start_time": "2023-08-09T19:23:04.991Z"
      },
      {
        "duration": 38,
        "start_time": "2023-08-09T19:23:34.404Z"
      },
      {
        "duration": 35,
        "start_time": "2023-08-09T19:23:57.846Z"
      },
      {
        "duration": 32,
        "start_time": "2023-08-09T19:24:29.581Z"
      },
      {
        "duration": 32,
        "start_time": "2023-08-09T19:25:25.077Z"
      },
      {
        "duration": 38,
        "start_time": "2023-08-09T19:25:47.009Z"
      },
      {
        "duration": 41,
        "start_time": "2023-08-09T19:26:07.548Z"
      },
      {
        "duration": 37,
        "start_time": "2023-08-09T19:26:47.612Z"
      },
      {
        "duration": 41,
        "start_time": "2023-08-09T19:27:15.854Z"
      },
      {
        "duration": 46,
        "start_time": "2023-08-09T19:28:02.999Z"
      },
      {
        "duration": 40,
        "start_time": "2023-08-09T19:28:41.379Z"
      },
      {
        "duration": 46,
        "start_time": "2023-08-09T19:30:47.475Z"
      },
      {
        "duration": 37,
        "start_time": "2023-08-09T19:31:11.450Z"
      },
      {
        "duration": 43,
        "start_time": "2023-08-09T19:44:15.473Z"
      },
      {
        "duration": 45,
        "start_time": "2023-08-09T19:45:02.743Z"
      },
      {
        "duration": 59,
        "start_time": "2023-08-09T19:45:13.648Z"
      },
      {
        "duration": 46,
        "start_time": "2023-08-09T19:45:17.411Z"
      },
      {
        "duration": 43,
        "start_time": "2023-08-09T19:45:28.455Z"
      },
      {
        "duration": 44,
        "start_time": "2023-08-09T19:49:42.904Z"
      },
      {
        "duration": 7,
        "start_time": "2023-08-09T19:49:46.219Z"
      },
      {
        "duration": 22,
        "start_time": "2023-08-09T19:49:47.949Z"
      },
      {
        "duration": 566,
        "start_time": "2023-08-09T19:49:49.825Z"
      },
      {
        "duration": 7,
        "start_time": "2023-08-09T19:49:52.840Z"
      },
      {
        "duration": 217,
        "start_time": "2023-08-09T19:50:05.996Z"
      },
      {
        "duration": 209,
        "start_time": "2023-08-09T19:50:10.608Z"
      },
      {
        "duration": 220,
        "start_time": "2023-08-09T19:50:13.448Z"
      },
      {
        "duration": 245,
        "start_time": "2023-08-09T19:50:15.957Z"
      },
      {
        "duration": 149,
        "start_time": "2023-08-09T19:52:01.152Z"
      },
      {
        "duration": 186,
        "start_time": "2023-08-09T19:53:33.198Z"
      },
      {
        "duration": 168,
        "start_time": "2023-08-09T19:53:48.306Z"
      },
      {
        "duration": 157,
        "start_time": "2023-08-09T19:54:16.195Z"
      },
      {
        "duration": 169,
        "start_time": "2023-08-09T19:55:17.690Z"
      },
      {
        "duration": 116,
        "start_time": "2023-08-09T19:55:34.255Z"
      },
      {
        "duration": 171,
        "start_time": "2023-08-09T19:55:37.600Z"
      },
      {
        "duration": 169,
        "start_time": "2023-08-09T19:57:08.398Z"
      },
      {
        "duration": 3,
        "start_time": "2023-08-09T19:57:21.049Z"
      },
      {
        "duration": 87,
        "start_time": "2023-08-09T19:57:23.186Z"
      },
      {
        "duration": 4,
        "start_time": "2023-08-09T19:57:25.204Z"
      },
      {
        "duration": 21,
        "start_time": "2023-08-09T19:57:29.399Z"
      },
      {
        "duration": 2043,
        "start_time": "2023-08-09T19:57:33.241Z"
      },
      {
        "duration": 9,
        "start_time": "2023-08-09T19:57:39.725Z"
      },
      {
        "duration": 10,
        "start_time": "2023-08-09T19:57:42.214Z"
      },
      {
        "duration": 6,
        "start_time": "2023-08-09T19:57:45.305Z"
      },
      {
        "duration": 6,
        "start_time": "2023-08-09T19:57:47.131Z"
      },
      {
        "duration": 6,
        "start_time": "2023-08-09T19:57:49.110Z"
      },
      {
        "duration": 7,
        "start_time": "2023-08-09T19:57:51.306Z"
      },
      {
        "duration": 12,
        "start_time": "2023-08-09T19:57:53.281Z"
      },
      {
        "duration": 14,
        "start_time": "2023-08-09T19:57:55.398Z"
      },
      {
        "duration": 4,
        "start_time": "2023-08-09T19:57:59.593Z"
      },
      {
        "duration": 8,
        "start_time": "2023-08-09T19:58:01.824Z"
      },
      {
        "duration": 3,
        "start_time": "2023-08-09T19:58:03.529Z"
      },
      {
        "duration": 5,
        "start_time": "2023-08-09T19:58:05.197Z"
      },
      {
        "duration": 7,
        "start_time": "2023-08-09T19:58:07.131Z"
      },
      {
        "duration": 6,
        "start_time": "2023-08-09T19:58:17.240Z"
      },
      {
        "duration": 8,
        "start_time": "2023-08-09T19:58:20.360Z"
      },
      {
        "duration": 26,
        "start_time": "2023-08-09T19:58:22.990Z"
      },
      {
        "duration": 49,
        "start_time": "2023-08-09T19:58:27.609Z"
      },
      {
        "duration": 179,
        "start_time": "2023-08-09T19:58:30.109Z"
      },
      {
        "duration": 35,
        "start_time": "2023-08-09T19:58:40.109Z"
      },
      {
        "duration": 6,
        "start_time": "2023-08-09T19:58:43.528Z"
      },
      {
        "duration": 12,
        "start_time": "2023-08-09T19:58:45.433Z"
      },
      {
        "duration": 498,
        "start_time": "2023-08-09T19:58:46.972Z"
      },
      {
        "duration": 7,
        "start_time": "2023-08-09T19:58:50.049Z"
      },
      {
        "duration": 233,
        "start_time": "2023-08-09T19:58:54.126Z"
      },
      {
        "duration": 178,
        "start_time": "2023-08-09T19:58:57.648Z"
      },
      {
        "duration": 182,
        "start_time": "2023-08-09T19:59:04.632Z"
      },
      {
        "duration": 184,
        "start_time": "2023-08-09T19:59:07.920Z"
      },
      {
        "duration": 186,
        "start_time": "2023-08-09T20:01:32.111Z"
      },
      {
        "duration": 169,
        "start_time": "2023-08-09T20:06:01.697Z"
      },
      {
        "duration": 3,
        "start_time": "2023-08-09T20:06:15.818Z"
      },
      {
        "duration": 98,
        "start_time": "2023-08-09T20:06:17.522Z"
      },
      {
        "duration": 5,
        "start_time": "2023-08-09T20:06:20.011Z"
      },
      {
        "duration": 21,
        "start_time": "2023-08-09T20:06:21.900Z"
      },
      {
        "duration": 21,
        "start_time": "2023-08-09T20:06:25.192Z"
      },
      {
        "duration": 28,
        "start_time": "2023-08-09T20:06:29.529Z"
      },
      {
        "duration": 22,
        "start_time": "2023-08-09T20:06:35.257Z"
      },
      {
        "duration": 11,
        "start_time": "2023-08-09T20:06:37.417Z"
      },
      {
        "duration": 6,
        "start_time": "2023-08-09T20:06:40.033Z"
      },
      {
        "duration": 10,
        "start_time": "2023-08-09T20:06:43.055Z"
      },
      {
        "duration": 7,
        "start_time": "2023-08-09T20:06:44.248Z"
      },
      {
        "duration": 9,
        "start_time": "2023-08-09T20:06:46.104Z"
      },
      {
        "duration": 13,
        "start_time": "2023-08-09T20:06:48.501Z"
      },
      {
        "duration": 32,
        "start_time": "2023-08-09T20:06:50.745Z"
      },
      {
        "duration": 3,
        "start_time": "2023-08-09T20:06:53.529Z"
      },
      {
        "duration": 11,
        "start_time": "2023-08-09T20:06:55.306Z"
      },
      {
        "duration": 5,
        "start_time": "2023-08-09T20:06:57.009Z"
      },
      {
        "duration": 6,
        "start_time": "2023-08-09T20:06:59.257Z"
      },
      {
        "duration": 8,
        "start_time": "2023-08-09T20:07:01.137Z"
      },
      {
        "duration": 5,
        "start_time": "2023-08-09T20:07:07.929Z"
      },
      {
        "duration": 3,
        "start_time": "2023-08-09T20:07:10.492Z"
      },
      {
        "duration": 31,
        "start_time": "2023-08-09T20:07:14.553Z"
      },
      {
        "duration": 50,
        "start_time": "2023-08-09T20:07:23.900Z"
      },
      {
        "duration": 182,
        "start_time": "2023-08-09T20:07:26.100Z"
      },
      {
        "duration": 39,
        "start_time": "2023-08-09T20:07:33.108Z"
      },
      {
        "duration": 6,
        "start_time": "2023-08-09T20:07:36.041Z"
      },
      {
        "duration": 13,
        "start_time": "2023-08-09T20:07:37.737Z"
      },
      {
        "duration": 343,
        "start_time": "2023-08-09T20:07:39.312Z"
      },
      {
        "duration": 6,
        "start_time": "2023-08-09T20:07:41.596Z"
      },
      {
        "duration": 324,
        "start_time": "2023-08-09T20:07:44.916Z"
      },
      {
        "duration": 191,
        "start_time": "2023-08-09T20:07:48.873Z"
      },
      {
        "duration": 176,
        "start_time": "2023-08-09T20:07:51.904Z"
      },
      {
        "duration": 187,
        "start_time": "2023-08-09T20:07:55.499Z"
      },
      {
        "duration": 185,
        "start_time": "2023-08-09T20:08:01.704Z"
      },
      {
        "duration": 161,
        "start_time": "2023-08-09T20:08:04.824Z"
      },
      {
        "duration": 192,
        "start_time": "2023-08-09T20:08:07.912Z"
      },
      {
        "duration": 144,
        "start_time": "2023-08-09T20:08:11.205Z"
      },
      {
        "duration": 130,
        "start_time": "2023-08-09T20:08:16.736Z"
      },
      {
        "duration": 144,
        "start_time": "2023-08-09T20:08:20.200Z"
      },
      {
        "duration": 268,
        "start_time": "2023-08-09T20:08:23.696Z"
      },
      {
        "duration": 481,
        "start_time": "2023-08-09T20:08:32.008Z"
      },
      {
        "duration": 315,
        "start_time": "2023-08-09T20:08:38.897Z"
      },
      {
        "duration": 485,
        "start_time": "2023-08-09T20:08:45.816Z"
      },
      {
        "duration": 17,
        "start_time": "2023-08-09T20:08:59.195Z"
      },
      {
        "duration": 148,
        "start_time": "2023-08-09T20:09:01.874Z"
      },
      {
        "duration": 10,
        "start_time": "2023-08-09T20:09:04.607Z"
      },
      {
        "duration": 126,
        "start_time": "2023-08-09T20:09:06.890Z"
      },
      {
        "duration": 326,
        "start_time": "2023-08-09T20:09:10.194Z"
      },
      {
        "duration": 190,
        "start_time": "2023-08-09T20:12:55.693Z"
      },
      {
        "duration": 339,
        "start_time": "2023-08-09T20:13:01.282Z"
      },
      {
        "duration": 177,
        "start_time": "2023-08-09T20:13:12.804Z"
      },
      {
        "duration": 170,
        "start_time": "2023-08-09T20:13:22.139Z"
      },
      {
        "duration": 189,
        "start_time": "2023-08-09T20:13:25.299Z"
      },
      {
        "duration": 166,
        "start_time": "2023-08-09T20:13:27.820Z"
      },
      {
        "duration": 238,
        "start_time": "2023-08-09T20:13:30.348Z"
      },
      {
        "duration": 181,
        "start_time": "2023-08-09T20:13:33.916Z"
      },
      {
        "duration": 197,
        "start_time": "2023-08-09T20:18:00.577Z"
      },
      {
        "duration": 340,
        "start_time": "2023-08-09T20:20:45.654Z"
      },
      {
        "duration": 330,
        "start_time": "2023-08-09T20:22:01.686Z"
      },
      {
        "duration": 341,
        "start_time": "2023-08-09T20:22:17.844Z"
      },
      {
        "duration": 365,
        "start_time": "2023-08-09T20:23:05.156Z"
      },
      {
        "duration": 344,
        "start_time": "2023-08-09T20:25:09.907Z"
      },
      {
        "duration": 166,
        "start_time": "2023-08-09T20:25:55.881Z"
      },
      {
        "duration": 357,
        "start_time": "2023-08-09T20:25:58.633Z"
      },
      {
        "duration": 174,
        "start_time": "2023-08-09T20:26:02.009Z"
      },
      {
        "duration": 270,
        "start_time": "2023-08-09T20:26:05.921Z"
      },
      {
        "duration": 163,
        "start_time": "2023-08-09T20:26:08.984Z"
      },
      {
        "duration": 6,
        "start_time": "2023-08-09T20:27:00.677Z"
      },
      {
        "duration": 29,
        "start_time": "2023-08-09T20:28:11.795Z"
      },
      {
        "duration": 4,
        "start_time": "2023-08-09T20:28:56.494Z"
      },
      {
        "duration": 5,
        "start_time": "2023-08-09T20:29:03.453Z"
      },
      {
        "duration": 3,
        "start_time": "2023-08-09T20:34:16.674Z"
      },
      {
        "duration": 143,
        "start_time": "2023-08-09T20:34:31.433Z"
      },
      {
        "duration": 5,
        "start_time": "2023-08-09T20:34:39.201Z"
      },
      {
        "duration": 29,
        "start_time": "2023-08-09T20:34:42.433Z"
      },
      {
        "duration": 214,
        "start_time": "2023-08-09T20:40:59.372Z"
      },
      {
        "duration": 240,
        "start_time": "2023-08-09T20:41:44.652Z"
      },
      {
        "duration": 202,
        "start_time": "2023-08-09T20:41:53.820Z"
      },
      {
        "duration": 192,
        "start_time": "2023-08-09T20:42:57.819Z"
      },
      {
        "duration": 22,
        "start_time": "2023-08-09T20:43:37.632Z"
      },
      {
        "duration": 159,
        "start_time": "2023-08-09T20:43:40.282Z"
      },
      {
        "duration": 2591,
        "start_time": "2023-08-10T07:21:26.717Z"
      },
      {
        "duration": 3,
        "start_time": "2023-08-10T07:21:29.311Z"
      },
      {
        "duration": 190,
        "start_time": "2023-08-10T07:21:29.316Z"
      },
      {
        "duration": 5,
        "start_time": "2023-08-10T07:21:29.508Z"
      },
      {
        "duration": 95,
        "start_time": "2023-08-10T07:21:29.517Z"
      },
      {
        "duration": 83,
        "start_time": "2023-08-10T07:21:29.614Z"
      },
      {
        "duration": 81,
        "start_time": "2023-08-10T07:21:29.699Z"
      },
      {
        "duration": 5027,
        "start_time": "2023-08-10T07:21:29.782Z"
      },
      {
        "duration": 14,
        "start_time": "2023-08-10T07:21:34.811Z"
      },
      {
        "duration": 59,
        "start_time": "2023-08-10T07:21:34.827Z"
      },
      {
        "duration": 9,
        "start_time": "2023-08-10T07:21:34.887Z"
      },
      {
        "duration": 9,
        "start_time": "2023-08-10T07:21:34.898Z"
      },
      {
        "duration": 76,
        "start_time": "2023-08-10T07:21:34.909Z"
      },
      {
        "duration": 10,
        "start_time": "2023-08-10T07:21:34.990Z"
      },
      {
        "duration": 88,
        "start_time": "2023-08-10T07:21:35.003Z"
      },
      {
        "duration": 21,
        "start_time": "2023-08-10T07:21:35.094Z"
      },
      {
        "duration": 4,
        "start_time": "2023-08-10T07:21:35.174Z"
      },
      {
        "duration": 17,
        "start_time": "2023-08-10T07:21:35.180Z"
      },
      {
        "duration": 26,
        "start_time": "2023-08-10T07:21:35.200Z"
      },
      {
        "duration": 6,
        "start_time": "2023-08-10T07:21:35.275Z"
      },
      {
        "duration": 13,
        "start_time": "2023-08-10T07:21:35.283Z"
      },
      {
        "duration": 13,
        "start_time": "2023-08-10T07:21:35.298Z"
      },
      {
        "duration": 66,
        "start_time": "2023-08-10T07:21:35.312Z"
      },
      {
        "duration": 6,
        "start_time": "2023-08-10T07:21:35.380Z"
      },
      {
        "duration": 107,
        "start_time": "2023-08-10T07:21:35.389Z"
      },
      {
        "duration": 118,
        "start_time": "2023-08-10T07:21:35.498Z"
      },
      {
        "duration": 472,
        "start_time": "2023-08-10T07:21:35.618Z"
      },
      {
        "duration": 6,
        "start_time": "2023-08-10T07:21:36.092Z"
      },
      {
        "duration": 107,
        "start_time": "2023-08-10T07:21:36.100Z"
      },
      {
        "duration": 6,
        "start_time": "2023-08-10T07:21:36.209Z"
      },
      {
        "duration": 86,
        "start_time": "2023-08-10T07:21:36.217Z"
      },
      {
        "duration": 811,
        "start_time": "2023-08-10T07:21:36.305Z"
      },
      {
        "duration": 61,
        "start_time": "2023-08-10T07:21:37.119Z"
      },
      {
        "duration": 406,
        "start_time": "2023-08-10T07:21:37.183Z"
      },
      {
        "duration": 387,
        "start_time": "2023-08-10T07:21:37.591Z"
      },
      {
        "duration": 498,
        "start_time": "2023-08-10T07:21:37.980Z"
      },
      {
        "duration": 605,
        "start_time": "2023-08-10T07:21:38.481Z"
      },
      {
        "duration": 525,
        "start_time": "2023-08-10T07:21:39.088Z"
      },
      {
        "duration": 959,
        "start_time": "2023-08-10T07:21:39.616Z"
      },
      {
        "duration": 505,
        "start_time": "2023-08-10T07:21:40.578Z"
      },
      {
        "duration": 306,
        "start_time": "2023-08-10T07:21:41.089Z"
      },
      {
        "duration": 386,
        "start_time": "2023-08-10T07:21:41.398Z"
      },
      {
        "duration": 396,
        "start_time": "2023-08-10T07:21:41.786Z"
      },
      {
        "duration": 615,
        "start_time": "2023-08-10T07:21:42.184Z"
      },
      {
        "duration": 882,
        "start_time": "2023-08-10T07:21:42.802Z"
      },
      {
        "duration": 791,
        "start_time": "2023-08-10T07:21:43.686Z"
      },
      {
        "duration": 1231,
        "start_time": "2023-08-10T07:21:44.480Z"
      },
      {
        "duration": 85,
        "start_time": "2023-08-10T07:21:45.713Z"
      },
      {
        "duration": 322,
        "start_time": "2023-08-10T07:21:45.800Z"
      },
      {
        "duration": 9,
        "start_time": "2023-08-10T07:21:46.175Z"
      },
      {
        "duration": 320,
        "start_time": "2023-08-10T07:21:46.185Z"
      },
      {
        "duration": 894,
        "start_time": "2023-08-10T07:21:46.507Z"
      },
      {
        "duration": 794,
        "start_time": "2023-08-10T07:21:47.405Z"
      },
      {
        "duration": 1108,
        "start_time": "2023-08-10T07:21:48.202Z"
      },
      {
        "duration": 898,
        "start_time": "2023-08-10T07:21:49.313Z"
      },
      {
        "duration": 467,
        "start_time": "2023-08-10T07:21:50.213Z"
      },
      {
        "duration": 508,
        "start_time": "2023-08-10T07:21:50.683Z"
      },
      {
        "duration": 314,
        "start_time": "2023-08-10T07:21:51.192Z"
      },
      {
        "duration": 466,
        "start_time": "2023-08-10T07:21:51.508Z"
      },
      {
        "duration": 319,
        "start_time": "2023-08-10T07:21:51.976Z"
      },
      {
        "duration": 5,
        "start_time": "2023-08-10T07:21:52.297Z"
      },
      {
        "duration": 108,
        "start_time": "2023-08-10T07:21:52.304Z"
      },
      {
        "duration": 474,
        "start_time": "2023-08-10T07:21:52.415Z"
      },
      {
        "duration": 20,
        "start_time": "2023-08-10T07:21:52.891Z"
      },
      {
        "duration": 402,
        "start_time": "2023-08-10T07:21:52.914Z"
      },
      {
        "duration": 16,
        "start_time": "2023-08-10T07:23:20.106Z"
      },
      {
        "duration": 4,
        "start_time": "2023-08-10T07:23:33.946Z"
      },
      {
        "duration": 21,
        "start_time": "2023-08-10T07:23:34.568Z"
      },
      {
        "duration": 25,
        "start_time": "2023-08-10T07:24:16.865Z"
      },
      {
        "duration": 87,
        "start_time": "2023-08-10T07:24:30.716Z"
      },
      {
        "duration": 1242,
        "start_time": "2023-08-10T07:24:44.656Z"
      },
      {
        "duration": 3,
        "start_time": "2023-08-10T07:24:45.900Z"
      },
      {
        "duration": 95,
        "start_time": "2023-08-10T07:24:45.904Z"
      },
      {
        "duration": 5,
        "start_time": "2023-08-10T07:24:46.001Z"
      },
      {
        "duration": 32,
        "start_time": "2023-08-10T07:24:46.008Z"
      },
      {
        "duration": 20,
        "start_time": "2023-08-10T07:24:46.041Z"
      },
      {
        "duration": 50,
        "start_time": "2023-08-10T07:24:46.063Z"
      },
      {
        "duration": 1920,
        "start_time": "2023-08-10T07:24:46.115Z"
      },
      {
        "duration": 10,
        "start_time": "2023-08-10T07:24:48.036Z"
      },
      {
        "duration": 19,
        "start_time": "2023-08-10T07:24:48.047Z"
      },
      {
        "duration": 10,
        "start_time": "2023-08-10T07:24:48.068Z"
      },
      {
        "duration": 22,
        "start_time": "2023-08-10T07:24:48.079Z"
      },
      {
        "duration": 23,
        "start_time": "2023-08-10T07:24:48.103Z"
      },
      {
        "duration": 8,
        "start_time": "2023-08-10T07:24:48.130Z"
      },
      {
        "duration": 27,
        "start_time": "2023-08-10T07:24:48.140Z"
      },
      {
        "duration": 25,
        "start_time": "2023-08-10T07:24:48.169Z"
      },
      {
        "duration": 21,
        "start_time": "2023-08-10T07:24:48.196Z"
      },
      {
        "duration": 27,
        "start_time": "2023-08-10T07:24:48.218Z"
      },
      {
        "duration": 16,
        "start_time": "2023-08-10T07:24:48.246Z"
      },
      {
        "duration": 24,
        "start_time": "2023-08-10T07:24:48.264Z"
      },
      {
        "duration": 13,
        "start_time": "2023-08-10T07:24:48.290Z"
      },
      {
        "duration": 24,
        "start_time": "2023-08-10T07:24:48.304Z"
      },
      {
        "duration": 20,
        "start_time": "2023-08-10T07:24:48.330Z"
      },
      {
        "duration": 6,
        "start_time": "2023-08-10T07:24:48.351Z"
      },
      {
        "duration": 30,
        "start_time": "2023-08-10T07:24:48.359Z"
      },
      {
        "duration": 46,
        "start_time": "2023-08-10T07:24:48.390Z"
      },
      {
        "duration": 170,
        "start_time": "2023-08-10T07:24:48.437Z"
      },
      {
        "duration": 3,
        "start_time": "2023-08-10T07:24:48.608Z"
      },
      {
        "duration": 46,
        "start_time": "2023-08-10T07:24:48.612Z"
      },
      {
        "duration": 73,
        "start_time": "2023-08-10T07:24:48.660Z"
      },
      {
        "duration": 4,
        "start_time": "2023-08-10T07:24:48.735Z"
      },
      {
        "duration": 24,
        "start_time": "2023-08-10T07:24:48.741Z"
      },
      {
        "duration": 366,
        "start_time": "2023-08-10T07:24:48.766Z"
      },
      {
        "duration": 7,
        "start_time": "2023-08-10T07:24:49.134Z"
      },
      {
        "duration": 183,
        "start_time": "2023-08-10T07:24:49.143Z"
      },
      {
        "duration": 183,
        "start_time": "2023-08-10T07:24:49.328Z"
      },
      {
        "duration": 187,
        "start_time": "2023-08-10T07:24:49.512Z"
      },
      {
        "duration": 203,
        "start_time": "2023-08-10T07:24:49.701Z"
      },
      {
        "duration": 181,
        "start_time": "2023-08-10T07:24:49.906Z"
      },
      {
        "duration": 345,
        "start_time": "2023-08-10T07:24:50.093Z"
      },
      {
        "duration": 199,
        "start_time": "2023-08-10T07:24:50.443Z"
      },
      {
        "duration": 150,
        "start_time": "2023-08-10T07:24:50.644Z"
      },
      {
        "duration": 130,
        "start_time": "2023-08-10T07:24:50.796Z"
      },
      {
        "duration": 157,
        "start_time": "2023-08-10T07:24:50.928Z"
      },
      {
        "duration": 259,
        "start_time": "2023-08-10T07:24:51.087Z"
      },
      {
        "duration": 266,
        "start_time": "2023-08-10T07:24:51.348Z"
      },
      {
        "duration": 283,
        "start_time": "2023-08-10T07:24:51.616Z"
      },
      {
        "duration": 495,
        "start_time": "2023-08-10T07:24:51.901Z"
      },
      {
        "duration": 20,
        "start_time": "2023-08-10T07:24:52.398Z"
      },
      {
        "duration": 176,
        "start_time": "2023-08-10T07:24:52.420Z"
      },
      {
        "duration": 8,
        "start_time": "2023-08-10T07:24:52.598Z"
      },
      {
        "duration": 116,
        "start_time": "2023-08-10T07:24:52.607Z"
      },
      {
        "duration": 305,
        "start_time": "2023-08-10T07:24:52.724Z"
      },
      {
        "duration": 320,
        "start_time": "2023-08-10T07:24:53.030Z"
      },
      {
        "duration": 340,
        "start_time": "2023-08-10T07:24:53.352Z"
      },
      {
        "duration": 440,
        "start_time": "2023-08-10T07:24:53.693Z"
      },
      {
        "duration": 155,
        "start_time": "2023-08-10T07:24:54.135Z"
      },
      {
        "duration": 159,
        "start_time": "2023-08-10T07:24:54.291Z"
      },
      {
        "duration": 158,
        "start_time": "2023-08-10T07:24:54.451Z"
      },
      {
        "duration": 202,
        "start_time": "2023-08-10T07:24:54.611Z"
      },
      {
        "duration": 149,
        "start_time": "2023-08-10T07:24:54.816Z"
      },
      {
        "duration": 11,
        "start_time": "2023-08-10T07:24:54.967Z"
      },
      {
        "duration": 27,
        "start_time": "2023-08-10T07:24:54.983Z"
      },
      {
        "duration": 206,
        "start_time": "2023-08-10T07:24:55.012Z"
      },
      {
        "duration": 17,
        "start_time": "2023-08-10T07:24:55.219Z"
      },
      {
        "duration": 196,
        "start_time": "2023-08-10T07:24:55.237Z"
      }
    ],
    "kernelspec": {
      "display_name": "Python 3 (ipykernel)",
      "language": "python",
      "name": "python3"
    },
    "language_info": {
      "codemirror_mode": {
        "name": "ipython",
        "version": 3
      },
      "file_extension": ".py",
      "mimetype": "text/x-python",
      "name": "python",
      "nbconvert_exporter": "python",
      "pygments_lexer": "ipython3",
      "version": "3.9.5"
    },
    "toc": {
      "base_numbering": 1,
      "nav_menu": {},
      "number_sections": true,
      "sideBar": true,
      "skip_h1_title": true,
      "title_cell": "Table of Contents",
      "title_sidebar": "Contents",
      "toc_cell": false,
      "toc_position": {},
      "toc_section_display": true,
      "toc_window_display": false
    },
    "colab": {
      "provenance": [],
      "toc_visible": true
    }
  },
  "nbformat": 4,
  "nbformat_minor": 0
}