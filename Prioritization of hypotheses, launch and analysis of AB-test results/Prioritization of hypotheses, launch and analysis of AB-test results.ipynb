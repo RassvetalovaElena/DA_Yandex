{
  "cells": [
    {
      "cell_type": "markdown",
      "metadata": {
        "id": "2JF_j2keDja2"
      },
      "source": [
        "# Приоритизация гипотез, запуск  и анализ результатов A/B-тестов."
      ]
    },
    {
      "cell_type": "markdown",
      "metadata": {
        "id": "RqjjVlM0Dja4"
      },
      "source": [
        "Мы работаем в  крупном интернет магазине. Вместе с отделом маркетинга мы подготовили список гипотез для увеличения выручки.\n",
        "Задачей данного проекта явлется расставить приоритеты для выдвинутых гипотез, проанализировать результаты проведеннх А/В тестов.\n",
        "План работы:\n",
        "1. Изучим общую информацию файлов с данными\n",
        "Проведем при необходимости предобработку данных (заменим названия столюцов, приведем в соотвтествие типы данных, обработаем пропуски, создадим новые столбцы...).\n",
        "2. Расставим приоритеты для выдвинутых гипотез.\n",
        "- Применим фреймворк ICE для приоритизации гипотез.\n",
        "- Применим фреймворк RICE для приоритизации гипотез.\n",
        "- Выясним изменится ли приоритизация гипотез при применении RICE вместо ICE.\n",
        "3. Проанализирем A/B-тесты.\n",
        "- Построим график кумулятивной выручки по группам.\n",
        "- Построим график кумулятивного среднего чека по группам.\n",
        "- Построим график относительного изменения кумулятивного среднего чека группы B к группе A.\n",
        "- Построим график кумулятивного среднего количества заказов на посетителя по группам.\n",
        "  Построим график относительного изменения кумулятивного среднего количества заказов на посетителя группы B к группе A.\n",
        "- Построим точечный график количества заказов по пользователям.\n",
        "- Построим 95-й и 99-й перцентили количества заказов на пользователя. Выберем границу для определения аномальных пользователей.\n",
        "- Построим точечный график стоимостей заказов.\n",
        "- Посчитаем 95-й и 99-й перцентили стоимости заказов. Выберем границу для определения аномальных заказов.\n",
        "- Посчитаем статистическую значимость различий в среднем количестве заказов на посетителя между группами по «сырым» данным.\n",
        "- Посчитаем статистическую значимость различий в среднем чеке заказа между группами по «сырым» данным.\n",
        "- Посчитаем статистическую значимость различий в среднем количестве заказов на посетителя между группами по «очищенным» данным.\n",
        "- Посчитаем статистическую значимость различий в среднем чеке заказа между группами по «очищенным» данным.\n",
        "4. Примем решение по результатам теста и объясним его."
      ]
    },
    {
      "cell_type": "markdown",
      "metadata": {
        "id": "V4M3JLiaDja5"
      },
      "source": [
        "## Открытие файла с данными и изучение общей информацию о данных"
      ]
    },
    {
      "cell_type": "markdown",
      "metadata": {
        "id": "6iwH3ltRDja6"
      },
      "source": [
        "### Открытие файлов"
      ]
    },
    {
      "cell_type": "markdown",
      "metadata": {
        "id": "148I-E4-Dja6"
      },
      "source": [
        "импортируем необходимы для работы библиотеки и откроем файлы"
      ]
    },
    {
      "cell_type": "code",
      "execution_count": null,
      "metadata": {
        "id": "QZbJu-wADja7"
      },
      "outputs": [],
      "source": [
        "import numpy as np\n",
        "import pandas as pd\n",
        "import seaborn as sns\n",
        "from matplotlib import pyplot as plt\n",
        "from IPython.display import display\n",
        "import scipy.stats as stats\n",
        "import datetime as dt\n",
        "import warnings\n",
        "from pandas.plotting import register_matplotlib_converters\n",
        "register_matplotlib_converters()\n",
        "warnings.filterwarnings(\"ignore\")"
      ]
    },
    {
      "cell_type": "code",
      "execution_count": null,
      "metadata": {
        "id": "I_Q_BnpDDja9"
      },
      "outputs": [],
      "source": [
        "try:\n",
        "  # смотрим есть ли локально файл\n",
        "  hypothesis = pd.read_csv('/datasets/hypothesis.csv', sep=',')\n",
        "except:\n",
        "  # если же его нет\n",
        "  hypothesis = pd.read_csv('/datasets/hypothesis.csv', sep=',')"
      ]
    },
    {
      "cell_type": "code",
      "execution_count": null,
      "metadata": {
        "id": "Ug-9fE5vDja-"
      },
      "outputs": [],
      "source": [
        "try:\n",
        "    orders = pd.read_csv('/datasets/orders.csv', sep=',')\n",
        "except:\n",
        "    orders = pd.read_csv('/datasets/orders.csv', sep=',')"
      ]
    },
    {
      "cell_type": "code",
      "execution_count": null,
      "metadata": {
        "id": "-xBk6HVsDja-"
      },
      "outputs": [],
      "source": [
        "try:\n",
        "    visitors = pd.read_csv('/datasets/visitors.csv', sep=',')\n",
        "except:\n",
        "    visitors = pd.read_csv('/datasets/visitors.csv', sep=',')"
      ]
    },
    {
      "cell_type": "markdown",
      "metadata": {
        "id": "Wn_6yZCoDja_"
      },
      "source": [
        "### Изучение общей информации и предобработка таблицы hypothesis."
      ]
    },
    {
      "cell_type": "code",
      "execution_count": null,
      "metadata": {
        "id": "tAHBgcaFDjbA",
        "outputId": "8432db87-b563-473c-f6f6-ee79129a3eb9"
      },
      "outputs": [
        {
          "data": {
            "text/plain": [
              "(9, 5)"
            ]
          },
          "execution_count": 5,
          "metadata": {},
          "output_type": "execute_result"
        }
      ],
      "source": [
        "# посмотрим размер таблицы\n",
        "hypothesis.shape"
      ]
    },
    {
      "cell_type": "code",
      "execution_count": null,
      "metadata": {
        "id": "amf2DormDjbC",
        "outputId": "ab838c73-8fbf-46e8-ed24-d90e48e58578"
      },
      "outputs": [
        {
          "name": "stdout",
          "output_type": "stream",
          "text": [
            "<class 'pandas.core.frame.DataFrame'>\n",
            "RangeIndex: 9 entries, 0 to 8\n",
            "Data columns (total 5 columns):\n",
            " #   Column      Non-Null Count  Dtype \n",
            "---  ------      --------------  ----- \n",
            " 0   Hypothesis  9 non-null      object\n",
            " 1   Reach       9 non-null      int64 \n",
            " 2   Impact      9 non-null      int64 \n",
            " 3   Confidence  9 non-null      int64 \n",
            " 4   Efforts     9 non-null      int64 \n",
            "dtypes: int64(4), object(1)\n",
            "memory usage: 488.0+ bytes\n"
          ]
        }
      ],
      "source": [
        "hypothesis.info()"
      ]
    },
    {
      "cell_type": "code",
      "execution_count": null,
      "metadata": {
        "id": "MeR6Ica1DjbC",
        "outputId": "40ece682-eefb-448a-da12-e29ee4ad990b"
      },
      "outputs": [
        {
          "data": {
            "text/html": [
              "<div>\n",
              "<style scoped>\n",
              "    .dataframe tbody tr th:only-of-type {\n",
              "        vertical-align: middle;\n",
              "    }\n",
              "\n",
              "    .dataframe tbody tr th {\n",
              "        vertical-align: top;\n",
              "    }\n",
              "\n",
              "    .dataframe thead th {\n",
              "        text-align: right;\n",
              "    }\n",
              "</style>\n",
              "<table border=\"1\" class=\"dataframe\">\n",
              "  <thead>\n",
              "    <tr style=\"text-align: right;\">\n",
              "      <th></th>\n",
              "      <th>Hypothesis</th>\n",
              "      <th>Reach</th>\n",
              "      <th>Impact</th>\n",
              "      <th>Confidence</th>\n",
              "      <th>Efforts</th>\n",
              "    </tr>\n",
              "  </thead>\n",
              "  <tbody>\n",
              "    <tr>\n",
              "      <th>0</th>\n",
              "      <td>Добавить два новых канала привлечения трафика,...</td>\n",
              "      <td>3</td>\n",
              "      <td>10</td>\n",
              "      <td>8</td>\n",
              "      <td>6</td>\n",
              "    </tr>\n",
              "    <tr>\n",
              "      <th>1</th>\n",
              "      <td>Запустить собственную службу доставки, что сок...</td>\n",
              "      <td>2</td>\n",
              "      <td>5</td>\n",
              "      <td>4</td>\n",
              "      <td>10</td>\n",
              "    </tr>\n",
              "    <tr>\n",
              "      <th>2</th>\n",
              "      <td>Добавить блоки рекомендаций товаров на сайт ин...</td>\n",
              "      <td>8</td>\n",
              "      <td>3</td>\n",
              "      <td>7</td>\n",
              "      <td>3</td>\n",
              "    </tr>\n",
              "    <tr>\n",
              "      <th>3</th>\n",
              "      <td>Изменить структура категорий, что увеличит кон...</td>\n",
              "      <td>8</td>\n",
              "      <td>3</td>\n",
              "      <td>3</td>\n",
              "      <td>8</td>\n",
              "    </tr>\n",
              "    <tr>\n",
              "      <th>4</th>\n",
              "      <td>Изменить цвет фона главной страницы, чтобы уве...</td>\n",
              "      <td>3</td>\n",
              "      <td>1</td>\n",
              "      <td>1</td>\n",
              "      <td>1</td>\n",
              "    </tr>\n",
              "    <tr>\n",
              "      <th>5</th>\n",
              "      <td>Добавить страницу отзывов клиентов о магазине,...</td>\n",
              "      <td>3</td>\n",
              "      <td>2</td>\n",
              "      <td>2</td>\n",
              "      <td>3</td>\n",
              "    </tr>\n",
              "    <tr>\n",
              "      <th>6</th>\n",
              "      <td>Показать на главной странице баннеры с актуаль...</td>\n",
              "      <td>5</td>\n",
              "      <td>3</td>\n",
              "      <td>8</td>\n",
              "      <td>3</td>\n",
              "    </tr>\n",
              "    <tr>\n",
              "      <th>7</th>\n",
              "      <td>Добавить форму подписки на все основные страни...</td>\n",
              "      <td>10</td>\n",
              "      <td>7</td>\n",
              "      <td>8</td>\n",
              "      <td>5</td>\n",
              "    </tr>\n",
              "    <tr>\n",
              "      <th>8</th>\n",
              "      <td>Запустить акцию, дающую скидку на товар в день...</td>\n",
              "      <td>1</td>\n",
              "      <td>9</td>\n",
              "      <td>9</td>\n",
              "      <td>5</td>\n",
              "    </tr>\n",
              "  </tbody>\n",
              "</table>\n",
              "</div>"
            ],
            "text/plain": [
              "                                          Hypothesis  Reach  Impact  \\\n",
              "0  Добавить два новых канала привлечения трафика,...      3      10   \n",
              "1  Запустить собственную службу доставки, что сок...      2       5   \n",
              "2  Добавить блоки рекомендаций товаров на сайт ин...      8       3   \n",
              "3  Изменить структура категорий, что увеличит кон...      8       3   \n",
              "4  Изменить цвет фона главной страницы, чтобы уве...      3       1   \n",
              "5  Добавить страницу отзывов клиентов о магазине,...      3       2   \n",
              "6  Показать на главной странице баннеры с актуаль...      5       3   \n",
              "7  Добавить форму подписки на все основные страни...     10       7   \n",
              "8  Запустить акцию, дающую скидку на товар в день...      1       9   \n",
              "\n",
              "   Confidence  Efforts  \n",
              "0           8        6  \n",
              "1           4       10  \n",
              "2           7        3  \n",
              "3           3        8  \n",
              "4           1        1  \n",
              "5           2        3  \n",
              "6           8        3  \n",
              "7           8        5  \n",
              "8           9        5  "
            ]
          },
          "execution_count": 7,
          "metadata": {},
          "output_type": "execute_result"
        }
      ],
      "source": [
        "# таблица не большая выведем сразу все записи\n",
        "pd.set_option('display.max_columns', None)\n",
        "hypothesis"
      ]
    },
    {
      "cell_type": "markdown",
      "metadata": {
        "id": "mTUJEao8DjbK"
      },
      "source": [
        "Вывод: Типы данных все верные, пропусков нет. Можно только привести названия столбцов в правильный регистр."
      ]
    },
    {
      "cell_type": "code",
      "execution_count": null,
      "metadata": {
        "id": "I2psw2V4DjbK"
      },
      "outputs": [],
      "source": [
        "hypothesis.columns = hypothesis.columns.str.lower()"
      ]
    },
    {
      "cell_type": "markdown",
      "metadata": {
        "id": "CTbzxS3iDjbL"
      },
      "source": [
        "### Изучение общей информации и предобработка таблицы orders."
      ]
    },
    {
      "cell_type": "code",
      "execution_count": null,
      "metadata": {
        "id": "zwKXqPmrDjbL",
        "outputId": "b1739b46-0634-45ce-b505-ef0b9cf2bfb4"
      },
      "outputs": [
        {
          "data": {
            "text/plain": [
              "(1197, 5)"
            ]
          },
          "execution_count": 9,
          "metadata": {},
          "output_type": "execute_result"
        }
      ],
      "source": [
        "# посмотрим размер таблицы\n",
        "orders.shape"
      ]
    },
    {
      "cell_type": "code",
      "execution_count": null,
      "metadata": {
        "id": "xMGPFYhdDjbM",
        "outputId": "c49329d2-89b8-4d6c-8e82-d66551f24eb6"
      },
      "outputs": [
        {
          "name": "stdout",
          "output_type": "stream",
          "text": [
            "<class 'pandas.core.frame.DataFrame'>\n",
            "RangeIndex: 1197 entries, 0 to 1196\n",
            "Data columns (total 5 columns):\n",
            " #   Column         Non-Null Count  Dtype \n",
            "---  ------         --------------  ----- \n",
            " 0   transactionId  1197 non-null   int64 \n",
            " 1   visitorId      1197 non-null   int64 \n",
            " 2   date           1197 non-null   object\n",
            " 3   revenue        1197 non-null   int64 \n",
            " 4   group          1197 non-null   object\n",
            "dtypes: int64(3), object(2)\n",
            "memory usage: 46.9+ KB\n"
          ]
        }
      ],
      "source": [
        "orders.info()"
      ]
    },
    {
      "cell_type": "code",
      "execution_count": null,
      "metadata": {
        "id": "PgCigyLHDjbM",
        "outputId": "8d035853-bc9b-405e-ee86-04abc0edaa6b"
      },
      "outputs": [
        {
          "data": {
            "text/html": [
              "<div>\n",
              "<style scoped>\n",
              "    .dataframe tbody tr th:only-of-type {\n",
              "        vertical-align: middle;\n",
              "    }\n",
              "\n",
              "    .dataframe tbody tr th {\n",
              "        vertical-align: top;\n",
              "    }\n",
              "\n",
              "    .dataframe thead th {\n",
              "        text-align: right;\n",
              "    }\n",
              "</style>\n",
              "<table border=\"1\" class=\"dataframe\">\n",
              "  <thead>\n",
              "    <tr style=\"text-align: right;\">\n",
              "      <th></th>\n",
              "      <th>transactionId</th>\n",
              "      <th>visitorId</th>\n",
              "      <th>date</th>\n",
              "      <th>revenue</th>\n",
              "      <th>group</th>\n",
              "    </tr>\n",
              "  </thead>\n",
              "  <tbody>\n",
              "    <tr>\n",
              "      <th>0</th>\n",
              "      <td>3667963787</td>\n",
              "      <td>3312258926</td>\n",
              "      <td>2019-08-15</td>\n",
              "      <td>1650</td>\n",
              "      <td>B</td>\n",
              "    </tr>\n",
              "    <tr>\n",
              "      <th>1</th>\n",
              "      <td>2804400009</td>\n",
              "      <td>3642806036</td>\n",
              "      <td>2019-08-15</td>\n",
              "      <td>730</td>\n",
              "      <td>B</td>\n",
              "    </tr>\n",
              "    <tr>\n",
              "      <th>2</th>\n",
              "      <td>2961555356</td>\n",
              "      <td>4069496402</td>\n",
              "      <td>2019-08-15</td>\n",
              "      <td>400</td>\n",
              "      <td>A</td>\n",
              "    </tr>\n",
              "    <tr>\n",
              "      <th>3</th>\n",
              "      <td>3797467345</td>\n",
              "      <td>1196621759</td>\n",
              "      <td>2019-08-15</td>\n",
              "      <td>9759</td>\n",
              "      <td>B</td>\n",
              "    </tr>\n",
              "    <tr>\n",
              "      <th>4</th>\n",
              "      <td>2282983706</td>\n",
              "      <td>2322279887</td>\n",
              "      <td>2019-08-15</td>\n",
              "      <td>2308</td>\n",
              "      <td>B</td>\n",
              "    </tr>\n",
              "  </tbody>\n",
              "</table>\n",
              "</div>"
            ],
            "text/plain": [
              "   transactionId   visitorId        date  revenue group\n",
              "0     3667963787  3312258926  2019-08-15     1650     B\n",
              "1     2804400009  3642806036  2019-08-15      730     B\n",
              "2     2961555356  4069496402  2019-08-15      400     A\n",
              "3     3797467345  1196621759  2019-08-15     9759     B\n",
              "4     2282983706  2322279887  2019-08-15     2308     B"
            ]
          },
          "execution_count": 11,
          "metadata": {},
          "output_type": "execute_result"
        }
      ],
      "source": [
        "# выведем первые 5 записей\n",
        "pd.set_option('display.max_columns', None)\n",
        "orders.head()"
      ]
    },
    {
      "cell_type": "code",
      "execution_count": null,
      "metadata": {
        "id": "MBuo33LVDjbN",
        "outputId": "4f8b6b46-73da-41b7-c808-d8c81ce93150"
      },
      "outputs": [
        {
          "data": {
            "text/plain": [
              "0"
            ]
          },
          "execution_count": 12,
          "metadata": {},
          "output_type": "execute_result"
        }
      ],
      "source": [
        "# Проверим таблицу orders на дубликаты\n",
        "orders.duplicated().sum()"
      ]
    },
    {
      "cell_type": "markdown",
      "metadata": {
        "id": "50NhvyKADjbN"
      },
      "source": [
        "Вывод: Названия столбцов корректные, пропусков и дубликатов в данных нет. Тип поля date нужно привести в правильный формат."
      ]
    },
    {
      "cell_type": "code",
      "execution_count": null,
      "metadata": {
        "id": "2Dn9IT4DDjbO"
      },
      "outputs": [],
      "source": [
        "orders[\"date\"] = orders[\"date\"].map(lambda x: dt.datetime.strptime(x, '%Y-%m-%d'))"
      ]
    },
    {
      "cell_type": "markdown",
      "metadata": {
        "id": "BTVW1I0sDjbO"
      },
      "source": [
        "### Изучение общей информации и предобработка таблицы visitors."
      ]
    },
    {
      "cell_type": "code",
      "execution_count": null,
      "metadata": {
        "id": "flVz-vsBDjbO",
        "outputId": "74c872ee-d879-4e39-82ae-1b7ac39566e2"
      },
      "outputs": [
        {
          "data": {
            "text/plain": [
              "(62, 3)"
            ]
          },
          "execution_count": 14,
          "metadata": {},
          "output_type": "execute_result"
        }
      ],
      "source": [
        "# посмотрим размер таблицы\n",
        "visitors.shape"
      ]
    },
    {
      "cell_type": "code",
      "execution_count": null,
      "metadata": {
        "id": "keGjr_7zDjbP",
        "outputId": "7469aca4-98fe-48c5-cc50-072d38f6eb1d"
      },
      "outputs": [
        {
          "name": "stdout",
          "output_type": "stream",
          "text": [
            "<class 'pandas.core.frame.DataFrame'>\n",
            "RangeIndex: 62 entries, 0 to 61\n",
            "Data columns (total 3 columns):\n",
            " #   Column    Non-Null Count  Dtype \n",
            "---  ------    --------------  ----- \n",
            " 0   date      62 non-null     object\n",
            " 1   group     62 non-null     object\n",
            " 2   visitors  62 non-null     int64 \n",
            "dtypes: int64(1), object(2)\n",
            "memory usage: 1.6+ KB\n"
          ]
        }
      ],
      "source": [
        "visitors.info()"
      ]
    },
    {
      "cell_type": "code",
      "execution_count": null,
      "metadata": {
        "id": "kgweYZ-pDjbP",
        "outputId": "91edf53c-6a4d-4430-be02-27c2b4e30fc9"
      },
      "outputs": [
        {
          "data": {
            "text/html": [
              "<div>\n",
              "<style scoped>\n",
              "    .dataframe tbody tr th:only-of-type {\n",
              "        vertical-align: middle;\n",
              "    }\n",
              "\n",
              "    .dataframe tbody tr th {\n",
              "        vertical-align: top;\n",
              "    }\n",
              "\n",
              "    .dataframe thead th {\n",
              "        text-align: right;\n",
              "    }\n",
              "</style>\n",
              "<table border=\"1\" class=\"dataframe\">\n",
              "  <thead>\n",
              "    <tr style=\"text-align: right;\">\n",
              "      <th></th>\n",
              "      <th>date</th>\n",
              "      <th>group</th>\n",
              "      <th>visitors</th>\n",
              "    </tr>\n",
              "  </thead>\n",
              "  <tbody>\n",
              "    <tr>\n",
              "      <th>0</th>\n",
              "      <td>2019-08-01</td>\n",
              "      <td>A</td>\n",
              "      <td>719</td>\n",
              "    </tr>\n",
              "    <tr>\n",
              "      <th>1</th>\n",
              "      <td>2019-08-02</td>\n",
              "      <td>A</td>\n",
              "      <td>619</td>\n",
              "    </tr>\n",
              "    <tr>\n",
              "      <th>2</th>\n",
              "      <td>2019-08-03</td>\n",
              "      <td>A</td>\n",
              "      <td>507</td>\n",
              "    </tr>\n",
              "    <tr>\n",
              "      <th>3</th>\n",
              "      <td>2019-08-04</td>\n",
              "      <td>A</td>\n",
              "      <td>717</td>\n",
              "    </tr>\n",
              "    <tr>\n",
              "      <th>4</th>\n",
              "      <td>2019-08-05</td>\n",
              "      <td>A</td>\n",
              "      <td>756</td>\n",
              "    </tr>\n",
              "  </tbody>\n",
              "</table>\n",
              "</div>"
            ],
            "text/plain": [
              "         date group  visitors\n",
              "0  2019-08-01     A       719\n",
              "1  2019-08-02     A       619\n",
              "2  2019-08-03     A       507\n",
              "3  2019-08-04     A       717\n",
              "4  2019-08-05     A       756"
            ]
          },
          "execution_count": 16,
          "metadata": {},
          "output_type": "execute_result"
        }
      ],
      "source": [
        "visitors.head()"
      ]
    },
    {
      "cell_type": "code",
      "execution_count": null,
      "metadata": {
        "id": "YR9BfQhEDjbQ",
        "outputId": "dd0bc621-4ef2-4e79-e336-a46418fbbcba"
      },
      "outputs": [
        {
          "data": {
            "text/plain": [
              "0"
            ]
          },
          "execution_count": 17,
          "metadata": {},
          "output_type": "execute_result"
        }
      ],
      "source": [
        "# Проверим таблицу visitors на дубликаты\n",
        "visitors.duplicated().sum()"
      ]
    },
    {
      "cell_type": "markdown",
      "metadata": {
        "id": "8HlKkoYDDjbQ"
      },
      "source": [
        "Вывод: Названия полей в порядке, пропусков и дубликатов нет. Но следует поментять тип поля date."
      ]
    },
    {
      "cell_type": "code",
      "execution_count": null,
      "metadata": {
        "id": "KWrXrmW1DjbR"
      },
      "outputs": [],
      "source": [
        "visitors[\"date\"] = visitors[\"date\"].map(lambda x: dt.datetime.strptime(x, '%Y-%m-%d'))"
      ]
    },
    {
      "cell_type": "markdown",
      "metadata": {
        "id": "4HTaPg41DjbR"
      },
      "source": [
        "### Дополнительный анализ данных для исследования."
      ]
    },
    {
      "cell_type": "code",
      "execution_count": null,
      "metadata": {
        "id": "D1_naeN-DjbS",
        "outputId": "54ebd8aa-5a11-4744-c940-8348df42d4d8"
      },
      "outputs": [
        {
          "data": {
            "text/html": [
              "<div>\n",
              "<style scoped>\n",
              "    .dataframe tbody tr th:only-of-type {\n",
              "        vertical-align: middle;\n",
              "    }\n",
              "\n",
              "    .dataframe tbody tr th {\n",
              "        vertical-align: top;\n",
              "    }\n",
              "\n",
              "    .dataframe thead th {\n",
              "        text-align: right;\n",
              "    }\n",
              "</style>\n",
              "<table border=\"1\" class=\"dataframe\">\n",
              "  <thead>\n",
              "    <tr style=\"text-align: right;\">\n",
              "      <th></th>\n",
              "      <th>transactionId</th>\n",
              "      <th>visitorId</th>\n",
              "      <th>date</th>\n",
              "      <th>revenue</th>\n",
              "    </tr>\n",
              "    <tr>\n",
              "      <th>group</th>\n",
              "      <th></th>\n",
              "      <th></th>\n",
              "      <th></th>\n",
              "      <th></th>\n",
              "    </tr>\n",
              "  </thead>\n",
              "  <tbody>\n",
              "    <tr>\n",
              "      <th>A</th>\n",
              "      <td>557</td>\n",
              "      <td>557</td>\n",
              "      <td>557</td>\n",
              "      <td>557</td>\n",
              "    </tr>\n",
              "    <tr>\n",
              "      <th>B</th>\n",
              "      <td>640</td>\n",
              "      <td>640</td>\n",
              "      <td>640</td>\n",
              "      <td>640</td>\n",
              "    </tr>\n",
              "  </tbody>\n",
              "</table>\n",
              "</div>"
            ],
            "text/plain": [
              "       transactionId  visitorId  date  revenue\n",
              "group                                         \n",
              "A                557        557   557      557\n",
              "B                640        640   640      640"
            ]
          },
          "execution_count": 19,
          "metadata": {},
          "output_type": "execute_result"
        }
      ],
      "source": [
        "# посмотрим какие группы есть в данных и количество пользователей в каждой группе\n",
        "orders.groupby(['group']).count()"
      ]
    },
    {
      "cell_type": "code",
      "execution_count": null,
      "metadata": {
        "id": "slUNSuIfDjbS",
        "outputId": "a855cdde-732c-4ca2-a3b3-8d745e939dfa"
      },
      "outputs": [
        {
          "data": {
            "text/html": [
              "<div>\n",
              "<style scoped>\n",
              "    .dataframe tbody tr th:only-of-type {\n",
              "        vertical-align: middle;\n",
              "    }\n",
              "\n",
              "    .dataframe tbody tr th {\n",
              "        vertical-align: top;\n",
              "    }\n",
              "\n",
              "    .dataframe thead th {\n",
              "        text-align: right;\n",
              "    }\n",
              "</style>\n",
              "<table border=\"1\" class=\"dataframe\">\n",
              "  <thead>\n",
              "    <tr style=\"text-align: right;\">\n",
              "      <th></th>\n",
              "      <th>date</th>\n",
              "      <th>group</th>\n",
              "    </tr>\n",
              "  </thead>\n",
              "  <tbody>\n",
              "    <tr>\n",
              "      <th>0</th>\n",
              "      <td>2019-08-01</td>\n",
              "      <td>A</td>\n",
              "    </tr>\n",
              "    <tr>\n",
              "      <th>1</th>\n",
              "      <td>2019-08-01</td>\n",
              "      <td>B</td>\n",
              "    </tr>\n",
              "    <tr>\n",
              "      <th>2</th>\n",
              "      <td>2019-08-02</td>\n",
              "      <td>A</td>\n",
              "    </tr>\n",
              "    <tr>\n",
              "      <th>3</th>\n",
              "      <td>2019-08-02</td>\n",
              "      <td>B</td>\n",
              "    </tr>\n",
              "    <tr>\n",
              "      <th>4</th>\n",
              "      <td>2019-08-03</td>\n",
              "      <td>A</td>\n",
              "    </tr>\n",
              "    <tr>\n",
              "      <th>...</th>\n",
              "      <td>...</td>\n",
              "      <td>...</td>\n",
              "    </tr>\n",
              "    <tr>\n",
              "      <th>57</th>\n",
              "      <td>2019-08-29</td>\n",
              "      <td>B</td>\n",
              "    </tr>\n",
              "    <tr>\n",
              "      <th>58</th>\n",
              "      <td>2019-08-30</td>\n",
              "      <td>A</td>\n",
              "    </tr>\n",
              "    <tr>\n",
              "      <th>59</th>\n",
              "      <td>2019-08-30</td>\n",
              "      <td>B</td>\n",
              "    </tr>\n",
              "    <tr>\n",
              "      <th>60</th>\n",
              "      <td>2019-08-31</td>\n",
              "      <td>A</td>\n",
              "    </tr>\n",
              "    <tr>\n",
              "      <th>61</th>\n",
              "      <td>2019-08-31</td>\n",
              "      <td>B</td>\n",
              "    </tr>\n",
              "  </tbody>\n",
              "</table>\n",
              "<p>62 rows × 2 columns</p>\n",
              "</div>"
            ],
            "text/plain": [
              "         date group\n",
              "0  2019-08-01     A\n",
              "1  2019-08-01     B\n",
              "2  2019-08-02     A\n",
              "3  2019-08-02     B\n",
              "4  2019-08-03     A\n",
              "..        ...   ...\n",
              "57 2019-08-29     B\n",
              "58 2019-08-30     A\n",
              "59 2019-08-30     B\n",
              "60 2019-08-31     A\n",
              "61 2019-08-31     B\n",
              "\n",
              "[62 rows x 2 columns]"
            ]
          },
          "execution_count": 20,
          "metadata": {},
          "output_type": "execute_result"
        }
      ],
      "source": [
        "# дата начала и окончания теста\n",
        "orders[['date','group']].drop_duplicates().sort_values(by=['date','group']).reset_index(drop=True)"
      ]
    },
    {
      "cell_type": "code",
      "execution_count": null,
      "metadata": {
        "id": "PAU-AaNCDjbS",
        "outputId": "3e3b3873-89c5-46f5-aaa7-f463abe162ac"
      },
      "outputs": [
        {
          "name": "stdout",
          "output_type": "stream",
          "text": [
            "Всего 37652 за август 2019 года. Из них 1031 уникальный пользователь сделал заказ.\n"
          ]
        }
      ],
      "source": [
        "# Количество пользователей\n",
        "print(\n",
        "    f\"Всего {sum(visitors['visitors'])} за август 2019 года. \"\n",
        "    f\"Из них {len(orders['visitorId'].unique())} уникальный пользователь сделал заказ.\"\n",
        ")"
      ]
    },
    {
      "cell_type": "code",
      "execution_count": null,
      "metadata": {
        "id": "T1NjlDT8DjbT",
        "outputId": "1a362958-bc07-450f-e275-d6b10b187814"
      },
      "outputs": [
        {
          "name": "stdout",
          "output_type": "stream",
          "text": [
            "{3957174400, 3984495233, 2780786433, 1294878855, 1648269707, 1614305549, 4120364173, 232979603, 199603092, 4266935830, 2712142231, 2587333274, 2716752286, 3891541246, 1668030113, 2654030115, 3234906277, 1230306981, 1404934699, 3803269165, 2949041841, 237748145, 457167155, 2927087541, 1738359350, 3062433592, 3656415546, 818047933, 393266494, 963407295, 471551937, 2579882178, 3202540741, 2686716486, 1333886533, 2044997962, 3941795274, 1801183820, 2378935119, 4256040402, 4069496402, 3766097110, 8300375, 351125977, 1602967004, 276558944, 2038680547, 3951559397, 3963646447, 4186807279, 3717692402, 1959144690, 2458001652, 2600415354, 2954449915, 1316129916, 477780734, 3972127743}\n"
          ]
        }
      ],
      "source": [
        "visitorsA = set(orders[(orders['group'] == 'A')]['visitorId'])\n",
        "visitorsB = set(orders[(orders['group'] == 'B')]['visitorId'])\n",
        "visitors_АВ = visitorsA.intersection(visitorsB)\n",
        "print(visitors_АВ)"
      ]
    },
    {
      "cell_type": "code",
      "execution_count": null,
      "metadata": {
        "id": "3qwbZUGXDjbT",
        "outputId": "9adb5ca7-f009-4af8-eea7-914e4fe68a39"
      },
      "outputs": [
        {
          "name": "stdout",
          "output_type": "stream",
          "text": [
            "Вероятность попадания пользователей в обе группы 5.63 %\n"
          ]
        }
      ],
      "source": [
        "print(f\"Вероятность попадания пользователей в обе группы {round(len(visitors_АВ)/len(orders['visitorId'].unique()) * 100, 2)} %\")"
      ]
    },
    {
      "cell_type": "markdown",
      "metadata": {
        "id": "1NAMxl3CDjbp"
      },
      "source": [
        "***ВЫВОД:*** В первом пункте были загружены и обработаны три таблицы. В таблицах orders и visitors был изменен тип данных поля date. Остальные данные корректны и таблицы готовы для анализа.\n",
        "\n",
        "Дополнительно проанализировали следующие данные:\n",
        "\n",
        "Количество групп в АВ-тесте всего две А и В;\n",
        "\n",
        "Даты начала и окончания теста - данные предоставлены за август 2019 года ;\n",
        "\n",
        "Количество пользователей в каждой группе - по таблице с заказами: в группе А 557, в группе В 640 ;\n",
        "\n",
        "Вероятность попадания пользователей в обе группы - по таблице с заказами 5.63%\n",
        "\n",
        "Получается некоторые пользователи попали в обе группы и данные не очень достоверны. Процент погрешности укладывается в 5-10 % процентов поэтому думаю можно пересекающихся пользователей не удалять."
      ]
    },
    {
      "cell_type": "markdown",
      "metadata": {
        "id": "3lRcAAc0Djbt"
      },
      "source": [
        "## Расставим приоритеты для выдвинутых гипотез"
      ]
    },
    {
      "cell_type": "markdown",
      "metadata": {
        "id": "rObkbP3gDjbt"
      },
      "source": [
        "### Применим фреймворк ICE для приоритизации гипотез."
      ]
    },
    {
      "cell_type": "code",
      "execution_count": null,
      "metadata": {
        "id": "jsdbnvb6Djbu",
        "outputId": "2ed61dbb-36ba-493d-8100-69116dba9da5"
      },
      "outputs": [
        {
          "data": {
            "text/html": [
              "<div>\n",
              "<style scoped>\n",
              "    .dataframe tbody tr th:only-of-type {\n",
              "        vertical-align: middle;\n",
              "    }\n",
              "\n",
              "    .dataframe tbody tr th {\n",
              "        vertical-align: top;\n",
              "    }\n",
              "\n",
              "    .dataframe thead th {\n",
              "        text-align: right;\n",
              "    }\n",
              "</style>\n",
              "<table border=\"1\" class=\"dataframe\">\n",
              "  <thead>\n",
              "    <tr style=\"text-align: right;\">\n",
              "      <th></th>\n",
              "      <th>hypothesis</th>\n",
              "      <th>reach</th>\n",
              "      <th>impact</th>\n",
              "      <th>confidence</th>\n",
              "      <th>efforts</th>\n",
              "    </tr>\n",
              "  </thead>\n",
              "  <tbody>\n",
              "    <tr>\n",
              "      <th>0</th>\n",
              "      <td>Добавить два новых канала привлечения трафика, что позволит привлекать на 30% больше пользователей</td>\n",
              "      <td>3</td>\n",
              "      <td>10</td>\n",
              "      <td>8</td>\n",
              "      <td>6</td>\n",
              "    </tr>\n",
              "    <tr>\n",
              "      <th>1</th>\n",
              "      <td>Запустить собственную службу доставки, что сократит срок доставки заказов</td>\n",
              "      <td>2</td>\n",
              "      <td>5</td>\n",
              "      <td>4</td>\n",
              "      <td>10</td>\n",
              "    </tr>\n",
              "    <tr>\n",
              "      <th>2</th>\n",
              "      <td>Добавить блоки рекомендаций товаров на сайт интернет магазина, чтобы повысить конверсию и средний чек заказа</td>\n",
              "      <td>8</td>\n",
              "      <td>3</td>\n",
              "      <td>7</td>\n",
              "      <td>3</td>\n",
              "    </tr>\n",
              "    <tr>\n",
              "      <th>3</th>\n",
              "      <td>Изменить структура категорий, что увеличит конверсию, т.к. пользователи быстрее найдут нужный товар</td>\n",
              "      <td>8</td>\n",
              "      <td>3</td>\n",
              "      <td>3</td>\n",
              "      <td>8</td>\n",
              "    </tr>\n",
              "    <tr>\n",
              "      <th>4</th>\n",
              "      <td>Изменить цвет фона главной страницы, чтобы увеличить вовлеченность пользователей</td>\n",
              "      <td>3</td>\n",
              "      <td>1</td>\n",
              "      <td>1</td>\n",
              "      <td>1</td>\n",
              "    </tr>\n",
              "    <tr>\n",
              "      <th>5</th>\n",
              "      <td>Добавить страницу отзывов клиентов о магазине, что позволит увеличить количество заказов</td>\n",
              "      <td>3</td>\n",
              "      <td>2</td>\n",
              "      <td>2</td>\n",
              "      <td>3</td>\n",
              "    </tr>\n",
              "    <tr>\n",
              "      <th>6</th>\n",
              "      <td>Показать на главной странице баннеры с актуальными акциями и распродажами, чтобы увеличить конверсию</td>\n",
              "      <td>5</td>\n",
              "      <td>3</td>\n",
              "      <td>8</td>\n",
              "      <td>3</td>\n",
              "    </tr>\n",
              "    <tr>\n",
              "      <th>7</th>\n",
              "      <td>Добавить форму подписки на все основные страницы, чтобы собрать базу клиентов для email-рассылок</td>\n",
              "      <td>10</td>\n",
              "      <td>7</td>\n",
              "      <td>8</td>\n",
              "      <td>5</td>\n",
              "    </tr>\n",
              "    <tr>\n",
              "      <th>8</th>\n",
              "      <td>Запустить акцию, дающую скидку на товар в день рождения</td>\n",
              "      <td>1</td>\n",
              "      <td>9</td>\n",
              "      <td>9</td>\n",
              "      <td>5</td>\n",
              "    </tr>\n",
              "  </tbody>\n",
              "</table>\n",
              "</div>"
            ],
            "text/plain": [
              "                                                                                                     hypothesis  \\\n",
              "0            Добавить два новых канала привлечения трафика, что позволит привлекать на 30% больше пользователей   \n",
              "1                                     Запустить собственную службу доставки, что сократит срок доставки заказов   \n",
              "2  Добавить блоки рекомендаций товаров на сайт интернет магазина, чтобы повысить конверсию и средний чек заказа   \n",
              "3           Изменить структура категорий, что увеличит конверсию, т.к. пользователи быстрее найдут нужный товар   \n",
              "4                              Изменить цвет фона главной страницы, чтобы увеличить вовлеченность пользователей   \n",
              "5                      Добавить страницу отзывов клиентов о магазине, что позволит увеличить количество заказов   \n",
              "6          Показать на главной странице баннеры с актуальными акциями и распродажами, чтобы увеличить конверсию   \n",
              "7              Добавить форму подписки на все основные страницы, чтобы собрать базу клиентов для email-рассылок   \n",
              "8                                                       Запустить акцию, дающую скидку на товар в день рождения   \n",
              "\n",
              "   reach  impact  confidence  efforts  \n",
              "0      3      10           8        6  \n",
              "1      2       5           4       10  \n",
              "2      8       3           7        3  \n",
              "3      8       3           3        8  \n",
              "4      3       1           1        1  \n",
              "5      3       2           2        3  \n",
              "6      5       3           8        3  \n",
              "7     10       7           8        5  \n",
              "8      1       9           9        5  "
            ]
          },
          "execution_count": 24,
          "metadata": {},
          "output_type": "execute_result"
        }
      ],
      "source": [
        "pd.set_option('display.max_colwidth', 300)\n",
        "hypothesis"
      ]
    },
    {
      "cell_type": "code",
      "execution_count": null,
      "metadata": {
        "id": "rWSctQxSDjbv"
      },
      "outputs": [],
      "source": [
        "# Применим фреймворк ICE\n",
        "hypothesis['ICE'] = ((hypothesis['impact'] * hypothesis['confidence']) / hypothesis['efforts']).round(1)"
      ]
    },
    {
      "cell_type": "code",
      "execution_count": null,
      "metadata": {
        "id": "eNvXxVGTDjbv",
        "outputId": "8cc20463-9f9f-4216-807b-8001a54ecbdc"
      },
      "outputs": [
        {
          "data": {
            "text/html": [
              "<div>\n",
              "<style scoped>\n",
              "    .dataframe tbody tr th:only-of-type {\n",
              "        vertical-align: middle;\n",
              "    }\n",
              "\n",
              "    .dataframe tbody tr th {\n",
              "        vertical-align: top;\n",
              "    }\n",
              "\n",
              "    .dataframe thead th {\n",
              "        text-align: right;\n",
              "    }\n",
              "</style>\n",
              "<table border=\"1\" class=\"dataframe\">\n",
              "  <thead>\n",
              "    <tr style=\"text-align: right;\">\n",
              "      <th></th>\n",
              "      <th>ICE</th>\n",
              "      <th>hypothesis</th>\n",
              "    </tr>\n",
              "  </thead>\n",
              "  <tbody>\n",
              "    <tr>\n",
              "      <th>8</th>\n",
              "      <td>16.2</td>\n",
              "      <td>Запустить акцию, дающую скидку на товар в день рождения</td>\n",
              "    </tr>\n",
              "    <tr>\n",
              "      <th>0</th>\n",
              "      <td>13.3</td>\n",
              "      <td>Добавить два новых канала привлечения трафика, что позволит привлекать на 30% больше пользователей</td>\n",
              "    </tr>\n",
              "    <tr>\n",
              "      <th>7</th>\n",
              "      <td>11.2</td>\n",
              "      <td>Добавить форму подписки на все основные страницы, чтобы собрать базу клиентов для email-рассылок</td>\n",
              "    </tr>\n",
              "    <tr>\n",
              "      <th>6</th>\n",
              "      <td>8.0</td>\n",
              "      <td>Показать на главной странице баннеры с актуальными акциями и распродажами, чтобы увеличить конверсию</td>\n",
              "    </tr>\n",
              "    <tr>\n",
              "      <th>2</th>\n",
              "      <td>7.0</td>\n",
              "      <td>Добавить блоки рекомендаций товаров на сайт интернет магазина, чтобы повысить конверсию и средний чек заказа</td>\n",
              "    </tr>\n",
              "    <tr>\n",
              "      <th>1</th>\n",
              "      <td>2.0</td>\n",
              "      <td>Запустить собственную службу доставки, что сократит срок доставки заказов</td>\n",
              "    </tr>\n",
              "    <tr>\n",
              "      <th>5</th>\n",
              "      <td>1.3</td>\n",
              "      <td>Добавить страницу отзывов клиентов о магазине, что позволит увеличить количество заказов</td>\n",
              "    </tr>\n",
              "    <tr>\n",
              "      <th>3</th>\n",
              "      <td>1.1</td>\n",
              "      <td>Изменить структура категорий, что увеличит конверсию, т.к. пользователи быстрее найдут нужный товар</td>\n",
              "    </tr>\n",
              "    <tr>\n",
              "      <th>4</th>\n",
              "      <td>1.0</td>\n",
              "      <td>Изменить цвет фона главной страницы, чтобы увеличить вовлеченность пользователей</td>\n",
              "    </tr>\n",
              "  </tbody>\n",
              "</table>\n",
              "</div>"
            ],
            "text/plain": [
              "    ICE  \\\n",
              "8  16.2   \n",
              "0  13.3   \n",
              "7  11.2   \n",
              "6   8.0   \n",
              "2   7.0   \n",
              "1   2.0   \n",
              "5   1.3   \n",
              "3   1.1   \n",
              "4   1.0   \n",
              "\n",
              "                                                                                                     hypothesis  \n",
              "8                                                       Запустить акцию, дающую скидку на товар в день рождения  \n",
              "0            Добавить два новых канала привлечения трафика, что позволит привлекать на 30% больше пользователей  \n",
              "7              Добавить форму подписки на все основные страницы, чтобы собрать базу клиентов для email-рассылок  \n",
              "6          Показать на главной странице баннеры с актуальными акциями и распродажами, чтобы увеличить конверсию  \n",
              "2  Добавить блоки рекомендаций товаров на сайт интернет магазина, чтобы повысить конверсию и средний чек заказа  \n",
              "1                                     Запустить собственную службу доставки, что сократит срок доставки заказов  \n",
              "5                      Добавить страницу отзывов клиентов о магазине, что позволит увеличить количество заказов  \n",
              "3           Изменить структура категорий, что увеличит конверсию, т.к. пользователи быстрее найдут нужный товар  \n",
              "4                              Изменить цвет фона главной страницы, чтобы увеличить вовлеченность пользователей  "
            ]
          },
          "metadata": {},
          "output_type": "display_data"
        }
      ],
      "source": [
        "pd.set_option('display.max_colwidth', 300)\n",
        "# Отсортируем  по убыванию приоритета\n",
        "display(hypothesis[['ICE', 'hypothesis']].sort_values(by='ICE', ascending=False))"
      ]
    },
    {
      "cell_type": "markdown",
      "metadata": {
        "id": "vdlHr7-VDjbw"
      },
      "source": [
        "### Применим фреймворк RICE для приоритизации гипотез."
      ]
    },
    {
      "cell_type": "code",
      "execution_count": null,
      "metadata": {
        "id": "q6diSzhrDjbw"
      },
      "outputs": [],
      "source": [
        "# Применим фреймворк RICE\n",
        "hypothesis['RICE'] = (hypothesis['reach']  *hypothesis['impact'] * hypothesis['confidence']) / hypothesis['efforts']"
      ]
    },
    {
      "cell_type": "code",
      "execution_count": null,
      "metadata": {
        "id": "zw4HqjzGDjbx",
        "outputId": "1a451e94-9dfb-47a3-b56f-1f59a488d3d0"
      },
      "outputs": [
        {
          "data": {
            "text/html": [
              "<div>\n",
              "<style scoped>\n",
              "    .dataframe tbody tr th:only-of-type {\n",
              "        vertical-align: middle;\n",
              "    }\n",
              "\n",
              "    .dataframe tbody tr th {\n",
              "        vertical-align: top;\n",
              "    }\n",
              "\n",
              "    .dataframe thead th {\n",
              "        text-align: right;\n",
              "    }\n",
              "</style>\n",
              "<table border=\"1\" class=\"dataframe\">\n",
              "  <thead>\n",
              "    <tr style=\"text-align: right;\">\n",
              "      <th></th>\n",
              "      <th>RICE</th>\n",
              "      <th>hypothesis</th>\n",
              "      <th>reach</th>\n",
              "    </tr>\n",
              "  </thead>\n",
              "  <tbody>\n",
              "    <tr>\n",
              "      <th>7</th>\n",
              "      <td>112.0</td>\n",
              "      <td>Добавить форму подписки на все основные страницы, чтобы собрать базу клиентов для email-рассылок</td>\n",
              "      <td>10</td>\n",
              "    </tr>\n",
              "    <tr>\n",
              "      <th>2</th>\n",
              "      <td>56.0</td>\n",
              "      <td>Добавить блоки рекомендаций товаров на сайт интернет магазина, чтобы повысить конверсию и средний чек заказа</td>\n",
              "      <td>8</td>\n",
              "    </tr>\n",
              "    <tr>\n",
              "      <th>0</th>\n",
              "      <td>40.0</td>\n",
              "      <td>Добавить два новых канала привлечения трафика, что позволит привлекать на 30% больше пользователей</td>\n",
              "      <td>3</td>\n",
              "    </tr>\n",
              "    <tr>\n",
              "      <th>6</th>\n",
              "      <td>40.0</td>\n",
              "      <td>Показать на главной странице баннеры с актуальными акциями и распродажами, чтобы увеличить конверсию</td>\n",
              "      <td>5</td>\n",
              "    </tr>\n",
              "    <tr>\n",
              "      <th>8</th>\n",
              "      <td>16.2</td>\n",
              "      <td>Запустить акцию, дающую скидку на товар в день рождения</td>\n",
              "      <td>1</td>\n",
              "    </tr>\n",
              "    <tr>\n",
              "      <th>3</th>\n",
              "      <td>9.0</td>\n",
              "      <td>Изменить структура категорий, что увеличит конверсию, т.к. пользователи быстрее найдут нужный товар</td>\n",
              "      <td>8</td>\n",
              "    </tr>\n",
              "    <tr>\n",
              "      <th>1</th>\n",
              "      <td>4.0</td>\n",
              "      <td>Запустить собственную службу доставки, что сократит срок доставки заказов</td>\n",
              "      <td>2</td>\n",
              "    </tr>\n",
              "    <tr>\n",
              "      <th>5</th>\n",
              "      <td>4.0</td>\n",
              "      <td>Добавить страницу отзывов клиентов о магазине, что позволит увеличить количество заказов</td>\n",
              "      <td>3</td>\n",
              "    </tr>\n",
              "    <tr>\n",
              "      <th>4</th>\n",
              "      <td>3.0</td>\n",
              "      <td>Изменить цвет фона главной страницы, чтобы увеличить вовлеченность пользователей</td>\n",
              "      <td>3</td>\n",
              "    </tr>\n",
              "  </tbody>\n",
              "</table>\n",
              "</div>"
            ],
            "text/plain": [
              "    RICE  \\\n",
              "7  112.0   \n",
              "2   56.0   \n",
              "0   40.0   \n",
              "6   40.0   \n",
              "8   16.2   \n",
              "3    9.0   \n",
              "1    4.0   \n",
              "5    4.0   \n",
              "4    3.0   \n",
              "\n",
              "                                                                                                     hypothesis  \\\n",
              "7              Добавить форму подписки на все основные страницы, чтобы собрать базу клиентов для email-рассылок   \n",
              "2  Добавить блоки рекомендаций товаров на сайт интернет магазина, чтобы повысить конверсию и средний чек заказа   \n",
              "0            Добавить два новых канала привлечения трафика, что позволит привлекать на 30% больше пользователей   \n",
              "6          Показать на главной странице баннеры с актуальными акциями и распродажами, чтобы увеличить конверсию   \n",
              "8                                                       Запустить акцию, дающую скидку на товар в день рождения   \n",
              "3           Изменить структура категорий, что увеличит конверсию, т.к. пользователи быстрее найдут нужный товар   \n",
              "1                                     Запустить собственную службу доставки, что сократит срок доставки заказов   \n",
              "5                      Добавить страницу отзывов клиентов о магазине, что позволит увеличить количество заказов   \n",
              "4                              Изменить цвет фона главной страницы, чтобы увеличить вовлеченность пользователей   \n",
              "\n",
              "   reach  \n",
              "7     10  \n",
              "2      8  \n",
              "0      3  \n",
              "6      5  \n",
              "8      1  \n",
              "3      8  \n",
              "1      2  \n",
              "5      3  \n",
              "4      3  "
            ]
          },
          "execution_count": 28,
          "metadata": {},
          "output_type": "execute_result"
        }
      ],
      "source": [
        "pd.set_option('display.max_colwidth', 300)\n",
        "# Отсортируем  по убыванию приоритета\n",
        "hypothesis[['RICE', 'hypothesis', 'reach']].sort_values(by='RICE', ascending=False)"
      ]
    },
    {
      "cell_type": "markdown",
      "metadata": {
        "id": "WkZ4LUWUDjby"
      },
      "source": [
        "***ВЫВОД:*** Выше из таблиц видим, что при применении RICE вместо ICE есть различия. Для ICE тройка лидеров это гипотезы: Запустить акцию, дающую скидку на товар в день рождения(8), Добавить два новых канала привлечения трафика, что позволит привлекать на 30% больше пользователей (0), Добавить форму подписки на все основные страницы, чтобы собрать базу клиентов для email-рассылок (7).\n",
        "\n",
        "Для RICE: Добавить форму подписки на все основные страницы, чтобы собрать базу клиентов для email-рассылок (7), Добавить блоки рекомендаций товаров на сайт интернет магазина, чтобы повысить конверсию и средний чек заказа (2), Добавить два новых канала привлечения трафика, что позволит привлекать на 30% больше пользователей (0). Гипотезы Добавить два новых канала привлечения трафика, что позволит привлекать на 30% больше пользователей (0) и Добавить форму подписки на все основные страницы, чтобы собрать базу клиентов для email-рассылок (7) остаются в тройке лидеров но меняют позиции, а вот гипотеза Запустить акцию, дающую скидку на товар в день рождения(8) смещается на 5 место. Зато гипотеза под номером Добавить блоки рекомендаций товаров на сайт интернет магазина, чтобы повысить конверсию и средний чек заказа (2) с 5 поднимается на 2.  При применении фреймворка  RICE мы учитываем параметр Reach, который отвечает за охват пользователей, которых затронет изменение и у гипотез Добавить форму подписки на все основные страницы, чтобы собрать базу клиентов для email-рассылок (7) и Добавить блоки рекомендаций товаров на сайт интернет магазина, чтобы повысить конверсию и средний чек заказа (2) он самый большой, поэтому считаю что проверять стоит гипотезы Добавить форму подписки на все основные страницы, чтобы собрать базу клиентов для email-рассылок (7) и Добавить блоки рекомендаций товаров на сайт интернет магазина, чтобы повысить конверсию и средний чек заказа (2)."
      ]
    },
    {
      "cell_type": "markdown",
      "metadata": {
        "id": "NDW52NdBDjb0"
      },
      "source": [
        "## Проанализирем A/B-тесты"
      ]
    },
    {
      "cell_type": "markdown",
      "metadata": {
        "id": "T94XvwXbDjb0"
      },
      "source": [
        "### Построим график кумулятивной выручки по группам"
      ]
    },
    {
      "cell_type": "code",
      "execution_count": null,
      "metadata": {
        "id": "eGFckuWoDjb0",
        "outputId": "9e861201-5a96-4020-e924-be5934f127ad"
      },
      "outputs": [
        {
          "data": {
            "text/plain": [
              "group\n",
              "A    112473\n",
              "B    147274\n",
              "Name: revenue, dtype: int64"
            ]
          },
          "execution_count": 29,
          "metadata": {},
          "output_type": "execute_result"
        }
      ],
      "source": [
        "# посчитаем медианную выручку в каждой группе\n",
        "orders.groupby(['date','group'])['revenue'].sum().groupby('group').median()"
      ]
    },
    {
      "cell_type": "code",
      "execution_count": null,
      "metadata": {
        "id": "Ll8ho78MDjb1",
        "outputId": "c97a8d4b-e160-460b-d918-4a0677205f4c"
      },
      "outputs": [
        {
          "data": {
            "text/html": [
              "<div>\n",
              "<style scoped>\n",
              "    .dataframe tbody tr th:only-of-type {\n",
              "        vertical-align: middle;\n",
              "    }\n",
              "\n",
              "    .dataframe tbody tr th {\n",
              "        vertical-align: top;\n",
              "    }\n",
              "\n",
              "    .dataframe thead th {\n",
              "        text-align: right;\n",
              "    }\n",
              "</style>\n",
              "<table border=\"1\" class=\"dataframe\">\n",
              "  <thead>\n",
              "    <tr style=\"text-align: right;\">\n",
              "      <th></th>\n",
              "      <th>date</th>\n",
              "      <th>group</th>\n",
              "      <th>orders</th>\n",
              "      <th>buyers</th>\n",
              "      <th>revenue</th>\n",
              "      <th>visitors</th>\n",
              "    </tr>\n",
              "  </thead>\n",
              "  <tbody>\n",
              "    <tr>\n",
              "      <th>0</th>\n",
              "      <td>2019-08-01</td>\n",
              "      <td>A</td>\n",
              "      <td>24</td>\n",
              "      <td>20</td>\n",
              "      <td>148579</td>\n",
              "      <td>719</td>\n",
              "    </tr>\n",
              "    <tr>\n",
              "      <th>1</th>\n",
              "      <td>2019-08-01</td>\n",
              "      <td>B</td>\n",
              "      <td>21</td>\n",
              "      <td>20</td>\n",
              "      <td>101217</td>\n",
              "      <td>713</td>\n",
              "    </tr>\n",
              "    <tr>\n",
              "      <th>2</th>\n",
              "      <td>2019-08-02</td>\n",
              "      <td>A</td>\n",
              "      <td>44</td>\n",
              "      <td>38</td>\n",
              "      <td>242401</td>\n",
              "      <td>1338</td>\n",
              "    </tr>\n",
              "    <tr>\n",
              "      <th>3</th>\n",
              "      <td>2019-08-02</td>\n",
              "      <td>B</td>\n",
              "      <td>45</td>\n",
              "      <td>43</td>\n",
              "      <td>266748</td>\n",
              "      <td>1294</td>\n",
              "    </tr>\n",
              "    <tr>\n",
              "      <th>4</th>\n",
              "      <td>2019-08-03</td>\n",
              "      <td>A</td>\n",
              "      <td>68</td>\n",
              "      <td>62</td>\n",
              "      <td>354874</td>\n",
              "      <td>1845</td>\n",
              "    </tr>\n",
              "  </tbody>\n",
              "</table>\n",
              "</div>"
            ],
            "text/plain": [
              "        date group  orders  buyers  revenue  visitors\n",
              "0 2019-08-01     A      24      20   148579       719\n",
              "1 2019-08-01     B      21      20   101217       713\n",
              "2 2019-08-02     A      44      38   242401      1338\n",
              "3 2019-08-02     B      45      43   266748      1294\n",
              "4 2019-08-03     A      68      62   354874      1845"
            ]
          },
          "execution_count": 30,
          "metadata": {},
          "output_type": "execute_result"
        }
      ],
      "source": [
        "# обьединим visitors и orders в comDF\n",
        "\n",
        "Group = orders[['date','group']].drop_duplicates()\n",
        "\n",
        "ordersAgg = Group.apply(lambda x: orders[np.logical_and(orders['date'] <= x['date'], orders['group'] == x['group'])]. \\\n",
        "                                     agg({'date' : 'max',\n",
        "                                          'group' : 'max',\n",
        "                                          'transactionId' : pd.Series.nunique,\n",
        "                                          'visitorId' : pd.Series.nunique,\n",
        "                                          'revenue' : 'sum'}), axis=1).sort_values(by=['date','group'])\n",
        "\n",
        "visitorsAgg = Group.apply(lambda x: visitors[np.logical_and(visitors['date'] <= x['date'], visitors['group'] == x['group'])]. \\\n",
        "                                       agg({'date' : 'max',\n",
        "                                            'group' : 'max',\n",
        "                                            'visitors' : 'sum'}), axis=1).sort_values(by=['date','group'])\n",
        "\n",
        "cumDF = ordersAgg.merge(visitorsAgg, left_on=['date', 'group'], right_on=['date', 'group'])\n",
        "cumDF.columns = ['date', 'group', 'orders', 'buyers', 'revenue', 'visitors']\n",
        "\n",
        "cumDF.head()"
      ]
    },
    {
      "cell_type": "markdown",
      "metadata": {
        "id": "idyHLOR4Djb1"
      },
      "source": [
        "Построим графики кумулятивной выручки по группам\n"
      ]
    },
    {
      "cell_type": "code",
      "execution_count": null,
      "metadata": {
        "id": "Hsgca-VXDjb2",
        "outputId": "3c0bd8a7-4bee-4f03-fa6c-d593e5e7f16c"
      },
      "outputs": [
        {
          "data": {
            "image/png": "[encoded data removed]",
            "text/plain": [
              "<Figure size 1080x360 with 1 Axes>"
            ]
          },
          "metadata": {
            "needs_background": "light"
          },
          "output_type": "display_data"
        }
      ],
      "source": [
        "cumA = cumDF[cumDF['group']=='A'][['date','revenue', 'orders','visitors']]\n",
        "cumB = cumDF[cumDF['group']=='B'][['date','revenue', 'orders','visitors']]\n",
        "plt.figure(figsize=(15,5))\n",
        "plt.plot(cumA['date'], cumA['revenue'], label='Выручка A')\n",
        "plt.plot(cumB['date'], cumB['revenue'], label='Выручка B')\n",
        "plt.title('График кумулятивной выручки по группам', fontsize=20)\n",
        "plt.ylabel('Кумулятивная выручка', fontsize=10)\n",
        "plt.xlabel('Диапазон', fontsize=10)\n",
        "plt.grid()\n",
        "plt.legend();"
      ]
    },
    {
      "cell_type": "markdown",
      "metadata": {
        "id": "bljWDb6mDjb4"
      },
      "source": [
        "***ВЫВОД:*** На графике видим, что с 01.08 до 13.08 выручки обе растут, но в группе В чуть быстрей. 13.08 выручки одинаковые и потом выручка группы В обгоняет выручку группы А, особенно после 19.08. Возможно там был большой заказ."
      ]
    },
    {
      "cell_type": "markdown",
      "metadata": {
        "id": "EoryjRygDjb4"
      },
      "source": [
        "### Построим график кумулятивного среднего чека по группам."
      ]
    },
    {
      "cell_type": "markdown",
      "metadata": {
        "id": "tTgAAUkLDjb5"
      },
      "source": [
        "Чтобы построить график нужно получить для него данные, для этого разделим выручку на число заказов по группам"
      ]
    },
    {
      "cell_type": "code",
      "execution_count": null,
      "metadata": {
        "id": "3FxTnSgIDjb5",
        "outputId": "8be0e43e-ae4b-47fd-b5f0-39f6487b51df"
      },
      "outputs": [
        {
          "data": {
            "image/png": "[encoded data removed]",
            "text/plain": [
              "<Figure size 1080x360 with 1 Axes>"
            ]
          },
          "metadata": {
            "needs_background": "light"
          },
          "output_type": "display_data"
        }
      ],
      "source": [
        "plt.figure(figsize=(15,5))\n",
        "plt.grid()\n",
        "plt.plot(cumA['date'], cumA['revenue']/cumA['orders'], label='группа A')\n",
        "plt.plot(cumB['date'], cumB['revenue']/cumB['orders'], label='группа B')\n",
        "plt.title('График кумулятивного среднего чека по группам', fontsize=20)\n",
        "plt.ylabel('Кумулятивный средний чек', fontsize=10)\n",
        "plt.xlabel('Диапазон', fontsize=10)\n",
        "plt.legend();"
      ]
    },
    {
      "cell_type": "markdown",
      "metadata": {
        "id": "rII1TgXLDjb8"
      },
      "source": [
        "***ВЫВОД:*** На графике видим, что до 11.08 средний чек группы В больше, потом на несколько дней средний чек группы А становится больше чека группы В. 15.08 чеки одинакоые и после этого средний чек группы А практически стабилен и растет совсем не значительно. У группы В видим резкий скачок в размере чека, по после 19.08 наблюдается его падение, хотя он стабильно больше среднего чека группы А."
      ]
    },
    {
      "cell_type": "markdown",
      "metadata": {
        "id": "o_Hfk72qDjb8"
      },
      "source": [
        "### Построим график относительного изменения кумулятивного среднего чека группы B к группе A."
      ]
    },
    {
      "cell_type": "markdown",
      "metadata": {
        "id": "tzMqsEAnDjb9"
      },
      "source": [
        "Чтобы построить график нужно объединить данные."
      ]
    },
    {
      "cell_type": "code",
      "execution_count": null,
      "metadata": {
        "id": "Q_ZceOd-Djb9",
        "outputId": "11db6510-5df9-491a-dc81-2bd24904a308"
      },
      "outputs": [
        {
          "data": {
            "image/png": "[encoded data removed]",
            "text/plain": [
              "<Figure size 1080x360 with 1 Axes>"
            ]
          },
          "metadata": {
            "needs_background": "light"
          },
          "output_type": "display_data"
        }
      ],
      "source": [
        "CumAB = cumA.merge(cumB, left_on='date', right_on='date', how='left', suffixes=['A', 'B'])\n",
        "plt.figure(figsize=(15,5))\n",
        "plt.grid()\n",
        "plt.plot(CumAB['date'], (CumAB['revenueB']/CumAB['ordersB'])/ \\\n",
        "         (CumAB['revenueA']/CumAB['ordersA'])-1)\n",
        "plt.title('Относительное изменение кумулятивного среднего чека группы B к группе А')\n",
        "plt.ylabel('Отношение кумулятивных средних чеков', fontsize=10)\n",
        "plt.xlabel('Диапазон', fontsize=10)\n",
        "plt.axhline(y=0, color='green', linestyle='--') ;"
      ]
    },
    {
      "cell_type": "markdown",
      "metadata": {
        "id": "Q1C5aQH_Djb-"
      },
      "source": [
        "***ВЫВОД:***\n",
        "На этом графике видим тоже самое что и на предидущем. Средний чек В превышает А до 11-12.08, Потом после 15 начинает опять обгонять средний чек А. 19 числа большой всплеск от возможного большого заказа и потом плавное снижение среднего чека.    "
      ]
    },
    {
      "cell_type": "markdown",
      "metadata": {
        "id": "mdw544k-Djb-"
      },
      "source": [
        "Здесь наверно следует посмотреть какие всетаки заказы были в районе 18-19.08, т.к. на всех трех графиках мы видим всплеск."
      ]
    },
    {
      "cell_type": "code",
      "execution_count": null,
      "metadata": {
        "id": "Bsn3wF-eDjb_",
        "outputId": "b54403a6-5b1e-424f-d353-d21d023ce610"
      },
      "outputs": [
        {
          "data": {
            "text/html": [
              "<div>\n",
              "<style scoped>\n",
              "    .dataframe tbody tr th:only-of-type {\n",
              "        vertical-align: middle;\n",
              "    }\n",
              "\n",
              "    .dataframe tbody tr th {\n",
              "        vertical-align: top;\n",
              "    }\n",
              "\n",
              "    .dataframe thead th {\n",
              "        text-align: right;\n",
              "    }\n",
              "</style>\n",
              "<table border=\"1\" class=\"dataframe\">\n",
              "  <thead>\n",
              "    <tr style=\"text-align: right;\">\n",
              "      <th></th>\n",
              "      <th>date</th>\n",
              "      <th>revenue</th>\n",
              "      <th>orders</th>\n",
              "      <th>visitors</th>\n",
              "    </tr>\n",
              "  </thead>\n",
              "  <tbody>\n",
              "    <tr>\n",
              "      <th>31</th>\n",
              "      <td>2019-08-16</td>\n",
              "      <td>2539635</td>\n",
              "      <td>359</td>\n",
              "      <td>10013</td>\n",
              "    </tr>\n",
              "    <tr>\n",
              "      <th>33</th>\n",
              "      <td>2019-08-17</td>\n",
              "      <td>2620790</td>\n",
              "      <td>373</td>\n",
              "      <td>10434</td>\n",
              "    </tr>\n",
              "    <tr>\n",
              "      <th>35</th>\n",
              "      <td>2019-08-18</td>\n",
              "      <td>2686621</td>\n",
              "      <td>382</td>\n",
              "      <td>11171</td>\n",
              "    </tr>\n",
              "    <tr>\n",
              "      <th>37</th>\n",
              "      <td>2019-08-19</td>\n",
              "      <td>4116541</td>\n",
              "      <td>403</td>\n",
              "      <td>11658</td>\n",
              "    </tr>\n",
              "    <tr>\n",
              "      <th>39</th>\n",
              "      <td>2019-08-20</td>\n",
              "      <td>4263815</td>\n",
              "      <td>423</td>\n",
              "      <td>12218</td>\n",
              "    </tr>\n",
              "    <tr>\n",
              "      <th>41</th>\n",
              "      <td>2019-08-21</td>\n",
              "      <td>4426892</td>\n",
              "      <td>437</td>\n",
              "      <td>12874</td>\n",
              "    </tr>\n",
              "    <tr>\n",
              "      <th>43</th>\n",
              "      <td>2019-08-22</td>\n",
              "      <td>4589247</td>\n",
              "      <td>462</td>\n",
              "      <td>13524</td>\n",
              "    </tr>\n",
              "  </tbody>\n",
              "</table>\n",
              "</div>"
            ],
            "text/plain": [
              "         date  revenue  orders  visitors\n",
              "31 2019-08-16  2539635     359     10013\n",
              "33 2019-08-17  2620790     373     10434\n",
              "35 2019-08-18  2686621     382     11171\n",
              "37 2019-08-19  4116541     403     11658\n",
              "39 2019-08-20  4263815     423     12218\n",
              "41 2019-08-21  4426892     437     12874\n",
              "43 2019-08-22  4589247     462     13524"
            ]
          },
          "execution_count": 34,
          "metadata": {},
          "output_type": "execute_result"
        }
      ],
      "source": [
        "cumB.query(' \"2019-08-16\" <= date <= \"2019-08-22\" ')"
      ]
    },
    {
      "cell_type": "markdown",
      "metadata": {
        "id": "Xpmdpet0Djb_"
      },
      "source": [
        "Количество заказов как и в другие дни, посчитаем среднее значение одного заказа на 19.08"
      ]
    },
    {
      "cell_type": "code",
      "execution_count": null,
      "metadata": {
        "id": "njPgYMm0DjcA",
        "outputId": "09f23d07-cdbb-431b-e523-2dd55b7fe3ba"
      },
      "outputs": [
        {
          "name": "stdout",
          "output_type": "stream",
          "text": [
            "Среднее на 19.08 = 2630.0\n"
          ]
        },
        {
          "data": {
            "text/html": [
              "<div>\n",
              "<style scoped>\n",
              "    .dataframe tbody tr th:only-of-type {\n",
              "        vertical-align: middle;\n",
              "    }\n",
              "\n",
              "    .dataframe tbody tr th {\n",
              "        vertical-align: top;\n",
              "    }\n",
              "\n",
              "    .dataframe thead th {\n",
              "        text-align: right;\n",
              "    }\n",
              "</style>\n",
              "<table border=\"1\" class=\"dataframe\">\n",
              "  <thead>\n",
              "    <tr style=\"text-align: right;\">\n",
              "      <th></th>\n",
              "      <th>transactionId</th>\n",
              "      <th>visitorId</th>\n",
              "      <th>date</th>\n",
              "      <th>revenue</th>\n",
              "      <th>group</th>\n",
              "    </tr>\n",
              "  </thead>\n",
              "  <tbody>\n",
              "    <tr>\n",
              "      <th>425</th>\n",
              "      <td>590470918</td>\n",
              "      <td>1920142716</td>\n",
              "      <td>2019-08-19</td>\n",
              "      <td>1294500</td>\n",
              "      <td>B</td>\n",
              "    </tr>\n",
              "    <tr>\n",
              "      <th>530</th>\n",
              "      <td>3970235543</td>\n",
              "      <td>2912540959</td>\n",
              "      <td>2019-08-19</td>\n",
              "      <td>43990</td>\n",
              "      <td>A</td>\n",
              "    </tr>\n",
              "    <tr>\n",
              "      <th>527</th>\n",
              "      <td>1570513684</td>\n",
              "      <td>2837914161</td>\n",
              "      <td>2019-08-19</td>\n",
              "      <td>33405</td>\n",
              "      <td>B</td>\n",
              "    </tr>\n",
              "    <tr>\n",
              "      <th>421</th>\n",
              "      <td>3765974140</td>\n",
              "      <td>1357170471</td>\n",
              "      <td>2019-08-19</td>\n",
              "      <td>31680</td>\n",
              "      <td>A</td>\n",
              "    </tr>\n",
              "    <tr>\n",
              "      <th>461</th>\n",
              "      <td>2683113224</td>\n",
              "      <td>154576532</td>\n",
              "      <td>2019-08-19</td>\n",
              "      <td>26550</td>\n",
              "      <td>B</td>\n",
              "    </tr>\n",
              "    <tr>\n",
              "      <th>525</th>\n",
              "      <td>3031564664</td>\n",
              "      <td>393266494</td>\n",
              "      <td>2019-08-19</td>\n",
              "      <td>21550</td>\n",
              "      <td>A</td>\n",
              "    </tr>\n",
              "    <tr>\n",
              "      <th>368</th>\n",
              "      <td>3268879337</td>\n",
              "      <td>2536252163</td>\n",
              "      <td>2019-08-19</td>\n",
              "      <td>20026</td>\n",
              "      <td>B</td>\n",
              "    </tr>\n",
              "    <tr>\n",
              "      <th>366</th>\n",
              "      <td>2037051350</td>\n",
              "      <td>1957949546</td>\n",
              "      <td>2019-08-19</td>\n",
              "      <td>16770</td>\n",
              "      <td>A</td>\n",
              "    </tr>\n",
              "  </tbody>\n",
              "</table>\n",
              "</div>"
            ],
            "text/plain": [
              "     transactionId   visitorId       date  revenue group\n",
              "425      590470918  1920142716 2019-08-19  1294500     B\n",
              "530     3970235543  2912540959 2019-08-19    43990     A\n",
              "527     1570513684  2837914161 2019-08-19    33405     B\n",
              "421     3765974140  1357170471 2019-08-19    31680     A\n",
              "461     2683113224   154576532 2019-08-19    26550     B\n",
              "525     3031564664   393266494 2019-08-19    21550     A\n",
              "368     3268879337  2536252163 2019-08-19    20026     B\n",
              "366     2037051350  1957949546 2019-08-19    16770     A"
            ]
          },
          "execution_count": 35,
          "metadata": {},
          "output_type": "execute_result"
        }
      ],
      "source": [
        "print('Среднее на 19.08 =',orders.query(' date == \"2019-08-19\" ')['revenue'].median())\n",
        "orders.query(' date == \"2019-08-19\" ').sort_values(by='revenue', ascending=False).head(8)"
      ]
    },
    {
      "cell_type": "markdown",
      "metadata": {
        "id": "n8fMBmCcDjcA"
      },
      "source": [
        "В таблице видим что один заказ 425 был гораздо больше среднего. Скорей всего это выбросное значение."
      ]
    },
    {
      "cell_type": "markdown",
      "metadata": {
        "id": "5ZFfSA2IDjcB"
      },
      "source": [
        "### Построим график кумулятивного среднего количества заказов на посетителя по группам."
      ]
    },
    {
      "cell_type": "code",
      "execution_count": null,
      "metadata": {
        "id": "wxyN4wq5DjcB",
        "outputId": "ac684adb-ea1d-478c-cad5-80024de2cd05"
      },
      "outputs": [
        {
          "data": {
            "image/png": "[encoded data removed]",
            "text/plain": [
              "<Figure size 1080x360 with 1 Axes>"
            ]
          },
          "metadata": {
            "needs_background": "light"
          },
          "output_type": "display_data"
        }
      ],
      "source": [
        "plt.figure(figsize=(15,5))\n",
        "plt.grid()\n",
        "plt.plot(cumA['date'], cumA['orders']/cumA['visitors'], label='группа A')\n",
        "plt.plot(cumB['date'], cumB['orders']/cumB['visitors'], label='группа B')\n",
        "plt.title('График кумулятивного среднего количества заказов на посетителя по группам')\n",
        "plt.ylabel('Кумулятивное среднее количество заказов на посетителя', fontsize=8)\n",
        "plt.xlabel('Диапазон', fontsize=10)\n",
        "plt.legend();"
      ]
    },
    {
      "cell_type": "markdown",
      "metadata": {
        "id": "97V0xH6wDjcC"
      },
      "source": [
        "***ВЫВОД:*** На графике видим, что с 1.08 лидером по количеству заказов на посетителя была группа А, но после 6.08 количество заказов группы В резко пошло вверх, а у группы А вниз. и с 9.8 стабильно группа В значительно опережает группу В по количеству заказов на посетителя."
      ]
    },
    {
      "cell_type": "markdown",
      "metadata": {
        "id": "GAvdhbdIDjcD"
      },
      "source": [
        "### Построим график относительного изменения кумулятивного среднего количества заказов на посетителя группы B к группе A."
      ]
    },
    {
      "cell_type": "code",
      "execution_count": null,
      "metadata": {
        "id": "baqQ6xyNDjcE",
        "outputId": "6cac317a-b96e-45a7-ba65-9155ecdcd765"
      },
      "outputs": [
        {
          "data": {
            "image/png": "[encoded data removed]",
            "text/plain": [
              "<Figure size 1080x360 with 1 Axes>"
            ]
          },
          "metadata": {
            "needs_background": "light"
          },
          "output_type": "display_data"
        }
      ],
      "source": [
        "CumAB_order = cumA.merge(cumB, left_on='date', right_on='date', how='left', suffixes=['A', 'B'])\n",
        "plt.figure(figsize=(15,5))\n",
        "plt.grid()\n",
        "plt.plot(CumAB_order['date'], (CumAB_order['ordersB']/CumAB_order['visitorsB'])/ \\\n",
        "         (CumAB_order['ordersA']/CumAB_order['visitorsA'])-1)\n",
        "plt.title('График отношения кумулятивных среднего количества заказов на посетителя группы В к группе А')\n",
        "plt.ylabel('Отношение кумулятивных среднего количества заказов ', fontsize=8)\n",
        "plt.xlabel('Диапазон', fontsize=10)\n",
        "plt.axhline(y=0, color='green', linestyle='--') ;"
      ]
    },
    {
      "cell_type": "markdown",
      "metadata": {
        "id": "oR8Ifn6ODjcF"
      },
      "source": [
        "***ВЫВОД:*** На этом графике видим тоже самое что и на предидущем. Среднее количество заказов на посетителя группы В к группе А ниже только вначале со 2.08 по 6.08, а потом резко идет ввер и практически не снижается."
      ]
    },
    {
      "cell_type": "markdown",
      "metadata": {
        "id": "RbMw12qCDjcG"
      },
      "source": [
        "### Построим точечный график количества заказов по пользователям."
      ]
    },
    {
      "cell_type": "code",
      "execution_count": null,
      "metadata": {
        "id": "8MGI2y-XDjcH"
      },
      "outputs": [],
      "source": [
        "orderUser = (\n",
        "    orders\n",
        "    .groupby(by=['visitorId'])\n",
        "    .agg({'transactionId': 'count'})\n",
        "    .rename(columns={'transactionId': 'orders_count'})\n",
        "    .reset_index()\n",
        ")"
      ]
    },
    {
      "cell_type": "code",
      "execution_count": null,
      "metadata": {
        "id": "SBbdHJBtDjcI",
        "outputId": "5b02b1be-ded9-4ac1-9074-9a0803f99452"
      },
      "outputs": [
        {
          "data": {
            "text/html": [
              "<div>\n",
              "<style scoped>\n",
              "    .dataframe tbody tr th:only-of-type {\n",
              "        vertical-align: middle;\n",
              "    }\n",
              "\n",
              "    .dataframe tbody tr th {\n",
              "        vertical-align: top;\n",
              "    }\n",
              "\n",
              "    .dataframe thead th {\n",
              "        text-align: right;\n",
              "    }\n",
              "</style>\n",
              "<table border=\"1\" class=\"dataframe\">\n",
              "  <thead>\n",
              "    <tr style=\"text-align: right;\">\n",
              "      <th></th>\n",
              "      <th>visitorId</th>\n",
              "      <th>orders_count</th>\n",
              "    </tr>\n",
              "  </thead>\n",
              "  <tbody>\n",
              "    <tr>\n",
              "      <th>0</th>\n",
              "      <td>5114589</td>\n",
              "      <td>1</td>\n",
              "    </tr>\n",
              "    <tr>\n",
              "      <th>1</th>\n",
              "      <td>6958315</td>\n",
              "      <td>1</td>\n",
              "    </tr>\n",
              "    <tr>\n",
              "      <th>2</th>\n",
              "      <td>8300375</td>\n",
              "      <td>2</td>\n",
              "    </tr>\n",
              "    <tr>\n",
              "      <th>3</th>\n",
              "      <td>11685486</td>\n",
              "      <td>1</td>\n",
              "    </tr>\n",
              "    <tr>\n",
              "      <th>4</th>\n",
              "      <td>39475350</td>\n",
              "      <td>1</td>\n",
              "    </tr>\n",
              "    <tr>\n",
              "      <th>...</th>\n",
              "      <td>...</td>\n",
              "      <td>...</td>\n",
              "    </tr>\n",
              "    <tr>\n",
              "      <th>1026</th>\n",
              "      <td>4266935830</td>\n",
              "      <td>2</td>\n",
              "    </tr>\n",
              "    <tr>\n",
              "      <th>1027</th>\n",
              "      <td>4278982564</td>\n",
              "      <td>1</td>\n",
              "    </tr>\n",
              "    <tr>\n",
              "      <th>1028</th>\n",
              "      <td>4279090005</td>\n",
              "      <td>1</td>\n",
              "    </tr>\n",
              "    <tr>\n",
              "      <th>1029</th>\n",
              "      <td>4281247801</td>\n",
              "      <td>1</td>\n",
              "    </tr>\n",
              "    <tr>\n",
              "      <th>1030</th>\n",
              "      <td>4283872382</td>\n",
              "      <td>1</td>\n",
              "    </tr>\n",
              "  </tbody>\n",
              "</table>\n",
              "<p>1031 rows × 2 columns</p>\n",
              "</div>"
            ],
            "text/plain": [
              "       visitorId  orders_count\n",
              "0        5114589             1\n",
              "1        6958315             1\n",
              "2        8300375             2\n",
              "3       11685486             1\n",
              "4       39475350             1\n",
              "...          ...           ...\n",
              "1026  4266935830             2\n",
              "1027  4278982564             1\n",
              "1028  4279090005             1\n",
              "1029  4281247801             1\n",
              "1030  4283872382             1\n",
              "\n",
              "[1031 rows x 2 columns]"
            ]
          },
          "execution_count": 39,
          "metadata": {},
          "output_type": "execute_result"
        }
      ],
      "source": [
        "orderUser"
      ]
    },
    {
      "cell_type": "code",
      "execution_count": null,
      "metadata": {
        "id": "FeUi6HwFDjcJ",
        "outputId": "ca38efc8-8bf5-491d-f699-b79cac9fdb45"
      },
      "outputs": [
        {
          "data": {
            "image/png": "[encoded data removed]",
            "text/plain": [
              "<Figure size 1080x360 with 1 Axes>"
            ]
          },
          "metadata": {
            "needs_background": "light"
          },
          "output_type": "display_data"
        }
      ],
      "source": [
        "plt.figure(figsize=(15, 5))\n",
        "x_values = pd.Series(range(0, len(orderUser['orders_count'])))\n",
        "plt.scatter(x_values, orderUser['orders_count'])\n",
        "plt.title('График количества заказов по пользователям', fontsize=20)\n",
        "plt.ylabel('Количество заказов', fontsize=15)\n",
        "plt.xlabel('Индекс пользователя', fontsize=15)\n",
        "plt.xticks(np.arange(min(x_values), max(x_values), 100))\n",
        "plt.xticks(fontsize=15)\n",
        "plt.yticks(np.arange(min(orderUser['orders_count']) - 1, max(orderUser['orders_count']) + 2, 1))\n",
        "plt.yticks(fontsize=15)\n",
        "plt.grid()\n",
        "plt.show()"
      ]
    },
    {
      "cell_type": "markdown",
      "metadata": {
        "id": "xhLkixP1DjcK"
      },
      "source": [
        "***ВЫВОД:*** На графике видим, что больше всего пользователей совершали по одному заказу, на втором месте по 2 заказа, есть такие кто совершал 3-4 заказаза и даже от 5 до 11. Но скорей всего все что выше 4 это аномалия и их нужно отсекать."
      ]
    },
    {
      "cell_type": "markdown",
      "metadata": {
        "id": "FNaxqtNQDjcL"
      },
      "source": [
        "### Построим 95-й и 99-й перцентили количества заказов на пользователя. Выберем границу для определения аномальных пользователей."
      ]
    },
    {
      "cell_type": "code",
      "execution_count": null,
      "metadata": {
        "id": "XA4ygzgpDjcM",
        "outputId": "02d85ac9-3c70-4a95-f2aa-cd213f737133"
      },
      "outputs": [
        {
          "name": "stdout",
          "output_type": "stream",
          "text": [
            "[2. 3. 4.]\n"
          ]
        }
      ],
      "source": [
        "print(np.percentile(orderUser['orders_count'], [95, 97.5, 99]))"
      ]
    },
    {
      "cell_type": "markdown",
      "metadata": {
        "id": "UL_UAfU-DjcN"
      },
      "source": [
        "***ВЫВОД:*** Теперь видно, что большинство пользователей делают 1 или 2 заказа и можно отсекать значения количества заказов, превышающих 3."
      ]
    },
    {
      "cell_type": "markdown",
      "metadata": {
        "id": "Yp1IyQBVDjcO"
      },
      "source": [
        "### Построим точечный график стоимостей заказов c аномальными значениями и без."
      ]
    },
    {
      "cell_type": "code",
      "execution_count": null,
      "metadata": {
        "id": "IH0gtalCDjcO",
        "outputId": "659021c9-4914-4539-8d8a-9c386c68a3b3"
      },
      "outputs": [
        {
          "data": {
            "image/png": "[encoded data removed]",
            "text/plain": [
              "<Figure size 1440x360 with 2 Axes>"
            ]
          },
          "metadata": {
            "needs_background": "light"
          },
          "output_type": "display_data"
        }
      ],
      "source": [
        "# c аномалиями\n",
        "fig = plt.figure(figsize=(20, 5))\n",
        "ax1 = plt.subplot(1, 2, 1)\n",
        "x_values = pd.Series(range(0, len(orders['revenue'])))\n",
        "ax1.scatter(x_values, orders['revenue'])\n",
        "plt.title('График стоимости заказов c аномалиями', fontsize=20)\n",
        "plt.ylabel('Стоимость заказов', fontsize=15)\n",
        "plt.xlabel('Выручка', fontsize=15)\n",
        "plt.xticks(np.arange(min(x_values), max(x_values), 200))\n",
        "plt.xticks(fontsize=15)\n",
        "plt.yticks(fontsize=15)\n",
        "plt.grid()\n",
        "# без аномалий\n",
        "ax2 = plt.subplot(1, 2, 2, sharex=ax1)\n",
        "y_values = orders[orders['revenue'] < 200000]['revenue']\n",
        "x_values = pd.Series(range(0, len(y_values)))\n",
        "ax2.scatter(x_values, y_values)\n",
        "plt.title('График стоимости заказов без аномалий', fontsize=20)\n",
        "plt.ylabel('Стоимость заказов', fontsize=15)\n",
        "plt.xlabel('Выручка', fontsize=15)\n",
        "plt.xticks(fontsize=15)\n",
        "plt.yticks(fontsize=15)\n",
        "plt.grid()\n",
        "plt.show()"
      ]
    },
    {
      "cell_type": "markdown",
      "metadata": {
        "id": "63uD8o1lDjcQ"
      },
      "source": [
        "***ВЫВОД:*** На первом графике видим выявленный ранее аномальный заказ 425 на 1.3 млн и выделяется еще один на 200 тысяч. Из за них мы наблюдали скачки метрик в группе В. Граница отсечения должна быть меньше 200 000."
      ]
    },
    {
      "cell_type": "markdown",
      "metadata": {
        "id": "8sMbspnWDjcR"
      },
      "source": [
        "### Посчитаем 95-й и 99-й перцентили стоимости заказов. Выберем границу для определения аномальных заказов."
      ]
    },
    {
      "cell_type": "code",
      "execution_count": null,
      "metadata": {
        "id": "WHslIMplDjcS",
        "outputId": "400e7a02-e7f0-4df7-90ee-6835351d0fd7"
      },
      "outputs": [
        {
          "name": "stdout",
          "output_type": "stream",
          "text": [
            "[28000.  39530.  58233.2]\n"
          ]
        }
      ],
      "source": [
        "print(np.percentile(orders['revenue'], [95, 97.5, 99]))"
      ]
    },
    {
      "cell_type": "markdown",
      "metadata": {
        "id": "yHWcftdLDjcT"
      },
      "source": [
        "***ВЫВОД:*** Можно отсечь значения количества заказов, превышающих 40000"
      ]
    },
    {
      "cell_type": "markdown",
      "metadata": {
        "id": "mWDN3pxyDjcU"
      },
      "source": [
        "### Посчитаем статистическую значимость различий в среднем количестве заказов на посетителя между группами по «сырым» данным."
      ]
    },
    {
      "cell_type": "code",
      "execution_count": null,
      "metadata": {
        "id": "1nvAZtubDjcU"
      },
      "outputs": [],
      "source": [
        "# Создадим функцию для создания переменнх ordersByUsersA и ordersByUsersB со столбцами ['userId', 'orders']\n",
        "def ordersByUsers(orders):\n",
        "    ordersByUsersA = (\n",
        "        orders[orders['group'] == 'A']\n",
        "        .groupby('visitorId', as_index=False)\n",
        "        .agg({'transactionId': pd.Series.nunique})\n",
        "    )\n",
        "    ordersByUsersA.columns = ['userId', 'orders']\n",
        "\n",
        "    ordersByUsersB = (\n",
        "        orders[orders['group'] == 'B']\n",
        "        .groupby('visitorId', as_index=False)\n",
        "        .agg({'transactionId': pd.Series.nunique})\n",
        "    )\n",
        "    ordersByUsersB.columns = ['userId', 'orders']\n",
        "    return ordersByUsersA, ordersByUsersB\n",
        "\n",
        "# Создадим функцию для проверки гипотез\n",
        "def hypothesis(sampleA, sampleB, alpha=0.05):\n",
        "\n",
        "    p_value = float(\"{0:.3f}\".format(stats.mannwhitneyu(sampleA, sampleB)[1]))\n",
        "\n",
        "    if p_value < alpha:\n",
        "        print('Отвергаем нулевую гипотезу: между долями значимая разница. p_value={}'.format(p_value))\n",
        "    else:\n",
        "        print('Не получилось отвергнуть нулевую гипотезу, нет оснований считать доли разными. p_value={}'.format(p_value))\n",
        "\n",
        "    p_value = float(\"{0:.3f}\".format(sampleB.mean() / sampleA.mean() - 1))\n",
        "\n",
        "    if p_value < alpha:\n",
        "        print('Разница между группой В и группой А меньше уровня значимости. p_value={}'.format(p_value))\n",
        "    else:\n",
        "        print('Разница между группой В и группой А не меньше уровня значимости. p_value={}'.format(p_value))"
      ]
    },
    {
      "cell_type": "markdown",
      "metadata": {
        "id": "zXl90Pt8DjcV"
      },
      "source": [
        "***Нулевая гипотеза:*** Различие в среднем количестве заказов на посетителя между группами по сырым данным не значимо\n",
        "\n",
        "***Альтернативная гипотеза:*** Различие в среднем количестве заказов на посетителя между группами по сырым данным значимо\n",
        "\n",
        "Прмем уровень статитической значимости 0,05"
      ]
    },
    {
      "cell_type": "code",
      "execution_count": null,
      "metadata": {
        "id": "1OmKmQQYDjcW",
        "outputId": "628dc724-0e27-4142-9469-553202cee5ba"
      },
      "outputs": [
        {
          "name": "stdout",
          "output_type": "stream",
          "text": [
            "Отвергаем нулевую гипотезу: между долями значимая разница. p_value=0.017\n",
            "Разница между группой В и группой А не меньше уровня значимости. p_value=0.138\n"
          ]
        }
      ],
      "source": [
        "# создадим переменные ordersByUsersA и ordersByUsersB\n",
        "ordersByUsersA, ordersByUsersB = ordersByUsers(orders)\n",
        "# Объявим переменные sampleA и sampleB, в которых пользователям из разных групп будет соответствовать количество заказов\n",
        "sampleA = pd.concat(\n",
        "    [\n",
        "        ordersByUsersA['orders'],\n",
        "        pd.Series(\n",
        "            0,\n",
        "            index = np.arange(\n",
        "                cumDF[cumDF['group'] == 'A']['visitors'].max() - len(ordersByUsersA['orders'])\n",
        "            ),\n",
        "            name='orders',\n",
        "        ),\n",
        "    ],\n",
        "    axis=0,\n",
        ")\n",
        "\n",
        "sampleB = pd.concat(\n",
        "    [\n",
        "        ordersByUsersB['orders'],\n",
        "        pd.Series(\n",
        "            0,\n",
        "            index = np.arange(\n",
        "                cumDF[cumDF['group'] == 'B']['visitors'].max() - len(ordersByUsersB['orders'])\n",
        "            ),\n",
        "            name='orders',\n",
        "        ),\n",
        "    ],\n",
        "    axis=0,\n",
        ")\n",
        "# Проверим гипотезу\n",
        "hypothesis(sampleA, sampleB)"
      ]
    },
    {
      "cell_type": "markdown",
      "metadata": {
        "id": "XRga1YZUDjcW"
      },
      "source": [
        "***ВЫВОД:*** p_value равен 0.017. Т.к. это меньше заданного уровня значимости, то нулевую гипотезу отвергаем.\n",
        "Значит разница в среднем количестве заказов на посетителя между группами есть и разница на графике почти 14%  не случайность."
      ]
    },
    {
      "cell_type": "markdown",
      "metadata": {
        "id": "dBocfrk6DjcX"
      },
      "source": [
        "### Посчитаем статистическую значимость различий в среднем чеке заказа между группами по «сырым» данным."
      ]
    },
    {
      "cell_type": "markdown",
      "metadata": {
        "id": "Y76Fpt7NDjcY"
      },
      "source": [
        "***Нулевая гипотеза:*** Различие в среднем чеке заказа между группами по сырым данным статистически не значимо\n",
        "\n",
        "***Альтернативная гипотеза:*** Различие в среднем чеке заказа между группами по сырым данным статистически значимо\n",
        "\n",
        "Прмем уровень статитической значимости 0,05"
      ]
    },
    {
      "cell_type": "code",
      "execution_count": null,
      "metadata": {
        "id": "jSR3CRViDjcZ",
        "outputId": "123bdac0-4ee0-4118-86d4-2f53b8e6f8be"
      },
      "outputs": [
        {
          "name": "stdout",
          "output_type": "stream",
          "text": [
            "Не получилось отвергнуть нулевую гипотезу, нет оснований считать доли разными. p_value=0.729\n",
            "Разница между группой В и группой А не меньше уровня значимости. p_value=0.259\n"
          ]
        }
      ],
      "source": [
        "sampleA = orders[orders['group']=='A']['revenue']\n",
        "sampleB = orders[orders['group']=='B']['revenue']\n",
        "\n",
        "hypothesis(sampleA, sampleB)"
      ]
    },
    {
      "cell_type": "markdown",
      "metadata": {
        "id": "tJmgTXMXDjca"
      },
      "source": [
        "***ВЫВОД:*** Здесь не получилось отвергнуть нулевую гипотезу, значит различие в среднем чеке заказа между группами носит случайный характер.\n",
        "Разница между группой В и группой А случайна и составила 0.259."
      ]
    },
    {
      "cell_type": "markdown",
      "metadata": {
        "id": "hKZg0C6uDjca"
      },
      "source": [
        "### Посчитаем статистическую значимость различий в среднем количестве заказов на посетителя между группами по «очищенным» данным."
      ]
    },
    {
      "cell_type": "markdown",
      "metadata": {
        "id": "3PkG98jRDjcb"
      },
      "source": [
        "Сначала подготовим выборки количества заказов по пользователям. Все кто совершил больше 3 заказов или заказы дороже 40000 будем считать аномальными. Узнаем, сколько всего аномальных пользователей атрибутом shape."
      ]
    },
    {
      "cell_type": "code",
      "execution_count": null,
      "metadata": {
        "id": "mQGYF3cdDjcb",
        "outputId": "bde251a7-c36f-4d0c-ae4f-3ce8d565da59"
      },
      "outputs": [
        {
          "name": "stdout",
          "output_type": "stream",
          "text": [
            "1099    148427295\n",
            "18      199603092\n",
            "23      237748145\n",
            "684     358944393\n",
            "648     382846391\n",
            "dtype: int64\n",
            "34\n"
          ]
        }
      ],
      "source": [
        "usersWithManyOrders = pd.concat(\n",
        "    [\n",
        "        ordersByUsersA[ordersByUsersA['orders'] > 3]['userId'],\n",
        "        ordersByUsersB[ordersByUsersB['orders'] > 3]['userId'],\n",
        "    ],\n",
        "    axis=0,\n",
        ")\n",
        "\n",
        "usersWithExpensiveOrders = orders[orders['revenue'] > 40000]['visitorId']\n",
        "\n",
        "abnormalUsers = (\n",
        "    pd.concat([usersWithManyOrders, usersWithExpensiveOrders], axis=0)\n",
        "    .drop_duplicates()\n",
        "    .sort_values()\n",
        ")\n",
        "print(abnormalUsers.head(5))\n",
        "print(abnormalUsers.shape[0])"
      ]
    },
    {
      "cell_type": "markdown",
      "metadata": {
        "id": "6w0Njoe4Djcc"
      },
      "source": [
        "Всего 34 аномальных пользователя.\n",
        "\n",
        "Узнаем, как их действия повлияли на результаты теста. Посчитаем статистическую значимость различий в среднем количестве заказов между группами теста по очищенным данным. Сначала подготовим выборки количества заказов по пользователям по группам теста. Затем вызовем нашу функцию для проверки гипотезы."
      ]
    },
    {
      "cell_type": "code",
      "execution_count": null,
      "metadata": {
        "id": "eZk9IglJDjcc",
        "outputId": "89c2ab88-6a3d-4bdb-cf44-d470cdfbb884"
      },
      "outputs": [
        {
          "name": "stdout",
          "output_type": "stream",
          "text": [
            "Отвергаем нулевую гипотезу: между долями значимая разница. p_value=0.009\n",
            "Разница между группой В и группой А не меньше уровня значимости. p_value=0.164\n"
          ]
        }
      ],
      "source": [
        "sampleAFiltered = pd.concat(\n",
        "    [\n",
        "        ordersByUsersA[\n",
        "            np.logical_not(ordersByUsersA['userId'].isin(abnormalUsers))\n",
        "        ]['orders'],\n",
        "        pd.Series(\n",
        "            0,\n",
        "            index=np.arange(\n",
        "                cumDF[cumDF['group'] == 'A']['visitors'].max() - len(ordersByUsersA['orders'])\n",
        "            ),\n",
        "            name='orders',\n",
        "        ),\n",
        "    ],\n",
        "    axis=0,\n",
        ")\n",
        "\n",
        "sampleBFiltered = pd.concat(\n",
        "    [\n",
        "        ordersByUsersB[\n",
        "            np.logical_not(ordersByUsersB['userId'].isin(abnormalUsers))\n",
        "        ]['orders'],\n",
        "        pd.Series(\n",
        "            0,\n",
        "            index=np.arange(\n",
        "                cumDF[cumDF['group'] == 'B']['visitors'].max() - len(ordersByUsersB['orders'])\n",
        "            ),\n",
        "            name='orders',\n",
        "        ),\n",
        "    ],\n",
        "    axis=0,\n",
        ")\n",
        "\n",
        "hypothesis(sampleAFiltered, sampleBFiltered)"
      ]
    },
    {
      "cell_type": "markdown",
      "metadata": {
        "id": "x48NJx6ADjcd"
      },
      "source": [
        "Результаты по среднему количеству заказов практически не изменились.\n",
        "По очищенным данным p_value уменьшился с 0.017 до 0.009.\n",
        "\n",
        "Относительный прирост группы В к группе А увеличился с 0.138 до 0.164"
      ]
    },
    {
      "cell_type": "markdown",
      "metadata": {
        "id": "V5c_9AIHDjcf"
      },
      "source": [
        "### Посчитаем статистическую значимость различий в среднем чеке заказа между группами по «очищенным» данным."
      ]
    },
    {
      "cell_type": "markdown",
      "metadata": {
        "id": "7tg1rUfsDjcf"
      },
      "source": [
        "Посмотрим произошло ли что-нибудь с результатами по среднему чеку? Подготовим выборки по группам теста."
      ]
    },
    {
      "cell_type": "code",
      "execution_count": null,
      "metadata": {
        "id": "rZsWT6EVDjcg",
        "outputId": "560eb82e-7029-4700-eb44-fa4d4709243e"
      },
      "outputs": [
        {
          "name": "stdout",
          "output_type": "stream",
          "text": [
            "Не получилось отвергнуть нулевую гипотезу, нет оснований считать доли разными. p_value=0.711\n",
            "Разница между группой В и группой А не меньше уровня значимости. p_value=0.06\n"
          ]
        }
      ],
      "source": [
        "sampleAFiltered = orders[\n",
        "    np.logical_not(orders['visitorId'].isin(abnormalUsers)) & (orders['group'] == 'A')\n",
        "]['revenue']\n",
        "\n",
        "sampleBFiltered = orders[\n",
        "    np.logical_not(orders['visitorId'].isin(abnormalUsers)) & (orders['group'] == 'B')\n",
        "]['revenue']\n",
        "\n",
        "hypothesis(sampleAFiltered, sampleBFiltered)"
      ]
    },
    {
      "cell_type": "markdown",
      "metadata": {
        "id": "axMtBwEZDjcg"
      },
      "source": [
        "***ВЫВОД:***\n",
        "P-value уменьшился до 0.711 , был 0.729,\n",
        "Делаем вывод, что статистической разницы меду сырыми и очищенными данными нет. Относительный прирост группы В к группе А уменьшился с 0.259 до 0.06"
      ]
    },
    {
      "cell_type": "markdown",
      "metadata": {
        "id": "7Bk98VRADjch"
      },
      "source": [
        "## Решение по результатам теста."
      ]
    },
    {
      "cell_type": "markdown",
      "metadata": {
        "id": "VzHX9hk3Djci"
      },
      "source": [
        "Имеющиеся факты:\n",
        "- Прибыль растет на протяжении всего периода исследования для обеих групп, но для группы В растет быстрей, кумулятивный средний чек тоже вырос неравномерно.\n",
        "- Среднее количество заказов на посетителя группы В к группе А ниже только вначале со 2.08 по 6.08, а потом резко идет вверх и практически не снижается.\n",
        "- Выявили наличие аномалий в данных: два больших заказа и у некоторых клиентов большое количество заказов.\n",
        "- Расчет статистической значимости  различий в среднем чеке заказа между группами по «очищенным» и \"сырым\" данным показал, что статистической разницы нет. p_value уменьшился с 72.9% до 71.1%. Относительный прирост группы В к группе А уменьшился с 26% до 6%.\n",
        "- Расчет статистической значимости различий в среднем количестве заказов на посетителя между группами по «очищенным» и \"сырым\" данным показал, что аномалии в данных значимо не повлияли на статистическую значимость. По очищенным данным p_value уменьшился с 1.7% до 0.9% Относительный прирост группы В к группе А увеличился с 13.8% до 16.4%\n",
        "\n",
        "Исходя из обнаруженных фактов, тест следует остановить и признать его успешным. Группа B значительно эффективнее группы A."
      ]
    }
  ],
  "metadata": {
    "ExecuteTimeLog": [
      {
        "duration": 1379,
        "start_time": "2023-10-31T08:00:11.510Z"
      },
      {
        "duration": 4,
        "start_time": "2023-10-31T08:00:24.239Z"
      },
      {
        "duration": 3,
        "start_time": "2023-10-31T08:00:52.002Z"
      },
      {
        "duration": 71,
        "start_time": "2023-10-31T08:07:14.558Z"
      },
      {
        "duration": 114,
        "start_time": "2023-10-31T08:07:16.622Z"
      },
      {
        "duration": 67,
        "start_time": "2023-10-31T08:07:18.575Z"
      },
      {
        "duration": 5,
        "start_time": "2023-10-31T08:10:27.408Z"
      },
      {
        "duration": 12,
        "start_time": "2023-10-31T08:10:54.577Z"
      },
      {
        "duration": 10,
        "start_time": "2023-10-31T08:12:43.481Z"
      },
      {
        "duration": 4,
        "start_time": "2023-10-31T08:15:38.062Z"
      },
      {
        "duration": 4,
        "start_time": "2023-10-31T08:16:07.008Z"
      },
      {
        "duration": 11,
        "start_time": "2023-10-31T08:16:27.416Z"
      },
      {
        "duration": 11,
        "start_time": "2023-10-31T08:17:42.425Z"
      },
      {
        "duration": 13,
        "start_time": "2023-10-31T08:21:40.761Z"
      },
      {
        "duration": 9,
        "start_time": "2023-10-31T08:26:23.956Z"
      },
      {
        "duration": 4,
        "start_time": "2023-10-31T08:27:02.343Z"
      },
      {
        "duration": 10,
        "start_time": "2023-10-31T08:27:18.314Z"
      },
      {
        "duration": 7,
        "start_time": "2023-10-31T08:27:37.197Z"
      },
      {
        "duration": 5,
        "start_time": "2023-10-31T08:28:13.675Z"
      },
      {
        "duration": 4,
        "start_time": "2023-10-31T08:30:07.394Z"
      },
      {
        "duration": 8,
        "start_time": "2023-10-31T08:45:59.583Z"
      },
      {
        "duration": 1854,
        "start_time": "2023-10-31T08:46:02.801Z"
      },
      {
        "duration": 6,
        "start_time": "2023-10-31T08:46:36.449Z"
      },
      {
        "duration": 11,
        "start_time": "2023-10-31T08:46:42.985Z"
      },
      {
        "duration": 10,
        "start_time": "2023-10-31T08:46:49.087Z"
      },
      {
        "duration": 4,
        "start_time": "2023-10-31T08:47:37.804Z"
      },
      {
        "duration": 4,
        "start_time": "2023-10-31T08:48:11.525Z"
      },
      {
        "duration": 11,
        "start_time": "2023-10-31T08:48:13.620Z"
      },
      {
        "duration": 3,
        "start_time": "2023-10-31T08:48:32.561Z"
      },
      {
        "duration": 9,
        "start_time": "2023-10-31T08:48:58.593Z"
      },
      {
        "duration": 10,
        "start_time": "2023-10-31T08:49:41.875Z"
      },
      {
        "duration": 10,
        "start_time": "2023-10-31T08:49:50.555Z"
      },
      {
        "duration": 10,
        "start_time": "2023-10-31T08:50:00.218Z"
      },
      {
        "duration": 10,
        "start_time": "2023-10-31T08:51:20.747Z"
      },
      {
        "duration": 10,
        "start_time": "2023-10-31T08:51:27.766Z"
      },
      {
        "duration": 10,
        "start_time": "2023-10-31T09:14:54.965Z"
      },
      {
        "duration": 9,
        "start_time": "2023-10-31T09:15:02.888Z"
      },
      {
        "duration": 9,
        "start_time": "2023-10-31T09:15:08.156Z"
      },
      {
        "duration": 10,
        "start_time": "2023-10-31T09:17:02.769Z"
      },
      {
        "duration": 8,
        "start_time": "2023-10-31T09:45:28.177Z"
      },
      {
        "duration": 10,
        "start_time": "2023-10-31T09:46:26.376Z"
      },
      {
        "duration": 7,
        "start_time": "2023-10-31T09:47:18.398Z"
      },
      {
        "duration": 14,
        "start_time": "2023-10-31T09:48:19.872Z"
      },
      {
        "duration": 15,
        "start_time": "2023-10-31T09:48:53.817Z"
      },
      {
        "duration": 6,
        "start_time": "2023-10-31T09:49:14.253Z"
      },
      {
        "duration": 312,
        "start_time": "2023-10-31T09:50:22.966Z"
      },
      {
        "duration": 281,
        "start_time": "2023-10-31T09:51:09.870Z"
      },
      {
        "duration": 10,
        "start_time": "2023-10-31T09:55:03.262Z"
      },
      {
        "duration": 15,
        "start_time": "2023-10-31T09:55:55.798Z"
      },
      {
        "duration": 81,
        "start_time": "2023-10-31T09:56:39.868Z"
      },
      {
        "duration": 198,
        "start_time": "2023-10-31T09:57:50.621Z"
      },
      {
        "duration": 344,
        "start_time": "2023-10-31T10:00:01.167Z"
      },
      {
        "duration": 9,
        "start_time": "2023-10-31T10:03:11.342Z"
      },
      {
        "duration": 126,
        "start_time": "2023-10-31T10:03:28.124Z"
      },
      {
        "duration": 138,
        "start_time": "2023-10-31T10:03:45.297Z"
      },
      {
        "duration": 5,
        "start_time": "2023-10-31T10:05:00.840Z"
      },
      {
        "duration": 5,
        "start_time": "2023-10-31T10:05:35.050Z"
      },
      {
        "duration": 142,
        "start_time": "2023-10-31T10:07:15.957Z"
      },
      {
        "duration": 188,
        "start_time": "2023-10-31T10:07:54.710Z"
      },
      {
        "duration": 5,
        "start_time": "2023-10-31T10:09:10.941Z"
      },
      {
        "duration": 14,
        "start_time": "2023-10-31T10:19:11.593Z"
      },
      {
        "duration": 2,
        "start_time": "2023-10-31T10:20:37.789Z"
      },
      {
        "duration": 8,
        "start_time": "2023-10-31T10:29:20.515Z"
      },
      {
        "duration": 287,
        "start_time": "2023-10-31T10:47:20.402Z"
      },
      {
        "duration": 289,
        "start_time": "2023-10-31T10:50:12.912Z"
      },
      {
        "duration": 203,
        "start_time": "2023-10-31T10:51:38.430Z"
      },
      {
        "duration": 4,
        "start_time": "2023-10-31T10:52:06.473Z"
      },
      {
        "duration": 277,
        "start_time": "2023-10-31T10:52:21.181Z"
      },
      {
        "duration": 209,
        "start_time": "2023-10-31T10:52:30.849Z"
      },
      {
        "duration": 207,
        "start_time": "2023-10-31T10:52:35.661Z"
      },
      {
        "duration": 189,
        "start_time": "2023-10-31T10:53:05.214Z"
      },
      {
        "duration": 184,
        "start_time": "2023-10-31T11:01:48.513Z"
      },
      {
        "duration": 198,
        "start_time": "2023-10-31T11:01:55.061Z"
      },
      {
        "duration": 327,
        "start_time": "2023-10-31T11:12:24.072Z"
      },
      {
        "duration": 11,
        "start_time": "2023-10-31T11:20:49.016Z"
      },
      {
        "duration": 10,
        "start_time": "2023-10-31T11:21:11.196Z"
      },
      {
        "duration": 9,
        "start_time": "2023-10-31T11:21:22.218Z"
      },
      {
        "duration": 9,
        "start_time": "2023-10-31T11:22:31.797Z"
      },
      {
        "duration": 17,
        "start_time": "2023-10-31T11:23:41.457Z"
      },
      {
        "duration": 15,
        "start_time": "2023-10-31T11:25:45.290Z"
      },
      {
        "duration": 1789,
        "start_time": "2023-10-31T16:57:19.061Z"
      },
      {
        "duration": 205,
        "start_time": "2023-10-31T17:02:07.150Z"
      },
      {
        "duration": 187,
        "start_time": "2023-10-31T17:02:11.229Z"
      },
      {
        "duration": 265,
        "start_time": "2023-10-31T17:02:15.281Z"
      },
      {
        "duration": 15,
        "start_time": "2023-10-31T17:02:21.372Z"
      },
      {
        "duration": 433,
        "start_time": "2023-10-31T17:02:56.339Z"
      },
      {
        "duration": 210,
        "start_time": "2023-10-31T17:03:53.276Z"
      },
      {
        "duration": 10,
        "start_time": "2023-10-31T17:16:38.682Z"
      },
      {
        "duration": 109,
        "start_time": "2023-10-31T17:23:06.989Z"
      },
      {
        "duration": 10,
        "start_time": "2023-10-31T17:23:25.724Z"
      },
      {
        "duration": 127,
        "start_time": "2023-10-31T17:24:06.599Z"
      },
      {
        "duration": 118,
        "start_time": "2023-10-31T17:24:33.618Z"
      },
      {
        "duration": 281,
        "start_time": "2023-10-31T17:24:56.366Z"
      },
      {
        "duration": 136,
        "start_time": "2023-11-01T07:26:58.723Z"
      },
      {
        "duration": 130,
        "start_time": "2023-11-01T07:27:29.940Z"
      },
      {
        "duration": 6,
        "start_time": "2023-11-01T07:31:52.122Z"
      },
      {
        "duration": 5,
        "start_time": "2023-11-01T07:32:16.298Z"
      },
      {
        "duration": 9,
        "start_time": "2023-11-01T07:32:30.590Z"
      },
      {
        "duration": 6,
        "start_time": "2023-11-01T07:32:51.467Z"
      },
      {
        "duration": 12,
        "start_time": "2023-11-01T07:32:54.204Z"
      },
      {
        "duration": 1708,
        "start_time": "2023-11-01T07:34:44.667Z"
      },
      {
        "duration": 7,
        "start_time": "2023-11-01T07:35:38.853Z"
      },
      {
        "duration": 9,
        "start_time": "2023-11-01T07:35:40.671Z"
      },
      {
        "duration": 1684,
        "start_time": "2023-11-01T07:35:46.264Z"
      },
      {
        "duration": 1622,
        "start_time": "2023-11-01T07:38:03.095Z"
      },
      {
        "duration": 170,
        "start_time": "2023-11-01T07:38:28.341Z"
      },
      {
        "duration": 191,
        "start_time": "2023-11-01T07:38:36.677Z"
      },
      {
        "duration": 4,
        "start_time": "2023-11-01T07:42:38.938Z"
      },
      {
        "duration": 4,
        "start_time": "2023-11-01T07:42:42.487Z"
      },
      {
        "duration": 4,
        "start_time": "2023-11-01T07:43:27.210Z"
      },
      {
        "duration": 3,
        "start_time": "2023-11-01T07:43:30.450Z"
      },
      {
        "duration": 4,
        "start_time": "2023-11-01T07:44:49.670Z"
      },
      {
        "duration": 257,
        "start_time": "2023-11-01T07:48:34.521Z"
      },
      {
        "duration": 252,
        "start_time": "2023-11-01T07:49:48.707Z"
      },
      {
        "duration": 5,
        "start_time": "2023-11-01T07:53:39.013Z"
      },
      {
        "duration": 9,
        "start_time": "2023-11-01T09:10:16.609Z"
      },
      {
        "duration": 217,
        "start_time": "2023-11-01T09:13:44.059Z"
      },
      {
        "duration": 159,
        "start_time": "2023-11-01T09:15:10.055Z"
      },
      {
        "duration": 9,
        "start_time": "2023-11-01T09:19:29.405Z"
      },
      {
        "duration": 157,
        "start_time": "2023-11-01T09:25:21.583Z"
      },
      {
        "duration": 10,
        "start_time": "2023-11-01T09:25:26.300Z"
      },
      {
        "duration": 10,
        "start_time": "2023-11-01T09:25:28.862Z"
      },
      {
        "duration": 28,
        "start_time": "2023-11-01T09:25:33.668Z"
      },
      {
        "duration": 13,
        "start_time": "2023-11-01T09:25:35.936Z"
      },
      {
        "duration": 282,
        "start_time": "2023-11-01T12:38:36.156Z"
      },
      {
        "duration": 194,
        "start_time": "2023-11-01T12:45:18.801Z"
      },
      {
        "duration": 88,
        "start_time": "2023-11-01T12:46:20.130Z"
      },
      {
        "duration": 106,
        "start_time": "2023-11-01T12:47:50.174Z"
      },
      {
        "duration": 106,
        "start_time": "2023-11-01T12:48:27.201Z"
      },
      {
        "duration": 1846,
        "start_time": "2023-11-01T12:48:50.109Z"
      },
      {
        "duration": 1975,
        "start_time": "2023-11-01T12:51:43.623Z"
      },
      {
        "duration": 144,
        "start_time": "2023-11-01T12:54:36.658Z"
      },
      {
        "duration": 1565,
        "start_time": "2023-11-02T07:06:45.731Z"
      },
      {
        "duration": 72,
        "start_time": "2023-11-02T07:06:47.299Z"
      },
      {
        "duration": 81,
        "start_time": "2023-11-02T07:06:47.372Z"
      },
      {
        "duration": 53,
        "start_time": "2023-11-02T07:06:47.456Z"
      },
      {
        "duration": 8,
        "start_time": "2023-11-02T07:06:47.511Z"
      },
      {
        "duration": 16,
        "start_time": "2023-11-02T07:06:47.521Z"
      },
      {
        "duration": 38,
        "start_time": "2023-11-02T07:06:47.539Z"
      },
      {
        "duration": 4,
        "start_time": "2023-11-02T07:06:47.579Z"
      },
      {
        "duration": 13,
        "start_time": "2023-11-02T07:06:47.586Z"
      },
      {
        "duration": 16,
        "start_time": "2023-11-02T07:06:47.603Z"
      },
      {
        "duration": 18,
        "start_time": "2023-11-02T07:06:47.622Z"
      },
      {
        "duration": 15,
        "start_time": "2023-11-02T07:06:47.642Z"
      },
      {
        "duration": 24,
        "start_time": "2023-11-02T07:06:47.658Z"
      },
      {
        "duration": 13,
        "start_time": "2023-11-02T07:06:47.684Z"
      },
      {
        "duration": 18,
        "start_time": "2023-11-02T07:06:47.699Z"
      },
      {
        "duration": 29,
        "start_time": "2023-11-02T07:06:47.719Z"
      },
      {
        "duration": 6,
        "start_time": "2023-11-02T07:06:47.750Z"
      },
      {
        "duration": 5,
        "start_time": "2023-11-02T07:06:47.757Z"
      },
      {
        "duration": 15,
        "start_time": "2023-11-02T07:06:47.764Z"
      },
      {
        "duration": 10,
        "start_time": "2023-11-02T07:06:47.781Z"
      },
      {
        "duration": 22,
        "start_time": "2023-11-02T07:06:47.793Z"
      },
      {
        "duration": 30,
        "start_time": "2023-11-02T07:06:47.817Z"
      },
      {
        "duration": 18,
        "start_time": "2023-11-02T07:06:47.849Z"
      },
      {
        "duration": 20,
        "start_time": "2023-11-02T07:06:47.870Z"
      },
      {
        "duration": 413,
        "start_time": "2023-11-02T07:06:47.892Z"
      },
      {
        "duration": 333,
        "start_time": "2023-11-02T07:06:48.308Z"
      },
      {
        "duration": 238,
        "start_time": "2023-11-02T07:06:48.646Z"
      },
      {
        "duration": 421,
        "start_time": "2023-11-02T07:06:48.887Z"
      },
      {
        "duration": 17,
        "start_time": "2023-11-02T07:06:49.311Z"
      },
      {
        "duration": 29,
        "start_time": "2023-11-02T07:06:49.330Z"
      },
      {
        "duration": 300,
        "start_time": "2023-11-02T07:06:49.362Z"
      },
      {
        "duration": 338,
        "start_time": "2023-11-02T07:06:49.665Z"
      },
      {
        "duration": 8,
        "start_time": "2023-11-02T07:06:50.005Z"
      },
      {
        "duration": 53,
        "start_time": "2023-11-02T07:06:50.015Z"
      },
      {
        "duration": 253,
        "start_time": "2023-11-02T07:06:50.071Z"
      },
      {
        "duration": 20,
        "start_time": "2023-11-02T07:06:50.327Z"
      },
      {
        "duration": 362,
        "start_time": "2023-11-02T07:06:50.349Z"
      },
      {
        "duration": 4,
        "start_time": "2023-11-02T07:06:50.713Z"
      },
      {
        "duration": 308,
        "start_time": "2023-11-02T07:06:50.719Z"
      },
      {
        "duration": 0,
        "start_time": "2023-11-02T07:06:51.029Z"
      },
      {
        "duration": 0,
        "start_time": "2023-11-02T07:06:51.031Z"
      },
      {
        "duration": 0,
        "start_time": "2023-11-02T07:06:51.032Z"
      },
      {
        "duration": 0,
        "start_time": "2023-11-02T07:06:51.033Z"
      },
      {
        "duration": 5,
        "start_time": "2023-11-02T07:17:31.364Z"
      },
      {
        "duration": 28,
        "start_time": "2023-11-02T07:17:32.405Z"
      },
      {
        "duration": 39,
        "start_time": "2023-11-02T07:17:32.979Z"
      },
      {
        "duration": 27,
        "start_time": "2023-11-02T07:17:33.517Z"
      },
      {
        "duration": 5,
        "start_time": "2023-11-02T07:17:34.879Z"
      },
      {
        "duration": 14,
        "start_time": "2023-11-02T07:17:35.525Z"
      },
      {
        "duration": 8,
        "start_time": "2023-11-02T07:17:36.447Z"
      },
      {
        "duration": 4,
        "start_time": "2023-11-02T07:17:38.147Z"
      },
      {
        "duration": 4,
        "start_time": "2023-11-02T07:17:39.743Z"
      },
      {
        "duration": 11,
        "start_time": "2023-11-02T07:17:40.565Z"
      },
      {
        "duration": 9,
        "start_time": "2023-11-02T07:17:41.632Z"
      },
      {
        "duration": 6,
        "start_time": "2023-11-02T07:17:42.547Z"
      },
      {
        "duration": 18,
        "start_time": "2023-11-02T07:17:45.375Z"
      },
      {
        "duration": 5,
        "start_time": "2023-11-02T07:17:47.872Z"
      },
      {
        "duration": 10,
        "start_time": "2023-11-02T07:17:48.798Z"
      },
      {
        "duration": 8,
        "start_time": "2023-11-02T07:17:49.615Z"
      },
      {
        "duration": 6,
        "start_time": "2023-11-02T07:17:50.378Z"
      },
      {
        "duration": 4,
        "start_time": "2023-11-02T07:17:51.796Z"
      },
      {
        "duration": 9,
        "start_time": "2023-11-02T07:17:55.090Z"
      },
      {
        "duration": 5,
        "start_time": "2023-11-02T07:17:56.069Z"
      },
      {
        "duration": 13,
        "start_time": "2023-11-02T07:17:57.055Z"
      },
      {
        "duration": 4,
        "start_time": "2023-11-02T07:17:59.477Z"
      },
      {
        "duration": 12,
        "start_time": "2023-11-02T07:18:00.552Z"
      },
      {
        "duration": 12,
        "start_time": "2023-11-02T07:18:05.246Z"
      },
      {
        "duration": 329,
        "start_time": "2023-11-02T07:18:08.546Z"
      },
      {
        "duration": 290,
        "start_time": "2023-11-02T07:18:10.928Z"
      },
      {
        "duration": 213,
        "start_time": "2023-11-02T07:18:16.575Z"
      },
      {
        "duration": 316,
        "start_time": "2023-11-02T07:18:22.408Z"
      },
      {
        "duration": 12,
        "start_time": "2023-11-02T07:18:26.210Z"
      },
      {
        "duration": 16,
        "start_time": "2023-11-02T07:18:28.644Z"
      },
      {
        "duration": 226,
        "start_time": "2023-11-02T07:18:31.597Z"
      },
      {
        "duration": 337,
        "start_time": "2023-11-02T07:18:35.185Z"
      },
      {
        "duration": 7,
        "start_time": "2023-11-02T07:18:39.862Z"
      },
      {
        "duration": 9,
        "start_time": "2023-11-02T07:18:41.203Z"
      },
      {
        "duration": 219,
        "start_time": "2023-11-02T07:18:42.271Z"
      },
      {
        "duration": 5,
        "start_time": "2023-11-02T07:18:46.135Z"
      },
      {
        "duration": 315,
        "start_time": "2023-11-02T07:18:50.259Z"
      },
      {
        "duration": 5,
        "start_time": "2023-11-02T07:18:54.137Z"
      },
      {
        "duration": 184,
        "start_time": "2023-11-02T07:18:58.650Z"
      },
      {
        "duration": 170,
        "start_time": "2023-11-02T07:21:17.449Z"
      },
      {
        "duration": 6,
        "start_time": "2023-11-02T07:22:32.232Z"
      },
      {
        "duration": 7,
        "start_time": "2023-11-02T07:22:42.894Z"
      },
      {
        "duration": 163,
        "start_time": "2023-11-02T07:22:50.613Z"
      },
      {
        "duration": 6,
        "start_time": "2023-11-02T07:28:17.560Z"
      },
      {
        "duration": 7,
        "start_time": "2023-11-02T07:28:22.316Z"
      },
      {
        "duration": 164,
        "start_time": "2023-11-02T07:28:27.185Z"
      },
      {
        "duration": 6,
        "start_time": "2023-11-02T07:29:11.640Z"
      },
      {
        "duration": 219,
        "start_time": "2023-11-02T07:29:18.459Z"
      },
      {
        "duration": 7,
        "start_time": "2023-11-02T07:31:01.389Z"
      },
      {
        "duration": 173,
        "start_time": "2023-11-02T07:31:36.747Z"
      },
      {
        "duration": 7,
        "start_time": "2023-11-02T07:36:54.579Z"
      },
      {
        "duration": 189,
        "start_time": "2023-11-02T07:36:58.491Z"
      },
      {
        "duration": 13,
        "start_time": "2023-11-02T07:39:11.603Z"
      },
      {
        "duration": 13,
        "start_time": "2023-11-02T07:49:42.798Z"
      },
      {
        "duration": 16,
        "start_time": "2023-11-02T07:54:35.428Z"
      },
      {
        "duration": 13,
        "start_time": "2023-11-02T07:55:09.587Z"
      },
      {
        "duration": 33,
        "start_time": "2023-11-02T07:55:19.204Z"
      },
      {
        "duration": 11,
        "start_time": "2023-11-02T08:02:52.243Z"
      },
      {
        "duration": 1220,
        "start_time": "2023-11-02T12:14:46.969Z"
      },
      {
        "duration": 28,
        "start_time": "2023-11-02T12:14:48.191Z"
      },
      {
        "duration": 38,
        "start_time": "2023-11-02T12:14:48.221Z"
      },
      {
        "duration": 16,
        "start_time": "2023-11-02T12:14:48.261Z"
      },
      {
        "duration": 5,
        "start_time": "2023-11-02T12:14:48.278Z"
      },
      {
        "duration": 25,
        "start_time": "2023-11-02T12:14:48.285Z"
      },
      {
        "duration": 15,
        "start_time": "2023-11-02T12:14:48.311Z"
      },
      {
        "duration": 3,
        "start_time": "2023-11-02T12:14:48.328Z"
      },
      {
        "duration": 6,
        "start_time": "2023-11-02T12:14:48.332Z"
      },
      {
        "duration": 16,
        "start_time": "2023-11-02T12:14:48.340Z"
      },
      {
        "duration": 12,
        "start_time": "2023-11-02T12:14:48.358Z"
      },
      {
        "duration": 12,
        "start_time": "2023-11-02T12:14:48.372Z"
      },
      {
        "duration": 15,
        "start_time": "2023-11-02T12:14:48.386Z"
      },
      {
        "duration": 7,
        "start_time": "2023-11-02T12:14:48.403Z"
      },
      {
        "duration": 16,
        "start_time": "2023-11-02T12:14:48.411Z"
      },
      {
        "duration": 19,
        "start_time": "2023-11-02T12:14:48.429Z"
      },
      {
        "duration": 11,
        "start_time": "2023-11-02T12:14:48.449Z"
      },
      {
        "duration": 9,
        "start_time": "2023-11-02T12:14:48.462Z"
      },
      {
        "duration": 10,
        "start_time": "2023-11-02T12:14:48.472Z"
      },
      {
        "duration": 6,
        "start_time": "2023-11-02T12:14:48.484Z"
      },
      {
        "duration": 14,
        "start_time": "2023-11-02T12:14:48.492Z"
      },
      {
        "duration": 22,
        "start_time": "2023-11-02T12:14:48.507Z"
      },
      {
        "duration": 18,
        "start_time": "2023-11-02T12:14:48.530Z"
      },
      {
        "duration": 20,
        "start_time": "2023-11-02T12:14:48.549Z"
      },
      {
        "duration": 332,
        "start_time": "2023-11-02T12:14:48.570Z"
      },
      {
        "duration": 329,
        "start_time": "2023-11-02T12:14:48.903Z"
      },
      {
        "duration": 216,
        "start_time": "2023-11-02T12:14:49.234Z"
      },
      {
        "duration": 323,
        "start_time": "2023-11-02T12:14:49.454Z"
      },
      {
        "duration": 13,
        "start_time": "2023-11-02T12:14:49.779Z"
      },
      {
        "duration": 18,
        "start_time": "2023-11-02T12:14:49.793Z"
      },
      {
        "duration": 275,
        "start_time": "2023-11-02T12:14:49.813Z"
      },
      {
        "duration": 337,
        "start_time": "2023-11-02T12:14:50.090Z"
      },
      {
        "duration": 7,
        "start_time": "2023-11-02T12:14:50.428Z"
      },
      {
        "duration": 19,
        "start_time": "2023-11-02T12:14:50.446Z"
      },
      {
        "duration": 235,
        "start_time": "2023-11-02T12:14:50.467Z"
      },
      {
        "duration": 4,
        "start_time": "2023-11-02T12:14:50.704Z"
      },
      {
        "duration": 318,
        "start_time": "2023-11-02T12:14:50.709Z"
      },
      {
        "duration": 5,
        "start_time": "2023-11-02T12:14:51.029Z"
      },
      {
        "duration": 16,
        "start_time": "2023-11-02T12:14:51.035Z"
      },
      {
        "duration": 183,
        "start_time": "2023-11-02T12:14:51.053Z"
      },
      {
        "duration": 15,
        "start_time": "2023-11-02T12:14:51.238Z"
      },
      {
        "duration": 17,
        "start_time": "2023-11-02T12:14:51.255Z"
      },
      {
        "duration": 35,
        "start_time": "2023-11-02T12:14:51.274Z"
      },
      {
        "duration": 24,
        "start_time": "2023-11-02T12:14:51.310Z"
      },
      {
        "duration": 66,
        "start_time": "2023-11-02T15:27:41.590Z"
      },
      {
        "duration": 5,
        "start_time": "2023-11-02T15:27:52.810Z"
      },
      {
        "duration": 1298,
        "start_time": "2023-11-02T15:28:08.272Z"
      },
      {
        "duration": 62,
        "start_time": "2023-11-02T15:28:09.572Z"
      },
      {
        "duration": 82,
        "start_time": "2023-11-02T15:28:09.635Z"
      },
      {
        "duration": 62,
        "start_time": "2023-11-02T15:28:09.719Z"
      },
      {
        "duration": 5,
        "start_time": "2023-11-02T15:28:09.784Z"
      },
      {
        "duration": 33,
        "start_time": "2023-11-02T15:28:09.790Z"
      },
      {
        "duration": 45,
        "start_time": "2023-11-02T15:28:09.824Z"
      },
      {
        "duration": 17,
        "start_time": "2023-11-02T15:28:09.871Z"
      },
      {
        "duration": 39,
        "start_time": "2023-11-02T15:28:09.889Z"
      },
      {
        "duration": 47,
        "start_time": "2023-11-02T15:28:09.929Z"
      },
      {
        "duration": 28,
        "start_time": "2023-11-02T15:28:09.978Z"
      },
      {
        "duration": 57,
        "start_time": "2023-11-02T15:28:10.008Z"
      },
      {
        "duration": 55,
        "start_time": "2023-11-02T15:28:10.066Z"
      },
      {
        "duration": 42,
        "start_time": "2023-11-02T15:28:10.124Z"
      },
      {
        "duration": 40,
        "start_time": "2023-11-02T15:28:10.167Z"
      },
      {
        "duration": 58,
        "start_time": "2023-11-02T15:28:10.209Z"
      },
      {
        "duration": 34,
        "start_time": "2023-11-02T15:28:10.268Z"
      },
      {
        "duration": 26,
        "start_time": "2023-11-02T15:28:10.304Z"
      },
      {
        "duration": 58,
        "start_time": "2023-11-02T15:28:10.332Z"
      },
      {
        "duration": 44,
        "start_time": "2023-11-02T15:28:10.391Z"
      },
      {
        "duration": 57,
        "start_time": "2023-11-02T15:28:10.436Z"
      },
      {
        "duration": 39,
        "start_time": "2023-11-02T15:28:10.494Z"
      },
      {
        "duration": 35,
        "start_time": "2023-11-02T15:28:10.534Z"
      },
      {
        "duration": 34,
        "start_time": "2023-11-02T15:28:10.571Z"
      },
      {
        "duration": 59,
        "start_time": "2023-11-02T15:28:10.606Z"
      },
      {
        "duration": 323,
        "start_time": "2023-11-02T15:28:10.667Z"
      },
      {
        "duration": 294,
        "start_time": "2023-11-02T15:28:10.991Z"
      },
      {
        "duration": 202,
        "start_time": "2023-11-02T15:28:11.286Z"
      },
      {
        "duration": 325,
        "start_time": "2023-11-02T15:28:11.490Z"
      },
      {
        "duration": 46,
        "start_time": "2023-11-02T15:28:11.817Z"
      },
      {
        "duration": 20,
        "start_time": "2023-11-02T15:28:11.865Z"
      },
      {
        "duration": 227,
        "start_time": "2023-11-02T15:28:11.886Z"
      },
      {
        "duration": 356,
        "start_time": "2023-11-02T15:28:12.115Z"
      },
      {
        "duration": 8,
        "start_time": "2023-11-02T15:28:12.473Z"
      },
      {
        "duration": 17,
        "start_time": "2023-11-02T15:28:12.483Z"
      },
      {
        "duration": 246,
        "start_time": "2023-11-02T15:28:12.502Z"
      },
      {
        "duration": 11,
        "start_time": "2023-11-02T15:28:12.749Z"
      },
      {
        "duration": 301,
        "start_time": "2023-11-02T15:28:12.763Z"
      },
      {
        "duration": 7,
        "start_time": "2023-11-02T15:28:13.065Z"
      },
      {
        "duration": 5,
        "start_time": "2023-11-02T15:28:13.074Z"
      },
      {
        "duration": 203,
        "start_time": "2023-11-02T15:28:13.082Z"
      },
      {
        "duration": 9,
        "start_time": "2023-11-02T15:28:13.286Z"
      },
      {
        "duration": 9,
        "start_time": "2023-11-02T15:28:13.296Z"
      },
      {
        "duration": 54,
        "start_time": "2023-11-02T15:28:13.306Z"
      },
      {
        "duration": 9,
        "start_time": "2023-11-02T15:28:13.362Z"
      },
      {
        "duration": 10,
        "start_time": "2023-11-02T15:29:02.705Z"
      },
      {
        "duration": 17,
        "start_time": "2023-11-02T15:30:08.854Z"
      },
      {
        "duration": 7,
        "start_time": "2023-11-02T15:31:46.589Z"
      },
      {
        "duration": 12,
        "start_time": "2023-11-02T15:33:45.216Z"
      },
      {
        "duration": 4,
        "start_time": "2023-11-02T15:37:52.927Z"
      },
      {
        "duration": 3,
        "start_time": "2023-11-02T15:39:07.301Z"
      },
      {
        "duration": 126,
        "start_time": "2023-11-02T15:40:32.698Z"
      },
      {
        "duration": 9,
        "start_time": "2023-11-02T15:43:48.512Z"
      },
      {
        "duration": 3,
        "start_time": "2023-11-02T15:45:15.382Z"
      },
      {
        "duration": 7,
        "start_time": "2023-11-02T15:45:20.425Z"
      },
      {
        "duration": 4,
        "start_time": "2023-11-02T15:45:27.594Z"
      },
      {
        "duration": 103,
        "start_time": "2023-11-02T15:55:38.042Z"
      },
      {
        "duration": 230,
        "start_time": "2023-11-02T15:59:15.403Z"
      },
      {
        "duration": 262,
        "start_time": "2023-11-02T15:59:49.757Z"
      },
      {
        "duration": 230,
        "start_time": "2023-11-02T16:00:00.622Z"
      },
      {
        "duration": 205,
        "start_time": "2023-11-02T16:00:58.093Z"
      },
      {
        "duration": 273,
        "start_time": "2023-11-02T16:02:10.482Z"
      },
      {
        "duration": 318,
        "start_time": "2023-11-02T16:02:21.526Z"
      },
      {
        "duration": 301,
        "start_time": "2023-11-02T16:02:27.749Z"
      },
      {
        "duration": 207,
        "start_time": "2023-11-02T16:02:39.583Z"
      },
      {
        "duration": 238,
        "start_time": "2023-11-02T16:02:49.846Z"
      },
      {
        "duration": 236,
        "start_time": "2023-11-02T16:05:09.318Z"
      },
      {
        "duration": 234,
        "start_time": "2023-11-02T16:05:15.901Z"
      },
      {
        "duration": 315,
        "start_time": "2023-11-02T16:07:07.855Z"
      },
      {
        "duration": 1159,
        "start_time": "2023-11-02T16:09:25.867Z"
      },
      {
        "duration": 31,
        "start_time": "2023-11-02T16:09:27.028Z"
      },
      {
        "duration": 38,
        "start_time": "2023-11-02T16:09:27.060Z"
      },
      {
        "duration": 15,
        "start_time": "2023-11-02T16:09:27.100Z"
      },
      {
        "duration": 5,
        "start_time": "2023-11-02T16:09:27.116Z"
      },
      {
        "duration": 12,
        "start_time": "2023-11-02T16:09:27.122Z"
      },
      {
        "duration": 20,
        "start_time": "2023-11-02T16:09:27.135Z"
      },
      {
        "duration": 3,
        "start_time": "2023-11-02T16:09:27.156Z"
      },
      {
        "duration": 4,
        "start_time": "2023-11-02T16:09:27.161Z"
      },
      {
        "duration": 11,
        "start_time": "2023-11-02T16:09:27.167Z"
      },
      {
        "duration": 10,
        "start_time": "2023-11-02T16:09:27.179Z"
      },
      {
        "duration": 7,
        "start_time": "2023-11-02T16:09:27.190Z"
      },
      {
        "duration": 12,
        "start_time": "2023-11-02T16:09:27.199Z"
      },
      {
        "duration": 5,
        "start_time": "2023-11-02T16:09:27.212Z"
      },
      {
        "duration": 35,
        "start_time": "2023-11-02T16:09:27.218Z"
      },
      {
        "duration": 7,
        "start_time": "2023-11-02T16:09:27.255Z"
      },
      {
        "duration": 7,
        "start_time": "2023-11-02T16:09:27.263Z"
      },
      {
        "duration": 3,
        "start_time": "2023-11-02T16:09:27.271Z"
      },
      {
        "duration": 9,
        "start_time": "2023-11-02T16:09:27.276Z"
      },
      {
        "duration": 13,
        "start_time": "2023-11-02T16:09:27.286Z"
      },
      {
        "duration": 3,
        "start_time": "2023-11-02T16:09:27.301Z"
      },
      {
        "duration": 7,
        "start_time": "2023-11-02T16:09:27.348Z"
      },
      {
        "duration": 5,
        "start_time": "2023-11-02T16:09:27.356Z"
      },
      {
        "duration": 10,
        "start_time": "2023-11-02T16:09:27.362Z"
      },
      {
        "duration": 6,
        "start_time": "2023-11-02T16:09:27.374Z"
      },
      {
        "duration": 10,
        "start_time": "2023-11-02T16:09:27.382Z"
      },
      {
        "duration": 5,
        "start_time": "2023-11-02T16:09:27.393Z"
      },
      {
        "duration": 9,
        "start_time": "2023-11-02T16:09:27.401Z"
      },
      {
        "duration": 42,
        "start_time": "2023-11-02T16:09:27.411Z"
      },
      {
        "duration": 305,
        "start_time": "2023-11-02T16:09:27.455Z"
      },
      {
        "duration": 300,
        "start_time": "2023-11-02T16:09:27.761Z"
      },
      {
        "duration": 213,
        "start_time": "2023-11-02T16:09:28.062Z"
      },
      {
        "duration": 296,
        "start_time": "2023-11-02T16:09:28.276Z"
      },
      {
        "duration": 10,
        "start_time": "2023-11-02T16:09:28.573Z"
      },
      {
        "duration": 23,
        "start_time": "2023-11-02T16:09:28.584Z"
      },
      {
        "duration": 224,
        "start_time": "2023-11-02T16:09:28.608Z"
      },
      {
        "duration": 317,
        "start_time": "2023-11-02T16:09:28.833Z"
      },
      {
        "duration": 7,
        "start_time": "2023-11-02T16:09:29.151Z"
      },
      {
        "duration": 9,
        "start_time": "2023-11-02T16:09:29.160Z"
      },
      {
        "duration": 203,
        "start_time": "2023-11-02T16:09:29.170Z"
      },
      {
        "duration": 3,
        "start_time": "2023-11-02T16:09:29.375Z"
      },
      {
        "duration": 276,
        "start_time": "2023-11-02T16:09:29.379Z"
      },
      {
        "duration": 4,
        "start_time": "2023-11-02T16:09:29.656Z"
      },
      {
        "duration": 11,
        "start_time": "2023-11-02T16:09:29.661Z"
      },
      {
        "duration": 175,
        "start_time": "2023-11-02T16:09:29.673Z"
      },
      {
        "duration": 11,
        "start_time": "2023-11-02T16:09:29.849Z"
      },
      {
        "duration": 8,
        "start_time": "2023-11-02T16:09:29.861Z"
      },
      {
        "duration": 34,
        "start_time": "2023-11-02T16:09:29.871Z"
      },
      {
        "duration": 8,
        "start_time": "2023-11-02T16:09:29.906Z"
      }
    ],
    "kernelspec": {
      "display_name": "Python 3 (ipykernel)",
      "language": "python",
      "name": "python3"
    },
    "language_info": {
      "codemirror_mode": {
        "name": "ipython",
        "version": 3
      },
      "file_extension": ".py",
      "mimetype": "text/x-python",
      "name": "python",
      "nbconvert_exporter": "python",
      "pygments_lexer": "ipython3",
      "version": "3.9.5"
    },
    "toc": {
      "base_numbering": 1,
      "nav_menu": {
        "height": "194.99px",
        "width": "269.979px"
      },
      "number_sections": true,
      "sideBar": true,
      "skip_h1_title": true,
      "title_cell": "Table of Contents",
      "title_sidebar": "Contents",
      "toc_cell": false,
      "toc_position": {
        "height": "331.328px",
        "left": "373.997px",
        "top": "281.536px",
        "width": "289.31px"
      },
      "toc_section_display": true,
      "toc_window_display": false
    },
    "colab": {
      "provenance": [],
      "toc_visible": true
    }
  },
  "nbformat": 4,
  "nbformat_minor": 0
}