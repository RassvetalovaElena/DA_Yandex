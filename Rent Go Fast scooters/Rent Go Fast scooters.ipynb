{
  "cells": [
    {
      "cell_type": "markdown",
      "id": "63dbcfde",
      "metadata": {
        "id": "63dbcfde"
      },
      "source": [
        "# Аренда самокатов GoFast"
      ]
    },
    {
      "cell_type": "markdown",
      "id": "76c32ef4",
      "metadata": {
        "id": "76c32ef4"
      },
      "source": [
        "Нам передали данные о некоторых пользователях из нескольких городов, а также об их поездках. Проанализируем данные и проверим некоторые гипотезы, которые могут помочь бизнесу вырасти.\n",
        "Чтобы совершать поездки по городу, пользователи сервиса GoFast пользуются мобильным приложением. Сервисом можно пользоваться:\n",
        "без подписки\n",
        "абонентская плата отсутствует;\n",
        "стоимость одной минуты поездки —\n",
        "8 рублей;\n",
        "стоимость старта (начала поездки) —\n",
        "50 рублей;\n",
        "с подпиской Ultra\n",
        "абонентская плата —\n",
        "199 рублей в месяц;\n",
        "стоимость одной минуты поездки —\n",
        "6 рублей;\n",
        "стоимость старта — бесплатно.\n",
        "\n",
        "**Цель исследования** — проверим четыре гипотезы:\n",
        "1. Тратят ли пользователи с подпиской больше времени на поездки? Если да, то пользователи с подпиской могут быть «выгоднее» для компании.\n",
        "2. Расстояние одной поездки в 3130 метров — оптимальное с точки зрения износа самоката. Можно ли сказать, что расстояние, которое проезжают пользователи с подпиской за одну поездку, не превышает 3130 метров? .\n",
        "3. Будет ли помесячная выручка от пользователей с подпиской по месяцам выше, чем выручка от пользователей без подписки.\n",
        "4. Представьте такую ситуацию: техническая команда сервиса обновила сервера, с которыми взаимодействует мобильное приложение. Она надеется, что из-за этого количество обращений в техподдержку значимо снизилось.\n",
        "\n",
        "**Ход исследования**\n",
        "\n",
        "В основных данных есть информация о пользователях, их поездках и подписках.\n",
        "Пользователи — users_go.csv Поездки — rides_go.csv Подписки — subscriptions_go.csv\n",
        "\n",
        "Мы проверим данные на ошибки и оценим их влияние на исследование. Затем, проведем предобработку, исследовательский анализ и проверим гипотезы."
      ]
    },
    {
      "cell_type": "code",
      "execution_count": null,
      "id": "72576667",
      "metadata": {
        "id": "72576667"
      },
      "outputs": [],
      "source": [
        "import pandas as pd\n",
        "import matplotlib.pyplot as plt\n",
        "import seaborn as sns\n",
        "import numpy as np\n",
        "from scipy import stats as st\n",
        "import warnings\n",
        "warnings.filterwarnings(\"ignore\")\n",
        "from scipy.stats import binom\n",
        "from math import sqrt"
      ]
    },
    {
      "cell_type": "markdown",
      "id": "c42cbe00",
      "metadata": {
        "id": "c42cbe00"
      },
      "source": [
        "#### Шаг 1. Загрузка данных"
      ]
    },
    {
      "cell_type": "markdown",
      "id": "ba028cc3",
      "metadata": {
        "id": "ba028cc3"
      },
      "source": [
        "1.1 Считайте CSV-файлы с данными с помощью библиотеки pandas и сохраните их в датафреймы."
      ]
    },
    {
      "cell_type": "code",
      "execution_count": null,
      "id": "eff9f206",
      "metadata": {
        "id": "eff9f206"
      },
      "outputs": [],
      "source": [
        "try:\n",
        "  # смотрим есть ли локально файл\n",
        "  df_user = pd.read_csv('/datasets/users_go.csv', sep=',')\n",
        "except:\n",
        "  # если же его нет\n",
        "  df_user = pd.read_csv('users_go.csv', sep=',')\n",
        "try:\n",
        "  # смотрим есть ли локально файл\n",
        "  df_rides = pd.read_csv('/datasets/rides_go.csv', sep=',')\n",
        "except:\n",
        "  # если же его нет\n",
        "  df_rides = pd.read_csv('rides_go.csv', sep=',')\n",
        "try:\n",
        "  # смотрим есть ли локально файл\n",
        "  df_sub = pd.read_csv('/datasets/subscriptions_go.csv', sep=',')\n",
        "except:\n",
        "  # если же его нет\n",
        "  df_sub = pd.read_csv('subscriptions_go.csv', sep=',')"
      ]
    },
    {
      "cell_type": "markdown",
      "id": "ef0d4315",
      "metadata": {
        "id": "ef0d4315"
      },
      "source": [
        "1.2 Выведите первые строки каждого набора данных. Изучите общую информацию о каждом датафрейме."
      ]
    },
    {
      "cell_type": "code",
      "execution_count": null,
      "id": "c42f9a39",
      "metadata": {
        "id": "c42f9a39",
        "outputId": "312a5ddc-5762-4a69-a610-914c1940b369"
      },
      "outputs": [
        {
          "data": {
            "text/html": [
              "<div>\n",
              "<style scoped>\n",
              "    .dataframe tbody tr th:only-of-type {\n",
              "        vertical-align: middle;\n",
              "    }\n",
              "\n",
              "    .dataframe tbody tr th {\n",
              "        vertical-align: top;\n",
              "    }\n",
              "\n",
              "    .dataframe thead th {\n",
              "        text-align: right;\n",
              "    }\n",
              "</style>\n",
              "<table border=\"1\" class=\"dataframe\">\n",
              "  <thead>\n",
              "    <tr style=\"text-align: right;\">\n",
              "      <th></th>\n",
              "      <th>user_id</th>\n",
              "      <th>name</th>\n",
              "      <th>age</th>\n",
              "      <th>city</th>\n",
              "      <th>subscription_type</th>\n",
              "    </tr>\n",
              "  </thead>\n",
              "  <tbody>\n",
              "    <tr>\n",
              "      <th>0</th>\n",
              "      <td>1</td>\n",
              "      <td>Кира</td>\n",
              "      <td>22</td>\n",
              "      <td>Тюмень</td>\n",
              "      <td>ultra</td>\n",
              "    </tr>\n",
              "    <tr>\n",
              "      <th>1</th>\n",
              "      <td>2</td>\n",
              "      <td>Станислав</td>\n",
              "      <td>31</td>\n",
              "      <td>Омск</td>\n",
              "      <td>ultra</td>\n",
              "    </tr>\n",
              "    <tr>\n",
              "      <th>2</th>\n",
              "      <td>3</td>\n",
              "      <td>Алексей</td>\n",
              "      <td>20</td>\n",
              "      <td>Москва</td>\n",
              "      <td>ultra</td>\n",
              "    </tr>\n",
              "    <tr>\n",
              "      <th>3</th>\n",
              "      <td>4</td>\n",
              "      <td>Константин</td>\n",
              "      <td>26</td>\n",
              "      <td>Ростов-на-Дону</td>\n",
              "      <td>ultra</td>\n",
              "    </tr>\n",
              "    <tr>\n",
              "      <th>4</th>\n",
              "      <td>5</td>\n",
              "      <td>Адель</td>\n",
              "      <td>28</td>\n",
              "      <td>Омск</td>\n",
              "      <td>ultra</td>\n",
              "    </tr>\n",
              "  </tbody>\n",
              "</table>\n",
              "</div>"
            ],
            "text/plain": [
              "   user_id        name  age            city subscription_type\n",
              "0        1        Кира   22          Тюмень             ultra\n",
              "1        2   Станислав   31            Омск             ultra\n",
              "2        3     Алексей   20          Москва             ultra\n",
              "3        4  Константин   26  Ростов-на-Дону             ultra\n",
              "4        5       Адель   28            Омск             ultra"
            ]
          },
          "execution_count": 3,
          "metadata": {},
          "output_type": "execute_result"
        }
      ],
      "source": [
        "#pd.set_option('display.max_columns', None)\n",
        "df_user.head()"
      ]
    },
    {
      "cell_type": "code",
      "execution_count": null,
      "id": "2d174aa0",
      "metadata": {
        "id": "2d174aa0",
        "outputId": "439b93d8-4ceb-4731-f711-d6896fb5d032"
      },
      "outputs": [
        {
          "name": "stdout",
          "output_type": "stream",
          "text": [
            "<class 'pandas.core.frame.DataFrame'>\n",
            "RangeIndex: 1565 entries, 0 to 1564\n",
            "Data columns (total 5 columns):\n",
            " #   Column             Non-Null Count  Dtype \n",
            "---  ------             --------------  ----- \n",
            " 0   user_id            1565 non-null   int64 \n",
            " 1   name               1565 non-null   object\n",
            " 2   age                1565 non-null   int64 \n",
            " 3   city               1565 non-null   object\n",
            " 4   subscription_type  1565 non-null   object\n",
            "dtypes: int64(2), object(3)\n",
            "memory usage: 61.3+ KB\n"
          ]
        }
      ],
      "source": [
        "df_user.info()"
      ]
    },
    {
      "cell_type": "markdown",
      "id": "17c173bd",
      "metadata": {
        "id": "17c173bd"
      },
      "source": [
        "В таблице пользователей все хорошо. Типы данных соответствуют, пропусков нет."
      ]
    },
    {
      "cell_type": "code",
      "execution_count": null,
      "id": "e4282f13",
      "metadata": {
        "id": "e4282f13",
        "outputId": "808e7255-3c99-4b38-bcc4-1a9914e2efd7"
      },
      "outputs": [
        {
          "data": {
            "text/html": [
              "<div>\n",
              "<style scoped>\n",
              "    .dataframe tbody tr th:only-of-type {\n",
              "        vertical-align: middle;\n",
              "    }\n",
              "\n",
              "    .dataframe tbody tr th {\n",
              "        vertical-align: top;\n",
              "    }\n",
              "\n",
              "    .dataframe thead th {\n",
              "        text-align: right;\n",
              "    }\n",
              "</style>\n",
              "<table border=\"1\" class=\"dataframe\">\n",
              "  <thead>\n",
              "    <tr style=\"text-align: right;\">\n",
              "      <th></th>\n",
              "      <th>user_id</th>\n",
              "      <th>distance</th>\n",
              "      <th>duration</th>\n",
              "      <th>date</th>\n",
              "    </tr>\n",
              "  </thead>\n",
              "  <tbody>\n",
              "    <tr>\n",
              "      <th>0</th>\n",
              "      <td>1</td>\n",
              "      <td>4409.919140</td>\n",
              "      <td>25.599769</td>\n",
              "      <td>2021-01-01</td>\n",
              "    </tr>\n",
              "    <tr>\n",
              "      <th>1</th>\n",
              "      <td>1</td>\n",
              "      <td>2617.592153</td>\n",
              "      <td>15.816871</td>\n",
              "      <td>2021-01-18</td>\n",
              "    </tr>\n",
              "    <tr>\n",
              "      <th>2</th>\n",
              "      <td>1</td>\n",
              "      <td>754.159807</td>\n",
              "      <td>6.232113</td>\n",
              "      <td>2021-04-20</td>\n",
              "    </tr>\n",
              "    <tr>\n",
              "      <th>3</th>\n",
              "      <td>1</td>\n",
              "      <td>2694.783254</td>\n",
              "      <td>18.511000</td>\n",
              "      <td>2021-08-11</td>\n",
              "    </tr>\n",
              "    <tr>\n",
              "      <th>4</th>\n",
              "      <td>1</td>\n",
              "      <td>4028.687306</td>\n",
              "      <td>26.265803</td>\n",
              "      <td>2021-08-28</td>\n",
              "    </tr>\n",
              "  </tbody>\n",
              "</table>\n",
              "</div>"
            ],
            "text/plain": [
              "   user_id     distance   duration        date\n",
              "0        1  4409.919140  25.599769  2021-01-01\n",
              "1        1  2617.592153  15.816871  2021-01-18\n",
              "2        1   754.159807   6.232113  2021-04-20\n",
              "3        1  2694.783254  18.511000  2021-08-11\n",
              "4        1  4028.687306  26.265803  2021-08-28"
            ]
          },
          "execution_count": 5,
          "metadata": {},
          "output_type": "execute_result"
        }
      ],
      "source": [
        "df_rides.head()"
      ]
    },
    {
      "cell_type": "code",
      "execution_count": null,
      "id": "57fd8f2f",
      "metadata": {
        "id": "57fd8f2f",
        "outputId": "5a36b9c1-9b09-4f5a-8cd8-19ab45013cd2"
      },
      "outputs": [
        {
          "name": "stdout",
          "output_type": "stream",
          "text": [
            "<class 'pandas.core.frame.DataFrame'>\n",
            "RangeIndex: 18068 entries, 0 to 18067\n",
            "Data columns (total 4 columns):\n",
            " #   Column    Non-Null Count  Dtype  \n",
            "---  ------    --------------  -----  \n",
            " 0   user_id   18068 non-null  int64  \n",
            " 1   distance  18068 non-null  float64\n",
            " 2   duration  18068 non-null  float64\n",
            " 3   date      18068 non-null  object \n",
            "dtypes: float64(2), int64(1), object(1)\n",
            "memory usage: 564.8+ KB\n"
          ]
        }
      ],
      "source": [
        "df_rides.info()"
      ]
    },
    {
      "cell_type": "markdown",
      "id": "de9680fd",
      "metadata": {
        "id": "de9680fd"
      },
      "source": [
        "В таблице поездки не соотвтетствует тип данных поля date. Нужно  будет преобразовать в тип Date. Пропусков нет."
      ]
    },
    {
      "cell_type": "code",
      "execution_count": null,
      "id": "084a7809",
      "metadata": {
        "id": "084a7809",
        "outputId": "c49c3bbb-582f-4eea-c7f2-4c406c649bd2"
      },
      "outputs": [
        {
          "data": {
            "text/html": [
              "<div>\n",
              "<style scoped>\n",
              "    .dataframe tbody tr th:only-of-type {\n",
              "        vertical-align: middle;\n",
              "    }\n",
              "\n",
              "    .dataframe tbody tr th {\n",
              "        vertical-align: top;\n",
              "    }\n",
              "\n",
              "    .dataframe thead th {\n",
              "        text-align: right;\n",
              "    }\n",
              "</style>\n",
              "<table border=\"1\" class=\"dataframe\">\n",
              "  <thead>\n",
              "    <tr style=\"text-align: right;\">\n",
              "      <th></th>\n",
              "      <th>subscription_type</th>\n",
              "      <th>minute_price</th>\n",
              "      <th>start_ride_price</th>\n",
              "      <th>subscription_fee</th>\n",
              "    </tr>\n",
              "  </thead>\n",
              "  <tbody>\n",
              "    <tr>\n",
              "      <th>0</th>\n",
              "      <td>free</td>\n",
              "      <td>8</td>\n",
              "      <td>50</td>\n",
              "      <td>0</td>\n",
              "    </tr>\n",
              "    <tr>\n",
              "      <th>1</th>\n",
              "      <td>ultra</td>\n",
              "      <td>6</td>\n",
              "      <td>0</td>\n",
              "      <td>199</td>\n",
              "    </tr>\n",
              "  </tbody>\n",
              "</table>\n",
              "</div>"
            ],
            "text/plain": [
              "  subscription_type  minute_price  start_ride_price  subscription_fee\n",
              "0              free             8                50                 0\n",
              "1             ultra             6                 0               199"
            ]
          },
          "execution_count": 7,
          "metadata": {},
          "output_type": "execute_result"
        }
      ],
      "source": [
        "df_sub.head()"
      ]
    },
    {
      "cell_type": "code",
      "execution_count": null,
      "id": "6b2da3f4",
      "metadata": {
        "id": "6b2da3f4",
        "outputId": "679f8ddd-610d-4140-e8bc-4bab4771a070"
      },
      "outputs": [
        {
          "name": "stdout",
          "output_type": "stream",
          "text": [
            "<class 'pandas.core.frame.DataFrame'>\n",
            "RangeIndex: 2 entries, 0 to 1\n",
            "Data columns (total 4 columns):\n",
            " #   Column             Non-Null Count  Dtype \n",
            "---  ------             --------------  ----- \n",
            " 0   subscription_type  2 non-null      object\n",
            " 1   minute_price       2 non-null      int64 \n",
            " 2   start_ride_price   2 non-null      int64 \n",
            " 3   subscription_fee   2 non-null      int64 \n",
            "dtypes: int64(3), object(1)\n",
            "memory usage: 192.0+ bytes\n"
          ]
        }
      ],
      "source": [
        "df_sub.info()"
      ]
    },
    {
      "cell_type": "markdown",
      "id": "222e81db",
      "metadata": {
        "id": "222e81db"
      },
      "source": [
        "В данной таблице тоже все в порядке."
      ]
    },
    {
      "cell_type": "markdown",
      "id": "3be8796b",
      "metadata": {
        "id": "3be8796b"
      },
      "source": [
        "Изучив общую информацию заметила, что в датафреймы не очень большие, самый большой - о поздках, там 18068 записей. Все типы данных полей соответствуют, кроме датафрейма df_rides, поле date необходимо перевести в формат datetime. Пропусков в данных вообще не обнаружила. С именами полей тоже все в порядке."
      ]
    },
    {
      "cell_type": "markdown",
      "id": "e95ebca7",
      "metadata": {
        "id": "e95ebca7"
      },
      "source": [
        "#### Шаг 2. Предобработка данных"
      ]
    },
    {
      "cell_type": "markdown",
      "id": "de77bb44",
      "metadata": {
        "id": "de77bb44"
      },
      "source": [
        "2.1 Приведите столбец date к типу даты pandas."
      ]
    },
    {
      "cell_type": "code",
      "execution_count": null,
      "id": "af6d202c",
      "metadata": {
        "id": "af6d202c",
        "outputId": "a356db46-c22c-42d9-fc35-e56db57da258"
      },
      "outputs": [
        {
          "name": "stdout",
          "output_type": "stream",
          "text": [
            "<class 'pandas.core.frame.DataFrame'>\n",
            "RangeIndex: 18068 entries, 0 to 18067\n",
            "Data columns (total 4 columns):\n",
            " #   Column    Non-Null Count  Dtype         \n",
            "---  ------    --------------  -----         \n",
            " 0   user_id   18068 non-null  int64         \n",
            " 1   distance  18068 non-null  float64       \n",
            " 2   duration  18068 non-null  float64       \n",
            " 3   date      18068 non-null  datetime64[ns]\n",
            "dtypes: datetime64[ns](1), float64(2), int64(1)\n",
            "memory usage: 564.8 KB\n"
          ]
        }
      ],
      "source": [
        "# переведем date в формат date. Время не указано, поэтому формат без времени:\n",
        "df_rides['date'] = pd.to_datetime(df_rides['date'], format='%Y-%m-%d')\n",
        "df_rides.info()"
      ]
    },
    {
      "cell_type": "markdown",
      "id": "766e987c",
      "metadata": {
        "id": "766e987c"
      },
      "source": [
        "Все получилось!"
      ]
    },
    {
      "cell_type": "markdown",
      "id": "ddac94e0",
      "metadata": {
        "id": "ddac94e0"
      },
      "source": [
        "2.2 Создайте новый столбец с номером месяца на основе столбца date."
      ]
    },
    {
      "cell_type": "code",
      "execution_count": null,
      "id": "3ee0e494",
      "metadata": {
        "id": "3ee0e494",
        "outputId": "93d7074b-56c9-4452-e50e-755112712f7e"
      },
      "outputs": [
        {
          "data": {
            "text/html": [
              "<div>\n",
              "<style scoped>\n",
              "    .dataframe tbody tr th:only-of-type {\n",
              "        vertical-align: middle;\n",
              "    }\n",
              "\n",
              "    .dataframe tbody tr th {\n",
              "        vertical-align: top;\n",
              "    }\n",
              "\n",
              "    .dataframe thead th {\n",
              "        text-align: right;\n",
              "    }\n",
              "</style>\n",
              "<table border=\"1\" class=\"dataframe\">\n",
              "  <thead>\n",
              "    <tr style=\"text-align: right;\">\n",
              "      <th></th>\n",
              "      <th>user_id</th>\n",
              "      <th>distance</th>\n",
              "      <th>duration</th>\n",
              "      <th>date</th>\n",
              "      <th>month</th>\n",
              "    </tr>\n",
              "  </thead>\n",
              "  <tbody>\n",
              "    <tr>\n",
              "      <th>0</th>\n",
              "      <td>1</td>\n",
              "      <td>4409.919140</td>\n",
              "      <td>25.599769</td>\n",
              "      <td>2021-01-01</td>\n",
              "      <td>1</td>\n",
              "    </tr>\n",
              "    <tr>\n",
              "      <th>1</th>\n",
              "      <td>1</td>\n",
              "      <td>2617.592153</td>\n",
              "      <td>15.816871</td>\n",
              "      <td>2021-01-18</td>\n",
              "      <td>1</td>\n",
              "    </tr>\n",
              "    <tr>\n",
              "      <th>2</th>\n",
              "      <td>1</td>\n",
              "      <td>754.159807</td>\n",
              "      <td>6.232113</td>\n",
              "      <td>2021-04-20</td>\n",
              "      <td>4</td>\n",
              "    </tr>\n",
              "    <tr>\n",
              "      <th>3</th>\n",
              "      <td>1</td>\n",
              "      <td>2694.783254</td>\n",
              "      <td>18.511000</td>\n",
              "      <td>2021-08-11</td>\n",
              "      <td>8</td>\n",
              "    </tr>\n",
              "    <tr>\n",
              "      <th>4</th>\n",
              "      <td>1</td>\n",
              "      <td>4028.687306</td>\n",
              "      <td>26.265803</td>\n",
              "      <td>2021-08-28</td>\n",
              "      <td>8</td>\n",
              "    </tr>\n",
              "  </tbody>\n",
              "</table>\n",
              "</div>"
            ],
            "text/plain": [
              "   user_id     distance   duration       date  month\n",
              "0        1  4409.919140  25.599769 2021-01-01      1\n",
              "1        1  2617.592153  15.816871 2021-01-18      1\n",
              "2        1   754.159807   6.232113 2021-04-20      4\n",
              "3        1  2694.783254  18.511000 2021-08-11      8\n",
              "4        1  4028.687306  26.265803 2021-08-28      8"
            ]
          },
          "execution_count": 10,
          "metadata": {},
          "output_type": "execute_result"
        }
      ],
      "source": [
        "# Добавляем столбец с номером месяца\n",
        "df_rides['month'] = df_rides['date'].dt.month\n",
        "# Проверим, что все получилось\n",
        "df_rides.head()"
      ]
    },
    {
      "cell_type": "markdown",
      "id": "2a9c43fe",
      "metadata": {
        "id": "2a9c43fe"
      },
      "source": [
        "2.3 Проверьте наличие пропущенных значений и дубликатов в датафреймах. Обработайте их, если такие значения присутствуют."
      ]
    },
    {
      "cell_type": "code",
      "execution_count": null,
      "id": "4245bed7",
      "metadata": {
        "id": "4245bed7",
        "outputId": "a857a832-2e83-485d-b0d0-18dbf4f1a3d0"
      },
      "outputs": [
        {
          "data": {
            "text/plain": [
              "user_id              0\n",
              "name                 0\n",
              "age                  0\n",
              "city                 0\n",
              "subscription_type    0\n",
              "dtype: int64"
            ]
          },
          "execution_count": 11,
          "metadata": {},
          "output_type": "execute_result"
        }
      ],
      "source": [
        "# оценим суммарные пропуски в таблице users_go\n",
        "df_user.isna().sum().sort_values(ascending=False)"
      ]
    },
    {
      "cell_type": "code",
      "execution_count": null,
      "id": "df9e4162",
      "metadata": {
        "id": "df9e4162",
        "outputId": "602c273b-4ec7-4912-f0cf-38923acbb0d8"
      },
      "outputs": [
        {
          "data": {
            "text/plain": [
              "user_id     0\n",
              "distance    0\n",
              "duration    0\n",
              "date        0\n",
              "month       0\n",
              "dtype: int64"
            ]
          },
          "execution_count": 12,
          "metadata": {},
          "output_type": "execute_result"
        }
      ],
      "source": [
        "# оценим суммарные пропуски в таблице rides_go\n",
        "df_rides.isna().sum().sort_values(ascending=False)"
      ]
    },
    {
      "cell_type": "code",
      "execution_count": null,
      "id": "0f6d8e3f",
      "metadata": {
        "id": "0f6d8e3f",
        "outputId": "b8526940-e72b-4b64-b9a9-f24ae30d42b8"
      },
      "outputs": [
        {
          "data": {
            "text/plain": [
              "subscription_type    0\n",
              "minute_price         0\n",
              "start_ride_price     0\n",
              "subscription_fee     0\n",
              "dtype: int64"
            ]
          },
          "execution_count": 13,
          "metadata": {},
          "output_type": "execute_result"
        }
      ],
      "source": [
        "# оценим суммарные пропуски в таблице subscriptions_go\n",
        "df_sub.isna().sum().sort_values(ascending=False)"
      ]
    },
    {
      "cell_type": "markdown",
      "id": "71373348",
      "metadata": {
        "id": "71373348"
      },
      "source": [
        "Пропусков в данных нет"
      ]
    },
    {
      "cell_type": "code",
      "execution_count": null,
      "id": "24cbf14a",
      "metadata": {
        "id": "24cbf14a",
        "outputId": "cb06b980-3cfd-47be-e393-1a92ea023384"
      },
      "outputs": [
        {
          "name": "stdout",
          "output_type": "stream",
          "text": [
            "2021-12-30 00:00:00\n",
            "2021-01-01 00:00:00\n"
          ]
        }
      ],
      "source": [
        "# проверим за какой период у нас данные\n",
        "print (max(df_rides['date']))\n",
        "print (min(df_rides['date']))"
      ]
    },
    {
      "cell_type": "markdown",
      "id": "ff8d09d1",
      "metadata": {
        "id": "ff8d09d1"
      },
      "source": [
        "Видим, что срез данных для анализа у нас с 1 января 2021 года по 30 декабря 2021 тоесть за 2021 год."
      ]
    },
    {
      "cell_type": "code",
      "execution_count": null,
      "id": "47672eed",
      "metadata": {
        "id": "47672eed"
      },
      "outputs": [],
      "source": [
        "#Округлим расстояния в df_rides['distance'] методом\n",
        "df_rides['distance'] = round(df_rides['distance'])"
      ]
    },
    {
      "cell_type": "code",
      "execution_count": null,
      "id": "1b1c26bd",
      "metadata": {
        "id": "1b1c26bd",
        "outputId": "01c0fd62-bdff-4533-db05-b341b272162c"
      },
      "outputs": [
        {
          "data": {
            "text/plain": [
              "count    18068.000000\n",
              "mean        17.805011\n",
              "std          6.091051\n",
              "min          0.500000\n",
              "25%         13.597563\n",
              "50%         17.678395\n",
              "75%         21.724800\n",
              "max         40.823963\n",
              "Name: duration, dtype: float64"
            ]
          },
          "execution_count": 16,
          "metadata": {},
          "output_type": "execute_result"
        }
      ],
      "source": [
        "# Проверим столбец df_rides['duration'] на предмет наличия аномалий\n",
        "\n",
        "df_rides.duration.describe()"
      ]
    },
    {
      "cell_type": "code",
      "execution_count": null,
      "id": "061f147c",
      "metadata": {
        "id": "061f147c",
        "outputId": "74bbfffa-666f-4388-a353-ce465974eef8"
      },
      "outputs": [
        {
          "data": {
            "text/plain": [
              "user_id     95\n",
              "distance    95\n",
              "duration    95\n",
              "date        95\n",
              "month       95\n",
              "dtype: int64"
            ]
          },
          "execution_count": 17,
          "metadata": {},
          "output_type": "execute_result"
        }
      ],
      "source": [
        "# отсортируем и выведем самые большие расстояния\n",
        "df_rides.duration.sort_values().head(30)\n",
        "df_rides.query('duration < 1').count()"
      ]
    },
    {
      "cell_type": "markdown",
      "id": "bc6aa971",
      "metadata": {
        "id": "bc6aa971"
      },
      "source": [
        "Минимальное значение 0.5 мин, вряд ли это была поездка, скорей всего кто то пробовал взять самокат, но что то не получилось. Таких Значений достаточно много  95 с поездкой меньше минуты"
      ]
    },
    {
      "cell_type": "code",
      "execution_count": null,
      "id": "54bd0a17",
      "metadata": {
        "id": "54bd0a17",
        "outputId": "684fcae5-c9cb-4819-9fe9-b1c484df3f0e"
      },
      "outputs": [
        {
          "data": {
            "text/plain": [
              "array(['Кира', 'Станислав', 'Алексей', 'Константин', 'Адель', 'Регина',\n",
              "       'Игорь', 'Юрий', 'Ян', 'Валерий', 'Агата', 'Марк', 'Ева',\n",
              "       'Антонина', 'Валерия', 'Амалия', 'Даниил', 'Аделина', 'Святогор',\n",
              "       'Борис', 'Вероника', 'Ростислав', 'Назар', 'Эдуард', 'Василий',\n",
              "       'Денис', 'Тамара', 'Николай', 'Эвелина', 'Федор', 'Руслан', 'Иван',\n",
              "       'Любовь', 'Ярослава', 'Майя', 'Ильдар', 'Данила', 'Нина',\n",
              "       'Стефания', 'Ясмина', 'Дмитрий', 'Александр', 'Одиссей', 'Арсений',\n",
              "       'Алла', 'Таисия', 'Максим', 'Юлиана', 'Павел', 'Карина', 'Алиса',\n",
              "       'Лидия', 'Рамиль', 'Родион', 'Ника', 'Оксана', 'Анастасия',\n",
              "       'Маргарита', 'Вера', 'Тимур', 'Никита', 'Лев', 'Влад', 'Артур',\n",
              "       'Анна', 'Ольга', 'Вячеслав', 'Ксения', 'Виталина', 'Владислав',\n",
              "       'Тамерлан', 'Амина', 'Вадим', 'Олеся', 'Зарина', 'Егор', 'Гордей',\n",
              "       'Лилия', 'Святослав', 'Роберт', 'Амир', 'Влада', 'Богдан',\n",
              "       'Полина', 'Марат', 'Елисей', 'Макар', 'Алина', 'Глеб', 'Андрей',\n",
              "       'Альбина', 'Людмила', 'Марсель', 'Милена', 'Диана', 'Дарина',\n",
              "       'Данил', 'Артемий', 'Лиана', 'Альберт', 'Герман', 'Жанна', 'Нелли',\n",
              "       'Евгения', 'Ариана', 'Самира', 'Захар', 'Эльвира', 'Екатерина',\n",
              "       'Инна', 'Демид', 'Яна', 'Михаил', 'Татьяна', 'Степан', 'Мелания',\n",
              "       'Тимофей', 'Ирина', 'Анжелика', 'Владислава', 'Елизавета',\n",
              "       'Мадина', 'Снежана', 'Даниэль', 'Рустам', 'Каролина', 'Ангелина',\n",
              "       'Владимир', 'Виктория', 'Валентина', 'Семен', 'Арина', 'Лариса',\n",
              "       'Есения', 'Галина', 'Кирилл', 'Игнат', 'Виталий', 'Эмилия',\n",
              "       'Виолетта', 'Яромир', 'Софья', 'Мирослава', 'Евгений', 'Варвара',\n",
              "       'Платон', 'Наталия', 'Анатолий', 'Кристина', 'Всеволод', 'Дарья',\n",
              "       'Наташа', 'Мария', 'Марина', 'Василиса', 'Юлия', 'Илья', 'Злата',\n",
              "       'Роман', 'Наталья', 'Элина', 'Арсен', 'Айдар', 'Алия', 'Виктор',\n",
              "       'Мирон', 'Ульяна', 'Георгий', 'Петр', 'Эльмира', 'Олег', 'Дамир',\n",
              "       'Самир', 'Ярослав', 'Камилла', 'Сергей', 'Эмиль', 'Радмир',\n",
              "       'Савелий', 'Елена', 'Антон', 'Мирослав', 'София', 'Тихон', 'Артём',\n",
              "       'Давид', 'Григорий', 'Алёна', 'Светлана', 'Леонид', 'Александра',\n",
              "       'Василина', 'Милана', 'Матвей'], dtype=object)"
            ]
          },
          "execution_count": 18,
          "metadata": {},
          "output_type": "execute_result"
        }
      ],
      "source": [
        "# Проверим таблицу df_user на дубликаты имен и названий городов\n",
        "df_user['city'].unique()\n",
        "df_user['name'].unique()"
      ]
    },
    {
      "cell_type": "code",
      "execution_count": null,
      "id": "9ffb123c",
      "metadata": {
        "id": "9ffb123c",
        "outputId": "802cd933-225f-4847-ea51-bb61f32b14bd"
      },
      "outputs": [
        {
          "data": {
            "text/plain": [
              "31"
            ]
          },
          "execution_count": 19,
          "metadata": {},
          "output_type": "execute_result"
        }
      ],
      "source": [
        "# Проверим таблицу df_user на дубликаты\n",
        "df_user.duplicated().sum()"
      ]
    },
    {
      "cell_type": "code",
      "execution_count": null,
      "id": "3963b6db",
      "metadata": {
        "id": "3963b6db"
      },
      "outputs": [],
      "source": [
        "# удалим явные дубликаты\n",
        "df_user = df_user.drop_duplicates()"
      ]
    },
    {
      "cell_type": "markdown",
      "id": "cd7677ab",
      "metadata": {
        "id": "cd7677ab"
      },
      "source": [
        "После предобработки данных можем сделать следующие выводы:\n",
        "\n",
        "- данные для анализа предоставлены с 1 января 2021 года по 30 декабря 2021 (за 2021 год).\n",
        "- в поле duration (время) минимальное значение 0.5 м, вряд ли это была поездка.\n",
        "- явных дубликатов в полях name, city и в таблице с подписками поле subscription_type(тип подписки) не выявлено.\n",
        "- выявлены явные дубликаты в таблице df_user и были удалены"
      ]
    },
    {
      "cell_type": "markdown",
      "id": "212593c7",
      "metadata": {
        "id": "212593c7"
      },
      "source": [
        "#### Шаг 3. Исследовательский анализ данных\n",
        "\n",
        "Опишите и визуализируйте общую информацию о пользователях и поездках:"
      ]
    },
    {
      "cell_type": "markdown",
      "id": "a5bbb55b",
      "metadata": {
        "id": "a5bbb55b"
      },
      "source": [
        "3.1 частота встречаемости городов"
      ]
    },
    {
      "cell_type": "code",
      "execution_count": null,
      "id": "e3a4274c",
      "metadata": {
        "id": "e3a4274c",
        "outputId": "de766f61-6eb8-422d-a516-ca80bf911fa3"
      },
      "outputs": [
        {
          "data": {
            "text/plain": [
              "Пятигорск         219\n",
              "Екатеринбург      204\n",
              "Ростов-на-Дону    198\n",
              "Краснодар         193\n",
              "Сочи              189\n",
              "Омск              183\n",
              "Тюмень            180\n",
              "Москва            168\n",
              "Name: city, dtype: int64"
            ]
          },
          "execution_count": 21,
          "metadata": {},
          "output_type": "execute_result"
        }
      ],
      "source": [
        "count_city = df_user['city'].value_counts()\n",
        "count_city"
      ]
    },
    {
      "cell_type": "code",
      "execution_count": null,
      "id": "ffc410f5",
      "metadata": {
        "id": "ffc410f5",
        "outputId": "33f4d104-268d-4621-ab27-2be63b2bbbdd"
      },
      "outputs": [
        {
          "data": {
            "image/png": "[encoded data removed]",
            "text/plain": [
              "<Figure size 1080x216 with 1 Axes>"
            ]
          },
          "metadata": {
            "needs_background": "light"
          },
          "output_type": "display_data"
        }
      ],
      "source": [
        "plt.figure(figsize=(15, 3))\n",
        "plt.hist(df_user['city'], bins = 40)\n",
        "plt.title('Частота встречаемости городов')\n",
        "plt.xlabel('Название города')\n",
        "plt.ylabel('Количество значений')\n",
        "plt.grid(color='grey', axis='both', alpha=5)\n",
        "plt.show()"
      ]
    },
    {
      "cell_type": "markdown",
      "id": "bd980860",
      "metadata": {
        "id": "bd980860"
      },
      "source": [
        "Чаще всего в данных втсречается город Пятигорск, на втором месте Екатеринбург. На последнем месте почему то Москва."
      ]
    },
    {
      "cell_type": "markdown",
      "id": "caf1e710",
      "metadata": {
        "id": "caf1e710"
      },
      "source": [
        "3.2 соотношение пользователей с подпиской и без подписки;"
      ]
    },
    {
      "cell_type": "code",
      "execution_count": null,
      "id": "e20b0748",
      "metadata": {
        "id": "e20b0748",
        "outputId": "5c04ac45-bb34-483b-8541-9a0aa92b435a"
      },
      "outputs": [
        {
          "name": "stdout",
          "output_type": "stream",
          "text": [
            "Количество пользователей с подпиской:  699 это 46 %\n",
            "Количество пользователей без подписки:  835 это 54 %\n"
          ]
        }
      ],
      "source": [
        "# при помощи запроса сосчитаем количество пользователей с подпиской и без\n",
        "user_ultra = df_user.query('subscription_type == \"ultra\"').copy()\n",
        "user_free = df_user.query('subscription_type == \"free\"').copy()\n",
        "ultra = round(user_ultra['name'].count() * 100 / df_user['name'].count())\n",
        "free = round(user_free['name'].count() * 100 / df_user['name'].count())\n",
        "print('Количество пользователей с подпиской: ', user_ultra['name'].count(), 'это', ultra, '%')\n",
        "print('Количество пользователей без подписки: ', user_free['name'].count(), 'это', free, '%')"
      ]
    },
    {
      "cell_type": "code",
      "execution_count": null,
      "id": "3ed6f269",
      "metadata": {
        "scrolled": false,
        "id": "3ed6f269",
        "outputId": "761f1ad3-9e4f-4b8b-b12c-bf717585f0d5"
      },
      "outputs": [
        {
          "data": {
            "image/png": "[encoded data removed]",
            "text/plain": [
              "<Figure size 720x504 with 1 Axes>"
            ]
          },
          "metadata": {},
          "output_type": "display_data"
        }
      ],
      "source": [
        "# найдем их другим способом и построим диаграмму\n",
        "colors = (\"pink\", \"grey\")\n",
        "count_sub = df_user['subscription_type'].value_counts()\n",
        "count_subfig = plt.figure(figsize =(10, 7))\n",
        "subjects= ['Без подписки', 'С подпиской']\n",
        "plt.pie(count_sub, colors = colors, autopct = '%1.0f%%', normalize = 'true', labels=subjects)\n",
        "plt.title('Процентное соотношение пользователей с подпиской и без')\n",
        "plt.show()"
      ]
    },
    {
      "cell_type": "markdown",
      "id": "e850f8d9",
      "metadata": {
        "id": "e850f8d9"
      },
      "source": [
        "По графику видно, что количество пользователей без подписки всетаки большо, хотя и не на много"
      ]
    },
    {
      "cell_type": "markdown",
      "id": "008af6f9",
      "metadata": {
        "id": "008af6f9"
      },
      "source": [
        "3.3 возраст пользователей;"
      ]
    },
    {
      "cell_type": "code",
      "execution_count": null,
      "id": "6559082b",
      "metadata": {
        "id": "6559082b",
        "outputId": "02e021b8-fbdc-4f2b-c839-7ff7b77bec27"
      },
      "outputs": [
        {
          "data": {
            "image/png": "[encoded data removed]",
            "text/plain": [
              "<Figure size 1080x288 with 1 Axes>"
            ]
          },
          "metadata": {
            "needs_background": "light"
          },
          "output_type": "display_data"
        }
      ],
      "source": [
        "plt.figure(figsize=(15, 4))\n",
        "plt.hist(df_user['age'], bins = 60)\n",
        "plt.title('Возраст пользователей')\n",
        "plt.xlabel('Количество лет')\n",
        "plt.ylabel('Количество пользователей')\n",
        "plt.grid(color='grey', axis='both', alpha=5)\n",
        "plt.show()"
      ]
    },
    {
      "cell_type": "markdown",
      "id": "654dcdf7",
      "metadata": {
        "id": "654dcdf7"
      },
      "source": [
        "Основной возраст пользователей самокатами от 20 до 35 лет, но есть видимо еденичные случаи использования и в 5 и в 45. Возможно это родители с детьми."
      ]
    },
    {
      "cell_type": "markdown",
      "id": "51dc4635",
      "metadata": {
        "id": "51dc4635"
      },
      "source": [
        "3.4 расстояние, которое пользователь преодолел за одну поездку;"
      ]
    },
    {
      "cell_type": "code",
      "execution_count": null,
      "id": "f6f9b07a",
      "metadata": {
        "id": "f6f9b07a",
        "outputId": "3c5fb1af-192b-491c-ff3b-f439d273095d"
      },
      "outputs": [
        {
          "data": {
            "text/plain": [
              "16309    7.211\n",
              "16484    7.066\n",
              "15580    6.908\n",
              "17171    6.761\n",
              "17242    6.725\n",
              "Name: distance, dtype: float64"
            ]
          },
          "execution_count": 26,
          "metadata": {},
          "output_type": "execute_result"
        }
      ],
      "source": [
        "# найдем лидеров, преодолевших самое большое расстояние за одну поездку в км\n",
        "top_rides = round(df_rides['distance'].sort_values(ascending=False)) /1000\n",
        "top_rides.head()"
      ]
    },
    {
      "cell_type": "code",
      "execution_count": null,
      "id": "ee15ed11",
      "metadata": {
        "id": "ee15ed11",
        "outputId": "c6f04e3b-234e-4bb6-886d-5b010746e1bb"
      },
      "outputs": [
        {
          "data": {
            "image/png": "[encoded data removed]",
            "text/plain": [
              "<Figure size 1080x216 with 1 Axes>"
            ]
          },
          "metadata": {
            "needs_background": "light"
          },
          "output_type": "display_data"
        }
      ],
      "source": [
        "plt.figure(figsize=(15, 3))\n",
        "plt.hist(top_rides, bins = 40)\n",
        "plt.title('Расстояние за одну поездку')\n",
        "plt.xlabel('Расстояние в км')\n",
        "plt.ylabel('Количество пользователей')\n",
        "plt.grid(color='grey', axis='both', alpha=5)\n",
        "plt.show()"
      ]
    },
    {
      "cell_type": "markdown",
      "id": "3f629e15",
      "metadata": {
        "id": "3f629e15"
      },
      "source": [
        "Восновном катаются от 2 до 5 км, а кто то смог проехать более 7 км! Видимо самокат может держать заряд так долго! Есть пользователи которые видимо осваивают самокат и катаются от 0 до км."
      ]
    },
    {
      "cell_type": "markdown",
      "id": "6ee2416e",
      "metadata": {
        "id": "6ee2416e"
      },
      "source": [
        "3.5 продолжительность поездок."
      ]
    },
    {
      "cell_type": "code",
      "execution_count": null,
      "id": "168d7fa0",
      "metadata": {
        "id": "168d7fa0",
        "outputId": "cc14113e-7b4e-4959-a411-8a65941f86ee"
      },
      "outputs": [
        {
          "data": {
            "text/plain": [
              "4215    40.823963\n",
              "4709    39.873856\n",
              "2623    39.526602\n",
              "1998    38.352763\n",
              "6453    38.265229\n",
              "Name: duration, dtype: float64"
            ]
          },
          "execution_count": 28,
          "metadata": {},
          "output_type": "execute_result"
        }
      ],
      "source": [
        "# найдем лидеров по продолжительности катания в минутах\n",
        "top_duration = df_rides['duration'].sort_values(ascending=False)\n",
        "top_duration.head()"
      ]
    },
    {
      "cell_type": "code",
      "execution_count": null,
      "id": "a6f38c03",
      "metadata": {
        "id": "a6f38c03",
        "outputId": "40637503-4988-48a1-c9b2-7a89ccf3de0c"
      },
      "outputs": [
        {
          "data": {
            "image/png": "[encoded data removed]",
            "text/plain": [
              "<Figure size 1080x216 with 1 Axes>"
            ]
          },
          "metadata": {
            "needs_background": "light"
          },
          "output_type": "display_data"
        }
      ],
      "source": [
        "plt.figure(figsize=(15, 3))\n",
        "plt.hist(top_duration, bins = 40)\n",
        "plt.title('Продолжительность поездки')\n",
        "plt.xlabel('Время в минутах')\n",
        "plt.ylabel('Количество пользователей')\n",
        "plt.grid(color='grey', axis='both', alpha=5)\n",
        "plt.show()"
      ]
    },
    {
      "cell_type": "markdown",
      "id": "b7b08c9b",
      "metadata": {
        "id": "b7b08c9b"
      },
      "source": [
        "По графику видим, что самокаты берут на прокат в среднем от 5 до 30 минут. Около нуля есть всплеск по пользователям, скорей всего у них что то не получилось с прокатом, либо не понраился самокат и они отменили поездку."
      ]
    },
    {
      "cell_type": "markdown",
      "id": "4ef51331",
      "metadata": {
        "id": "4ef51331"
      },
      "source": [
        "#### Шаг 4. Объединение данных"
      ]
    },
    {
      "cell_type": "markdown",
      "id": "3f568477",
      "metadata": {
        "id": "3f568477"
      },
      "source": [
        "4.1 Объедините данные о пользователях, поездках и подписках в один датафрейм. Для этого воспользуйтесь методом merge()."
      ]
    },
    {
      "cell_type": "code",
      "execution_count": null,
      "id": "6bf288b5",
      "metadata": {
        "id": "6bf288b5",
        "outputId": "bbcb3e36-1ab9-4aae-893b-bf118018364a"
      },
      "outputs": [
        {
          "name": "stdout",
          "output_type": "stream",
          "text": [
            "<class 'pandas.core.frame.DataFrame'>\n",
            "Int64Index: 18068 entries, 0 to 18067\n",
            "Data columns (total 12 columns):\n",
            " #   Column             Non-Null Count  Dtype         \n",
            "---  ------             --------------  -----         \n",
            " 0   user_id            18068 non-null  int64         \n",
            " 1   distance           18068 non-null  float64       \n",
            " 2   duration           18068 non-null  float64       \n",
            " 3   date               18068 non-null  datetime64[ns]\n",
            " 4   month              18068 non-null  int64         \n",
            " 5   name               18068 non-null  object        \n",
            " 6   age                18068 non-null  int64         \n",
            " 7   city               18068 non-null  object        \n",
            " 8   subscription_type  18068 non-null  object        \n",
            " 9   minute_price       18068 non-null  int64         \n",
            " 10  start_ride_price   18068 non-null  int64         \n",
            " 11  subscription_fee   18068 non-null  int64         \n",
            "dtypes: datetime64[ns](1), float64(2), int64(6), object(3)\n",
            "memory usage: 1.8+ MB\n"
          ]
        }
      ],
      "source": [
        "# объединим данные из всех таблиц\n",
        "df_full = df_user.merge(df_sub, on = 'subscription_type')\n",
        "df_full = df_rides.merge(df_full, on = 'user_id')\n",
        "df_full.info()"
      ]
    },
    {
      "cell_type": "code",
      "execution_count": null,
      "id": "dcb7df4f",
      "metadata": {
        "id": "dcb7df4f",
        "outputId": "91007879-88de-4513-ecb0-aacdefae9b58"
      },
      "outputs": [
        {
          "name": "stdout",
          "output_type": "stream",
          "text": [
            "<class 'pandas.core.frame.DataFrame'>\n",
            "Int64Index: 1534 entries, 0 to 1533\n",
            "Data columns (total 5 columns):\n",
            " #   Column             Non-Null Count  Dtype \n",
            "---  ------             --------------  ----- \n",
            " 0   user_id            1534 non-null   int64 \n",
            " 1   name               1534 non-null   object\n",
            " 2   age                1534 non-null   int64 \n",
            " 3   city               1534 non-null   object\n",
            " 4   subscription_type  1534 non-null   object\n",
            "dtypes: int64(2), object(3)\n",
            "memory usage: 71.9+ KB\n",
            "<class 'pandas.core.frame.DataFrame'>\n",
            "RangeIndex: 18068 entries, 0 to 18067\n",
            "Data columns (total 5 columns):\n",
            " #   Column    Non-Null Count  Dtype         \n",
            "---  ------    --------------  -----         \n",
            " 0   user_id   18068 non-null  int64         \n",
            " 1   distance  18068 non-null  float64       \n",
            " 2   duration  18068 non-null  float64       \n",
            " 3   date      18068 non-null  datetime64[ns]\n",
            " 4   month     18068 non-null  int64         \n",
            "dtypes: datetime64[ns](1), float64(2), int64(2)\n",
            "memory usage: 705.9 KB\n",
            "<class 'pandas.core.frame.DataFrame'>\n",
            "RangeIndex: 2 entries, 0 to 1\n",
            "Data columns (total 4 columns):\n",
            " #   Column             Non-Null Count  Dtype \n",
            "---  ------             --------------  ----- \n",
            " 0   subscription_type  2 non-null      object\n",
            " 1   minute_price       2 non-null      int64 \n",
            " 2   start_ride_price   2 non-null      int64 \n",
            " 3   subscription_fee   2 non-null      int64 \n",
            "dtypes: int64(3), object(1)\n",
            "memory usage: 192.0+ bytes\n"
          ]
        }
      ],
      "source": [
        "# посмотрим еще раз  исходную размерность датасетов\n",
        "df_user.info()\n",
        "df_rides.info()\n",
        "df_sub.info()"
      ]
    },
    {
      "cell_type": "markdown",
      "id": "f9ad63fe",
      "metadata": {
        "id": "f9ad63fe"
      },
      "source": [
        "После объединения размерность таблицы, к которой присоединяем должна совпадать с исходнойВ исходной таблице 18068 записей, проверим что в получившейся объединенной"
      ]
    },
    {
      "cell_type": "code",
      "execution_count": null,
      "id": "8843371a",
      "metadata": {
        "id": "8843371a",
        "outputId": "f6155579-1136-4712-a535-0fdd288f7b0e"
      },
      "outputs": [
        {
          "name": "stdout",
          "output_type": "stream",
          "text": [
            "<class 'pandas.core.frame.DataFrame'>\n",
            "Int64Index: 18068 entries, 0 to 18067\n",
            "Data columns (total 12 columns):\n",
            " #   Column             Non-Null Count  Dtype         \n",
            "---  ------             --------------  -----         \n",
            " 0   user_id            18068 non-null  int64         \n",
            " 1   distance           18068 non-null  float64       \n",
            " 2   duration           18068 non-null  float64       \n",
            " 3   date               18068 non-null  datetime64[ns]\n",
            " 4   month              18068 non-null  int64         \n",
            " 5   name               18068 non-null  object        \n",
            " 6   age                18068 non-null  int64         \n",
            " 7   city               18068 non-null  object        \n",
            " 8   subscription_type  18068 non-null  object        \n",
            " 9   minute_price       18068 non-null  int64         \n",
            " 10  start_ride_price   18068 non-null  int64         \n",
            " 11  subscription_fee   18068 non-null  int64         \n",
            "dtypes: datetime64[ns](1), float64(2), int64(6), object(3)\n",
            "memory usage: 1.8+ MB\n"
          ]
        }
      ],
      "source": [
        "# После объединения размерность таблицы, к которой присоединяем должна совпадать с исходной\n",
        "df_full.info()"
      ]
    },
    {
      "cell_type": "markdown",
      "id": "8c625493",
      "metadata": {
        "id": "8c625493"
      },
      "source": [
        "Здесь видим, что в объединенной таблице записей столько же как в исходной, занчит все верно!."
      ]
    },
    {
      "cell_type": "markdown",
      "id": "3b9a523c",
      "metadata": {
        "id": "3b9a523c"
      },
      "source": [
        "4.2 Создайте ещё два датафрейма из датафрейма, созданного на этапе 4.1:\n",
        " - c данными о пользователях без подписки;\n",
        " - с данными о пользователях с подпиской."
      ]
    },
    {
      "cell_type": "code",
      "execution_count": null,
      "id": "d1f3a1f5",
      "metadata": {
        "id": "d1f3a1f5"
      },
      "outputs": [],
      "source": [
        "# поделим датафрейм на два, выделив пользователей с подпиской и без\n",
        "free_full = df_full.query(\"`subscription_type` == 'free'\")\n",
        "ultra_full = df_full.query(\"`subscription_type` == 'ultra'\")"
      ]
    },
    {
      "cell_type": "markdown",
      "id": "93a3eace",
      "metadata": {
        "id": "93a3eace"
      },
      "source": [
        "4.3 Визуализируйте информацию о расстоянии и времени поездок для пользователей обеих категорий."
      ]
    },
    {
      "cell_type": "code",
      "execution_count": null,
      "id": "096d5340",
      "metadata": {
        "id": "096d5340",
        "outputId": "62bd9978-6dae-474e-bc63-fd3067ad29ae"
      },
      "outputs": [
        {
          "data": {
            "image/png": "[encoded data removed]",
            "text/plain": [
              "<Figure size 1080x216 with 1 Axes>"
            ]
          },
          "metadata": {
            "needs_background": "light"
          },
          "output_type": "display_data"
        }
      ],
      "source": [
        "# расстояние на бесплатном тарифе\n",
        "free_full_distance = round(free_full['distance'].sort_values(ascending=False)) /1000\n",
        "plt.figure(figsize=(15, 3))\n",
        "plt.hist(free_full_distance, bins = 40)\n",
        "plt.title('Расстояние на бесплатном тарифе')\n",
        "plt.xlabel('расстояние в километрах')\n",
        "plt.ylabel('Количество пользователей')\n",
        "plt.grid(color='grey', axis='both', alpha=5)\n",
        "plt.show()"
      ]
    },
    {
      "cell_type": "code",
      "execution_count": null,
      "id": "263a41f0",
      "metadata": {
        "id": "263a41f0",
        "outputId": "cc54d6af-8171-40e1-a156-ff110b334f03"
      },
      "outputs": [
        {
          "data": {
            "image/png": "[encoded data removed]",
            "text/plain": [
              "<Figure size 1080x216 with 1 Axes>"
            ]
          },
          "metadata": {
            "needs_background": "light"
          },
          "output_type": "display_data"
        }
      ],
      "source": [
        "# расстояние на платном тарифе\n",
        "ultra_full_distance = round(ultra_full['distance'].sort_values(ascending=False)) /1000\n",
        "plt.figure(figsize=(15, 3))\n",
        "plt.hist(ultra_full_distance, bins = 40)\n",
        "plt.title('Расстояние на платном тарифе')\n",
        "plt.xlabel('расстояние в километрах')\n",
        "plt.ylabel('Количество пользователей')\n",
        "plt.grid(color='grey', axis='both', alpha=5)\n",
        "plt.show()"
      ]
    },
    {
      "cell_type": "code",
      "execution_count": null,
      "id": "a4c2f567",
      "metadata": {
        "id": "a4c2f567",
        "outputId": "6c68f84b-7772-4e69-cb34-0329b69ce92a"
      },
      "outputs": [
        {
          "data": {
            "image/png": "[encoded data removed]",
            "text/plain": [
              "<Figure size 1080x216 with 1 Axes>"
            ]
          },
          "metadata": {
            "needs_background": "light"
          },
          "output_type": "display_data"
        }
      ],
      "source": [
        "# время на бесплатном тарифе\n",
        "free_full_duration = round(free_full['duration'].sort_values(ascending=False)) /1000\n",
        "plt.figure(figsize=(15, 3))\n",
        "plt.hist(free_full_duration, bins = 40)\n",
        "plt.title('Время на бесплатном тарифе')\n",
        "plt.xlabel('время в минутах')\n",
        "plt.ylabel('Количество пользователей')\n",
        "plt.grid(color='grey', axis='both', alpha=5)\n",
        "plt.show()"
      ]
    },
    {
      "cell_type": "code",
      "execution_count": null,
      "id": "3d981e8e",
      "metadata": {
        "id": "3d981e8e",
        "outputId": "abd566f1-15fe-47f4-dd78-01e18fffbc75"
      },
      "outputs": [
        {
          "data": {
            "image/png": "[encoded data removed]",
            "text/plain": [
              "<Figure size 1080x216 with 1 Axes>"
            ]
          },
          "metadata": {
            "needs_background": "light"
          },
          "output_type": "display_data"
        }
      ],
      "source": [
        "# время на платном тарифе\n",
        "ultra_full_duration = round(ultra_full['duration'].sort_values(ascending=False)) /1000\n",
        "plt.figure(figsize=(15, 3))\n",
        "plt.hist(ultra_full_duration, bins = 40)\n",
        "plt.title('Время на платном тарифе')\n",
        "plt.xlabel('время в минутах')\n",
        "plt.ylabel('Количество пользователей')\n",
        "plt.grid(color='grey', axis='both', alpha=5)\n",
        "plt.show()"
      ]
    },
    {
      "cell_type": "markdown",
      "id": "ddf11634",
      "metadata": {
        "id": "ddf11634"
      },
      "source": [
        " На визуализации видно, что пользователи с подпиской проезжают обычно расстояние от 2 до 4 км, тратя при этом  до 25 минут. Возможно это регулярные планове поездки, для которых и была приобретена подписка.\n",
        "Пользователи без подписки проезжают и более длительные скорей всего разовые расстояния. По времени разброс от 0 до 35 минут.  Есть пик и около 0 км, новые пользователи у которых видимо что то не получилось с самокатом.\n",
        " Таким образом, можно сделать вывод, что пользователи с бесплатным тарифом в целом совершают более долгие поездки, а также проезжают большее расстояние, чем пользователи на платном тарифе, но возможно не так часто."
      ]
    },
    {
      "cell_type": "markdown",
      "id": "402d620f",
      "metadata": {
        "id": "402d620f"
      },
      "source": [
        "#### Шаг 5. Подсчёт выручки"
      ]
    },
    {
      "cell_type": "markdown",
      "id": "84db00ba",
      "metadata": {
        "id": "84db00ba"
      },
      "source": [
        "5.1 Создайте датафрейм с агрегированными данными о поездках на основе датафрейма с объединёнными данными из шага 4: найдите суммарное расстояние, количество поездок и суммарное время для каждого пользователя за каждый месяц."
      ]
    },
    {
      "cell_type": "code",
      "execution_count": null,
      "id": "53049e0a",
      "metadata": {
        "id": "53049e0a",
        "outputId": "157527a5-3cb9-402a-a4c2-209bffccdf98"
      },
      "outputs": [
        {
          "data": {
            "text/html": [
              "<div>\n",
              "<style scoped>\n",
              "    .dataframe tbody tr th:only-of-type {\n",
              "        vertical-align: middle;\n",
              "    }\n",
              "\n",
              "    .dataframe tbody tr th {\n",
              "        vertical-align: top;\n",
              "    }\n",
              "\n",
              "    .dataframe thead th {\n",
              "        text-align: right;\n",
              "    }\n",
              "</style>\n",
              "<table border=\"1\" class=\"dataframe\">\n",
              "  <thead>\n",
              "    <tr style=\"text-align: right;\">\n",
              "      <th></th>\n",
              "      <th></th>\n",
              "      <th>distance</th>\n",
              "      <th>duration</th>\n",
              "      <th>count_sub</th>\n",
              "      <th>subscription_type</th>\n",
              "    </tr>\n",
              "    <tr>\n",
              "      <th>month</th>\n",
              "      <th>user_id</th>\n",
              "      <th></th>\n",
              "      <th></th>\n",
              "      <th></th>\n",
              "      <th></th>\n",
              "    </tr>\n",
              "  </thead>\n",
              "  <tbody>\n",
              "    <tr>\n",
              "      <th>5</th>\n",
              "      <th>1083</th>\n",
              "      <td>23430.0</td>\n",
              "      <td>124.916782</td>\n",
              "      <td>7</td>\n",
              "      <td>free</td>\n",
              "    </tr>\n",
              "    <tr>\n",
              "      <th>4</th>\n",
              "      <th>1424</th>\n",
              "      <td>21528.0</td>\n",
              "      <td>120.269714</td>\n",
              "      <td>7</td>\n",
              "      <td>free</td>\n",
              "    </tr>\n",
              "    <tr>\n",
              "      <th>1</th>\n",
              "      <th>1383</th>\n",
              "      <td>20653.0</td>\n",
              "      <td>119.673964</td>\n",
              "      <td>6</td>\n",
              "      <td>free</td>\n",
              "    </tr>\n",
              "    <tr>\n",
              "      <th>4</th>\n",
              "      <th>775</th>\n",
              "      <td>19143.0</td>\n",
              "      <td>93.838265</td>\n",
              "      <td>6</td>\n",
              "      <td>free</td>\n",
              "    </tr>\n",
              "    <tr>\n",
              "      <th>1</th>\n",
              "      <th>1471</th>\n",
              "      <td>23098.0</td>\n",
              "      <td>140.264426</td>\n",
              "      <td>6</td>\n",
              "      <td>free</td>\n",
              "    </tr>\n",
              "    <tr>\n",
              "      <th>9</th>\n",
              "      <th>1246</th>\n",
              "      <td>17671.0</td>\n",
              "      <td>102.899348</td>\n",
              "      <td>6</td>\n",
              "      <td>free</td>\n",
              "    </tr>\n",
              "    <tr>\n",
              "      <th rowspan=\"2\" valign=\"top\">3</th>\n",
              "      <th>1196</th>\n",
              "      <td>17992.0</td>\n",
              "      <td>118.567466</td>\n",
              "      <td>6</td>\n",
              "      <td>free</td>\n",
              "    </tr>\n",
              "    <tr>\n",
              "      <th>617</th>\n",
              "      <td>20008.0</td>\n",
              "      <td>123.062927</td>\n",
              "      <td>6</td>\n",
              "      <td>ultra</td>\n",
              "    </tr>\n",
              "    <tr>\n",
              "      <th>12</th>\n",
              "      <th>715</th>\n",
              "      <td>22713.0</td>\n",
              "      <td>127.195642</td>\n",
              "      <td>6</td>\n",
              "      <td>free</td>\n",
              "    </tr>\n",
              "    <tr>\n",
              "      <th>5</th>\n",
              "      <th>938</th>\n",
              "      <td>19062.0</td>\n",
              "      <td>107.705211</td>\n",
              "      <td>6</td>\n",
              "      <td>free</td>\n",
              "    </tr>\n",
              "    <tr>\n",
              "      <th>4</th>\n",
              "      <th>1329</th>\n",
              "      <td>12700.0</td>\n",
              "      <td>84.984517</td>\n",
              "      <td>5</td>\n",
              "      <td>free</td>\n",
              "    </tr>\n",
              "    <tr>\n",
              "      <th>8</th>\n",
              "      <th>1468</th>\n",
              "      <td>20619.0</td>\n",
              "      <td>98.778212</td>\n",
              "      <td>5</td>\n",
              "      <td>free</td>\n",
              "    </tr>\n",
              "    <tr>\n",
              "      <th>6</th>\n",
              "      <th>1206</th>\n",
              "      <td>13424.0</td>\n",
              "      <td>87.930618</td>\n",
              "      <td>5</td>\n",
              "      <td>free</td>\n",
              "    </tr>\n",
              "    <tr>\n",
              "      <th>4</th>\n",
              "      <th>1365</th>\n",
              "      <td>18190.0</td>\n",
              "      <td>89.577891</td>\n",
              "      <td>5</td>\n",
              "      <td>free</td>\n",
              "    </tr>\n",
              "    <tr>\n",
              "      <th>11</th>\n",
              "      <th>1355</th>\n",
              "      <td>16908.0</td>\n",
              "      <td>91.558948</td>\n",
              "      <td>5</td>\n",
              "      <td>free</td>\n",
              "    </tr>\n",
              "    <tr>\n",
              "      <th>5</th>\n",
              "      <th>1055</th>\n",
              "      <td>15687.0</td>\n",
              "      <td>90.190639</td>\n",
              "      <td>5</td>\n",
              "      <td>free</td>\n",
              "    </tr>\n",
              "    <tr>\n",
              "      <th>4</th>\n",
              "      <th>1389</th>\n",
              "      <td>17230.0</td>\n",
              "      <td>98.013406</td>\n",
              "      <td>5</td>\n",
              "      <td>free</td>\n",
              "    </tr>\n",
              "    <tr>\n",
              "      <th>2</th>\n",
              "      <th>700</th>\n",
              "      <td>13446.0</td>\n",
              "      <td>85.829845</td>\n",
              "      <td>5</td>\n",
              "      <td>free</td>\n",
              "    </tr>\n",
              "    <tr>\n",
              "      <th>8</th>\n",
              "      <th>716</th>\n",
              "      <td>13516.0</td>\n",
              "      <td>88.251453</td>\n",
              "      <td>5</td>\n",
              "      <td>free</td>\n",
              "    </tr>\n",
              "    <tr>\n",
              "      <th>6</th>\n",
              "      <th>957</th>\n",
              "      <td>16389.0</td>\n",
              "      <td>102.839981</td>\n",
              "      <td>5</td>\n",
              "      <td>free</td>\n",
              "    </tr>\n",
              "  </tbody>\n",
              "</table>\n",
              "</div>"
            ],
            "text/plain": [
              "               distance    duration  count_sub subscription_type\n",
              "month user_id                                                   \n",
              "5     1083      23430.0  124.916782          7              free\n",
              "4     1424      21528.0  120.269714          7              free\n",
              "1     1383      20653.0  119.673964          6              free\n",
              "4     775       19143.0   93.838265          6              free\n",
              "1     1471      23098.0  140.264426          6              free\n",
              "9     1246      17671.0  102.899348          6              free\n",
              "3     1196      17992.0  118.567466          6              free\n",
              "      617       20008.0  123.062927          6             ultra\n",
              "12    715       22713.0  127.195642          6              free\n",
              "5     938       19062.0  107.705211          6              free\n",
              "4     1329      12700.0   84.984517          5              free\n",
              "8     1468      20619.0   98.778212          5              free\n",
              "6     1206      13424.0   87.930618          5              free\n",
              "4     1365      18190.0   89.577891          5              free\n",
              "11    1355      16908.0   91.558948          5              free\n",
              "5     1055      15687.0   90.190639          5              free\n",
              "4     1389      17230.0   98.013406          5              free\n",
              "2     700       13446.0   85.829845          5              free\n",
              "8     716       13516.0   88.251453          5              free\n",
              "6     957       16389.0  102.839981          5              free"
            ]
          },
          "execution_count": 38,
          "metadata": {},
          "output_type": "execute_result"
        }
      ],
      "source": [
        "# создадим сводную таблицу из объединенного датафрейма df_full с полями: месяц, расстояние, кол-во поездок, время, пользователь, тип подписки\n",
        "df_total = pd.pivot_table(df_full,\n",
        "                           index=['month', 'user_id'],\n",
        "                           values = ['distance', 'duration', 'name', 'subscription_type'],\n",
        "                           aggfunc = {'distance': sum,\n",
        "                                      'duration' : sum,\n",
        "                                      'name' : len,\n",
        "                                      'subscription_type' : min})\n",
        "# переименуем поле name в count_sub\n",
        "df_total.rename(columns = {'name' : 'count_sub'}, inplace = True)\n",
        "# отсортируем по количеству поездок и выведем получившуюся таблицу\n",
        "df_total.sort_values(by='count_sub', ascending = False).head(20)"
      ]
    },
    {
      "cell_type": "code",
      "execution_count": null,
      "id": "2e7340f7",
      "metadata": {
        "id": "2e7340f7",
        "outputId": "e864aabd-21e1-4bc2-9746-5a88ee2511dd"
      },
      "outputs": [
        {
          "data": {
            "text/html": [
              "<div>\n",
              "<style scoped>\n",
              "    .dataframe tbody tr th:only-of-type {\n",
              "        vertical-align: middle;\n",
              "    }\n",
              "\n",
              "    .dataframe tbody tr th {\n",
              "        vertical-align: top;\n",
              "    }\n",
              "\n",
              "    .dataframe thead th {\n",
              "        text-align: right;\n",
              "    }\n",
              "</style>\n",
              "<table border=\"1\" class=\"dataframe\">\n",
              "  <thead>\n",
              "    <tr style=\"text-align: right;\">\n",
              "      <th></th>\n",
              "      <th></th>\n",
              "      <th>distance</th>\n",
              "      <th>duration</th>\n",
              "      <th>count_sub</th>\n",
              "      <th>subscription_type</th>\n",
              "    </tr>\n",
              "    <tr>\n",
              "      <th>month</th>\n",
              "      <th>user_id</th>\n",
              "      <th></th>\n",
              "      <th></th>\n",
              "      <th></th>\n",
              "      <th></th>\n",
              "    </tr>\n",
              "  </thead>\n",
              "  <tbody>\n",
              "    <tr>\n",
              "      <th>2</th>\n",
              "      <th>924</th>\n",
              "      <td>8452.0</td>\n",
              "      <td>46.468288</td>\n",
              "      <td>3</td>\n",
              "      <td>free</td>\n",
              "    </tr>\n",
              "    <tr>\n",
              "      <th>4</th>\n",
              "      <th>924</th>\n",
              "      <td>5642.0</td>\n",
              "      <td>33.290729</td>\n",
              "      <td>2</td>\n",
              "      <td>free</td>\n",
              "    </tr>\n",
              "    <tr>\n",
              "      <th>5</th>\n",
              "      <th>924</th>\n",
              "      <td>5278.0</td>\n",
              "      <td>24.395422</td>\n",
              "      <td>1</td>\n",
              "      <td>free</td>\n",
              "    </tr>\n",
              "    <tr>\n",
              "      <th>8</th>\n",
              "      <th>924</th>\n",
              "      <td>841.0</td>\n",
              "      <td>16.017500</td>\n",
              "      <td>1</td>\n",
              "      <td>free</td>\n",
              "    </tr>\n",
              "    <tr>\n",
              "      <th>9</th>\n",
              "      <th>924</th>\n",
              "      <td>4711.0</td>\n",
              "      <td>18.468914</td>\n",
              "      <td>1</td>\n",
              "      <td>free</td>\n",
              "    </tr>\n",
              "    <tr>\n",
              "      <th>10</th>\n",
              "      <th>924</th>\n",
              "      <td>15561.0</td>\n",
              "      <td>79.226594</td>\n",
              "      <td>4</td>\n",
              "      <td>free</td>\n",
              "    </tr>\n",
              "    <tr>\n",
              "      <th>11</th>\n",
              "      <th>924</th>\n",
              "      <td>3644.0</td>\n",
              "      <td>17.808953</td>\n",
              "      <td>1</td>\n",
              "      <td>free</td>\n",
              "    </tr>\n",
              "  </tbody>\n",
              "</table>\n",
              "</div>"
            ],
            "text/plain": [
              "               distance   duration  count_sub subscription_type\n",
              "month user_id                                                  \n",
              "2     924        8452.0  46.468288          3              free\n",
              "4     924        5642.0  33.290729          2              free\n",
              "5     924        5278.0  24.395422          1              free\n",
              "8     924         841.0  16.017500          1              free\n",
              "9     924        4711.0  18.468914          1              free\n",
              "10    924       15561.0  79.226594          4              free\n",
              "11    924        3644.0  17.808953          1              free"
            ]
          },
          "execution_count": 39,
          "metadata": {},
          "output_type": "execute_result"
        }
      ],
      "source": [
        "# самое большое количество поездок у пользователя с user_id 924, посмотрим как он ездил в другие месяцы\n",
        "df_total.query('user_id == 924')"
      ]
    },
    {
      "cell_type": "markdown",
      "id": "c64c964d",
      "metadata": {
        "id": "c64c964d"
      },
      "source": [
        "Видно, что пользоваетль без подписки очень часто пользуется прокатом самоката. Надо посоветовать ему купить подписку ))) Найдем пользователя с таким же количеством поездок, но с подпиской, например с user_id = 659"
      ]
    },
    {
      "cell_type": "code",
      "execution_count": null,
      "id": "f0f54e09",
      "metadata": {
        "id": "f0f54e09",
        "outputId": "6e1082b0-07f7-4c83-fa9a-ede539ad82a3"
      },
      "outputs": [
        {
          "data": {
            "text/html": [
              "<div>\n",
              "<style scoped>\n",
              "    .dataframe tbody tr th:only-of-type {\n",
              "        vertical-align: middle;\n",
              "    }\n",
              "\n",
              "    .dataframe tbody tr th {\n",
              "        vertical-align: top;\n",
              "    }\n",
              "\n",
              "    .dataframe thead th {\n",
              "        text-align: right;\n",
              "    }\n",
              "</style>\n",
              "<table border=\"1\" class=\"dataframe\">\n",
              "  <thead>\n",
              "    <tr style=\"text-align: right;\">\n",
              "      <th></th>\n",
              "      <th></th>\n",
              "      <th>distance</th>\n",
              "      <th>duration</th>\n",
              "      <th>count_sub</th>\n",
              "      <th>subscription_type</th>\n",
              "    </tr>\n",
              "    <tr>\n",
              "      <th>month</th>\n",
              "      <th>user_id</th>\n",
              "      <th></th>\n",
              "      <th></th>\n",
              "      <th></th>\n",
              "      <th></th>\n",
              "    </tr>\n",
              "  </thead>\n",
              "  <tbody>\n",
              "    <tr>\n",
              "      <th>1</th>\n",
              "      <th>659</th>\n",
              "      <td>8094.0</td>\n",
              "      <td>36.442107</td>\n",
              "      <td>2</td>\n",
              "      <td>ultra</td>\n",
              "    </tr>\n",
              "    <tr>\n",
              "      <th>2</th>\n",
              "      <th>659</th>\n",
              "      <td>4063.0</td>\n",
              "      <td>14.405772</td>\n",
              "      <td>1</td>\n",
              "      <td>ultra</td>\n",
              "    </tr>\n",
              "    <tr>\n",
              "      <th>4</th>\n",
              "      <th>659</th>\n",
              "      <td>3418.0</td>\n",
              "      <td>12.916471</td>\n",
              "      <td>1</td>\n",
              "      <td>ultra</td>\n",
              "    </tr>\n",
              "    <tr>\n",
              "      <th>5</th>\n",
              "      <th>659</th>\n",
              "      <td>2458.0</td>\n",
              "      <td>13.532200</td>\n",
              "      <td>1</td>\n",
              "      <td>ultra</td>\n",
              "    </tr>\n",
              "    <tr>\n",
              "      <th>6</th>\n",
              "      <th>659</th>\n",
              "      <td>13972.0</td>\n",
              "      <td>60.893890</td>\n",
              "      <td>4</td>\n",
              "      <td>ultra</td>\n",
              "    </tr>\n",
              "    <tr>\n",
              "      <th>8</th>\n",
              "      <th>659</th>\n",
              "      <td>2714.0</td>\n",
              "      <td>27.284156</td>\n",
              "      <td>1</td>\n",
              "      <td>ultra</td>\n",
              "    </tr>\n",
              "    <tr>\n",
              "      <th>9</th>\n",
              "      <th>659</th>\n",
              "      <td>2177.0</td>\n",
              "      <td>28.036769</td>\n",
              "      <td>2</td>\n",
              "      <td>ultra</td>\n",
              "    </tr>\n",
              "    <tr>\n",
              "      <th>10</th>\n",
              "      <th>659</th>\n",
              "      <td>4237.0</td>\n",
              "      <td>20.105186</td>\n",
              "      <td>1</td>\n",
              "      <td>ultra</td>\n",
              "    </tr>\n",
              "  </tbody>\n",
              "</table>\n",
              "</div>"
            ],
            "text/plain": [
              "               distance   duration  count_sub subscription_type\n",
              "month user_id                                                  \n",
              "1     659        8094.0  36.442107          2             ultra\n",
              "2     659        4063.0  14.405772          1             ultra\n",
              "4     659        3418.0  12.916471          1             ultra\n",
              "5     659        2458.0  13.532200          1             ultra\n",
              "6     659       13972.0  60.893890          4             ultra\n",
              "8     659        2714.0  27.284156          1             ultra\n",
              "9     659        2177.0  28.036769          2             ultra\n",
              "10    659        4237.0  20.105186          1             ultra"
            ]
          },
          "execution_count": 40,
          "metadata": {},
          "output_type": "execute_result"
        }
      ],
      "source": [
        "df_total.query('user_id == 659')"
      ]
    },
    {
      "cell_type": "markdown",
      "id": "402e4e0d",
      "metadata": {
        "id": "402e4e0d"
      },
      "source": [
        "Он пользуется прокатом не по одному разу почти каждый месяц!"
      ]
    },
    {
      "cell_type": "markdown",
      "id": "efa1dac3",
      "metadata": {
        "id": "efa1dac3"
      },
      "source": [
        "5.2 В этот же датафрейм добавьте столбец с помесячной выручкой, которую принёс каждый пользователь. Для этого обратитесь к информации об условиях оплаты для подписчиков и тех, у кого нет подписки. Продолжительность каждой поездки в каждой строке исходного датафрейма для подсчёта стоимости округляется до следующего целого числа: например, значения\n",
        "25.3\n",
        "25.3,\n",
        "25.5\n",
        "25.5 и\n",
        "26.0\n",
        "26.0 должны быть преобразованы к\n",
        "26\n",
        "26.\n",
        "\n",
        "Продолжительность каждой поездки должна быть округлена с помощью метода «потолок» библиотеки numpy — np.ceil():\n",
        "\n",
        "Помесячная выручка считается по формуле: (стоимость старта поездки\n",
        "×\n",
        "×  количество поездок)\n",
        "+\n",
        "+ стоимость одной минуты поездки\n",
        "×\n",
        "× общая продолжительность всех поездок в минутах)\n",
        "+\n",
        "+ стоимость подписки."
      ]
    },
    {
      "cell_type": "code",
      "execution_count": null,
      "id": "fbdb83cd",
      "metadata": {
        "id": "fbdb83cd",
        "outputId": "8e6edee9-9f44-4c98-e569-efa2abf35ee1"
      },
      "outputs": [
        {
          "data": {
            "text/html": [
              "<div>\n",
              "<style scoped>\n",
              "    .dataframe tbody tr th:only-of-type {\n",
              "        vertical-align: middle;\n",
              "    }\n",
              "\n",
              "    .dataframe tbody tr th {\n",
              "        vertical-align: top;\n",
              "    }\n",
              "\n",
              "    .dataframe thead th {\n",
              "        text-align: right;\n",
              "    }\n",
              "</style>\n",
              "<table border=\"1\" class=\"dataframe\">\n",
              "  <thead>\n",
              "    <tr style=\"text-align: right;\">\n",
              "      <th></th>\n",
              "      <th></th>\n",
              "      <th>distance</th>\n",
              "      <th>duration</th>\n",
              "      <th>count_sub</th>\n",
              "      <th>subscription_type</th>\n",
              "    </tr>\n",
              "    <tr>\n",
              "      <th>month</th>\n",
              "      <th>user_id</th>\n",
              "      <th></th>\n",
              "      <th></th>\n",
              "      <th></th>\n",
              "      <th></th>\n",
              "    </tr>\n",
              "  </thead>\n",
              "  <tbody>\n",
              "    <tr>\n",
              "      <th rowspan=\"5\" valign=\"top\">1</th>\n",
              "      <th>1</th>\n",
              "      <td>7028.0</td>\n",
              "      <td>42.0</td>\n",
              "      <td>2</td>\n",
              "      <td>ultra</td>\n",
              "    </tr>\n",
              "    <tr>\n",
              "      <th>3</th>\n",
              "      <td>3062.0</td>\n",
              "      <td>13.0</td>\n",
              "      <td>1</td>\n",
              "      <td>ultra</td>\n",
              "    </tr>\n",
              "    <tr>\n",
              "      <th>5</th>\n",
              "      <td>3915.0</td>\n",
              "      <td>13.0</td>\n",
              "      <td>1</td>\n",
              "      <td>ultra</td>\n",
              "    </tr>\n",
              "    <tr>\n",
              "      <th>7</th>\n",
              "      <td>6478.0</td>\n",
              "      <td>28.0</td>\n",
              "      <td>2</td>\n",
              "      <td>ultra</td>\n",
              "    </tr>\n",
              "    <tr>\n",
              "      <th>12</th>\n",
              "      <td>3577.0</td>\n",
              "      <td>33.0</td>\n",
              "      <td>1</td>\n",
              "      <td>ultra</td>\n",
              "    </tr>\n",
              "    <tr>\n",
              "      <th>...</th>\n",
              "      <th>...</th>\n",
              "      <td>...</td>\n",
              "      <td>...</td>\n",
              "      <td>...</td>\n",
              "      <td>...</td>\n",
              "    </tr>\n",
              "    <tr>\n",
              "      <th rowspan=\"5\" valign=\"top\">12</th>\n",
              "      <th>1525</th>\n",
              "      <td>4598.0</td>\n",
              "      <td>34.0</td>\n",
              "      <td>1</td>\n",
              "      <td>free</td>\n",
              "    </tr>\n",
              "    <tr>\n",
              "      <th>1526</th>\n",
              "      <td>3644.0</td>\n",
              "      <td>23.0</td>\n",
              "      <td>1</td>\n",
              "      <td>free</td>\n",
              "    </tr>\n",
              "    <tr>\n",
              "      <th>1528</th>\n",
              "      <td>3999.0</td>\n",
              "      <td>11.0</td>\n",
              "      <td>1</td>\n",
              "      <td>free</td>\n",
              "    </tr>\n",
              "    <tr>\n",
              "      <th>1532</th>\n",
              "      <td>6112.0</td>\n",
              "      <td>41.0</td>\n",
              "      <td>2</td>\n",
              "      <td>free</td>\n",
              "    </tr>\n",
              "    <tr>\n",
              "      <th>1534</th>\n",
              "      <td>2372.0</td>\n",
              "      <td>16.0</td>\n",
              "      <td>1</td>\n",
              "      <td>free</td>\n",
              "    </tr>\n",
              "  </tbody>\n",
              "</table>\n",
              "<p>11331 rows × 4 columns</p>\n",
              "</div>"
            ],
            "text/plain": [
              "               distance  duration  count_sub subscription_type\n",
              "month user_id                                                 \n",
              "1     1          7028.0      42.0          2             ultra\n",
              "      3          3062.0      13.0          1             ultra\n",
              "      5          3915.0      13.0          1             ultra\n",
              "      7          6478.0      28.0          2             ultra\n",
              "      12         3577.0      33.0          1             ultra\n",
              "...                 ...       ...        ...               ...\n",
              "12    1525       4598.0      34.0          1              free\n",
              "      1526       3644.0      23.0          1              free\n",
              "      1528       3999.0      11.0          1              free\n",
              "      1532       6112.0      41.0          2              free\n",
              "      1534       2372.0      16.0          1              free\n",
              "\n",
              "[11331 rows x 4 columns]"
            ]
          },
          "execution_count": 41,
          "metadata": {},
          "output_type": "execute_result"
        }
      ],
      "source": [
        "#  округлим duration с помощью метода «потолок» библиотеки numpy — np.ceil()\n",
        "df_total['duration'] = np.ceil(df_total['duration'])\n",
        "df_total"
      ]
    },
    {
      "cell_type": "code",
      "execution_count": null,
      "id": "18cb0d48",
      "metadata": {
        "id": "18cb0d48"
      },
      "outputs": [],
      "source": [
        "# создадим функцию, которая расчитывает выручку помесячно в зависимости от подписки\n",
        "def revenue(row):\n",
        "    # если есть подписка, то цена в месяц 199 (абонем) + 6 р минута\n",
        "    if row['subscription_type'] == 'ultra':\n",
        "        return 6 * row['duration'] + 199\n",
        "    # если подписки нет, то цена  8 р минута + 50 р за кадрую поездку\n",
        "    elif row['subscription_type'] == 'free':\n",
        "        return 8 * row['duration'] + 50 * row['count_sub']\n",
        "    else:\n",
        "        return 'Not such sub'"
      ]
    },
    {
      "cell_type": "code",
      "execution_count": null,
      "id": "5762e6e5",
      "metadata": {
        "id": "5762e6e5",
        "outputId": "670f2e57-8239-4de5-fd58-7db3a8b86e7f"
      },
      "outputs": [
        {
          "data": {
            "text/html": [
              "<div>\n",
              "<style scoped>\n",
              "    .dataframe tbody tr th:only-of-type {\n",
              "        vertical-align: middle;\n",
              "    }\n",
              "\n",
              "    .dataframe tbody tr th {\n",
              "        vertical-align: top;\n",
              "    }\n",
              "\n",
              "    .dataframe thead th {\n",
              "        text-align: right;\n",
              "    }\n",
              "</style>\n",
              "<table border=\"1\" class=\"dataframe\">\n",
              "  <thead>\n",
              "    <tr style=\"text-align: right;\">\n",
              "      <th></th>\n",
              "      <th></th>\n",
              "      <th>distance</th>\n",
              "      <th>duration</th>\n",
              "      <th>count_sub</th>\n",
              "      <th>subscription_type</th>\n",
              "      <th>rev_month</th>\n",
              "    </tr>\n",
              "    <tr>\n",
              "      <th>month</th>\n",
              "      <th>user_id</th>\n",
              "      <th></th>\n",
              "      <th></th>\n",
              "      <th></th>\n",
              "      <th></th>\n",
              "      <th></th>\n",
              "    </tr>\n",
              "  </thead>\n",
              "  <tbody>\n",
              "    <tr>\n",
              "      <th>1</th>\n",
              "      <th>1471</th>\n",
              "      <td>23098.0</td>\n",
              "      <td>141.0</td>\n",
              "      <td>6</td>\n",
              "      <td>free</td>\n",
              "      <td>1428.0</td>\n",
              "    </tr>\n",
              "    <tr>\n",
              "      <th>5</th>\n",
              "      <th>1083</th>\n",
              "      <td>23430.0</td>\n",
              "      <td>125.0</td>\n",
              "      <td>7</td>\n",
              "      <td>free</td>\n",
              "      <td>1350.0</td>\n",
              "    </tr>\n",
              "    <tr>\n",
              "      <th>12</th>\n",
              "      <th>715</th>\n",
              "      <td>22713.0</td>\n",
              "      <td>128.0</td>\n",
              "      <td>6</td>\n",
              "      <td>free</td>\n",
              "      <td>1324.0</td>\n",
              "    </tr>\n",
              "    <tr>\n",
              "      <th>4</th>\n",
              "      <th>1424</th>\n",
              "      <td>21528.0</td>\n",
              "      <td>121.0</td>\n",
              "      <td>7</td>\n",
              "      <td>free</td>\n",
              "      <td>1318.0</td>\n",
              "    </tr>\n",
              "    <tr>\n",
              "      <th>1</th>\n",
              "      <th>1383</th>\n",
              "      <td>20653.0</td>\n",
              "      <td>120.0</td>\n",
              "      <td>6</td>\n",
              "      <td>free</td>\n",
              "      <td>1260.0</td>\n",
              "    </tr>\n",
              "    <tr>\n",
              "      <th>3</th>\n",
              "      <th>1196</th>\n",
              "      <td>17992.0</td>\n",
              "      <td>119.0</td>\n",
              "      <td>6</td>\n",
              "      <td>free</td>\n",
              "      <td>1252.0</td>\n",
              "    </tr>\n",
              "    <tr>\n",
              "      <th>5</th>\n",
              "      <th>938</th>\n",
              "      <td>19062.0</td>\n",
              "      <td>108.0</td>\n",
              "      <td>6</td>\n",
              "      <td>free</td>\n",
              "      <td>1164.0</td>\n",
              "    </tr>\n",
              "    <tr>\n",
              "      <th>12</th>\n",
              "      <th>1149</th>\n",
              "      <td>18449.0</td>\n",
              "      <td>114.0</td>\n",
              "      <td>5</td>\n",
              "      <td>free</td>\n",
              "      <td>1162.0</td>\n",
              "    </tr>\n",
              "    <tr>\n",
              "      <th>3</th>\n",
              "      <th>991</th>\n",
              "      <td>18244.0</td>\n",
              "      <td>111.0</td>\n",
              "      <td>5</td>\n",
              "      <td>free</td>\n",
              "      <td>1138.0</td>\n",
              "    </tr>\n",
              "    <tr>\n",
              "      <th>7</th>\n",
              "      <th>944</th>\n",
              "      <td>17648.0</td>\n",
              "      <td>110.0</td>\n",
              "      <td>5</td>\n",
              "      <td>free</td>\n",
              "      <td>1130.0</td>\n",
              "    </tr>\n",
              "    <tr>\n",
              "      <th>9</th>\n",
              "      <th>1246</th>\n",
              "      <td>17671.0</td>\n",
              "      <td>103.0</td>\n",
              "      <td>6</td>\n",
              "      <td>free</td>\n",
              "      <td>1124.0</td>\n",
              "    </tr>\n",
              "    <tr>\n",
              "      <th>2</th>\n",
              "      <th>941</th>\n",
              "      <td>16299.0</td>\n",
              "      <td>109.0</td>\n",
              "      <td>5</td>\n",
              "      <td>free</td>\n",
              "      <td>1122.0</td>\n",
              "    </tr>\n",
              "    <tr>\n",
              "      <th>1</th>\n",
              "      <th>730</th>\n",
              "      <td>22666.0</td>\n",
              "      <td>107.0</td>\n",
              "      <td>5</td>\n",
              "      <td>free</td>\n",
              "      <td>1106.0</td>\n",
              "    </tr>\n",
              "    <tr>\n",
              "      <th>12</th>\n",
              "      <th>894</th>\n",
              "      <td>15960.0</td>\n",
              "      <td>106.0</td>\n",
              "      <td>5</td>\n",
              "      <td>free</td>\n",
              "      <td>1098.0</td>\n",
              "    </tr>\n",
              "    <tr>\n",
              "      <th>5</th>\n",
              "      <th>1419</th>\n",
              "      <td>16629.0</td>\n",
              "      <td>106.0</td>\n",
              "      <td>5</td>\n",
              "      <td>free</td>\n",
              "      <td>1098.0</td>\n",
              "    </tr>\n",
              "    <tr>\n",
              "      <th>6</th>\n",
              "      <th>957</th>\n",
              "      <td>16389.0</td>\n",
              "      <td>103.0</td>\n",
              "      <td>5</td>\n",
              "      <td>free</td>\n",
              "      <td>1074.0</td>\n",
              "    </tr>\n",
              "    <tr>\n",
              "      <th>7</th>\n",
              "      <th>1307</th>\n",
              "      <td>17129.0</td>\n",
              "      <td>103.0</td>\n",
              "      <td>5</td>\n",
              "      <td>free</td>\n",
              "      <td>1074.0</td>\n",
              "    </tr>\n",
              "    <tr>\n",
              "      <th>10</th>\n",
              "      <th>1384</th>\n",
              "      <td>14180.0</td>\n",
              "      <td>101.0</td>\n",
              "      <td>5</td>\n",
              "      <td>free</td>\n",
              "      <td>1058.0</td>\n",
              "    </tr>\n",
              "    <tr>\n",
              "      <th>11</th>\n",
              "      <th>1225</th>\n",
              "      <td>15017.0</td>\n",
              "      <td>101.0</td>\n",
              "      <td>5</td>\n",
              "      <td>free</td>\n",
              "      <td>1058.0</td>\n",
              "    </tr>\n",
              "    <tr>\n",
              "      <th>5</th>\n",
              "      <th>1068</th>\n",
              "      <td>18605.0</td>\n",
              "      <td>101.0</td>\n",
              "      <td>5</td>\n",
              "      <td>free</td>\n",
              "      <td>1058.0</td>\n",
              "    </tr>\n",
              "  </tbody>\n",
              "</table>\n",
              "</div>"
            ],
            "text/plain": [
              "               distance  duration  count_sub subscription_type  rev_month\n",
              "month user_id                                                            \n",
              "1     1471      23098.0     141.0          6              free     1428.0\n",
              "5     1083      23430.0     125.0          7              free     1350.0\n",
              "12    715       22713.0     128.0          6              free     1324.0\n",
              "4     1424      21528.0     121.0          7              free     1318.0\n",
              "1     1383      20653.0     120.0          6              free     1260.0\n",
              "3     1196      17992.0     119.0          6              free     1252.0\n",
              "5     938       19062.0     108.0          6              free     1164.0\n",
              "12    1149      18449.0     114.0          5              free     1162.0\n",
              "3     991       18244.0     111.0          5              free     1138.0\n",
              "7     944       17648.0     110.0          5              free     1130.0\n",
              "9     1246      17671.0     103.0          6              free     1124.0\n",
              "2     941       16299.0     109.0          5              free     1122.0\n",
              "1     730       22666.0     107.0          5              free     1106.0\n",
              "12    894       15960.0     106.0          5              free     1098.0\n",
              "5     1419      16629.0     106.0          5              free     1098.0\n",
              "6     957       16389.0     103.0          5              free     1074.0\n",
              "7     1307      17129.0     103.0          5              free     1074.0\n",
              "10    1384      14180.0     101.0          5              free     1058.0\n",
              "11    1225      15017.0     101.0          5              free     1058.0\n",
              "5     1068      18605.0     101.0          5              free     1058.0"
            ]
          },
          "execution_count": 43,
          "metadata": {},
          "output_type": "execute_result"
        }
      ],
      "source": [
        "# добавим столбец с помесячной выручкой, которую принёс каждый пользователь\n",
        "df_total['rev_month'] = df_total.apply(revenue, axis=1)\n",
        "# отсортируем по столбцу с выручкой\n",
        "df_total.sort_values(by='rev_month', ascending = False).head(20)"
      ]
    },
    {
      "cell_type": "markdown",
      "id": "db8ea993",
      "metadata": {
        "id": "db8ea993"
      },
      "source": [
        "Судя по полученным данным самая большая выручка за месяц от пользователей без подписки!"
      ]
    },
    {
      "cell_type": "code",
      "execution_count": null,
      "id": "0e3b4d9e",
      "metadata": {
        "id": "0e3b4d9e",
        "outputId": "2b83fcb2-9962-4a6b-d70a-b61cb860a123"
      },
      "outputs": [
        {
          "data": {
            "text/html": [
              "<div>\n",
              "<style scoped>\n",
              "    .dataframe tbody tr th:only-of-type {\n",
              "        vertical-align: middle;\n",
              "    }\n",
              "\n",
              "    .dataframe tbody tr th {\n",
              "        vertical-align: top;\n",
              "    }\n",
              "\n",
              "    .dataframe thead th {\n",
              "        text-align: right;\n",
              "    }\n",
              "</style>\n",
              "<table border=\"1\" class=\"dataframe\">\n",
              "  <thead>\n",
              "    <tr style=\"text-align: right;\">\n",
              "      <th></th>\n",
              "      <th>distance</th>\n",
              "      <th>duration</th>\n",
              "      <th>count_sub</th>\n",
              "      <th>rev_month</th>\n",
              "    </tr>\n",
              "    <tr>\n",
              "      <th>subscription_type</th>\n",
              "      <th></th>\n",
              "      <th></th>\n",
              "      <th></th>\n",
              "      <th></th>\n",
              "    </tr>\n",
              "  </thead>\n",
              "  <tbody>\n",
              "    <tr>\n",
              "      <th>free</th>\n",
              "      <td>35230285.0</td>\n",
              "      <td>204585.0</td>\n",
              "      <td>11568</td>\n",
              "      <td>2215080.0</td>\n",
              "    </tr>\n",
              "    <tr>\n",
              "      <th>ultra</th>\n",
              "      <td>20250382.0</td>\n",
              "      <td>122755.0</td>\n",
              "      <td>6500</td>\n",
              "      <td>1638597.0</td>\n",
              "    </tr>\n",
              "  </tbody>\n",
              "</table>\n",
              "</div>"
            ],
            "text/plain": [
              "                     distance  duration  count_sub  rev_month\n",
              "subscription_type                                            \n",
              "free               35230285.0  204585.0      11568  2215080.0\n",
              "ultra              20250382.0  122755.0       6500  1638597.0"
            ]
          },
          "execution_count": 44,
          "metadata": {},
          "output_type": "execute_result"
        }
      ],
      "source": [
        "# посмотрим кто больше принес выручки, для этого сгруппируем по виду подписки\n",
        "df_total.groupby('subscription_type').sum()"
      ]
    },
    {
      "cell_type": "markdown",
      "id": "5108a31a",
      "metadata": {
        "id": "5108a31a"
      },
      "source": [
        "Получается, что пользователи без подписки проехали больше км, потратили больше времени и приносят больше дохода!"
      ]
    },
    {
      "cell_type": "markdown",
      "id": "41545ac0",
      "metadata": {
        "id": "41545ac0"
      },
      "source": [
        "#### Шаг 6. Проверка гипотез\n",
        "\n",
        "Продакт-менеджеры сервиса хотят увеличить количество пользователей с подпиской. Для этого они будут проводить различные акции, но сначала нужно выяснить несколько важных моментов."
      ]
    },
    {
      "cell_type": "markdown",
      "id": "8f6daf33",
      "metadata": {
        "id": "8f6daf33"
      },
      "source": [
        "6.1 Важно понять, тратят ли пользователи с подпиской больше времени на поездки? Если да, то пользователи с подпиской могут быть «выгоднее» для компании. Проверьте гипотезу. Используйте исходные данные о продолжительности каждой сессии — отдельно для подписчиков и тех, у кого нет подписки."
      ]
    },
    {
      "cell_type": "markdown",
      "id": "4dec7584",
      "metadata": {
        "id": "4dec7584"
      },
      "source": [
        "H_0: Время (duration) пользователей на подписке ultra = время (duration) пользователей на подписке free\n",
        "\n",
        "H_1: Время (duration) пользователей на подписке ultra > время (duration) пользователей на подписке free\n",
        "\n",
        "alpha = 0.05"
      ]
    },
    {
      "cell_type": "code",
      "execution_count": null,
      "id": "23ea867b",
      "metadata": {
        "id": "23ea867b",
        "outputId": "c278e416-c0d0-441c-cc6e-2ba36aaabc0e"
      },
      "outputs": [
        {
          "name": "stdout",
          "output_type": "stream",
          "text": [
            "1.2804098316645618e-34\n",
            "Отвергаем нулевую гипотезу\n"
          ]
        }
      ],
      "source": [
        "# Возьмем созданные отдельные датафреймы по подпискам  в 4.2 и сравним\n",
        "ultra = ultra_full['duration']\n",
        "free = free_full['duration']\n",
        "results = st.ttest_ind(ultra,\n",
        "                       free,\n",
        "                       alternative = 'greater')\n",
        "alpha = 0.05\n",
        "print(results.pvalue)\n",
        "if results.pvalue < alpha:\n",
        "    print('Отвергаем нулевую гипотезу')\n",
        "else:\n",
        "    print('Не удалось отвергнуть нулевую гипотезу')"
      ]
    },
    {
      "cell_type": "code",
      "execution_count": null,
      "id": "a5a58621",
      "metadata": {
        "id": "a5a58621",
        "outputId": "8e1b8b86-07a3-48c1-9237-0e4523c2e3fb"
      },
      "outputs": [
        {
          "data": {
            "image/png": "[encoded data removed]",
            "text/plain": [
              "<Figure size 432x288 with 1 Axes>"
            ]
          },
          "metadata": {
            "needs_background": "light"
          },
          "output_type": "display_data"
        }
      ],
      "source": [
        "x = sns.barplot(data=df_full, x = 'month', y=\"duration\", hue = \"subscription_type\")\n",
        "x.set_title('Распределение продолжительности поездок по видам подписок и месяцам')\n",
        "x.set(xlabel='Номер месяца', ylabel='Продолжительность поездок');"
      ]
    },
    {
      "cell_type": "markdown",
      "id": "ba73aedc",
      "metadata": {
        "id": "ba73aedc"
      },
      "source": [
        "Проверили гипотезу, отвергли гипотезу о том, что время поездки пользователей на тарифе ultra равно времени поездки пользователей на тарифе free. По тесту выходит, что время использования самокатом на тарифе ultra больше чем на тарифе free. Первоначальные мои выводы о том, что пользователи на бесплатном тарифе катаются долше не подтвердились."
      ]
    },
    {
      "cell_type": "markdown",
      "id": "0f54a717",
      "metadata": {
        "id": "0f54a717"
      },
      "source": [
        "6.2 Расстояние одной поездки в\n",
        "3130 метров — оптимальное с точки зрения износа самоката. Можно ли сказать, что расстояние, которое проезжают пользователи с подпиской за одну поездку, не превышает\n",
        "3130 метров? Проверьте гипотезу и сделайте выводы."
      ]
    },
    {
      "cell_type": "markdown",
      "id": "e9c0e888",
      "metadata": {
        "id": "e9c0e888"
      },
      "source": [
        "H_0: Расстояние (distance) пользователей на подписке за одну поездку ultra = 3130 метров\n",
        "\n",
        "H_1: Расстояние (distance) пользователей на подписке за одну поездку ultra > 3130 метров"
      ]
    },
    {
      "cell_type": "markdown",
      "id": "76cbd1cb",
      "metadata": {
        "id": "76cbd1cb"
      },
      "source": [
        "H_1: Расстояние (distance) пользователей на подписке за одну поездку ultra > 3130 метров"
      ]
    },
    {
      "cell_type": "code",
      "execution_count": null,
      "id": "b1cae36a",
      "metadata": {
        "id": "b1cae36a",
        "outputId": "71184db2-27b4-4a7a-92af-582c95f0bbc8"
      },
      "outputs": [
        {
          "name": "stdout",
          "output_type": "stream",
          "text": [
            "0.9195649894697724\n",
            "Не удалось отвергнуть нулевую гипотезу\n"
          ]
        }
      ],
      "source": [
        "\n",
        "ultra_distance = ultra_full['distance']\n",
        "\n",
        "int_value = 3130\n",
        "\n",
        "alpha = 0.05\n",
        "\n",
        "results = st.ttest_1samp(\n",
        "    ultra_distance,\n",
        "    int_value,\n",
        "    alternative= 'greater') # проверяем больше ли среднее значение , чем 3130\n",
        "\n",
        "print(results.pvalue)\n",
        "\n",
        "if (results.pvalue < alpha):\n",
        "    print('Отвергаем нулевую гипотезу')\n",
        "else:\n",
        "    print('Не удалось отвергнуть нулевую гипотезу')"
      ]
    },
    {
      "cell_type": "markdown",
      "id": "01f92979",
      "metadata": {
        "id": "01f92979"
      },
      "source": [
        "Проверили гипотезу, и мы не можем утверждать, что расстояние, которое проехали пользователи на тарифе ultra за одну поездку не равно 3130 метров."
      ]
    },
    {
      "cell_type": "markdown",
      "id": "8fe34d5c",
      "metadata": {
        "id": "8fe34d5c"
      },
      "source": [
        "6.3. Проверьте гипотезу о том, будет ли помесячная выручка от пользователей с подпиской по месяцам выше, чем выручка от пользователей без подписки. Сделайте вывод."
      ]
    },
    {
      "cell_type": "markdown",
      "id": "0f1898c0",
      "metadata": {
        "id": "0f1898c0"
      },
      "source": [
        "H_0: Выручка (revenue_per_month) пользователей на подписке ultra = выручка (rev_month) пользователей на подписке free\n",
        "\n",
        "H_1: Выручка (revenue_per_month) пользователей на подписке ultra > выручка (rev_month) пользователей на подписке free\n",
        "\n",
        "alpha = 0.05"
      ]
    },
    {
      "cell_type": "code",
      "execution_count": null,
      "id": "ed113eb3",
      "metadata": {
        "id": "ed113eb3",
        "outputId": "1bd25ab8-a120-43e1-ba4d-e958f5f5cff1"
      },
      "outputs": [
        {
          "name": "stdout",
          "output_type": "stream",
          "text": [
            "2.8130926188487286e-35\n",
            "Отвергаем нулевую гипотезу\n"
          ]
        }
      ],
      "source": [
        "ultra_per_mnth = df_total.loc[df_total.subscription_type == 'ultra', 'rev_month']\n",
        "free_per_mnth = df_total.loc[df_total.subscription_type == 'free', 'rev_month']\n",
        "results = st.ttest_ind(ultra_per_mnth, free_per_mnth, alternative = 'greater')\n",
        "alpha = 0.05\n",
        "print(results.pvalue)\n",
        "if results.pvalue < alpha:\n",
        "    print('Отвергаем нулевую гипотезу')\n",
        "else:\n",
        "    print('Не удалось отвергнуть нулевую гипотезу')"
      ]
    },
    {
      "cell_type": "markdown",
      "id": "7cf1a72e",
      "metadata": {
        "id": "7cf1a72e"
      },
      "source": [
        "Здесь по резулату тест видим, что значение pvalue очень мало, поэтому отвергаем нулевую гипотезу и шансов, что выручки от пользователей на подписке и без равны практически нет."
      ]
    },
    {
      "cell_type": "markdown",
      "id": "8740227e",
      "metadata": {
        "id": "8740227e"
      },
      "source": [
        "6.4. Представьте такую ситуацию: техническая команда сервиса обновила сервера, с которыми взаимодействует мобильное приложение. Она надеется, что из-за этого количество обращений в техподдержку значимо снизилось. Некоторый файл содержит для каждого пользователя данные о количестве обращений до обновления и после него. Какой тест вам понадобился бы для проверки этой гипотезы?"
      ]
    },
    {
      "cell_type": "markdown",
      "id": "628f3097",
      "metadata": {
        "id": "628f3097"
      },
      "source": [
        "Здесь можем использовать гипотезу о равенстве средних для зависимых  выборок.\n",
        "\n",
        "Сформулируем гипотезы:\n",
        "\n",
        "H0 : μ1 = μ2\n",
        "H1 : μ1 != μ2\n",
        "где μ1 и μ2 - средние значения количество обращений в техподдержку до и после изменения.\n",
        "\n",
        "Метод, который нужно использовать при сравнении: scipy.stats.ttest_rel()"
      ]
    },
    {
      "cell_type": "markdown",
      "id": "61213c5e",
      "metadata": {
        "id": "61213c5e"
      },
      "source": [
        "#### Шаг 7. Распределения"
      ]
    },
    {
      "cell_type": "markdown",
      "id": "e4c2a0f9",
      "metadata": {
        "id": "e4c2a0f9"
      },
      "source": [
        "7.1 Отделу маркетинга GoFast поставили задачу: нужно провести акцию с раздачей промокодов на один бесплатный месяц подписки, в рамках которой как минимум 100 существующих клиентов должны продлить эту подписку. То есть по завершении периода действия подписки пользователь может либо отказаться от неё, либо продлить, совершив соответствующий платёж.\n",
        "\n",
        "Эта акция уже проводилась ранее и по итогу выяснилось, что после бесплатного пробного периода подписку продлевают\n",
        "10 % пользователей. Выясните, какое минимальное количество промокодов нужно разослать, чтобы вероятность не выполнить план была примерно 5 %. Подберите параметры распределения, описывающего эту ситуацию, постройте график распределения и сформулируйте ответ на вопрос о количестве промокодов.\n",
        "Нужно использовать биномиальное распределение, которое описывает указанную ситуацию. Затем подобрать подходящее значение параметра\n",
        "N для заданного параметра p=0.1 с помощью графиков и метода cdf() , сформулировать вывод и ответ."
      ]
    },
    {
      "cell_type": "markdown",
      "id": "80bf96fc",
      "metadata": {
        "id": "80bf96fc"
      },
      "source": [
        "Определим значение параметра n, начиная с некоторого числа (например, с 1) и увеличивая его до тех пор, пока значение cdf(N) не станет выше 0.95 (т.е. вероятность не выполнить план будет меньше 5%)."
      ]
    },
    {
      "cell_type": "code",
      "execution_count": null,
      "id": "0e2548dd",
      "metadata": {
        "id": "0e2548dd",
        "outputId": "55c4a5db-c05f-49ea-a844-0e531658cd48"
      },
      "outputs": [
        {
          "name": "stdout",
          "output_type": "stream",
          "text": [
            "Минимальное количество промокодов:  15\n"
          ]
        }
      ],
      "source": [
        "p = 0.1 # вероятность продления подписки\n",
        "target_prob = 0.05 # вероятность не выполнить план\n",
        "n = 1\n",
        "while binom.cdf(n, 100, p) < 1 - target_prob:\n",
        "     n += 1\n",
        "print(\"Минимальное количество промокодов: \", n)"
      ]
    },
    {
      "cell_type": "markdown",
      "id": "fde9afb1",
      "metadata": {
        "id": "fde9afb1"
      },
      "source": [
        "Построим график"
      ]
    },
    {
      "cell_type": "code",
      "execution_count": null,
      "id": "a58e08d6",
      "metadata": {
        "id": "a58e08d6",
        "outputId": "8508244e-7908-4906-d186-63cd39d625d6"
      },
      "outputs": [
        {
          "data": {
            "image/png": "[encoded data removed]",
            "text/plain": [
              "<Figure size 432x288 with 1 Axes>"
            ]
          },
          "metadata": {
            "needs_background": "light"
          },
          "output_type": "display_data"
        }
      ],
      "source": [
        "x = np.arange(0, n+1)\n",
        "y = binom.pmf(x, 100, p)\n",
        "\n",
        "plt.bar(x, y)\n",
        "plt.xlabel('Количество продления подписки')\n",
        "plt.ylabel('Вероятность')\n",
        "plt.title('Распределение вероятностей продления подписки')\n",
        "plt.show()"
      ]
    },
    {
      "cell_type": "markdown",
      "id": "1619aff3",
      "metadata": {
        "id": "1619aff3"
      },
      "source": [
        "По графику и расчетам можно сделать следующие выводы:\n",
        "\n",
        "В результате  выводится минимальное количество промокодов (15), которое нужно предложить для достижения вероятности не выполнить план (5%).\n",
        "Распределение вероятностей продления подписки имеет форму биномиального распределения. Вероятность наиболее высока для небольшого количества продлений и уменьшается по мере увеличения количества продлений. Это ожидаемый результат, так как с каждым следующим продлением вероятность отказа увеличивается.\n",
        "График наглядно демонстрирует, как вероятность продления подписки меняется с увеличением количества продлений. Это может помочь принять решение о необходимом количестве промокодов для достижения заданной вероятности."
      ]
    },
    {
      "cell_type": "markdown",
      "id": "1d581d4c",
      "metadata": {
        "id": "1d581d4c"
      },
      "source": [
        "7.2 Отдел маркетинга рассылает клиентам push-уведомления в мобильном приложении. Клиенты могут открыть его или не открывать. Известно, что уведомления открывают около 40 % получивших клиентов. Отдел планирует разослать\n",
        "1 млн уведомлений. С помощью аппроксимации постройте примерный график распределения и оцените вероятность того, что уведомление откроют не более 399,5 тыс. пользователей.\n",
        "\n",
        "Эта ситуация тоже описывается биномиальным распределением. Но считать каждое отдельное значение достаточно долго. Вы можете воспользоваться нормальной аппроксимацией биномиального распределения и cdf() для быстрой оценки."
      ]
    },
    {
      "cell_type": "code",
      "execution_count": null,
      "id": "98d20af5",
      "metadata": {
        "id": "98d20af5",
        "outputId": "13a53a0f-b068-4e65-8a12-09a122f8fe37"
      },
      "outputs": [
        {
          "name": "stdout",
          "output_type": "stream",
          "text": [
            "0.15371708296369768\n"
          ]
        }
      ],
      "source": [
        "# задаём параметры биномиального распределения\n",
        "n = 1000000\n",
        "p = 0.4\n",
        "# задаём параметры нормального распределения равными\n",
        "# мат.ожиданию и дисперсии биномиального распределения\n",
        "mu = n * p\n",
        "sigma = sqrt(n * p * (1 - p))\n",
        "# задаём нормальное распределение\n",
        "distr = st.norm(mu, sigma)\n",
        "# считаем вероятность хвоста слева от 399,5 тысяч\n",
        "result = distr.cdf(399500)\n",
        "print(result)"
      ]
    },
    {
      "cell_type": "markdown",
      "id": "05396b5e",
      "metadata": {
        "id": "05396b5e"
      },
      "source": [
        "Теперь у нас есть оценка вероятности того, что уведомление откроют не более 399,5 тыс. пользователей и это около 15%."
      ]
    },
    {
      "cell_type": "code",
      "execution_count": null,
      "id": "0224005c",
      "metadata": {
        "id": "0224005c",
        "outputId": "5224aef2-0598-475b-cd85-b7b476aa63d6"
      },
      "outputs": [
        {
          "data": {
            "image/png": "[encoded data removed]",
            "text/plain": [
              "<Figure size 432x288 with 1 Axes>"
            ]
          },
          "metadata": {
            "needs_background": "light"
          },
          "output_type": "display_data"
        },
        {
          "name": "stdout",
          "output_type": "stream",
          "text": [
            "Условие выполняется\n"
          ]
        }
      ],
      "source": [
        "# зададим функцию, которая выдаёт <num> чисел,\n",
        "# равномерно распределённых от <start> до <stop>\n",
        "# (понадобится для визуализации нормального распределения)\n",
        "def linspace(start, stop, num):\n",
        "    step = (stop - start) / (num - 1)\n",
        "    result = []\n",
        "    for i in range(num):\n",
        "        result.append(start + step * i)\n",
        "    return result\n",
        "# границы промежутка, в котором будем строить аппроксимацию -\n",
        "# от n*p минус 4 ст.отклонения бином.распределения\n",
        "# до n*p плюс 4 ст.отклонения бином.распределения\n",
        "# (там, где вероятности значений почти не равны нулю)\n",
        "left = int(n * p - 4 * sqrt(n * p * (1 - p)))\n",
        "right = int(n * p + 4 * sqrt(n * p * (1 - p)))\n",
        "# зададим набор значений биномиальной величины на выбр анном промежутке:\n",
        "# все неотрицательные целые числа от left до right\n",
        "x = list(range(max(0, left), right))\n",
        "# рисуем график биномиального распределения\n",
        "ax = plt.subplot()\n",
        "# используем синие о-образные маркеры и размер маркера 5\n",
        "ax.plot(x, binom.pmf(x, n, p), 'bo', ms=1,\n",
        "\t      label='вероятности биномиального распределения')\n",
        "# рисуем график нормального распределения:\n",
        "# получим список из 100 чисел от left до right\n",
        "x = linspace(left, right, 100)\n",
        "# используем красную линию ширины 10 и прозрачности 0.3\n",
        "ax.plot(x, st.norm.pdf(x, mu, sigma), 'r-', lw=10, alpha=0.3, label='плотность вероятности нормального распределения')\n",
        " # зададим подписи по оси x в пределах ± 3 ст.отклонений от мат.ожидания\n",
        "# (последний аргумент в методе range - интервал между подписями)\n",
        "x_ticks = list(range(int(mu - 3 * sigma), int(mu + 3 * sigma), 1))\n",
        "ax.set_xticks(x_ticks)\n",
        "# настраиваем оптимальное расположение легенды и выводим график\n",
        "ax.legend(loc='best')\n",
        "plt.show()\n",
        "# выводим, выполняется ли наше условие аппроксимации:\n",
        "# лежит ли mu ± 3 sigma в промежутке от 0 до n:\n",
        "if (mu - (3 * sigma) >= 0) and ((mu + (3 * sigma) <= n)):\n",
        "    print('Условие выполняется')\n",
        "else:\n",
        "    print('Условие не выполняется')"
      ]
    },
    {
      "cell_type": "markdown",
      "id": "85bd3d74",
      "metadata": {
        "id": "85bd3d74"
      },
      "source": [
        "<b>Вывод:</b>\n",
        "\n",
        "\n",
        "\n",
        "\n",
        "\n"
      ]
    },
    {
      "cell_type": "markdown",
      "id": "b8c51686",
      "metadata": {
        "id": "b8c51686"
      },
      "source": [
        "В ходе данного проекта мы загрузили три датафрейма с пользователями, информацией о поездках, информацией о подписках.\n",
        "Далее была проведена предобработка данных: данные проверены на пропуски, изменен тип данных у столбца date, добавлен столбец month с номером месяца.\n",
        "\n",
        "В ходе исследовательского анализа выявили, что самое больщое количество пользователей самокатами в горде Пятигорск, за ним идет Екатеринбург, а на последнем месте почему то оказалась Москва. Выяснили так же, что количество пользователей без подписки больше, чем с подпиской примерно на 10%. Вычислили основной возраст для пользователей самокатами от 20 до 35 лет, но встречаются пользователи - дети до 15 и взрослые до 45 лет.  В среднем пользователи берут самокат на время от 5 до 30 минут и проезжают расстояние от 2 до 5 км.\n",
        "\n",
        "Далее были объединены все три датафрейма в один, а затем поделены на две категории с подпиской и без. В итоге исследования сделали вывод, что пользователи без подписки приносят прокату самокатов больше дохода, чем пользователи с подпиской и проезжают большее расстояние, тратя больше времени на поздки, чем пользователи с подпиской. Хотя проверяя дальше гипотезы это не подтвердилось. Проверяли гипотезу, что время пользователей с подпиской равно времени пользователей без подписки и эту гипотезу не подтвердили. так же отвергли гипотезу о том чторасстояние одной поздки пользователй с подпиской и без равны. Гипотеза о равенстве выручки так же отвергнута.\n",
        "\n",
        "На 7 шаге  удалось расчитать минимальное количество промокодов, которое нужно предложить пользователям, для достижения вероятности не выполнить план на 5%. Выяснили что вероятность наиболее высока для небольшого количества продлений и уменьшается по мере увеличения количества продлений. Это ожидаемый результат, так как с каждым следующим продлением вероятность отказа увеличивается.\n",
        "\n",
        "В конце исследования удалось получить оценку вероятности того, что уведомление откроют не более 399,5 тыс. пользователей и это около 15%.\n",
        "Далее с пмощью аппроксимации построили примерный график распределения."
      ]
    }
  ],
  "metadata": {
    "ExecuteTimeLog": [
      {
        "duration": 127,
        "start_time": "2023-08-20T04:41:28.736Z"
      },
      {
        "duration": 1337,
        "start_time": "2023-08-20T05:00:37.442Z"
      },
      {
        "duration": 315,
        "start_time": "2023-08-20T05:00:39.861Z"
      },
      {
        "duration": 10,
        "start_time": "2023-08-20T05:00:46.085Z"
      },
      {
        "duration": 93,
        "start_time": "2023-08-20T05:02:25.993Z"
      },
      {
        "duration": 3,
        "start_time": "2023-08-20T05:02:57.075Z"
      },
      {
        "duration": 75,
        "start_time": "2023-08-20T05:02:58.955Z"
      },
      {
        "duration": 8,
        "start_time": "2023-08-20T05:03:01.036Z"
      },
      {
        "duration": 9,
        "start_time": "2023-08-20T05:03:22.708Z"
      },
      {
        "duration": 9,
        "start_time": "2023-08-20T05:03:31.667Z"
      },
      {
        "duration": 10,
        "start_time": "2023-08-20T05:04:05.508Z"
      },
      {
        "duration": 70,
        "start_time": "2023-08-20T05:04:54.778Z"
      },
      {
        "duration": 12,
        "start_time": "2023-08-20T05:04:56.978Z"
      },
      {
        "duration": 69,
        "start_time": "2023-08-20T05:05:12.186Z"
      },
      {
        "duration": 13,
        "start_time": "2023-08-20T05:05:19.058Z"
      },
      {
        "duration": 9,
        "start_time": "2023-08-20T05:06:00.396Z"
      },
      {
        "duration": 11,
        "start_time": "2023-08-20T05:06:13.185Z"
      },
      {
        "duration": 11,
        "start_time": "2023-08-20T05:06:18.929Z"
      },
      {
        "duration": 8,
        "start_time": "2023-08-20T05:06:24.746Z"
      },
      {
        "duration": 9,
        "start_time": "2023-08-20T05:06:26.737Z"
      },
      {
        "duration": 121,
        "start_time": "2023-08-20T05:06:37.009Z"
      },
      {
        "duration": 7,
        "start_time": "2023-08-20T05:06:40.361Z"
      },
      {
        "duration": 10,
        "start_time": "2023-08-20T05:07:42.184Z"
      },
      {
        "duration": 8,
        "start_time": "2023-08-20T05:08:05.528Z"
      },
      {
        "duration": 11,
        "start_time": "2023-08-20T05:08:21.503Z"
      },
      {
        "duration": 11,
        "start_time": "2023-08-20T05:08:38.648Z"
      },
      {
        "duration": 12,
        "start_time": "2023-08-20T05:08:56.070Z"
      },
      {
        "duration": 2093,
        "start_time": "2023-08-20T05:16:13.312Z"
      },
      {
        "duration": 8,
        "start_time": "2023-08-20T05:16:56.247Z"
      },
      {
        "duration": 20,
        "start_time": "2023-08-20T05:17:20.511Z"
      },
      {
        "duration": 5,
        "start_time": "2023-08-20T05:20:52.484Z"
      },
      {
        "duration": 11,
        "start_time": "2023-08-20T05:21:13.947Z"
      },
      {
        "duration": 17,
        "start_time": "2023-08-20T05:21:38.955Z"
      },
      {
        "duration": 8,
        "start_time": "2023-08-20T05:24:59.545Z"
      },
      {
        "duration": 8,
        "start_time": "2023-08-20T05:25:02.137Z"
      },
      {
        "duration": 7,
        "start_time": "2023-08-20T05:25:04.200Z"
      },
      {
        "duration": 6,
        "start_time": "2023-08-20T05:32:24.698Z"
      },
      {
        "duration": 150,
        "start_time": "2023-08-20T05:32:37.123Z"
      },
      {
        "duration": 245,
        "start_time": "2023-08-20T05:32:51.211Z"
      },
      {
        "duration": 155,
        "start_time": "2023-08-20T05:32:57.754Z"
      },
      {
        "duration": 176,
        "start_time": "2023-08-20T05:33:22.633Z"
      },
      {
        "duration": 16,
        "start_time": "2023-08-20T05:36:34.216Z"
      },
      {
        "duration": 166,
        "start_time": "2023-08-20T05:37:12.000Z"
      },
      {
        "duration": 339,
        "start_time": "2023-08-20T05:37:40.295Z"
      },
      {
        "duration": 166,
        "start_time": "2023-08-20T05:37:46.118Z"
      },
      {
        "duration": 16,
        "start_time": "2023-08-20T05:41:49.740Z"
      },
      {
        "duration": 19,
        "start_time": "2023-08-20T05:42:01.140Z"
      },
      {
        "duration": 15,
        "start_time": "2023-08-20T05:45:11.682Z"
      },
      {
        "duration": 18,
        "start_time": "2023-08-20T05:45:19.090Z"
      },
      {
        "duration": 18,
        "start_time": "2023-08-20T05:45:44.955Z"
      },
      {
        "duration": 16,
        "start_time": "2023-08-20T05:46:06.578Z"
      },
      {
        "duration": 14,
        "start_time": "2023-08-20T05:46:12.618Z"
      },
      {
        "duration": 16,
        "start_time": "2023-08-20T05:50:15.784Z"
      },
      {
        "duration": 21,
        "start_time": "2023-08-20T05:50:23.368Z"
      },
      {
        "duration": 14,
        "start_time": "2023-08-20T05:50:42.217Z"
      },
      {
        "duration": 13,
        "start_time": "2023-08-20T05:50:54.088Z"
      },
      {
        "duration": 165,
        "start_time": "2023-08-20T05:51:23.664Z"
      },
      {
        "duration": 1788,
        "start_time": "2023-08-20T05:52:11.368Z"
      },
      {
        "duration": 12,
        "start_time": "2023-08-20T05:52:27.319Z"
      },
      {
        "duration": 1886,
        "start_time": "2023-08-20T05:53:16.111Z"
      },
      {
        "duration": 168,
        "start_time": "2023-08-20T05:53:30.414Z"
      },
      {
        "duration": 192,
        "start_time": "2023-08-20T05:53:43.734Z"
      },
      {
        "duration": 192,
        "start_time": "2023-08-20T05:53:56.910Z"
      },
      {
        "duration": 198,
        "start_time": "2023-08-20T05:54:04.207Z"
      },
      {
        "duration": 213,
        "start_time": "2023-08-20T05:54:32.222Z"
      },
      {
        "duration": 250,
        "start_time": "2023-08-20T05:54:37.318Z"
      },
      {
        "duration": 15,
        "start_time": "2023-08-20T05:56:07.724Z"
      },
      {
        "duration": 3224,
        "start_time": "2023-08-20T05:56:30.245Z"
      },
      {
        "duration": 1855,
        "start_time": "2023-08-20T05:57:14.644Z"
      },
      {
        "duration": 18,
        "start_time": "2023-08-20T05:57:25.732Z"
      },
      {
        "duration": 1879,
        "start_time": "2023-08-20T05:57:58.580Z"
      },
      {
        "duration": 1848,
        "start_time": "2023-08-20T05:58:05.772Z"
      },
      {
        "duration": 16,
        "start_time": "2023-08-20T05:58:17.772Z"
      },
      {
        "duration": 359,
        "start_time": "2023-08-20T05:58:49.580Z"
      },
      {
        "duration": 225,
        "start_time": "2023-08-20T05:59:05.165Z"
      },
      {
        "duration": 208,
        "start_time": "2023-08-20T05:59:13.949Z"
      },
      {
        "duration": 6,
        "start_time": "2023-08-20T05:59:39.338Z"
      },
      {
        "duration": 193,
        "start_time": "2023-08-20T05:59:43.491Z"
      },
      {
        "duration": 246,
        "start_time": "2023-08-20T05:59:58.875Z"
      },
      {
        "duration": 200,
        "start_time": "2023-08-20T06:00:15.672Z"
      },
      {
        "duration": 12,
        "start_time": "2023-08-20T06:00:51.530Z"
      },
      {
        "duration": 12,
        "start_time": "2023-08-20T06:00:56.122Z"
      },
      {
        "duration": 14,
        "start_time": "2023-08-20T06:00:58.563Z"
      },
      {
        "duration": 195,
        "start_time": "2023-08-20T06:01:05.026Z"
      },
      {
        "duration": 191,
        "start_time": "2023-08-20T06:52:59.693Z"
      },
      {
        "duration": 301,
        "start_time": "2023-08-20T06:53:05.781Z"
      },
      {
        "duration": 195,
        "start_time": "2023-08-20T06:53:10.214Z"
      },
      {
        "duration": 6,
        "start_time": "2023-08-20T06:53:47.574Z"
      },
      {
        "duration": 1309,
        "start_time": "2023-08-20T11:53:25.246Z"
      },
      {
        "duration": 198,
        "start_time": "2023-08-20T11:53:28.992Z"
      },
      {
        "duration": 13,
        "start_time": "2023-08-20T11:53:32.398Z"
      },
      {
        "duration": 12,
        "start_time": "2023-08-20T11:53:36.348Z"
      },
      {
        "duration": 9,
        "start_time": "2023-08-20T11:53:42.968Z"
      },
      {
        "duration": 15,
        "start_time": "2023-08-20T11:53:45.002Z"
      },
      {
        "duration": 7,
        "start_time": "2023-08-20T11:53:47.589Z"
      },
      {
        "duration": 11,
        "start_time": "2023-08-20T11:53:50.903Z"
      },
      {
        "duration": 14,
        "start_time": "2023-08-20T11:53:57.551Z"
      },
      {
        "duration": 11,
        "start_time": "2023-08-20T11:54:07.237Z"
      },
      {
        "duration": 6,
        "start_time": "2023-08-20T11:54:12.701Z"
      },
      {
        "duration": 7,
        "start_time": "2023-08-20T11:54:16.793Z"
      },
      {
        "duration": 6,
        "start_time": "2023-08-20T11:54:18.685Z"
      },
      {
        "duration": 5,
        "start_time": "2023-08-20T11:54:32.499Z"
      },
      {
        "duration": 197,
        "start_time": "2023-08-20T11:54:40.177Z"
      },
      {
        "duration": 82,
        "start_time": "2023-08-20T11:55:21.722Z"
      },
      {
        "duration": 79,
        "start_time": "2023-08-20T11:55:35.838Z"
      },
      {
        "duration": 12,
        "start_time": "2023-08-20T11:56:00.185Z"
      },
      {
        "duration": 10,
        "start_time": "2023-08-20T11:56:33.891Z"
      },
      {
        "duration": 8,
        "start_time": "2023-08-20T11:56:54.339Z"
      },
      {
        "duration": 9,
        "start_time": "2023-08-20T11:57:51.770Z"
      },
      {
        "duration": 110,
        "start_time": "2023-08-20T12:07:18.159Z"
      },
      {
        "duration": 16,
        "start_time": "2023-08-20T12:07:27.609Z"
      },
      {
        "duration": 16,
        "start_time": "2023-08-20T12:07:40.054Z"
      },
      {
        "duration": 95,
        "start_time": "2023-08-20T12:07:50.136Z"
      },
      {
        "duration": 119,
        "start_time": "2023-08-20T12:08:15.567Z"
      },
      {
        "duration": 192,
        "start_time": "2023-08-20T12:09:22.340Z"
      },
      {
        "duration": 149,
        "start_time": "2023-08-20T12:10:00.203Z"
      },
      {
        "duration": 158,
        "start_time": "2023-08-20T12:10:05.753Z"
      },
      {
        "duration": 19,
        "start_time": "2023-08-20T12:10:25.137Z"
      },
      {
        "duration": 171,
        "start_time": "2023-08-20T12:10:32.465Z"
      },
      {
        "duration": 11,
        "start_time": "2023-08-20T12:13:36.073Z"
      },
      {
        "duration": 132,
        "start_time": "2023-08-20T12:13:59.740Z"
      },
      {
        "duration": 93,
        "start_time": "2023-08-20T12:14:54.842Z"
      },
      {
        "duration": 107,
        "start_time": "2023-08-20T12:14:59.145Z"
      },
      {
        "duration": 64,
        "start_time": "2023-08-20T12:15:41.578Z"
      },
      {
        "duration": 80,
        "start_time": "2023-08-20T12:15:55.828Z"
      },
      {
        "duration": 170,
        "start_time": "2023-08-20T12:16:10.591Z"
      },
      {
        "duration": 81,
        "start_time": "2023-08-20T12:16:14.672Z"
      },
      {
        "duration": 8,
        "start_time": "2023-08-20T12:16:52.035Z"
      },
      {
        "duration": 66,
        "start_time": "2023-08-20T12:17:24.877Z"
      },
      {
        "duration": 8,
        "start_time": "2023-08-20T12:21:20.780Z"
      },
      {
        "duration": 122,
        "start_time": "2023-08-20T12:21:34.765Z"
      },
      {
        "duration": 123,
        "start_time": "2023-08-20T12:21:46.008Z"
      },
      {
        "duration": 68,
        "start_time": "2023-08-20T12:22:54.577Z"
      },
      {
        "duration": 68,
        "start_time": "2023-08-20T12:23:27.274Z"
      },
      {
        "duration": 111,
        "start_time": "2023-08-20T12:24:00.552Z"
      },
      {
        "duration": 11,
        "start_time": "2023-08-20T12:25:25.118Z"
      },
      {
        "duration": 12,
        "start_time": "2023-08-20T12:25:35.684Z"
      },
      {
        "duration": 83,
        "start_time": "2023-08-20T12:25:49.204Z"
      },
      {
        "duration": 90,
        "start_time": "2023-08-20T12:28:06.414Z"
      },
      {
        "duration": 96,
        "start_time": "2023-08-20T12:28:38.079Z"
      },
      {
        "duration": 13,
        "start_time": "2023-08-20T12:31:00.283Z"
      },
      {
        "duration": 144,
        "start_time": "2023-08-20T12:31:11.995Z"
      },
      {
        "duration": 77,
        "start_time": "2023-08-20T12:31:49.122Z"
      },
      {
        "duration": 107,
        "start_time": "2023-08-20T12:31:53.011Z"
      },
      {
        "duration": 70,
        "start_time": "2023-08-20T12:31:59.875Z"
      },
      {
        "duration": 77,
        "start_time": "2023-08-20T12:33:12.291Z"
      },
      {
        "duration": 88,
        "start_time": "2023-08-20T12:33:22.200Z"
      },
      {
        "duration": 82,
        "start_time": "2023-08-20T12:33:37.046Z"
      },
      {
        "duration": 122,
        "start_time": "2023-08-20T12:33:51.681Z"
      },
      {
        "duration": 101,
        "start_time": "2023-08-20T12:34:09.616Z"
      },
      {
        "duration": 129,
        "start_time": "2023-08-20T12:37:08.365Z"
      },
      {
        "duration": 93,
        "start_time": "2023-08-20T12:37:37.717Z"
      },
      {
        "duration": 95,
        "start_time": "2023-08-20T12:43:23.281Z"
      },
      {
        "duration": 108,
        "start_time": "2023-08-20T12:43:48.634Z"
      },
      {
        "duration": 17,
        "start_time": "2023-08-20T12:44:03.977Z"
      },
      {
        "duration": 17,
        "start_time": "2023-08-20T12:45:57.275Z"
      },
      {
        "duration": 18,
        "start_time": "2023-08-20T12:47:10.642Z"
      },
      {
        "duration": 20,
        "start_time": "2023-08-20T12:49:34.679Z"
      },
      {
        "duration": 11,
        "start_time": "2023-08-20T12:50:30.791Z"
      },
      {
        "duration": 12,
        "start_time": "2023-08-20T12:50:46.621Z"
      },
      {
        "duration": 15,
        "start_time": "2023-08-20T12:51:18.695Z"
      },
      {
        "duration": 10,
        "start_time": "2023-08-20T12:52:21.935Z"
      },
      {
        "duration": 127,
        "start_time": "2023-08-20T12:53:20.493Z"
      },
      {
        "duration": 216,
        "start_time": "2023-08-20T12:58:26.071Z"
      },
      {
        "duration": 348,
        "start_time": "2023-08-20T12:58:58.020Z"
      },
      {
        "duration": 259,
        "start_time": "2023-08-20T12:59:32.387Z"
      },
      {
        "duration": 11,
        "start_time": "2023-08-20T13:05:23.420Z"
      },
      {
        "duration": 4,
        "start_time": "2023-08-20T13:05:29.817Z"
      },
      {
        "duration": 6,
        "start_time": "2023-08-20T13:05:38.117Z"
      },
      {
        "duration": 123,
        "start_time": "2023-08-20T13:07:43.087Z"
      },
      {
        "duration": 13553,
        "start_time": "2023-08-20T13:08:33.733Z"
      },
      {
        "duration": 190,
        "start_time": "2023-08-20T13:10:05.694Z"
      },
      {
        "duration": 196,
        "start_time": "2023-08-20T13:10:55.349Z"
      },
      {
        "duration": 14,
        "start_time": "2023-08-20T13:18:32.080Z"
      },
      {
        "duration": 1118,
        "start_time": "2023-08-20T13:19:41.515Z"
      },
      {
        "duration": 1113,
        "start_time": "2023-08-20T13:19:49.809Z"
      },
      {
        "duration": 190,
        "start_time": "2023-08-20T13:20:10.581Z"
      },
      {
        "duration": 7,
        "start_time": "2023-08-20T13:23:20.398Z"
      },
      {
        "duration": 11,
        "start_time": "2023-08-20T13:23:45.732Z"
      },
      {
        "duration": 7,
        "start_time": "2023-08-20T13:23:50.291Z"
      },
      {
        "duration": 9,
        "start_time": "2023-08-20T13:24:24.603Z"
      },
      {
        "duration": 8,
        "start_time": "2023-08-20T13:24:47.084Z"
      },
      {
        "duration": 208,
        "start_time": "2023-08-20T13:25:28.613Z"
      },
      {
        "duration": 8,
        "start_time": "2023-08-20T13:32:11.482Z"
      },
      {
        "duration": 9,
        "start_time": "2023-08-20T13:32:23.381Z"
      },
      {
        "duration": 9,
        "start_time": "2023-08-20T13:32:27.045Z"
      },
      {
        "duration": 208,
        "start_time": "2023-08-20T13:32:28.966Z"
      },
      {
        "duration": 221,
        "start_time": "2023-08-20T13:32:46.508Z"
      },
      {
        "duration": 220,
        "start_time": "2023-08-20T13:33:00.972Z"
      },
      {
        "duration": 7,
        "start_time": "2023-08-20T13:33:05.582Z"
      },
      {
        "duration": 476,
        "start_time": "2023-08-20T13:33:49.944Z"
      },
      {
        "duration": 82,
        "start_time": "2023-08-21T06:50:34.585Z"
      },
      {
        "duration": 12,
        "start_time": "2023-08-21T06:50:47.232Z"
      },
      {
        "duration": 1521,
        "start_time": "2023-08-21T06:50:50.206Z"
      },
      {
        "duration": 211,
        "start_time": "2023-08-21T06:50:52.072Z"
      },
      {
        "duration": 18,
        "start_time": "2023-08-21T06:50:54.296Z"
      },
      {
        "duration": 13,
        "start_time": "2023-08-21T06:50:56.989Z"
      },
      {
        "duration": 12,
        "start_time": "2023-08-21T06:50:59.119Z"
      },
      {
        "duration": 14,
        "start_time": "2023-08-21T06:51:01.750Z"
      },
      {
        "duration": 7,
        "start_time": "2023-08-21T06:51:03.704Z"
      },
      {
        "duration": 13,
        "start_time": "2023-08-21T06:51:06.575Z"
      },
      {
        "duration": 17,
        "start_time": "2023-08-21T06:51:08.975Z"
      },
      {
        "duration": 15,
        "start_time": "2023-08-21T06:51:11.959Z"
      },
      {
        "duration": 11,
        "start_time": "2023-08-21T06:51:14.855Z"
      },
      {
        "duration": 9,
        "start_time": "2023-08-21T06:51:17.662Z"
      },
      {
        "duration": 13,
        "start_time": "2023-08-21T06:51:19.520Z"
      },
      {
        "duration": 7,
        "start_time": "2023-08-21T06:51:21.599Z"
      },
      {
        "duration": 221,
        "start_time": "2023-08-21T06:51:23.982Z"
      },
      {
        "duration": 13,
        "start_time": "2023-08-21T06:51:25.975Z"
      },
      {
        "duration": 235,
        "start_time": "2023-08-21T06:51:28.182Z"
      },
      {
        "duration": 9,
        "start_time": "2023-08-21T06:51:30.775Z"
      },
      {
        "duration": 213,
        "start_time": "2023-08-21T06:51:32.750Z"
      },
      {
        "duration": 9,
        "start_time": "2023-08-21T06:51:35.270Z"
      },
      {
        "duration": 225,
        "start_time": "2023-08-21T06:51:37.911Z"
      },
      {
        "duration": 102,
        "start_time": "2023-08-21T06:51:40.397Z"
      },
      {
        "duration": 27,
        "start_time": "2023-08-21T06:53:53.208Z"
      },
      {
        "duration": 39,
        "start_time": "2023-08-21T06:57:22.798Z"
      },
      {
        "duration": 4,
        "start_time": "2023-08-21T06:58:55.031Z"
      },
      {
        "duration": 86,
        "start_time": "2023-08-21T06:58:56.712Z"
      },
      {
        "duration": 9,
        "start_time": "2023-08-21T06:58:59.245Z"
      },
      {
        "duration": 11,
        "start_time": "2023-08-21T06:59:01.327Z"
      },
      {
        "duration": 10,
        "start_time": "2023-08-21T06:59:03.773Z"
      },
      {
        "duration": 16,
        "start_time": "2023-08-21T06:59:05.749Z"
      },
      {
        "duration": 9,
        "start_time": "2023-08-21T06:59:08.878Z"
      },
      {
        "duration": 13,
        "start_time": "2023-08-21T07:00:04.822Z"
      },
      {
        "duration": 15,
        "start_time": "2023-08-21T07:00:06.973Z"
      },
      {
        "duration": 13,
        "start_time": "2023-08-21T07:00:09.430Z"
      },
      {
        "duration": 8,
        "start_time": "2023-08-21T07:00:11.853Z"
      },
      {
        "duration": 12,
        "start_time": "2023-08-21T07:00:14.213Z"
      },
      {
        "duration": 20,
        "start_time": "2023-08-21T07:00:16.838Z"
      },
      {
        "duration": 12,
        "start_time": "2023-08-21T07:00:19.518Z"
      },
      {
        "duration": 9,
        "start_time": "2023-08-21T07:00:23.062Z"
      },
      {
        "duration": 9,
        "start_time": "2023-08-21T07:00:24.917Z"
      },
      {
        "duration": 8,
        "start_time": "2023-08-21T07:00:27.102Z"
      },
      {
        "duration": 7,
        "start_time": "2023-08-21T07:00:29.157Z"
      },
      {
        "duration": 14,
        "start_time": "2023-08-21T07:00:32.031Z"
      },
      {
        "duration": 290,
        "start_time": "2023-08-21T07:00:34.310Z"
      },
      {
        "duration": 11,
        "start_time": "2023-08-21T07:00:36.894Z"
      },
      {
        "duration": 221,
        "start_time": "2023-08-21T07:00:39.286Z"
      },
      {
        "duration": 10,
        "start_time": "2023-08-21T07:00:41.629Z"
      },
      {
        "duration": 32,
        "start_time": "2023-08-21T07:00:43.846Z"
      },
      {
        "duration": 39,
        "start_time": "2023-08-21T07:01:26.246Z"
      },
      {
        "duration": 10,
        "start_time": "2023-08-21T07:04:11.237Z"
      },
      {
        "duration": 12,
        "start_time": "2023-08-21T07:04:40.749Z"
      },
      {
        "duration": 240,
        "start_time": "2023-08-21T08:09:17.841Z"
      },
      {
        "duration": 219,
        "start_time": "2023-08-21T08:11:49.682Z"
      },
      {
        "duration": 202,
        "start_time": "2023-08-21T08:12:30.555Z"
      },
      {
        "duration": 203,
        "start_time": "2023-08-21T08:13:35.497Z"
      },
      {
        "duration": 315,
        "start_time": "2023-08-21T08:14:36.768Z"
      },
      {
        "duration": 210,
        "start_time": "2023-08-21T08:14:39.593Z"
      },
      {
        "duration": 205,
        "start_time": "2023-08-21T08:16:54.095Z"
      },
      {
        "duration": 211,
        "start_time": "2023-08-21T08:17:00.031Z"
      },
      {
        "duration": 238,
        "start_time": "2023-08-21T08:20:17.302Z"
      },
      {
        "duration": 19,
        "start_time": "2023-08-21T08:27:40.861Z"
      },
      {
        "duration": 1069,
        "start_time": "2023-08-21T08:30:26.757Z"
      },
      {
        "duration": 995,
        "start_time": "2023-08-21T08:32:35.430Z"
      },
      {
        "duration": 885,
        "start_time": "2023-08-21T08:32:51.047Z"
      },
      {
        "duration": 13,
        "start_time": "2023-08-21T08:33:12.319Z"
      },
      {
        "duration": 1015,
        "start_time": "2023-08-21T08:33:17.718Z"
      },
      {
        "duration": 927,
        "start_time": "2023-08-21T08:33:23.398Z"
      },
      {
        "duration": 905,
        "start_time": "2023-08-21T08:33:30.758Z"
      },
      {
        "duration": 99,
        "start_time": "2023-08-21T08:34:25.241Z"
      },
      {
        "duration": 16,
        "start_time": "2023-08-21T08:34:48.831Z"
      },
      {
        "duration": 981,
        "start_time": "2023-08-21T08:34:57.542Z"
      },
      {
        "duration": 928,
        "start_time": "2023-08-21T08:35:20.097Z"
      },
      {
        "duration": 936,
        "start_time": "2023-08-21T08:40:46.489Z"
      },
      {
        "duration": 911,
        "start_time": "2023-08-21T08:41:58.963Z"
      },
      {
        "duration": 891,
        "start_time": "2023-08-21T08:42:12.164Z"
      },
      {
        "duration": 897,
        "start_time": "2023-08-21T08:42:54.569Z"
      },
      {
        "duration": 966,
        "start_time": "2023-08-21T08:43:40.450Z"
      },
      {
        "duration": 3,
        "start_time": "2023-08-21T08:45:30.321Z"
      },
      {
        "duration": 9,
        "start_time": "2023-08-21T08:46:05.657Z"
      },
      {
        "duration": 13,
        "start_time": "2023-08-21T08:46:09.665Z"
      },
      {
        "duration": 11,
        "start_time": "2023-08-21T08:48:34.337Z"
      },
      {
        "duration": 4,
        "start_time": "2023-08-21T08:51:48.233Z"
      },
      {
        "duration": 21,
        "start_time": "2023-08-21T11:06:00.405Z"
      },
      {
        "duration": 11,
        "start_time": "2023-08-21T11:14:32.551Z"
      },
      {
        "duration": 6,
        "start_time": "2023-08-21T11:14:36.829Z"
      },
      {
        "duration": 3600,
        "start_time": "2023-08-21T11:14:38.543Z"
      },
      {
        "duration": 5,
        "start_time": "2023-08-21T11:15:29.607Z"
      },
      {
        "duration": 178,
        "start_time": "2023-08-21T11:15:33.736Z"
      },
      {
        "duration": 191,
        "start_time": "2023-08-21T11:16:41.368Z"
      },
      {
        "duration": 172,
        "start_time": "2023-08-21T11:17:52.816Z"
      },
      {
        "duration": 9,
        "start_time": "2023-08-21T11:25:40.912Z"
      },
      {
        "duration": 192,
        "start_time": "2023-08-21T11:26:58.528Z"
      },
      {
        "duration": 261,
        "start_time": "2023-08-21T11:27:09.247Z"
      },
      {
        "duration": 193,
        "start_time": "2023-08-21T11:29:01.768Z"
      },
      {
        "duration": 11,
        "start_time": "2023-08-21T11:34:05.817Z"
      },
      {
        "duration": 5,
        "start_time": "2023-08-21T11:47:08.672Z"
      },
      {
        "duration": 938,
        "start_time": "2023-08-21T11:49:22.448Z"
      },
      {
        "duration": 957,
        "start_time": "2023-08-21T11:49:46.809Z"
      },
      {
        "duration": 995,
        "start_time": "2023-08-21T11:50:17.425Z"
      },
      {
        "duration": 1024,
        "start_time": "2023-08-21T11:50:26.353Z"
      },
      {
        "duration": 750,
        "start_time": "2023-08-21T11:51:21.153Z"
      },
      {
        "duration": 19,
        "start_time": "2023-08-21T11:53:30.874Z"
      },
      {
        "duration": 259,
        "start_time": "2023-08-21T11:56:03.154Z"
      },
      {
        "duration": 528,
        "start_time": "2023-08-21T11:56:24.147Z"
      },
      {
        "duration": 1098,
        "start_time": "2023-08-21T11:57:15.133Z"
      },
      {
        "duration": 1028,
        "start_time": "2023-08-21T11:58:18.667Z"
      },
      {
        "duration": 135,
        "start_time": "2023-08-21T12:01:14.106Z"
      },
      {
        "duration": 953,
        "start_time": "2023-08-21T12:01:29.213Z"
      },
      {
        "duration": 767,
        "start_time": "2023-08-21T12:02:41.476Z"
      },
      {
        "duration": 956,
        "start_time": "2023-08-21T12:02:53.206Z"
      },
      {
        "duration": 953,
        "start_time": "2023-08-21T12:04:20.414Z"
      },
      {
        "duration": 1063,
        "start_time": "2023-08-21T12:04:46.477Z"
      },
      {
        "duration": 1078,
        "start_time": "2023-08-21T12:04:53.062Z"
      },
      {
        "duration": 1024,
        "start_time": "2023-08-21T12:05:02.134Z"
      },
      {
        "duration": 8,
        "start_time": "2023-08-21T12:43:04.806Z"
      },
      {
        "duration": 140,
        "start_time": "2023-08-21T12:43:19.084Z"
      },
      {
        "duration": 6,
        "start_time": "2023-08-21T12:43:25.128Z"
      },
      {
        "duration": 5,
        "start_time": "2023-08-21T12:45:02.561Z"
      },
      {
        "duration": 1864,
        "start_time": "2023-08-21T12:48:35.002Z"
      },
      {
        "duration": 12,
        "start_time": "2023-08-21T12:50:18.816Z"
      },
      {
        "duration": 7,
        "start_time": "2023-08-21T13:28:17.230Z"
      },
      {
        "duration": 1057,
        "start_time": "2023-08-21T13:28:19.920Z"
      },
      {
        "duration": 18,
        "start_time": "2023-08-21T13:41:38.777Z"
      },
      {
        "duration": 1055,
        "start_time": "2023-08-21T13:41:50.824Z"
      },
      {
        "duration": 7,
        "start_time": "2023-08-21T13:41:55.968Z"
      },
      {
        "duration": 10,
        "start_time": "2023-08-21T13:41:58.544Z"
      },
      {
        "duration": 11,
        "start_time": "2023-08-21T13:43:54.509Z"
      },
      {
        "duration": 14,
        "start_time": "2023-08-21T13:46:06.696Z"
      },
      {
        "duration": 17,
        "start_time": "2023-08-21T13:46:44.074Z"
      },
      {
        "duration": 1767,
        "start_time": "2023-08-22T07:00:38.218Z"
      },
      {
        "duration": 1104,
        "start_time": "2023-08-22T07:01:03.322Z"
      },
      {
        "duration": 441,
        "start_time": "2023-08-22T07:01:09.769Z"
      },
      {
        "duration": 321,
        "start_time": "2023-08-22T07:01:22.265Z"
      },
      {
        "duration": 297,
        "start_time": "2023-08-22T07:01:28.873Z"
      },
      {
        "duration": 482,
        "start_time": "2023-08-22T07:01:32.618Z"
      },
      {
        "duration": 1902,
        "start_time": "2023-08-22T07:05:50.873Z"
      },
      {
        "duration": 210,
        "start_time": "2023-08-22T07:05:58.473Z"
      },
      {
        "duration": 226,
        "start_time": "2023-08-22T07:07:02.857Z"
      },
      {
        "duration": 444,
        "start_time": "2023-08-22T07:09:16.530Z"
      },
      {
        "duration": 312,
        "start_time": "2023-08-22T07:11:25.179Z"
      },
      {
        "duration": 356,
        "start_time": "2023-08-22T07:12:07.603Z"
      },
      {
        "duration": 2018,
        "start_time": "2023-08-22T07:15:01.658Z"
      },
      {
        "duration": 1308,
        "start_time": "2023-08-22T07:15:35.114Z"
      },
      {
        "duration": 967,
        "start_time": "2023-08-22T07:22:50.002Z"
      },
      {
        "duration": 1385,
        "start_time": "2023-08-22T07:22:59.363Z"
      },
      {
        "duration": 2084,
        "start_time": "2023-08-22T07:23:19.251Z"
      },
      {
        "duration": 5,
        "start_time": "2023-08-22T07:29:11.599Z"
      },
      {
        "duration": 8,
        "start_time": "2023-08-22T07:30:20.018Z"
      },
      {
        "duration": 8,
        "start_time": "2023-08-22T07:30:26.364Z"
      },
      {
        "duration": 6,
        "start_time": "2023-08-22T07:46:35.747Z"
      },
      {
        "duration": 5,
        "start_time": "2023-08-22T08:11:51.115Z"
      },
      {
        "duration": 17,
        "start_time": "2023-08-22T08:12:40.012Z"
      },
      {
        "duration": 11,
        "start_time": "2023-08-22T08:12:53.196Z"
      },
      {
        "duration": 14,
        "start_time": "2023-08-22T08:15:37.675Z"
      },
      {
        "duration": 255,
        "start_time": "2023-08-22T08:16:05.707Z"
      },
      {
        "duration": 4,
        "start_time": "2023-08-22T08:38:08.154Z"
      },
      {
        "duration": 3,
        "start_time": "2023-08-22T08:38:43.553Z"
      },
      {
        "duration": 398,
        "start_time": "2023-08-22T08:39:27.329Z"
      },
      {
        "duration": 4,
        "start_time": "2023-08-22T10:39:32.073Z"
      },
      {
        "duration": 7,
        "start_time": "2023-08-22T10:39:33.914Z"
      },
      {
        "duration": 34,
        "start_time": "2023-08-22T10:57:48.904Z"
      },
      {
        "duration": 11,
        "start_time": "2023-08-22T10:58:07.593Z"
      },
      {
        "duration": 17,
        "start_time": "2023-08-22T10:58:15.305Z"
      },
      {
        "duration": 11,
        "start_time": "2023-08-22T11:02:19.208Z"
      },
      {
        "duration": 41308,
        "start_time": "2023-08-22T11:10:13.636Z"
      },
      {
        "duration": 49048,
        "start_time": "2023-08-22T11:13:09.954Z"
      },
      {
        "duration": 8,
        "start_time": "2023-08-22T11:28:52.673Z"
      },
      {
        "duration": 49172,
        "start_time": "2023-08-22T11:29:15.225Z"
      },
      {
        "duration": 45273,
        "start_time": "2023-08-22T11:31:15.105Z"
      },
      {
        "duration": 455,
        "start_time": "2023-08-22T11:32:00.380Z"
      },
      {
        "duration": 447,
        "start_time": "2023-08-22T11:32:48.858Z"
      },
      {
        "duration": 47286,
        "start_time": "2023-08-22T11:36:45.257Z"
      },
      {
        "duration": 22,
        "start_time": "2023-08-22T11:37:48.128Z"
      },
      {
        "duration": 46465,
        "start_time": "2023-08-22T11:38:52.481Z"
      },
      {
        "duration": 5,
        "start_time": "2023-08-22T12:22:08.353Z"
      },
      {
        "duration": 88,
        "start_time": "2023-08-22T12:22:08.361Z"
      },
      {
        "duration": 9,
        "start_time": "2023-08-22T12:22:08.451Z"
      },
      {
        "duration": 13,
        "start_time": "2023-08-22T12:22:08.463Z"
      },
      {
        "duration": 39,
        "start_time": "2023-08-22T12:22:08.478Z"
      },
      {
        "duration": 30,
        "start_time": "2023-08-22T12:22:08.520Z"
      },
      {
        "duration": 7,
        "start_time": "2023-08-22T12:22:08.553Z"
      },
      {
        "duration": 14,
        "start_time": "2023-08-22T12:22:08.562Z"
      },
      {
        "duration": 35,
        "start_time": "2023-08-22T12:22:08.578Z"
      },
      {
        "duration": 13,
        "start_time": "2023-08-22T12:22:08.617Z"
      },
      {
        "duration": 15,
        "start_time": "2023-08-22T12:22:08.632Z"
      },
      {
        "duration": 13,
        "start_time": "2023-08-22T12:22:08.649Z"
      },
      {
        "duration": 8,
        "start_time": "2023-08-22T12:22:08.664Z"
      },
      {
        "duration": 38,
        "start_time": "2023-08-22T12:22:08.674Z"
      },
      {
        "duration": 240,
        "start_time": "2023-08-22T12:22:08.714Z"
      },
      {
        "duration": 24,
        "start_time": "2023-08-22T12:22:08.956Z"
      },
      {
        "duration": 168,
        "start_time": "2023-08-22T12:22:08.982Z"
      },
      {
        "duration": 319,
        "start_time": "2023-08-22T12:22:09.153Z"
      },
      {
        "duration": 15,
        "start_time": "2023-08-22T12:22:09.474Z"
      },
      {
        "duration": 361,
        "start_time": "2023-08-22T12:22:09.491Z"
      },
      {
        "duration": 11,
        "start_time": "2023-08-22T12:22:09.855Z"
      },
      {
        "duration": 242,
        "start_time": "2023-08-22T12:22:09.885Z"
      },
      {
        "duration": 35,
        "start_time": "2023-08-22T12:22:10.129Z"
      },
      {
        "duration": 20,
        "start_time": "2023-08-22T12:22:10.184Z"
      },
      {
        "duration": 266,
        "start_time": "2023-08-22T12:22:10.206Z"
      },
      {
        "duration": 248,
        "start_time": "2023-08-22T12:22:10.475Z"
      },
      {
        "duration": 285,
        "start_time": "2023-08-22T12:22:10.726Z"
      },
      {
        "duration": 240,
        "start_time": "2023-08-22T12:22:11.016Z"
      },
      {
        "duration": 1221,
        "start_time": "2023-08-22T12:22:11.259Z"
      },
      {
        "duration": 18,
        "start_time": "2023-08-22T12:22:12.487Z"
      },
      {
        "duration": 20,
        "start_time": "2023-08-22T12:22:12.511Z"
      },
      {
        "duration": 28,
        "start_time": "2023-08-22T12:22:12.534Z"
      },
      {
        "duration": 5,
        "start_time": "2023-08-22T12:22:12.565Z"
      },
      {
        "duration": 623,
        "start_time": "2023-08-22T12:22:12.584Z"
      },
      {
        "duration": 26,
        "start_time": "2023-08-22T12:22:13.209Z"
      },
      {
        "duration": 8,
        "start_time": "2023-08-22T12:22:13.237Z"
      },
      {
        "duration": 1081,
        "start_time": "2023-08-22T12:22:13.247Z"
      },
      {
        "duration": 7,
        "start_time": "2023-08-22T12:22:14.331Z"
      },
      {
        "duration": 17,
        "start_time": "2023-08-22T12:22:14.340Z"
      },
      {
        "duration": 34,
        "start_time": "2023-08-22T12:22:14.359Z"
      },
      {
        "duration": 235,
        "start_time": "2023-08-22T12:22:14.397Z"
      },
      {
        "duration": 6,
        "start_time": "2023-08-22T12:22:14.634Z"
      },
      {
        "duration": 41828,
        "start_time": "2023-08-22T12:22:14.642Z"
      },
      {
        "duration": 1348,
        "start_time": "2023-08-22T12:31:39.955Z"
      },
      {
        "duration": 222,
        "start_time": "2023-08-22T12:31:41.306Z"
      },
      {
        "duration": 12,
        "start_time": "2023-08-22T12:31:41.530Z"
      },
      {
        "duration": 26,
        "start_time": "2023-08-22T12:31:41.544Z"
      },
      {
        "duration": 36,
        "start_time": "2023-08-22T12:31:41.571Z"
      },
      {
        "duration": 18,
        "start_time": "2023-08-22T12:31:41.609Z"
      },
      {
        "duration": 34,
        "start_time": "2023-08-22T12:31:41.629Z"
      },
      {
        "duration": 45,
        "start_time": "2023-08-22T12:31:41.665Z"
      },
      {
        "duration": 42,
        "start_time": "2023-08-22T12:31:41.712Z"
      },
      {
        "duration": 23,
        "start_time": "2023-08-22T12:31:41.757Z"
      },
      {
        "duration": 32,
        "start_time": "2023-08-22T12:31:41.781Z"
      },
      {
        "duration": 19,
        "start_time": "2023-08-22T12:31:41.814Z"
      },
      {
        "duration": 16,
        "start_time": "2023-08-22T12:31:41.835Z"
      },
      {
        "duration": 29,
        "start_time": "2023-08-22T12:31:41.852Z"
      },
      {
        "duration": 225,
        "start_time": "2023-08-22T12:31:41.882Z"
      },
      {
        "duration": 11,
        "start_time": "2023-08-22T12:31:42.108Z"
      },
      {
        "duration": 105,
        "start_time": "2023-08-22T12:31:42.121Z"
      },
      {
        "duration": 247,
        "start_time": "2023-08-22T12:31:42.227Z"
      },
      {
        "duration": 14,
        "start_time": "2023-08-22T12:31:42.476Z"
      },
      {
        "duration": 250,
        "start_time": "2023-08-22T12:31:42.491Z"
      },
      {
        "duration": 7,
        "start_time": "2023-08-22T12:31:42.744Z"
      },
      {
        "duration": 249,
        "start_time": "2023-08-22T12:31:42.753Z"
      },
      {
        "duration": 30,
        "start_time": "2023-08-22T12:31:43.004Z"
      },
      {
        "duration": 10,
        "start_time": "2023-08-22T12:31:43.036Z"
      },
      {
        "duration": 232,
        "start_time": "2023-08-22T12:31:43.047Z"
      },
      {
        "duration": 213,
        "start_time": "2023-08-22T12:31:43.280Z"
      },
      {
        "duration": 316,
        "start_time": "2023-08-22T12:31:43.494Z"
      },
      {
        "duration": 206,
        "start_time": "2023-08-22T12:31:43.814Z"
      },
      {
        "duration": 1000,
        "start_time": "2023-08-22T12:31:44.023Z"
      },
      {
        "duration": 13,
        "start_time": "2023-08-22T12:31:45.025Z"
      },
      {
        "duration": 89,
        "start_time": "2023-08-22T12:31:45.040Z"
      },
      {
        "duration": 95,
        "start_time": "2023-08-22T12:31:45.131Z"
      },
      {
        "duration": 14,
        "start_time": "2023-08-22T12:31:45.228Z"
      },
      {
        "duration": 201,
        "start_time": "2023-08-22T12:31:45.243Z"
      },
      {
        "duration": 11,
        "start_time": "2023-08-22T12:31:45.445Z"
      },
      {
        "duration": 92,
        "start_time": "2023-08-22T12:31:45.457Z"
      },
      {
        "duration": 901,
        "start_time": "2023-08-22T12:31:45.551Z"
      },
      {
        "duration": 6,
        "start_time": "2023-08-22T12:31:46.453Z"
      },
      {
        "duration": 36,
        "start_time": "2023-08-22T12:31:46.460Z"
      },
      {
        "duration": 39,
        "start_time": "2023-08-22T12:31:46.497Z"
      },
      {
        "duration": 189,
        "start_time": "2023-08-22T12:31:46.538Z"
      },
      {
        "duration": 5,
        "start_time": "2023-08-22T12:31:46.729Z"
      },
      {
        "duration": 247,
        "start_time": "2023-08-22T12:31:46.735Z"
      },
      {
        "duration": 17,
        "start_time": "2023-08-22T12:59:08.865Z"
      },
      {
        "duration": 1191,
        "start_time": "2023-08-22T12:59:15.503Z"
      },
      {
        "duration": 74,
        "start_time": "2023-08-22T12:59:16.696Z"
      },
      {
        "duration": 12,
        "start_time": "2023-08-22T12:59:16.771Z"
      },
      {
        "duration": 42,
        "start_time": "2023-08-22T12:59:16.784Z"
      },
      {
        "duration": 31,
        "start_time": "2023-08-22T12:59:16.828Z"
      },
      {
        "duration": 72,
        "start_time": "2023-08-22T12:59:16.861Z"
      },
      {
        "duration": 42,
        "start_time": "2023-08-22T12:59:16.934Z"
      },
      {
        "duration": 63,
        "start_time": "2023-08-22T12:59:16.978Z"
      },
      {
        "duration": 58,
        "start_time": "2023-08-22T12:59:17.042Z"
      },
      {
        "duration": 53,
        "start_time": "2023-08-22T12:59:17.103Z"
      },
      {
        "duration": 37,
        "start_time": "2023-08-22T12:59:17.158Z"
      },
      {
        "duration": 35,
        "start_time": "2023-08-22T12:59:17.197Z"
      },
      {
        "duration": 29,
        "start_time": "2023-08-22T12:59:17.234Z"
      },
      {
        "duration": 65,
        "start_time": "2023-08-22T12:59:17.265Z"
      },
      {
        "duration": 274,
        "start_time": "2023-08-22T12:59:17.332Z"
      },
      {
        "duration": 11,
        "start_time": "2023-08-22T12:59:17.607Z"
      },
      {
        "duration": 114,
        "start_time": "2023-08-22T12:59:17.620Z"
      },
      {
        "duration": 214,
        "start_time": "2023-08-22T12:59:17.735Z"
      },
      {
        "duration": 10,
        "start_time": "2023-08-22T12:59:17.951Z"
      },
      {
        "duration": 203,
        "start_time": "2023-08-22T12:59:17.963Z"
      },
      {
        "duration": 8,
        "start_time": "2023-08-22T12:59:18.168Z"
      },
      {
        "duration": 204,
        "start_time": "2023-08-22T12:59:18.188Z"
      },
      {
        "duration": 29,
        "start_time": "2023-08-22T12:59:18.394Z"
      },
      {
        "duration": 70,
        "start_time": "2023-08-22T12:59:18.425Z"
      },
      {
        "duration": 253,
        "start_time": "2023-08-22T12:59:18.497Z"
      },
      {
        "duration": 190,
        "start_time": "2023-08-22T12:59:18.752Z"
      },
      {
        "duration": 265,
        "start_time": "2023-08-22T12:59:18.944Z"
      },
      {
        "duration": 192,
        "start_time": "2023-08-22T12:59:19.212Z"
      },
      {
        "duration": 834,
        "start_time": "2023-08-22T12:59:19.405Z"
      },
      {
        "duration": 13,
        "start_time": "2023-08-22T12:59:20.240Z"
      },
      {
        "duration": 27,
        "start_time": "2023-08-22T12:59:20.254Z"
      },
      {
        "duration": 39,
        "start_time": "2023-08-22T12:59:20.283Z"
      },
      {
        "duration": 25,
        "start_time": "2023-08-22T12:59:20.323Z"
      },
      {
        "duration": 173,
        "start_time": "2023-08-22T12:59:20.350Z"
      },
      {
        "duration": 15,
        "start_time": "2023-08-22T12:59:20.525Z"
      },
      {
        "duration": 31,
        "start_time": "2023-08-22T12:59:20.542Z"
      },
      {
        "duration": 18,
        "start_time": "2023-08-22T12:59:20.575Z"
      },
      {
        "duration": 809,
        "start_time": "2023-08-22T12:59:20.595Z"
      },
      {
        "duration": 6,
        "start_time": "2023-08-22T12:59:21.406Z"
      },
      {
        "duration": 45,
        "start_time": "2023-08-22T12:59:21.413Z"
      },
      {
        "duration": 7,
        "start_time": "2023-08-22T12:59:21.460Z"
      },
      {
        "duration": 158,
        "start_time": "2023-08-22T12:59:21.469Z"
      },
      {
        "duration": 4,
        "start_time": "2023-08-22T12:59:21.629Z"
      },
      {
        "duration": 250,
        "start_time": "2023-08-22T12:59:21.635Z"
      },
      {
        "duration": 1839,
        "start_time": "2023-08-23T05:56:33.893Z"
      },
      {
        "duration": 414,
        "start_time": "2023-08-23T05:56:35.736Z"
      },
      {
        "duration": 19,
        "start_time": "2023-08-23T05:56:36.151Z"
      },
      {
        "duration": 45,
        "start_time": "2023-08-23T05:56:36.173Z"
      },
      {
        "duration": 8,
        "start_time": "2023-08-23T05:56:36.221Z"
      },
      {
        "duration": 32,
        "start_time": "2023-08-23T05:56:36.231Z"
      },
      {
        "duration": 12,
        "start_time": "2023-08-23T05:56:36.271Z"
      },
      {
        "duration": 32,
        "start_time": "2023-08-23T05:56:36.287Z"
      },
      {
        "duration": 16,
        "start_time": "2023-08-23T05:56:36.321Z"
      },
      {
        "duration": 11,
        "start_time": "2023-08-23T05:56:36.339Z"
      },
      {
        "duration": 26,
        "start_time": "2023-08-23T05:56:36.352Z"
      },
      {
        "duration": 27,
        "start_time": "2023-08-23T05:56:36.381Z"
      },
      {
        "duration": 8,
        "start_time": "2023-08-23T05:56:36.421Z"
      },
      {
        "duration": 18,
        "start_time": "2023-08-23T05:56:36.434Z"
      },
      {
        "duration": 269,
        "start_time": "2023-08-23T05:56:36.454Z"
      },
      {
        "duration": 16,
        "start_time": "2023-08-23T05:56:36.726Z"
      },
      {
        "duration": 115,
        "start_time": "2023-08-23T05:56:36.744Z"
      },
      {
        "duration": 271,
        "start_time": "2023-08-23T05:56:36.861Z"
      },
      {
        "duration": 12,
        "start_time": "2023-08-23T05:56:37.135Z"
      },
      {
        "duration": 252,
        "start_time": "2023-08-23T05:56:37.167Z"
      },
      {
        "duration": 10,
        "start_time": "2023-08-23T05:56:37.421Z"
      },
      {
        "duration": 308,
        "start_time": "2023-08-23T05:56:37.433Z"
      },
      {
        "duration": 73,
        "start_time": "2023-08-23T05:56:37.743Z"
      },
      {
        "duration": 20,
        "start_time": "2023-08-23T05:56:37.818Z"
      },
      {
        "duration": 313,
        "start_time": "2023-08-23T05:56:37.840Z"
      },
      {
        "duration": 295,
        "start_time": "2023-08-23T05:56:38.163Z"
      },
      {
        "duration": 361,
        "start_time": "2023-08-23T05:56:38.470Z"
      },
      {
        "duration": 253,
        "start_time": "2023-08-23T05:56:38.833Z"
      },
      {
        "duration": 1201,
        "start_time": "2023-08-23T05:56:39.088Z"
      },
      {
        "duration": 38,
        "start_time": "2023-08-23T05:56:40.291Z"
      },
      {
        "duration": 20,
        "start_time": "2023-08-23T05:56:40.331Z"
      },
      {
        "duration": 40,
        "start_time": "2023-08-23T05:56:40.353Z"
      },
      {
        "duration": 9,
        "start_time": "2023-08-23T05:56:40.416Z"
      },
      {
        "duration": 212,
        "start_time": "2023-08-23T05:56:40.428Z"
      },
      {
        "duration": 47,
        "start_time": "2023-08-23T05:56:40.643Z"
      },
      {
        "duration": 13,
        "start_time": "2023-08-23T05:56:40.701Z"
      },
      {
        "duration": 1116,
        "start_time": "2023-08-23T05:56:40.717Z"
      },
      {
        "duration": 6,
        "start_time": "2023-08-23T05:56:41.834Z"
      },
      {
        "duration": 27,
        "start_time": "2023-08-23T05:56:41.841Z"
      },
      {
        "duration": 20,
        "start_time": "2023-08-23T05:56:41.871Z"
      },
      {
        "duration": 239,
        "start_time": "2023-08-23T05:56:41.896Z"
      },
      {
        "duration": 6,
        "start_time": "2023-08-23T05:56:42.137Z"
      },
      {
        "duration": 350,
        "start_time": "2023-08-23T05:56:42.145Z"
      },
      {
        "duration": 5,
        "start_time": "2023-08-23T07:44:22.710Z"
      },
      {
        "duration": 157,
        "start_time": "2023-08-23T07:45:32.313Z"
      },
      {
        "duration": 4,
        "start_time": "2023-08-23T07:48:48.121Z"
      },
      {
        "duration": 23,
        "start_time": "2023-08-23T07:49:02.934Z"
      },
      {
        "duration": 18,
        "start_time": "2023-08-23T07:49:18.397Z"
      },
      {
        "duration": 5,
        "start_time": "2023-08-23T07:49:44.624Z"
      },
      {
        "duration": 82,
        "start_time": "2023-08-23T07:49:46.717Z"
      },
      {
        "duration": 11,
        "start_time": "2023-08-23T07:49:49.022Z"
      },
      {
        "duration": 13,
        "start_time": "2023-08-23T07:49:51.133Z"
      },
      {
        "duration": 12,
        "start_time": "2023-08-23T07:49:53.393Z"
      },
      {
        "duration": 14,
        "start_time": "2023-08-23T07:49:55.733Z"
      },
      {
        "duration": 8,
        "start_time": "2023-08-23T07:49:57.933Z"
      },
      {
        "duration": 16,
        "start_time": "2023-08-23T07:50:00.213Z"
      },
      {
        "duration": 18,
        "start_time": "2023-08-23T07:50:03.297Z"
      },
      {
        "duration": 25,
        "start_time": "2023-08-23T07:50:05.756Z"
      },
      {
        "duration": 9,
        "start_time": "2023-08-23T07:50:07.901Z"
      },
      {
        "duration": 9,
        "start_time": "2023-08-23T07:50:10.065Z"
      },
      {
        "duration": 8,
        "start_time": "2023-08-23T07:50:11.702Z"
      },
      {
        "duration": 39,
        "start_time": "2023-08-23T07:50:14.813Z"
      },
      {
        "duration": 15,
        "start_time": "2023-08-23T07:50:16.996Z"
      },
      {
        "duration": 4,
        "start_time": "2023-08-23T07:51:22.653Z"
      },
      {
        "duration": 4,
        "start_time": "2023-08-23T07:51:36.893Z"
      },
      {
        "duration": 23,
        "start_time": "2023-08-23T07:51:40.687Z"
      },
      {
        "duration": 3,
        "start_time": "2023-08-23T07:52:54.707Z"
      },
      {
        "duration": 17,
        "start_time": "2023-08-23T07:55:28.791Z"
      },
      {
        "duration": 18,
        "start_time": "2023-08-23T07:56:34.857Z"
      },
      {
        "duration": 5,
        "start_time": "2023-08-23T07:57:28.894Z"
      },
      {
        "duration": 13,
        "start_time": "2023-08-23T08:00:29.196Z"
      },
      {
        "duration": 10,
        "start_time": "2023-08-23T08:00:39.513Z"
      },
      {
        "duration": 17,
        "start_time": "2023-08-23T08:00:50.011Z"
      },
      {
        "duration": 11,
        "start_time": "2023-08-23T08:01:50.895Z"
      },
      {
        "duration": 11,
        "start_time": "2023-08-23T08:01:59.496Z"
      },
      {
        "duration": 9,
        "start_time": "2023-08-23T08:05:31.011Z"
      },
      {
        "duration": 8,
        "start_time": "2023-08-23T08:07:09.801Z"
      },
      {
        "duration": 5,
        "start_time": "2023-08-23T08:08:05.406Z"
      },
      {
        "duration": 44,
        "start_time": "2023-08-23T08:47:51.944Z"
      },
      {
        "duration": 4,
        "start_time": "2023-08-23T08:48:21.982Z"
      },
      {
        "duration": 96,
        "start_time": "2023-08-23T08:48:24.056Z"
      },
      {
        "duration": 16,
        "start_time": "2023-08-23T08:48:26.784Z"
      },
      {
        "duration": 27,
        "start_time": "2023-08-23T08:48:35.177Z"
      },
      {
        "duration": 10,
        "start_time": "2023-08-23T08:48:54.704Z"
      },
      {
        "duration": 15,
        "start_time": "2023-08-23T08:48:57.055Z"
      },
      {
        "duration": 7,
        "start_time": "2023-08-23T08:49:07.120Z"
      },
      {
        "duration": 18,
        "start_time": "2023-08-23T08:49:09.959Z"
      },
      {
        "duration": 15,
        "start_time": "2023-08-23T08:49:40.823Z"
      },
      {
        "duration": 16,
        "start_time": "2023-08-23T08:49:51.172Z"
      },
      {
        "duration": 6,
        "start_time": "2023-08-23T08:49:54.720Z"
      },
      {
        "duration": 9,
        "start_time": "2023-08-23T08:49:57.455Z"
      },
      {
        "duration": 5,
        "start_time": "2023-08-23T08:49:59.952Z"
      },
      {
        "duration": 36,
        "start_time": "2023-08-23T08:50:04.867Z"
      },
      {
        "duration": 4,
        "start_time": "2023-08-23T08:50:07.503Z"
      },
      {
        "duration": 10,
        "start_time": "2023-08-23T08:50:12.343Z"
      },
      {
        "duration": 10,
        "start_time": "2023-08-23T08:50:16.886Z"
      },
      {
        "duration": 6,
        "start_time": "2023-08-23T08:50:22.223Z"
      },
      {
        "duration": 18,
        "start_time": "2023-08-23T08:50:35.477Z"
      },
      {
        "duration": 239,
        "start_time": "2023-08-23T08:50:40.761Z"
      },
      {
        "duration": 16,
        "start_time": "2023-08-23T08:50:44.240Z"
      },
      {
        "duration": 330,
        "start_time": "2023-08-23T08:50:55.451Z"
      },
      {
        "duration": 10,
        "start_time": "2023-08-23T08:51:00.224Z"
      },
      {
        "duration": 236,
        "start_time": "2023-08-23T08:51:05.288Z"
      },
      {
        "duration": 8,
        "start_time": "2023-08-23T08:51:08.209Z"
      },
      {
        "duration": 51,
        "start_time": "2023-08-23T08:51:12.816Z"
      },
      {
        "duration": 23,
        "start_time": "2023-08-23T08:51:21.392Z"
      },
      {
        "duration": 3,
        "start_time": "2023-08-23T08:52:26.398Z"
      },
      {
        "duration": 118,
        "start_time": "2023-08-23T08:52:26.404Z"
      },
      {
        "duration": 0,
        "start_time": "2023-08-23T08:52:26.524Z"
      },
      {
        "duration": 0,
        "start_time": "2023-08-23T08:52:26.526Z"
      },
      {
        "duration": 0,
        "start_time": "2023-08-23T08:52:26.527Z"
      },
      {
        "duration": 0,
        "start_time": "2023-08-23T08:52:26.528Z"
      },
      {
        "duration": 0,
        "start_time": "2023-08-23T08:52:26.529Z"
      },
      {
        "duration": 0,
        "start_time": "2023-08-23T08:52:26.530Z"
      },
      {
        "duration": 0,
        "start_time": "2023-08-23T08:52:26.532Z"
      },
      {
        "duration": 0,
        "start_time": "2023-08-23T08:52:26.534Z"
      },
      {
        "duration": 0,
        "start_time": "2023-08-23T08:52:26.535Z"
      },
      {
        "duration": 0,
        "start_time": "2023-08-23T08:52:26.536Z"
      },
      {
        "duration": 0,
        "start_time": "2023-08-23T08:52:26.537Z"
      },
      {
        "duration": 0,
        "start_time": "2023-08-23T08:52:26.538Z"
      },
      {
        "duration": 1,
        "start_time": "2023-08-23T08:52:26.539Z"
      },
      {
        "duration": 0,
        "start_time": "2023-08-23T08:52:26.540Z"
      },
      {
        "duration": 0,
        "start_time": "2023-08-23T08:52:26.542Z"
      },
      {
        "duration": 0,
        "start_time": "2023-08-23T08:52:26.543Z"
      },
      {
        "duration": 0,
        "start_time": "2023-08-23T08:52:26.544Z"
      },
      {
        "duration": 0,
        "start_time": "2023-08-23T08:52:26.545Z"
      },
      {
        "duration": 0,
        "start_time": "2023-08-23T08:52:26.546Z"
      },
      {
        "duration": 0,
        "start_time": "2023-08-23T08:52:26.546Z"
      },
      {
        "duration": 0,
        "start_time": "2023-08-23T08:52:26.548Z"
      },
      {
        "duration": 53,
        "start_time": "2023-08-23T08:54:01.583Z"
      },
      {
        "duration": 43,
        "start_time": "2023-08-23T08:54:59.249Z"
      },
      {
        "duration": 32,
        "start_time": "2023-08-23T08:55:07.268Z"
      },
      {
        "duration": 3,
        "start_time": "2023-08-23T08:57:38.751Z"
      },
      {
        "duration": 13,
        "start_time": "2023-08-23T08:59:02.444Z"
      },
      {
        "duration": 53,
        "start_time": "2023-08-23T09:00:24.079Z"
      },
      {
        "duration": 11,
        "start_time": "2023-08-23T09:07:26.818Z"
      },
      {
        "duration": 16,
        "start_time": "2023-08-23T09:07:33.164Z"
      },
      {
        "duration": 8,
        "start_time": "2023-08-23T09:08:45.137Z"
      },
      {
        "duration": 12,
        "start_time": "2023-08-23T09:08:48.575Z"
      },
      {
        "duration": 16,
        "start_time": "2023-08-23T09:08:52.659Z"
      },
      {
        "duration": 17,
        "start_time": "2023-08-23T09:11:10.300Z"
      },
      {
        "duration": 14,
        "start_time": "2023-08-23T09:11:29.835Z"
      },
      {
        "duration": 4,
        "start_time": "2023-08-23T09:13:14.402Z"
      },
      {
        "duration": 72,
        "start_time": "2023-08-23T09:13:16.651Z"
      },
      {
        "duration": 10,
        "start_time": "2023-08-23T09:13:18.968Z"
      },
      {
        "duration": 11,
        "start_time": "2023-08-23T09:13:20.986Z"
      },
      {
        "duration": 9,
        "start_time": "2023-08-23T09:13:23.210Z"
      },
      {
        "duration": 21,
        "start_time": "2023-08-23T09:13:25.354Z"
      },
      {
        "duration": 7,
        "start_time": "2023-08-23T09:13:27.539Z"
      },
      {
        "duration": 13,
        "start_time": "2023-08-23T09:13:29.812Z"
      },
      {
        "duration": 15,
        "start_time": "2023-08-23T09:13:33.740Z"
      },
      {
        "duration": 18,
        "start_time": "2023-08-23T09:13:39.355Z"
      },
      {
        "duration": 8,
        "start_time": "2023-08-23T09:13:43.034Z"
      },
      {
        "duration": 7,
        "start_time": "2023-08-23T09:13:46.175Z"
      },
      {
        "duration": 7,
        "start_time": "2023-08-23T09:13:48.347Z"
      },
      {
        "duration": 30,
        "start_time": "2023-08-23T09:13:51.043Z"
      },
      {
        "duration": 3,
        "start_time": "2023-08-23T09:13:52.947Z"
      },
      {
        "duration": 10,
        "start_time": "2023-08-23T09:13:55.677Z"
      },
      {
        "duration": 17,
        "start_time": "2023-08-23T09:13:58.260Z"
      },
      {
        "duration": 6,
        "start_time": "2023-08-23T09:14:02.787Z"
      },
      {
        "duration": 6,
        "start_time": "2023-08-23T09:14:07.037Z"
      },
      {
        "duration": 194,
        "start_time": "2023-08-23T09:14:14.531Z"
      },
      {
        "duration": 11,
        "start_time": "2023-08-23T09:14:17.284Z"
      },
      {
        "duration": 253,
        "start_time": "2023-08-23T09:14:20.676Z"
      },
      {
        "duration": 8,
        "start_time": "2023-08-23T09:14:23.307Z"
      },
      {
        "duration": 206,
        "start_time": "2023-08-23T09:14:27.382Z"
      },
      {
        "duration": 8,
        "start_time": "2023-08-23T09:14:42.044Z"
      },
      {
        "duration": 310,
        "start_time": "2023-08-23T09:14:49.301Z"
      },
      {
        "duration": 32,
        "start_time": "2023-08-23T09:14:52.983Z"
      },
      {
        "duration": 24,
        "start_time": "2023-08-23T09:15:21.452Z"
      },
      {
        "duration": 14,
        "start_time": "2023-08-23T09:15:28.763Z"
      },
      {
        "duration": 9,
        "start_time": "2023-08-23T09:15:37.508Z"
      },
      {
        "duration": 33,
        "start_time": "2023-08-23T09:15:46.919Z"
      },
      {
        "duration": 32,
        "start_time": "2023-08-23T09:17:09.285Z"
      },
      {
        "duration": 6,
        "start_time": "2023-08-23T09:18:56.526Z"
      },
      {
        "duration": 6,
        "start_time": "2023-08-23T09:19:07.277Z"
      },
      {
        "duration": 8,
        "start_time": "2023-08-23T09:27:16.449Z"
      },
      {
        "duration": 3,
        "start_time": "2023-08-23T09:27:24.329Z"
      },
      {
        "duration": 65,
        "start_time": "2023-08-23T09:27:26.400Z"
      },
      {
        "duration": 8,
        "start_time": "2023-08-23T09:27:28.466Z"
      },
      {
        "duration": 12,
        "start_time": "2023-08-23T09:27:30.509Z"
      },
      {
        "duration": 10,
        "start_time": "2023-08-23T09:27:32.472Z"
      },
      {
        "duration": 12,
        "start_time": "2023-08-23T09:27:34.855Z"
      },
      {
        "duration": 8,
        "start_time": "2023-08-23T09:27:36.805Z"
      },
      {
        "duration": 11,
        "start_time": "2023-08-23T09:27:39.305Z"
      },
      {
        "duration": 13,
        "start_time": "2023-08-23T09:27:41.720Z"
      },
      {
        "duration": 11,
        "start_time": "2023-08-23T09:27:44.760Z"
      },
      {
        "duration": 7,
        "start_time": "2023-08-23T09:27:47.106Z"
      },
      {
        "duration": 8,
        "start_time": "2023-08-23T09:27:49.000Z"
      },
      {
        "duration": 6,
        "start_time": "2023-08-23T09:27:52.120Z"
      },
      {
        "duration": 39,
        "start_time": "2023-08-23T09:27:55.129Z"
      },
      {
        "duration": 5,
        "start_time": "2023-08-23T09:27:56.905Z"
      },
      {
        "duration": 11,
        "start_time": "2023-08-23T09:27:58.508Z"
      },
      {
        "duration": 13,
        "start_time": "2023-08-23T09:28:01.009Z"
      },
      {
        "duration": 6,
        "start_time": "2023-08-23T09:28:04.209Z"
      },
      {
        "duration": 8,
        "start_time": "2023-08-23T09:28:07.034Z"
      },
      {
        "duration": 181,
        "start_time": "2023-08-23T09:28:09.313Z"
      },
      {
        "duration": 11,
        "start_time": "2023-08-23T09:28:11.805Z"
      },
      {
        "duration": 213,
        "start_time": "2023-08-23T09:28:15.056Z"
      },
      {
        "duration": 9,
        "start_time": "2023-08-23T09:28:18.281Z"
      },
      {
        "duration": 183,
        "start_time": "2023-08-23T09:28:20.624Z"
      },
      {
        "duration": 8,
        "start_time": "2023-08-23T09:28:23.505Z"
      },
      {
        "duration": 195,
        "start_time": "2023-08-23T09:28:25.248Z"
      },
      {
        "duration": 9,
        "start_time": "2023-08-23T09:28:30.705Z"
      },
      {
        "duration": 19,
        "start_time": "2023-08-23T09:28:43.441Z"
      },
      {
        "duration": 4,
        "start_time": "2023-08-23T09:29:12.251Z"
      },
      {
        "duration": 77,
        "start_time": "2023-08-23T09:29:14.112Z"
      },
      {
        "duration": 30,
        "start_time": "2023-08-23T09:29:35.344Z"
      },
      {
        "duration": 30,
        "start_time": "2023-08-23T09:29:48.015Z"
      },
      {
        "duration": 28,
        "start_time": "2023-08-23T11:03:34.078Z"
      },
      {
        "duration": 34,
        "start_time": "2023-08-23T11:03:44.454Z"
      },
      {
        "duration": 23,
        "start_time": "2023-08-23T11:03:50.988Z"
      },
      {
        "duration": 66,
        "start_time": "2023-08-23T11:08:31.621Z"
      },
      {
        "duration": 25,
        "start_time": "2023-08-23T11:08:47.796Z"
      },
      {
        "duration": 4,
        "start_time": "2023-08-23T11:16:40.178Z"
      },
      {
        "duration": 178,
        "start_time": "2023-08-23T11:16:42.387Z"
      },
      {
        "duration": 15,
        "start_time": "2023-08-23T11:19:24.920Z"
      },
      {
        "duration": 9,
        "start_time": "2023-08-23T11:19:40.865Z"
      },
      {
        "duration": 25,
        "start_time": "2023-08-23T11:19:58.569Z"
      },
      {
        "duration": 26,
        "start_time": "2023-08-23T11:23:32.153Z"
      },
      {
        "duration": 39,
        "start_time": "2023-08-23T11:24:46.713Z"
      },
      {
        "duration": 54,
        "start_time": "2023-08-23T11:24:52.467Z"
      },
      {
        "duration": 12,
        "start_time": "2023-08-23T11:25:09.623Z"
      },
      {
        "duration": 17,
        "start_time": "2023-08-23T11:25:23.168Z"
      },
      {
        "duration": 19,
        "start_time": "2023-08-23T11:27:49.656Z"
      },
      {
        "duration": 18,
        "start_time": "2023-08-23T11:28:19.760Z"
      },
      {
        "duration": 14,
        "start_time": "2023-08-23T11:30:12.241Z"
      },
      {
        "duration": 26,
        "start_time": "2023-08-23T11:30:18.206Z"
      },
      {
        "duration": 24,
        "start_time": "2023-08-23T11:30:26.194Z"
      },
      {
        "duration": 22,
        "start_time": "2023-08-23T11:33:20.656Z"
      },
      {
        "duration": 16,
        "start_time": "2023-08-23T11:33:42.657Z"
      },
      {
        "duration": 23,
        "start_time": "2023-08-23T11:34:43.368Z"
      },
      {
        "duration": 25,
        "start_time": "2023-08-23T11:35:06.049Z"
      },
      {
        "duration": 14,
        "start_time": "2023-08-23T11:35:13.216Z"
      },
      {
        "duration": 25,
        "start_time": "2023-08-23T11:35:16.657Z"
      },
      {
        "duration": 21,
        "start_time": "2023-08-23T11:35:28.928Z"
      },
      {
        "duration": 21,
        "start_time": "2023-08-23T11:36:11.004Z"
      },
      {
        "duration": 25,
        "start_time": "2023-08-23T11:36:23.041Z"
      },
      {
        "duration": 15,
        "start_time": "2023-08-23T11:38:07.769Z"
      },
      {
        "duration": 16,
        "start_time": "2023-08-23T11:38:27.130Z"
      },
      {
        "duration": 21,
        "start_time": "2023-08-23T11:38:54.377Z"
      },
      {
        "duration": 6,
        "start_time": "2023-08-23T11:39:10.833Z"
      },
      {
        "duration": 5,
        "start_time": "2023-08-23T11:39:45.656Z"
      },
      {
        "duration": 9,
        "start_time": "2023-08-23T11:39:58.345Z"
      },
      {
        "duration": 9,
        "start_time": "2023-08-23T11:40:18.881Z"
      },
      {
        "duration": 109,
        "start_time": "2023-08-23T11:40:34.360Z"
      },
      {
        "duration": 19,
        "start_time": "2023-08-23T11:43:23.841Z"
      },
      {
        "duration": 24,
        "start_time": "2023-08-23T11:43:39.545Z"
      },
      {
        "duration": 115,
        "start_time": "2023-08-23T11:44:05.250Z"
      },
      {
        "duration": 12,
        "start_time": "2023-08-23T11:44:17.786Z"
      },
      {
        "duration": 30,
        "start_time": "2023-08-23T11:44:52.049Z"
      },
      {
        "duration": 25,
        "start_time": "2023-08-23T11:44:58.601Z"
      },
      {
        "duration": 24,
        "start_time": "2023-08-23T11:45:15.010Z"
      },
      {
        "duration": 15,
        "start_time": "2023-08-23T11:45:26.929Z"
      },
      {
        "duration": 10,
        "start_time": "2023-08-23T11:45:37.335Z"
      },
      {
        "duration": 35,
        "start_time": "2023-08-23T11:45:40.345Z"
      },
      {
        "duration": 12,
        "start_time": "2023-08-23T11:45:58.849Z"
      },
      {
        "duration": 7,
        "start_time": "2023-08-23T11:48:17.627Z"
      },
      {
        "duration": 6,
        "start_time": "2023-08-23T11:48:51.154Z"
      },
      {
        "duration": 35,
        "start_time": "2023-08-23T11:50:12.530Z"
      },
      {
        "duration": 14,
        "start_time": "2023-08-23T11:50:52.276Z"
      },
      {
        "duration": 8,
        "start_time": "2023-08-23T11:52:24.477Z"
      },
      {
        "duration": 11,
        "start_time": "2023-08-23T11:53:14.923Z"
      },
      {
        "duration": 17,
        "start_time": "2023-08-23T11:53:41.446Z"
      },
      {
        "duration": 15,
        "start_time": "2023-08-23T11:53:47.512Z"
      },
      {
        "duration": 10,
        "start_time": "2023-08-23T11:54:31.188Z"
      },
      {
        "duration": 5,
        "start_time": "2023-08-23T11:56:18.405Z"
      },
      {
        "duration": 8,
        "start_time": "2023-08-23T11:59:03.607Z"
      },
      {
        "duration": 6,
        "start_time": "2023-08-23T12:01:02.792Z"
      },
      {
        "duration": 7,
        "start_time": "2023-08-23T12:01:12.982Z"
      },
      {
        "duration": 194,
        "start_time": "2023-08-23T12:01:16.860Z"
      },
      {
        "duration": 11,
        "start_time": "2023-08-23T12:01:19.628Z"
      },
      {
        "duration": 96,
        "start_time": "2023-08-23T12:01:22.012Z"
      },
      {
        "duration": 241,
        "start_time": "2023-08-23T12:01:24.324Z"
      },
      {
        "duration": 9,
        "start_time": "2023-08-23T12:01:26.988Z"
      },
      {
        "duration": 208,
        "start_time": "2023-08-23T12:01:30.229Z"
      },
      {
        "duration": 8,
        "start_time": "2023-08-23T12:01:34.731Z"
      },
      {
        "duration": 208,
        "start_time": "2023-08-23T12:01:37.316Z"
      },
      {
        "duration": 11,
        "start_time": "2023-08-23T12:02:59.164Z"
      },
      {
        "duration": 11,
        "start_time": "2023-08-23T12:03:13.622Z"
      },
      {
        "duration": 11,
        "start_time": "2023-08-23T12:03:41.988Z"
      },
      {
        "duration": 30,
        "start_time": "2023-08-23T12:04:01.725Z"
      },
      {
        "duration": 24,
        "start_time": "2023-08-23T12:08:48.512Z"
      },
      {
        "duration": 23,
        "start_time": "2023-08-23T12:08:52.972Z"
      },
      {
        "duration": 14,
        "start_time": "2023-08-23T12:08:55.965Z"
      },
      {
        "duration": 10,
        "start_time": "2023-08-23T12:08:58.604Z"
      },
      {
        "duration": 12,
        "start_time": "2023-08-23T12:10:08.461Z"
      },
      {
        "duration": 210,
        "start_time": "2023-08-23T12:10:11.036Z"
      },
      {
        "duration": 215,
        "start_time": "2023-08-23T12:10:13.061Z"
      },
      {
        "duration": 229,
        "start_time": "2023-08-23T12:10:15.704Z"
      },
      {
        "duration": 217,
        "start_time": "2023-08-23T12:10:17.917Z"
      },
      {
        "duration": 538,
        "start_time": "2023-08-23T12:10:58.173Z"
      },
      {
        "duration": 1354,
        "start_time": "2023-08-23T12:16:03.607Z"
      },
      {
        "duration": 325,
        "start_time": "2023-08-23T12:16:34.423Z"
      },
      {
        "duration": 351,
        "start_time": "2023-08-23T12:16:54.383Z"
      },
      {
        "duration": 255,
        "start_time": "2023-08-23T12:18:37.247Z"
      },
      {
        "duration": 17,
        "start_time": "2023-08-23T12:20:18.873Z"
      },
      {
        "duration": 1397,
        "start_time": "2023-08-23T12:20:52.626Z"
      },
      {
        "duration": 75,
        "start_time": "2023-08-23T12:20:54.025Z"
      },
      {
        "duration": 17,
        "start_time": "2023-08-23T12:20:54.103Z"
      },
      {
        "duration": 31,
        "start_time": "2023-08-23T12:20:54.123Z"
      },
      {
        "duration": 49,
        "start_time": "2023-08-23T12:20:54.156Z"
      },
      {
        "duration": 22,
        "start_time": "2023-08-23T12:20:54.207Z"
      },
      {
        "duration": 13,
        "start_time": "2023-08-23T12:20:54.232Z"
      },
      {
        "duration": 25,
        "start_time": "2023-08-23T12:20:54.248Z"
      },
      {
        "duration": 26,
        "start_time": "2023-08-23T12:20:54.276Z"
      },
      {
        "duration": 21,
        "start_time": "2023-08-23T12:20:54.307Z"
      },
      {
        "duration": 10,
        "start_time": "2023-08-23T12:20:54.331Z"
      },
      {
        "duration": 26,
        "start_time": "2023-08-23T12:20:54.342Z"
      },
      {
        "duration": 8,
        "start_time": "2023-08-23T12:20:54.370Z"
      },
      {
        "duration": 51,
        "start_time": "2023-08-23T12:20:54.381Z"
      },
      {
        "duration": 4,
        "start_time": "2023-08-23T12:20:54.434Z"
      },
      {
        "duration": 10,
        "start_time": "2023-08-23T12:20:54.460Z"
      },
      {
        "duration": 33,
        "start_time": "2023-08-23T12:20:54.472Z"
      },
      {
        "duration": 6,
        "start_time": "2023-08-23T12:20:54.507Z"
      },
      {
        "duration": 22,
        "start_time": "2023-08-23T12:20:54.515Z"
      },
      {
        "duration": 30,
        "start_time": "2023-08-23T12:20:54.539Z"
      },
      {
        "duration": 27,
        "start_time": "2023-08-23T12:20:54.571Z"
      },
      {
        "duration": 213,
        "start_time": "2023-08-23T12:20:54.600Z"
      },
      {
        "duration": 14,
        "start_time": "2023-08-23T12:20:54.814Z"
      },
      {
        "duration": 117,
        "start_time": "2023-08-23T12:20:54.830Z"
      },
      {
        "duration": 387,
        "start_time": "2023-08-23T12:20:54.949Z"
      },
      {
        "duration": 21,
        "start_time": "2023-08-23T12:20:55.338Z"
      },
      {
        "duration": 234,
        "start_time": "2023-08-23T12:20:55.362Z"
      },
      {
        "duration": 8,
        "start_time": "2023-08-23T12:20:55.600Z"
      },
      {
        "duration": 239,
        "start_time": "2023-08-23T12:20:55.610Z"
      },
      {
        "duration": 35,
        "start_time": "2023-08-23T12:20:55.851Z"
      },
      {
        "duration": 26,
        "start_time": "2023-08-23T12:20:55.888Z"
      },
      {
        "duration": 13,
        "start_time": "2023-08-23T12:20:55.916Z"
      },
      {
        "duration": 12,
        "start_time": "2023-08-23T12:20:55.960Z"
      },
      {
        "duration": 229,
        "start_time": "2023-08-23T12:20:55.975Z"
      },
      {
        "duration": 206,
        "start_time": "2023-08-23T12:20:56.206Z"
      },
      {
        "duration": 230,
        "start_time": "2023-08-23T12:20:56.414Z"
      },
      {
        "duration": 247,
        "start_time": "2023-08-23T12:20:56.646Z"
      },
      {
        "duration": 910,
        "start_time": "2023-08-23T12:20:56.896Z"
      },
      {
        "duration": 14,
        "start_time": "2023-08-23T12:20:57.808Z"
      },
      {
        "duration": 19,
        "start_time": "2023-08-23T12:20:57.824Z"
      },
      {
        "duration": 20,
        "start_time": "2023-08-23T12:20:57.860Z"
      },
      {
        "duration": 20,
        "start_time": "2023-08-23T12:20:57.882Z"
      },
      {
        "duration": 176,
        "start_time": "2023-08-23T12:20:57.905Z"
      },
      {
        "duration": 15,
        "start_time": "2023-08-23T12:20:58.083Z"
      },
      {
        "duration": 5,
        "start_time": "2023-08-23T12:20:58.101Z"
      },
      {
        "duration": 927,
        "start_time": "2023-08-23T12:20:58.108Z"
      },
      {
        "duration": 5,
        "start_time": "2023-08-23T12:20:59.037Z"
      },
      {
        "duration": 25,
        "start_time": "2023-08-23T12:20:59.044Z"
      },
      {
        "duration": 8,
        "start_time": "2023-08-23T12:20:59.071Z"
      },
      {
        "duration": 188,
        "start_time": "2023-08-23T12:20:59.081Z"
      },
      {
        "duration": 5,
        "start_time": "2023-08-23T12:20:59.271Z"
      },
      {
        "duration": 391,
        "start_time": "2023-08-23T12:20:59.278Z"
      },
      {
        "duration": 225,
        "start_time": "2023-08-23T12:26:15.641Z"
      },
      {
        "duration": 135,
        "start_time": "2023-08-23T12:26:37.144Z"
      },
      {
        "duration": 114,
        "start_time": "2023-08-23T12:26:59.625Z"
      },
      {
        "duration": 355,
        "start_time": "2023-08-23T12:34:33.138Z"
      },
      {
        "duration": 6,
        "start_time": "2023-08-23T12:34:42.718Z"
      },
      {
        "duration": 7,
        "start_time": "2023-08-23T12:34:50.450Z"
      },
      {
        "duration": 121,
        "start_time": "2023-08-23T12:36:12.719Z"
      },
      {
        "duration": 7,
        "start_time": "2023-08-23T12:41:14.340Z"
      },
      {
        "duration": 6,
        "start_time": "2023-08-23T13:11:19.044Z"
      },
      {
        "duration": 163,
        "start_time": "2023-08-23T13:11:21.436Z"
      },
      {
        "duration": 6,
        "start_time": "2023-08-23T13:12:11.015Z"
      },
      {
        "duration": 36500,
        "start_time": "2023-08-23T13:12:30.303Z"
      },
      {
        "duration": 157,
        "start_time": "2023-08-23T13:14:28.979Z"
      },
      {
        "duration": 1181,
        "start_time": "2023-08-23T13:15:57.311Z"
      },
      {
        "duration": 69,
        "start_time": "2023-08-23T13:15:58.494Z"
      },
      {
        "duration": 12,
        "start_time": "2023-08-23T13:15:58.565Z"
      },
      {
        "duration": 18,
        "start_time": "2023-08-23T13:15:58.579Z"
      },
      {
        "duration": 37,
        "start_time": "2023-08-23T13:15:58.599Z"
      },
      {
        "duration": 16,
        "start_time": "2023-08-23T13:15:58.638Z"
      },
      {
        "duration": 30,
        "start_time": "2023-08-23T13:15:58.656Z"
      },
      {
        "duration": 19,
        "start_time": "2023-08-23T13:15:58.688Z"
      },
      {
        "duration": 32,
        "start_time": "2023-08-23T13:15:58.708Z"
      },
      {
        "duration": 17,
        "start_time": "2023-08-23T13:15:58.742Z"
      },
      {
        "duration": 7,
        "start_time": "2023-08-23T13:15:58.761Z"
      },
      {
        "duration": 9,
        "start_time": "2023-08-23T13:15:58.769Z"
      },
      {
        "duration": 6,
        "start_time": "2023-08-23T13:15:58.779Z"
      },
      {
        "duration": 46,
        "start_time": "2023-08-23T13:15:58.788Z"
      },
      {
        "duration": 7,
        "start_time": "2023-08-23T13:15:58.836Z"
      },
      {
        "duration": 24,
        "start_time": "2023-08-23T13:15:58.844Z"
      },
      {
        "duration": 14,
        "start_time": "2023-08-23T13:15:58.869Z"
      },
      {
        "duration": 5,
        "start_time": "2023-08-23T13:15:58.885Z"
      },
      {
        "duration": 10,
        "start_time": "2023-08-23T13:15:58.891Z"
      },
      {
        "duration": 5,
        "start_time": "2023-08-23T13:15:58.902Z"
      },
      {
        "duration": 7,
        "start_time": "2023-08-23T13:15:58.909Z"
      },
      {
        "duration": 243,
        "start_time": "2023-08-23T13:15:58.918Z"
      },
      {
        "duration": 13,
        "start_time": "2023-08-23T13:15:59.163Z"
      },
      {
        "duration": 110,
        "start_time": "2023-08-23T13:15:59.177Z"
      },
      {
        "duration": 313,
        "start_time": "2023-08-23T13:15:59.290Z"
      },
      {
        "duration": 9,
        "start_time": "2023-08-23T13:15:59.605Z"
      },
      {
        "duration": 224,
        "start_time": "2023-08-23T13:15:59.616Z"
      },
      {
        "duration": 8,
        "start_time": "2023-08-23T13:15:59.842Z"
      },
      {
        "duration": 227,
        "start_time": "2023-08-23T13:15:59.860Z"
      },
      {
        "duration": 25,
        "start_time": "2023-08-23T13:16:00.089Z"
      },
      {
        "duration": 84,
        "start_time": "2023-08-23T13:16:00.116Z"
      },
      {
        "duration": 88,
        "start_time": "2023-08-23T13:16:00.202Z"
      },
      {
        "duration": 41,
        "start_time": "2023-08-23T13:16:00.291Z"
      },
      {
        "duration": 255,
        "start_time": "2023-08-23T13:16:00.334Z"
      },
      {
        "duration": 229,
        "start_time": "2023-08-23T13:16:00.591Z"
      },
      {
        "duration": 224,
        "start_time": "2023-08-23T13:16:00.822Z"
      },
      {
        "duration": 215,
        "start_time": "2023-08-23T13:16:01.048Z"
      },
      {
        "duration": 986,
        "start_time": "2023-08-23T13:16:01.265Z"
      },
      {
        "duration": 14,
        "start_time": "2023-08-23T13:16:02.260Z"
      },
      {
        "duration": 56,
        "start_time": "2023-08-23T13:16:02.276Z"
      },
      {
        "duration": 38,
        "start_time": "2023-08-23T13:16:02.336Z"
      },
      {
        "duration": 19,
        "start_time": "2023-08-23T13:16:02.376Z"
      },
      {
        "duration": 192,
        "start_time": "2023-08-23T13:16:02.397Z"
      },
      {
        "duration": 14,
        "start_time": "2023-08-23T13:16:02.591Z"
      },
      {
        "duration": 89,
        "start_time": "2023-08-23T13:16:02.606Z"
      },
      {
        "duration": 879,
        "start_time": "2023-08-23T13:16:02.697Z"
      },
      {
        "duration": 6,
        "start_time": "2023-08-23T13:16:03.577Z"
      },
      {
        "duration": 20,
        "start_time": "2023-08-23T13:16:03.584Z"
      },
      {
        "duration": 18,
        "start_time": "2023-08-23T13:16:03.606Z"
      },
      {
        "duration": 284,
        "start_time": "2023-08-23T13:16:03.626Z"
      },
      {
        "duration": 6,
        "start_time": "2023-08-23T13:16:03.912Z"
      },
      {
        "duration": 35393,
        "start_time": "2023-08-23T13:16:03.920Z"
      },
      {
        "duration": 1325,
        "start_time": "2023-08-23T14:48:12.918Z"
      },
      {
        "duration": 78,
        "start_time": "2023-08-23T14:48:14.246Z"
      },
      {
        "duration": 18,
        "start_time": "2023-08-23T14:48:14.327Z"
      },
      {
        "duration": 18,
        "start_time": "2023-08-23T14:48:14.348Z"
      },
      {
        "duration": 37,
        "start_time": "2023-08-23T14:48:14.369Z"
      },
      {
        "duration": 34,
        "start_time": "2023-08-23T14:48:14.408Z"
      },
      {
        "duration": 20,
        "start_time": "2023-08-23T14:48:14.444Z"
      },
      {
        "duration": 33,
        "start_time": "2023-08-23T14:48:14.467Z"
      },
      {
        "duration": 39,
        "start_time": "2023-08-23T14:48:14.502Z"
      },
      {
        "duration": 17,
        "start_time": "2023-08-23T14:48:14.543Z"
      },
      {
        "duration": 6,
        "start_time": "2023-08-23T14:48:14.561Z"
      },
      {
        "duration": 25,
        "start_time": "2023-08-23T14:48:14.568Z"
      },
      {
        "duration": 7,
        "start_time": "2023-08-23T14:48:14.595Z"
      },
      {
        "duration": 55,
        "start_time": "2023-08-23T14:48:14.605Z"
      },
      {
        "duration": 26,
        "start_time": "2023-08-23T14:48:14.662Z"
      },
      {
        "duration": 26,
        "start_time": "2023-08-23T14:48:14.690Z"
      },
      {
        "duration": 26,
        "start_time": "2023-08-23T14:48:14.718Z"
      },
      {
        "duration": 6,
        "start_time": "2023-08-23T14:48:14.746Z"
      },
      {
        "duration": 9,
        "start_time": "2023-08-23T14:48:14.753Z"
      },
      {
        "duration": 11,
        "start_time": "2023-08-23T14:48:14.764Z"
      },
      {
        "duration": 9,
        "start_time": "2023-08-23T14:48:14.776Z"
      },
      {
        "duration": 217,
        "start_time": "2023-08-23T14:48:14.787Z"
      },
      {
        "duration": 16,
        "start_time": "2023-08-23T14:48:15.006Z"
      },
      {
        "duration": 123,
        "start_time": "2023-08-23T14:48:15.023Z"
      },
      {
        "duration": 332,
        "start_time": "2023-08-23T14:48:15.149Z"
      },
      {
        "duration": 8,
        "start_time": "2023-08-23T14:48:15.482Z"
      },
      {
        "duration": 216,
        "start_time": "2023-08-23T14:48:15.492Z"
      },
      {
        "duration": 7,
        "start_time": "2023-08-23T14:48:15.710Z"
      },
      {
        "duration": 225,
        "start_time": "2023-08-23T14:48:15.719Z"
      },
      {
        "duration": 35,
        "start_time": "2023-08-23T14:48:15.945Z"
      },
      {
        "duration": 25,
        "start_time": "2023-08-23T14:48:15.981Z"
      },
      {
        "duration": 15,
        "start_time": "2023-08-23T14:48:16.008Z"
      },
      {
        "duration": 45,
        "start_time": "2023-08-23T14:48:16.026Z"
      },
      {
        "duration": 251,
        "start_time": "2023-08-23T14:48:16.074Z"
      },
      {
        "duration": 208,
        "start_time": "2023-08-23T14:48:16.327Z"
      },
      {
        "duration": 227,
        "start_time": "2023-08-23T14:48:16.537Z"
      },
      {
        "duration": 207,
        "start_time": "2023-08-23T14:48:16.767Z"
      },
      {
        "duration": 853,
        "start_time": "2023-08-23T14:48:16.976Z"
      },
      {
        "duration": 12,
        "start_time": "2023-08-23T14:48:17.831Z"
      },
      {
        "duration": 24,
        "start_time": "2023-08-23T14:48:17.845Z"
      },
      {
        "duration": 34,
        "start_time": "2023-08-23T14:48:17.873Z"
      },
      {
        "duration": 15,
        "start_time": "2023-08-23T14:48:17.908Z"
      },
      {
        "duration": 173,
        "start_time": "2023-08-23T14:48:17.925Z"
      },
      {
        "duration": 12,
        "start_time": "2023-08-23T14:48:18.100Z"
      },
      {
        "duration": 5,
        "start_time": "2023-08-23T14:48:18.114Z"
      },
      {
        "duration": 890,
        "start_time": "2023-08-23T14:48:18.121Z"
      },
      {
        "duration": 5,
        "start_time": "2023-08-23T14:48:19.012Z"
      },
      {
        "duration": 14,
        "start_time": "2023-08-23T14:48:19.018Z"
      },
      {
        "duration": 8,
        "start_time": "2023-08-23T14:48:19.034Z"
      },
      {
        "duration": 314,
        "start_time": "2023-08-23T14:48:19.043Z"
      },
      {
        "duration": 5,
        "start_time": "2023-08-23T14:48:19.359Z"
      },
      {
        "duration": 35527,
        "start_time": "2023-08-23T14:48:19.366Z"
      },
      {
        "duration": 58,
        "start_time": "2023-08-24T06:07:07.141Z"
      },
      {
        "duration": 1381,
        "start_time": "2023-08-24T06:07:17.205Z"
      },
      {
        "duration": 204,
        "start_time": "2023-08-24T06:07:18.590Z"
      },
      {
        "duration": 16,
        "start_time": "2023-08-24T06:07:18.796Z"
      },
      {
        "duration": 12,
        "start_time": "2023-08-24T06:07:18.813Z"
      },
      {
        "duration": 12,
        "start_time": "2023-08-24T06:07:18.826Z"
      },
      {
        "duration": 15,
        "start_time": "2023-08-24T06:07:18.840Z"
      },
      {
        "duration": 8,
        "start_time": "2023-08-24T06:07:18.856Z"
      },
      {
        "duration": 30,
        "start_time": "2023-08-24T06:07:18.865Z"
      },
      {
        "duration": 19,
        "start_time": "2023-08-24T06:07:18.897Z"
      },
      {
        "duration": 11,
        "start_time": "2023-08-24T06:07:18.919Z"
      },
      {
        "duration": 7,
        "start_time": "2023-08-24T06:07:18.931Z"
      },
      {
        "duration": 11,
        "start_time": "2023-08-24T06:07:18.940Z"
      },
      {
        "duration": 11,
        "start_time": "2023-08-24T06:07:18.985Z"
      },
      {
        "duration": 39,
        "start_time": "2023-08-24T06:07:18.999Z"
      },
      {
        "duration": 4,
        "start_time": "2023-08-24T06:07:19.039Z"
      },
      {
        "duration": 38,
        "start_time": "2023-08-24T06:07:19.045Z"
      },
      {
        "duration": 18,
        "start_time": "2023-08-24T06:07:19.086Z"
      },
      {
        "duration": 5,
        "start_time": "2023-08-24T06:07:19.106Z"
      },
      {
        "duration": 13,
        "start_time": "2023-08-24T06:07:19.113Z"
      },
      {
        "duration": 9,
        "start_time": "2023-08-24T06:07:19.128Z"
      },
      {
        "duration": 10,
        "start_time": "2023-08-24T06:07:19.138Z"
      },
      {
        "duration": 275,
        "start_time": "2023-08-24T06:07:19.149Z"
      },
      {
        "duration": 12,
        "start_time": "2023-08-24T06:07:19.425Z"
      },
      {
        "duration": 105,
        "start_time": "2023-08-24T06:07:19.439Z"
      },
      {
        "duration": 324,
        "start_time": "2023-08-24T06:07:19.546Z"
      },
      {
        "duration": 17,
        "start_time": "2023-08-24T06:07:19.872Z"
      },
      {
        "duration": 242,
        "start_time": "2023-08-24T06:07:19.892Z"
      },
      {
        "duration": 7,
        "start_time": "2023-08-24T06:07:20.138Z"
      },
      {
        "duration": 250,
        "start_time": "2023-08-24T06:07:20.147Z"
      },
      {
        "duration": 27,
        "start_time": "2023-08-24T06:07:20.400Z"
      },
      {
        "duration": 24,
        "start_time": "2023-08-24T06:07:20.428Z"
      },
      {
        "duration": 40,
        "start_time": "2023-08-24T06:07:20.454Z"
      },
      {
        "duration": 13,
        "start_time": "2023-08-24T06:07:20.496Z"
      },
      {
        "duration": 250,
        "start_time": "2023-08-24T06:07:20.511Z"
      },
      {
        "duration": 233,
        "start_time": "2023-08-24T06:07:20.763Z"
      },
      {
        "duration": 239,
        "start_time": "2023-08-24T06:07:20.999Z"
      },
      {
        "duration": 210,
        "start_time": "2023-08-24T06:07:21.240Z"
      },
      {
        "duration": 1016,
        "start_time": "2023-08-24T06:07:21.452Z"
      },
      {
        "duration": 20,
        "start_time": "2023-08-24T06:07:22.470Z"
      },
      {
        "duration": 29,
        "start_time": "2023-08-24T06:07:22.492Z"
      },
      {
        "duration": 15,
        "start_time": "2023-08-24T06:07:22.523Z"
      },
      {
        "duration": 7,
        "start_time": "2023-08-24T06:07:22.540Z"
      },
      {
        "duration": 188,
        "start_time": "2023-08-24T06:07:22.549Z"
      },
      {
        "duration": 11,
        "start_time": "2023-08-24T06:07:22.739Z"
      },
      {
        "duration": 17,
        "start_time": "2023-08-24T06:07:22.752Z"
      },
      {
        "duration": 937,
        "start_time": "2023-08-24T06:07:22.770Z"
      },
      {
        "duration": 6,
        "start_time": "2023-08-24T06:07:23.709Z"
      },
      {
        "duration": 28,
        "start_time": "2023-08-24T06:07:23.717Z"
      },
      {
        "duration": 37,
        "start_time": "2023-08-24T06:07:23.747Z"
      },
      {
        "duration": 181,
        "start_time": "2023-08-24T06:07:23.788Z"
      },
      {
        "duration": 13,
        "start_time": "2023-08-24T06:07:23.970Z"
      },
      {
        "duration": 37675,
        "start_time": "2023-08-24T06:07:23.986Z"
      },
      {
        "duration": 5,
        "start_time": "2023-08-24T07:46:29.988Z"
      },
      {
        "duration": 5,
        "start_time": "2023-08-24T07:46:35.761Z"
      },
      {
        "duration": 7,
        "start_time": "2023-08-24T07:53:59.406Z"
      },
      {
        "duration": 6,
        "start_time": "2023-08-24T08:14:44.338Z"
      },
      {
        "duration": 59,
        "start_time": "2023-08-24T08:52:29.426Z"
      },
      {
        "duration": 1244,
        "start_time": "2023-08-24T08:52:34.209Z"
      },
      {
        "duration": 68,
        "start_time": "2023-08-24T08:52:35.458Z"
      },
      {
        "duration": 15,
        "start_time": "2023-08-24T08:52:35.528Z"
      },
      {
        "duration": 59,
        "start_time": "2023-08-24T08:52:35.546Z"
      },
      {
        "duration": 13,
        "start_time": "2023-08-24T08:52:35.607Z"
      },
      {
        "duration": 36,
        "start_time": "2023-08-24T08:52:35.623Z"
      },
      {
        "duration": 10,
        "start_time": "2023-08-24T08:52:35.661Z"
      },
      {
        "duration": 51,
        "start_time": "2023-08-24T08:52:35.673Z"
      },
      {
        "duration": 24,
        "start_time": "2023-08-24T08:52:35.726Z"
      },
      {
        "duration": 25,
        "start_time": "2023-08-24T08:52:35.754Z"
      },
      {
        "duration": 26,
        "start_time": "2023-08-24T08:52:35.781Z"
      },
      {
        "duration": 20,
        "start_time": "2023-08-24T08:52:35.809Z"
      },
      {
        "duration": 13,
        "start_time": "2023-08-24T08:52:35.831Z"
      },
      {
        "duration": 62,
        "start_time": "2023-08-24T08:52:35.846Z"
      },
      {
        "duration": 11,
        "start_time": "2023-08-24T08:52:35.910Z"
      },
      {
        "duration": 45,
        "start_time": "2023-08-24T08:52:35.922Z"
      },
      {
        "duration": 27,
        "start_time": "2023-08-24T08:52:35.969Z"
      },
      {
        "duration": 8,
        "start_time": "2023-08-24T08:52:35.998Z"
      },
      {
        "duration": 10,
        "start_time": "2023-08-24T08:52:36.008Z"
      },
      {
        "duration": 20,
        "start_time": "2023-08-24T08:52:36.020Z"
      },
      {
        "duration": 11,
        "start_time": "2023-08-24T08:52:36.042Z"
      },
      {
        "duration": 230,
        "start_time": "2023-08-24T08:52:36.059Z"
      },
      {
        "duration": 12,
        "start_time": "2023-08-24T08:52:36.291Z"
      },
      {
        "duration": 114,
        "start_time": "2023-08-24T08:52:36.305Z"
      },
      {
        "duration": 340,
        "start_time": "2023-08-24T08:52:36.421Z"
      },
      {
        "duration": 11,
        "start_time": "2023-08-24T08:52:36.762Z"
      },
      {
        "duration": 230,
        "start_time": "2023-08-24T08:52:36.775Z"
      },
      {
        "duration": 8,
        "start_time": "2023-08-24T08:52:37.009Z"
      },
      {
        "duration": 223,
        "start_time": "2023-08-24T08:52:37.019Z"
      },
      {
        "duration": 37,
        "start_time": "2023-08-24T08:52:37.244Z"
      },
      {
        "duration": 24,
        "start_time": "2023-08-24T08:52:37.283Z"
      },
      {
        "duration": 13,
        "start_time": "2023-08-24T08:52:37.309Z"
      },
      {
        "duration": 35,
        "start_time": "2023-08-24T08:52:37.324Z"
      },
      {
        "duration": 222,
        "start_time": "2023-08-24T08:52:37.361Z"
      },
      {
        "duration": 218,
        "start_time": "2023-08-24T08:52:37.586Z"
      },
      {
        "duration": 226,
        "start_time": "2023-08-24T08:52:37.806Z"
      },
      {
        "duration": 218,
        "start_time": "2023-08-24T08:52:38.034Z"
      },
      {
        "duration": 952,
        "start_time": "2023-08-24T08:52:38.258Z"
      },
      {
        "duration": 12,
        "start_time": "2023-08-24T08:52:39.212Z"
      },
      {
        "duration": 31,
        "start_time": "2023-08-24T08:52:39.225Z"
      },
      {
        "duration": 28,
        "start_time": "2023-08-24T08:52:39.259Z"
      },
      {
        "duration": 29,
        "start_time": "2023-08-24T08:52:39.289Z"
      },
      {
        "duration": 303,
        "start_time": "2023-08-24T08:52:39.321Z"
      },
      {
        "duration": 79,
        "start_time": "2023-08-24T08:52:39.627Z"
      },
      {
        "duration": 63,
        "start_time": "2023-08-24T08:52:39.708Z"
      },
      {
        "duration": 912,
        "start_time": "2023-08-24T08:52:39.774Z"
      },
      {
        "duration": 6,
        "start_time": "2023-08-24T08:52:40.688Z"
      },
      {
        "duration": 31,
        "start_time": "2023-08-24T08:52:40.695Z"
      },
      {
        "duration": 14,
        "start_time": "2023-08-24T08:52:40.728Z"
      },
      {
        "duration": 15,
        "start_time": "2023-08-24T08:52:40.744Z"
      },
      {
        "duration": 184,
        "start_time": "2023-08-24T08:52:40.761Z"
      },
      {
        "duration": 6,
        "start_time": "2023-08-24T08:52:40.947Z"
      },
      {
        "duration": 35545,
        "start_time": "2023-08-24T08:52:40.954Z"
      }
    ],
    "kernelspec": {
      "display_name": "Python 3 (ipykernel)",
      "language": "python",
      "name": "python3"
    },
    "language_info": {
      "codemirror_mode": {
        "name": "ipython",
        "version": 3
      },
      "file_extension": ".py",
      "mimetype": "text/x-python",
      "name": "python",
      "nbconvert_exporter": "python",
      "pygments_lexer": "ipython3",
      "version": "3.9.5"
    },
    "toc": {
      "base_numbering": 1,
      "nav_menu": {},
      "number_sections": true,
      "sideBar": true,
      "skip_h1_title": true,
      "title_cell": "Table of Contents",
      "title_sidebar": "Contents",
      "toc_cell": false,
      "toc_position": {},
      "toc_section_display": true,
      "toc_window_display": false
    },
    "colab": {
      "provenance": [],
      "toc_visible": true
    }
  },
  "nbformat": 4,
  "nbformat_minor": 5
}