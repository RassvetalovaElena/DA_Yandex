{
  "cells": [
    {
      "cell_type": "markdown",
      "metadata": {
        "id": "EN6yX622-4WK"
      },
      "source": [
        "# Выявление  закономерностей, определяющих  успешность компьютерных  игр для интернет-магазина \"Стримчик\"\n"
      ]
    },
    {
      "cell_type": "markdown",
      "metadata": {
        "id": "_wX-UOQl-4WL"
      },
      "source": [
        "Мы работаем в интернет-магазине «Стримчик», который продаёт по всему миру компьютерные игры. Из открытых источников доступны исторические данные о продажах игр, оценки пользователей и экспертов, жанры и платформы (например, Xbox или PlayStation). В ходе проекта нам нужно выявить определяющие успешность игры закономерности. Это позволит сделать ставку на потенциально популярный продукт и спланировать рекламные кампании.\n",
        "Перед нами данные до 2016 года. Представим, что сейчас декабрь 2016 г., и мы планируем кампанию на 2017-й. Нужно отработать принцип работы с данными. Неважно, прогнозируем ли мы продажи на 2017 год по данным 2016-го или же 2027-й — по данным 2026 года.\n",
        "В наборе данных попадается аббревиатура ESRB (Entertainment Software Rating Board) — это ассоциация, определяющая возрастной рейтинг компьютерных игр. ESRB оценивает игровой контент и присваивает ему подходящую возрастную категорию, например, «Для взрослых», «Для детей младшего возраста» или «Для подростков».\n",
        "\n",
        "План работы:\n",
        "1. Изучим общую информацию файла с данными\n",
        "2. Заменим названия столюцов, приведем в соотвтествие типы данных, обработаем пропуски, создадим новые столбцы при необходимости.\n",
        "3. Посмтотрим как менялись продажи по платформам, посмотрим сколько игр выпускалось в разные годы, построим график ящик с усами по глобальным продажам игр в разбивке по платформам, посмотрмм как влияют на продажи внутри одной платформы отзывы пользователей, посмотрмм на общее распределение игр по жанрам.\n",
        "4. Составим портрет пользователя каждого региона.\n",
        "5. Проверим гипотезы."
      ]
    },
    {
      "cell_type": "markdown",
      "metadata": {
        "id": "hQSS8lXx-4WM"
      },
      "source": [
        "## Открытие файла с данными и изучение общей информацию о данных"
      ]
    },
    {
      "cell_type": "markdown",
      "metadata": {
        "id": "yxFbmM8C-4WM"
      },
      "source": [
        "### Открытие файла"
      ]
    },
    {
      "cell_type": "markdown",
      "metadata": {
        "id": "5dB-Qq02-4WN"
      },
      "source": [
        "импортируем необходимы для работы библиотеки и откроем файл"
      ]
    },
    {
      "cell_type": "code",
      "execution_count": null,
      "metadata": {
        "id": "FMKDvw-I-4WO"
      },
      "outputs": [],
      "source": [
        "import pandas as pd\n",
        "import matplotlib.pyplot as plt\n",
        "import seaborn as sns\n",
        "import numpy as np\n",
        "from scipy import stats as st\n",
        "import warnings\n",
        "warnings.filterwarnings(\"ignore\")"
      ]
    },
    {
      "cell_type": "code",
      "execution_count": null,
      "metadata": {
        "id": "uEz16qNE-4WP"
      },
      "outputs": [],
      "source": [
        "try:\n",
        "  # смотрим есть ли локально файл\n",
        "  df = pd.read_csv('/datasets/games.csv', sep=',')\n",
        "except:\n",
        "  # если же его нет\n",
        "  df = pd.read_csv('/datasets/games.csv', sep=',')"
      ]
    },
    {
      "cell_type": "markdown",
      "metadata": {
        "id": "b33HFbZ3-4WQ"
      },
      "source": [
        "### Изучение общей информации"
      ]
    },
    {
      "cell_type": "code",
      "execution_count": null,
      "metadata": {
        "id": "9h_mSZCZ-4WQ",
        "outputId": "04875447-54e5-404e-e5b4-320c987195e2"
      },
      "outputs": [
        {
          "data": {
            "text/plain": [
              "(16715, 11)"
            ]
          },
          "execution_count": 3,
          "metadata": {},
          "output_type": "execute_result"
        }
      ],
      "source": [
        "# посмотрим размер таблицы\n",
        "df.shape"
      ]
    },
    {
      "cell_type": "code",
      "execution_count": null,
      "metadata": {
        "id": "rDH5cSli-4WR",
        "outputId": "37e14f62-382b-41b8-bc0a-68d662b0cb02"
      },
      "outputs": [
        {
          "data": {
            "text/html": [
              "<div>\n",
              "<style scoped>\n",
              "    .dataframe tbody tr th:only-of-type {\n",
              "        vertical-align: middle;\n",
              "    }\n",
              "\n",
              "    .dataframe tbody tr th {\n",
              "        vertical-align: top;\n",
              "    }\n",
              "\n",
              "    .dataframe thead th {\n",
              "        text-align: right;\n",
              "    }\n",
              "</style>\n",
              "<table border=\"1\" class=\"dataframe\">\n",
              "  <thead>\n",
              "    <tr style=\"text-align: right;\">\n",
              "      <th></th>\n",
              "      <th>Name</th>\n",
              "      <th>Platform</th>\n",
              "      <th>Year_of_Release</th>\n",
              "      <th>Genre</th>\n",
              "      <th>NA_sales</th>\n",
              "      <th>EU_sales</th>\n",
              "      <th>JP_sales</th>\n",
              "      <th>Other_sales</th>\n",
              "      <th>Critic_Score</th>\n",
              "      <th>User_Score</th>\n",
              "      <th>Rating</th>\n",
              "    </tr>\n",
              "  </thead>\n",
              "  <tbody>\n",
              "    <tr>\n",
              "      <th>0</th>\n",
              "      <td>Wii Sports</td>\n",
              "      <td>Wii</td>\n",
              "      <td>2006.0</td>\n",
              "      <td>Sports</td>\n",
              "      <td>41.36</td>\n",
              "      <td>28.96</td>\n",
              "      <td>3.77</td>\n",
              "      <td>8.45</td>\n",
              "      <td>76.0</td>\n",
              "      <td>8</td>\n",
              "      <td>E</td>\n",
              "    </tr>\n",
              "    <tr>\n",
              "      <th>1</th>\n",
              "      <td>Super Mario Bros.</td>\n",
              "      <td>NES</td>\n",
              "      <td>1985.0</td>\n",
              "      <td>Platform</td>\n",
              "      <td>29.08</td>\n",
              "      <td>3.58</td>\n",
              "      <td>6.81</td>\n",
              "      <td>0.77</td>\n",
              "      <td>NaN</td>\n",
              "      <td>NaN</td>\n",
              "      <td>NaN</td>\n",
              "    </tr>\n",
              "    <tr>\n",
              "      <th>2</th>\n",
              "      <td>Mario Kart Wii</td>\n",
              "      <td>Wii</td>\n",
              "      <td>2008.0</td>\n",
              "      <td>Racing</td>\n",
              "      <td>15.68</td>\n",
              "      <td>12.76</td>\n",
              "      <td>3.79</td>\n",
              "      <td>3.29</td>\n",
              "      <td>82.0</td>\n",
              "      <td>8.3</td>\n",
              "      <td>E</td>\n",
              "    </tr>\n",
              "    <tr>\n",
              "      <th>3</th>\n",
              "      <td>Wii Sports Resort</td>\n",
              "      <td>Wii</td>\n",
              "      <td>2009.0</td>\n",
              "      <td>Sports</td>\n",
              "      <td>15.61</td>\n",
              "      <td>10.93</td>\n",
              "      <td>3.28</td>\n",
              "      <td>2.95</td>\n",
              "      <td>80.0</td>\n",
              "      <td>8</td>\n",
              "      <td>E</td>\n",
              "    </tr>\n",
              "    <tr>\n",
              "      <th>4</th>\n",
              "      <td>Pokemon Red/Pokemon Blue</td>\n",
              "      <td>GB</td>\n",
              "      <td>1996.0</td>\n",
              "      <td>Role-Playing</td>\n",
              "      <td>11.27</td>\n",
              "      <td>8.89</td>\n",
              "      <td>10.22</td>\n",
              "      <td>1.00</td>\n",
              "      <td>NaN</td>\n",
              "      <td>NaN</td>\n",
              "      <td>NaN</td>\n",
              "    </tr>\n",
              "  </tbody>\n",
              "</table>\n",
              "</div>"
            ],
            "text/plain": [
              "                       Name Platform  Year_of_Release         Genre  NA_sales  \\\n",
              "0                Wii Sports      Wii           2006.0        Sports     41.36   \n",
              "1         Super Mario Bros.      NES           1985.0      Platform     29.08   \n",
              "2            Mario Kart Wii      Wii           2008.0        Racing     15.68   \n",
              "3         Wii Sports Resort      Wii           2009.0        Sports     15.61   \n",
              "4  Pokemon Red/Pokemon Blue       GB           1996.0  Role-Playing     11.27   \n",
              "\n",
              "   EU_sales  JP_sales  Other_sales  Critic_Score User_Score Rating  \n",
              "0     28.96      3.77         8.45          76.0          8      E  \n",
              "1      3.58      6.81         0.77           NaN        NaN    NaN  \n",
              "2     12.76      3.79         3.29          82.0        8.3      E  \n",
              "3     10.93      3.28         2.95          80.0          8      E  \n",
              "4      8.89     10.22         1.00           NaN        NaN    NaN  "
            ]
          },
          "execution_count": 4,
          "metadata": {},
          "output_type": "execute_result"
        }
      ],
      "source": [
        "# выведем первые 5 строк\n",
        "pd.set_option('display.max_columns', None)\n",
        "df.head()"
      ]
    },
    {
      "cell_type": "code",
      "execution_count": null,
      "metadata": {
        "id": "t_wftbt--4WS",
        "outputId": "41cd54ac-bfa9-4ac6-d64a-f54f901f3fe2"
      },
      "outputs": [
        {
          "data": {
            "text/html": [
              "<div>\n",
              "<style scoped>\n",
              "    .dataframe tbody tr th:only-of-type {\n",
              "        vertical-align: middle;\n",
              "    }\n",
              "\n",
              "    .dataframe tbody tr th {\n",
              "        vertical-align: top;\n",
              "    }\n",
              "\n",
              "    .dataframe thead th {\n",
              "        text-align: right;\n",
              "    }\n",
              "</style>\n",
              "<table border=\"1\" class=\"dataframe\">\n",
              "  <thead>\n",
              "    <tr style=\"text-align: right;\">\n",
              "      <th></th>\n",
              "      <th>Name</th>\n",
              "      <th>Platform</th>\n",
              "      <th>Year_of_Release</th>\n",
              "      <th>Genre</th>\n",
              "      <th>NA_sales</th>\n",
              "      <th>EU_sales</th>\n",
              "      <th>JP_sales</th>\n",
              "      <th>Other_sales</th>\n",
              "      <th>Critic_Score</th>\n",
              "      <th>User_Score</th>\n",
              "      <th>Rating</th>\n",
              "    </tr>\n",
              "  </thead>\n",
              "  <tbody>\n",
              "    <tr>\n",
              "      <th>16710</th>\n",
              "      <td>Samurai Warriors: Sanada Maru</td>\n",
              "      <td>PS3</td>\n",
              "      <td>2016.0</td>\n",
              "      <td>Action</td>\n",
              "      <td>0.00</td>\n",
              "      <td>0.00</td>\n",
              "      <td>0.01</td>\n",
              "      <td>0.0</td>\n",
              "      <td>NaN</td>\n",
              "      <td>NaN</td>\n",
              "      <td>NaN</td>\n",
              "    </tr>\n",
              "    <tr>\n",
              "      <th>16711</th>\n",
              "      <td>LMA Manager 2007</td>\n",
              "      <td>X360</td>\n",
              "      <td>2006.0</td>\n",
              "      <td>Sports</td>\n",
              "      <td>0.00</td>\n",
              "      <td>0.01</td>\n",
              "      <td>0.00</td>\n",
              "      <td>0.0</td>\n",
              "      <td>NaN</td>\n",
              "      <td>NaN</td>\n",
              "      <td>NaN</td>\n",
              "    </tr>\n",
              "    <tr>\n",
              "      <th>16712</th>\n",
              "      <td>Haitaka no Psychedelica</td>\n",
              "      <td>PSV</td>\n",
              "      <td>2016.0</td>\n",
              "      <td>Adventure</td>\n",
              "      <td>0.00</td>\n",
              "      <td>0.00</td>\n",
              "      <td>0.01</td>\n",
              "      <td>0.0</td>\n",
              "      <td>NaN</td>\n",
              "      <td>NaN</td>\n",
              "      <td>NaN</td>\n",
              "    </tr>\n",
              "    <tr>\n",
              "      <th>16713</th>\n",
              "      <td>Spirits &amp; Spells</td>\n",
              "      <td>GBA</td>\n",
              "      <td>2003.0</td>\n",
              "      <td>Platform</td>\n",
              "      <td>0.01</td>\n",
              "      <td>0.00</td>\n",
              "      <td>0.00</td>\n",
              "      <td>0.0</td>\n",
              "      <td>NaN</td>\n",
              "      <td>NaN</td>\n",
              "      <td>NaN</td>\n",
              "    </tr>\n",
              "    <tr>\n",
              "      <th>16714</th>\n",
              "      <td>Winning Post 8 2016</td>\n",
              "      <td>PSV</td>\n",
              "      <td>2016.0</td>\n",
              "      <td>Simulation</td>\n",
              "      <td>0.00</td>\n",
              "      <td>0.00</td>\n",
              "      <td>0.01</td>\n",
              "      <td>0.0</td>\n",
              "      <td>NaN</td>\n",
              "      <td>NaN</td>\n",
              "      <td>NaN</td>\n",
              "    </tr>\n",
              "  </tbody>\n",
              "</table>\n",
              "</div>"
            ],
            "text/plain": [
              "                                Name Platform  Year_of_Release       Genre  \\\n",
              "16710  Samurai Warriors: Sanada Maru      PS3           2016.0      Action   \n",
              "16711               LMA Manager 2007     X360           2006.0      Sports   \n",
              "16712        Haitaka no Psychedelica      PSV           2016.0   Adventure   \n",
              "16713               Spirits & Spells      GBA           2003.0    Platform   \n",
              "16714            Winning Post 8 2016      PSV           2016.0  Simulation   \n",
              "\n",
              "       NA_sales  EU_sales  JP_sales  Other_sales  Critic_Score User_Score  \\\n",
              "16710      0.00      0.00      0.01          0.0           NaN        NaN   \n",
              "16711      0.00      0.01      0.00          0.0           NaN        NaN   \n",
              "16712      0.00      0.00      0.01          0.0           NaN        NaN   \n",
              "16713      0.01      0.00      0.00          0.0           NaN        NaN   \n",
              "16714      0.00      0.00      0.01          0.0           NaN        NaN   \n",
              "\n",
              "      Rating  \n",
              "16710    NaN  \n",
              "16711    NaN  \n",
              "16712    NaN  \n",
              "16713    NaN  \n",
              "16714    NaN  "
            ]
          },
          "execution_count": 5,
          "metadata": {},
          "output_type": "execute_result"
        }
      ],
      "source": [
        "# выведем последние 5 строк\n",
        "pd.set_option('display.max_columns', None)\n",
        "df.tail()"
      ]
    },
    {
      "cell_type": "code",
      "execution_count": null,
      "metadata": {
        "id": "66_QBezk-4WS",
        "outputId": "df117d56-9063-4d42-e31a-99a1b695d58f"
      },
      "outputs": [
        {
          "name": "stdout",
          "output_type": "stream",
          "text": [
            "<class 'pandas.core.frame.DataFrame'>\n",
            "RangeIndex: 16715 entries, 0 to 16714\n",
            "Data columns (total 11 columns):\n",
            " #   Column           Non-Null Count  Dtype  \n",
            "---  ------           --------------  -----  \n",
            " 0   Name             16713 non-null  object \n",
            " 1   Platform         16715 non-null  object \n",
            " 2   Year_of_Release  16446 non-null  float64\n",
            " 3   Genre            16713 non-null  object \n",
            " 4   NA_sales         16715 non-null  float64\n",
            " 5   EU_sales         16715 non-null  float64\n",
            " 6   JP_sales         16715 non-null  float64\n",
            " 7   Other_sales      16715 non-null  float64\n",
            " 8   Critic_Score     8137 non-null   float64\n",
            " 9   User_Score       10014 non-null  object \n",
            " 10  Rating           9949 non-null   object \n",
            "dtypes: float64(6), object(5)\n",
            "memory usage: 1.4+ MB\n"
          ]
        }
      ],
      "source": [
        "# посмотрим типы данных у столбцов\n",
        "df.info()"
      ]
    },
    {
      "cell_type": "markdown",
      "metadata": {
        "id": "o7_ILf4V-4WT"
      },
      "source": [
        "*** Вывод : ***\n",
        "В полях name (16713), Year_of_Release (16446), Genre (16713), Critic_Score (8137), User_Score (10014), Rating (9949)  пропуски. Всего записей 16715.  В имени и жанре по два пропуска их наверно можно удалить.\n",
        "Все имена лучше привести к нижнему регистру. Поля Critic_Score, Year_of_Release можно сделать тип int, так как это рейтинги от 0 до 100 и год выхода игры.\n",
        "Так же нужно проверить данные на явные дубликаты и обработать пропуски."
      ]
    },
    {
      "cell_type": "markdown",
      "metadata": {
        "id": "hfJOx5SW-4WT"
      },
      "source": [
        "## Подготовка данных для анализа"
      ]
    },
    {
      "cell_type": "markdown",
      "metadata": {
        "id": "bXfAXhvh-4WT"
      },
      "source": [
        "### Заменим названия столбцов (приведите к нижнему регистру)"
      ]
    },
    {
      "cell_type": "code",
      "execution_count": null,
      "metadata": {
        "id": "zjqzzuaC-4WU"
      },
      "outputs": [],
      "source": [
        "# приведем название полей  в правильный формат\n",
        "# Name,Platform,Year_of_Release,Genre,NA_sales,EU_sales,JP_sales,Other_sales,Critic_Score,User_Score,Rating\n",
        "df.columns = df.columns.str.lower().str.replace(\" \", \"_\")"
      ]
    },
    {
      "cell_type": "markdown",
      "metadata": {
        "id": "DfbftuE4-4WU"
      },
      "source": [
        "### Преобразуем данные в нужные типы"
      ]
    },
    {
      "cell_type": "code",
      "execution_count": null,
      "metadata": {
        "id": "bQEdVBlv-4WU"
      },
      "outputs": [],
      "source": [
        "# В Полях User_Score, Critic_Score, Year_of_Release заменим  тип int\n",
        "df['critic_score'] = np.floor(pd.to_numeric(df['critic_score'], errors='coerce')).astype('Int64')\n",
        "df['year_of_release'] = np.floor(pd.to_numeric(df['year_of_release'], errors='coerce')).astype('Int64')"
      ]
    },
    {
      "cell_type": "markdown",
      "metadata": {
        "id": "gf3VQcl8-4WV"
      },
      "source": [
        "### Обработаем пропуски\n",
        "\n",
        "В полях name (16713), Year_of_Release (16446), Genre (16713), Critic_Score (8137), User_Score (10014), Rating (9949)  пропуски. Всего записей 16715.\n",
        "\n"
      ]
    },
    {
      "cell_type": "code",
      "execution_count": null,
      "metadata": {
        "scrolled": true,
        "id": "_kll_EKX-4WV",
        "outputId": "9e61468d-a70f-4e45-f6fc-d6352a7d566c"
      },
      "outputs": [
        {
          "data": {
            "text/plain": [
              "critic_score       51.319174\n",
              "rating             40.478612\n",
              "user_score         40.089740\n",
              "year_of_release     1.609333\n",
              "name                0.011965\n",
              "genre               0.011965\n",
              "platform            0.000000\n",
              "na_sales            0.000000\n",
              "eu_sales            0.000000\n",
              "jp_sales            0.000000\n",
              "other_sales         0.000000\n",
              "dtype: float64"
            ]
          },
          "execution_count": 9,
          "metadata": {},
          "output_type": "execute_result"
        }
      ],
      "source": [
        "#посмотрим процент пропусков в колонках\n",
        "df.isna().mean().sort_values(ascending=False) * 100"
      ]
    },
    {
      "cell_type": "markdown",
      "metadata": {
        "id": "4CG51FRH-4WV"
      },
      "source": [
        "В полях user_score и critica_score пропусков больше 50%! В поле rating 40! В поле year_of_release 1,6,\n",
        "\n",
        "В name и genre по 0.01. Думаю в этих полях строки с пропусками можно удалить, т.к. их не много и без названия и жанра мы не сможем их анализировать. Это обезличенные записи."
      ]
    },
    {
      "cell_type": "code",
      "execution_count": null,
      "metadata": {
        "id": "ioR8BY7R-4WW",
        "outputId": "5dd6b05c-0378-46f0-8aa0-e15332ab2239"
      },
      "outputs": [
        {
          "data": {
            "text/html": [
              "<div>\n",
              "<style scoped>\n",
              "    .dataframe tbody tr th:only-of-type {\n",
              "        vertical-align: middle;\n",
              "    }\n",
              "\n",
              "    .dataframe tbody tr th {\n",
              "        vertical-align: top;\n",
              "    }\n",
              "\n",
              "    .dataframe thead th {\n",
              "        text-align: right;\n",
              "    }\n",
              "</style>\n",
              "<table border=\"1\" class=\"dataframe\">\n",
              "  <thead>\n",
              "    <tr style=\"text-align: right;\">\n",
              "      <th></th>\n",
              "      <th>name</th>\n",
              "      <th>platform</th>\n",
              "      <th>year_of_release</th>\n",
              "      <th>genre</th>\n",
              "      <th>na_sales</th>\n",
              "      <th>eu_sales</th>\n",
              "      <th>jp_sales</th>\n",
              "      <th>other_sales</th>\n",
              "      <th>critic_score</th>\n",
              "      <th>user_score</th>\n",
              "      <th>rating</th>\n",
              "    </tr>\n",
              "  </thead>\n",
              "  <tbody>\n",
              "    <tr>\n",
              "      <th>659</th>\n",
              "      <td>NaN</td>\n",
              "      <td>GEN</td>\n",
              "      <td>1993</td>\n",
              "      <td>NaN</td>\n",
              "      <td>1.78</td>\n",
              "      <td>0.53</td>\n",
              "      <td>0.00</td>\n",
              "      <td>0.08</td>\n",
              "      <td>&lt;NA&gt;</td>\n",
              "      <td>NaN</td>\n",
              "      <td>NaN</td>\n",
              "    </tr>\n",
              "    <tr>\n",
              "      <th>14244</th>\n",
              "      <td>NaN</td>\n",
              "      <td>GEN</td>\n",
              "      <td>1993</td>\n",
              "      <td>NaN</td>\n",
              "      <td>0.00</td>\n",
              "      <td>0.00</td>\n",
              "      <td>0.03</td>\n",
              "      <td>0.00</td>\n",
              "      <td>&lt;NA&gt;</td>\n",
              "      <td>NaN</td>\n",
              "      <td>NaN</td>\n",
              "    </tr>\n",
              "  </tbody>\n",
              "</table>\n",
              "</div>"
            ],
            "text/plain": [
              "      name platform  year_of_release genre  na_sales  eu_sales  jp_sales  \\\n",
              "659    NaN      GEN             1993   NaN      1.78      0.53      0.00   \n",
              "14244  NaN      GEN             1993   NaN      0.00      0.00      0.03   \n",
              "\n",
              "       other_sales  critic_score user_score rating  \n",
              "659           0.08          <NA>        NaN    NaN  \n",
              "14244         0.00          <NA>        NaN    NaN  "
            ]
          },
          "execution_count": 10,
          "metadata": {},
          "output_type": "execute_result"
        }
      ],
      "source": [
        "# посмотрим строки где название игры отсутствует\n",
        "df[df['name'].isnull()]\n",
        "df[df['genre'].isnull()]"
      ]
    },
    {
      "cell_type": "markdown",
      "metadata": {
        "id": "qoGjPclJ-4WX"
      },
      "source": [
        "Это одни и теже 2 записи и точно можно удалить"
      ]
    },
    {
      "cell_type": "code",
      "execution_count": null,
      "metadata": {
        "id": "s1FHuhVJ-4WX"
      },
      "outputs": [],
      "source": [
        "# удаляем записи, где отсутствует название игры и жанр\n",
        "df[df['name'].isnull()]\n",
        "df.dropna(subset=['name'], inplace=True)\n",
        "df.dropna(subset=['genre'], inplace=True)"
      ]
    },
    {
      "cell_type": "code",
      "execution_count": null,
      "metadata": {
        "id": "kEA4I97L-4Wq"
      },
      "outputs": [],
      "source": [
        "# удаляем записи, где отсутствует год\n",
        "df[df['year_of_release'].isnull()]\n",
        "df.dropna(subset=['year_of_release'], inplace=True)"
      ]
    },
    {
      "cell_type": "code",
      "execution_count": null,
      "metadata": {
        "id": "NMblV2PO-4Wq",
        "outputId": "2e5192b0-db24-4bf1-b89b-7e35fed476bf"
      },
      "outputs": [
        {
          "data": {
            "text/plain": [
              "array(['8', nan, '8.3', '8.5', '6.6', '8.4', '8.6', '7.7', '6.3', '7.4',\n",
              "       '8.2', '9', '7.9', '8.1', '8.7', '7.1', '3.4', '5.3', '4.8', '3.2',\n",
              "       '8.9', '6.4', '7.8', '7.5', '2.6', '7.2', '9.2', '7', '7.3', '4.3',\n",
              "       '7.6', '5.7', '5', '9.1', '6.5', 'tbd', '8.8', '6.9', '9.4', '6.8',\n",
              "       '6.1', '6.7', '5.4', '4', '4.9', '4.5', '9.3', '6.2', '4.2', '6',\n",
              "       '3.7', '4.1', '5.8', '5.6', '5.5', '4.4', '4.6', '5.9', '3.9',\n",
              "       '3.1', '2.9', '5.2', '3.3', '4.7', '5.1', '3.5', '2.5', '1.9', '3',\n",
              "       '2.7', '2.2', '2', '9.5', '2.1', '3.6', '2.8', '1.8', '3.8', '0',\n",
              "       '1.6', '9.6', '2.4', '1.7', '1.1', '0.3', '1.5', '0.7', '1.2',\n",
              "       '2.3', '0.5', '1.3', '0.2', '0.6', '1.4', '0.9', '1', '9.7'],\n",
              "      dtype=object)"
            ]
          },
          "execution_count": 13,
          "metadata": {},
          "output_type": "execute_result"
        }
      ],
      "source": [
        "# посмотрим уникальные значения в поле user_score\n",
        "df['user_score'].unique()"
      ]
    },
    {
      "cell_type": "markdown",
      "metadata": {
        "id": "H2u2Dn1d-4Wr"
      },
      "source": [
        "Видим здесь занчение tbd, видимо это рейтинг не определен и можно его заменить на Nan. После этого можно заменить тип данных на float."
      ]
    },
    {
      "cell_type": "code",
      "execution_count": null,
      "metadata": {
        "id": "583FO1ea-4Wr"
      },
      "outputs": [],
      "source": [
        "df.loc[df['user_score'] == 'tbd', 'user_score'] = np.nan\n",
        "df['user_score'] = df['user_score'].astype('float')"
      ]
    },
    {
      "cell_type": "markdown",
      "metadata": {
        "id": "Cc2oHX2Z-4Wu"
      },
      "source": [
        "### Сделаем проверку на явные и неявные дубликаты"
      ]
    },
    {
      "cell_type": "code",
      "execution_count": null,
      "metadata": {
        "id": "d2FmMHJ--4Wv",
        "outputId": "0989f237-03a0-4d65-c9e3-e4b06a8fbcf7"
      },
      "outputs": [
        {
          "data": {
            "text/plain": [
              "0"
            ]
          },
          "execution_count": 15,
          "metadata": {},
          "output_type": "execute_result"
        }
      ],
      "source": [
        "# посмотрим явные дубликаты\n",
        "df.duplicated().sum()"
      ]
    },
    {
      "cell_type": "code",
      "execution_count": null,
      "metadata": {
        "id": "xw8Q1p9W-4Ww",
        "outputId": "16230640-a580-4d89-e76d-262a36c05af7"
      },
      "outputs": [
        {
          "data": {
            "text/plain": [
              "array(['Wii', 'NES', 'GB', 'DS', 'X360', 'PS3', 'PS2', 'SNES', 'GBA',\n",
              "       'PS4', '3DS', 'N64', 'PS', 'XB', 'PC', '2600', 'PSP', 'XOne',\n",
              "       'WiiU', 'GC', 'GEN', 'DC', 'PSV', 'SAT', 'SCD', 'WS', 'NG', 'TG16',\n",
              "       '3DO', 'GG', 'PCFX'], dtype=object)"
            ]
          },
          "execution_count": 16,
          "metadata": {},
          "output_type": "execute_result"
        }
      ],
      "source": [
        "# Проверим таблицу df на дубликаты имен и названий городов\n",
        "df['name'].unique()\n",
        "df['platform'].unique()"
      ]
    },
    {
      "cell_type": "markdown",
      "metadata": {
        "id": "bAmxyDCT-4Wx"
      },
      "source": [
        "Дубликатов нет"
      ]
    },
    {
      "cell_type": "markdown",
      "metadata": {
        "id": "9GU4rS3Q-4Wy"
      },
      "source": [
        "### Посчитаем суммарные продажи во всех регионах и запишем их в отдельный столбец total_sales."
      ]
    },
    {
      "cell_type": "code",
      "execution_count": null,
      "metadata": {
        "id": "UZXkHaDK-4Wy",
        "outputId": "e322445b-b3d6-4a12-9062-d687eabf3c9b"
      },
      "outputs": [
        {
          "data": {
            "text/plain": [
              "0        82.54\n",
              "1        40.24\n",
              "2        35.52\n",
              "3        32.77\n",
              "4        31.38\n",
              "         ...  \n",
              "16710     0.01\n",
              "16711     0.01\n",
              "16712     0.01\n",
              "16713     0.01\n",
              "16714     0.01\n",
              "Name: total_sales, Length: 16444, dtype: float64"
            ]
          },
          "execution_count": 17,
          "metadata": {},
          "output_type": "execute_result"
        }
      ],
      "source": [
        "df['total_sales'] = df['na_sales'] + df['eu_sales'] + df['jp_sales'] + df['other_sales']\n",
        "df['total_sales']"
      ]
    },
    {
      "cell_type": "markdown",
      "metadata": {
        "id": "Y0ESXllP-4Wz"
      },
      "source": [
        "*** Вывод : ***\n",
        "В результате обработки данных мы нашли большое количество пропусков.\n",
        "В полях user_score, critica_score, rating пропусков очень много, но заменить их нечем, возможно это новые фильмы, которые не успели оценить критики пользователи и нет пока рейтинга. Оставим их как есть.\n",
        "Записи с пропусками в name и genre мы просто удалили, т.к.они не информативны.\n",
        "Пропуски в поле год выпуска заменили на 0.\n",
        "В поле user_score обнаружили аббревиатуру 'tbd', значит рейтинг не определен, заменили ее на Nan\n"
      ]
    },
    {
      "cell_type": "markdown",
      "metadata": {
        "id": "9YWKUk9f-4W1"
      },
      "source": [
        "## Исследовательский анализ"
      ]
    },
    {
      "cell_type": "markdown",
      "metadata": {
        "id": "lBxi0PBL-4W2"
      },
      "source": [
        "### Посмотрим, сколько игр выпускалось в разные годы. Важны ли данные за все периоды?"
      ]
    },
    {
      "cell_type": "code",
      "execution_count": null,
      "metadata": {
        "id": "iIl0hjpM-4W3",
        "outputId": "9001bd89-df8d-4d91-a7f8-e272e5ebd149"
      },
      "outputs": [
        {
          "data": {
            "text/plain": [
              "2016"
            ]
          },
          "execution_count": 18,
          "metadata": {},
          "output_type": "execute_result"
        }
      ],
      "source": [
        "# посмотрим максимальный год выпуска\n",
        "df['year_of_release'].max()"
      ]
    },
    {
      "cell_type": "code",
      "execution_count": null,
      "metadata": {
        "id": "Js6oZysV-4W4",
        "outputId": "709b9337-ed8a-448c-bb37-470716a5c187"
      },
      "outputs": [
        {
          "data": {
            "text/plain": [
              "1980"
            ]
          },
          "execution_count": 19,
          "metadata": {},
          "output_type": "execute_result"
        }
      ],
      "source": [
        "# посмотрим минимальный год выпуска\n",
        "df[df['year_of_release'] > 1950]['year_of_release'].min()"
      ]
    },
    {
      "cell_type": "markdown",
      "metadata": {
        "id": "sextwpe8-4W5"
      },
      "source": [
        "максимальный год выпуска 2016, минимальный  0 (мы сами меняли пропуски на 0). Если ограничить год 1950 (раньше вряд ли что то выпускали), то минимальный получается 1980. Тоесть игры в выборке с 1980 по 2016. Построим гисторгамму по годам"
      ]
    },
    {
      "cell_type": "code",
      "execution_count": null,
      "metadata": {
        "id": "S5bcxfmd-4W7",
        "outputId": "242f9238-e121-4954-ed8f-0f307097223a"
      },
      "outputs": [
        {
          "data": {
            "image/png": "[encoded data removed]",
            "text/plain": [
              "<Figure size 1440x360 with 1 Axes>"
            ]
          },
          "metadata": {
            "needs_background": "light"
          },
          "output_type": "display_data"
        }
      ],
      "source": [
        "plt.figure(figsize=(20, 5))\n",
        "df['year_of_release'].hist(bins = 80, range=(1979, 2017))\n",
        "plt.title('Выпуск игр по годам')\n",
        "plt.xlabel('Год')\n",
        "plt.ylabel('Количество игр')\n",
        "plt.show()"
      ]
    },
    {
      "cell_type": "markdown",
      "metadata": {
        "id": "fCa00H8v-4W7"
      },
      "source": [
        "на гистограмме тоже видим, что игры начали выпускать с 1980 года, но по 1993 выпуск совсем не большой."
      ]
    },
    {
      "cell_type": "code",
      "execution_count": null,
      "metadata": {
        "id": "mXxV5kdD-4W-",
        "outputId": "70909bb4-f376-4695-872d-b47ef29f620d"
      },
      "outputs": [
        {
          "data": {
            "text/html": [
              "<div>\n",
              "<style scoped>\n",
              "    .dataframe tbody tr th:only-of-type {\n",
              "        vertical-align: middle;\n",
              "    }\n",
              "\n",
              "    .dataframe tbody tr th {\n",
              "        vertical-align: top;\n",
              "    }\n",
              "\n",
              "    .dataframe thead th {\n",
              "        text-align: right;\n",
              "    }\n",
              "</style>\n",
              "<table border=\"1\" class=\"dataframe\">\n",
              "  <thead>\n",
              "    <tr style=\"text-align: right;\">\n",
              "      <th></th>\n",
              "      <th>count_games</th>\n",
              "    </tr>\n",
              "    <tr>\n",
              "      <th>year_of_release</th>\n",
              "      <th></th>\n",
              "    </tr>\n",
              "  </thead>\n",
              "  <tbody>\n",
              "    <tr>\n",
              "      <th>1980</th>\n",
              "      <td>9</td>\n",
              "    </tr>\n",
              "    <tr>\n",
              "      <th>1981</th>\n",
              "      <td>46</td>\n",
              "    </tr>\n",
              "    <tr>\n",
              "      <th>1982</th>\n",
              "      <td>36</td>\n",
              "    </tr>\n",
              "    <tr>\n",
              "      <th>1983</th>\n",
              "      <td>17</td>\n",
              "    </tr>\n",
              "    <tr>\n",
              "      <th>1984</th>\n",
              "      <td>14</td>\n",
              "    </tr>\n",
              "    <tr>\n",
              "      <th>1985</th>\n",
              "      <td>14</td>\n",
              "    </tr>\n",
              "    <tr>\n",
              "      <th>1986</th>\n",
              "      <td>21</td>\n",
              "    </tr>\n",
              "    <tr>\n",
              "      <th>1987</th>\n",
              "      <td>16</td>\n",
              "    </tr>\n",
              "    <tr>\n",
              "      <th>1988</th>\n",
              "      <td>15</td>\n",
              "    </tr>\n",
              "    <tr>\n",
              "      <th>1989</th>\n",
              "      <td>17</td>\n",
              "    </tr>\n",
              "    <tr>\n",
              "      <th>1990</th>\n",
              "      <td>16</td>\n",
              "    </tr>\n",
              "    <tr>\n",
              "      <th>1991</th>\n",
              "      <td>41</td>\n",
              "    </tr>\n",
              "    <tr>\n",
              "      <th>1992</th>\n",
              "      <td>43</td>\n",
              "    </tr>\n",
              "    <tr>\n",
              "      <th>1993</th>\n",
              "      <td>60</td>\n",
              "    </tr>\n",
              "    <tr>\n",
              "      <th>1994</th>\n",
              "      <td>121</td>\n",
              "    </tr>\n",
              "    <tr>\n",
              "      <th>1995</th>\n",
              "      <td>219</td>\n",
              "    </tr>\n",
              "    <tr>\n",
              "      <th>1996</th>\n",
              "      <td>263</td>\n",
              "    </tr>\n",
              "    <tr>\n",
              "      <th>1997</th>\n",
              "      <td>289</td>\n",
              "    </tr>\n",
              "    <tr>\n",
              "      <th>1998</th>\n",
              "      <td>379</td>\n",
              "    </tr>\n",
              "    <tr>\n",
              "      <th>1999</th>\n",
              "      <td>338</td>\n",
              "    </tr>\n",
              "    <tr>\n",
              "      <th>2000</th>\n",
              "      <td>350</td>\n",
              "    </tr>\n",
              "    <tr>\n",
              "      <th>2001</th>\n",
              "      <td>482</td>\n",
              "    </tr>\n",
              "    <tr>\n",
              "      <th>2002</th>\n",
              "      <td>829</td>\n",
              "    </tr>\n",
              "    <tr>\n",
              "      <th>2003</th>\n",
              "      <td>775</td>\n",
              "    </tr>\n",
              "    <tr>\n",
              "      <th>2004</th>\n",
              "      <td>762</td>\n",
              "    </tr>\n",
              "    <tr>\n",
              "      <th>2005</th>\n",
              "      <td>939</td>\n",
              "    </tr>\n",
              "    <tr>\n",
              "      <th>2006</th>\n",
              "      <td>1006</td>\n",
              "    </tr>\n",
              "    <tr>\n",
              "      <th>2007</th>\n",
              "      <td>1197</td>\n",
              "    </tr>\n",
              "    <tr>\n",
              "      <th>2008</th>\n",
              "      <td>1427</td>\n",
              "    </tr>\n",
              "    <tr>\n",
              "      <th>2009</th>\n",
              "      <td>1426</td>\n",
              "    </tr>\n",
              "    <tr>\n",
              "      <th>2010</th>\n",
              "      <td>1255</td>\n",
              "    </tr>\n",
              "    <tr>\n",
              "      <th>2011</th>\n",
              "      <td>1136</td>\n",
              "    </tr>\n",
              "    <tr>\n",
              "      <th>2012</th>\n",
              "      <td>653</td>\n",
              "    </tr>\n",
              "    <tr>\n",
              "      <th>2013</th>\n",
              "      <td>544</td>\n",
              "    </tr>\n",
              "    <tr>\n",
              "      <th>2014</th>\n",
              "      <td>581</td>\n",
              "    </tr>\n",
              "    <tr>\n",
              "      <th>2015</th>\n",
              "      <td>606</td>\n",
              "    </tr>\n",
              "    <tr>\n",
              "      <th>2016</th>\n",
              "      <td>502</td>\n",
              "    </tr>\n",
              "  </tbody>\n",
              "</table>\n",
              "</div>"
            ],
            "text/plain": [
              "                 count_games\n",
              "year_of_release             \n",
              "1980                       9\n",
              "1981                      46\n",
              "1982                      36\n",
              "1983                      17\n",
              "1984                      14\n",
              "1985                      14\n",
              "1986                      21\n",
              "1987                      16\n",
              "1988                      15\n",
              "1989                      17\n",
              "1990                      16\n",
              "1991                      41\n",
              "1992                      43\n",
              "1993                      60\n",
              "1994                     121\n",
              "1995                     219\n",
              "1996                     263\n",
              "1997                     289\n",
              "1998                     379\n",
              "1999                     338\n",
              "2000                     350\n",
              "2001                     482\n",
              "2002                     829\n",
              "2003                     775\n",
              "2004                     762\n",
              "2005                     939\n",
              "2006                    1006\n",
              "2007                    1197\n",
              "2008                    1427\n",
              "2009                    1426\n",
              "2010                    1255\n",
              "2011                    1136\n",
              "2012                     653\n",
              "2013                     544\n",
              "2014                     581\n",
              "2015                     606\n",
              "2016                     502"
            ]
          },
          "execution_count": 21,
          "metadata": {},
          "output_type": "execute_result"
        }
      ],
      "source": [
        "# посчитаем количество игр по годам\n",
        "year_count = df.pivot_table(index='year_of_release', aggfunc={'name':'count'})\n",
        "year_count.columns = ['count_games']\n",
        "year_count"
      ]
    },
    {
      "cell_type": "code",
      "execution_count": null,
      "metadata": {
        "id": "FrRGZH3i-4W-",
        "outputId": "5de21606-2ea7-431a-e9a4-6b0650a65568"
      },
      "outputs": [
        {
          "data": {
            "image/png": "[encoded data removed]",
            "text/plain": [
              "<Figure size 1080x360 with 1 Axes>"
            ]
          },
          "metadata": {
            "needs_background": "light"
          },
          "output_type": "display_data"
        }
      ],
      "source": [
        "# построим график с использованием lineplot\n",
        "plt.figure(figsize=(15, 5))\n",
        "sns.lineplot(data=year_count, x=\"year_of_release\", y=\"count_games\");\n",
        "plt.title('Выпуск игр по годам')\n",
        "plt.xlabel('Год')\n",
        "plt.ylabel('Количество игр')\n",
        "plt.show()"
      ]
    },
    {
      "cell_type": "code",
      "execution_count": null,
      "metadata": {
        "id": "Sb5MSe3D-4XA",
        "outputId": "69c059a8-9b49-47a0-f899-e5cb7216ebef"
      },
      "outputs": [
        {
          "data": {
            "image/png": "[encoded data removed]",
            "text/plain": [
              "<Figure size 720x360 with 1 Axes>"
            ]
          },
          "metadata": {
            "needs_background": "light"
          },
          "output_type": "display_data"
        }
      ],
      "source": [
        "plt.figure(figsize=(10, 5))\n",
        "df['year_of_release'].hist(bins = 40, range=(1979, 1994))\n",
        "plt.title('Выпуск игр по годам')\n",
        "plt.xlabel('Год')\n",
        "plt.ylabel('Количество игр')\n",
        "plt.show()"
      ]
    },
    {
      "cell_type": "markdown",
      "metadata": {
        "id": "Rcs90EOO-4XB"
      },
      "source": [
        "Только в 1994 году до 120 игр. Скорей всего данные за этот период не так важны и их можно отбросить. Построим еще отдельную гисторгамму за важный период с 2005 по 2016"
      ]
    },
    {
      "cell_type": "code",
      "execution_count": null,
      "metadata": {
        "id": "W2rDKgNI-4XC",
        "outputId": "1705eeaa-4f83-463d-8206-748c0448440d"
      },
      "outputs": [
        {
          "data": {
            "image/png": "[encoded data removed]",
            "text/plain": [
              "<Figure size 720x360 with 1 Axes>"
            ]
          },
          "metadata": {
            "needs_background": "light"
          },
          "output_type": "display_data"
        }
      ],
      "source": [
        "plt.figure(figsize=(10, 5))\n",
        "df['year_of_release'].hist(bins = 30, range=(2005, 2016))\n",
        "plt.title('Выпуск игр по годам')\n",
        "plt.xlabel('Год')\n",
        "plt.ylabel('Количество игр')\n",
        "#plt.grid(color='grey', axis='both', alpha=5)\n",
        "plt.show()"
      ]
    },
    {
      "cell_type": "markdown",
      "metadata": {
        "id": "QeSgvZFX-4XC"
      },
      "source": [
        "Видим что произошел скачок в разработке игр после 1993 года, так продолжалось до 2009 года, после чего пошел спад и резкое падение в разработке в 2012 году."
      ]
    },
    {
      "cell_type": "code",
      "execution_count": null,
      "metadata": {
        "id": "VzVeA0Sp-4XF",
        "outputId": "696cb1eb-2ad6-4764-8bae-e8e305765be0"
      },
      "outputs": [
        {
          "data": {
            "image/png": "[encoded data removed]",
            "text/plain": [
              "<Figure size 1080x360 with 1 Axes>"
            ]
          },
          "metadata": {
            "needs_background": "light"
          },
          "output_type": "display_data"
        }
      ],
      "source": [
        "year_count_2005 = year_count.query('year_of_release >= 2004')\n",
        "# построим график с использованием lineplot\n",
        "plt.figure(figsize=(15, 5))\n",
        "sns.lineplot(data=year_count_2005, x=\"year_of_release\", y=\"count_games\");\n",
        "plt.title('Выпуск игр по годам')\n",
        "plt.xlabel('Год')\n",
        "plt.ylabel('Количество игр')\n",
        "plt.show()"
      ]
    },
    {
      "cell_type": "markdown",
      "metadata": {
        "id": "1NlttG_Y-4XH"
      },
      "source": [
        "### Посмотрим, как менялись продажи по платформам. Выберем платформы с наибольшими суммарными продажами и построим распределение по годам. За какой характерный срок появляются новые и исчезают старые платформы?"
      ]
    },
    {
      "cell_type": "markdown",
      "metadata": {
        "id": "co8p6ZFY-4XI"
      },
      "source": [
        "Посмотрим сколько всего уникальных платформ в данных"
      ]
    },
    {
      "cell_type": "code",
      "execution_count": null,
      "metadata": {
        "id": "Ek3LS8dR-4XI",
        "outputId": "e8ce2d9d-4886-473e-95bb-aff77ae17e10"
      },
      "outputs": [
        {
          "data": {
            "text/plain": [
              "array(['Wii', 'NES', 'GB', 'DS', 'X360', 'PS3', 'PS2', 'SNES', 'GBA',\n",
              "       'PS4', '3DS', 'N64', 'PS', 'XB', 'PC', '2600', 'PSP', 'XOne',\n",
              "       'WiiU', 'GC', 'GEN', 'DC', 'PSV', 'SAT', 'SCD', 'WS', 'NG', 'TG16',\n",
              "       '3DO', 'GG', 'PCFX'], dtype=object)"
            ]
          },
          "execution_count": 26,
          "metadata": {},
          "output_type": "execute_result"
        }
      ],
      "source": [
        "df['platform'].unique()"
      ]
    },
    {
      "cell_type": "markdown",
      "metadata": {
        "id": "LaPNNX22-4XJ"
      },
      "source": [
        "Выберем платформы с наибольшими суммарными продажами"
      ]
    },
    {
      "cell_type": "code",
      "execution_count": null,
      "metadata": {
        "id": "P89YMBMA-4XK",
        "outputId": "032fb560-41a1-4893-f89f-fe32d47a1e8a"
      },
      "outputs": [
        {
          "data": {
            "text/html": [
              "<div>\n",
              "<style scoped>\n",
              "    .dataframe tbody tr th:only-of-type {\n",
              "        vertical-align: middle;\n",
              "    }\n",
              "\n",
              "    .dataframe tbody tr th {\n",
              "        vertical-align: top;\n",
              "    }\n",
              "\n",
              "    .dataframe thead th {\n",
              "        text-align: right;\n",
              "    }\n",
              "</style>\n",
              "<table border=\"1\" class=\"dataframe\">\n",
              "  <thead>\n",
              "    <tr style=\"text-align: right;\">\n",
              "      <th></th>\n",
              "      <th>total_sales</th>\n",
              "    </tr>\n",
              "    <tr>\n",
              "      <th>platform</th>\n",
              "      <th></th>\n",
              "    </tr>\n",
              "  </thead>\n",
              "  <tbody>\n",
              "    <tr>\n",
              "      <th>PS2</th>\n",
              "      <td>1233.56</td>\n",
              "    </tr>\n",
              "    <tr>\n",
              "      <th>X360</th>\n",
              "      <td>961.24</td>\n",
              "    </tr>\n",
              "    <tr>\n",
              "      <th>PS3</th>\n",
              "      <td>931.34</td>\n",
              "    </tr>\n",
              "    <tr>\n",
              "      <th>Wii</th>\n",
              "      <td>891.18</td>\n",
              "    </tr>\n",
              "    <tr>\n",
              "      <th>DS</th>\n",
              "      <td>802.78</td>\n",
              "    </tr>\n",
              "    <tr>\n",
              "      <th>PS</th>\n",
              "      <td>727.58</td>\n",
              "    </tr>\n",
              "    <tr>\n",
              "      <th>PS4</th>\n",
              "      <td>314.14</td>\n",
              "    </tr>\n",
              "    <tr>\n",
              "      <th>GBA</th>\n",
              "      <td>312.88</td>\n",
              "    </tr>\n",
              "    <tr>\n",
              "      <th>PSP</th>\n",
              "      <td>289.53</td>\n",
              "    </tr>\n",
              "    <tr>\n",
              "      <th>3DS</th>\n",
              "      <td>257.81</td>\n",
              "    </tr>\n",
              "    <tr>\n",
              "      <th>PC</th>\n",
              "      <td>255.76</td>\n",
              "    </tr>\n",
              "    <tr>\n",
              "      <th>GB</th>\n",
              "      <td>254.43</td>\n",
              "    </tr>\n",
              "    <tr>\n",
              "      <th>XB</th>\n",
              "      <td>251.57</td>\n",
              "    </tr>\n",
              "    <tr>\n",
              "      <th>NES</th>\n",
              "      <td>251.05</td>\n",
              "    </tr>\n",
              "    <tr>\n",
              "      <th>N64</th>\n",
              "      <td>218.01</td>\n",
              "    </tr>\n",
              "    <tr>\n",
              "      <th>SNES</th>\n",
              "      <td>200.04</td>\n",
              "    </tr>\n",
              "    <tr>\n",
              "      <th>GC</th>\n",
              "      <td>196.73</td>\n",
              "    </tr>\n",
              "    <tr>\n",
              "      <th>XOne</th>\n",
              "      <td>159.32</td>\n",
              "    </tr>\n",
              "    <tr>\n",
              "      <th>2600</th>\n",
              "      <td>86.48</td>\n",
              "    </tr>\n",
              "    <tr>\n",
              "      <th>WiiU</th>\n",
              "      <td>82.19</td>\n",
              "    </tr>\n",
              "    <tr>\n",
              "      <th>PSV</th>\n",
              "      <td>53.81</td>\n",
              "    </tr>\n",
              "    <tr>\n",
              "      <th>SAT</th>\n",
              "      <td>33.59</td>\n",
              "    </tr>\n",
              "    <tr>\n",
              "      <th>GEN</th>\n",
              "      <td>28.35</td>\n",
              "    </tr>\n",
              "    <tr>\n",
              "      <th>DC</th>\n",
              "      <td>15.95</td>\n",
              "    </tr>\n",
              "    <tr>\n",
              "      <th>SCD</th>\n",
              "      <td>1.86</td>\n",
              "    </tr>\n",
              "    <tr>\n",
              "      <th>NG</th>\n",
              "      <td>1.44</td>\n",
              "    </tr>\n",
              "    <tr>\n",
              "      <th>WS</th>\n",
              "      <td>1.42</td>\n",
              "    </tr>\n",
              "    <tr>\n",
              "      <th>TG16</th>\n",
              "      <td>0.16</td>\n",
              "    </tr>\n",
              "    <tr>\n",
              "      <th>3DO</th>\n",
              "      <td>0.10</td>\n",
              "    </tr>\n",
              "    <tr>\n",
              "      <th>GG</th>\n",
              "      <td>0.04</td>\n",
              "    </tr>\n",
              "    <tr>\n",
              "      <th>PCFX</th>\n",
              "      <td>0.03</td>\n",
              "    </tr>\n",
              "  </tbody>\n",
              "</table>\n",
              "</div>"
            ],
            "text/plain": [
              "          total_sales\n",
              "platform             \n",
              "PS2           1233.56\n",
              "X360           961.24\n",
              "PS3            931.34\n",
              "Wii            891.18\n",
              "DS             802.78\n",
              "PS             727.58\n",
              "PS4            314.14\n",
              "GBA            312.88\n",
              "PSP            289.53\n",
              "3DS            257.81\n",
              "PC             255.76\n",
              "GB             254.43\n",
              "XB             251.57\n",
              "NES            251.05\n",
              "N64            218.01\n",
              "SNES           200.04\n",
              "GC             196.73\n",
              "XOne           159.32\n",
              "2600            86.48\n",
              "WiiU            82.19\n",
              "PSV             53.81\n",
              "SAT             33.59\n",
              "GEN             28.35\n",
              "DC              15.95\n",
              "SCD              1.86\n",
              "NG               1.44\n",
              "WS               1.42\n",
              "TG16             0.16\n",
              "3DO              0.10\n",
              "GG               0.04\n",
              "PCFX             0.03"
            ]
          },
          "execution_count": 27,
          "metadata": {},
          "output_type": "execute_result"
        }
      ],
      "source": [
        "# создадим своднуютаблицу  по виду платформы и суммарным продажам и отсортируем по убыванию\n",
        "platform_top = df.pivot_table(index = 'platform', values = 'total_sales', aggfunc = 'sum').sort_values(by = 'total_sales', ascending = False)\n",
        "platform_top"
      ]
    },
    {
      "cell_type": "code",
      "execution_count": null,
      "metadata": {
        "id": "9x6ljXBY-4XK",
        "outputId": "bcb76298-7230-4a52-edd6-efacceac98bd"
      },
      "outputs": [
        {
          "data": {
            "image/png": "[encoded data removed]",
            "text/plain": [
              "<Figure size 1080x360 with 1 Axes>"
            ]
          },
          "metadata": {
            "needs_background": "light"
          },
          "output_type": "display_data"
        }
      ],
      "source": [
        "# построим график с использованием lineplot\n",
        "plt.figure(figsize=(15, 5))\n",
        "sns.lineplot(data=platform_top, x=\"platform\", y=\"total_sales\");\n",
        "plt.title('Продажи по всем платформам')\n",
        "plt.xlabel('Платформа')\n",
        "plt.ylabel('Продажи')\n",
        "plt.show()"
      ]
    },
    {
      "cell_type": "markdown",
      "metadata": {
        "id": "NjBFLRpk-4XL"
      },
      "source": [
        "Выберем платформы с наибольшими суммарными продажами и построим для каждой платформы распределение по годам."
      ]
    },
    {
      "cell_type": "code",
      "execution_count": null,
      "metadata": {
        "id": "Rs7_yhzr-4XN",
        "outputId": "6effc4f0-2867-4d83-d3ef-c8308c8a5ae7"
      },
      "outputs": [
        {
          "data": {
            "text/html": [
              "<div>\n",
              "<style scoped>\n",
              "    .dataframe tbody tr th:only-of-type {\n",
              "        vertical-align: middle;\n",
              "    }\n",
              "\n",
              "    .dataframe tbody tr th {\n",
              "        vertical-align: top;\n",
              "    }\n",
              "\n",
              "    .dataframe thead th {\n",
              "        text-align: right;\n",
              "    }\n",
              "</style>\n",
              "<table border=\"1\" class=\"dataframe\">\n",
              "  <thead>\n",
              "    <tr style=\"text-align: right;\">\n",
              "      <th></th>\n",
              "      <th>platform</th>\n",
              "      <th>total_sales</th>\n",
              "    </tr>\n",
              "  </thead>\n",
              "  <tbody>\n",
              "    <tr>\n",
              "      <th>0</th>\n",
              "      <td>PS2</td>\n",
              "      <td>1233.56</td>\n",
              "    </tr>\n",
              "    <tr>\n",
              "      <th>1</th>\n",
              "      <td>X360</td>\n",
              "      <td>961.24</td>\n",
              "    </tr>\n",
              "    <tr>\n",
              "      <th>2</th>\n",
              "      <td>PS3</td>\n",
              "      <td>931.34</td>\n",
              "    </tr>\n",
              "    <tr>\n",
              "      <th>3</th>\n",
              "      <td>Wii</td>\n",
              "      <td>891.18</td>\n",
              "    </tr>\n",
              "    <tr>\n",
              "      <th>4</th>\n",
              "      <td>DS</td>\n",
              "      <td>802.78</td>\n",
              "    </tr>\n",
              "    <tr>\n",
              "      <th>5</th>\n",
              "      <td>PS</td>\n",
              "      <td>727.58</td>\n",
              "    </tr>\n",
              "    <tr>\n",
              "      <th>6</th>\n",
              "      <td>PS4</td>\n",
              "      <td>314.14</td>\n",
              "    </tr>\n",
              "    <tr>\n",
              "      <th>7</th>\n",
              "      <td>GBA</td>\n",
              "      <td>312.88</td>\n",
              "    </tr>\n",
              "    <tr>\n",
              "      <th>8</th>\n",
              "      <td>PSP</td>\n",
              "      <td>289.53</td>\n",
              "    </tr>\n",
              "    <tr>\n",
              "      <th>9</th>\n",
              "      <td>3DS</td>\n",
              "      <td>257.81</td>\n",
              "    </tr>\n",
              "  </tbody>\n",
              "</table>\n",
              "</div>"
            ],
            "text/plain": [
              "  platform  total_sales\n",
              "0      PS2      1233.56\n",
              "1     X360       961.24\n",
              "2      PS3       931.34\n",
              "3      Wii       891.18\n",
              "4       DS       802.78\n",
              "5       PS       727.58\n",
              "6      PS4       314.14\n",
              "7      GBA       312.88\n",
              "8      PSP       289.53\n",
              "9      3DS       257.81"
            ]
          },
          "execution_count": 29,
          "metadata": {},
          "output_type": "execute_result"
        }
      ],
      "source": [
        "platform_top_10 = platform_top.reset_index()\n",
        "platform_top_10loc = platform_top_10.iloc[0:10]\n",
        "platform_top_10 = platform_top_10loc['platform'].unique()\n",
        "platform_top_10\n",
        "platform_top_10loc"
      ]
    },
    {
      "cell_type": "code",
      "execution_count": null,
      "metadata": {
        "scrolled": false,
        "id": "EnhpBYfF-4XO",
        "outputId": "d9a5b7e6-aafd-4b0e-a827-2432e20dcee7"
      },
      "outputs": [
        {
          "data": {
            "image/png": "[encoded data removed]",
            "text/plain": [
              "<Figure size 720x360 with 1 Axes>"
            ]
          },
          "metadata": {
            "needs_background": "light"
          },
          "output_type": "display_data"
        },
        {
          "data": {
            "image/png": "[encoded data removed]",
            "text/plain": [
              "<Figure size 720x360 with 1 Axes>"
            ]
          },
          "metadata": {
            "needs_background": "light"
          },
          "output_type": "display_data"
        },
        {
          "data": {
            "image/png": "[encoded data removed]",
            "text/plain": [
              "<Figure size 720x360 with 1 Axes>"
            ]
          },
          "metadata": {
            "needs_background": "light"
          },
          "output_type": "display_data"
        },
        {
          "data": {
            "image/png": "[encoded data removed]",
            "text/plain": [
              "<Figure size 720x360 with 1 Axes>"
            ]
          },
          "metadata": {
            "needs_background": "light"
          },
          "output_type": "display_data"
        },
        {
          "data": {
            "image/png": "[encoded data removed]",
            "text/plain": [
              "<Figure size 720x360 with 1 Axes>"
            ]
          },
          "metadata": {
            "needs_background": "light"
          },
          "output_type": "display_data"
        },
        {
          "data": {
            "image/png": "[encoded data removed]",
            "text/plain": [
              "<Figure size 720x360 with 1 Axes>"
            ]
          },
          "metadata": {
            "needs_background": "light"
          },
          "output_type": "display_data"
        },
        {
          "data": {
            "image/png": "[encoded data removed]",
            "text/plain": [
              "<Figure size 720x360 with 1 Axes>"
            ]
          },
          "metadata": {
            "needs_background": "light"
          },
          "output_type": "display_data"
        },
        {
          "data": {
            "image/png": "[encoded data removed]",
            "text/plain": [
              "<Figure size 720x360 with 1 Axes>"
            ]
          },
          "metadata": {
            "needs_background": "light"
          },
          "output_type": "display_data"
        },
        {
          "data": {
            "image/png": "[encoded data removed]",
            "text/plain": [
              "<Figure size 720x360 with 1 Axes>"
            ]
          },
          "metadata": {
            "needs_background": "light"
          },
          "output_type": "display_data"
        },
        {
          "data": {
            "image/png": "[encoded data removed]",
            "text/plain": [
              "<Figure size 720x360 with 1 Axes>"
            ]
          },
          "metadata": {
            "needs_background": "light"
          },
          "output_type": "display_data"
        }
      ],
      "source": [
        "for platform in platform_top_10:\n",
        "    df[df['platform'] == platform].pivot_table(index = 'year_of_release', values = 'total_sales', aggfunc = 'sum').plot(kind = 'bar', figsize=(10,5))\n",
        "    plt.title(platform)\n",
        "    plt.xlabel('Год')\n",
        "    plt.ylabel('Сумма продаж')"
      ]
    },
    {
      "cell_type": "markdown",
      "metadata": {
        "id": "L3jzQmn1-4XP"
      },
      "source": [
        "Проанализировав графики можно сделать вывод, что новые приставки появляются практически ежегодно, но больше всего их появилось в 2006 году.  Пик продаж приходит у многих на середину популярности, а потом снижается. У приставок DS, PS, GBA, PS2, Wii, PSP уже нет продаж в 2015 году, значит их можно исключить из анализа, срок их жизни около 7 лет прошел.  А вот продажи у PS4, X360, PS3, 3DS хоть и снижаюся, но есть и в 2015 и в 2016, их и нужно выбрать для анализа."
      ]
    },
    {
      "cell_type": "markdown",
      "metadata": {
        "id": "YqZ1QDN5-4XU"
      },
      "source": [
        "Чтобы найти продолжительность жизни платформы нужно найти те платформы, продажи которых уже равны нулю. А затем найти среднюю продолжительность жизни. Чтобы их найти нужно построить графики для всех платформ и выбрать те, у которых продажы 0"
      ]
    },
    {
      "cell_type": "code",
      "execution_count": null,
      "metadata": {
        "id": "94qK6xCI-4XV",
        "outputId": "0a8e2f94-7839-4ede-cbae-e3a25a2c7dc7"
      },
      "outputs": [
        {
          "data": {
            "text/html": [
              "<div>\n",
              "<style scoped>\n",
              "    .dataframe tbody tr th:only-of-type {\n",
              "        vertical-align: middle;\n",
              "    }\n",
              "\n",
              "    .dataframe tbody tr th {\n",
              "        vertical-align: top;\n",
              "    }\n",
              "\n",
              "    .dataframe thead th {\n",
              "        text-align: right;\n",
              "    }\n",
              "</style>\n",
              "<table border=\"1\" class=\"dataframe\">\n",
              "  <thead>\n",
              "    <tr style=\"text-align: right;\">\n",
              "      <th></th>\n",
              "      <th>platform</th>\n",
              "      <th>beginnig</th>\n",
              "      <th>end</th>\n",
              "      <th>count_life</th>\n",
              "    </tr>\n",
              "  </thead>\n",
              "  <tbody>\n",
              "    <tr>\n",
              "      <th>0</th>\n",
              "      <td>2600</td>\n",
              "      <td>1980</td>\n",
              "      <td>1989</td>\n",
              "      <td>9</td>\n",
              "    </tr>\n",
              "    <tr>\n",
              "      <th>1</th>\n",
              "      <td>3DO</td>\n",
              "      <td>1994</td>\n",
              "      <td>1995</td>\n",
              "      <td>1</td>\n",
              "    </tr>\n",
              "    <tr>\n",
              "      <th>3</th>\n",
              "      <td>DC</td>\n",
              "      <td>1998</td>\n",
              "      <td>2008</td>\n",
              "      <td>10</td>\n",
              "    </tr>\n",
              "    <tr>\n",
              "      <th>5</th>\n",
              "      <td>GB</td>\n",
              "      <td>1988</td>\n",
              "      <td>2001</td>\n",
              "      <td>13</td>\n",
              "    </tr>\n",
              "    <tr>\n",
              "      <th>6</th>\n",
              "      <td>GBA</td>\n",
              "      <td>2000</td>\n",
              "      <td>2007</td>\n",
              "      <td>7</td>\n",
              "    </tr>\n",
              "    <tr>\n",
              "      <th>7</th>\n",
              "      <td>GC</td>\n",
              "      <td>2001</td>\n",
              "      <td>2007</td>\n",
              "      <td>6</td>\n",
              "    </tr>\n",
              "    <tr>\n",
              "      <th>8</th>\n",
              "      <td>GEN</td>\n",
              "      <td>1990</td>\n",
              "      <td>1994</td>\n",
              "      <td>4</td>\n",
              "    </tr>\n",
              "    <tr>\n",
              "      <th>9</th>\n",
              "      <td>GG</td>\n",
              "      <td>1992</td>\n",
              "      <td>1992</td>\n",
              "      <td>0</td>\n",
              "    </tr>\n",
              "    <tr>\n",
              "      <th>10</th>\n",
              "      <td>N64</td>\n",
              "      <td>1996</td>\n",
              "      <td>2002</td>\n",
              "      <td>6</td>\n",
              "    </tr>\n",
              "    <tr>\n",
              "      <th>11</th>\n",
              "      <td>NES</td>\n",
              "      <td>1983</td>\n",
              "      <td>1994</td>\n",
              "      <td>11</td>\n",
              "    </tr>\n",
              "    <tr>\n",
              "      <th>12</th>\n",
              "      <td>NG</td>\n",
              "      <td>1993</td>\n",
              "      <td>1996</td>\n",
              "      <td>3</td>\n",
              "    </tr>\n",
              "    <tr>\n",
              "      <th>14</th>\n",
              "      <td>PCFX</td>\n",
              "      <td>1996</td>\n",
              "      <td>1996</td>\n",
              "      <td>0</td>\n",
              "    </tr>\n",
              "    <tr>\n",
              "      <th>15</th>\n",
              "      <td>PS</td>\n",
              "      <td>1994</td>\n",
              "      <td>2003</td>\n",
              "      <td>9</td>\n",
              "    </tr>\n",
              "    <tr>\n",
              "      <th>16</th>\n",
              "      <td>PS2</td>\n",
              "      <td>2000</td>\n",
              "      <td>2011</td>\n",
              "      <td>11</td>\n",
              "    </tr>\n",
              "    <tr>\n",
              "      <th>21</th>\n",
              "      <td>SAT</td>\n",
              "      <td>1994</td>\n",
              "      <td>1999</td>\n",
              "      <td>5</td>\n",
              "    </tr>\n",
              "    <tr>\n",
              "      <th>22</th>\n",
              "      <td>SCD</td>\n",
              "      <td>1993</td>\n",
              "      <td>1994</td>\n",
              "      <td>1</td>\n",
              "    </tr>\n",
              "    <tr>\n",
              "      <th>23</th>\n",
              "      <td>SNES</td>\n",
              "      <td>1990</td>\n",
              "      <td>1999</td>\n",
              "      <td>9</td>\n",
              "    </tr>\n",
              "    <tr>\n",
              "      <th>24</th>\n",
              "      <td>TG16</td>\n",
              "      <td>1995</td>\n",
              "      <td>1995</td>\n",
              "      <td>0</td>\n",
              "    </tr>\n",
              "    <tr>\n",
              "      <th>25</th>\n",
              "      <td>WS</td>\n",
              "      <td>1999</td>\n",
              "      <td>2001</td>\n",
              "      <td>2</td>\n",
              "    </tr>\n",
              "    <tr>\n",
              "      <th>29</th>\n",
              "      <td>XB</td>\n",
              "      <td>2000</td>\n",
              "      <td>2008</td>\n",
              "      <td>8</td>\n",
              "    </tr>\n",
              "  </tbody>\n",
              "</table>\n",
              "</div>"
            ],
            "text/plain": [
              "   platform  beginnig   end  count_life\n",
              "0      2600      1980  1989           9\n",
              "1       3DO      1994  1995           1\n",
              "3        DC      1998  2008          10\n",
              "5        GB      1988  2001          13\n",
              "6       GBA      2000  2007           7\n",
              "7        GC      2001  2007           6\n",
              "8       GEN      1990  1994           4\n",
              "9        GG      1992  1992           0\n",
              "10      N64      1996  2002           6\n",
              "11      NES      1983  1994          11\n",
              "12       NG      1993  1996           3\n",
              "14     PCFX      1996  1996           0\n",
              "15       PS      1994  2003           9\n",
              "16      PS2      2000  2011          11\n",
              "21      SAT      1994  1999           5\n",
              "22      SCD      1993  1994           1\n",
              "23     SNES      1990  1999           9\n",
              "24     TG16      1995  1995           0\n",
              "25       WS      1999  2001           2\n",
              "29       XB      2000  2008           8"
            ]
          },
          "execution_count": 34,
          "metadata": {},
          "output_type": "execute_result"
        }
      ],
      "source": [
        "# создадим список платформ, продажи которых 0 к 2016 году\n",
        "platform_end = ['NES', 'GB', 'PS2', 'SNES', 'GBA', 'N64', 'PS', 'XB', '2600', 'GC', 'GEN', 'DC', 'SAT', 'SCD', 'WS', 'NG', 'TG16', '3DO', 'GG', 'PCFX']\n",
        "\n",
        "# вычислим разность между годом окончания существования платформы и началом\n",
        "platform_life = df.pivot_table(index='platform', values='year_of_release', aggfunc=[min, max])\n",
        "platform_life.columns = ['beginnig', 'end']\n",
        "platform_life['count_life'] = platform_life['end'] - platform_life['beginnig']\n",
        "\n",
        "# отфильтруем полученную таблицу по списку platform_end\n",
        "platform_life_filtred = (platform_life\n",
        "                     .reset_index()\n",
        "                     .query('platform in @platform_end')\n",
        "                    )\n",
        "platform_life_filtred"
      ]
    },
    {
      "cell_type": "markdown",
      "metadata": {
        "id": "H3q4jO92-4XV"
      },
      "source": [
        "Средний срок жизни посчитаем медианой"
      ]
    },
    {
      "cell_type": "code",
      "execution_count": null,
      "metadata": {
        "id": "ayOrqDdh-4XW",
        "outputId": "9c7e601b-e6ed-427a-9c9c-970b60e3a4b8"
      },
      "outputs": [
        {
          "data": {
            "text/plain": [
              "6.0"
            ]
          },
          "execution_count": 35,
          "metadata": {},
          "output_type": "execute_result"
        }
      ],
      "source": [
        "life_median = platform_life_filtred['count_life'].median()\n",
        "life_median"
      ]
    },
    {
      "cell_type": "markdown",
      "metadata": {
        "id": "LdE5L8lv-4XW"
      },
      "source": [
        "Средняя продолжительность жизни составляет 6 лет\n",
        "\n",
        "Для нашего анализа данные за весь предоставленный период не нужны, а нужны только те, которые отражают тенденции последних лет. Возьмем данные после 2013 года и только для тех, платформ, продажи по которым не скатились в 0. Это платформы X360, PS3, PS4, 3DS"
      ]
    },
    {
      "cell_type": "markdown",
      "metadata": {
        "id": "LSM4-HW4-4XZ"
      },
      "source": [
        "### Возьмем данные за соответствующий актуальный период. Актуальный период определили с 2013 по 2016 годы для платформ  X360, PS3, PS4, 3DS. Эти данные помогут построить прогноз на 2017 год."
      ]
    },
    {
      "cell_type": "markdown",
      "metadata": {
        "id": "J3S7Sw4M-4XZ"
      },
      "source": [
        "Для анализа по результатам предидущих пунктов выбрали период с 2013 по 2016 год, этот период и возьмем для прогнозов на 2017. и только по платформам, которые не устарели X360, PS3, PS4, 3DS"
      ]
    },
    {
      "cell_type": "code",
      "execution_count": null,
      "metadata": {
        "id": "qLTLtrRj-4Xc"
      },
      "outputs": [],
      "source": [
        "actual_period = df.query('year_of_release >= 2013')"
      ]
    },
    {
      "cell_type": "markdown",
      "metadata": {
        "id": "Newuej7G-4Xg"
      },
      "source": [
        "Попробуем построить графики для 10 самых удачных по продажам платформ за актуальный период с 20012 по 2017г."
      ]
    },
    {
      "cell_type": "code",
      "execution_count": null,
      "metadata": {
        "id": "SoeWYHAX-4Xg",
        "outputId": "645b6b7b-375f-43e4-ddb8-d4e2438b9a43"
      },
      "outputs": [
        {
          "data": {
            "image/png": "[encoded data removed]",
            "text/plain": [
              "<Figure size 1440x720 with 1 Axes>"
            ]
          },
          "metadata": {
            "needs_background": "light"
          },
          "output_type": "display_data"
        }
      ],
      "source": [
        "actual_period.query('platform in @platform_top_10').pivot_table(index='year_of_release', columns = 'platform', values='total_sales', aggfunc='sum').plot(figsize=(20, 10))\n",
        "plt.title('Продажи топ 10 по годам')\n",
        "plt.xlabel('Год')\n",
        "plt.ylabel('Сумма продаж')\n",
        "plt.show();"
      ]
    },
    {
      "cell_type": "markdown",
      "metadata": {
        "id": "fROxMNgb-4Xi"
      },
      "source": [
        "Делаем вывод что сейчас продается и будут продаваться хоть и с падением платформы PS4, Wii, X360, PS3, 3DS   PS4 самая новая, поэтому у нее есть перспективы на продажу. У остальных графики к 2016 году идут вниз."
      ]
    },
    {
      "cell_type": "markdown",
      "metadata": {
        "id": "WI38aO_9-4Xl"
      },
      "source": [
        "### Построим график «ящик с усами» по глобальным продажам игр в разбивке по платформам."
      ]
    },
    {
      "cell_type": "code",
      "execution_count": null,
      "metadata": {
        "id": "E1zjyT5U-4Xn",
        "outputId": "2d8313f2-1892-496a-de3e-95996190563f"
      },
      "outputs": [
        {
          "data": {
            "image/png": "[encoded data removed]",
            "text/plain": [
              "<Figure size 1440x720 with 1 Axes>"
            ]
          },
          "metadata": {
            "needs_background": "light"
          },
          "output_type": "display_data"
        }
      ],
      "source": [
        "# Построим график «ящик с усами»  в разбивке по платформам за актуальный период\n",
        "\n",
        "actual_period.pivot_table(index = 'name', columns = 'platform', values = 'total_sales', aggfunc = 'sum').plot(kind='box', ylim=(0,2), figsize=(20, 10))\n",
        "plt.title('«ящик с усами» топ 10 по продажам')\n",
        "plt.xlabel('Год')\n",
        "plt.ylabel('Сумма продаж')\n",
        "plt.show();"
      ]
    },
    {
      "cell_type": "markdown",
      "metadata": {
        "id": "uDs7X9uW-4Xo"
      },
      "source": [
        "Здесь видим, что лидерами по продажам являюся PS4, X360, will, PS3, XOne. У PS3 и X360 на предыдущем графике продажи идут вниз, а XOne на прошлом графике вообще нет. Но здесь видно , что продажи идут хорошо, как у PS4 , довабим ее в рейтинг перспективных. В итоге платформы, у которых есть шансы на 2017 год: XOne, PS4, 3DS, PS3, X360, Wii."
      ]
    },
    {
      "cell_type": "markdown",
      "metadata": {
        "id": "0eAExZa7-4Xp"
      },
      "source": [
        "### Посмотрим, как влияют на продажи внутри одной популярной платформы отзывы пользователей и критиков."
      ]
    },
    {
      "cell_type": "markdown",
      "metadata": {
        "id": "-gmtEEJR-4Xp"
      },
      "source": [
        "При выборе платформы, нужно учесть тот факт что у нас в данных большое количество пропусков по отзывам критиков и пользователей для новых платформ, или тех которые используются в 2016 году. Поэтому нужно выбрать популярную платформу до 2016 года. Напримр возьмем DS. Она была популярна 2005 - 2010 годы, пик был в 2007-2008.\n",
        "\n",
        "Посчитаем корреляцию отзывов от продаж"
      ]
    },
    {
      "cell_type": "code",
      "execution_count": null,
      "metadata": {
        "id": "m6FJo1w--4Xq",
        "outputId": "8bb355d2-13d3-4a5f-a45a-325d54ed44e7"
      },
      "outputs": [
        {
          "data": {
            "text/html": [
              "<div>\n",
              "<style scoped>\n",
              "    .dataframe tbody tr th:only-of-type {\n",
              "        vertical-align: middle;\n",
              "    }\n",
              "\n",
              "    .dataframe tbody tr th {\n",
              "        vertical-align: top;\n",
              "    }\n",
              "\n",
              "    .dataframe thead th {\n",
              "        text-align: right;\n",
              "    }\n",
              "</style>\n",
              "<table border=\"1\" class=\"dataframe\">\n",
              "  <thead>\n",
              "    <tr style=\"text-align: right;\">\n",
              "      <th></th>\n",
              "      <th>critic_score</th>\n",
              "      <th>user_score</th>\n",
              "      <th>total_sales</th>\n",
              "    </tr>\n",
              "  </thead>\n",
              "  <tbody>\n",
              "    <tr>\n",
              "      <th>critic_score</th>\n",
              "      <td>1.000000</td>\n",
              "      <td>0.653908</td>\n",
              "      <td>0.237546</td>\n",
              "    </tr>\n",
              "    <tr>\n",
              "      <th>user_score</th>\n",
              "      <td>0.653908</td>\n",
              "      <td>1.000000</td>\n",
              "      <td>0.130876</td>\n",
              "    </tr>\n",
              "    <tr>\n",
              "      <th>total_sales</th>\n",
              "      <td>0.237546</td>\n",
              "      <td>0.130876</td>\n",
              "      <td>1.000000</td>\n",
              "    </tr>\n",
              "  </tbody>\n",
              "</table>\n",
              "</div>"
            ],
            "text/plain": [
              "              critic_score  user_score  total_sales\n",
              "critic_score      1.000000    0.653908     0.237546\n",
              "user_score        0.653908    1.000000     0.130876\n",
              "total_sales       0.237546    0.130876     1.000000"
            ]
          },
          "execution_count": 39,
          "metadata": {},
          "output_type": "execute_result"
        }
      ],
      "source": [
        "DS = df.query('platform == \"DS\"')\n",
        "DS_cor = DS[['critic_score','user_score', 'total_sales']]\n",
        "DS_cor.corr()"
      ]
    },
    {
      "cell_type": "markdown",
      "metadata": {
        "id": "Hfh72-CL-4Xq"
      },
      "source": [
        "Построим диаграмму рассеяния и посмотрим совпадают ли отзывы пользователей и критиков. Здесь лучше подойдет scatter-plot"
      ]
    },
    {
      "cell_type": "code",
      "execution_count": null,
      "metadata": {
        "id": "_CXmsVgq-4Xq",
        "outputId": "468a6533-9681-44fd-d18f-6273cef8ff40"
      },
      "outputs": [
        {
          "data": {
            "image/png": "[encoded data removed]",
            "text/plain": [
              "<Figure size 432x288 with 1 Axes>"
            ]
          },
          "metadata": {
            "needs_background": "light"
          },
          "output_type": "display_data"
        }
      ],
      "source": [
        "DS.plot(x='user_score', y='critic_score', kind='scatter')\n",
        "plt.title('Кореляция отзывов пользователей и критиков ')\n",
        "plt.xlabel('Рейтинг пользователей')\n",
        "plt.ylabel('Рейтинг критиков')\n",
        "plt.show();"
      ]
    },
    {
      "cell_type": "markdown",
      "metadata": {
        "id": "cJQd1993-4Xr"
      },
      "source": [
        "Делаем вывод, что оценки критиков и пользователей совпадают. По таблице можно сказать, что игровая аудитория прислушивается не только к критикам, но и к игрокам."
      ]
    },
    {
      "cell_type": "code",
      "execution_count": null,
      "metadata": {
        "id": "Jh18Fvig-4Xs",
        "outputId": "c5ac7668-bbbc-4639-f1d9-05b1dddc2eee"
      },
      "outputs": [
        {
          "data": {
            "image/png": "[encoded data removed]",
            "text/plain": [
              "<Figure size 432x288 with 1 Axes>"
            ]
          },
          "metadata": {
            "needs_background": "light"
          },
          "output_type": "display_data"
        },
        {
          "data": {
            "image/png": "[encoded data removed]",
            "text/plain": [
              "<Figure size 432x288 with 1 Axes>"
            ]
          },
          "metadata": {
            "needs_background": "light"
          },
          "output_type": "display_data"
        }
      ],
      "source": [
        "DS.plot(y='total_sales', x='critic_score', kind='scatter')\n",
        "plt.title('Кореляция отзывов критиков и продаж платформы DS')\n",
        "plt.xlabel('Рейтинг критиков')\n",
        "plt.ylabel('Продажи')\n",
        "plt.show();\n",
        "\n",
        "DS.plot(y='total_sales', x='user_score', kind='scatter')\n",
        "plt.title('Кореляция отзывов пользователей и продаж платформы DS ')\n",
        "plt.xlabel('Рейтинг пользователей')\n",
        "plt.ylabel('Продажи')\n",
        "plt.show();"
      ]
    },
    {
      "cell_type": "markdown",
      "metadata": {
        "id": "AWzwHiWa-4Xt"
      },
      "source": [
        "Исходя из графиков расеяния можно сказать, что объем продаж  для платформы DS не сильно коррелирует с отзывами критиков и пользователей. Небольшая корреляция наблюдается только при оценке критиков от 70, и пользователей от 7"
      ]
    },
    {
      "cell_type": "markdown",
      "metadata": {
        "id": "GpTMk-Mp-4Xt"
      },
      "source": [
        "### Соотнесем выводы с продажами игр на других платформах"
      ]
    },
    {
      "cell_type": "markdown",
      "metadata": {
        "id": "a22pQdOc-4Xt"
      },
      "source": [
        "Возмем для примера еще две платфоры PS4, PC"
      ]
    },
    {
      "cell_type": "code",
      "execution_count": null,
      "metadata": {
        "id": "jqr0Suo_-4Xu",
        "outputId": "00ed9340-86a9-4e0e-babb-5c0f8d80e1e3"
      },
      "outputs": [
        {
          "data": {
            "text/html": [
              "<div>\n",
              "<style scoped>\n",
              "    .dataframe tbody tr th:only-of-type {\n",
              "        vertical-align: middle;\n",
              "    }\n",
              "\n",
              "    .dataframe tbody tr th {\n",
              "        vertical-align: top;\n",
              "    }\n",
              "\n",
              "    .dataframe thead th {\n",
              "        text-align: right;\n",
              "    }\n",
              "</style>\n",
              "<table border=\"1\" class=\"dataframe\">\n",
              "  <thead>\n",
              "    <tr style=\"text-align: right;\">\n",
              "      <th></th>\n",
              "      <th>critic_score</th>\n",
              "      <th>user_score</th>\n",
              "      <th>total_sales</th>\n",
              "    </tr>\n",
              "  </thead>\n",
              "  <tbody>\n",
              "    <tr>\n",
              "      <th>critic_score</th>\n",
              "      <td>1.000000</td>\n",
              "      <td>0.557654</td>\n",
              "      <td>0.406568</td>\n",
              "    </tr>\n",
              "    <tr>\n",
              "      <th>user_score</th>\n",
              "      <td>0.557654</td>\n",
              "      <td>1.000000</td>\n",
              "      <td>-0.031957</td>\n",
              "    </tr>\n",
              "    <tr>\n",
              "      <th>total_sales</th>\n",
              "      <td>0.406568</td>\n",
              "      <td>-0.031957</td>\n",
              "      <td>1.000000</td>\n",
              "    </tr>\n",
              "  </tbody>\n",
              "</table>\n",
              "</div>"
            ],
            "text/plain": [
              "              critic_score  user_score  total_sales\n",
              "critic_score      1.000000    0.557654     0.406568\n",
              "user_score        0.557654    1.000000    -0.031957\n",
              "total_sales       0.406568   -0.031957     1.000000"
            ]
          },
          "execution_count": 42,
          "metadata": {},
          "output_type": "execute_result"
        }
      ],
      "source": [
        "PS4 = df.query('platform == \"PS4\"')\n",
        "PS4_cor = PS4[['critic_score','user_score', 'total_sales']]\n",
        "PS4_cor.corr()"
      ]
    },
    {
      "cell_type": "code",
      "execution_count": null,
      "metadata": {
        "id": "Qf8quzRW-4Xu",
        "outputId": "1e8571c0-98d5-46d2-f7a1-53f334b23d7c"
      },
      "outputs": [
        {
          "data": {
            "text/html": [
              "<div>\n",
              "<style scoped>\n",
              "    .dataframe tbody tr th:only-of-type {\n",
              "        vertical-align: middle;\n",
              "    }\n",
              "\n",
              "    .dataframe tbody tr th {\n",
              "        vertical-align: top;\n",
              "    }\n",
              "\n",
              "    .dataframe thead th {\n",
              "        text-align: right;\n",
              "    }\n",
              "</style>\n",
              "<table border=\"1\" class=\"dataframe\">\n",
              "  <thead>\n",
              "    <tr style=\"text-align: right;\">\n",
              "      <th></th>\n",
              "      <th>critic_score</th>\n",
              "      <th>user_score</th>\n",
              "      <th>total_sales</th>\n",
              "    </tr>\n",
              "  </thead>\n",
              "  <tbody>\n",
              "    <tr>\n",
              "      <th>critic_score</th>\n",
              "      <td>1.000000</td>\n",
              "      <td>0.555199</td>\n",
              "      <td>0.257395</td>\n",
              "    </tr>\n",
              "    <tr>\n",
              "      <th>user_score</th>\n",
              "      <td>0.555199</td>\n",
              "      <td>1.000000</td>\n",
              "      <td>0.012905</td>\n",
              "    </tr>\n",
              "    <tr>\n",
              "      <th>total_sales</th>\n",
              "      <td>0.257395</td>\n",
              "      <td>0.012905</td>\n",
              "      <td>1.000000</td>\n",
              "    </tr>\n",
              "  </tbody>\n",
              "</table>\n",
              "</div>"
            ],
            "text/plain": [
              "              critic_score  user_score  total_sales\n",
              "critic_score      1.000000    0.555199     0.257395\n",
              "user_score        0.555199    1.000000     0.012905\n",
              "total_sales       0.257395    0.012905     1.000000"
            ]
          },
          "execution_count": 43,
          "metadata": {},
          "output_type": "execute_result"
        }
      ],
      "source": [
        "PC = df.query('platform == \"PC\"')\n",
        "PC_cor = PC[['critic_score','user_score', 'total_sales']]\n",
        "PC_cor.corr()"
      ]
    },
    {
      "cell_type": "markdown",
      "metadata": {
        "id": "uxvu9zGL-4Xu"
      },
      "source": [
        "Для PS4, PC можно сказать что продажи немного корелируют с оценкой критиков"
      ]
    },
    {
      "cell_type": "code",
      "execution_count": null,
      "metadata": {
        "id": "nHW4P599-4Xw",
        "outputId": "d120c267-326b-4c63-9fa1-5cfc9954a5b4"
      },
      "outputs": [
        {
          "data": {
            "image/png": "[encoded data removed]",
            "text/plain": [
              "<Figure size 432x288 with 1 Axes>"
            ]
          },
          "metadata": {
            "needs_background": "light"
          },
          "output_type": "display_data"
        },
        {
          "data": {
            "image/png": "[encoded data removed]",
            "text/plain": [
              "<Figure size 432x288 with 1 Axes>"
            ]
          },
          "metadata": {
            "needs_background": "light"
          },
          "output_type": "display_data"
        }
      ],
      "source": [
        "PS4.plot(y='total_sales', x='critic_score', kind='scatter')\n",
        "plt.title('Кореляция отзывов критиков и продаж платформы PS4')\n",
        "plt.xlabel('Рейтинг критиков')\n",
        "plt.ylabel('Продажи')\n",
        "plt.show();\n",
        "\n",
        "PS4.plot(y='total_sales', x='user_score', kind='scatter')\n",
        "plt.title('Кореляция отзывов пользователей и продаж платформы PS4 ')\n",
        "plt.xlabel('Рейтинг пользователей')\n",
        "plt.ylabel('Продажи')\n",
        "plt.show();"
      ]
    },
    {
      "cell_type": "code",
      "execution_count": null,
      "metadata": {
        "id": "YXx1mcvI-4Xw",
        "outputId": "d4c1ee07-5681-4dc4-fade-0be641c92c58"
      },
      "outputs": [
        {
          "data": {
            "image/png": "[encoded data removed]",
            "text/plain": [
              "<Figure size 432x288 with 1 Axes>"
            ]
          },
          "metadata": {
            "needs_background": "light"
          },
          "output_type": "display_data"
        },
        {
          "data": {
            "image/png": "[encoded data removed]",
            "text/plain": [
              "<Figure size 432x288 with 1 Axes>"
            ]
          },
          "metadata": {
            "needs_background": "light"
          },
          "output_type": "display_data"
        }
      ],
      "source": [
        "PC.plot(y='total_sales', x='critic_score', kind='scatter')\n",
        "plt.title('Кореляция отзывов критиков и продаж платформы PC')\n",
        "plt.xlabel('Рейтинг критиков')\n",
        "plt.ylabel('Продажи')\n",
        "plt.show();\n",
        "\n",
        "PC.plot(y='total_sales', x='user_score', kind='scatter')\n",
        "plt.title('Кореляция отзывов пользователей и продаж платформы PC ')\n",
        "plt.xlabel('Рейтинг пользователей')\n",
        "plt.ylabel('Продажи')\n",
        "plt.show();"
      ]
    },
    {
      "cell_type": "markdown",
      "metadata": {
        "id": "wrrP3v0t-4Xx"
      },
      "source": [
        "На графике между точками возможно провести прямую, около которой будут расположено большинство точек, значит кореляция между продажами и оценкой критиков есть, между продажами и оценкой пользователей тоже есть, но слабее, чем с оценкой критиков. В обоих случаях кореляция прямая или положительная."
      ]
    },
    {
      "cell_type": "markdown",
      "metadata": {
        "id": "_a-DrAQ7-4Xz"
      },
      "source": [
        "### Посмотрим на общее распределение игр по жанрам."
      ]
    },
    {
      "cell_type": "code",
      "execution_count": null,
      "metadata": {
        "id": "894nEt9h-4Xz",
        "outputId": "831ef0ac-ccc1-45b0-da4c-46e15de3c947"
      },
      "outputs": [
        {
          "data": {
            "image/png": "[encoded data removed]",
            "text/plain": [
              "<Figure size 720x360 with 1 Axes>"
            ]
          },
          "metadata": {
            "needs_background": "light"
          },
          "output_type": "display_data"
        }
      ],
      "source": [
        "actual_period.pivot_table(index='genre', aggfunc={'total_sales':sum}).sort_values(by='total_sales', ascending=False).plot(y='total_sales', kind='bar', figsize=(10, 5))\n",
        "plt.title('Зависимость продаж от жанра')\n",
        "plt.xlabel('Жанр')\n",
        "plt.ylabel('Сумма продаж')\n",
        "plt.show();"
      ]
    },
    {
      "cell_type": "markdown",
      "metadata": {
        "id": "Gt7X7Kld-4Xz"
      },
      "source": [
        "На графике хорошо видно, что самые прибыльные жанраы: аркады, спорт, стрелялки, музыкальные игры.  Самые низкие продажы у жанра пазлы и стратегии."
      ]
    },
    {
      "cell_type": "code",
      "execution_count": null,
      "metadata": {
        "id": "XLaUkOrm-4X0",
        "outputId": "739c1883-ba2f-4bee-c97b-227bbf15f62a"
      },
      "outputs": [
        {
          "data": {
            "text/html": [
              "<div>\n",
              "<style scoped>\n",
              "    .dataframe tbody tr th:only-of-type {\n",
              "        vertical-align: middle;\n",
              "    }\n",
              "\n",
              "    .dataframe tbody tr th {\n",
              "        vertical-align: top;\n",
              "    }\n",
              "\n",
              "    .dataframe thead th {\n",
              "        text-align: right;\n",
              "    }\n",
              "</style>\n",
              "<table border=\"1\" class=\"dataframe\">\n",
              "  <thead>\n",
              "    <tr style=\"text-align: right;\">\n",
              "      <th></th>\n",
              "      <th>total_sales</th>\n",
              "    </tr>\n",
              "    <tr>\n",
              "      <th>genre</th>\n",
              "      <th></th>\n",
              "    </tr>\n",
              "  </thead>\n",
              "  <tbody>\n",
              "    <tr>\n",
              "      <th>Shooter</th>\n",
              "      <td>1.245882</td>\n",
              "    </tr>\n",
              "    <tr>\n",
              "      <th>Sports</th>\n",
              "      <td>0.703972</td>\n",
              "    </tr>\n",
              "    <tr>\n",
              "      <th>Platform</th>\n",
              "      <td>0.576081</td>\n",
              "    </tr>\n",
              "    <tr>\n",
              "      <th>Role-Playing</th>\n",
              "      <td>0.499623</td>\n",
              "    </tr>\n",
              "    <tr>\n",
              "      <th>Racing</th>\n",
              "      <td>0.469294</td>\n",
              "    </tr>\n",
              "    <tr>\n",
              "      <th>Fighting</th>\n",
              "      <td>0.441375</td>\n",
              "    </tr>\n",
              "    <tr>\n",
              "      <th>Action</th>\n",
              "      <td>0.420196</td>\n",
              "    </tr>\n",
              "    <tr>\n",
              "      <th>Misc</th>\n",
              "      <td>0.405290</td>\n",
              "    </tr>\n",
              "    <tr>\n",
              "      <th>Simulation</th>\n",
              "      <td>0.350968</td>\n",
              "    </tr>\n",
              "    <tr>\n",
              "      <th>Puzzle</th>\n",
              "      <td>0.186471</td>\n",
              "    </tr>\n",
              "    <tr>\n",
              "      <th>Strategy</th>\n",
              "      <td>0.180000</td>\n",
              "    </tr>\n",
              "    <tr>\n",
              "      <th>Adventure</th>\n",
              "      <td>0.096490</td>\n",
              "    </tr>\n",
              "  </tbody>\n",
              "</table>\n",
              "</div>"
            ],
            "text/plain": [
              "              total_sales\n",
              "genre                    \n",
              "Shooter          1.245882\n",
              "Sports           0.703972\n",
              "Platform         0.576081\n",
              "Role-Playing     0.499623\n",
              "Racing           0.469294\n",
              "Fighting         0.441375\n",
              "Action           0.420196\n",
              "Misc             0.405290\n",
              "Simulation       0.350968\n",
              "Puzzle           0.186471\n",
              "Strategy         0.180000\n",
              "Adventure        0.096490"
            ]
          },
          "execution_count": 47,
          "metadata": {},
          "output_type": "execute_result"
        }
      ],
      "source": [
        "# найдем средние продажи в зависимости от жанра\n",
        "actual_period.pivot_table(index = 'genre', values = 'total_sales', aggfunc = 'mean').sort_values(ascending=False, by = 'total_sales')"
      ]
    },
    {
      "cell_type": "code",
      "execution_count": null,
      "metadata": {
        "id": "BJI5RHEY-4X0",
        "outputId": "812396e6-e8ea-4b53-ef79-686a507fbcbf"
      },
      "outputs": [
        {
          "data": {
            "text/html": [
              "<div>\n",
              "<style scoped>\n",
              "    .dataframe tbody tr th:only-of-type {\n",
              "        vertical-align: middle;\n",
              "    }\n",
              "\n",
              "    .dataframe tbody tr th {\n",
              "        vertical-align: top;\n",
              "    }\n",
              "\n",
              "    .dataframe thead th {\n",
              "        text-align: right;\n",
              "    }\n",
              "</style>\n",
              "<table border=\"1\" class=\"dataframe\">\n",
              "  <thead>\n",
              "    <tr style=\"text-align: right;\">\n",
              "      <th></th>\n",
              "      <th>total_sales</th>\n",
              "    </tr>\n",
              "    <tr>\n",
              "      <th>genre</th>\n",
              "      <th></th>\n",
              "    </tr>\n",
              "  </thead>\n",
              "  <tbody>\n",
              "    <tr>\n",
              "      <th>Shooter</th>\n",
              "      <td>0.450</td>\n",
              "    </tr>\n",
              "    <tr>\n",
              "      <th>Sports</th>\n",
              "      <td>0.240</td>\n",
              "    </tr>\n",
              "    <tr>\n",
              "      <th>Platform</th>\n",
              "      <td>0.225</td>\n",
              "    </tr>\n",
              "    <tr>\n",
              "      <th>Role-Playing</th>\n",
              "      <td>0.125</td>\n",
              "    </tr>\n",
              "    <tr>\n",
              "      <th>Fighting</th>\n",
              "      <td>0.125</td>\n",
              "    </tr>\n",
              "    <tr>\n",
              "      <th>Racing</th>\n",
              "      <td>0.120</td>\n",
              "    </tr>\n",
              "    <tr>\n",
              "      <th>Action</th>\n",
              "      <td>0.110</td>\n",
              "    </tr>\n",
              "    <tr>\n",
              "      <th>Simulation</th>\n",
              "      <td>0.100</td>\n",
              "    </tr>\n",
              "    <tr>\n",
              "      <th>Misc</th>\n",
              "      <td>0.100</td>\n",
              "    </tr>\n",
              "    <tr>\n",
              "      <th>Strategy</th>\n",
              "      <td>0.080</td>\n",
              "    </tr>\n",
              "    <tr>\n",
              "      <th>Puzzle</th>\n",
              "      <td>0.060</td>\n",
              "    </tr>\n",
              "    <tr>\n",
              "      <th>Adventure</th>\n",
              "      <td>0.030</td>\n",
              "    </tr>\n",
              "  </tbody>\n",
              "</table>\n",
              "</div>"
            ],
            "text/plain": [
              "              total_sales\n",
              "genre                    \n",
              "Shooter             0.450\n",
              "Sports              0.240\n",
              "Platform            0.225\n",
              "Role-Playing        0.125\n",
              "Fighting            0.125\n",
              "Racing              0.120\n",
              "Action              0.110\n",
              "Simulation          0.100\n",
              "Misc                0.100\n",
              "Strategy            0.080\n",
              "Puzzle              0.060\n",
              "Adventure           0.030"
            ]
          },
          "execution_count": 48,
          "metadata": {},
          "output_type": "execute_result"
        }
      ],
      "source": [
        "# найдем медианные продажи в зависимости от жанра\n",
        "actual_period.pivot_table(index = 'genre', values = 'total_sales', aggfunc = 'median').sort_values(ascending=False, by = 'total_sales')"
      ]
    },
    {
      "cell_type": "code",
      "execution_count": null,
      "metadata": {
        "id": "qMNBEk5f-4X1",
        "outputId": "32726b9d-1754-4173-fe66-dd144ec98ca4"
      },
      "outputs": [
        {
          "data": {
            "image/png": "[encoded data removed]",
            "text/plain": [
              "<Figure size 1440x720 with 1 Axes>"
            ]
          },
          "metadata": {
            "needs_background": "light"
          },
          "output_type": "display_data"
        }
      ],
      "source": [
        "# Построим график «ящик с усами»  в разбивке по жанрам за актуальный период\n",
        "actual_period.pivot_table(index = 'name', columns = 'genre', values = 'total_sales', aggfunc = 'sum').plot(kind='box', ylim=(0,10), figsize=(20, 10))\n",
        "plt.title('Зависимость продаж от жанра')\n",
        "plt.xlabel('Жанр')\n",
        "plt.ylabel('Сумма продаж')\n",
        "plt.show();"
      ]
    },
    {
      "cell_type": "markdown",
      "metadata": {
        "id": "y1XFLsth-4X1"
      },
      "source": [
        "*** Вывод ***\n",
        "Игры в выборке с 1980 по 2016, но для анализа можно взять лучшй период с 2013 по 2016, т.к за этот период появилось больше всего новых платформ и соотвтвенно продаж.\n",
        "Лидерами по продажам являюся PS3, PS4, X360, XOne. Платформы, у которых есть шансы на 2017 год: XOne, PS4, 3DS, PS3, X360, Wii.\n",
        "Продажи XOne, PS4, 3DS, PS3, X360, Wii платформ не сильно зависят от оценок критиков и от оценок игроков.\n",
        "Действилельно, после нахождения среднего, медианного значения и построения боксплота рейтинг жанров немного поменялся.\n",
        "Самые прибыльные жанраы: Стрелялки, гонки, платформенные игры и спорт, борьба. И никто не любит пазлы и приключения)\n"
      ]
    },
    {
      "cell_type": "markdown",
      "metadata": {
        "id": "94EZmIJ8-4X2"
      },
      "source": [
        "## Составим портрет пользователя каждого региона"
      ]
    },
    {
      "cell_type": "markdown",
      "metadata": {
        "id": "RW6msL68-4X3"
      },
      "source": [
        "### Самые популярные платформы (топ-5) для пользователя каждого региона (NA, EU, JP)"
      ]
    },
    {
      "cell_type": "code",
      "execution_count": null,
      "metadata": {
        "id": "aE_qZb_l-4X3",
        "outputId": "b301d55f-1549-469d-fcc9-483f608c2623"
      },
      "outputs": [
        {
          "data": {
            "image/png": "[encoded data removed]",
            "text/plain": [
              "<Figure size 1080x360 with 1 Axes>"
            ]
          },
          "metadata": {
            "needs_background": "light"
          },
          "output_type": "display_data"
        }
      ],
      "source": [
        "actual_period.pivot_table(index = 'platform', values = 'na_sales', aggfunc = 'sum').sort_values(ascending=False, by = 'na_sales').plot(kind = 'bar', figsize=(15,5))\n",
        "plt.title('Самые популярные платформы для региона Северная Америка')\n",
        "plt.xlabel('Платформа')\n",
        "plt.ylabel('Сумма продаж')\n",
        "plt.show();"
      ]
    },
    {
      "cell_type": "code",
      "execution_count": null,
      "metadata": {
        "id": "AbQCn-lc-4X4",
        "outputId": "268919e6-3866-4e6d-a382-f8699503bf57"
      },
      "outputs": [
        {
          "data": {
            "image/png": "[encoded data removed]",
            "text/plain": [
              "<Figure size 1080x360 with 1 Axes>"
            ]
          },
          "metadata": {
            "needs_background": "light"
          },
          "output_type": "display_data"
        }
      ],
      "source": [
        "actual_period.pivot_table(index = 'platform', values = 'eu_sales', aggfunc = 'sum').sort_values(ascending=False, by = 'eu_sales').plot(kind = 'bar', figsize=(15,5))\n",
        "plt.title('Самые популярные платформы для региона Европа')\n",
        "plt.xlabel('Платформа')\n",
        "plt.ylabel('Сумма продаж')\n",
        "plt.show();"
      ]
    },
    {
      "cell_type": "code",
      "execution_count": null,
      "metadata": {
        "id": "FFudY1Y5-4X4",
        "outputId": "7d43fab0-f385-46de-df7a-ea0c15c75c5b"
      },
      "outputs": [
        {
          "data": {
            "image/png": "[encoded data removed]",
            "text/plain": [
              "<Figure size 1080x360 with 1 Axes>"
            ]
          },
          "metadata": {
            "needs_background": "light"
          },
          "output_type": "display_data"
        }
      ],
      "source": [
        "actual_period.pivot_table(index = 'platform', values = 'jp_sales', aggfunc = 'sum').sort_values(ascending=False, by = 'jp_sales').plot(kind = 'bar', figsize=(15,5))\n",
        "plt.title('Самые популярные платформы для Япония')\n",
        "plt.xlabel('Платформа')\n",
        "plt.ylabel('Сумма продаж')\n",
        "plt.show();"
      ]
    },
    {
      "cell_type": "code",
      "execution_count": null,
      "metadata": {
        "id": "1rX-RwI0-4X5",
        "outputId": "dcfedd74-7149-4910-f85e-df4c9071c5d4"
      },
      "outputs": [
        {
          "data": {
            "image/png": "[encoded data removed]",
            "text/plain": [
              "<Figure size 1080x360 with 1 Axes>"
            ]
          },
          "metadata": {
            "needs_background": "light"
          },
          "output_type": "display_data"
        }
      ],
      "source": [
        "actual_period.pivot_table(index = 'platform', values = ['na_sales', 'eu_sales', 'jp_sales'], aggfunc = 'sum').sort_values(ascending=False, by = ['na_sales', 'eu_sales', 'jp_sales']).plot(kind = 'bar', figsize=(15,5))\n",
        "plt.title('Самые популярные платформы в сравнении')\n",
        "plt.xlabel('Платформа')\n",
        "plt.ylabel('Сумма продаж')\n",
        "plt.show();"
      ]
    },
    {
      "cell_type": "markdown",
      "metadata": {
        "id": "z6hqaEP_-4X5"
      },
      "source": [
        "По графикам видим, что в топ 5:\n",
        "\n",
        "Топ 5 Северной Америки:  X360, PS3, PS4, XOne, 3DS\n",
        "\n",
        "Топ 5 Европы:            PS4, XOne,  X360, PS3, 3DS\n",
        "\n",
        "Топ 5 Японии:            3DS, PS3, PSV, PS4, WiiU\n",
        "\n",
        "В топ 5 входят одни и теже платфоры, только с разными долями продаж. Больше всех играют в Северной Америке, на втором месте Европа, Япония играет меньше всех."
      ]
    },
    {
      "cell_type": "markdown",
      "metadata": {
        "id": "gSkhda3K-4X7"
      },
      "source": [
        "### Самые популярные жанры (топ-5) для пользователя каждого региона (NA, EU, JP)"
      ]
    },
    {
      "cell_type": "code",
      "execution_count": null,
      "metadata": {
        "id": "9m1u4pV1-4X8",
        "outputId": "0985d3bd-4363-4dda-add9-e709c40ffc70"
      },
      "outputs": [
        {
          "data": {
            "image/png": "[encoded data removed]",
            "text/plain": [
              "<Figure size 1080x360 with 1 Axes>"
            ]
          },
          "metadata": {
            "needs_background": "light"
          },
          "output_type": "display_data"
        }
      ],
      "source": [
        "actual_period.pivot_table(index = 'genre', values = ['na_sales', 'eu_sales', 'jp_sales'], aggfunc = 'sum').sort_values(ascending=False, by = ['na_sales', 'eu_sales', 'jp_sales']).plot(kind = 'bar', figsize=(15,5))\n",
        "plt.title('Самые популярные жанры в сравнении')\n",
        "plt.xlabel('Жанр')\n",
        "plt.ylabel('Сумма продаж')\n",
        "plt.show();"
      ]
    },
    {
      "cell_type": "markdown",
      "metadata": {
        "id": "QL6Kq1D4-4X8"
      },
      "source": [
        "По графикам видим, что в топ 5 по жанрам:\n",
        "\n",
        "Топ 5 Северной Америки:  Аркады, Стрелялки, Спорт, Ролевые игры, Разносторонние игры\n",
        "\n",
        "Топ 5 Европы:            Аркады, Стрелялки, Спорт, Ролевые игры, Разносторонние игры\n",
        "\n",
        "Топ 5 Японии:           Ролевые игры, Аркады, Разносторонние игры, Стрелялки, Платформенные игры\n",
        "\n",
        "В топ 5 по жанрам  Европы и Северной Америки входят одни и те же жанры. Япония отличается по своим предпочтениям в жанрах."
      ]
    },
    {
      "cell_type": "markdown",
      "metadata": {
        "id": "A5jHscn9-4X-"
      },
      "source": [
        "### Влияет ли рейтинг ESRB на продажи в отдельном регионе?"
      ]
    },
    {
      "cell_type": "markdown",
      "metadata": {
        "id": "BdLG2ZTC-4X-"
      },
      "source": [
        "Мы уже считали общую сумму продаж без учета выбранного периода, посчитаем еще раз для периода и без остальных регионов"
      ]
    },
    {
      "cell_type": "code",
      "execution_count": null,
      "metadata": {
        "id": "WsSfhP2--4X_"
      },
      "outputs": [],
      "source": [
        "actual_period['region_sales'] = actual_period['na_sales'] + actual_period['eu_sales'] + actual_period['jp_sales']"
      ]
    },
    {
      "cell_type": "code",
      "execution_count": null,
      "metadata": {
        "id": "CDlj82lW-4X_",
        "outputId": "86cd84f2-782c-4bdd-e778-80ac57028ae4"
      },
      "outputs": [
        {
          "data": {
            "text/html": [
              "<div>\n",
              "<style scoped>\n",
              "    .dataframe tbody tr th:only-of-type {\n",
              "        vertical-align: middle;\n",
              "    }\n",
              "\n",
              "    .dataframe tbody tr th {\n",
              "        vertical-align: top;\n",
              "    }\n",
              "\n",
              "    .dataframe thead th {\n",
              "        text-align: right;\n",
              "    }\n",
              "</style>\n",
              "<table border=\"1\" class=\"dataframe\">\n",
              "  <thead>\n",
              "    <tr style=\"text-align: right;\">\n",
              "      <th></th>\n",
              "      <th>eu_sales</th>\n",
              "      <th>jp_sales</th>\n",
              "      <th>na_sales</th>\n",
              "    </tr>\n",
              "    <tr>\n",
              "      <th>rating</th>\n",
              "      <th></th>\n",
              "      <th></th>\n",
              "      <th></th>\n",
              "    </tr>\n",
              "  </thead>\n",
              "  <tbody>\n",
              "    <tr>\n",
              "      <th>M</th>\n",
              "      <td>145.32</td>\n",
              "      <td>14.11</td>\n",
              "      <td>165.21</td>\n",
              "    </tr>\n",
              "    <tr>\n",
              "      <th>E</th>\n",
              "      <td>83.36</td>\n",
              "      <td>15.14</td>\n",
              "      <td>79.05</td>\n",
              "    </tr>\n",
              "    <tr>\n",
              "      <th>E10+</th>\n",
              "      <td>42.69</td>\n",
              "      <td>5.89</td>\n",
              "      <td>54.24</td>\n",
              "    </tr>\n",
              "    <tr>\n",
              "      <th>T</th>\n",
              "      <td>41.95</td>\n",
              "      <td>20.59</td>\n",
              "      <td>49.79</td>\n",
              "    </tr>\n",
              "  </tbody>\n",
              "</table>\n",
              "</div>"
            ],
            "text/plain": [
              "        eu_sales  jp_sales  na_sales\n",
              "rating                              \n",
              "M         145.32     14.11    165.21\n",
              "E          83.36     15.14     79.05\n",
              "E10+       42.69      5.89     54.24\n",
              "T          41.95     20.59     49.79"
            ]
          },
          "execution_count": 56,
          "metadata": {},
          "output_type": "execute_result"
        }
      ],
      "source": [
        "# создадим сводную таблицу по рейтингу и отсортируем для наглядности\n",
        "ESRB = actual_period.pivot_table(index = 'rating', values = ['na_sales','eu_sales','jp_sales'], aggfunc = 'sum').sort_values(ascending=False, by = ['na_sales', 'eu_sales', 'jp_sales'])\n",
        "ESRB"
      ]
    },
    {
      "cell_type": "markdown",
      "metadata": {
        "id": "rf-9FuNU-4YA"
      },
      "source": [
        "Рейтинг влияет на продажи по регионам"
      ]
    },
    {
      "cell_type": "markdown",
      "metadata": {
        "id": "oacAwoXV-4YB"
      },
      "source": [
        "*** Вывод *** Пользователи Северной Америки и Европы играют  в одни и те же платформы и скорей всего дома на \"стационарных приставках\". Им соотвтетвуют и жанры для таких платформ.  А в Японии играют и на переносных пристаках, которые можно брать с собой, поэтому жанры отличаются. Рейтинг ESRB влияет на продажи по регионам"
      ]
    },
    {
      "cell_type": "markdown",
      "metadata": {
        "id": "UFHlslYW-4YD"
      },
      "source": [
        "Проверим как продажи отличаются по рейтингам в зависимости от региона"
      ]
    },
    {
      "cell_type": "code",
      "execution_count": null,
      "metadata": {
        "id": "LPi3j3pN-4YD",
        "outputId": "e5ee6e98-7478-4c65-8a73-b078ed4632de"
      },
      "outputs": [
        {
          "data": {
            "text/html": [
              "<div>\n",
              "<style scoped>\n",
              "    .dataframe tbody tr th:only-of-type {\n",
              "        vertical-align: middle;\n",
              "    }\n",
              "\n",
              "    .dataframe tbody tr th {\n",
              "        vertical-align: top;\n",
              "    }\n",
              "\n",
              "    .dataframe thead th {\n",
              "        text-align: right;\n",
              "    }\n",
              "</style>\n",
              "<table border=\"1\" class=\"dataframe\">\n",
              "  <thead>\n",
              "    <tr style=\"text-align: right;\">\n",
              "      <th></th>\n",
              "      <th>eu_sales</th>\n",
              "      <th>jp_sales</th>\n",
              "      <th>na_sales</th>\n",
              "    </tr>\n",
              "    <tr>\n",
              "      <th>rating</th>\n",
              "      <th></th>\n",
              "      <th></th>\n",
              "      <th></th>\n",
              "    </tr>\n",
              "  </thead>\n",
              "  <tbody>\n",
              "    <tr>\n",
              "      <th>E</th>\n",
              "      <td>83.36</td>\n",
              "      <td>15.14</td>\n",
              "      <td>79.05</td>\n",
              "    </tr>\n",
              "    <tr>\n",
              "      <th>E10+</th>\n",
              "      <td>42.69</td>\n",
              "      <td>5.89</td>\n",
              "      <td>54.24</td>\n",
              "    </tr>\n",
              "    <tr>\n",
              "      <th>M</th>\n",
              "      <td>145.32</td>\n",
              "      <td>14.11</td>\n",
              "      <td>165.21</td>\n",
              "    </tr>\n",
              "    <tr>\n",
              "      <th>T</th>\n",
              "      <td>41.95</td>\n",
              "      <td>20.59</td>\n",
              "      <td>49.79</td>\n",
              "    </tr>\n",
              "  </tbody>\n",
              "</table>\n",
              "</div>"
            ],
            "text/plain": [
              "        eu_sales  jp_sales  na_sales\n",
              "rating                              \n",
              "E          83.36     15.14     79.05\n",
              "E10+       42.69      5.89     54.24\n",
              "M         145.32     14.11    165.21\n",
              "T          41.95     20.59     49.79"
            ]
          },
          "execution_count": 57,
          "metadata": {},
          "output_type": "execute_result"
        }
      ],
      "source": [
        "rating_sales = actual_period.pivot_table(index='rating', aggfunc={'na_sales':sum, 'eu_sales':sum, 'jp_sales':sum})\n",
        "\n",
        "rating_sales"
      ]
    },
    {
      "cell_type": "markdown",
      "metadata": {
        "id": "YWrh0OTm-4YE"
      },
      "source": [
        "В Америке и Европе продажи распределены идентично в зависимости от рейтингов: преобладают игры для взрослых, далее игры для всех, на третьем месте игры для подростков и замыкают игры для всех от 10 лет и страше.\n",
        "В Японии  лидируют игры для всех, для подростков, для взрослых."
      ]
    },
    {
      "cell_type": "markdown",
      "metadata": {
        "id": "wIfdORq_-4YF"
      },
      "source": [
        "##  Проверка гипотезы"
      ]
    },
    {
      "cell_type": "markdown",
      "metadata": {
        "id": "5sV1-BCI-4YF"
      },
      "source": [
        "### Средние пользовательские рейтинги платформ Xbox One и PC одинаковые."
      ]
    },
    {
      "cell_type": "markdown",
      "metadata": {
        "id": "kYhERkKZ-4YH"
      },
      "source": [
        "Сформулируем гипотезы:\n",
        "\n",
        "H_0: Средний пользовательский рейтинг платформы Xbox One = Среднему пользовательскому рейтингу платформ PC\n",
        "\n",
        "H_1: Средний пользовательский рейтинг платформы Xbox One != Среднему пользовательскому рейтингу платформ PC\n",
        "\n",
        "Зададим alpha = 0.05"
      ]
    },
    {
      "cell_type": "code",
      "execution_count": null,
      "metadata": {
        "id": "5A9yo7p6-4YH",
        "outputId": "e19243f9-7cab-48fe-c686-e83a4177e0dc"
      },
      "outputs": [
        {
          "name": "stdout",
          "output_type": "stream",
          "text": [
            "Средний пользовательский рейтинг платформы Xbox One: 6.521428571428572\n",
            "Средний пользовательский рейтинг платформы PC 6.2696774193548395\n"
          ]
        }
      ],
      "source": [
        "XboxOne = actual_period[(actual_period['platform'] == 'XOne') &  (actual_period['user_score'] > 0)]['user_score']\n",
        "PC = actual_period[(actual_period['platform'] == 'PC') &  (actual_period['user_score'] > 0)]['user_score']\n",
        "print('Средний пользовательский рейтинг платформы Xbox One:', XboxOne.mean())\n",
        "print('Средний пользовательский рейтинг платформы PC', PC.mean())"
      ]
    },
    {
      "cell_type": "markdown",
      "metadata": {
        "id": "Qcy5Lzpx-4YH"
      },
      "source": [
        "Для того, чтобы понять какой тест выбрать для проверки гипотез мы можем предположить, что выборки имеют равные дисперсии, если отношение большей выборочной дисперсии к меньшей выборочной дисперсии составляет менее 4:1"
      ]
    },
    {
      "cell_type": "code",
      "execution_count": null,
      "metadata": {
        "id": "dC6SGkPf-4YH",
        "outputId": "dfb66393-9613-4223-e2d0-d224b0371e25"
      },
      "outputs": [
        {
          "data": {
            "text/plain": [
              "(3.016306347554631, 1.8965188383045526)"
            ]
          },
          "execution_count": 59,
          "metadata": {},
          "output_type": "execute_result"
        }
      ],
      "source": [
        "np.var(PC), np.var(XboxOne)"
      ]
    },
    {
      "cell_type": "markdown",
      "metadata": {
        "id": "320SDnLS-4YH"
      },
      "source": [
        "Отношение большей дисперсии выборки к меньшей дисперсии выборки составляет 3.01 / 1.8965 = 1,58 , что меньше 4.\n",
        "Это означает, что мы можем предположить, что дисперсии генеральной совокупности равны.\n",
        "\n",
        "Таким образом, мы можем приступить к выполнению двухвыборочного t-критерия с равными дисперсиями:\n",
        "\n",
        "У нас две выборки, проведем для них t тест"
      ]
    },
    {
      "cell_type": "code",
      "execution_count": null,
      "metadata": {
        "id": "eQhKDE_3-4YI",
        "outputId": "be9da9cc-d837-4c8a-cd96-481b77e6b16b"
      },
      "outputs": [
        {
          "name": "stdout",
          "output_type": "stream",
          "text": [
            "p-value: 0.14759594013430463\n",
            "Не получилось отвергнуть нулевую гипотезу\n"
          ]
        }
      ],
      "source": [
        "#проверяем нулевую гипотезу\n",
        "\n",
        "alpha = 0.05\n",
        "results = st.ttest_ind(XboxOne, PC, equal_var=False)\n",
        "\n",
        "print('p-value:', results.pvalue)\n",
        "\n",
        "if (results.pvalue < alpha):\n",
        "    print(\"Отвергаем нулевую гипотезу\")\n",
        "else:\n",
        "    print(\"Не получилось отвергнуть нулевую гипотезу\")"
      ]
    },
    {
      "cell_type": "markdown",
      "metadata": {
        "id": "PH7EHtOO-4YI"
      },
      "source": [
        "Поскольку p-значение нашего теста больше alpha, то у нас нет оснований отвергнуть нулевую гипотезу. А значит есть основания предполагать, что средний пользовательский рейтинг платформы Xbox One равен среднему пользовательскому рейтингу платформ PC."
      ]
    },
    {
      "cell_type": "markdown",
      "metadata": {
        "id": "IzBs0dpY-4YJ"
      },
      "source": [
        "### Средние пользовательские рейтинги жанров Action (англ. «действие», экшен-игры) и Sports (англ. «спортивные соревнования») разные."
      ]
    },
    {
      "cell_type": "markdown",
      "metadata": {
        "id": "0IFLr1Iz-4YJ"
      },
      "source": [
        "H_0: Средний пользовательский рейтинг жанра Action = Средний пользовательский рейтинг жанра Sports\n",
        "\n",
        "H_1: Средний пользовательский рейтинг жанра Action != Средний пользовательский рейтинг жанра Sports\n",
        "\n",
        "Зададим alpha = 0.05"
      ]
    },
    {
      "cell_type": "code",
      "execution_count": null,
      "metadata": {
        "id": "RKHsf0Mj-4YJ",
        "outputId": "51e93b00-1080-4bf0-b3ad-1f8bc98bbce2"
      },
      "outputs": [
        {
          "name": "stdout",
          "output_type": "stream",
          "text": [
            "Средний пользовательский рейтинг жанра Action: 6.837532133676092\n",
            "Средний пользовательский рейтинг жанра Sports 5.238124999999999\n"
          ]
        }
      ],
      "source": [
        "Action = actual_period[(actual_period['genre'] == 'Action') &  (actual_period['user_score'] > 0)]['user_score']\n",
        "Sports = actual_period[(actual_period['genre'] == 'Sports') &  (actual_period['user_score'] > 0)]['user_score']\n",
        "print('Средний пользовательский рейтинг жанра Action:', Action.mean())\n",
        "print('Средний пользовательский рейтинг жанра Sports', Sports.mean())"
      ]
    },
    {
      "cell_type": "code",
      "execution_count": null,
      "metadata": {
        "id": "a-rWlCuI-4YJ",
        "outputId": "4c4c8943-4347-4f14-b27a-74b08a52de44"
      },
      "outputs": [
        {
          "data": {
            "text/plain": [
              "(1.7648124186332366, 3.160733984375)"
            ]
          },
          "execution_count": 62,
          "metadata": {},
          "output_type": "execute_result"
        }
      ],
      "source": [
        "np.var(Action), np.var(Sports)"
      ]
    },
    {
      "cell_type": "markdown",
      "metadata": {
        "id": "J5jl--8c-4YJ"
      },
      "source": [
        "Отношение большей дисперсии выборки к меньшей дисперсии выборки составляет 6,83 / 5,2 = 1,31 , что меньше 4.\n",
        "Это означает, что мы можем предположить, что дисперсии генеральной совокупности равны.\n",
        "\n",
        "Таким образом, мы можем приступить к выполнению двухвыборочного t-критерия с равными дисперсиями:\n",
        "\n",
        "У нас две выборки, проведем для них t тест"
      ]
    },
    {
      "cell_type": "code",
      "execution_count": null,
      "metadata": {
        "id": "xFEvo0Aj-4YK",
        "outputId": "fc6f727d-527f-4313-c40d-74914052a032"
      },
      "outputs": [
        {
          "name": "stdout",
          "output_type": "stream",
          "text": [
            "p-value: 1.4460039700704315e-20\n",
            "Отвергаем нулевую гипотезу\n"
          ]
        }
      ],
      "source": [
        "#проверяем нулевую гипотезу\n",
        "\n",
        "alpha = 0.05\n",
        "results = st.ttest_ind(Action, Sports, equal_var=False)\n",
        "\n",
        "print('p-value:', results.pvalue)\n",
        "\n",
        "if (results.pvalue < alpha):\n",
        "    print(\"Отвергаем нулевую гипотезу\")\n",
        "else:\n",
        "    print(\"Не получилось отвергнуть нулевую гипотезу\")"
      ]
    },
    {
      "cell_type": "markdown",
      "metadata": {
        "id": "z9wlgWQg-4YK"
      },
      "source": [
        "Поскольку p-значение нашего теста меньше alpha, шанс что нулевая гипотеза верна очень мал, поэтому отвергаем нулевую гипотезу и принимаем альтернативную."
      ]
    },
    {
      "cell_type": "markdown",
      "metadata": {
        "id": "-f_ZXnbO-4YK"
      },
      "source": [
        "### Общий вывод:\n",
        "\n",
        "    После проведенного исследования можно сделать следующие выводы.\n",
        "1.\tВ данных было отмечено большое количество пропусков, которые невозможно заменить, поскольку они могут соответствовать новым играм, которые еще не оценены. Поэтому решено оставить эти пропуски без изменений.\n",
        "2.\tПропуски в полях с названием и жанром и годом выпуска были удалены, так как они не повлияли на итоговый анализ данных.\n",
        "3.\tДля удобства анализа было решено привести все имена  к нужному регистру.\n",
        "4.\tПоля Crit_score и Year_of_Release были приведены к целочисленному типу данных, поскольку они представлены как рейтинг и год.\n",
        "5.\tДля анализа были выбраны данные только после 2013 года, поскольку в этот период появилось больше новых платформ и соответствующих продаж.\n",
        "6.\tБыло установлено, что лидерами по продажам игр являются платформы PS3, PS4, X360 и XOne. Платформы X360, PS3, PS4, XOne, 3DS могут добиться хороших успехов в 2017 году.\n",
        "7.\tПродажи игр не сильно, но зависят не только от оценок критиков, но и от оценок игроков.\n",
        "8.\tСреди жанров видеоигр наиболее популярными и перспективными можно выделить Action, Shooter, Sports и Role-Playing. Следует быть внимательными к жанру «Приключения», так как их продажа не очень высока.\n",
        "9.\tБольшая часть игр не имеет рейтинга ESRB, что делает анализ данных неполными и неточными. Однако можно сказать, что игры для взрослых и игры для всех возрастов пользуются наибольшим спросом среди игроков из Европы и Северной Америки.\n",
        "11.\tВ целом предпочтения пользователей из Европы и Северной Америки одинаковы, поэтому можно увеличить рекламные и маркетинговые усилия для этих регионов. А для успеха кампаний в Японии необходимы более детальные приготовления.\n",
        "\n",
        "Из результатов исследования  можно сделать вывод, что жанры игр, платформы, отзывы критиков, пользователей и рейтинги ESRB являются необходимыми факторами, влияющими на успех и продажу игр, а также для успешной маркетинговой стратегии.\n"
      ]
    }
  ],
  "metadata": {
    "ExecuteTimeLog": [
      {
        "duration": 45,
        "start_time": "2023-08-28T11:29:10.741Z"
      },
      {
        "duration": 1198,
        "start_time": "2023-08-28T11:29:50.234Z"
      },
      {
        "duration": 2,
        "start_time": "2023-08-28T11:30:06.898Z"
      },
      {
        "duration": 92,
        "start_time": "2023-08-28T11:30:14.409Z"
      },
      {
        "duration": 3,
        "start_time": "2023-08-28T11:31:04.817Z"
      },
      {
        "duration": 2,
        "start_time": "2023-08-28T11:31:14.466Z"
      },
      {
        "duration": 45,
        "start_time": "2023-08-28T11:31:16.759Z"
      },
      {
        "duration": 3,
        "start_time": "2023-08-28T11:32:18.585Z"
      },
      {
        "duration": 45,
        "start_time": "2023-08-28T11:32:20.210Z"
      },
      {
        "duration": 5,
        "start_time": "2023-08-28T11:33:23.009Z"
      },
      {
        "duration": 8,
        "start_time": "2023-08-28T11:34:20.810Z"
      },
      {
        "duration": 49,
        "start_time": "2023-08-28T11:34:40.490Z"
      },
      {
        "duration": 4,
        "start_time": "2023-08-28T11:34:42.201Z"
      },
      {
        "duration": 13,
        "start_time": "2023-08-28T11:34:44.013Z"
      },
      {
        "duration": 13,
        "start_time": "2023-08-28T11:35:29.059Z"
      },
      {
        "duration": 14,
        "start_time": "2023-08-28T11:35:57.914Z"
      },
      {
        "duration": 748,
        "start_time": "2023-08-28T11:36:16.225Z"
      },
      {
        "duration": 3,
        "start_time": "2023-08-28T18:02:18.205Z"
      },
      {
        "duration": 51,
        "start_time": "2023-08-28T18:02:20.202Z"
      },
      {
        "duration": 3,
        "start_time": "2023-08-28T18:02:23.408Z"
      },
      {
        "duration": 15,
        "start_time": "2023-08-28T18:02:26.348Z"
      },
      {
        "duration": 15,
        "start_time": "2023-08-28T18:02:30.710Z"
      },
      {
        "duration": 14,
        "start_time": "2023-08-28T18:02:34.105Z"
      },
      {
        "duration": 3,
        "start_time": "2023-08-28T18:42:04.203Z"
      },
      {
        "duration": 5,
        "start_time": "2023-08-28T18:43:03.651Z"
      },
      {
        "duration": 4,
        "start_time": "2023-08-28T18:43:06.612Z"
      },
      {
        "duration": 14,
        "start_time": "2023-08-28T18:43:26.987Z"
      },
      {
        "duration": 1564,
        "start_time": "2023-08-28T18:47:38.207Z"
      },
      {
        "duration": 12,
        "start_time": "2023-08-28T18:49:09.802Z"
      },
      {
        "duration": 3,
        "start_time": "2023-08-28T18:49:33.547Z"
      },
      {
        "duration": 17,
        "start_time": "2023-08-28T18:49:37.906Z"
      },
      {
        "duration": 7,
        "start_time": "2023-08-28T18:50:02.892Z"
      },
      {
        "duration": 17,
        "start_time": "2023-08-28T19:03:03.846Z"
      },
      {
        "duration": 13,
        "start_time": "2023-08-28T19:07:28.562Z"
      },
      {
        "duration": 13,
        "start_time": "2023-08-28T19:11:53.435Z"
      },
      {
        "duration": 10,
        "start_time": "2023-08-28T19:15:37.425Z"
      },
      {
        "duration": 3,
        "start_time": "2023-08-28T19:16:09.074Z"
      },
      {
        "duration": 51,
        "start_time": "2023-08-28T19:16:10.480Z"
      },
      {
        "duration": 14,
        "start_time": "2023-08-28T19:16:18.644Z"
      },
      {
        "duration": 13,
        "start_time": "2023-08-28T19:16:20.455Z"
      },
      {
        "duration": 17,
        "start_time": "2023-08-28T19:16:22.589Z"
      },
      {
        "duration": 777,
        "start_time": "2023-08-28T19:16:25.769Z"
      },
      {
        "duration": 4,
        "start_time": "2023-08-28T19:16:28.455Z"
      },
      {
        "duration": 12,
        "start_time": "2023-08-28T19:16:30.784Z"
      },
      {
        "duration": 10,
        "start_time": "2023-08-28T19:16:34.165Z"
      },
      {
        "duration": 14,
        "start_time": "2023-08-28T19:16:37.344Z"
      },
      {
        "duration": 15,
        "start_time": "2023-08-28T19:17:05.015Z"
      },
      {
        "duration": 4,
        "start_time": "2023-08-28T19:23:01.781Z"
      },
      {
        "duration": 7,
        "start_time": "2023-08-28T19:32:25.949Z"
      },
      {
        "duration": 3,
        "start_time": "2023-08-28T19:33:04.945Z"
      },
      {
        "duration": 49,
        "start_time": "2023-08-28T19:33:06.554Z"
      },
      {
        "duration": 3,
        "start_time": "2023-08-28T19:33:08.953Z"
      },
      {
        "duration": 13,
        "start_time": "2023-08-28T19:33:10.714Z"
      },
      {
        "duration": 12,
        "start_time": "2023-08-28T19:33:12.821Z"
      },
      {
        "duration": 13,
        "start_time": "2023-08-28T19:33:15.306Z"
      },
      {
        "duration": 4,
        "start_time": "2023-08-28T19:33:19.040Z"
      },
      {
        "duration": 7,
        "start_time": "2023-08-28T19:33:23.476Z"
      },
      {
        "duration": 14,
        "start_time": "2023-08-28T19:33:26.088Z"
      },
      {
        "duration": 17,
        "start_time": "2023-08-28T19:33:28.932Z"
      },
      {
        "duration": 13,
        "start_time": "2023-08-28T19:33:31.624Z"
      },
      {
        "duration": 5,
        "start_time": "2023-08-28T19:33:33.656Z"
      },
      {
        "duration": 6,
        "start_time": "2023-08-28T19:33:35.574Z"
      },
      {
        "duration": 5,
        "start_time": "2023-08-28T19:35:03.946Z"
      },
      {
        "duration": 77,
        "start_time": "2023-08-28T19:38:43.898Z"
      },
      {
        "duration": 1300,
        "start_time": "2023-08-28T19:40:22.815Z"
      },
      {
        "duration": 14,
        "start_time": "2023-08-28T19:40:32.355Z"
      },
      {
        "duration": 1380,
        "start_time": "2023-08-28T19:40:48.314Z"
      },
      {
        "duration": 1388,
        "start_time": "2023-08-28T19:41:08.373Z"
      },
      {
        "duration": 4,
        "start_time": "2023-08-28T19:41:27.509Z"
      },
      {
        "duration": 4,
        "start_time": "2023-08-28T19:41:47.361Z"
      },
      {
        "duration": 47,
        "start_time": "2023-08-28T19:41:48.879Z"
      },
      {
        "duration": 4,
        "start_time": "2023-08-28T19:41:51.767Z"
      },
      {
        "duration": 13,
        "start_time": "2023-08-28T19:41:53.575Z"
      },
      {
        "duration": 13,
        "start_time": "2023-08-28T19:41:55.733Z"
      },
      {
        "duration": 13,
        "start_time": "2023-08-28T19:41:57.779Z"
      },
      {
        "duration": 649,
        "start_time": "2023-08-28T19:42:01.431Z"
      },
      {
        "duration": 4,
        "start_time": "2023-08-28T19:42:07.026Z"
      },
      {
        "duration": 1595,
        "start_time": "2023-08-28T19:42:09.307Z"
      },
      {
        "duration": 5,
        "start_time": "2023-08-28T19:42:27.639Z"
      },
      {
        "duration": 6,
        "start_time": "2023-08-28T19:42:47.026Z"
      },
      {
        "duration": 13,
        "start_time": "2023-08-28T19:42:49.481Z"
      },
      {
        "duration": 14,
        "start_time": "2023-08-28T19:42:52.103Z"
      },
      {
        "duration": 12,
        "start_time": "2023-08-28T19:42:54.407Z"
      },
      {
        "duration": 4,
        "start_time": "2023-08-28T19:42:56.192Z"
      },
      {
        "duration": 9,
        "start_time": "2023-08-28T19:42:59.492Z"
      },
      {
        "duration": 8,
        "start_time": "2023-08-28T19:45:52.913Z"
      },
      {
        "duration": 8,
        "start_time": "2023-08-28T19:46:25.859Z"
      },
      {
        "duration": 11,
        "start_time": "2023-08-28T19:47:14.934Z"
      },
      {
        "duration": 11,
        "start_time": "2023-08-28T19:49:37.912Z"
      },
      {
        "duration": 4,
        "start_time": "2023-08-28T19:50:34.849Z"
      },
      {
        "duration": 1172,
        "start_time": "2023-08-29T05:33:34.531Z"
      },
      {
        "duration": 53,
        "start_time": "2023-08-29T05:33:35.705Z"
      },
      {
        "duration": 5,
        "start_time": "2023-08-29T05:33:35.761Z"
      },
      {
        "duration": 48,
        "start_time": "2023-08-29T05:33:35.769Z"
      },
      {
        "duration": 34,
        "start_time": "2023-08-29T05:33:35.819Z"
      },
      {
        "duration": 54,
        "start_time": "2023-08-29T05:33:35.855Z"
      },
      {
        "duration": 804,
        "start_time": "2023-08-29T05:33:35.912Z"
      },
      {
        "duration": 3,
        "start_time": "2023-08-29T05:33:36.718Z"
      },
      {
        "duration": 8,
        "start_time": "2023-08-29T05:33:36.722Z"
      },
      {
        "duration": 22,
        "start_time": "2023-08-29T05:33:36.732Z"
      },
      {
        "duration": 15,
        "start_time": "2023-08-29T05:33:36.756Z"
      },
      {
        "duration": 22,
        "start_time": "2023-08-29T05:33:36.772Z"
      },
      {
        "duration": 4,
        "start_time": "2023-08-29T05:33:36.796Z"
      },
      {
        "duration": 9,
        "start_time": "2023-08-29T05:33:36.802Z"
      },
      {
        "duration": 6,
        "start_time": "2023-08-29T05:33:36.813Z"
      },
      {
        "duration": 29,
        "start_time": "2023-08-29T05:33:36.820Z"
      },
      {
        "duration": 7,
        "start_time": "2023-08-29T05:36:41.986Z"
      },
      {
        "duration": 7,
        "start_time": "2023-08-29T06:10:40.949Z"
      },
      {
        "duration": 8,
        "start_time": "2023-08-29T06:11:08.948Z"
      },
      {
        "duration": 14,
        "start_time": "2023-08-29T06:12:31.301Z"
      },
      {
        "duration": 5,
        "start_time": "2023-08-29T06:16:12.133Z"
      },
      {
        "duration": 4,
        "start_time": "2023-08-29T06:16:47.405Z"
      },
      {
        "duration": 5,
        "start_time": "2023-08-29T06:17:49.685Z"
      },
      {
        "duration": 8,
        "start_time": "2023-08-29T06:20:42.133Z"
      },
      {
        "duration": 154,
        "start_time": "2023-08-29T06:24:34.670Z"
      },
      {
        "duration": 176,
        "start_time": "2023-08-29T06:25:05.239Z"
      },
      {
        "duration": 167,
        "start_time": "2023-08-29T06:25:35.239Z"
      },
      {
        "duration": 169,
        "start_time": "2023-08-29T06:25:42.654Z"
      },
      {
        "duration": 274,
        "start_time": "2023-08-29T06:25:46.872Z"
      },
      {
        "duration": 186,
        "start_time": "2023-08-29T06:28:10.119Z"
      },
      {
        "duration": 173,
        "start_time": "2023-08-29T06:30:51.735Z"
      },
      {
        "duration": 149,
        "start_time": "2023-08-29T06:34:41.799Z"
      },
      {
        "duration": 181,
        "start_time": "2023-08-29T06:34:58.015Z"
      },
      {
        "duration": 241,
        "start_time": "2023-08-29T06:35:05.972Z"
      },
      {
        "duration": 180,
        "start_time": "2023-08-29T06:35:11.952Z"
      },
      {
        "duration": 183,
        "start_time": "2023-08-29T06:35:29.302Z"
      },
      {
        "duration": 163,
        "start_time": "2023-08-29T06:35:47.111Z"
      },
      {
        "duration": 172,
        "start_time": "2023-08-29T06:36:00.120Z"
      },
      {
        "duration": 154,
        "start_time": "2023-08-29T06:36:23.407Z"
      },
      {
        "duration": 5,
        "start_time": "2023-08-29T06:41:56.735Z"
      },
      {
        "duration": 115,
        "start_time": "2023-08-29T06:45:16.941Z"
      },
      {
        "duration": 25,
        "start_time": "2023-08-29T06:45:34.376Z"
      },
      {
        "duration": 20,
        "start_time": "2023-08-29T06:48:30.266Z"
      },
      {
        "duration": 8,
        "start_time": "2023-08-29T07:06:53.002Z"
      },
      {
        "duration": 2249,
        "start_time": "2023-08-29T07:08:45.825Z"
      },
      {
        "duration": 2098,
        "start_time": "2023-08-29T07:10:00.785Z"
      },
      {
        "duration": 9,
        "start_time": "2023-08-29T07:13:29.345Z"
      },
      {
        "duration": 13,
        "start_time": "2023-08-29T07:13:45.768Z"
      },
      {
        "duration": 2016,
        "start_time": "2023-08-29T07:13:47.296Z"
      },
      {
        "duration": 1994,
        "start_time": "2023-08-29T07:14:20.706Z"
      },
      {
        "duration": 2038,
        "start_time": "2023-08-29T07:14:34.497Z"
      },
      {
        "duration": 27,
        "start_time": "2023-08-29T07:14:44.210Z"
      },
      {
        "duration": 1893,
        "start_time": "2023-08-29T07:14:48.521Z"
      },
      {
        "duration": 2206,
        "start_time": "2023-08-29T07:15:30.078Z"
      },
      {
        "duration": 20,
        "start_time": "2023-08-29T07:49:24.259Z"
      },
      {
        "duration": 37,
        "start_time": "2023-08-29T07:49:27.982Z"
      },
      {
        "duration": 10,
        "start_time": "2023-08-29T07:49:45.101Z"
      },
      {
        "duration": 343,
        "start_time": "2023-08-29T07:54:02.140Z"
      },
      {
        "duration": 302,
        "start_time": "2023-08-29T07:55:38.870Z"
      },
      {
        "duration": 245,
        "start_time": "2023-08-29T07:56:57.384Z"
      },
      {
        "duration": 288,
        "start_time": "2023-08-29T07:57:06.343Z"
      },
      {
        "duration": 254,
        "start_time": "2023-08-29T07:57:28.874Z"
      },
      {
        "duration": 290,
        "start_time": "2023-08-29T07:57:46.116Z"
      },
      {
        "duration": 328,
        "start_time": "2023-08-29T07:58:17.612Z"
      },
      {
        "duration": 540,
        "start_time": "2023-08-29T07:58:37.507Z"
      },
      {
        "duration": 531,
        "start_time": "2023-08-29T07:58:50.984Z"
      },
      {
        "duration": 314,
        "start_time": "2023-08-29T07:59:07.333Z"
      },
      {
        "duration": 379,
        "start_time": "2023-08-29T08:01:35.877Z"
      },
      {
        "duration": 330,
        "start_time": "2023-08-29T08:01:52.776Z"
      },
      {
        "duration": 2,
        "start_time": "2023-08-29T08:18:05.645Z"
      },
      {
        "duration": 3,
        "start_time": "2023-08-29T08:18:28.100Z"
      },
      {
        "duration": 291,
        "start_time": "2023-08-29T08:37:33.493Z"
      },
      {
        "duration": 294,
        "start_time": "2023-08-29T08:39:23.577Z"
      },
      {
        "duration": 412,
        "start_time": "2023-08-29T08:39:52.781Z"
      },
      {
        "duration": 349,
        "start_time": "2023-08-29T08:40:27.280Z"
      },
      {
        "duration": 372,
        "start_time": "2023-08-29T08:41:33.992Z"
      },
      {
        "duration": 353,
        "start_time": "2023-08-29T08:42:11.383Z"
      },
      {
        "duration": 14,
        "start_time": "2023-08-29T09:01:59.580Z"
      },
      {
        "duration": 13,
        "start_time": "2023-08-29T09:02:07.490Z"
      },
      {
        "duration": 164,
        "start_time": "2023-08-29T09:02:18.193Z"
      },
      {
        "duration": 159,
        "start_time": "2023-08-29T09:07:52.283Z"
      },
      {
        "duration": 166,
        "start_time": "2023-08-29T09:08:18.812Z"
      },
      {
        "duration": 13,
        "start_time": "2023-08-29T09:09:08.096Z"
      },
      {
        "duration": 12,
        "start_time": "2023-08-29T09:09:21.014Z"
      },
      {
        "duration": 258,
        "start_time": "2023-08-29T09:09:24.979Z"
      },
      {
        "duration": 227,
        "start_time": "2023-08-29T09:20:56.747Z"
      },
      {
        "duration": 234,
        "start_time": "2023-08-29T09:21:59.669Z"
      },
      {
        "duration": 11,
        "start_time": "2023-08-29T09:29:17.980Z"
      },
      {
        "duration": 21,
        "start_time": "2023-08-29T09:32:10.649Z"
      },
      {
        "duration": 19,
        "start_time": "2023-08-29T09:32:14.166Z"
      },
      {
        "duration": 21,
        "start_time": "2023-08-29T09:33:35.947Z"
      },
      {
        "duration": 11,
        "start_time": "2023-08-29T11:37:20.085Z"
      },
      {
        "duration": 18,
        "start_time": "2023-08-29T11:38:02.997Z"
      },
      {
        "duration": 207,
        "start_time": "2023-08-29T11:38:14.048Z"
      },
      {
        "duration": 198,
        "start_time": "2023-08-29T11:40:05.621Z"
      },
      {
        "duration": 235,
        "start_time": "2023-08-29T11:40:44.205Z"
      },
      {
        "duration": 821,
        "start_time": "2023-08-29T11:47:36.628Z"
      },
      {
        "duration": 371,
        "start_time": "2023-08-29T11:48:01.708Z"
      },
      {
        "duration": 215,
        "start_time": "2023-08-29T11:48:47.486Z"
      },
      {
        "duration": 307,
        "start_time": "2023-08-29T11:51:50.590Z"
      },
      {
        "duration": 388,
        "start_time": "2023-08-29T11:52:03.333Z"
      },
      {
        "duration": 288,
        "start_time": "2023-08-29T11:53:46.693Z"
      },
      {
        "duration": 232,
        "start_time": "2023-08-29T11:54:53.936Z"
      },
      {
        "duration": 18,
        "start_time": "2023-08-29T11:55:08.883Z"
      },
      {
        "duration": 271,
        "start_time": "2023-08-29T11:55:17.027Z"
      },
      {
        "duration": 267,
        "start_time": "2023-08-29T12:08:58.645Z"
      },
      {
        "duration": 226,
        "start_time": "2023-08-29T12:09:07.764Z"
      },
      {
        "duration": 229,
        "start_time": "2023-08-29T12:09:15.661Z"
      },
      {
        "duration": 213,
        "start_time": "2023-08-29T12:09:22.581Z"
      },
      {
        "duration": 334,
        "start_time": "2023-08-29T12:09:27.961Z"
      },
      {
        "duration": 256,
        "start_time": "2023-08-29T12:09:30.381Z"
      },
      {
        "duration": 268,
        "start_time": "2023-08-29T12:09:33.238Z"
      },
      {
        "duration": 292,
        "start_time": "2023-08-29T12:09:45.173Z"
      },
      {
        "duration": 23,
        "start_time": "2023-08-29T12:40:36.744Z"
      },
      {
        "duration": 34,
        "start_time": "2023-08-29T12:46:36.606Z"
      },
      {
        "duration": 4,
        "start_time": "2023-08-29T12:47:37.545Z"
      },
      {
        "duration": 8,
        "start_time": "2023-08-29T12:48:24.529Z"
      },
      {
        "duration": 8,
        "start_time": "2023-08-29T12:48:48.904Z"
      },
      {
        "duration": 15,
        "start_time": "2023-08-29T12:49:03.576Z"
      },
      {
        "duration": 18,
        "start_time": "2023-08-29T12:50:26.929Z"
      },
      {
        "duration": 8,
        "start_time": "2023-08-29T13:24:23.221Z"
      },
      {
        "duration": 9,
        "start_time": "2023-08-29T13:30:58.110Z"
      },
      {
        "duration": 10,
        "start_time": "2023-08-29T13:32:40.733Z"
      },
      {
        "duration": 4,
        "start_time": "2023-08-29T13:33:19.125Z"
      },
      {
        "duration": 8,
        "start_time": "2023-08-29T13:33:25.557Z"
      },
      {
        "duration": 1166,
        "start_time": "2023-08-29T13:33:59.695Z"
      },
      {
        "duration": 54,
        "start_time": "2023-08-29T13:34:00.863Z"
      },
      {
        "duration": 5,
        "start_time": "2023-08-29T13:34:00.918Z"
      },
      {
        "duration": 94,
        "start_time": "2023-08-29T13:34:00.925Z"
      },
      {
        "duration": 71,
        "start_time": "2023-08-29T13:34:01.020Z"
      },
      {
        "duration": 111,
        "start_time": "2023-08-29T13:34:01.093Z"
      },
      {
        "duration": 89,
        "start_time": "2023-08-29T13:34:01.206Z"
      },
      {
        "duration": 36,
        "start_time": "2023-08-29T13:34:01.297Z"
      },
      {
        "duration": 54,
        "start_time": "2023-08-29T13:34:01.334Z"
      },
      {
        "duration": 61,
        "start_time": "2023-08-29T13:34:01.390Z"
      },
      {
        "duration": 42,
        "start_time": "2023-08-29T13:34:01.452Z"
      },
      {
        "duration": 26,
        "start_time": "2023-08-29T13:34:01.496Z"
      },
      {
        "duration": 43,
        "start_time": "2023-08-29T13:34:01.524Z"
      },
      {
        "duration": 51,
        "start_time": "2023-08-29T13:34:01.568Z"
      },
      {
        "duration": 45,
        "start_time": "2023-08-29T13:34:01.620Z"
      },
      {
        "duration": 43,
        "start_time": "2023-08-29T13:34:01.666Z"
      },
      {
        "duration": 61,
        "start_time": "2023-08-29T13:34:01.711Z"
      },
      {
        "duration": 194,
        "start_time": "2023-08-29T13:34:01.773Z"
      },
      {
        "duration": 154,
        "start_time": "2023-08-29T13:34:01.969Z"
      },
      {
        "duration": 161,
        "start_time": "2023-08-29T13:34:02.124Z"
      },
      {
        "duration": 7,
        "start_time": "2023-08-29T13:34:02.287Z"
      },
      {
        "duration": 29,
        "start_time": "2023-08-29T13:34:02.295Z"
      },
      {
        "duration": 4,
        "start_time": "2023-08-29T13:34:02.326Z"
      },
      {
        "duration": 1777,
        "start_time": "2023-08-29T13:34:02.332Z"
      },
      {
        "duration": 6,
        "start_time": "2023-08-29T13:34:04.111Z"
      },
      {
        "duration": 264,
        "start_time": "2023-08-29T13:34:04.118Z"
      },
      {
        "duration": 357,
        "start_time": "2023-08-29T13:34:04.384Z"
      },
      {
        "duration": 11,
        "start_time": "2023-08-29T13:34:04.750Z"
      },
      {
        "duration": 149,
        "start_time": "2023-08-29T13:34:04.762Z"
      },
      {
        "duration": 11,
        "start_time": "2023-08-29T13:34:04.912Z"
      },
      {
        "duration": 25,
        "start_time": "2023-08-29T13:34:04.924Z"
      },
      {
        "duration": 192,
        "start_time": "2023-08-29T13:34:04.951Z"
      },
      {
        "duration": 198,
        "start_time": "2023-08-29T13:34:05.144Z"
      },
      {
        "duration": 208,
        "start_time": "2023-08-29T13:34:05.343Z"
      },
      {
        "duration": 201,
        "start_time": "2023-08-29T13:34:05.553Z"
      },
      {
        "duration": 250,
        "start_time": "2023-08-29T13:34:05.756Z"
      },
      {
        "duration": 396,
        "start_time": "2023-08-29T13:34:06.008Z"
      },
      {
        "duration": 4,
        "start_time": "2023-08-29T13:34:06.406Z"
      },
      {
        "duration": 25,
        "start_time": "2023-08-29T13:34:06.411Z"
      },
      {
        "duration": 25,
        "start_time": "2023-08-29T13:34:06.438Z"
      },
      {
        "duration": 13,
        "start_time": "2023-08-29T13:34:06.464Z"
      },
      {
        "duration": 16,
        "start_time": "2023-08-29T13:34:06.478Z"
      },
      {
        "duration": 4,
        "start_time": "2023-08-29T13:42:59.744Z"
      },
      {
        "duration": 5,
        "start_time": "2023-08-29T13:43:05.086Z"
      },
      {
        "duration": 5,
        "start_time": "2023-08-29T13:43:18.310Z"
      },
      {
        "duration": 127,
        "start_time": "2023-08-29T13:44:31.007Z"
      },
      {
        "duration": 5,
        "start_time": "2023-08-29T13:44:39.455Z"
      },
      {
        "duration": 13,
        "start_time": "2023-08-29T16:24:31.775Z"
      },
      {
        "duration": 5,
        "start_time": "2023-08-29T16:25:10.355Z"
      },
      {
        "duration": 4,
        "start_time": "2023-08-29T16:28:28.164Z"
      },
      {
        "duration": 1111,
        "start_time": "2023-08-29T16:46:06.325Z"
      },
      {
        "duration": 57,
        "start_time": "2023-08-29T16:46:07.437Z"
      },
      {
        "duration": 6,
        "start_time": "2023-08-29T16:46:07.496Z"
      },
      {
        "duration": 37,
        "start_time": "2023-08-29T16:46:07.503Z"
      },
      {
        "duration": 11,
        "start_time": "2023-08-29T16:46:07.542Z"
      },
      {
        "duration": 23,
        "start_time": "2023-08-29T16:46:07.554Z"
      },
      {
        "duration": 19,
        "start_time": "2023-08-29T16:46:07.578Z"
      },
      {
        "duration": 33,
        "start_time": "2023-08-29T16:46:07.598Z"
      },
      {
        "duration": 25,
        "start_time": "2023-08-29T16:46:07.633Z"
      },
      {
        "duration": 18,
        "start_time": "2023-08-29T16:46:07.661Z"
      },
      {
        "duration": 17,
        "start_time": "2023-08-29T16:46:07.681Z"
      },
      {
        "duration": 15,
        "start_time": "2023-08-29T16:46:07.700Z"
      },
      {
        "duration": 15,
        "start_time": "2023-08-29T16:46:07.717Z"
      },
      {
        "duration": 16,
        "start_time": "2023-08-29T16:46:07.734Z"
      },
      {
        "duration": 14,
        "start_time": "2023-08-29T16:46:07.751Z"
      },
      {
        "duration": 13,
        "start_time": "2023-08-29T16:46:07.766Z"
      },
      {
        "duration": 75,
        "start_time": "2023-08-29T16:46:07.780Z"
      },
      {
        "duration": 248,
        "start_time": "2023-08-29T16:46:07.857Z"
      },
      {
        "duration": 158,
        "start_time": "2023-08-29T16:46:08.106Z"
      },
      {
        "duration": 144,
        "start_time": "2023-08-29T16:46:08.266Z"
      },
      {
        "duration": 5,
        "start_time": "2023-08-29T16:46:08.412Z"
      },
      {
        "duration": 32,
        "start_time": "2023-08-29T16:46:08.418Z"
      },
      {
        "duration": 6,
        "start_time": "2023-08-29T16:46:08.453Z"
      },
      {
        "duration": 1787,
        "start_time": "2023-08-29T16:46:08.460Z"
      },
      {
        "duration": 6,
        "start_time": "2023-08-29T16:46:10.249Z"
      },
      {
        "duration": 271,
        "start_time": "2023-08-29T16:46:10.256Z"
      },
      {
        "duration": 346,
        "start_time": "2023-08-29T16:46:10.528Z"
      },
      {
        "duration": 12,
        "start_time": "2023-08-29T16:46:10.877Z"
      },
      {
        "duration": 147,
        "start_time": "2023-08-29T16:46:10.890Z"
      },
      {
        "duration": 16,
        "start_time": "2023-08-29T16:46:11.039Z"
      },
      {
        "duration": 10,
        "start_time": "2023-08-29T16:46:11.057Z"
      },
      {
        "duration": 201,
        "start_time": "2023-08-29T16:46:11.068Z"
      },
      {
        "duration": 194,
        "start_time": "2023-08-29T16:46:11.271Z"
      },
      {
        "duration": 197,
        "start_time": "2023-08-29T16:46:11.466Z"
      },
      {
        "duration": 206,
        "start_time": "2023-08-29T16:46:11.665Z"
      },
      {
        "duration": 253,
        "start_time": "2023-08-29T16:46:11.873Z"
      },
      {
        "duration": 326,
        "start_time": "2023-08-29T16:46:12.128Z"
      },
      {
        "duration": 4,
        "start_time": "2023-08-29T16:46:12.456Z"
      },
      {
        "duration": 26,
        "start_time": "2023-08-29T16:46:12.462Z"
      },
      {
        "duration": 8,
        "start_time": "2023-08-29T16:46:12.489Z"
      },
      {
        "duration": 34,
        "start_time": "2023-08-29T16:46:12.498Z"
      },
      {
        "duration": 16,
        "start_time": "2023-08-29T16:46:12.534Z"
      },
      {
        "duration": 16,
        "start_time": "2023-08-29T16:46:12.551Z"
      },
      {
        "duration": 4,
        "start_time": "2023-08-29T16:46:12.569Z"
      },
      {
        "duration": 7,
        "start_time": "2023-08-29T16:46:12.574Z"
      },
      {
        "duration": 1311,
        "start_time": "2023-08-30T11:59:47.029Z"
      },
      {
        "duration": 94,
        "start_time": "2023-08-30T11:59:48.342Z"
      },
      {
        "duration": 6,
        "start_time": "2023-08-30T11:59:48.440Z"
      },
      {
        "duration": 25,
        "start_time": "2023-08-30T11:59:48.447Z"
      },
      {
        "duration": 16,
        "start_time": "2023-08-30T11:59:48.473Z"
      },
      {
        "duration": 22,
        "start_time": "2023-08-30T11:59:48.491Z"
      },
      {
        "duration": 18,
        "start_time": "2023-08-30T11:59:48.514Z"
      },
      {
        "duration": 16,
        "start_time": "2023-08-30T11:59:48.533Z"
      },
      {
        "duration": 23,
        "start_time": "2023-08-30T11:59:48.551Z"
      },
      {
        "duration": 30,
        "start_time": "2023-08-30T11:59:48.575Z"
      },
      {
        "duration": 27,
        "start_time": "2023-08-30T11:59:48.606Z"
      },
      {
        "duration": 14,
        "start_time": "2023-08-30T11:59:48.634Z"
      },
      {
        "duration": 37,
        "start_time": "2023-08-30T11:59:48.650Z"
      },
      {
        "duration": 73,
        "start_time": "2023-08-30T11:59:48.689Z"
      },
      {
        "duration": 38,
        "start_time": "2023-08-30T11:59:48.764Z"
      },
      {
        "duration": 15,
        "start_time": "2023-08-30T11:59:48.804Z"
      },
      {
        "duration": 29,
        "start_time": "2023-08-30T11:59:48.821Z"
      },
      {
        "duration": 172,
        "start_time": "2023-08-30T11:59:48.851Z"
      },
      {
        "duration": 160,
        "start_time": "2023-08-30T11:59:49.025Z"
      },
      {
        "duration": 156,
        "start_time": "2023-08-30T11:59:49.187Z"
      },
      {
        "duration": 5,
        "start_time": "2023-08-30T11:59:49.345Z"
      },
      {
        "duration": 20,
        "start_time": "2023-08-30T11:59:49.352Z"
      },
      {
        "duration": 16,
        "start_time": "2023-08-30T11:59:49.374Z"
      },
      {
        "duration": 1899,
        "start_time": "2023-08-30T11:59:49.392Z"
      },
      {
        "duration": 7,
        "start_time": "2023-08-30T11:59:51.293Z"
      },
      {
        "duration": 319,
        "start_time": "2023-08-30T11:59:51.302Z"
      },
      {
        "duration": 354,
        "start_time": "2023-08-30T11:59:51.626Z"
      },
      {
        "duration": 13,
        "start_time": "2023-08-30T11:59:51.982Z"
      },
      {
        "duration": 174,
        "start_time": "2023-08-30T11:59:51.997Z"
      },
      {
        "duration": 12,
        "start_time": "2023-08-30T11:59:52.173Z"
      },
      {
        "duration": 34,
        "start_time": "2023-08-30T11:59:52.187Z"
      },
      {
        "duration": 219,
        "start_time": "2023-08-30T11:59:52.223Z"
      },
      {
        "duration": 206,
        "start_time": "2023-08-30T11:59:52.444Z"
      },
      {
        "duration": 235,
        "start_time": "2023-08-30T11:59:52.652Z"
      },
      {
        "duration": 218,
        "start_time": "2023-08-30T11:59:52.889Z"
      },
      {
        "duration": 263,
        "start_time": "2023-08-30T11:59:53.109Z"
      },
      {
        "duration": 354,
        "start_time": "2023-08-30T11:59:53.374Z"
      },
      {
        "duration": 7,
        "start_time": "2023-08-30T11:59:53.730Z"
      },
      {
        "duration": 45,
        "start_time": "2023-08-30T11:59:53.738Z"
      },
      {
        "duration": 13,
        "start_time": "2023-08-30T11:59:53.786Z"
      },
      {
        "duration": 27,
        "start_time": "2023-08-30T11:59:53.801Z"
      },
      {
        "duration": 16,
        "start_time": "2023-08-30T11:59:53.830Z"
      },
      {
        "duration": 36,
        "start_time": "2023-08-30T11:59:53.848Z"
      },
      {
        "duration": 49,
        "start_time": "2023-08-30T11:59:53.885Z"
      },
      {
        "duration": 21,
        "start_time": "2023-08-30T11:59:53.936Z"
      },
      {
        "duration": 1168,
        "start_time": "2023-08-30T12:37:52.140Z"
      },
      {
        "duration": 51,
        "start_time": "2023-08-30T12:37:53.310Z"
      },
      {
        "duration": 5,
        "start_time": "2023-08-30T12:37:53.363Z"
      },
      {
        "duration": 32,
        "start_time": "2023-08-30T12:37:53.369Z"
      },
      {
        "duration": 12,
        "start_time": "2023-08-30T12:37:53.403Z"
      },
      {
        "duration": 33,
        "start_time": "2023-08-30T12:37:53.417Z"
      },
      {
        "duration": 14,
        "start_time": "2023-08-30T12:37:53.451Z"
      },
      {
        "duration": 14,
        "start_time": "2023-08-30T12:37:53.466Z"
      },
      {
        "duration": 43,
        "start_time": "2023-08-30T12:37:53.482Z"
      },
      {
        "duration": 22,
        "start_time": "2023-08-30T12:37:53.527Z"
      },
      {
        "duration": 24,
        "start_time": "2023-08-30T12:37:53.551Z"
      },
      {
        "duration": 46,
        "start_time": "2023-08-30T12:37:53.577Z"
      },
      {
        "duration": 17,
        "start_time": "2023-08-30T12:37:53.625Z"
      },
      {
        "duration": 29,
        "start_time": "2023-08-30T12:37:53.645Z"
      },
      {
        "duration": 34,
        "start_time": "2023-08-30T12:37:53.676Z"
      },
      {
        "duration": 6,
        "start_time": "2023-08-30T12:37:53.711Z"
      },
      {
        "duration": 27,
        "start_time": "2023-08-30T12:37:53.718Z"
      },
      {
        "duration": 177,
        "start_time": "2023-08-30T12:37:53.746Z"
      },
      {
        "duration": 163,
        "start_time": "2023-08-30T12:37:53.925Z"
      },
      {
        "duration": 148,
        "start_time": "2023-08-30T12:37:54.090Z"
      },
      {
        "duration": 5,
        "start_time": "2023-08-30T12:37:54.240Z"
      },
      {
        "duration": 32,
        "start_time": "2023-08-30T12:37:54.247Z"
      },
      {
        "duration": 10,
        "start_time": "2023-08-30T12:37:54.281Z"
      },
      {
        "duration": 1836,
        "start_time": "2023-08-30T12:37:54.293Z"
      },
      {
        "duration": 10,
        "start_time": "2023-08-30T12:37:56.130Z"
      },
      {
        "duration": 336,
        "start_time": "2023-08-30T12:37:56.141Z"
      },
      {
        "duration": 338,
        "start_time": "2023-08-30T12:37:56.479Z"
      },
      {
        "duration": 18,
        "start_time": "2023-08-30T12:37:56.819Z"
      },
      {
        "duration": 145,
        "start_time": "2023-08-30T12:37:56.838Z"
      },
      {
        "duration": 12,
        "start_time": "2023-08-30T12:37:56.985Z"
      },
      {
        "duration": 22,
        "start_time": "2023-08-30T12:37:56.999Z"
      },
      {
        "duration": 210,
        "start_time": "2023-08-30T12:37:57.023Z"
      },
      {
        "duration": 205,
        "start_time": "2023-08-30T12:37:57.235Z"
      },
      {
        "duration": 219,
        "start_time": "2023-08-30T12:37:57.442Z"
      },
      {
        "duration": 211,
        "start_time": "2023-08-30T12:37:57.663Z"
      },
      {
        "duration": 264,
        "start_time": "2023-08-30T12:37:57.875Z"
      },
      {
        "duration": 337,
        "start_time": "2023-08-30T12:37:58.141Z"
      },
      {
        "duration": 5,
        "start_time": "2023-08-30T12:37:58.479Z"
      },
      {
        "duration": 27,
        "start_time": "2023-08-30T12:37:58.485Z"
      },
      {
        "duration": 23,
        "start_time": "2023-08-30T12:37:58.513Z"
      },
      {
        "duration": 5,
        "start_time": "2023-08-30T12:37:58.540Z"
      },
      {
        "duration": 6,
        "start_time": "2023-08-30T12:37:58.546Z"
      },
      {
        "duration": 23,
        "start_time": "2023-08-30T12:37:58.553Z"
      },
      {
        "duration": 27,
        "start_time": "2023-08-30T12:37:58.578Z"
      },
      {
        "duration": 33,
        "start_time": "2023-08-30T12:37:58.606Z"
      },
      {
        "duration": 1028,
        "start_time": "2023-08-30T13:20:05.490Z"
      },
      {
        "duration": 50,
        "start_time": "2023-08-30T13:20:06.520Z"
      },
      {
        "duration": 5,
        "start_time": "2023-08-30T13:20:06.571Z"
      },
      {
        "duration": 47,
        "start_time": "2023-08-30T13:20:06.577Z"
      },
      {
        "duration": 41,
        "start_time": "2023-08-30T13:20:06.626Z"
      },
      {
        "duration": 48,
        "start_time": "2023-08-30T13:20:06.669Z"
      },
      {
        "duration": 4,
        "start_time": "2023-08-30T13:20:06.718Z"
      },
      {
        "duration": 15,
        "start_time": "2023-08-30T13:20:06.724Z"
      },
      {
        "duration": 35,
        "start_time": "2023-08-30T13:20:06.741Z"
      },
      {
        "duration": 34,
        "start_time": "2023-08-30T13:20:06.779Z"
      },
      {
        "duration": 21,
        "start_time": "2023-08-30T13:20:06.815Z"
      },
      {
        "duration": 30,
        "start_time": "2023-08-30T13:20:06.837Z"
      },
      {
        "duration": 8,
        "start_time": "2023-08-30T13:20:06.869Z"
      },
      {
        "duration": 11,
        "start_time": "2023-08-30T13:20:06.878Z"
      },
      {
        "duration": 10,
        "start_time": "2023-08-30T13:20:06.890Z"
      },
      {
        "duration": 7,
        "start_time": "2023-08-30T13:20:06.901Z"
      },
      {
        "duration": 21,
        "start_time": "2023-08-30T13:20:06.909Z"
      },
      {
        "duration": 162,
        "start_time": "2023-08-30T13:20:06.931Z"
      },
      {
        "duration": 158,
        "start_time": "2023-08-30T13:20:07.095Z"
      },
      {
        "duration": 147,
        "start_time": "2023-08-30T13:20:07.255Z"
      },
      {
        "duration": 4,
        "start_time": "2023-08-30T13:20:07.404Z"
      },
      {
        "duration": 26,
        "start_time": "2023-08-30T13:20:07.409Z"
      },
      {
        "duration": 6,
        "start_time": "2023-08-30T13:20:07.436Z"
      },
      {
        "duration": 1745,
        "start_time": "2023-08-30T13:20:07.444Z"
      },
      {
        "duration": 6,
        "start_time": "2023-08-30T13:20:09.190Z"
      },
      {
        "duration": 295,
        "start_time": "2023-08-30T13:20:09.198Z"
      },
      {
        "duration": 333,
        "start_time": "2023-08-30T13:20:09.495Z"
      },
      {
        "duration": 12,
        "start_time": "2023-08-30T13:20:09.833Z"
      },
      {
        "duration": 145,
        "start_time": "2023-08-30T13:20:09.846Z"
      },
      {
        "duration": 11,
        "start_time": "2023-08-30T13:20:09.993Z"
      },
      {
        "duration": 37,
        "start_time": "2023-08-30T13:20:10.006Z"
      },
      {
        "duration": 212,
        "start_time": "2023-08-30T13:20:10.045Z"
      },
      {
        "duration": 199,
        "start_time": "2023-08-30T13:20:10.259Z"
      },
      {
        "duration": 198,
        "start_time": "2023-08-30T13:20:10.459Z"
      },
      {
        "duration": 219,
        "start_time": "2023-08-30T13:20:10.659Z"
      },
      {
        "duration": 264,
        "start_time": "2023-08-30T13:20:10.880Z"
      },
      {
        "duration": 336,
        "start_time": "2023-08-30T13:20:11.146Z"
      },
      {
        "duration": 4,
        "start_time": "2023-08-30T13:20:11.483Z"
      },
      {
        "duration": 17,
        "start_time": "2023-08-30T13:20:11.489Z"
      },
      {
        "duration": 8,
        "start_time": "2023-08-30T13:20:11.508Z"
      },
      {
        "duration": 20,
        "start_time": "2023-08-30T13:20:11.518Z"
      },
      {
        "duration": 21,
        "start_time": "2023-08-30T13:20:11.539Z"
      },
      {
        "duration": 12,
        "start_time": "2023-08-30T13:20:11.561Z"
      },
      {
        "duration": 24,
        "start_time": "2023-08-30T13:20:11.574Z"
      },
      {
        "duration": 21,
        "start_time": "2023-08-30T13:20:11.599Z"
      },
      {
        "duration": 12,
        "start_time": "2023-08-30T14:03:43.363Z"
      },
      {
        "duration": 21,
        "start_time": "2023-08-30T14:04:38.075Z"
      },
      {
        "duration": 109,
        "start_time": "2023-08-30T14:18:30.636Z"
      },
      {
        "duration": 272,
        "start_time": "2023-08-30T14:37:22.027Z"
      },
      {
        "duration": 183,
        "start_time": "2023-08-30T14:37:26.011Z"
      },
      {
        "duration": 167,
        "start_time": "2023-08-30T14:37:28.811Z"
      },
      {
        "duration": 201,
        "start_time": "2023-08-30T14:37:42.756Z"
      },
      {
        "duration": 191,
        "start_time": "2023-08-30T14:37:46.821Z"
      },
      {
        "duration": 201,
        "start_time": "2023-08-30T14:37:52.363Z"
      },
      {
        "duration": 271,
        "start_time": "2023-08-30T14:37:58.390Z"
      },
      {
        "duration": 372,
        "start_time": "2023-08-30T14:38:12.835Z"
      },
      {
        "duration": 280,
        "start_time": "2023-08-30T14:38:17.203Z"
      },
      {
        "duration": 288,
        "start_time": "2023-08-30T14:46:15.585Z"
      },
      {
        "duration": 145,
        "start_time": "2023-08-30T15:41:00.457Z"
      },
      {
        "duration": 103,
        "start_time": "2023-08-30T16:03:40.416Z"
      },
      {
        "duration": 3,
        "start_time": "2023-08-30T16:09:20.763Z"
      },
      {
        "duration": 76,
        "start_time": "2023-08-30T16:12:33.877Z"
      },
      {
        "duration": 148,
        "start_time": "2023-08-30T16:15:42.815Z"
      },
      {
        "duration": 81,
        "start_time": "2023-08-30T16:25:56.174Z"
      },
      {
        "duration": 50,
        "start_time": "2023-08-30T18:47:09.560Z"
      },
      {
        "duration": 1439,
        "start_time": "2023-08-30T18:47:31.883Z"
      },
      {
        "duration": 94,
        "start_time": "2023-08-30T18:47:33.325Z"
      },
      {
        "duration": 6,
        "start_time": "2023-08-30T18:47:33.421Z"
      },
      {
        "duration": 39,
        "start_time": "2023-08-30T18:47:33.429Z"
      },
      {
        "duration": 30,
        "start_time": "2023-08-30T18:47:33.470Z"
      },
      {
        "duration": 24,
        "start_time": "2023-08-30T18:47:33.501Z"
      },
      {
        "duration": 14,
        "start_time": "2023-08-30T18:47:33.526Z"
      },
      {
        "duration": 27,
        "start_time": "2023-08-30T18:47:33.542Z"
      },
      {
        "duration": 26,
        "start_time": "2023-08-30T18:47:33.571Z"
      },
      {
        "duration": 30,
        "start_time": "2023-08-30T18:47:33.601Z"
      },
      {
        "duration": 57,
        "start_time": "2023-08-30T18:47:33.633Z"
      },
      {
        "duration": 68,
        "start_time": "2023-08-30T18:47:33.691Z"
      },
      {
        "duration": 266,
        "start_time": "2023-08-30T18:47:33.760Z"
      },
      {
        "duration": 17,
        "start_time": "2023-08-30T18:47:34.028Z"
      },
      {
        "duration": 15,
        "start_time": "2023-08-30T18:47:34.047Z"
      },
      {
        "duration": 12,
        "start_time": "2023-08-30T18:47:34.063Z"
      },
      {
        "duration": 14,
        "start_time": "2023-08-30T18:47:34.076Z"
      },
      {
        "duration": 9,
        "start_time": "2023-08-30T18:47:34.092Z"
      },
      {
        "duration": 198,
        "start_time": "2023-08-30T18:47:34.103Z"
      },
      {
        "duration": 186,
        "start_time": "2023-08-30T18:47:34.303Z"
      },
      {
        "duration": 206,
        "start_time": "2023-08-30T18:47:34.490Z"
      },
      {
        "duration": 7,
        "start_time": "2023-08-30T18:47:34.701Z"
      },
      {
        "duration": 31,
        "start_time": "2023-08-30T18:47:34.710Z"
      },
      {
        "duration": 9,
        "start_time": "2023-08-30T18:47:34.743Z"
      },
      {
        "duration": 2043,
        "start_time": "2023-08-30T18:47:34.755Z"
      },
      {
        "duration": 7,
        "start_time": "2023-08-30T18:47:36.800Z"
      },
      {
        "duration": 338,
        "start_time": "2023-08-30T18:47:36.809Z"
      },
      {
        "duration": 366,
        "start_time": "2023-08-30T18:47:37.150Z"
      },
      {
        "duration": 12,
        "start_time": "2023-08-30T18:47:37.517Z"
      },
      {
        "duration": 173,
        "start_time": "2023-08-30T18:47:37.530Z"
      },
      {
        "duration": 12,
        "start_time": "2023-08-30T18:47:37.705Z"
      },
      {
        "duration": 23,
        "start_time": "2023-08-30T18:47:37.718Z"
      },
      {
        "duration": 228,
        "start_time": "2023-08-30T18:47:37.742Z"
      },
      {
        "duration": 251,
        "start_time": "2023-08-30T18:47:37.972Z"
      },
      {
        "duration": 243,
        "start_time": "2023-08-30T18:47:38.225Z"
      },
      {
        "duration": 287,
        "start_time": "2023-08-30T18:47:38.471Z"
      },
      {
        "duration": 296,
        "start_time": "2023-08-30T18:47:38.759Z"
      },
      {
        "duration": 412,
        "start_time": "2023-08-30T18:47:39.058Z"
      },
      {
        "duration": 4,
        "start_time": "2023-08-30T18:47:39.472Z"
      },
      {
        "duration": 38,
        "start_time": "2023-08-30T18:47:39.478Z"
      },
      {
        "duration": 20,
        "start_time": "2023-08-30T18:47:39.518Z"
      },
      {
        "duration": 56,
        "start_time": "2023-08-30T18:47:39.540Z"
      },
      {
        "duration": 27,
        "start_time": "2023-08-30T18:47:39.598Z"
      },
      {
        "duration": 26,
        "start_time": "2023-08-30T18:47:39.627Z"
      },
      {
        "duration": 31,
        "start_time": "2023-08-30T18:47:39.655Z"
      },
      {
        "duration": 83,
        "start_time": "2023-08-30T18:47:39.688Z"
      },
      {
        "duration": 141,
        "start_time": "2023-08-30T18:49:38.423Z"
      },
      {
        "duration": 27,
        "start_time": "2023-08-30T18:50:42.549Z"
      },
      {
        "duration": 15,
        "start_time": "2023-08-30T18:52:01.522Z"
      },
      {
        "duration": 23,
        "start_time": "2023-08-30T18:52:07.636Z"
      },
      {
        "duration": 31,
        "start_time": "2023-08-30T18:52:23.619Z"
      },
      {
        "duration": 26,
        "start_time": "2023-08-30T18:52:30.697Z"
      },
      {
        "duration": 30,
        "start_time": "2023-08-30T18:52:51.990Z"
      },
      {
        "duration": 24,
        "start_time": "2023-08-30T18:57:52.545Z"
      },
      {
        "duration": 20,
        "start_time": "2023-08-30T18:58:50.506Z"
      },
      {
        "duration": 17,
        "start_time": "2023-08-30T18:58:59.029Z"
      },
      {
        "duration": 18,
        "start_time": "2023-08-30T18:59:18.610Z"
      },
      {
        "duration": 48,
        "start_time": "2023-08-30T18:59:27.865Z"
      },
      {
        "duration": 47,
        "start_time": "2023-08-30T19:00:04.112Z"
      },
      {
        "duration": 17,
        "start_time": "2023-08-30T19:00:27.935Z"
      },
      {
        "duration": 18,
        "start_time": "2023-08-30T19:00:43.690Z"
      },
      {
        "duration": 6,
        "start_time": "2023-08-30T19:01:32.587Z"
      },
      {
        "duration": 23,
        "start_time": "2023-08-30T19:01:50.675Z"
      },
      {
        "duration": 25,
        "start_time": "2023-08-30T19:02:40.512Z"
      },
      {
        "duration": 13,
        "start_time": "2023-08-30T19:02:50.694Z"
      },
      {
        "duration": 13,
        "start_time": "2023-08-30T19:03:22.441Z"
      },
      {
        "duration": 9,
        "start_time": "2023-08-30T19:03:33.104Z"
      },
      {
        "duration": 13,
        "start_time": "2023-08-30T19:04:14.925Z"
      },
      {
        "duration": 10,
        "start_time": "2023-08-30T19:04:19.235Z"
      },
      {
        "duration": 10,
        "start_time": "2023-08-30T19:04:23.390Z"
      },
      {
        "duration": 15,
        "start_time": "2023-08-30T19:04:27.562Z"
      },
      {
        "duration": 14,
        "start_time": "2023-08-30T19:04:31.631Z"
      },
      {
        "duration": 11,
        "start_time": "2023-08-30T19:04:35.208Z"
      },
      {
        "duration": 12,
        "start_time": "2023-08-30T19:04:40.890Z"
      },
      {
        "duration": 11,
        "start_time": "2023-08-30T19:04:45.912Z"
      },
      {
        "duration": 12,
        "start_time": "2023-08-30T19:04:52.826Z"
      },
      {
        "duration": 27,
        "start_time": "2023-08-30T19:05:31.393Z"
      },
      {
        "duration": 4,
        "start_time": "2023-08-30T19:50:44.398Z"
      },
      {
        "duration": 71,
        "start_time": "2023-08-30T19:50:46.086Z"
      },
      {
        "duration": 4,
        "start_time": "2023-08-30T19:50:49.138Z"
      },
      {
        "duration": 15,
        "start_time": "2023-08-30T19:50:50.811Z"
      },
      {
        "duration": 14,
        "start_time": "2023-08-30T19:50:53.059Z"
      },
      {
        "duration": 14,
        "start_time": "2023-08-30T19:50:56.054Z"
      },
      {
        "duration": 5,
        "start_time": "2023-08-30T19:50:59.277Z"
      },
      {
        "duration": 7,
        "start_time": "2023-08-30T19:51:04.395Z"
      },
      {
        "duration": 11,
        "start_time": "2023-08-30T19:51:07.231Z"
      },
      {
        "duration": 19,
        "start_time": "2023-08-30T19:51:12.282Z"
      },
      {
        "duration": 13,
        "start_time": "2023-08-30T19:51:17.476Z"
      },
      {
        "duration": 8,
        "start_time": "2023-08-30T19:51:22.016Z"
      },
      {
        "duration": 6,
        "start_time": "2023-08-30T19:51:26.094Z"
      },
      {
        "duration": 19,
        "start_time": "2023-08-30T19:51:41.025Z"
      },
      {
        "duration": 8,
        "start_time": "2023-08-30T19:51:51.443Z"
      },
      {
        "duration": 5,
        "start_time": "2023-08-30T19:51:55.079Z"
      },
      {
        "duration": 8,
        "start_time": "2023-08-30T19:52:04.275Z"
      },
      {
        "duration": 19,
        "start_time": "2023-08-30T20:00:34.694Z"
      },
      {
        "duration": 10,
        "start_time": "2023-08-30T20:02:39.688Z"
      },
      {
        "duration": 7,
        "start_time": "2023-08-30T20:02:44.275Z"
      },
      {
        "duration": 1446,
        "start_time": "2023-08-30T20:03:26.201Z"
      },
      {
        "duration": 8,
        "start_time": "2023-08-30T20:03:33.284Z"
      },
      {
        "duration": 1407,
        "start_time": "2023-08-30T20:04:39.606Z"
      },
      {
        "duration": 9,
        "start_time": "2023-08-30T20:05:14.807Z"
      },
      {
        "duration": 8,
        "start_time": "2023-08-30T20:06:08.788Z"
      },
      {
        "duration": 5,
        "start_time": "2023-08-30T20:07:11.519Z"
      },
      {
        "duration": 10,
        "start_time": "2023-08-30T20:07:14.687Z"
      },
      {
        "duration": 182,
        "start_time": "2023-08-30T20:08:13.072Z"
      },
      {
        "duration": 171,
        "start_time": "2023-08-30T20:10:11.273Z"
      },
      {
        "duration": 1332,
        "start_time": "2023-08-31T05:06:50.473Z"
      },
      {
        "duration": 119,
        "start_time": "2023-08-31T05:06:51.808Z"
      },
      {
        "duration": 6,
        "start_time": "2023-08-31T05:06:51.929Z"
      },
      {
        "duration": 49,
        "start_time": "2023-08-31T05:06:51.937Z"
      },
      {
        "duration": 14,
        "start_time": "2023-08-31T05:06:51.988Z"
      },
      {
        "duration": 29,
        "start_time": "2023-08-31T05:06:52.003Z"
      },
      {
        "duration": 3,
        "start_time": "2023-08-31T05:06:52.034Z"
      },
      {
        "duration": 15,
        "start_time": "2023-08-31T05:06:52.038Z"
      },
      {
        "duration": 12,
        "start_time": "2023-08-31T05:06:52.054Z"
      },
      {
        "duration": 38,
        "start_time": "2023-08-31T05:06:52.068Z"
      },
      {
        "duration": 14,
        "start_time": "2023-08-31T05:06:52.111Z"
      },
      {
        "duration": 21,
        "start_time": "2023-08-31T05:06:52.128Z"
      },
      {
        "duration": 11,
        "start_time": "2023-08-31T05:06:52.152Z"
      },
      {
        "duration": 22,
        "start_time": "2023-08-31T05:06:52.167Z"
      },
      {
        "duration": 13,
        "start_time": "2023-08-31T05:06:52.191Z"
      },
      {
        "duration": 24,
        "start_time": "2023-08-31T05:06:52.206Z"
      },
      {
        "duration": 19,
        "start_time": "2023-08-31T05:06:52.232Z"
      },
      {
        "duration": 8,
        "start_time": "2023-08-31T05:06:52.252Z"
      },
      {
        "duration": 17,
        "start_time": "2023-08-31T05:06:52.261Z"
      },
      {
        "duration": 13,
        "start_time": "2023-08-31T05:06:52.281Z"
      },
      {
        "duration": 322,
        "start_time": "2023-08-31T05:06:52.295Z"
      },
      {
        "duration": 195,
        "start_time": "2023-08-31T05:06:52.619Z"
      },
      {
        "duration": 182,
        "start_time": "2023-08-31T05:06:52.816Z"
      },
      {
        "duration": 7,
        "start_time": "2023-08-31T05:06:53.001Z"
      },
      {
        "duration": 17,
        "start_time": "2023-08-31T05:06:53.010Z"
      },
      {
        "duration": 25,
        "start_time": "2023-08-31T05:06:53.029Z"
      },
      {
        "duration": 1972,
        "start_time": "2023-08-31T05:06:53.056Z"
      },
      {
        "duration": 19,
        "start_time": "2023-08-31T05:06:55.030Z"
      },
      {
        "duration": 321,
        "start_time": "2023-08-31T05:06:55.051Z"
      },
      {
        "duration": 348,
        "start_time": "2023-08-31T05:06:55.374Z"
      },
      {
        "duration": 13,
        "start_time": "2023-08-31T05:06:55.724Z"
      },
      {
        "duration": 166,
        "start_time": "2023-08-31T05:06:55.750Z"
      },
      {
        "duration": 17,
        "start_time": "2023-08-31T05:06:55.918Z"
      },
      {
        "duration": 25,
        "start_time": "2023-08-31T05:06:55.937Z"
      },
      {
        "duration": 353,
        "start_time": "2023-08-31T05:06:55.965Z"
      },
      {
        "duration": 290,
        "start_time": "2023-08-31T05:06:56.320Z"
      },
      {
        "duration": 310,
        "start_time": "2023-08-31T05:06:56.612Z"
      },
      {
        "duration": 262,
        "start_time": "2023-08-31T05:06:56.924Z"
      },
      {
        "duration": 285,
        "start_time": "2023-08-31T05:06:57.188Z"
      },
      {
        "duration": 459,
        "start_time": "2023-08-31T05:06:57.475Z"
      },
      {
        "duration": 4,
        "start_time": "2023-08-31T05:06:57.938Z"
      },
      {
        "duration": 18,
        "start_time": "2023-08-31T05:06:57.950Z"
      },
      {
        "duration": 11,
        "start_time": "2023-08-31T05:06:57.970Z"
      },
      {
        "duration": 6,
        "start_time": "2023-08-31T05:06:57.983Z"
      },
      {
        "duration": 6,
        "start_time": "2023-08-31T05:06:57.991Z"
      },
      {
        "duration": 52,
        "start_time": "2023-08-31T05:06:57.998Z"
      },
      {
        "duration": 9,
        "start_time": "2023-08-31T05:06:58.052Z"
      },
      {
        "duration": 13,
        "start_time": "2023-08-31T05:06:58.063Z"
      },
      {
        "duration": 254,
        "start_time": "2023-08-31T05:08:29.561Z"
      },
      {
        "duration": 234,
        "start_time": "2023-08-31T05:08:36.896Z"
      },
      {
        "duration": 732,
        "start_time": "2023-08-31T05:15:55.128Z"
      },
      {
        "duration": 1075,
        "start_time": "2023-08-31T05:17:26.440Z"
      },
      {
        "duration": 828,
        "start_time": "2023-08-31T05:19:32.744Z"
      },
      {
        "duration": 9,
        "start_time": "2023-08-31T05:23:42.896Z"
      },
      {
        "duration": 4,
        "start_time": "2023-08-31T05:23:48.015Z"
      },
      {
        "duration": 132,
        "start_time": "2023-08-31T05:25:26.096Z"
      },
      {
        "duration": 714,
        "start_time": "2023-08-31T05:27:09.664Z"
      },
      {
        "duration": 202,
        "start_time": "2023-08-31T05:29:16.840Z"
      },
      {
        "duration": 298,
        "start_time": "2023-08-31T05:29:41.128Z"
      },
      {
        "duration": 300,
        "start_time": "2023-08-31T05:29:50.767Z"
      },
      {
        "duration": 123,
        "start_time": "2023-08-31T05:50:22.338Z"
      },
      {
        "duration": 127,
        "start_time": "2023-08-31T05:50:52.883Z"
      },
      {
        "duration": 13,
        "start_time": "2023-08-31T05:51:15.594Z"
      },
      {
        "duration": 17,
        "start_time": "2023-08-31T05:58:29.748Z"
      },
      {
        "duration": 16,
        "start_time": "2023-08-31T05:58:34.572Z"
      },
      {
        "duration": 153,
        "start_time": "2023-08-31T06:12:29.365Z"
      },
      {
        "duration": 132,
        "start_time": "2023-08-31T06:12:36.765Z"
      },
      {
        "duration": 140,
        "start_time": "2023-08-31T06:12:59.781Z"
      },
      {
        "duration": 171,
        "start_time": "2023-08-31T06:13:18.661Z"
      },
      {
        "duration": 14,
        "start_time": "2023-08-31T06:14:15.597Z"
      },
      {
        "duration": 166,
        "start_time": "2023-08-31T06:14:18.821Z"
      },
      {
        "duration": 208,
        "start_time": "2023-08-31T06:14:55.895Z"
      },
      {
        "duration": 175,
        "start_time": "2023-08-31T06:15:03.501Z"
      },
      {
        "duration": 278,
        "start_time": "2023-08-31T06:16:18.765Z"
      },
      {
        "duration": 189,
        "start_time": "2023-08-31T06:16:30.727Z"
      },
      {
        "duration": 181,
        "start_time": "2023-08-31T06:16:36.570Z"
      },
      {
        "duration": 137,
        "start_time": "2023-08-31T06:28:24.081Z"
      },
      {
        "duration": 160,
        "start_time": "2023-08-31T06:29:40.723Z"
      },
      {
        "duration": 145,
        "start_time": "2023-08-31T06:30:15.557Z"
      },
      {
        "duration": 34,
        "start_time": "2023-08-31T06:39:09.138Z"
      },
      {
        "duration": 294,
        "start_time": "2023-08-31T06:39:33.395Z"
      },
      {
        "duration": 122,
        "start_time": "2023-08-31T06:52:20.478Z"
      },
      {
        "duration": 9,
        "start_time": "2023-08-31T06:54:00.596Z"
      },
      {
        "duration": 28,
        "start_time": "2023-08-31T07:28:34.093Z"
      },
      {
        "duration": 12,
        "start_time": "2023-08-31T07:29:26.686Z"
      },
      {
        "duration": 14,
        "start_time": "2023-08-31T07:29:40.388Z"
      },
      {
        "duration": 36,
        "start_time": "2023-08-31T07:30:10.268Z"
      },
      {
        "duration": 8,
        "start_time": "2023-08-31T07:30:23.733Z"
      },
      {
        "duration": 13,
        "start_time": "2023-08-31T07:30:34.548Z"
      },
      {
        "duration": 28,
        "start_time": "2023-08-31T07:31:02.285Z"
      },
      {
        "duration": 9,
        "start_time": "2023-08-31T07:40:51.893Z"
      },
      {
        "duration": 5,
        "start_time": "2023-08-31T07:41:02.702Z"
      },
      {
        "duration": 127,
        "start_time": "2023-08-31T07:45:39.460Z"
      },
      {
        "duration": 21,
        "start_time": "2023-08-31T07:45:48.524Z"
      },
      {
        "duration": 20,
        "start_time": "2023-08-31T07:48:35.168Z"
      },
      {
        "duration": 14,
        "start_time": "2023-08-31T07:50:36.414Z"
      },
      {
        "duration": 12,
        "start_time": "2023-08-31T07:50:49.046Z"
      },
      {
        "duration": 10,
        "start_time": "2023-08-31T07:50:53.894Z"
      },
      {
        "duration": 23,
        "start_time": "2023-08-31T07:53:44.926Z"
      },
      {
        "duration": 94,
        "start_time": "2023-08-31T07:54:31.992Z"
      },
      {
        "duration": 4702,
        "start_time": "2023-08-31T07:54:49.660Z"
      },
      {
        "duration": 11,
        "start_time": "2023-08-31T08:17:00.217Z"
      },
      {
        "duration": 14,
        "start_time": "2023-08-31T08:17:12.504Z"
      },
      {
        "duration": 13,
        "start_time": "2023-08-31T08:17:30.633Z"
      },
      {
        "duration": 15570,
        "start_time": "2023-08-31T08:17:53.017Z"
      },
      {
        "duration": 16245,
        "start_time": "2023-08-31T08:18:59.825Z"
      },
      {
        "duration": 16571,
        "start_time": "2023-08-31T08:19:47.914Z"
      },
      {
        "duration": 42,
        "start_time": "2023-08-31T08:35:39.596Z"
      },
      {
        "duration": 38,
        "start_time": "2023-08-31T08:35:56.590Z"
      },
      {
        "duration": 40,
        "start_time": "2023-08-31T08:36:47.763Z"
      },
      {
        "duration": 5,
        "start_time": "2023-08-31T08:39:31.046Z"
      },
      {
        "duration": 6,
        "start_time": "2023-08-31T08:45:52.927Z"
      },
      {
        "duration": 254,
        "start_time": "2023-08-31T08:45:55.668Z"
      },
      {
        "duration": 283,
        "start_time": "2023-08-31T08:54:49.417Z"
      },
      {
        "duration": 12,
        "start_time": "2023-08-31T09:08:05.788Z"
      },
      {
        "duration": 11,
        "start_time": "2023-08-31T09:12:44.494Z"
      },
      {
        "duration": 11,
        "start_time": "2023-08-31T09:12:58.486Z"
      },
      {
        "duration": 280,
        "start_time": "2023-08-31T09:13:28.939Z"
      },
      {
        "duration": 141,
        "start_time": "2023-08-31T09:15:26.203Z"
      },
      {
        "duration": 261,
        "start_time": "2023-08-31T09:15:52.858Z"
      },
      {
        "duration": 237,
        "start_time": "2023-08-31T09:19:16.700Z"
      },
      {
        "duration": 237,
        "start_time": "2023-08-31T09:19:59.251Z"
      },
      {
        "duration": 151,
        "start_time": "2023-08-31T09:20:16.307Z"
      },
      {
        "duration": 245,
        "start_time": "2023-08-31T09:21:27.884Z"
      },
      {
        "duration": 254,
        "start_time": "2023-08-31T09:28:52.923Z"
      },
      {
        "duration": 11,
        "start_time": "2023-08-31T09:29:24.219Z"
      },
      {
        "duration": 12,
        "start_time": "2023-08-31T09:29:45.076Z"
      },
      {
        "duration": 260,
        "start_time": "2023-08-31T09:29:48.467Z"
      },
      {
        "duration": 239,
        "start_time": "2023-08-31T09:29:52.740Z"
      },
      {
        "duration": 281,
        "start_time": "2023-08-31T09:32:12.268Z"
      },
      {
        "duration": 272,
        "start_time": "2023-08-31T09:32:36.693Z"
      },
      {
        "duration": 193,
        "start_time": "2023-08-31T09:35:22.341Z"
      },
      {
        "duration": 1454,
        "start_time": "2023-08-31T10:43:15.635Z"
      },
      {
        "duration": 269,
        "start_time": "2023-08-31T10:44:28.824Z"
      },
      {
        "duration": 272,
        "start_time": "2023-08-31T10:47:14.601Z"
      },
      {
        "duration": 19,
        "start_time": "2023-08-31T10:56:12.276Z"
      },
      {
        "duration": 28,
        "start_time": "2023-08-31T10:56:50.520Z"
      },
      {
        "duration": 19,
        "start_time": "2023-08-31T10:57:21.929Z"
      },
      {
        "duration": 29,
        "start_time": "2023-08-31T10:58:48.895Z"
      },
      {
        "duration": 184,
        "start_time": "2023-08-31T11:03:55.816Z"
      },
      {
        "duration": 295,
        "start_time": "2023-08-31T11:04:56.777Z"
      },
      {
        "duration": 17,
        "start_time": "2023-08-31T11:09:47.320Z"
      },
      {
        "duration": 282,
        "start_time": "2023-08-31T11:10:12.696Z"
      },
      {
        "duration": 17,
        "start_time": "2023-08-31T11:11:08.937Z"
      },
      {
        "duration": 389,
        "start_time": "2023-08-31T11:12:48.380Z"
      },
      {
        "duration": 264,
        "start_time": "2023-08-31T11:12:55.676Z"
      },
      {
        "duration": 269,
        "start_time": "2023-08-31T11:13:43.544Z"
      },
      {
        "duration": 271,
        "start_time": "2023-08-31T11:13:53.336Z"
      },
      {
        "duration": 1026,
        "start_time": "2023-08-31T11:16:50.200Z"
      },
      {
        "duration": 58,
        "start_time": "2023-08-31T11:16:51.231Z"
      },
      {
        "duration": 5,
        "start_time": "2023-08-31T11:16:51.290Z"
      },
      {
        "duration": 31,
        "start_time": "2023-08-31T11:16:51.297Z"
      },
      {
        "duration": 11,
        "start_time": "2023-08-31T11:16:51.329Z"
      },
      {
        "duration": 54,
        "start_time": "2023-08-31T11:16:51.341Z"
      },
      {
        "duration": 25,
        "start_time": "2023-08-31T11:16:51.396Z"
      },
      {
        "duration": 13,
        "start_time": "2023-08-31T11:16:51.422Z"
      },
      {
        "duration": 16,
        "start_time": "2023-08-31T11:16:51.436Z"
      },
      {
        "duration": 32,
        "start_time": "2023-08-31T11:16:51.455Z"
      },
      {
        "duration": 34,
        "start_time": "2023-08-31T11:16:51.488Z"
      },
      {
        "duration": 21,
        "start_time": "2023-08-31T11:16:51.524Z"
      },
      {
        "duration": 12,
        "start_time": "2023-08-31T11:16:51.547Z"
      },
      {
        "duration": 10,
        "start_time": "2023-08-31T11:16:51.560Z"
      },
      {
        "duration": 15,
        "start_time": "2023-08-31T11:16:51.571Z"
      },
      {
        "duration": 38,
        "start_time": "2023-08-31T11:16:51.588Z"
      },
      {
        "duration": 7,
        "start_time": "2023-08-31T11:16:51.629Z"
      },
      {
        "duration": 18,
        "start_time": "2023-08-31T11:16:51.637Z"
      },
      {
        "duration": 22,
        "start_time": "2023-08-31T11:16:51.656Z"
      },
      {
        "duration": 24,
        "start_time": "2023-08-31T11:16:51.679Z"
      },
      {
        "duration": 259,
        "start_time": "2023-08-31T11:16:51.705Z"
      },
      {
        "duration": 19,
        "start_time": "2023-08-31T11:16:51.966Z"
      },
      {
        "duration": 164,
        "start_time": "2023-08-31T11:16:51.987Z"
      },
      {
        "duration": 167,
        "start_time": "2023-08-31T11:16:52.152Z"
      },
      {
        "duration": 179,
        "start_time": "2023-08-31T11:16:52.320Z"
      },
      {
        "duration": 161,
        "start_time": "2023-08-31T11:16:52.500Z"
      },
      {
        "duration": 8,
        "start_time": "2023-08-31T11:16:52.663Z"
      },
      {
        "duration": 29,
        "start_time": "2023-08-31T11:16:52.675Z"
      },
      {
        "duration": 237,
        "start_time": "2023-08-31T11:16:52.706Z"
      },
      {
        "duration": 11,
        "start_time": "2023-08-31T11:16:52.945Z"
      },
      {
        "duration": 1613,
        "start_time": "2023-08-31T11:16:52.957Z"
      },
      {
        "duration": 22,
        "start_time": "2023-08-31T11:16:54.571Z"
      },
      {
        "duration": 4,
        "start_time": "2023-08-31T11:16:54.595Z"
      },
      {
        "duration": 4593,
        "start_time": "2023-08-31T11:16:54.600Z"
      },
      {
        "duration": 16276,
        "start_time": "2023-08-31T11:16:59.195Z"
      },
      {
        "duration": 25,
        "start_time": "2023-08-31T11:17:15.472Z"
      },
      {
        "duration": 27,
        "start_time": "2023-08-31T11:17:15.498Z"
      },
      {
        "duration": 38,
        "start_time": "2023-08-31T11:17:15.526Z"
      },
      {
        "duration": 302,
        "start_time": "2023-08-31T11:17:15.566Z"
      },
      {
        "duration": 367,
        "start_time": "2023-08-31T11:17:15.870Z"
      },
      {
        "duration": 16,
        "start_time": "2023-08-31T11:17:16.239Z"
      },
      {
        "duration": 155,
        "start_time": "2023-08-31T11:17:16.257Z"
      },
      {
        "duration": 273,
        "start_time": "2023-08-31T11:17:16.413Z"
      },
      {
        "duration": 12,
        "start_time": "2023-08-31T11:17:16.687Z"
      },
      {
        "duration": 27,
        "start_time": "2023-08-31T11:17:16.701Z"
      },
      {
        "duration": 275,
        "start_time": "2023-08-31T11:17:16.729Z"
      },
      {
        "duration": 251,
        "start_time": "2023-08-31T11:17:17.005Z"
      },
      {
        "duration": 91993,
        "start_time": "2023-08-31T11:17:17.258Z"
      },
      {
        "duration": 298,
        "start_time": "2023-08-31T11:18:49.253Z"
      },
      {
        "duration": 271,
        "start_time": "2023-08-31T11:18:49.553Z"
      },
      {
        "duration": 178,
        "start_time": "2023-08-31T11:18:49.825Z"
      },
      {
        "duration": 195,
        "start_time": "2023-08-31T11:18:50.005Z"
      },
      {
        "duration": 179,
        "start_time": "2023-08-31T11:18:50.202Z"
      },
      {
        "duration": 234,
        "start_time": "2023-08-31T11:18:50.382Z"
      },
      {
        "duration": 226,
        "start_time": "2023-08-31T11:18:50.617Z"
      },
      {
        "duration": 7,
        "start_time": "2023-08-31T11:18:50.844Z"
      },
      {
        "duration": 36,
        "start_time": "2023-08-31T11:18:50.852Z"
      },
      {
        "duration": 14,
        "start_time": "2023-08-31T11:18:50.890Z"
      },
      {
        "duration": 26,
        "start_time": "2023-08-31T11:18:50.905Z"
      },
      {
        "duration": 7,
        "start_time": "2023-08-31T11:18:50.933Z"
      },
      {
        "duration": 33,
        "start_time": "2023-08-31T11:18:50.941Z"
      },
      {
        "duration": 35,
        "start_time": "2023-08-31T11:18:50.976Z"
      },
      {
        "duration": 19,
        "start_time": "2023-08-31T11:18:51.012Z"
      },
      {
        "duration": 1105,
        "start_time": "2023-08-31T11:22:17.685Z"
      },
      {
        "duration": 124,
        "start_time": "2023-08-31T11:25:52.092Z"
      },
      {
        "duration": 283,
        "start_time": "2023-08-31T11:27:31.414Z"
      },
      {
        "duration": 209,
        "start_time": "2023-08-31T11:30:22.485Z"
      },
      {
        "duration": 231,
        "start_time": "2023-08-31T11:30:33.359Z"
      },
      {
        "duration": 188,
        "start_time": "2023-08-31T11:31:51.760Z"
      },
      {
        "duration": 215,
        "start_time": "2023-08-31T11:32:18.420Z"
      },
      {
        "duration": 300,
        "start_time": "2023-08-31T11:35:24.616Z"
      },
      {
        "duration": 160,
        "start_time": "2023-08-31T11:37:53.308Z"
      },
      {
        "duration": 171,
        "start_time": "2023-08-31T11:38:20.266Z"
      },
      {
        "duration": 139,
        "start_time": "2023-08-31T11:41:01.189Z"
      },
      {
        "duration": 15,
        "start_time": "2023-08-31T11:43:26.733Z"
      },
      {
        "duration": 15,
        "start_time": "2023-08-31T11:47:07.573Z"
      },
      {
        "duration": 12,
        "start_time": "2023-08-31T11:47:31.278Z"
      },
      {
        "duration": 13,
        "start_time": "2023-08-31T11:47:40.814Z"
      },
      {
        "duration": 13,
        "start_time": "2023-08-31T11:49:01.695Z"
      },
      {
        "duration": 13,
        "start_time": "2023-08-31T11:50:01.084Z"
      },
      {
        "duration": 7,
        "start_time": "2023-08-31T11:52:08.754Z"
      },
      {
        "duration": 37,
        "start_time": "2023-08-31T11:52:32.258Z"
      },
      {
        "duration": 15,
        "start_time": "2023-08-31T11:59:02.876Z"
      },
      {
        "duration": 14,
        "start_time": "2023-08-31T11:59:49.203Z"
      },
      {
        "duration": 14,
        "start_time": "2023-08-31T12:05:06.605Z"
      },
      {
        "duration": 14,
        "start_time": "2023-08-31T12:05:53.343Z"
      },
      {
        "duration": 15,
        "start_time": "2023-08-31T12:06:07.117Z"
      },
      {
        "duration": 14,
        "start_time": "2023-08-31T12:06:55.259Z"
      },
      {
        "duration": 15,
        "start_time": "2023-08-31T12:07:08.771Z"
      },
      {
        "duration": 13,
        "start_time": "2023-08-31T12:08:10.405Z"
      },
      {
        "duration": 168,
        "start_time": "2023-08-31T12:14:38.636Z"
      },
      {
        "duration": 181,
        "start_time": "2023-08-31T12:14:43.283Z"
      },
      {
        "duration": 171,
        "start_time": "2023-08-31T12:14:45.885Z"
      },
      {
        "duration": 224,
        "start_time": "2023-08-31T12:14:48.660Z"
      },
      {
        "duration": 100,
        "start_time": "2023-08-31T12:15:35.773Z"
      },
      {
        "duration": 225,
        "start_time": "2023-08-31T12:19:11.669Z"
      },
      {
        "duration": 97,
        "start_time": "2023-08-31T12:19:51.588Z"
      },
      {
        "duration": 236,
        "start_time": "2023-08-31T12:20:02.955Z"
      },
      {
        "duration": 4,
        "start_time": "2023-08-31T12:23:55.325Z"
      },
      {
        "duration": 19,
        "start_time": "2023-08-31T12:23:59.213Z"
      },
      {
        "duration": 23,
        "start_time": "2023-08-31T12:28:13.373Z"
      },
      {
        "duration": 6,
        "start_time": "2023-08-31T12:47:16.427Z"
      },
      {
        "duration": 8,
        "start_time": "2023-08-31T12:47:21.138Z"
      },
      {
        "duration": 5,
        "start_time": "2023-08-31T12:47:25.002Z"
      },
      {
        "duration": 5,
        "start_time": "2023-08-31T12:47:33.460Z"
      },
      {
        "duration": 116,
        "start_time": "2023-09-01T10:42:16.014Z"
      },
      {
        "duration": 1353,
        "start_time": "2023-09-01T12:23:30.182Z"
      },
      {
        "duration": 96,
        "start_time": "2023-09-01T12:23:31.537Z"
      },
      {
        "duration": 5,
        "start_time": "2023-09-01T12:23:31.634Z"
      },
      {
        "duration": 69,
        "start_time": "2023-09-01T12:23:31.641Z"
      },
      {
        "duration": 47,
        "start_time": "2023-09-01T12:23:31.711Z"
      },
      {
        "duration": 73,
        "start_time": "2023-09-01T12:23:31.760Z"
      },
      {
        "duration": 19,
        "start_time": "2023-09-01T12:23:31.836Z"
      },
      {
        "duration": 39,
        "start_time": "2023-09-01T12:23:31.857Z"
      },
      {
        "duration": 35,
        "start_time": "2023-09-01T12:23:31.897Z"
      },
      {
        "duration": 49,
        "start_time": "2023-09-01T12:23:31.936Z"
      },
      {
        "duration": 22,
        "start_time": "2023-09-01T12:23:31.987Z"
      },
      {
        "duration": 40,
        "start_time": "2023-09-01T12:23:32.011Z"
      },
      {
        "duration": 40,
        "start_time": "2023-09-01T12:23:32.053Z"
      },
      {
        "duration": 46,
        "start_time": "2023-09-01T12:23:32.095Z"
      },
      {
        "duration": 24,
        "start_time": "2023-09-01T12:23:32.143Z"
      },
      {
        "duration": 52,
        "start_time": "2023-09-01T12:23:32.169Z"
      },
      {
        "duration": 20,
        "start_time": "2023-09-01T12:23:32.223Z"
      },
      {
        "duration": 33,
        "start_time": "2023-09-01T12:23:32.245Z"
      },
      {
        "duration": 30,
        "start_time": "2023-09-01T12:23:32.280Z"
      },
      {
        "duration": 24,
        "start_time": "2023-09-01T12:23:32.312Z"
      },
      {
        "duration": 347,
        "start_time": "2023-09-01T12:23:32.338Z"
      },
      {
        "duration": 15,
        "start_time": "2023-09-01T12:23:32.687Z"
      },
      {
        "duration": 193,
        "start_time": "2023-09-01T12:23:32.704Z"
      },
      {
        "duration": 203,
        "start_time": "2023-09-01T12:23:32.899Z"
      },
      {
        "duration": 180,
        "start_time": "2023-09-01T12:23:33.104Z"
      },
      {
        "duration": 158,
        "start_time": "2023-09-01T12:23:33.286Z"
      },
      {
        "duration": 4,
        "start_time": "2023-09-01T12:23:33.446Z"
      },
      {
        "duration": 56,
        "start_time": "2023-09-01T12:23:33.454Z"
      },
      {
        "duration": 254,
        "start_time": "2023-09-01T12:23:33.511Z"
      },
      {
        "duration": 10,
        "start_time": "2023-09-01T12:23:33.767Z"
      },
      {
        "duration": 1808,
        "start_time": "2023-09-01T12:23:33.778Z"
      },
      {
        "duration": 26,
        "start_time": "2023-09-01T12:23:35.588Z"
      },
      {
        "duration": 12,
        "start_time": "2023-09-01T12:23:35.615Z"
      },
      {
        "duration": 5308,
        "start_time": "2023-09-01T12:23:35.628Z"
      },
      {
        "duration": 17540,
        "start_time": "2023-09-01T12:23:40.938Z"
      },
      {
        "duration": 28,
        "start_time": "2023-09-01T12:23:58.479Z"
      },
      {
        "duration": 88,
        "start_time": "2023-09-01T12:23:58.508Z"
      },
      {
        "duration": 42,
        "start_time": "2023-09-01T12:23:58.598Z"
      },
      {
        "duration": 320,
        "start_time": "2023-09-01T12:23:58.642Z"
      },
      {
        "duration": 299,
        "start_time": "2023-09-01T12:23:58.963Z"
      },
      {
        "duration": 11,
        "start_time": "2023-09-01T12:23:59.264Z"
      },
      {
        "duration": 139,
        "start_time": "2023-09-01T12:23:59.276Z"
      },
      {
        "duration": 267,
        "start_time": "2023-09-01T12:23:59.423Z"
      },
      {
        "duration": 11,
        "start_time": "2023-09-01T12:23:59.692Z"
      },
      {
        "duration": 25,
        "start_time": "2023-09-01T12:23:59.705Z"
      },
      {
        "duration": 285,
        "start_time": "2023-09-01T12:23:59.731Z"
      },
      {
        "duration": 287,
        "start_time": "2023-09-01T12:24:00.017Z"
      },
      {
        "duration": 214,
        "start_time": "2023-09-01T12:24:00.306Z"
      },
      {
        "duration": 17,
        "start_time": "2023-09-01T12:24:00.524Z"
      },
      {
        "duration": 47,
        "start_time": "2023-09-01T12:24:00.543Z"
      },
      {
        "duration": 350,
        "start_time": "2023-09-01T12:24:00.593Z"
      },
      {
        "duration": 190,
        "start_time": "2023-09-01T12:24:00.946Z"
      },
      {
        "duration": 209,
        "start_time": "2023-09-01T12:24:01.137Z"
      },
      {
        "duration": 196,
        "start_time": "2023-09-01T12:24:01.348Z"
      },
      {
        "duration": 236,
        "start_time": "2023-09-01T12:24:01.546Z"
      },
      {
        "duration": 241,
        "start_time": "2023-09-01T12:24:01.783Z"
      },
      {
        "duration": 4,
        "start_time": "2023-09-01T12:24:02.025Z"
      },
      {
        "duration": 40,
        "start_time": "2023-09-01T12:24:02.031Z"
      },
      {
        "duration": 60,
        "start_time": "2023-09-01T12:24:02.072Z"
      },
      {
        "duration": 26,
        "start_time": "2023-09-01T12:24:02.134Z"
      },
      {
        "duration": 23,
        "start_time": "2023-09-01T12:24:02.162Z"
      },
      {
        "duration": 23,
        "start_time": "2023-09-01T12:24:02.187Z"
      },
      {
        "duration": 47,
        "start_time": "2023-09-01T12:24:02.212Z"
      },
      {
        "duration": 26,
        "start_time": "2023-09-01T12:24:02.260Z"
      },
      {
        "duration": 23,
        "start_time": "2023-09-01T12:24:02.288Z"
      },
      {
        "duration": 143,
        "start_time": "2023-09-01T13:30:31.912Z"
      },
      {
        "duration": 156,
        "start_time": "2023-09-01T13:30:44.808Z"
      },
      {
        "duration": 102,
        "start_time": "2023-09-01T13:35:16.005Z"
      },
      {
        "duration": 76,
        "start_time": "2023-09-01T13:35:42.517Z"
      },
      {
        "duration": 86,
        "start_time": "2023-09-01T13:37:32.806Z"
      },
      {
        "duration": 96,
        "start_time": "2023-09-01T13:43:07.723Z"
      },
      {
        "duration": 51,
        "start_time": "2023-09-01T17:42:01.832Z"
      },
      {
        "duration": 1515,
        "start_time": "2023-09-01T17:42:11.527Z"
      },
      {
        "duration": 123,
        "start_time": "2023-09-01T17:42:13.044Z"
      },
      {
        "duration": 6,
        "start_time": "2023-09-01T17:42:13.168Z"
      },
      {
        "duration": 20,
        "start_time": "2023-09-01T17:42:13.177Z"
      },
      {
        "duration": 23,
        "start_time": "2023-09-01T17:42:13.199Z"
      },
      {
        "duration": 17,
        "start_time": "2023-09-01T17:42:13.225Z"
      },
      {
        "duration": 4,
        "start_time": "2023-09-01T17:42:13.244Z"
      },
      {
        "duration": 15,
        "start_time": "2023-09-01T17:42:13.251Z"
      },
      {
        "duration": 27,
        "start_time": "2023-09-01T17:42:13.268Z"
      },
      {
        "duration": 42,
        "start_time": "2023-09-01T17:42:13.303Z"
      },
      {
        "duration": 14,
        "start_time": "2023-09-01T17:42:13.347Z"
      },
      {
        "duration": 3,
        "start_time": "2023-09-01T17:42:13.363Z"
      },
      {
        "duration": 11,
        "start_time": "2023-09-01T17:42:13.368Z"
      },
      {
        "duration": 15,
        "start_time": "2023-09-01T17:42:13.381Z"
      },
      {
        "duration": 36,
        "start_time": "2023-09-01T17:42:13.398Z"
      },
      {
        "duration": 26,
        "start_time": "2023-09-01T17:42:13.436Z"
      },
      {
        "duration": 12,
        "start_time": "2023-09-01T17:42:13.464Z"
      },
      {
        "duration": 10,
        "start_time": "2023-09-01T17:42:13.478Z"
      },
      {
        "duration": 32,
        "start_time": "2023-09-01T17:42:13.489Z"
      },
      {
        "duration": 12,
        "start_time": "2023-09-01T17:42:13.523Z"
      },
      {
        "duration": 326,
        "start_time": "2023-09-01T17:42:13.536Z"
      },
      {
        "duration": 16,
        "start_time": "2023-09-01T17:42:13.864Z"
      },
      {
        "duration": 214,
        "start_time": "2023-09-01T17:42:13.882Z"
      },
      {
        "duration": 242,
        "start_time": "2023-09-01T17:42:14.101Z"
      },
      {
        "duration": 217,
        "start_time": "2023-09-01T17:42:14.345Z"
      },
      {
        "duration": 210,
        "start_time": "2023-09-01T17:42:14.563Z"
      },
      {
        "duration": 6,
        "start_time": "2023-09-01T17:42:14.775Z"
      },
      {
        "duration": 39,
        "start_time": "2023-09-01T17:42:14.802Z"
      },
      {
        "duration": 320,
        "start_time": "2023-09-01T17:42:14.843Z"
      },
      {
        "duration": 11,
        "start_time": "2023-09-01T17:42:15.164Z"
      },
      {
        "duration": 2185,
        "start_time": "2023-09-01T17:42:15.177Z"
      },
      {
        "duration": 28,
        "start_time": "2023-09-01T17:42:17.364Z"
      },
      {
        "duration": 6,
        "start_time": "2023-09-01T17:42:17.402Z"
      },
      {
        "duration": 6027,
        "start_time": "2023-09-01T17:42:17.410Z"
      },
      {
        "duration": 21093,
        "start_time": "2023-09-01T17:42:23.439Z"
      },
      {
        "duration": 32,
        "start_time": "2023-09-01T17:42:44.535Z"
      },
      {
        "duration": 5,
        "start_time": "2023-09-01T17:42:44.569Z"
      },
      {
        "duration": 32,
        "start_time": "2023-09-01T17:42:44.576Z"
      },
      {
        "duration": 446,
        "start_time": "2023-09-01T17:42:44.612Z"
      },
      {
        "duration": 369,
        "start_time": "2023-09-01T17:42:45.060Z"
      },
      {
        "duration": 14,
        "start_time": "2023-09-01T17:42:45.431Z"
      },
      {
        "duration": 195,
        "start_time": "2023-09-01T17:42:45.447Z"
      },
      {
        "duration": 363,
        "start_time": "2023-09-01T17:42:45.645Z"
      },
      {
        "duration": 23,
        "start_time": "2023-09-01T17:42:46.010Z"
      },
      {
        "duration": 24,
        "start_time": "2023-09-01T17:42:46.035Z"
      },
      {
        "duration": 353,
        "start_time": "2023-09-01T17:42:46.062Z"
      },
      {
        "duration": 332,
        "start_time": "2023-09-01T17:42:46.423Z"
      },
      {
        "duration": 281,
        "start_time": "2023-09-01T17:42:46.757Z"
      },
      {
        "duration": 15,
        "start_time": "2023-09-01T17:42:47.040Z"
      },
      {
        "duration": 39,
        "start_time": "2023-09-01T17:42:47.056Z"
      },
      {
        "duration": 380,
        "start_time": "2023-09-01T17:42:47.097Z"
      },
      {
        "duration": 245,
        "start_time": "2023-09-01T17:42:47.479Z"
      },
      {
        "duration": 237,
        "start_time": "2023-09-01T17:42:47.726Z"
      },
      {
        "duration": 252,
        "start_time": "2023-09-01T17:42:47.966Z"
      },
      {
        "duration": 277,
        "start_time": "2023-09-01T17:42:48.226Z"
      },
      {
        "duration": 327,
        "start_time": "2023-09-01T17:42:48.505Z"
      },
      {
        "duration": 5,
        "start_time": "2023-09-01T17:42:48.834Z"
      },
      {
        "duration": 34,
        "start_time": "2023-09-01T17:42:48.841Z"
      },
      {
        "duration": 48,
        "start_time": "2023-09-01T17:42:48.877Z"
      },
      {
        "duration": 13,
        "start_time": "2023-09-01T17:42:48.927Z"
      },
      {
        "duration": 6,
        "start_time": "2023-09-01T17:42:48.941Z"
      },
      {
        "duration": 9,
        "start_time": "2023-09-01T17:42:48.949Z"
      },
      {
        "duration": 24,
        "start_time": "2023-09-01T17:42:48.960Z"
      },
      {
        "duration": 35,
        "start_time": "2023-09-01T17:42:48.985Z"
      },
      {
        "duration": 21,
        "start_time": "2023-09-01T17:42:49.026Z"
      },
      {
        "duration": 84,
        "start_time": "2023-09-01T19:40:57.579Z"
      },
      {
        "duration": 2,
        "start_time": "2023-09-01T20:14:25.870Z"
      },
      {
        "duration": 2,
        "start_time": "2023-09-01T20:14:55.475Z"
      },
      {
        "duration": 6,
        "start_time": "2023-09-01T20:17:13.739Z"
      },
      {
        "duration": 297,
        "start_time": "2023-09-01T20:18:03.429Z"
      },
      {
        "duration": 1453,
        "start_time": "2023-09-01T20:18:55.777Z"
      },
      {
        "duration": 13,
        "start_time": "2023-09-01T20:19:06.868Z"
      },
      {
        "duration": 1224,
        "start_time": "2023-09-01T20:19:18.590Z"
      },
      {
        "duration": 55,
        "start_time": "2023-09-01T20:19:19.816Z"
      },
      {
        "duration": 5,
        "start_time": "2023-09-01T20:19:19.873Z"
      },
      {
        "duration": 21,
        "start_time": "2023-09-01T20:19:19.880Z"
      },
      {
        "duration": 24,
        "start_time": "2023-09-01T20:19:19.902Z"
      },
      {
        "duration": 33,
        "start_time": "2023-09-01T20:19:19.927Z"
      },
      {
        "duration": 28,
        "start_time": "2023-09-01T20:19:19.962Z"
      },
      {
        "duration": 12,
        "start_time": "2023-09-01T20:19:19.991Z"
      },
      {
        "duration": 39,
        "start_time": "2023-09-01T20:19:20.004Z"
      },
      {
        "duration": 27,
        "start_time": "2023-09-01T20:19:20.047Z"
      },
      {
        "duration": 27,
        "start_time": "2023-09-01T20:19:20.076Z"
      },
      {
        "duration": 3,
        "start_time": "2023-09-01T20:19:20.105Z"
      },
      {
        "duration": 25,
        "start_time": "2023-09-01T20:19:20.110Z"
      },
      {
        "duration": 8,
        "start_time": "2023-09-01T20:19:20.136Z"
      },
      {
        "duration": 31,
        "start_time": "2023-09-01T20:19:20.145Z"
      },
      {
        "duration": 16,
        "start_time": "2023-09-01T20:19:20.178Z"
      },
      {
        "duration": 10,
        "start_time": "2023-09-01T20:19:20.196Z"
      },
      {
        "duration": 9,
        "start_time": "2023-09-01T20:19:20.208Z"
      },
      {
        "duration": 12,
        "start_time": "2023-09-01T20:19:20.219Z"
      },
      {
        "duration": 15,
        "start_time": "2023-09-01T20:19:20.233Z"
      },
      {
        "duration": 312,
        "start_time": "2023-09-01T20:19:20.250Z"
      },
      {
        "duration": 15,
        "start_time": "2023-09-01T20:19:20.563Z"
      },
      {
        "duration": 190,
        "start_time": "2023-09-01T20:19:20.579Z"
      },
      {
        "duration": 204,
        "start_time": "2023-09-01T20:19:20.771Z"
      },
      {
        "duration": 201,
        "start_time": "2023-09-01T20:19:20.977Z"
      },
      {
        "duration": 170,
        "start_time": "2023-09-01T20:19:21.180Z"
      },
      {
        "duration": 6,
        "start_time": "2023-09-01T20:19:21.351Z"
      },
      {
        "duration": 31,
        "start_time": "2023-09-01T20:19:21.360Z"
      },
      {
        "duration": 263,
        "start_time": "2023-09-01T20:19:21.393Z"
      },
      {
        "duration": 11,
        "start_time": "2023-09-01T20:19:21.658Z"
      },
      {
        "duration": 1919,
        "start_time": "2023-09-01T20:19:21.670Z"
      },
      {
        "duration": 2,
        "start_time": "2023-09-01T20:19:23.591Z"
      },
      {
        "duration": 9,
        "start_time": "2023-09-01T20:19:23.602Z"
      },
      {
        "duration": 116,
        "start_time": "2023-09-01T20:19:23.612Z"
      },
      {
        "duration": 0,
        "start_time": "2023-09-01T20:19:23.729Z"
      },
      {
        "duration": 0,
        "start_time": "2023-09-01T20:19:23.731Z"
      },
      {
        "duration": 0,
        "start_time": "2023-09-01T20:19:23.732Z"
      },
      {
        "duration": 0,
        "start_time": "2023-09-01T20:19:23.733Z"
      },
      {
        "duration": 0,
        "start_time": "2023-09-01T20:19:23.734Z"
      },
      {
        "duration": 0,
        "start_time": "2023-09-01T20:19:23.735Z"
      },
      {
        "duration": 0,
        "start_time": "2023-09-01T20:19:23.736Z"
      },
      {
        "duration": 0,
        "start_time": "2023-09-01T20:19:23.738Z"
      },
      {
        "duration": 0,
        "start_time": "2023-09-01T20:19:23.739Z"
      },
      {
        "duration": 0,
        "start_time": "2023-09-01T20:19:23.740Z"
      },
      {
        "duration": 0,
        "start_time": "2023-09-01T20:19:23.741Z"
      },
      {
        "duration": 0,
        "start_time": "2023-09-01T20:19:23.742Z"
      },
      {
        "duration": 0,
        "start_time": "2023-09-01T20:19:23.743Z"
      },
      {
        "duration": 0,
        "start_time": "2023-09-01T20:19:23.744Z"
      },
      {
        "duration": 0,
        "start_time": "2023-09-01T20:19:23.745Z"
      },
      {
        "duration": 0,
        "start_time": "2023-09-01T20:19:23.746Z"
      },
      {
        "duration": 0,
        "start_time": "2023-09-01T20:19:23.747Z"
      },
      {
        "duration": 0,
        "start_time": "2023-09-01T20:19:23.748Z"
      },
      {
        "duration": 0,
        "start_time": "2023-09-01T20:19:23.749Z"
      },
      {
        "duration": 0,
        "start_time": "2023-09-01T20:19:23.751Z"
      },
      {
        "duration": 0,
        "start_time": "2023-09-01T20:19:23.752Z"
      },
      {
        "duration": 0,
        "start_time": "2023-09-01T20:19:23.753Z"
      },
      {
        "duration": 0,
        "start_time": "2023-09-01T20:19:23.753Z"
      },
      {
        "duration": 0,
        "start_time": "2023-09-01T20:19:23.755Z"
      },
      {
        "duration": 0,
        "start_time": "2023-09-01T20:19:23.755Z"
      },
      {
        "duration": 0,
        "start_time": "2023-09-01T20:19:23.757Z"
      },
      {
        "duration": 0,
        "start_time": "2023-09-01T20:19:23.801Z"
      },
      {
        "duration": 0,
        "start_time": "2023-09-01T20:19:23.802Z"
      },
      {
        "duration": 0,
        "start_time": "2023-09-01T20:19:23.804Z"
      },
      {
        "duration": 0,
        "start_time": "2023-09-01T20:19:23.805Z"
      },
      {
        "duration": 9,
        "start_time": "2023-09-01T20:24:26.717Z"
      },
      {
        "duration": 11,
        "start_time": "2023-09-01T20:26:44.278Z"
      },
      {
        "duration": 6,
        "start_time": "2023-09-01T20:32:35.993Z"
      },
      {
        "duration": 14,
        "start_time": "2023-09-01T20:32:46.161Z"
      },
      {
        "duration": 15,
        "start_time": "2023-09-01T20:32:48.795Z"
      },
      {
        "duration": 4,
        "start_time": "2023-09-01T20:33:11.585Z"
      },
      {
        "duration": 18310,
        "start_time": "2023-09-01T20:33:15.204Z"
      },
      {
        "duration": 27,
        "start_time": "2023-09-01T20:33:40.318Z"
      },
      {
        "duration": 5,
        "start_time": "2023-09-01T20:33:43.772Z"
      },
      {
        "duration": 7,
        "start_time": "2023-09-01T20:33:54.680Z"
      },
      {
        "duration": 314,
        "start_time": "2023-09-01T20:33:57.444Z"
      },
      {
        "duration": 311,
        "start_time": "2023-09-01T20:34:03.650Z"
      },
      {
        "duration": 13,
        "start_time": "2023-09-01T20:34:08.919Z"
      },
      {
        "duration": 141,
        "start_time": "2023-09-01T20:34:12.026Z"
      },
      {
        "duration": 284,
        "start_time": "2023-09-01T20:34:25.375Z"
      },
      {
        "duration": 12,
        "start_time": "2023-09-01T20:34:33.217Z"
      },
      {
        "duration": 13,
        "start_time": "2023-09-01T20:34:35.730Z"
      },
      {
        "duration": 287,
        "start_time": "2023-09-01T20:34:39.048Z"
      },
      {
        "duration": 281,
        "start_time": "2023-09-01T20:34:42.653Z"
      },
      {
        "duration": 194,
        "start_time": "2023-09-01T20:34:47.888Z"
      },
      {
        "duration": 14,
        "start_time": "2023-09-01T20:34:51.936Z"
      },
      {
        "duration": 14,
        "start_time": "2023-09-01T20:34:54.316Z"
      },
      {
        "duration": 321,
        "start_time": "2023-09-01T20:34:56.611Z"
      },
      {
        "duration": 217,
        "start_time": "2023-09-01T20:35:02.804Z"
      },
      {
        "duration": 211,
        "start_time": "2023-09-01T20:35:06.693Z"
      },
      {
        "duration": 184,
        "start_time": "2023-09-01T20:35:09.320Z"
      },
      {
        "duration": 272,
        "start_time": "2023-09-01T20:35:11.806Z"
      },
      {
        "duration": 271,
        "start_time": "2023-09-01T20:35:17.904Z"
      },
      {
        "duration": 4,
        "start_time": "2023-09-01T20:35:23.032Z"
      },
      {
        "duration": 19,
        "start_time": "2023-09-01T20:35:25.614Z"
      },
      {
        "duration": 17,
        "start_time": "2023-09-01T20:35:29.145Z"
      },
      {
        "duration": 8,
        "start_time": "2023-09-01T20:35:33.885Z"
      },
      {
        "duration": 5,
        "start_time": "2023-09-01T20:35:38.048Z"
      },
      {
        "duration": 6,
        "start_time": "2023-09-01T20:35:42.946Z"
      },
      {
        "duration": 9,
        "start_time": "2023-09-01T20:35:49.458Z"
      },
      {
        "duration": 5,
        "start_time": "2023-09-01T20:35:54.841Z"
      },
      {
        "duration": 6,
        "start_time": "2023-09-01T20:35:56.965Z"
      },
      {
        "duration": 1387,
        "start_time": "2023-09-02T07:05:33.103Z"
      },
      {
        "duration": 143,
        "start_time": "2023-09-02T07:05:34.494Z"
      },
      {
        "duration": 6,
        "start_time": "2023-09-02T07:05:34.638Z"
      },
      {
        "duration": 34,
        "start_time": "2023-09-02T07:05:34.646Z"
      },
      {
        "duration": 15,
        "start_time": "2023-09-02T07:05:34.683Z"
      },
      {
        "duration": 15,
        "start_time": "2023-09-02T07:05:34.700Z"
      },
      {
        "duration": 4,
        "start_time": "2023-09-02T07:05:34.716Z"
      },
      {
        "duration": 10,
        "start_time": "2023-09-02T07:05:34.722Z"
      },
      {
        "duration": 42,
        "start_time": "2023-09-02T07:05:34.734Z"
      },
      {
        "duration": 16,
        "start_time": "2023-09-02T07:05:34.779Z"
      },
      {
        "duration": 15,
        "start_time": "2023-09-02T07:05:34.797Z"
      },
      {
        "duration": 7,
        "start_time": "2023-09-02T07:05:34.814Z"
      },
      {
        "duration": 5,
        "start_time": "2023-09-02T07:05:34.823Z"
      },
      {
        "duration": 18,
        "start_time": "2023-09-02T07:05:34.829Z"
      },
      {
        "duration": 31,
        "start_time": "2023-09-02T07:05:34.848Z"
      },
      {
        "duration": 14,
        "start_time": "2023-09-02T07:05:34.883Z"
      },
      {
        "duration": 8,
        "start_time": "2023-09-02T07:05:34.899Z"
      },
      {
        "duration": 14,
        "start_time": "2023-09-02T07:05:34.909Z"
      },
      {
        "duration": 18,
        "start_time": "2023-09-02T07:05:34.925Z"
      },
      {
        "duration": 300,
        "start_time": "2023-09-02T07:05:34.944Z"
      },
      {
        "duration": 35,
        "start_time": "2023-09-02T07:05:35.245Z"
      },
      {
        "duration": 184,
        "start_time": "2023-09-02T07:05:35.282Z"
      },
      {
        "duration": 226,
        "start_time": "2023-09-02T07:05:35.469Z"
      },
      {
        "duration": 191,
        "start_time": "2023-09-02T07:05:35.697Z"
      },
      {
        "duration": 210,
        "start_time": "2023-09-02T07:05:35.889Z"
      },
      {
        "duration": 7,
        "start_time": "2023-09-02T07:05:36.101Z"
      },
      {
        "duration": 27,
        "start_time": "2023-09-02T07:05:36.110Z"
      },
      {
        "duration": 320,
        "start_time": "2023-09-02T07:05:36.156Z"
      },
      {
        "duration": 9,
        "start_time": "2023-09-02T07:05:36.484Z"
      },
      {
        "duration": 1892,
        "start_time": "2023-09-02T07:05:36.495Z"
      },
      {
        "duration": 2,
        "start_time": "2023-09-02T07:05:38.389Z"
      },
      {
        "duration": 16,
        "start_time": "2023-09-02T07:05:38.393Z"
      },
      {
        "duration": 5,
        "start_time": "2023-09-02T07:05:38.410Z"
      },
      {
        "duration": 18958,
        "start_time": "2023-09-02T07:05:38.416Z"
      },
      {
        "duration": 36,
        "start_time": "2023-09-02T07:05:57.376Z"
      },
      {
        "duration": 6,
        "start_time": "2023-09-02T07:05:57.414Z"
      },
      {
        "duration": 11,
        "start_time": "2023-09-02T07:05:57.422Z"
      },
      {
        "duration": 357,
        "start_time": "2023-09-02T07:05:57.435Z"
      },
      {
        "duration": 323,
        "start_time": "2023-09-02T07:05:57.794Z"
      },
      {
        "duration": 11,
        "start_time": "2023-09-02T07:05:58.118Z"
      },
      {
        "duration": 160,
        "start_time": "2023-09-02T07:05:58.131Z"
      },
      {
        "duration": 300,
        "start_time": "2023-09-02T07:05:58.292Z"
      },
      {
        "duration": 14,
        "start_time": "2023-09-02T07:05:58.594Z"
      },
      {
        "duration": 13,
        "start_time": "2023-09-02T07:05:58.609Z"
      },
      {
        "duration": 342,
        "start_time": "2023-09-02T07:05:58.624Z"
      },
      {
        "duration": 308,
        "start_time": "2023-09-02T07:05:58.969Z"
      },
      {
        "duration": 207,
        "start_time": "2023-09-02T07:05:59.278Z"
      },
      {
        "duration": 14,
        "start_time": "2023-09-02T07:05:59.487Z"
      },
      {
        "duration": 12,
        "start_time": "2023-09-02T07:05:59.503Z"
      },
      {
        "duration": 341,
        "start_time": "2023-09-02T07:05:59.516Z"
      },
      {
        "duration": 223,
        "start_time": "2023-09-02T07:05:59.860Z"
      },
      {
        "duration": 219,
        "start_time": "2023-09-02T07:06:00.084Z"
      },
      {
        "duration": 208,
        "start_time": "2023-09-02T07:06:00.305Z"
      },
      {
        "duration": 360,
        "start_time": "2023-09-02T07:06:00.516Z"
      },
      {
        "duration": 287,
        "start_time": "2023-09-02T07:06:00.884Z"
      },
      {
        "duration": 10,
        "start_time": "2023-09-02T07:06:01.172Z"
      },
      {
        "duration": 78,
        "start_time": "2023-09-02T07:06:01.184Z"
      },
      {
        "duration": 115,
        "start_time": "2023-09-02T07:06:01.264Z"
      },
      {
        "duration": 35,
        "start_time": "2023-09-02T07:06:01.382Z"
      },
      {
        "duration": 74,
        "start_time": "2023-09-02T07:06:01.419Z"
      },
      {
        "duration": 86,
        "start_time": "2023-09-02T07:06:01.494Z"
      },
      {
        "duration": 64,
        "start_time": "2023-09-02T07:06:01.582Z"
      },
      {
        "duration": 48,
        "start_time": "2023-09-02T07:06:01.647Z"
      },
      {
        "duration": 41,
        "start_time": "2023-09-02T07:06:01.697Z"
      },
      {
        "duration": 11,
        "start_time": "2023-09-02T07:07:14.188Z"
      },
      {
        "duration": 12,
        "start_time": "2023-09-02T07:07:17.444Z"
      },
      {
        "duration": 3,
        "start_time": "2023-09-02T07:16:32.779Z"
      },
      {
        "duration": 40,
        "start_time": "2023-09-02T07:16:53.739Z"
      },
      {
        "duration": 4,
        "start_time": "2023-09-02T07:16:59.130Z"
      },
      {
        "duration": 5,
        "start_time": "2023-09-02T07:19:30.080Z"
      },
      {
        "duration": 3,
        "start_time": "2023-09-02T07:19:50.100Z"
      },
      {
        "duration": 2,
        "start_time": "2023-09-02T07:19:54.001Z"
      },
      {
        "duration": 366,
        "start_time": "2023-09-02T07:20:05.820Z"
      },
      {
        "duration": 295,
        "start_time": "2023-09-02T07:24:18.923Z"
      },
      {
        "duration": 11,
        "start_time": "2023-09-02T07:41:45.389Z"
      },
      {
        "duration": 10,
        "start_time": "2023-09-02T07:42:02.300Z"
      },
      {
        "duration": 12,
        "start_time": "2023-09-02T07:42:27.885Z"
      },
      {
        "duration": 24,
        "start_time": "2023-09-02T07:42:30.241Z"
      },
      {
        "duration": 279,
        "start_time": "2023-09-02T07:42:44.026Z"
      },
      {
        "duration": 291,
        "start_time": "2023-09-02T07:42:49.112Z"
      },
      {
        "duration": 12,
        "start_time": "2023-09-02T07:44:47.980Z"
      },
      {
        "duration": 123,
        "start_time": "2023-09-02T07:44:51.280Z"
      },
      {
        "duration": 12,
        "start_time": "2023-09-02T07:45:16.907Z"
      },
      {
        "duration": 190,
        "start_time": "2023-09-02T07:45:25.035Z"
      },
      {
        "duration": 1425,
        "start_time": "2023-09-02T07:46:28.332Z"
      },
      {
        "duration": 12,
        "start_time": "2023-09-02T07:49:27.686Z"
      },
      {
        "duration": 14,
        "start_time": "2023-09-02T07:49:34.742Z"
      },
      {
        "duration": 301,
        "start_time": "2023-09-02T07:49:44.236Z"
      },
      {
        "duration": 264,
        "start_time": "2023-09-02T07:50:43.860Z"
      },
      {
        "duration": 182,
        "start_time": "2023-09-02T07:52:01.983Z"
      },
      {
        "duration": 17,
        "start_time": "2023-09-02T07:52:06.944Z"
      },
      {
        "duration": 272,
        "start_time": "2023-09-02T07:52:09.403Z"
      },
      {
        "duration": 289,
        "start_time": "2023-09-02T07:52:18.248Z"
      },
      {
        "duration": 362,
        "start_time": "2023-09-02T07:52:22.300Z"
      },
      {
        "duration": 187,
        "start_time": "2023-09-02T07:55:04.393Z"
      },
      {
        "duration": 178,
        "start_time": "2023-09-02T07:55:07.397Z"
      },
      {
        "duration": 220,
        "start_time": "2023-09-02T07:55:09.617Z"
      },
      {
        "duration": 270,
        "start_time": "2023-09-02T07:58:20.040Z"
      },
      {
        "duration": 4,
        "start_time": "2023-09-02T08:00:10.188Z"
      },
      {
        "duration": 15,
        "start_time": "2023-09-02T08:00:12.333Z"
      },
      {
        "duration": 15,
        "start_time": "2023-09-02T08:00:27.309Z"
      },
      {
        "duration": 9,
        "start_time": "2023-09-02T08:00:32.208Z"
      },
      {
        "duration": 5,
        "start_time": "2023-09-02T08:00:35.875Z"
      },
      {
        "duration": 6,
        "start_time": "2023-09-02T08:01:21.888Z"
      },
      {
        "duration": 10,
        "start_time": "2023-09-02T08:01:35.861Z"
      },
      {
        "duration": 6,
        "start_time": "2023-09-02T08:02:18.984Z"
      },
      {
        "duration": 1543,
        "start_time": "2023-09-02T13:09:32.327Z"
      },
      {
        "duration": 127,
        "start_time": "2023-09-02T13:09:33.872Z"
      },
      {
        "duration": 6,
        "start_time": "2023-09-02T13:09:34.001Z"
      },
      {
        "duration": 29,
        "start_time": "2023-09-02T13:09:34.009Z"
      },
      {
        "duration": 22,
        "start_time": "2023-09-02T13:09:34.039Z"
      },
      {
        "duration": 24,
        "start_time": "2023-09-02T13:09:34.063Z"
      },
      {
        "duration": 6,
        "start_time": "2023-09-02T13:09:34.089Z"
      },
      {
        "duration": 13,
        "start_time": "2023-09-02T13:09:34.097Z"
      },
      {
        "duration": 15,
        "start_time": "2023-09-02T13:09:34.112Z"
      },
      {
        "duration": 22,
        "start_time": "2023-09-02T13:09:34.151Z"
      },
      {
        "duration": 23,
        "start_time": "2023-09-02T13:09:34.176Z"
      },
      {
        "duration": 9,
        "start_time": "2023-09-02T13:09:34.202Z"
      },
      {
        "duration": 5,
        "start_time": "2023-09-02T13:09:34.213Z"
      },
      {
        "duration": 36,
        "start_time": "2023-09-02T13:09:34.220Z"
      },
      {
        "duration": 30,
        "start_time": "2023-09-02T13:09:34.259Z"
      },
      {
        "duration": 8,
        "start_time": "2023-09-02T13:09:34.291Z"
      },
      {
        "duration": 13,
        "start_time": "2023-09-02T13:09:34.300Z"
      },
      {
        "duration": 5,
        "start_time": "2023-09-02T13:09:34.314Z"
      },
      {
        "duration": 43,
        "start_time": "2023-09-02T13:09:34.322Z"
      },
      {
        "duration": 327,
        "start_time": "2023-09-02T13:09:34.367Z"
      },
      {
        "duration": 22,
        "start_time": "2023-09-02T13:09:34.696Z"
      },
      {
        "duration": 249,
        "start_time": "2023-09-02T13:09:34.721Z"
      },
      {
        "duration": 245,
        "start_time": "2023-09-02T13:09:34.972Z"
      },
      {
        "duration": 271,
        "start_time": "2023-09-02T13:09:35.219Z"
      },
      {
        "duration": 218,
        "start_time": "2023-09-02T13:09:35.493Z"
      },
      {
        "duration": 7,
        "start_time": "2023-09-02T13:09:35.713Z"
      },
      {
        "duration": 44,
        "start_time": "2023-09-02T13:09:35.722Z"
      },
      {
        "duration": 308,
        "start_time": "2023-09-02T13:09:35.771Z"
      },
      {
        "duration": 19,
        "start_time": "2023-09-02T13:09:36.080Z"
      },
      {
        "duration": 2165,
        "start_time": "2023-09-02T13:09:36.101Z"
      },
      {
        "duration": 2,
        "start_time": "2023-09-02T13:09:38.268Z"
      },
      {
        "duration": 18,
        "start_time": "2023-09-02T13:09:38.273Z"
      },
      {
        "duration": 7,
        "start_time": "2023-09-02T13:09:38.293Z"
      },
      {
        "duration": 62,
        "start_time": "2023-09-02T13:09:38.302Z"
      },
      {
        "duration": 6,
        "start_time": "2023-09-02T13:09:38.366Z"
      },
      {
        "duration": 7,
        "start_time": "2023-09-02T13:09:38.374Z"
      },
      {
        "duration": 363,
        "start_time": "2023-09-02T13:09:38.383Z"
      },
      {
        "duration": 380,
        "start_time": "2023-09-02T13:09:38.749Z"
      },
      {
        "duration": 24,
        "start_time": "2023-09-02T13:09:39.130Z"
      },
      {
        "duration": 180,
        "start_time": "2023-09-02T13:09:39.156Z"
      },
      {
        "duration": 363,
        "start_time": "2023-09-02T13:09:39.339Z"
      },
      {
        "duration": 14,
        "start_time": "2023-09-02T13:09:39.704Z"
      },
      {
        "duration": 44,
        "start_time": "2023-09-02T13:09:39.720Z"
      },
      {
        "duration": 449,
        "start_time": "2023-09-02T13:09:39.766Z"
      },
      {
        "duration": 379,
        "start_time": "2023-09-02T13:09:40.218Z"
      },
      {
        "duration": 241,
        "start_time": "2023-09-02T13:09:40.600Z"
      },
      {
        "duration": 25,
        "start_time": "2023-09-02T13:09:40.843Z"
      },
      {
        "duration": 14,
        "start_time": "2023-09-02T13:09:40.870Z"
      },
      {
        "duration": 364,
        "start_time": "2023-09-02T13:09:40.886Z"
      },
      {
        "duration": 237,
        "start_time": "2023-09-02T13:09:41.257Z"
      },
      {
        "duration": 232,
        "start_time": "2023-09-02T13:09:41.496Z"
      },
      {
        "duration": 255,
        "start_time": "2023-09-02T13:09:41.730Z"
      },
      {
        "duration": 328,
        "start_time": "2023-09-02T13:09:41.987Z"
      },
      {
        "duration": 419,
        "start_time": "2023-09-02T13:09:42.318Z"
      },
      {
        "duration": 9,
        "start_time": "2023-09-02T13:09:42.739Z"
      },
      {
        "duration": 37,
        "start_time": "2023-09-02T13:09:42.754Z"
      },
      {
        "duration": 26,
        "start_time": "2023-09-02T13:09:42.793Z"
      },
      {
        "duration": 12,
        "start_time": "2023-09-02T13:09:42.822Z"
      },
      {
        "duration": 17,
        "start_time": "2023-09-02T13:09:42.848Z"
      },
      {
        "duration": 6,
        "start_time": "2023-09-02T13:09:42.867Z"
      },
      {
        "duration": 11,
        "start_time": "2023-09-02T13:09:42.875Z"
      },
      {
        "duration": 9,
        "start_time": "2023-09-02T13:09:42.888Z"
      },
      {
        "duration": 6,
        "start_time": "2023-09-02T13:09:42.899Z"
      },
      {
        "duration": 110,
        "start_time": "2023-09-03T06:36:18.116Z"
      },
      {
        "duration": 85,
        "start_time": "2023-09-04T17:16:01.535Z"
      }
    ],
    "kernelspec": {
      "display_name": "Python 3 (ipykernel)",
      "language": "python",
      "name": "python3"
    },
    "language_info": {
      "codemirror_mode": {
        "name": "ipython",
        "version": 3
      },
      "file_extension": ".py",
      "mimetype": "text/x-python",
      "name": "python",
      "nbconvert_exporter": "python",
      "pygments_lexer": "ipython3",
      "version": "3.9.5"
    },
    "toc": {
      "base_numbering": 1,
      "nav_menu": {
        "height": "214px",
        "width": "166px"
      },
      "number_sections": true,
      "sideBar": true,
      "skip_h1_title": true,
      "title_cell": "Table of Contents",
      "title_sidebar": "Contents",
      "toc_cell": false,
      "toc_position": {
        "height": "calc(100% - 180px)",
        "left": "10px",
        "top": "150px",
        "width": "271.551px"
      },
      "toc_section_display": true,
      "toc_window_display": false
    },
    "colab": {
      "provenance": [],
      "toc_visible": true
    }
  },
  "nbformat": 4,
  "nbformat_minor": 0
}